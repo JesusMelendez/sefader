{
 "cells": [
  {
   "cell_type": "code",
   "execution_count": 2,
   "metadata": {},
   "outputs": [],
   "source": [
    "import pandas as pd\n",
    "import numpy as np\n",
    "import geopandas as gpd\n",
    "import plotly.express as px\n",
    "from plotly_upset.plotting import plot_upset"
   ]
  },
  {
   "cell_type": "code",
   "execution_count": 2,
   "metadata": {},
   "outputs": [],
   "source": [
    "path_pol = r'../data/poligonos_sept.geojson'"
   ]
  },
  {
   "cell_type": "code",
   "execution_count": 3,
   "metadata": {},
   "outputs": [],
   "source": [
    "gdf = gpd.read_file(path_pol)"
   ]
  },
  {
   "cell_type": "code",
   "execution_count": 4,
   "metadata": {},
   "outputs": [],
   "source": [
    "df = pd.DataFrame(gdf)"
   ]
  },
  {
   "cell_type": "code",
   "execution_count": 5,
   "metadata": {},
   "outputs": [
    {
     "name": "stdout",
     "output_type": "stream",
     "text": [
      "<class 'pandas.core.frame.DataFrame'>\n",
      "RangeIndex: 3407 entries, 0 to 3406\n",
      "Data columns (total 86 columns):\n",
      " #   Column                                                                                             Non-Null Count  Dtype   \n",
      "---  ------                                                                                             --------------  -----   \n",
      " 0   ID.de.bitacora                                                                                     3407 non-null   object  \n",
      " 1   Tipo.de.superficie                                                                                 3407 non-null   object  \n",
      " 2   ID.del.productor                                                                                   2240 non-null   object  \n",
      " 3   CURP                                                                                               2240 non-null   object  \n",
      " 4   ID.parcela                                                                                         1930 non-null   object  \n",
      " 5   ID.del.sitio                                                                                       3407 non-null   object  \n",
      " 6   Nombre.de.la.Parcela                                                                               3407 non-null   object  \n",
      " 7   Estado.areas                                                                                       3407 non-null   object  \n",
      " 8   Municipio.areas                                                                                    3405 non-null   object  \n",
      " 9   Tipo.de.bitacora                                                                                   3407 non-null   object  \n",
      " 10  Anio.Bitacora                                                                                      3407 non-null   object  \n",
      " 11  Ciclo                                                                                              3407 non-null   object  \n",
      " 12  Regimen.hidrico                                                                                    3407 non-null   object  \n",
      " 13  Superficie.sembrada                                                                                3407 non-null   float64 \n",
      " 14  Superficie.Total.de.la.parcela                                                                     3407 non-null   float64 \n",
      " 15  Cultivo.1                                                                                          3407 non-null   object  \n",
      " 16  Cultivo.2                                                                                          1397 non-null   object  \n",
      " 17  Cultivo.3                                                                                          317 non-null    object  \n",
      " 18  Proyecto                                                                                           3407 non-null   object  \n",
      " 19  NOMBRE DEL USUARIO                                                                                 3195 non-null   object  \n",
      " 20  Id_Cultivos                                                                                        3407 non-null   object  \n",
      " 21  1_AC_Cultivos_de_cobertura                                                                         3407 non-null   int32   \n",
      " 22  2_AC_Fertilizadora_reformadora_aplicada_para_poder_hacer_AC                                        3407 non-null   int32   \n",
      " 23  3_AC_Implementos_para_acondicionamiento_de_parcela_anio_cero                                       3407 non-null   int32   \n",
      " 24  4_AC_Implementos_para_adaptar_maquinaria_convencional_para_uso_en_AC                               3407 non-null   int32   \n",
      " 25  5_AC_Inclusion_de_nuevos_cultivos_en_sistema_de_produccion_de_maiz_y_grano_pequenio                3407 non-null   int32   \n",
      " 26  6_AC_Labranza_en_lineas_de_Siembra                                                                 3407 non-null   int32   \n",
      " 27  7_AC_Manejo_de_rastrojo_uso_de_desmenuzadora_manual_o_mecanica                                     3407 non-null   int32   \n",
      " 28  8_AC_Maquinaria_en_AC_para_operaciones_en_practicas_de_labranza_cero_o_reducido                    3407 non-null   int32   \n",
      " 29  9_AC_Rotacion_Diversificacion_de_cultivos_con_cultivo_no_tradicional                               3407 non-null   int32   \n",
      " 30  10_AC_Roturacion_vertical_con_subsuelo_y_arado_de_cinceles_para_preparar_anio_cero                 3407 non-null   int32   \n",
      " 31  11_AC_Uso_de_camas_permanentes                                                                     3407 non-null   int32   \n",
      " 32  12_Arreglos_Densidades_de_siembra_optimos                                                          3407 non-null   int32   \n",
      " 33  13_Arreglos_Siembras_en_hileras_para_grano_pequenio                                                3407 non-null   int32   \n",
      " 34  14_Comerc_Incorporacion_de_nuevos_cultivos_de_alto_valor_con_orientacion_al_mercado                3407 non-null   int32   \n",
      " 35  15_Comerc_Uso_de_agricultura_por_contrato                                                          3407 non-null   int32   \n",
      " 36  16_Cons_Agua_Correccion_de_la_compactacion                                                         3407 non-null   int32   \n",
      " 37  17_Cons_Agua_Curvas_de_nivel_o_desnivel                                                            3407 non-null   int32   \n",
      " 38  18_Cons_Agua_Nivelacion_de_la_parcela                                                              3407 non-null   int32   \n",
      " 39  19_Cons_Agua_Nivelacion_de_suelos                                                                  3407 non-null   int32   \n",
      " 40  20_Cons_Agua_Obras_de_conservacion_de_suelo_y_agua                                                 3407 non-null   int32   \n",
      " 41  21_Cons_Agua_Riego_por_aspersion                                                                   3407 non-null   int32   \n",
      " 42  22_Cons_Agua_Riego_por_goteo                                                                       3407 non-null   int32   \n",
      " 43  23_Cons_Suelo_Curvas_a_nivel                                                                       3407 non-null   int32   \n",
      " 44  24_Cons_Suelo_Sistema_Milpa_Intercalado_con_Arboles_Frutales_MIAF                                  3407 non-null   int32   \n",
      " 45  25_Fert_Abonos_organicos_como_fuente_de_nutrientes_compostas                                       3407 non-null   int32   \n",
      " 46  26_Fert_Aplicacion_de_fertilizantes_foliares_de_acuerdo_con_la_etapa_fenologica_del_cultivo        3407 non-null   int32   \n",
      " 47  27_Fert_Aplicacion_del_fertilizante_en_momentos_adecuados                                          3407 non-null   int32   \n",
      " 48  28_Fert_Biofertilizantes_como_fuente_de_nutrientes                                                 3407 non-null   int32   \n",
      " 49  29_Fert_Enmiendas_de_suelo_cal_dolomita_y_yeso_agricola                                            3407 non-null   int32   \n",
      " 50  30_Fert_Fertilizantes_inorganicos_como_nutrientes_en_manera_y_cantidad_correcta                    3407 non-null   int32   \n",
      " 51  31_Fert_Forma_de_aplicacion_de_fertilizante_para_mejorar_efectividad                               3407 non-null   int32   \n",
      " 52  32_Fert_Herramientas_de_diagnostico_analisis_de_suelos                                             3407 non-null   int32   \n",
      " 53  33_Fert_Incorporacion_de_rastrojo_de_la_cosecha_anterior                                           3407 non-null   int32   \n",
      " 54  34_MIP_Caldos_minerales_agua_de_vidrio_caldo_sulfocalcico_caldo_ceniza_etc                         3407 non-null   int32   \n",
      " 55  35_MIP_Control_biologico_hongos_entomopatogenos_liberacion_de_insectos                             3407 non-null   int32   \n",
      " 56  36_MIP_Extractos_vegetales_tabaco_higuerilla_nim_etc                                               3407 non-null   int32   \n",
      " 57  37_MIP_Feromonas_para_el_control_de_plagas                                                         3407 non-null   int32   \n",
      " 58  38_MIP_Insectos_beneficos                                                                          3407 non-null   int32   \n",
      " 59  39_MIP_Maquinaria_multi_uso_y_multi_cultivo_en_un_sistema_diferente_a_AC                           3407 non-null   int32   \n",
      " 60  40_MIP_Monitoreo_de_plagas_en_campo                                                                3407 non-null   int32   \n",
      " 61  41_MIP_Tratamiento_de_semilla_micorrizas_harina_de_roca_etc                                        3407 non-null   int32   \n",
      " 62  42_MIP_Tratamientos_de_semillas_fungicidas                                                         3407 non-null   int32   \n",
      " 63  43_MIP_Uso_de_la_biodiversidad_funcional_enemigos_naturales                                        3407 non-null   int32   \n",
      " 64  44_Otra_Reduccion_en_el_uso_de_pesticidas_altamente_peligrosos_insecticidas_herbicidas_fungicidas  3407 non-null   int32   \n",
      " 65  44.1_Otra_Usos_alternativos_del_rastrojo_sustrato_para_produccion_de_hongos                        3407 non-null   int32   \n",
      " 66  45_Posc_Alamacenamiento_hermetico                                                                  3407 non-null   int32   \n",
      " 67  46_Posc_Desgranadora_eficiente                                                                     3407 non-null   int32   \n",
      " 68  47_Posc_Polvos_inertes_cal_micronizada                                                             3407 non-null   int32   \n",
      " 69  48_Posc_Secado_del_grano                                                                           3407 non-null   int32   \n",
      " 70  49_Posc_Uso_de_feromonas_sexuales                                                                  3407 non-null   int32   \n",
      " 71  50_Var_Criollos_mejorados                                                                          3407 non-null   int32   \n",
      " 72  51_Var_Variedades_hibridas_donde_antes_no_se_usaban_o_que_son_de_Semilleras_MasAgro                3407 non-null   int32   \n",
      " 73  52_Var_Variedades_mejoradas_de_trigo                                                               3407 non-null   int32   \n",
      " 74  53_Var_Variedades_mejoradas_incluye_polinizacion_abierta_OPV_maiz                                  3407 non-null   int32   \n",
      " 75  SumTecs                                                                                            3407 non-null   int32   \n",
      " 76  primary_k                                                                                          3407 non-null   object  \n",
      " 77  Programa                                                                                           3407 non-null   object  \n",
      " 78  index_right                                                                                        3407 non-null   int32   \n",
      " 79  CVE_ENT                                                                                            3407 non-null   object  \n",
      " 80  CVE_MUN                                                                                            3407 non-null   object  \n",
      " 81  NOM_MUN                                                                                            3407 non-null   object  \n",
      " 82  NOM_ENT                                                                                            3407 non-null   object  \n",
      " 83  CLAVE                                                                                              3407 non-null   object  \n",
      " 84  Region                                                                                             3407 non-null   object  \n",
      " 85  geometry                                                                                           3407 non-null   geometry\n",
      "dtypes: float64(2), geometry(1), int32(56), object(27)\n",
      "memory usage: 1.5+ MB\n"
     ]
    }
   ],
   "source": [
    "df.info()"
   ]
  },
  {
   "cell_type": "code",
   "execution_count": 6,
   "metadata": {},
   "outputs": [
    {
     "data": {
      "text/plain": [
       "array(['Innovacion', 'Testigo'], dtype=object)"
      ]
     },
     "execution_count": 6,
     "metadata": {},
     "output_type": "execute_result"
    }
   ],
   "source": [
    "df['Tipo.de.superficie'].unique()"
   ]
  },
  {
   "cell_type": "code",
   "execution_count": 7,
   "metadata": {},
   "outputs": [],
   "source": [
    "# df=df[df['Tipo.de.superficie']!='Testigo']"
   ]
  },
  {
   "cell_type": "code",
   "execution_count": 7,
   "metadata": {},
   "outputs": [
    {
     "data": {
      "text/plain": [
       "(3407, 86)"
      ]
     },
     "execution_count": 7,
     "metadata": {},
     "output_type": "execute_result"
    }
   ],
   "source": [
    "df.shape"
   ]
  },
  {
   "cell_type": "code",
   "execution_count": 9,
   "metadata": {},
   "outputs": [],
   "source": [
    "subset_df = df.iloc[:,list(range(21,75)) +[76]]"
   ]
  },
  {
   "cell_type": "code",
   "execution_count": 10,
   "metadata": {},
   "outputs": [
    {
     "name": "stdout",
     "output_type": "stream",
     "text": [
      "<class 'pandas.core.frame.DataFrame'>\n",
      "RangeIndex: 3407 entries, 0 to 3406\n",
      "Data columns (total 55 columns):\n",
      " #   Column                                                                                             Non-Null Count  Dtype \n",
      "---  ------                                                                                             --------------  ----- \n",
      " 0   1_AC_Cultivos_de_cobertura                                                                         3407 non-null   int32 \n",
      " 1   2_AC_Fertilizadora_reformadora_aplicada_para_poder_hacer_AC                                        3407 non-null   int32 \n",
      " 2   3_AC_Implementos_para_acondicionamiento_de_parcela_anio_cero                                       3407 non-null   int32 \n",
      " 3   4_AC_Implementos_para_adaptar_maquinaria_convencional_para_uso_en_AC                               3407 non-null   int32 \n",
      " 4   5_AC_Inclusion_de_nuevos_cultivos_en_sistema_de_produccion_de_maiz_y_grano_pequenio                3407 non-null   int32 \n",
      " 5   6_AC_Labranza_en_lineas_de_Siembra                                                                 3407 non-null   int32 \n",
      " 6   7_AC_Manejo_de_rastrojo_uso_de_desmenuzadora_manual_o_mecanica                                     3407 non-null   int32 \n",
      " 7   8_AC_Maquinaria_en_AC_para_operaciones_en_practicas_de_labranza_cero_o_reducido                    3407 non-null   int32 \n",
      " 8   9_AC_Rotacion_Diversificacion_de_cultivos_con_cultivo_no_tradicional                               3407 non-null   int32 \n",
      " 9   10_AC_Roturacion_vertical_con_subsuelo_y_arado_de_cinceles_para_preparar_anio_cero                 3407 non-null   int32 \n",
      " 10  11_AC_Uso_de_camas_permanentes                                                                     3407 non-null   int32 \n",
      " 11  12_Arreglos_Densidades_de_siembra_optimos                                                          3407 non-null   int32 \n",
      " 12  13_Arreglos_Siembras_en_hileras_para_grano_pequenio                                                3407 non-null   int32 \n",
      " 13  14_Comerc_Incorporacion_de_nuevos_cultivos_de_alto_valor_con_orientacion_al_mercado                3407 non-null   int32 \n",
      " 14  15_Comerc_Uso_de_agricultura_por_contrato                                                          3407 non-null   int32 \n",
      " 15  16_Cons_Agua_Correccion_de_la_compactacion                                                         3407 non-null   int32 \n",
      " 16  17_Cons_Agua_Curvas_de_nivel_o_desnivel                                                            3407 non-null   int32 \n",
      " 17  18_Cons_Agua_Nivelacion_de_la_parcela                                                              3407 non-null   int32 \n",
      " 18  19_Cons_Agua_Nivelacion_de_suelos                                                                  3407 non-null   int32 \n",
      " 19  20_Cons_Agua_Obras_de_conservacion_de_suelo_y_agua                                                 3407 non-null   int32 \n",
      " 20  21_Cons_Agua_Riego_por_aspersion                                                                   3407 non-null   int32 \n",
      " 21  22_Cons_Agua_Riego_por_goteo                                                                       3407 non-null   int32 \n",
      " 22  23_Cons_Suelo_Curvas_a_nivel                                                                       3407 non-null   int32 \n",
      " 23  24_Cons_Suelo_Sistema_Milpa_Intercalado_con_Arboles_Frutales_MIAF                                  3407 non-null   int32 \n",
      " 24  25_Fert_Abonos_organicos_como_fuente_de_nutrientes_compostas                                       3407 non-null   int32 \n",
      " 25  26_Fert_Aplicacion_de_fertilizantes_foliares_de_acuerdo_con_la_etapa_fenologica_del_cultivo        3407 non-null   int32 \n",
      " 26  27_Fert_Aplicacion_del_fertilizante_en_momentos_adecuados                                          3407 non-null   int32 \n",
      " 27  28_Fert_Biofertilizantes_como_fuente_de_nutrientes                                                 3407 non-null   int32 \n",
      " 28  29_Fert_Enmiendas_de_suelo_cal_dolomita_y_yeso_agricola                                            3407 non-null   int32 \n",
      " 29  30_Fert_Fertilizantes_inorganicos_como_nutrientes_en_manera_y_cantidad_correcta                    3407 non-null   int32 \n",
      " 30  31_Fert_Forma_de_aplicacion_de_fertilizante_para_mejorar_efectividad                               3407 non-null   int32 \n",
      " 31  32_Fert_Herramientas_de_diagnostico_analisis_de_suelos                                             3407 non-null   int32 \n",
      " 32  33_Fert_Incorporacion_de_rastrojo_de_la_cosecha_anterior                                           3407 non-null   int32 \n",
      " 33  34_MIP_Caldos_minerales_agua_de_vidrio_caldo_sulfocalcico_caldo_ceniza_etc                         3407 non-null   int32 \n",
      " 34  35_MIP_Control_biologico_hongos_entomopatogenos_liberacion_de_insectos                             3407 non-null   int32 \n",
      " 35  36_MIP_Extractos_vegetales_tabaco_higuerilla_nim_etc                                               3407 non-null   int32 \n",
      " 36  37_MIP_Feromonas_para_el_control_de_plagas                                                         3407 non-null   int32 \n",
      " 37  38_MIP_Insectos_beneficos                                                                          3407 non-null   int32 \n",
      " 38  39_MIP_Maquinaria_multi_uso_y_multi_cultivo_en_un_sistema_diferente_a_AC                           3407 non-null   int32 \n",
      " 39  40_MIP_Monitoreo_de_plagas_en_campo                                                                3407 non-null   int32 \n",
      " 40  41_MIP_Tratamiento_de_semilla_micorrizas_harina_de_roca_etc                                        3407 non-null   int32 \n",
      " 41  42_MIP_Tratamientos_de_semillas_fungicidas                                                         3407 non-null   int32 \n",
      " 42  43_MIP_Uso_de_la_biodiversidad_funcional_enemigos_naturales                                        3407 non-null   int32 \n",
      " 43  44_Otra_Reduccion_en_el_uso_de_pesticidas_altamente_peligrosos_insecticidas_herbicidas_fungicidas  3407 non-null   int32 \n",
      " 44  44.1_Otra_Usos_alternativos_del_rastrojo_sustrato_para_produccion_de_hongos                        3407 non-null   int32 \n",
      " 45  45_Posc_Alamacenamiento_hermetico                                                                  3407 non-null   int32 \n",
      " 46  46_Posc_Desgranadora_eficiente                                                                     3407 non-null   int32 \n",
      " 47  47_Posc_Polvos_inertes_cal_micronizada                                                             3407 non-null   int32 \n",
      " 48  48_Posc_Secado_del_grano                                                                           3407 non-null   int32 \n",
      " 49  49_Posc_Uso_de_feromonas_sexuales                                                                  3407 non-null   int32 \n",
      " 50  50_Var_Criollos_mejorados                                                                          3407 non-null   int32 \n",
      " 51  51_Var_Variedades_hibridas_donde_antes_no_se_usaban_o_que_son_de_Semilleras_MasAgro                3407 non-null   int32 \n",
      " 52  52_Var_Variedades_mejoradas_de_trigo                                                               3407 non-null   int32 \n",
      " 53  53_Var_Variedades_mejoradas_incluye_polinizacion_abierta_OPV_maiz                                  3407 non-null   int32 \n",
      " 54  primary_k                                                                                          3407 non-null   object\n",
      "dtypes: int32(54), object(1)\n",
      "memory usage: 745.4+ KB\n"
     ]
    }
   ],
   "source": [
    "subset_df.info()"
   ]
  },
  {
   "cell_type": "code",
   "execution_count": 11,
   "metadata": {},
   "outputs": [],
   "source": [
    "test_cols=list(subset_df.columns)"
   ]
  },
  {
   "cell_type": "code",
   "execution_count": 12,
   "metadata": {},
   "outputs": [],
   "source": [
    "def separar(lista):\n",
    "    new_cols_name = []\n",
    "    for col in lista:\n",
    "        new_str = col.split('_')\n",
    "        salida = '_'.join(new_str[1:])\n",
    "        new_cols_name.append(salida)\n",
    "    return new_cols_name"
   ]
  },
  {
   "cell_type": "code",
   "execution_count": 13,
   "metadata": {},
   "outputs": [],
   "source": [
    "salida=separar(test_cols)"
   ]
  },
  {
   "cell_type": "code",
   "execution_count": 14,
   "metadata": {},
   "outputs": [
    {
     "data": {
      "text/plain": [
       "{'1_AC_Cultivos_de_cobertura': 'AC_Cultivos_de_cobertura',\n",
       " '2_AC_Fertilizadora_reformadora_aplicada_para_poder_hacer_AC': 'AC_Fertilizadora_reformadora_aplicada_para_poder_hacer_AC',\n",
       " '3_AC_Implementos_para_acondicionamiento_de_parcela_anio_cero': 'AC_Implementos_para_acondicionamiento_de_parcela_anio_cero',\n",
       " '4_AC_Implementos_para_adaptar_maquinaria_convencional_para_uso_en_AC': 'AC_Implementos_para_adaptar_maquinaria_convencional_para_uso_en_AC',\n",
       " '5_AC_Inclusion_de_nuevos_cultivos_en_sistema_de_produccion_de_maiz_y_grano_pequenio': 'AC_Inclusion_de_nuevos_cultivos_en_sistema_de_produccion_de_maiz_y_grano_pequenio',\n",
       " '6_AC_Labranza_en_lineas_de_Siembra': 'AC_Labranza_en_lineas_de_Siembra',\n",
       " '7_AC_Manejo_de_rastrojo_uso_de_desmenuzadora_manual_o_mecanica': 'AC_Manejo_de_rastrojo_uso_de_desmenuzadora_manual_o_mecanica',\n",
       " '8_AC_Maquinaria_en_AC_para_operaciones_en_practicas_de_labranza_cero_o_reducido': 'AC_Maquinaria_en_AC_para_operaciones_en_practicas_de_labranza_cero_o_reducido',\n",
       " '9_AC_Rotacion_Diversificacion_de_cultivos_con_cultivo_no_tradicional': 'AC_Rotacion_Diversificacion_de_cultivos_con_cultivo_no_tradicional',\n",
       " '10_AC_Roturacion_vertical_con_subsuelo_y_arado_de_cinceles_para_preparar_anio_cero': 'AC_Roturacion_vertical_con_subsuelo_y_arado_de_cinceles_para_preparar_anio_cero',\n",
       " '11_AC_Uso_de_camas_permanentes': 'AC_Uso_de_camas_permanentes',\n",
       " '12_Arreglos_Densidades_de_siembra_optimos': 'Arreglos_Densidades_de_siembra_optimos',\n",
       " '13_Arreglos_Siembras_en_hileras_para_grano_pequenio': 'Arreglos_Siembras_en_hileras_para_grano_pequenio',\n",
       " '14_Comerc_Incorporacion_de_nuevos_cultivos_de_alto_valor_con_orientacion_al_mercado': 'Comerc_Incorporacion_de_nuevos_cultivos_de_alto_valor_con_orientacion_al_mercado',\n",
       " '15_Comerc_Uso_de_agricultura_por_contrato': 'Comerc_Uso_de_agricultura_por_contrato',\n",
       " '16_Cons_Agua_Correccion_de_la_compactacion': 'Cons_Agua_Correccion_de_la_compactacion',\n",
       " '17_Cons_Agua_Curvas_de_nivel_o_desnivel': 'Cons_Agua_Curvas_de_nivel_o_desnivel',\n",
       " '18_Cons_Agua_Nivelacion_de_la_parcela': 'Cons_Agua_Nivelacion_de_la_parcela',\n",
       " '19_Cons_Agua_Nivelacion_de_suelos': 'Cons_Agua_Nivelacion_de_suelos',\n",
       " '20_Cons_Agua_Obras_de_conservacion_de_suelo_y_agua': 'Cons_Agua_Obras_de_conservacion_de_suelo_y_agua',\n",
       " '21_Cons_Agua_Riego_por_aspersion': 'Cons_Agua_Riego_por_aspersion',\n",
       " '22_Cons_Agua_Riego_por_goteo': 'Cons_Agua_Riego_por_goteo',\n",
       " '23_Cons_Suelo_Curvas_a_nivel': 'Cons_Suelo_Curvas_a_nivel',\n",
       " '24_Cons_Suelo_Sistema_Milpa_Intercalado_con_Arboles_Frutales_MIAF': 'Cons_Suelo_Sistema_Milpa_Intercalado_con_Arboles_Frutales_MIAF',\n",
       " '25_Fert_Abonos_organicos_como_fuente_de_nutrientes_compostas': 'Fert_Abonos_organicos_como_fuente_de_nutrientes_compostas',\n",
       " '26_Fert_Aplicacion_de_fertilizantes_foliares_de_acuerdo_con_la_etapa_fenologica_del_cultivo': 'Fert_Aplicacion_de_fertilizantes_foliares_de_acuerdo_con_la_etapa_fenologica_del_cultivo',\n",
       " '27_Fert_Aplicacion_del_fertilizante_en_momentos_adecuados': 'Fert_Aplicacion_del_fertilizante_en_momentos_adecuados',\n",
       " '28_Fert_Biofertilizantes_como_fuente_de_nutrientes': 'Fert_Biofertilizantes_como_fuente_de_nutrientes',\n",
       " '29_Fert_Enmiendas_de_suelo_cal_dolomita_y_yeso_agricola': 'Fert_Enmiendas_de_suelo_cal_dolomita_y_yeso_agricola',\n",
       " '30_Fert_Fertilizantes_inorganicos_como_nutrientes_en_manera_y_cantidad_correcta': 'Fert_Fertilizantes_inorganicos_como_nutrientes_en_manera_y_cantidad_correcta',\n",
       " '31_Fert_Forma_de_aplicacion_de_fertilizante_para_mejorar_efectividad': 'Fert_Forma_de_aplicacion_de_fertilizante_para_mejorar_efectividad',\n",
       " '32_Fert_Herramientas_de_diagnostico_analisis_de_suelos': 'Fert_Herramientas_de_diagnostico_analisis_de_suelos',\n",
       " '33_Fert_Incorporacion_de_rastrojo_de_la_cosecha_anterior': 'Fert_Incorporacion_de_rastrojo_de_la_cosecha_anterior',\n",
       " '34_MIP_Caldos_minerales_agua_de_vidrio_caldo_sulfocalcico_caldo_ceniza_etc': 'MIP_Caldos_minerales_agua_de_vidrio_caldo_sulfocalcico_caldo_ceniza_etc',\n",
       " '35_MIP_Control_biologico_hongos_entomopatogenos_liberacion_de_insectos': 'MIP_Control_biologico_hongos_entomopatogenos_liberacion_de_insectos',\n",
       " '36_MIP_Extractos_vegetales_tabaco_higuerilla_nim_etc': 'MIP_Extractos_vegetales_tabaco_higuerilla_nim_etc',\n",
       " '37_MIP_Feromonas_para_el_control_de_plagas': 'MIP_Feromonas_para_el_control_de_plagas',\n",
       " '38_MIP_Insectos_beneficos': 'MIP_Insectos_beneficos',\n",
       " '39_MIP_Maquinaria_multi_uso_y_multi_cultivo_en_un_sistema_diferente_a_AC': 'MIP_Maquinaria_multi_uso_y_multi_cultivo_en_un_sistema_diferente_a_AC',\n",
       " '40_MIP_Monitoreo_de_plagas_en_campo': 'MIP_Monitoreo_de_plagas_en_campo',\n",
       " '41_MIP_Tratamiento_de_semilla_micorrizas_harina_de_roca_etc': 'MIP_Tratamiento_de_semilla_micorrizas_harina_de_roca_etc',\n",
       " '42_MIP_Tratamientos_de_semillas_fungicidas': 'MIP_Tratamientos_de_semillas_fungicidas',\n",
       " '43_MIP_Uso_de_la_biodiversidad_funcional_enemigos_naturales': 'MIP_Uso_de_la_biodiversidad_funcional_enemigos_naturales',\n",
       " '44_Otra_Reduccion_en_el_uso_de_pesticidas_altamente_peligrosos_insecticidas_herbicidas_fungicidas': 'Otra_Reduccion_en_el_uso_de_pesticidas_altamente_peligrosos_insecticidas_herbicidas_fungicidas',\n",
       " '44.1_Otra_Usos_alternativos_del_rastrojo_sustrato_para_produccion_de_hongos': 'Otra_Usos_alternativos_del_rastrojo_sustrato_para_produccion_de_hongos',\n",
       " '45_Posc_Alamacenamiento_hermetico': 'Posc_Alamacenamiento_hermetico',\n",
       " '46_Posc_Desgranadora_eficiente': 'Posc_Desgranadora_eficiente',\n",
       " '47_Posc_Polvos_inertes_cal_micronizada': 'Posc_Polvos_inertes_cal_micronizada',\n",
       " '48_Posc_Secado_del_grano': 'Posc_Secado_del_grano',\n",
       " '49_Posc_Uso_de_feromonas_sexuales': 'Posc_Uso_de_feromonas_sexuales',\n",
       " '50_Var_Criollos_mejorados': 'Var_Criollos_mejorados',\n",
       " '51_Var_Variedades_hibridas_donde_antes_no_se_usaban_o_que_son_de_Semilleras_MasAgro': 'Var_Variedades_hibridas_donde_antes_no_se_usaban_o_que_son_de_Semilleras_MasAgro',\n",
       " '52_Var_Variedades_mejoradas_de_trigo': 'Var_Variedades_mejoradas_de_trigo',\n",
       " '53_Var_Variedades_mejoradas_incluye_polinizacion_abierta_OPV_maiz': 'Var_Variedades_mejoradas_incluye_polinizacion_abierta_OPV_maiz',\n",
       " 'primary_k': 'k'}"
      ]
     },
     "execution_count": 14,
     "metadata": {},
     "output_type": "execute_result"
    }
   ],
   "source": [
    "dict(zip(test_cols,salida))"
   ]
  },
  {
   "cell_type": "code",
   "execution_count": 15,
   "metadata": {},
   "outputs": [
    {
     "name": "stderr",
     "output_type": "stream",
     "text": [
      "/tmp/ipykernel_17417/2681974417.py:1: SettingWithCopyWarning: \n",
      "A value is trying to be set on a copy of a slice from a DataFrame\n",
      "\n",
      "See the caveats in the documentation: https://pandas.pydata.org/pandas-docs/stable/user_guide/indexing.html#returning-a-view-versus-a-copy\n",
      "  subset_df.rename(columns=dict(zip(test_cols,salida)),inplace=True)\n"
     ]
    }
   ],
   "source": [
    "subset_df.rename(columns=dict(zip(test_cols,salida)),inplace=True)"
   ]
  },
  {
   "cell_type": "code",
   "execution_count": 16,
   "metadata": {},
   "outputs": [],
   "source": [
    "# subset_df.set_index('k',inplace=True)"
   ]
  },
  {
   "cell_type": "code",
   "execution_count": 17,
   "metadata": {},
   "outputs": [],
   "source": [
    "# subset_stacked=subset_df.stack(future_stack=True)"
   ]
  },
  {
   "cell_type": "code",
   "execution_count": 18,
   "metadata": {},
   "outputs": [],
   "source": [
    "# subset_df"
   ]
  },
  {
   "cell_type": "code",
   "execution_count": 16,
   "metadata": {},
   "outputs": [],
   "source": [
    "subset_df_melted = subset_df.melt(id_vars='k',var_name='Variable', value_name='valor')"
   ]
  },
  {
   "cell_type": "code",
   "execution_count": 17,
   "metadata": {},
   "outputs": [
    {
     "data": {
      "text/html": [
       "<div>\n",
       "<style scoped>\n",
       "    .dataframe tbody tr th:only-of-type {\n",
       "        vertical-align: middle;\n",
       "    }\n",
       "\n",
       "    .dataframe tbody tr th {\n",
       "        vertical-align: top;\n",
       "    }\n",
       "\n",
       "    .dataframe thead th {\n",
       "        text-align: right;\n",
       "    }\n",
       "</style>\n",
       "<table border=\"1\" class=\"dataframe\">\n",
       "  <thead>\n",
       "    <tr style=\"text-align: right;\">\n",
       "      <th></th>\n",
       "      <th>k</th>\n",
       "      <th>Variable</th>\n",
       "      <th>valor</th>\n",
       "    </tr>\n",
       "  </thead>\n",
       "  <tbody>\n",
       "    <tr>\n",
       "      <th>0</th>\n",
       "      <td>AI-2023-0623-1132-xtpKn-eKORE_AI simplificada_...</td>\n",
       "      <td>AC_Cultivos_de_cobertura</td>\n",
       "      <td>1</td>\n",
       "    </tr>\n",
       "    <tr>\n",
       "      <th>1</th>\n",
       "      <td>AI-2023-0623-1136-By8nu-QIjKI_AI simplificada_...</td>\n",
       "      <td>AC_Cultivos_de_cobertura</td>\n",
       "      <td>1</td>\n",
       "    </tr>\n",
       "    <tr>\n",
       "      <th>2</th>\n",
       "      <td>AI-2023-0629-0402-WrgGX-U9ZIB_AI simplificada_...</td>\n",
       "      <td>AC_Cultivos_de_cobertura</td>\n",
       "      <td>0</td>\n",
       "    </tr>\n",
       "    <tr>\n",
       "      <th>3</th>\n",
       "      <td>AI-2023-0701-1215-ngOWS-p7r9T_AI simplificada_...</td>\n",
       "      <td>AC_Cultivos_de_cobertura</td>\n",
       "      <td>1</td>\n",
       "    </tr>\n",
       "    <tr>\n",
       "      <th>4</th>\n",
       "      <td>AI-2023-0701-1227-PMwGw-3kRzk_AI simplificada_...</td>\n",
       "      <td>AC_Cultivos_de_cobertura</td>\n",
       "      <td>1</td>\n",
       "    </tr>\n",
       "    <tr>\n",
       "      <th>5</th>\n",
       "      <td>AI-2023-0721-0609-aXFnM-8E28E_AI simplificada_...</td>\n",
       "      <td>AC_Cultivos_de_cobertura</td>\n",
       "      <td>1</td>\n",
       "    </tr>\n",
       "    <tr>\n",
       "      <th>6</th>\n",
       "      <td>AI-2023-0722-1042-oxnQY-s4SUk_AI simplificada_...</td>\n",
       "      <td>AC_Cultivos_de_cobertura</td>\n",
       "      <td>0</td>\n",
       "    </tr>\n",
       "    <tr>\n",
       "      <th>7</th>\n",
       "      <td>AI-2023-0726-0612-MrPJc-ovPTb_AI simplificada_...</td>\n",
       "      <td>AC_Cultivos_de_cobertura</td>\n",
       "      <td>0</td>\n",
       "    </tr>\n",
       "    <tr>\n",
       "      <th>8</th>\n",
       "      <td>AI-2023-0729-0350-Ygv22-X3XWC_AI simplificada_...</td>\n",
       "      <td>AC_Cultivos_de_cobertura</td>\n",
       "      <td>0</td>\n",
       "    </tr>\n",
       "    <tr>\n",
       "      <th>9</th>\n",
       "      <td>AI-2023-0729-0358-LHNBY-UWQUq_AI simplificada_...</td>\n",
       "      <td>AC_Cultivos_de_cobertura</td>\n",
       "      <td>0</td>\n",
       "    </tr>\n",
       "  </tbody>\n",
       "</table>\n",
       "</div>"
      ],
      "text/plain": [
       "                                                   k  \\\n",
       "0  AI-2023-0623-1132-xtpKn-eKORE_AI simplificada_...   \n",
       "1  AI-2023-0623-1136-By8nu-QIjKI_AI simplificada_...   \n",
       "2  AI-2023-0629-0402-WrgGX-U9ZIB_AI simplificada_...   \n",
       "3  AI-2023-0701-1215-ngOWS-p7r9T_AI simplificada_...   \n",
       "4  AI-2023-0701-1227-PMwGw-3kRzk_AI simplificada_...   \n",
       "5  AI-2023-0721-0609-aXFnM-8E28E_AI simplificada_...   \n",
       "6  AI-2023-0722-1042-oxnQY-s4SUk_AI simplificada_...   \n",
       "7  AI-2023-0726-0612-MrPJc-ovPTb_AI simplificada_...   \n",
       "8  AI-2023-0729-0350-Ygv22-X3XWC_AI simplificada_...   \n",
       "9  AI-2023-0729-0358-LHNBY-UWQUq_AI simplificada_...   \n",
       "\n",
       "                   Variable  valor  \n",
       "0  AC_Cultivos_de_cobertura      1  \n",
       "1  AC_Cultivos_de_cobertura      1  \n",
       "2  AC_Cultivos_de_cobertura      0  \n",
       "3  AC_Cultivos_de_cobertura      1  \n",
       "4  AC_Cultivos_de_cobertura      1  \n",
       "5  AC_Cultivos_de_cobertura      1  \n",
       "6  AC_Cultivos_de_cobertura      0  \n",
       "7  AC_Cultivos_de_cobertura      0  \n",
       "8  AC_Cultivos_de_cobertura      0  \n",
       "9  AC_Cultivos_de_cobertura      0  "
      ]
     },
     "execution_count": 17,
     "metadata": {},
     "output_type": "execute_result"
    }
   ],
   "source": [
    "subset_df_melted.head(10)"
   ]
  },
  {
   "cell_type": "code",
   "execution_count": 18,
   "metadata": {},
   "outputs": [
    {
     "data": {
      "text/plain": [
       "(183978, 3)"
      ]
     },
     "execution_count": 18,
     "metadata": {},
     "output_type": "execute_result"
    }
   ],
   "source": [
    "subset_df_melted.shape"
   ]
  },
  {
   "cell_type": "code",
   "execution_count": null,
   "metadata": {},
   "outputs": [],
   "source": [
    "# subset_df_melted.reset_index(inplace=True)"
   ]
  },
  {
   "cell_type": "code",
   "execution_count": null,
   "metadata": {},
   "outputs": [],
   "source": [
    "# subset_df_melted"
   ]
  },
  {
   "cell_type": "code",
   "execution_count": 19,
   "metadata": {},
   "outputs": [],
   "source": [
    "tecnologias = pd.read_csv('../data/tecnologias.csv')"
   ]
  },
  {
   "cell_type": "code",
   "execution_count": 20,
   "metadata": {},
   "outputs": [
    {
     "data": {
      "text/html": [
       "<div>\n",
       "<style scoped>\n",
       "    .dataframe tbody tr th:only-of-type {\n",
       "        vertical-align: middle;\n",
       "    }\n",
       "\n",
       "    .dataframe tbody tr th {\n",
       "        vertical-align: top;\n",
       "    }\n",
       "\n",
       "    .dataframe thead th {\n",
       "        text-align: right;\n",
       "    }\n",
       "</style>\n",
       "<table border=\"1\" class=\"dataframe\">\n",
       "  <thead>\n",
       "    <tr style=\"text-align: right;\">\n",
       "      <th></th>\n",
       "      <th>Catalogo</th>\n",
       "      <th>Variable</th>\n",
       "      <th>Etiqueta</th>\n",
       "      <th>Equivalencia automatica a llenar</th>\n",
       "      <th>Unnamed: 4</th>\n",
       "      <th>Unnamed: 5</th>\n",
       "      <th>Unnamed: 6</th>\n",
       "      <th>Unnamed: 7</th>\n",
       "      <th>Unnamed: 8</th>\n",
       "    </tr>\n",
       "  </thead>\n",
       "  <tbody>\n",
       "    <tr>\n",
       "      <th>0</th>\n",
       "      <td>Menu_Tecnologico_Instrumentos_list</td>\n",
       "      <td>AC_Cultivos_de_cobertura</td>\n",
       "      <td>AC-Cultivos de cobertura (canavalia)</td>\n",
       "      <td>Agricultura de conservación</td>\n",
       "      <td>NaN</td>\n",
       "      <td>NaN</td>\n",
       "      <td>NaN</td>\n",
       "      <td>NaN</td>\n",
       "      <td>NaN</td>\n",
       "    </tr>\n",
       "    <tr>\n",
       "      <th>1</th>\n",
       "      <td>Menu_Tecnologico_Instrumentos_list</td>\n",
       "      <td>AC_Fertilizadora_reformadora_aplicada_para_pod...</td>\n",
       "      <td>AC-Fertilizadora-reformadora aplicada para pod...</td>\n",
       "      <td>Agricultura de conservación</td>\n",
       "      <td>NaN</td>\n",
       "      <td>NaN</td>\n",
       "      <td>NaN</td>\n",
       "      <td>NaN</td>\n",
       "      <td>NaN</td>\n",
       "    </tr>\n",
       "  </tbody>\n",
       "</table>\n",
       "</div>"
      ],
      "text/plain": [
       "                             Catalogo  \\\n",
       "0  Menu_Tecnologico_Instrumentos_list   \n",
       "1  Menu_Tecnologico_Instrumentos_list   \n",
       "\n",
       "                                            Variable  \\\n",
       "0                           AC_Cultivos_de_cobertura   \n",
       "1  AC_Fertilizadora_reformadora_aplicada_para_pod...   \n",
       "\n",
       "                                            Etiqueta  \\\n",
       "0               AC-Cultivos de cobertura (canavalia)   \n",
       "1  AC-Fertilizadora-reformadora aplicada para pod...   \n",
       "\n",
       "  Equivalencia automatica a llenar Unnamed: 4  Unnamed: 5  Unnamed: 6  \\\n",
       "0      Agricultura de conservación        NaN         NaN         NaN   \n",
       "1      Agricultura de conservación        NaN         NaN         NaN   \n",
       "\n",
       "   Unnamed: 7  Unnamed: 8  \n",
       "0         NaN         NaN  \n",
       "1         NaN         NaN  "
      ]
     },
     "execution_count": 20,
     "metadata": {},
     "output_type": "execute_result"
    }
   ],
   "source": [
    "tecnologias.head(2)"
   ]
  },
  {
   "cell_type": "code",
   "execution_count": 21,
   "metadata": {},
   "outputs": [
    {
     "data": {
      "text/plain": [
       "(53, 9)"
      ]
     },
     "execution_count": 21,
     "metadata": {},
     "output_type": "execute_result"
    }
   ],
   "source": [
    "tecnologias.shape"
   ]
  },
  {
   "cell_type": "code",
   "execution_count": null,
   "metadata": {},
   "outputs": [],
   "source": [
    "# subset_stacked"
   ]
  },
  {
   "cell_type": "code",
   "execution_count": null,
   "metadata": {},
   "outputs": [],
   "source": [
    "# subset_stacked = pd.DataFrame(subset_stacked)"
   ]
  },
  {
   "cell_type": "code",
   "execution_count": null,
   "metadata": {},
   "outputs": [],
   "source": [
    "# subset_stacked"
   ]
  },
  {
   "cell_type": "code",
   "execution_count": null,
   "metadata": {},
   "outputs": [],
   "source": [
    "# subset_stacked.columns"
   ]
  },
  {
   "cell_type": "code",
   "execution_count": null,
   "metadata": {},
   "outputs": [],
   "source": [
    "# subset_df_melted.reset_index(inplace=True)"
   ]
  },
  {
   "cell_type": "code",
   "execution_count": null,
   "metadata": {},
   "outputs": [],
   "source": [
    "# subset_df_melted"
   ]
  },
  {
   "cell_type": "code",
   "execution_count": 22,
   "metadata": {},
   "outputs": [],
   "source": [
    "union_ = subset_df_melted.merge(tecnologias[['Variable','Equivalencia automatica a llenar']],\n",
    "                                on='Variable', \n",
    "                                how='left')"
   ]
  },
  {
   "cell_type": "code",
   "execution_count": 23,
   "metadata": {},
   "outputs": [
    {
     "data": {
      "text/html": [
       "<div>\n",
       "<style scoped>\n",
       "    .dataframe tbody tr th:only-of-type {\n",
       "        vertical-align: middle;\n",
       "    }\n",
       "\n",
       "    .dataframe tbody tr th {\n",
       "        vertical-align: top;\n",
       "    }\n",
       "\n",
       "    .dataframe thead th {\n",
       "        text-align: right;\n",
       "    }\n",
       "</style>\n",
       "<table border=\"1\" class=\"dataframe\">\n",
       "  <thead>\n",
       "    <tr style=\"text-align: right;\">\n",
       "      <th></th>\n",
       "      <th>k</th>\n",
       "      <th>Variable</th>\n",
       "      <th>valor</th>\n",
       "      <th>Equivalencia automatica a llenar</th>\n",
       "    </tr>\n",
       "  </thead>\n",
       "  <tbody>\n",
       "    <tr>\n",
       "      <th>0</th>\n",
       "      <td>AI-2023-0623-1132-xtpKn-eKORE_AI simplificada_...</td>\n",
       "      <td>AC_Cultivos_de_cobertura</td>\n",
       "      <td>1</td>\n",
       "      <td>Agricultura de conservación</td>\n",
       "    </tr>\n",
       "    <tr>\n",
       "      <th>1</th>\n",
       "      <td>AI-2023-0623-1136-By8nu-QIjKI_AI simplificada_...</td>\n",
       "      <td>AC_Cultivos_de_cobertura</td>\n",
       "      <td>1</td>\n",
       "      <td>Agricultura de conservación</td>\n",
       "    </tr>\n",
       "  </tbody>\n",
       "</table>\n",
       "</div>"
      ],
      "text/plain": [
       "                                                   k  \\\n",
       "0  AI-2023-0623-1132-xtpKn-eKORE_AI simplificada_...   \n",
       "1  AI-2023-0623-1136-By8nu-QIjKI_AI simplificada_...   \n",
       "\n",
       "                   Variable  valor Equivalencia automatica a llenar  \n",
       "0  AC_Cultivos_de_cobertura      1      Agricultura de conservación  \n",
       "1  AC_Cultivos_de_cobertura      1      Agricultura de conservación  "
      ]
     },
     "execution_count": 23,
     "metadata": {},
     "output_type": "execute_result"
    }
   ],
   "source": [
    "union_.head(2)"
   ]
  },
  {
   "cell_type": "code",
   "execution_count": 24,
   "metadata": {},
   "outputs": [
    {
     "data": {
      "text/plain": [
       "53"
      ]
     },
     "execution_count": 24,
     "metadata": {},
     "output_type": "execute_result"
    }
   ],
   "source": [
    "tecnologias['Variable'].nunique()"
   ]
  },
  {
   "cell_type": "code",
   "execution_count": 25,
   "metadata": {},
   "outputs": [
    {
     "data": {
      "text/plain": [
       "array(['Otra_Usos_alternativos_del_rastrojo_sustrato_para_produccion_de_hongos'],\n",
       "      dtype=object)"
      ]
     },
     "execution_count": 25,
     "metadata": {},
     "output_type": "execute_result"
    }
   ],
   "source": [
    "union_[union_['Equivalencia automatica a llenar'].isna()]['Variable'].unique()"
   ]
  },
  {
   "cell_type": "code",
   "execution_count": 30,
   "metadata": {},
   "outputs": [
    {
     "name": "stderr",
     "output_type": "stream",
     "text": [
      "/tmp/ipykernel_21283/208246935.py:1: FutureWarning: A value is trying to be set on a copy of a DataFrame or Series through chained assignment using an inplace method.\n",
      "The behavior will change in pandas 3.0. This inplace method will never work because the intermediate object on which we are setting values always behaves as a copy.\n",
      "\n",
      "For example, when doing 'df[col].method(value, inplace=True)', try using 'df.method({col: value}, inplace=True)' or df[col] = df[col].method(value) instead, to perform the operation inplace on the original object.\n",
      "\n",
      "\n",
      "  union_['Equivalencia automatica a llenar'].fillna('Otra',inplace=True)\n"
     ]
    }
   ],
   "source": [
    "union_['Equivalencia automatica a llenar'].fillna('Otra',inplace=True)"
   ]
  },
  {
   "cell_type": "code",
   "execution_count": 26,
   "metadata": {},
   "outputs": [
    {
     "data": {
      "text/plain": [
       "3407"
      ]
     },
     "execution_count": 26,
     "metadata": {},
     "output_type": "execute_result"
    }
   ],
   "source": [
    "union_['Equivalencia automatica a llenar'].isnull().sum()\n"
   ]
  },
  {
   "cell_type": "code",
   "execution_count": 27,
   "metadata": {},
   "outputs": [
    {
     "data": {
      "text/html": [
       "<div>\n",
       "<style scoped>\n",
       "    .dataframe tbody tr th:only-of-type {\n",
       "        vertical-align: middle;\n",
       "    }\n",
       "\n",
       "    .dataframe tbody tr th {\n",
       "        vertical-align: top;\n",
       "    }\n",
       "\n",
       "    .dataframe thead th {\n",
       "        text-align: right;\n",
       "    }\n",
       "</style>\n",
       "<table border=\"1\" class=\"dataframe\">\n",
       "  <thead>\n",
       "    <tr style=\"text-align: right;\">\n",
       "      <th></th>\n",
       "      <th>k</th>\n",
       "      <th>Variable</th>\n",
       "      <th>valor</th>\n",
       "      <th>Equivalencia automatica a llenar</th>\n",
       "    </tr>\n",
       "  </thead>\n",
       "  <tbody>\n",
       "    <tr>\n",
       "      <th>0</th>\n",
       "      <td>AI-2023-0623-1132-xtpKn-eKORE_AI simplificada_...</td>\n",
       "      <td>AC_Cultivos_de_cobertura</td>\n",
       "      <td>1</td>\n",
       "      <td>Agricultura de conservación</td>\n",
       "    </tr>\n",
       "    <tr>\n",
       "      <th>1</th>\n",
       "      <td>AI-2023-0623-1136-By8nu-QIjKI_AI simplificada_...</td>\n",
       "      <td>AC_Cultivos_de_cobertura</td>\n",
       "      <td>1</td>\n",
       "      <td>Agricultura de conservación</td>\n",
       "    </tr>\n",
       "    <tr>\n",
       "      <th>2</th>\n",
       "      <td>AI-2023-0629-0402-WrgGX-U9ZIB_AI simplificada_...</td>\n",
       "      <td>AC_Cultivos_de_cobertura</td>\n",
       "      <td>0</td>\n",
       "      <td>Agricultura de conservación</td>\n",
       "    </tr>\n",
       "    <tr>\n",
       "      <th>3</th>\n",
       "      <td>AI-2023-0701-1215-ngOWS-p7r9T_AI simplificada_...</td>\n",
       "      <td>AC_Cultivos_de_cobertura</td>\n",
       "      <td>1</td>\n",
       "      <td>Agricultura de conservación</td>\n",
       "    </tr>\n",
       "    <tr>\n",
       "      <th>4</th>\n",
       "      <td>AI-2023-0701-1227-PMwGw-3kRzk_AI simplificada_...</td>\n",
       "      <td>AC_Cultivos_de_cobertura</td>\n",
       "      <td>1</td>\n",
       "      <td>Agricultura de conservación</td>\n",
       "    </tr>\n",
       "    <tr>\n",
       "      <th>5</th>\n",
       "      <td>AI-2023-0721-0609-aXFnM-8E28E_AI simplificada_...</td>\n",
       "      <td>AC_Cultivos_de_cobertura</td>\n",
       "      <td>1</td>\n",
       "      <td>Agricultura de conservación</td>\n",
       "    </tr>\n",
       "  </tbody>\n",
       "</table>\n",
       "</div>"
      ],
      "text/plain": [
       "                                                   k  \\\n",
       "0  AI-2023-0623-1132-xtpKn-eKORE_AI simplificada_...   \n",
       "1  AI-2023-0623-1136-By8nu-QIjKI_AI simplificada_...   \n",
       "2  AI-2023-0629-0402-WrgGX-U9ZIB_AI simplificada_...   \n",
       "3  AI-2023-0701-1215-ngOWS-p7r9T_AI simplificada_...   \n",
       "4  AI-2023-0701-1227-PMwGw-3kRzk_AI simplificada_...   \n",
       "5  AI-2023-0721-0609-aXFnM-8E28E_AI simplificada_...   \n",
       "\n",
       "                   Variable  valor Equivalencia automatica a llenar  \n",
       "0  AC_Cultivos_de_cobertura      1      Agricultura de conservación  \n",
       "1  AC_Cultivos_de_cobertura      1      Agricultura de conservación  \n",
       "2  AC_Cultivos_de_cobertura      0      Agricultura de conservación  \n",
       "3  AC_Cultivos_de_cobertura      1      Agricultura de conservación  \n",
       "4  AC_Cultivos_de_cobertura      1      Agricultura de conservación  \n",
       "5  AC_Cultivos_de_cobertura      1      Agricultura de conservación  "
      ]
     },
     "execution_count": 27,
     "metadata": {},
     "output_type": "execute_result"
    }
   ],
   "source": [
    "union_.head(6)"
   ]
  },
  {
   "cell_type": "code",
   "execution_count": 28,
   "metadata": {},
   "outputs": [
    {
     "data": {
      "text/plain": [
       "Index(['k', 'Variable', 'valor', 'Equivalencia automatica a llenar'], dtype='object')"
      ]
     },
     "execution_count": 28,
     "metadata": {},
     "output_type": "execute_result"
    }
   ],
   "source": [
    "union_.columns"
   ]
  },
  {
   "cell_type": "code",
   "execution_count": 29,
   "metadata": {},
   "outputs": [
    {
     "data": {
      "text/plain": [
       "(183978, 4)"
      ]
     },
     "execution_count": 29,
     "metadata": {},
     "output_type": "execute_result"
    }
   ],
   "source": [
    "union_.shape"
   ]
  },
  {
   "cell_type": "code",
   "execution_count": null,
   "metadata": {},
   "outputs": [],
   "source": [
    "# union_.pivot(columns=['Equivalencia automatica a llenar'], values='valor').fillna(0)"
   ]
  },
  {
   "cell_type": "code",
   "execution_count": 30,
   "metadata": {},
   "outputs": [],
   "source": [
    "tabla_final = union_.pivot_table(index='k', columns='Equivalencia automatica a llenar', values='valor', aggfunc='max').fillna(0)\n",
    "\n"
   ]
  },
  {
   "cell_type": "code",
   "execution_count": 31,
   "metadata": {},
   "outputs": [],
   "source": [
    "# Opcional: Ajustar el formato de salida\n",
    "tabla_final = tabla_final.astype(int)"
   ]
  },
  {
   "cell_type": "code",
   "execution_count": 32,
   "metadata": {},
   "outputs": [
    {
     "data": {
      "text/plain": [
       "(3407, 11)"
      ]
     },
     "execution_count": 32,
     "metadata": {},
     "output_type": "execute_result"
    }
   ],
   "source": [
    "tabla_final.shape"
   ]
  },
  {
   "cell_type": "code",
   "execution_count": null,
   "metadata": {},
   "outputs": [],
   "source": [
    "\n",
    "# union_.stack(index='k',columns='Equivalencia automatica a llenar',values='valor')"
   ]
  },
  {
   "cell_type": "code",
   "execution_count": null,
   "metadata": {},
   "outputs": [],
   "source": [
    "# union_.pivot(values='valor',index='k',columns='Equivalencia automatica a llenar')"
   ]
  },
  {
   "cell_type": "code",
   "execution_count": 54,
   "metadata": {},
   "outputs": [],
   "source": [
    "sumas_kit = [(tabla_final[cat].sum(), cat) for cat in tabla_final]"
   ]
  },
  {
   "cell_type": "code",
   "execution_count": 55,
   "metadata": {},
   "outputs": [
    {
     "data": {
      "text/plain": [
       "[(24, 'Agricultura de Conservación'),\n",
       " (660, 'Agricultura de conservación'),\n",
       " (711, 'Arreglos de siembra'),\n",
       " (5, 'Comercialización'),\n",
       " (144, 'Conservación de agua'),\n",
       " (36, 'Conservación del suelo'),\n",
       " (2157, 'Fertilización'),\n",
       " (1221, 'Manejo integrado de plagas'),\n",
       " (40, 'Otra'),\n",
       " (359, 'Tecnologias de poscosecha'),\n",
       " (399, 'Variedades mejoradas')]"
      ]
     },
     "execution_count": 55,
     "metadata": {},
     "output_type": "execute_result"
    }
   ],
   "source": [
    "sumas_kit"
   ]
  },
  {
   "cell_type": "code",
   "execution_count": 56,
   "metadata": {},
   "outputs": [
    {
     "name": "stdout",
     "output_type": "stream",
     "text": [
      "<class 'pandas.core.frame.DataFrame'>\n",
      "Index: 385 entries, BitAg-2023-0614-0337-ybbaC-l2qUa_MODULO_Testigo to BitAg-2024-0926-1228-NHqjH-evMrx_MODULO_Testigo\n",
      "Data columns (total 11 columns):\n",
      " #   Column                       Non-Null Count  Dtype\n",
      "---  ------                       --------------  -----\n",
      " 0   Agricultura de Conservación  385 non-null    int64\n",
      " 1   Agricultura de conservación  385 non-null    int64\n",
      " 2   Arreglos de siembra          385 non-null    int64\n",
      " 3   Comercialización             385 non-null    int64\n",
      " 4   Conservación de agua         385 non-null    int64\n",
      " 5   Conservación del suelo       385 non-null    int64\n",
      " 6   Fertilización                385 non-null    int64\n",
      " 7   Manejo integrado de plagas   385 non-null    int64\n",
      " 8   Otra                         385 non-null    int64\n",
      " 9   Tecnologias de poscosecha    385 non-null    int64\n",
      " 10  Variedades mejoradas         385 non-null    int64\n",
      "dtypes: int64(11)\n",
      "memory usage: 36.1+ KB\n"
     ]
    }
   ],
   "source": [
    "tabla_final[tabla_final.sum(axis='columns') <1].info()"
   ]
  },
  {
   "cell_type": "code",
   "execution_count": 57,
   "metadata": {},
   "outputs": [
    {
     "data": {
      "text/html": [
       "<div>\n",
       "<style scoped>\n",
       "    .dataframe tbody tr th:only-of-type {\n",
       "        vertical-align: middle;\n",
       "    }\n",
       "\n",
       "    .dataframe tbody tr th {\n",
       "        vertical-align: top;\n",
       "    }\n",
       "\n",
       "    .dataframe thead th {\n",
       "        text-align: right;\n",
       "    }\n",
       "</style>\n",
       "<table border=\"1\" class=\"dataframe\">\n",
       "  <thead>\n",
       "    <tr style=\"text-align: right;\">\n",
       "      <th>Equivalencia automatica a llenar</th>\n",
       "      <th>Agricultura de Conservación</th>\n",
       "      <th>Agricultura de conservación</th>\n",
       "      <th>Arreglos de siembra</th>\n",
       "      <th>Comercialización</th>\n",
       "      <th>Conservación de agua</th>\n",
       "      <th>Conservación del suelo</th>\n",
       "      <th>Fertilización</th>\n",
       "      <th>Manejo integrado de plagas</th>\n",
       "      <th>Otra</th>\n",
       "      <th>Tecnologias de poscosecha</th>\n",
       "      <th>Variedades mejoradas</th>\n",
       "    </tr>\n",
       "    <tr>\n",
       "      <th>k</th>\n",
       "      <th></th>\n",
       "      <th></th>\n",
       "      <th></th>\n",
       "      <th></th>\n",
       "      <th></th>\n",
       "      <th></th>\n",
       "      <th></th>\n",
       "      <th></th>\n",
       "      <th></th>\n",
       "      <th></th>\n",
       "      <th></th>\n",
       "    </tr>\n",
       "  </thead>\n",
       "  <tbody>\n",
       "    <tr>\n",
       "      <th>AI-2023-0623-1132-xtpKn-eKORE_AI simplificada_Innovacion</th>\n",
       "      <td>0</td>\n",
       "      <td>1</td>\n",
       "      <td>1</td>\n",
       "      <td>0</td>\n",
       "      <td>0</td>\n",
       "      <td>0</td>\n",
       "      <td>0</td>\n",
       "      <td>0</td>\n",
       "      <td>0</td>\n",
       "      <td>0</td>\n",
       "      <td>0</td>\n",
       "    </tr>\n",
       "    <tr>\n",
       "      <th>AI-2023-0623-1136-By8nu-QIjKI_AI simplificada_Innovacion</th>\n",
       "      <td>0</td>\n",
       "      <td>1</td>\n",
       "      <td>0</td>\n",
       "      <td>0</td>\n",
       "      <td>1</td>\n",
       "      <td>0</td>\n",
       "      <td>0</td>\n",
       "      <td>0</td>\n",
       "      <td>0</td>\n",
       "      <td>0</td>\n",
       "      <td>0</td>\n",
       "    </tr>\n",
       "  </tbody>\n",
       "</table>\n",
       "</div>"
      ],
      "text/plain": [
       "Equivalencia automatica a llenar                    Agricultura de Conservación  \\\n",
       "k                                                                                 \n",
       "AI-2023-0623-1132-xtpKn-eKORE_AI simplificada_I...                            0   \n",
       "AI-2023-0623-1136-By8nu-QIjKI_AI simplificada_I...                            0   \n",
       "\n",
       "Equivalencia automatica a llenar                    Agricultura de conservación  \\\n",
       "k                                                                                 \n",
       "AI-2023-0623-1132-xtpKn-eKORE_AI simplificada_I...                            1   \n",
       "AI-2023-0623-1136-By8nu-QIjKI_AI simplificada_I...                            1   \n",
       "\n",
       "Equivalencia automatica a llenar                    Arreglos de siembra  \\\n",
       "k                                                                         \n",
       "AI-2023-0623-1132-xtpKn-eKORE_AI simplificada_I...                    1   \n",
       "AI-2023-0623-1136-By8nu-QIjKI_AI simplificada_I...                    0   \n",
       "\n",
       "Equivalencia automatica a llenar                    Comercialización  \\\n",
       "k                                                                      \n",
       "AI-2023-0623-1132-xtpKn-eKORE_AI simplificada_I...                 0   \n",
       "AI-2023-0623-1136-By8nu-QIjKI_AI simplificada_I...                 0   \n",
       "\n",
       "Equivalencia automatica a llenar                    Conservación de agua  \\\n",
       "k                                                                          \n",
       "AI-2023-0623-1132-xtpKn-eKORE_AI simplificada_I...                     0   \n",
       "AI-2023-0623-1136-By8nu-QIjKI_AI simplificada_I...                     1   \n",
       "\n",
       "Equivalencia automatica a llenar                    Conservación del suelo  \\\n",
       "k                                                                            \n",
       "AI-2023-0623-1132-xtpKn-eKORE_AI simplificada_I...                       0   \n",
       "AI-2023-0623-1136-By8nu-QIjKI_AI simplificada_I...                       0   \n",
       "\n",
       "Equivalencia automatica a llenar                    Fertilización  \\\n",
       "k                                                                   \n",
       "AI-2023-0623-1132-xtpKn-eKORE_AI simplificada_I...              0   \n",
       "AI-2023-0623-1136-By8nu-QIjKI_AI simplificada_I...              0   \n",
       "\n",
       "Equivalencia automatica a llenar                    Manejo integrado de plagas  \\\n",
       "k                                                                                \n",
       "AI-2023-0623-1132-xtpKn-eKORE_AI simplificada_I...                           0   \n",
       "AI-2023-0623-1136-By8nu-QIjKI_AI simplificada_I...                           0   \n",
       "\n",
       "Equivalencia automatica a llenar                    Otra  \\\n",
       "k                                                          \n",
       "AI-2023-0623-1132-xtpKn-eKORE_AI simplificada_I...     0   \n",
       "AI-2023-0623-1136-By8nu-QIjKI_AI simplificada_I...     0   \n",
       "\n",
       "Equivalencia automatica a llenar                    Tecnologias de poscosecha  \\\n",
       "k                                                                               \n",
       "AI-2023-0623-1132-xtpKn-eKORE_AI simplificada_I...                          0   \n",
       "AI-2023-0623-1136-By8nu-QIjKI_AI simplificada_I...                          0   \n",
       "\n",
       "Equivalencia automatica a llenar                    Variedades mejoradas  \n",
       "k                                                                         \n",
       "AI-2023-0623-1132-xtpKn-eKORE_AI simplificada_I...                     0  \n",
       "AI-2023-0623-1136-By8nu-QIjKI_AI simplificada_I...                     0  "
      ]
     },
     "execution_count": 57,
     "metadata": {},
     "output_type": "execute_result"
    }
   ],
   "source": [
    "tabla_final.head(2)"
   ]
  },
  {
   "cell_type": "code",
   "execution_count": 58,
   "metadata": {},
   "outputs": [
    {
     "data": {
      "text/plain": [
       "Index(['Agricultura de Conservación', 'Agricultura de conservación',\n",
       "       'Arreglos de siembra', 'Comercialización', 'Conservación de agua',\n",
       "       'Conservación del suelo', 'Fertilización', 'Manejo integrado de plagas',\n",
       "       'Otra', 'Tecnologias de poscosecha', 'Variedades mejoradas'],\n",
       "      dtype='object', name='Equivalencia automatica a llenar')"
      ]
     },
     "execution_count": 58,
     "metadata": {},
     "output_type": "execute_result"
    }
   ],
   "source": [
    "tabla_final.columns"
   ]
  },
  {
   "cell_type": "code",
   "execution_count": 60,
   "metadata": {},
   "outputs": [],
   "source": [
    "#comienza gráfica\n",
    "fig = plot_upset(\n",
    "    dataframes=[tabla_final],\n",
    "    legendgroups=[\"Kit técnológico\"],\n",
    "    exclude_zeros=True,\n",
    "    sorted_x=\"d\",\n",
    "    sorted_y=\"a\",\n",
    "    row_heights=[0.6, 0.4],\n",
    "    vertical_spacing = 0.,\n",
    "    horizontal_spacing = 0.15,\n",
    "    # marginal_data=[movies['ReleaseDate'], movies['AvgRating'], movies['Watches']],\n",
    "    # marginal_title=['ReleaseDate', 'AvgRating', 'Watches']\n",
    ")\n",
    "\n"
   ]
  },
  {
   "cell_type": "code",
   "execution_count": 61,
   "metadata": {},
   "outputs": [
    {
     "data": {
      "application/vnd.plotly.v1+json": {
       "config": {
        "plotlyServerURL": "https://plot.ly"
       },
       "data": [
        {
         "cliponaxis": false,
         "legendgroup": "Kit técnológico",
         "marker": {
          "color": "#636efa",
          "line": {
           "width": 0
          }
         },
         "name": "Kit técnológico",
         "showlegend": false,
         "text": [
          883,
          457,
          442,
          385,
          182,
          99,
          97,
          92,
          90,
          64,
          60,
          45,
          37,
          34,
          23,
          21,
          20,
          20,
          19,
          19,
          18,
          17,
          15,
          15,
          14,
          14,
          13,
          12,
          10,
          10,
          9,
          7,
          7,
          7,
          7,
          6,
          6,
          6,
          6,
          5,
          5,
          4,
          4,
          4,
          4,
          3,
          3,
          3,
          3,
          3,
          3,
          3,
          3,
          3,
          3,
          2,
          2,
          2,
          2,
          2,
          2,
          2,
          2,
          2,
          2,
          2,
          2,
          1,
          1,
          1,
          1,
          1,
          1,
          1,
          1,
          1,
          1,
          1,
          1,
          1,
          1,
          1,
          1,
          1,
          1,
          1,
          1,
          1,
          1,
          1,
          1,
          1,
          1,
          1,
          1,
          1,
          1,
          1,
          1,
          1,
          1,
          1,
          1,
          1,
          1,
          1
         ],
         "textangle": -90,
         "textfont": {
          "size": 12
         },
         "textposition": "outside",
         "texttemplate": "%{text:}",
         "type": "bar",
         "x": [
          "00000010000",
          "01100000000",
          "00000011000",
          "00000000000",
          "00000011001",
          "00000001000",
          "00001000000",
          "00000011010",
          "00100011000",
          "00000010010",
          "00000011011",
          "01000011000",
          "00000010001",
          "01000000000",
          "00100010000",
          "00000000001",
          "01000001000",
          "00000001010",
          "00000010011",
          "00000000010",
          "01100011000",
          "00000011100",
          "01000010000",
          "00100011001",
          "00100000000",
          "00000111000",
          "00100001000",
          "00100011010",
          "01100010000",
          "00000001001",
          "01000010010",
          "10000000000",
          "00100010001",
          "00000000100",
          "00000000011",
          "00100010011",
          "00100010010",
          "00001010000",
          "00000001011",
          "01000011010",
          "00001011000",
          "01001000000",
          "01000111000",
          "00101011000",
          "00100011011",
          "10000010000",
          "01100011010",
          "01010000000",
          "01000010001",
          "01000000011",
          "00100011100",
          "00100000001",
          "00001110000",
          "00000110010",
          "00000110000",
          "11100011000",
          "11001010000",
          "10001010000",
          "10000011000",
          "01001010000",
          "01000010011",
          "01000000010",
          "00101010000",
          "00001011011",
          "00000111010",
          "00000011110",
          "00000001100",
          "11000000010",
          "11000000000",
          "10110011000",
          "10100011000",
          "10100010000",
          "10000000001",
          "01101011100",
          "01101011000",
          "01101001000",
          "01100011101",
          "01100011100",
          "01100011001",
          "01100010010",
          "01100001100",
          "01100001000",
          "01001110000",
          "01001011000",
          "01000111001",
          "01000011011",
          "01000001011",
          "01000001010",
          "00101110010",
          "00101001001",
          "00101000001",
          "00101000000",
          "00100001100",
          "00100001010",
          "00100000100",
          "00010011001",
          "00001111000",
          "00001011100",
          "00001011010",
          "00001010010",
          "00001001001",
          "00001001000",
          "00000111110",
          "00000111011",
          "00000100001",
          "00000010100"
         ],
         "xaxis": "x2",
         "y": [
          883,
          457,
          442,
          385,
          182,
          99,
          97,
          92,
          90,
          64,
          60,
          45,
          37,
          34,
          23,
          21,
          20,
          20,
          19,
          19,
          18,
          17,
          15,
          15,
          14,
          14,
          13,
          12,
          10,
          10,
          9,
          7,
          7,
          7,
          7,
          6,
          6,
          6,
          6,
          5,
          5,
          4,
          4,
          4,
          4,
          3,
          3,
          3,
          3,
          3,
          3,
          3,
          3,
          3,
          3,
          2,
          2,
          2,
          2,
          2,
          2,
          2,
          2,
          2,
          2,
          2,
          2,
          1,
          1,
          1,
          1,
          1,
          1,
          1,
          1,
          1,
          1,
          1,
          1,
          1,
          1,
          1,
          1,
          1,
          1,
          1,
          1,
          1,
          1,
          1,
          1,
          1,
          1,
          1,
          1,
          1,
          1,
          1,
          1,
          1,
          1,
          1,
          1,
          1,
          1,
          1
         ],
         "yaxis": "y2"
        },
        {
         "cliponaxis": false,
         "legendgroup": "Kit técnológico",
         "marker": {
          "color": "#636efa",
          "line": {
           "width": 0
          }
         },
         "name": "Kit técnológico",
         "orientation": "h",
         "text": [
          5,
          24,
          36,
          40,
          144,
          359,
          399,
          660,
          711,
          1221,
          2157
         ],
         "textangle": 0,
         "textfont": {
          "size": 12
         },
         "textposition": "outside",
         "texttemplate": "%{text:}",
         "type": "bar",
         "x": [
          5,
          24,
          36,
          40,
          144,
          359,
          399,
          660,
          711,
          1221,
          2157
         ],
         "xaxis": "x3",
         "y": [
          "Comercialización",
          "Agricultura de Conservación",
          "Conservación del suelo",
          "Otra",
          "Conservación de agua",
          "Tecnologias de poscosecha",
          "Variedades mejoradas",
          "Agricultura de conservación",
          "Arreglos de siembra",
          "Manejo integrado de plagas",
          "Fertilización"
         ],
         "yaxis": "y3"
        },
        {
         "legendgroup": "True",
         "marker": {
          "color": "#000000",
          "line": {
           "color": "#000000",
           "width": 0
          },
          "size": 12,
          "symbol": "circle"
         },
         "mode": "markers",
         "name": "True",
         "showlegend": false,
         "type": "scatter",
         "x": [
          31,
          13,
          24,
          6,
          0,
          5,
          33,
          19,
          15,
          72,
          51,
          104,
          12,
          29,
          34,
          34,
          61,
          9,
          17,
          49,
          18,
          38,
          94,
          105,
          66,
          66,
          17,
          29,
          38,
          38,
          16,
          26,
          101,
          2,
          2,
          105,
          9,
          12,
          100,
          4,
          4,
          18,
          18,
          87,
          93,
          7,
          7,
          86,
          10,
          10,
          92,
          21,
          21,
          21,
          7,
          4,
          10,
          10,
          65,
          65,
          65,
          65,
          45,
          22,
          14,
          37,
          54,
          54,
          104,
          48,
          32,
          30,
          36,
          99,
          53,
          53,
          60,
          35,
          58,
          11,
          8,
          40,
          25,
          25,
          25,
          53,
          23,
          95,
          39,
          27,
          98,
          64,
          64,
          64,
          85,
          44,
          63,
          103,
          103,
          103,
          50,
          97,
          64,
          103,
          103,
          102,
          102,
          102,
          102,
          102,
          37,
          101,
          100,
          99,
          100,
          40,
          40,
          99,
          98,
          98,
          63,
          63,
          97,
          97,
          97,
          98,
          63,
          63,
          52,
          52,
          52,
          42,
          96,
          96,
          96,
          96,
          84,
          41,
          91,
          90,
          89,
          95,
          95,
          95,
          57,
          59,
          62,
          83,
          43,
          82,
          88,
          47,
          91,
          14,
          26,
          94,
          51,
          90,
          32,
          36,
          93,
          35,
          92,
          92,
          93,
          8,
          8,
          36,
          32,
          89,
          23,
          23,
          35,
          35,
          27,
          27,
          44,
          44,
          50,
          50,
          50,
          27,
          23,
          44,
          44,
          62,
          43,
          62,
          90,
          89,
          89,
          43,
          43,
          88,
          88,
          88,
          88,
          1,
          1,
          47,
          41,
          22,
          16,
          61,
          48,
          49,
          49,
          30,
          87,
          60,
          86,
          87,
          86,
          86,
          81,
          81,
          11,
          11,
          30,
          48,
          60,
          60,
          39,
          39,
          85,
          85,
          80,
          80,
          39,
          85,
          85,
          71,
          28,
          28,
          59,
          79,
          79,
          70,
          20,
          20,
          83,
          42,
          42,
          42,
          78,
          78,
          84,
          84,
          84,
          46,
          46,
          77,
          77,
          84,
          76,
          76,
          59,
          83,
          83,
          82,
          82,
          82,
          75,
          75,
          74,
          74,
          73,
          73,
          28,
          81,
          79,
          80,
          80,
          75,
          20,
          20,
          79,
          78,
          78,
          46,
          46,
          77,
          77,
          77,
          46,
          78,
          76,
          76,
          76,
          76,
          69,
          74,
          73,
          75,
          74,
          74,
          73,
          73,
          73,
          68,
          68,
          45,
          72,
          67,
          67,
          58,
          58,
          71,
          57,
          70,
          57,
          56,
          56,
          71,
          70,
          70,
          69,
          69,
          69,
          69,
          67,
          56,
          55,
          55,
          55,
          56,
          55,
          55
         ],
         "xaxis": "x4",
         "y": [
          0,
          1,
          2,
          4,
          6,
          7,
          8,
          9,
          10,
          0,
          2,
          5,
          6,
          7,
          9,
          10,
          1,
          6,
          7,
          1,
          6,
          7,
          2,
          6,
          7,
          8,
          9,
          10,
          9,
          10,
          1,
          2,
          4,
          6,
          7,
          8,
          9,
          10,
          4,
          6,
          7,
          9,
          10,
          1,
          2,
          6,
          7,
          1,
          6,
          7,
          2,
          6,
          7,
          8,
          9,
          10,
          9,
          10,
          6,
          7,
          8,
          9,
          0,
          1,
          2,
          4,
          5,
          6,
          10,
          1,
          2,
          1,
          2,
          4,
          5,
          6,
          1,
          2,
          0,
          1,
          2,
          4,
          5,
          6,
          7,
          9,
          2,
          3,
          1,
          2,
          4,
          5,
          6,
          7,
          1,
          2,
          4,
          5,
          6,
          7,
          2,
          4,
          9,
          9,
          10,
          5,
          6,
          7,
          8,
          9,
          6,
          7,
          7,
          6,
          10,
          6,
          7,
          9,
          6,
          7,
          6,
          7,
          6,
          7,
          8,
          9,
          9,
          10,
          4,
          5,
          6,
          1,
          4,
          5,
          6,
          7,
          1,
          1,
          2,
          2,
          2,
          6,
          7,
          10,
          0,
          1,
          2,
          1,
          2,
          1,
          2,
          1,
          4,
          6,
          7,
          8,
          10,
          4,
          6,
          6,
          7,
          6,
          7,
          8,
          9,
          6,
          7,
          9,
          10,
          4,
          6,
          7,
          9,
          10,
          6,
          7,
          6,
          7,
          6,
          7,
          8,
          9,
          10,
          9,
          10,
          4,
          4,
          6,
          10,
          7,
          10,
          6,
          7,
          4,
          5,
          6,
          9,
          1,
          2,
          3,
          4,
          6,
          7,
          9,
          6,
          9,
          10,
          6,
          7,
          6,
          7,
          9,
          9,
          10,
          1,
          2,
          6,
          7,
          9,
          10,
          9,
          10,
          6,
          7,
          6,
          7,
          1,
          2,
          9,
          9,
          10,
          0,
          1,
          2,
          4,
          1,
          2,
          0,
          1,
          2,
          4,
          5,
          6,
          7,
          1,
          2,
          5,
          6,
          7,
          1,
          2,
          1,
          2,
          10,
          1,
          2,
          6,
          6,
          7,
          4,
          5,
          6,
          1,
          2,
          1,
          2,
          1,
          2,
          6,
          7,
          6,
          7,
          8,
          4,
          6,
          7,
          9,
          6,
          7,
          6,
          7,
          6,
          7,
          8,
          9,
          10,
          6,
          7,
          8,
          10,
          0,
          4,
          4,
          7,
          6,
          7,
          6,
          7,
          8,
          0,
          1,
          6,
          10,
          0,
          1,
          6,
          7,
          2,
          4,
          2,
          6,
          0,
          1,
          6,
          6,
          7,
          2,
          3,
          6,
          7,
          9,
          4,
          0,
          1,
          2,
          6,
          6,
          7
         ],
         "yaxis": "y4"
        },
        {
         "legendgroup": "False",
         "marker": {
          "color": "#C2C2C2",
          "line": {
           "color": "#000000",
           "width": 0
          },
          "size": 12,
          "symbol": "circle"
         },
         "mode": "markers",
         "name": "False",
         "showlegend": false,
         "type": "scatter",
         "x": [
          69,
          55,
          55,
          55,
          55,
          55,
          55,
          73,
          74,
          56,
          56,
          75,
          56,
          56,
          56,
          56,
          56,
          76,
          77,
          46,
          78,
          20,
          70,
          79,
          28,
          71,
          80,
          81,
          67,
          67,
          67,
          67,
          67,
          67,
          67,
          67,
          1,
          68,
          68,
          68,
          68,
          68,
          68,
          68,
          68,
          68,
          69,
          69,
          69,
          69,
          69,
          70,
          70,
          70,
          71,
          71,
          71,
          70,
          70,
          70,
          71,
          71,
          71,
          71,
          47,
          82,
          83,
          59,
          57,
          57,
          57,
          41,
          84,
          42,
          57,
          57,
          57,
          57,
          57,
          85,
          39,
          11,
          58,
          58,
          58,
          58,
          58,
          60,
          30,
          48,
          22,
          45,
          45,
          45,
          45,
          45,
          58,
          58,
          58,
          86,
          87,
          16,
          45,
          45,
          45,
          45,
          49,
          61,
          72,
          72,
          72,
          72,
          72,
          72,
          72,
          72,
          72,
          13,
          31,
          31,
          31,
          31,
          31,
          31,
          31,
          31,
          31,
          31,
          73,
          74,
          75,
          73,
          74,
          73,
          73,
          74,
          74,
          74,
          75,
          75,
          75,
          75,
          75,
          76,
          76,
          76,
          77,
          77,
          77,
          46,
          46,
          46,
          78,
          78,
          78,
          20,
          20,
          20,
          79,
          79,
          79,
          28,
          28,
          28,
          76,
          46,
          77,
          77,
          78,
          78,
          46,
          80,
          80,
          80,
          80,
          20,
          20,
          20,
          79,
          79,
          79,
          81,
          81,
          81,
          81,
          28,
          28,
          28,
          28,
          80,
          80,
          81,
          81,
          81,
          47,
          1,
          1,
          1,
          1,
          1,
          1,
          1,
          1,
          88,
          88,
          82,
          82,
          43,
          43,
          83,
          83,
          62,
          62,
          59,
          59,
          89,
          89,
          90,
          90,
          91,
          91,
          41,
          41,
          47,
          47,
          47,
          47,
          47,
          47,
          47,
          84,
          84,
          84,
          42,
          42,
          42,
          83,
          82,
          82,
          82,
          82,
          59,
          83,
          83,
          83,
          59,
          59,
          59,
          59,
          41,
          41,
          41,
          41,
          41,
          41,
          84,
          84,
          50,
          50,
          42,
          42,
          42,
          44,
          44,
          85,
          85,
          85,
          85,
          27,
          27,
          39,
          39,
          39,
          39,
          23,
          23,
          8,
          8,
          11,
          11,
          11,
          11,
          35,
          35,
          60,
          60,
          60,
          60,
          36,
          36,
          30,
          30,
          30,
          30,
          32,
          32,
          48,
          48,
          48,
          48,
          14,
          14,
          22,
          22,
          22,
          22,
          85,
          39,
          39,
          92,
          92,
          11,
          11,
          11,
          86,
          86,
          86,
          86,
          86,
          60,
          60,
          93,
          93,
          87,
          87,
          87,
          87,
          87,
          30,
          30,
          48,
          48,
          48,
          30,
          26,
          26,
          16,
          16,
          16,
          16,
          16,
          22,
          22,
          22,
          22,
          86,
          87,
          87,
          94,
          94,
          16,
          16,
          16,
          49,
          49,
          49,
          49,
          49,
          49,
          49,
          61,
          61,
          61,
          61,
          61,
          61,
          61,
          51,
          51,
          61,
          24,
          24,
          13,
          13,
          13,
          13,
          13,
          13,
          13,
          13,
          13,
          88,
          43,
          62,
          89,
          90,
          91,
          88,
          88,
          88,
          43,
          62,
          43,
          43,
          43,
          89,
          89,
          62,
          62,
          62,
          62,
          89,
          89,
          90,
          90,
          90,
          90,
          90,
          91,
          91,
          91,
          91,
          91,
          91,
          50,
          50,
          50,
          44,
          44,
          44,
          27,
          27,
          27,
          95,
          95,
          95,
          23,
          23,
          23,
          8,
          8,
          8,
          35,
          35,
          35,
          36,
          36,
          36,
          32,
          32,
          32,
          14,
          14,
          14,
          44,
          27,
          50,
          50,
          23,
          23,
          27,
          92,
          92,
          92,
          92,
          8,
          8,
          8,
          35,
          35,
          93,
          93,
          93,
          93,
          36,
          36,
          32,
          32,
          32,
          36,
          26,
          26,
          26,
          26,
          14,
          14,
          14,
          14,
          93,
          92,
          92,
          93,
          94,
          94,
          94,
          94,
          94,
          26,
          26,
          26,
          94,
          94,
          51,
          51,
          51,
          51,
          51,
          51,
          51,
          24,
          24,
          24,
          24,
          24,
          24,
          24,
          24,
          96,
          96,
          96,
          96,
          52,
          52,
          52,
          52,
          97,
          97,
          97,
          97,
          63,
          63,
          63,
          63,
          98,
          98,
          98,
          98,
          95,
          95,
          40,
          40,
          40,
          40,
          99,
          99,
          99,
          99,
          37,
          37,
          37,
          37,
          95,
          95,
          100,
          100,
          100,
          100,
          101,
          101,
          101,
          101,
          6,
          6,
          6,
          6,
          102,
          102,
          102,
          102,
          102,
          97,
          96,
          96,
          96,
          103,
          103,
          103,
          103,
          103,
          63,
          64,
          64,
          64,
          64,
          64,
          98,
          25,
          25,
          25,
          25,
          25,
          40,
          52,
          52,
          52,
          52,
          53,
          53,
          53,
          53,
          53,
          99,
          54,
          54,
          54,
          54,
          54,
          37,
          63,
          98,
          97,
          97,
          98,
          40,
          40,
          40,
          99,
          99,
          100,
          100,
          99,
          101,
          101,
          37,
          37,
          37,
          37,
          100,
          100,
          101,
          101,
          101,
          104,
          104,
          104,
          104,
          104,
          6,
          6,
          6,
          6,
          6,
          6,
          103,
          102,
          65,
          65,
          65,
          65,
          65,
          65,
          64,
          64,
          21,
          21,
          21,
          21,
          21,
          21,
          25,
          25,
          25,
          10,
          10,
          10,
          10,
          10,
          10,
          7,
          7,
          7,
          7,
          7,
          7,
          53,
          53,
          4,
          4,
          4,
          4,
          4,
          4,
          53,
          2,
          2,
          2,
          2,
          2,
          2,
          54,
          54,
          54,
          54,
          105,
          105,
          105,
          105,
          105,
          105,
          18,
          18,
          18,
          18,
          18,
          18,
          9,
          9,
          9,
          9,
          9,
          9,
          12,
          12,
          12,
          12,
          12,
          12,
          104,
          104,
          104,
          104,
          0,
          0,
          0,
          0,
          0,
          0,
          10,
          65,
          7,
          21,
          21,
          4,
          4,
          7,
          66,
          66,
          66,
          66,
          66,
          66,
          66,
          105,
          2,
          2,
          2,
          38,
          38,
          38,
          38,
          38,
          38,
          38,
          18,
          18,
          17,
          17,
          17,
          17,
          17,
          17,
          17,
          9,
          9,
          105,
          105,
          29,
          29,
          29,
          29,
          29,
          29,
          29,
          12,
          12,
          12,
          9,
          5,
          5,
          5,
          5,
          5,
          5,
          5,
          0,
          0,
          0,
          0,
          38,
          17,
          66,
          66,
          29,
          29,
          17,
          33,
          33,
          33,
          33,
          33,
          33,
          33,
          33,
          5,
          5,
          5,
          34,
          34,
          34,
          34,
          34,
          34,
          34,
          34,
          34,
          19,
          19,
          19,
          19,
          19,
          19,
          19,
          19,
          19,
          33,
          33,
          15,
          15,
          15,
          15,
          15,
          15,
          15,
          15,
          15,
          15,
          19,
          3,
          3,
          3,
          3,
          3,
          3,
          3,
          3,
          3,
          3,
          3
         ],
         "xaxis": "x4",
         "y": [
          1,
          3,
          4,
          5,
          8,
          9,
          10,
          0,
          0,
          2,
          3,
          0,
          5,
          7,
          8,
          9,
          10,
          0,
          0,
          0,
          0,
          0,
          1,
          0,
          0,
          1,
          0,
          0,
          2,
          3,
          4,
          5,
          6,
          7,
          8,
          10,
          0,
          2,
          3,
          4,
          5,
          6,
          7,
          8,
          9,
          10,
          4,
          5,
          8,
          9,
          10,
          3,
          4,
          5,
          3,
          4,
          5,
          8,
          9,
          10,
          7,
          8,
          9,
          10,
          0,
          0,
          0,
          0,
          1,
          2,
          3,
          0,
          0,
          0,
          5,
          7,
          8,
          9,
          10,
          0,
          0,
          0,
          1,
          2,
          3,
          4,
          5,
          0,
          0,
          0,
          0,
          1,
          2,
          3,
          4,
          5,
          8,
          9,
          10,
          0,
          0,
          0,
          7,
          8,
          9,
          10,
          0,
          0,
          1,
          2,
          3,
          4,
          5,
          6,
          7,
          8,
          9,
          0,
          1,
          2,
          3,
          4,
          5,
          6,
          7,
          8,
          9,
          10,
          3,
          3,
          3,
          5,
          5,
          9,
          10,
          8,
          9,
          10,
          5,
          6,
          8,
          9,
          10,
          3,
          4,
          5,
          3,
          4,
          5,
          3,
          4,
          5,
          3,
          4,
          5,
          3,
          4,
          5,
          3,
          4,
          5,
          3,
          4,
          5,
          9,
          8,
          9,
          10,
          8,
          9,
          10,
          3,
          4,
          5,
          6,
          8,
          9,
          10,
          7,
          8,
          10,
          3,
          4,
          5,
          6,
          7,
          8,
          9,
          10,
          9,
          10,
          8,
          9,
          10,
          2,
          3,
          4,
          5,
          6,
          7,
          8,
          9,
          10,
          0,
          1,
          2,
          3,
          0,
          1,
          2,
          3,
          0,
          1,
          2,
          3,
          0,
          1,
          0,
          1,
          0,
          1,
          2,
          3,
          4,
          5,
          6,
          7,
          8,
          9,
          10,
          2,
          3,
          4,
          2,
          3,
          4,
          5,
          7,
          8,
          9,
          10,
          5,
          8,
          9,
          10,
          7,
          8,
          9,
          10,
          5,
          6,
          7,
          8,
          9,
          10,
          8,
          9,
          0,
          1,
          8,
          9,
          10,
          0,
          1,
          2,
          3,
          4,
          5,
          0,
          1,
          2,
          3,
          4,
          5,
          0,
          1,
          0,
          1,
          2,
          3,
          4,
          5,
          0,
          1,
          2,
          3,
          4,
          5,
          0,
          1,
          2,
          3,
          4,
          5,
          0,
          1,
          2,
          3,
          4,
          5,
          0,
          1,
          2,
          3,
          4,
          5,
          8,
          8,
          10,
          0,
          1,
          8,
          9,
          10,
          2,
          3,
          4,
          5,
          6,
          7,
          8,
          0,
          1,
          2,
          3,
          4,
          5,
          6,
          7,
          8,
          7,
          8,
          9,
          10,
          0,
          1,
          2,
          3,
          4,
          5,
          6,
          7,
          8,
          9,
          10,
          8,
          8,
          10,
          0,
          1,
          8,
          9,
          10,
          2,
          3,
          4,
          5,
          6,
          7,
          8,
          2,
          3,
          4,
          5,
          6,
          7,
          8,
          0,
          1,
          10,
          0,
          1,
          2,
          3,
          4,
          5,
          6,
          7,
          8,
          9,
          10,
          3,
          3,
          3,
          3,
          3,
          3,
          7,
          8,
          10,
          5,
          5,
          8,
          9,
          10,
          5,
          6,
          7,
          8,
          9,
          10,
          8,
          9,
          5,
          6,
          7,
          8,
          9,
          5,
          6,
          7,
          8,
          9,
          10,
          3,
          4,
          5,
          3,
          4,
          5,
          3,
          4,
          5,
          0,
          1,
          2,
          3,
          4,
          5,
          3,
          4,
          5,
          3,
          4,
          5,
          3,
          4,
          5,
          3,
          4,
          5,
          3,
          4,
          5,
          8,
          8,
          9,
          10,
          8,
          9,
          10,
          3,
          4,
          5,
          6,
          8,
          9,
          10,
          7,
          8,
          3,
          4,
          5,
          6,
          7,
          8,
          7,
          8,
          9,
          10,
          3,
          4,
          5,
          6,
          7,
          8,
          9,
          10,
          8,
          9,
          10,
          10,
          3,
          4,
          5,
          6,
          7,
          8,
          9,
          10,
          9,
          10,
          3,
          4,
          5,
          6,
          7,
          8,
          9,
          3,
          4,
          5,
          6,
          7,
          8,
          9,
          10,
          0,
          1,
          2,
          3,
          0,
          1,
          2,
          3,
          0,
          1,
          2,
          3,
          0,
          1,
          2,
          3,
          0,
          1,
          2,
          3,
          4,
          5,
          0,
          1,
          2,
          3,
          0,
          1,
          2,
          3,
          0,
          1,
          2,
          3,
          8,
          9,
          0,
          1,
          2,
          3,
          0,
          1,
          2,
          3,
          0,
          1,
          2,
          3,
          0,
          1,
          2,
          3,
          4,
          5,
          8,
          9,
          10,
          0,
          1,
          2,
          3,
          4,
          5,
          0,
          1,
          2,
          3,
          4,
          5,
          0,
          1,
          2,
          3,
          4,
          5,
          7,
          8,
          9,
          10,
          0,
          1,
          2,
          3,
          4,
          5,
          0,
          1,
          2,
          3,
          4,
          5,
          8,
          8,
          9,
          10,
          10,
          8,
          9,
          10,
          7,
          8,
          5,
          6,
          10,
          5,
          6,
          7,
          8,
          9,
          10,
          8,
          9,
          8,
          9,
          10,
          0,
          1,
          2,
          3,
          4,
          5,
          6,
          7,
          8,
          9,
          10,
          8,
          10,
          0,
          1,
          2,
          3,
          4,
          5,
          8,
          10,
          0,
          1,
          2,
          3,
          4,
          5,
          8,
          9,
          10,
          0,
          1,
          2,
          3,
          4,
          5,
          0,
          1,
          2,
          3,
          4,
          5,
          7,
          8,
          0,
          1,
          2,
          3,
          4,
          5,
          10,
          0,
          1,
          2,
          3,
          4,
          5,
          7,
          8,
          9,
          10,
          0,
          1,
          2,
          3,
          4,
          5,
          0,
          1,
          2,
          3,
          4,
          5,
          0,
          1,
          2,
          3,
          4,
          5,
          0,
          1,
          2,
          3,
          4,
          5,
          6,
          7,
          8,
          9,
          0,
          1,
          2,
          3,
          4,
          5,
          8,
          10,
          8,
          9,
          10,
          8,
          9,
          10,
          0,
          1,
          2,
          3,
          4,
          5,
          6,
          7,
          8,
          9,
          10,
          0,
          1,
          2,
          3,
          4,
          5,
          6,
          7,
          8,
          0,
          1,
          2,
          3,
          4,
          5,
          6,
          7,
          8,
          9,
          10,
          0,
          1,
          2,
          3,
          4,
          5,
          6,
          7,
          8,
          9,
          10,
          0,
          1,
          2,
          3,
          4,
          5,
          6,
          7,
          8,
          9,
          10,
          8,
          8,
          9,
          10,
          8,
          9,
          10,
          0,
          1,
          2,
          3,
          4,
          5,
          6,
          7,
          8,
          9,
          10,
          0,
          1,
          2,
          3,
          4,
          5,
          6,
          7,
          8,
          0,
          1,
          2,
          3,
          4,
          5,
          6,
          7,
          8,
          9,
          10,
          0,
          1,
          2,
          3,
          4,
          5,
          6,
          7,
          8,
          9,
          10,
          0,
          1,
          2,
          3,
          4,
          5,
          6,
          7,
          8,
          9,
          10
         ],
         "yaxis": "y4"
        },
        {
         "legendgroup": "True",
         "line": {
          "color": "#000000",
          "width": 2
         },
         "mode": "lines",
         "name": "True",
         "showlegend": false,
         "type": "scatter",
         "x": [
          34,
          34
         ],
         "xaxis": "x4",
         "y": [
          9,
          10
         ],
         "yaxis": "y4"
        },
        {
         "legendgroup": "True",
         "line": {
          "color": "#000000",
          "width": 2
         },
         "mode": "lines",
         "name": "True",
         "showlegend": false,
         "type": "scatter",
         "x": [
          29,
          29
         ],
         "xaxis": "x4",
         "y": [
          7,
          10
         ],
         "yaxis": "y4"
        },
        {
         "legendgroup": "True",
         "line": {
          "color": "#000000",
          "width": 2
         },
         "mode": "lines",
         "name": "True",
         "showlegend": false,
         "type": "scatter",
         "x": [
          17,
          17
         ],
         "xaxis": "x4",
         "y": [
          7,
          9
         ],
         "yaxis": "y4"
        },
        {
         "legendgroup": "True",
         "line": {
          "color": "#000000",
          "width": 2
         },
         "mode": "lines",
         "name": "True",
         "showlegend": false,
         "type": "scatter",
         "x": [
          38,
          38
         ],
         "xaxis": "x4",
         "y": [
          7,
          9
         ],
         "yaxis": "y4"
        },
        {
         "legendgroup": "True",
         "line": {
          "color": "#000000",
          "width": 2
         },
         "mode": "lines",
         "name": "True",
         "showlegend": false,
         "type": "scatter",
         "x": [
          38,
          38
         ],
         "xaxis": "x4",
         "y": [
          9,
          10
         ],
         "yaxis": "y4"
        },
        {
         "legendgroup": "True",
         "line": {
          "color": "#000000",
          "width": 2
         },
         "mode": "lines",
         "name": "True",
         "showlegend": false,
         "type": "scatter",
         "x": [
          66,
          66
         ],
         "xaxis": "x4",
         "y": [
          7,
          8
         ],
         "yaxis": "y4"
        },
        {
         "legendgroup": "True",
         "line": {
          "color": "#000000",
          "width": 2
         },
         "mode": "lines",
         "name": "True",
         "showlegend": false,
         "type": "scatter",
         "x": [
          12,
          12
         ],
         "xaxis": "x4",
         "y": [
          6,
          10
         ],
         "yaxis": "y4"
        },
        {
         "legendgroup": "True",
         "line": {
          "color": "#000000",
          "width": 2
         },
         "mode": "lines",
         "name": "True",
         "showlegend": false,
         "type": "scatter",
         "x": [
          9,
          9
         ],
         "xaxis": "x4",
         "y": [
          6,
          9
         ],
         "yaxis": "y4"
        },
        {
         "legendgroup": "True",
         "line": {
          "color": "#000000",
          "width": 2
         },
         "mode": "lines",
         "name": "True",
         "showlegend": false,
         "type": "scatter",
         "x": [
          18,
          18
         ],
         "xaxis": "x4",
         "y": [
          6,
          9
         ],
         "yaxis": "y4"
        },
        {
         "legendgroup": "True",
         "line": {
          "color": "#000000",
          "width": 2
         },
         "mode": "lines",
         "name": "True",
         "showlegend": false,
         "type": "scatter",
         "x": [
          18,
          18
         ],
         "xaxis": "x4",
         "y": [
          9,
          10
         ],
         "yaxis": "y4"
        },
        {
         "legendgroup": "True",
         "line": {
          "color": "#000000",
          "width": 2
         },
         "mode": "lines",
         "name": "True",
         "showlegend": false,
         "type": "scatter",
         "x": [
          105,
          105
         ],
         "xaxis": "x4",
         "y": [
          6,
          8
         ],
         "yaxis": "y4"
        },
        {
         "legendgroup": "True",
         "line": {
          "color": "#000000",
          "width": 2
         },
         "mode": "lines",
         "name": "True",
         "showlegend": false,
         "type": "scatter",
         "x": [
          2,
          2
         ],
         "xaxis": "x4",
         "y": [
          6,
          7
         ],
         "yaxis": "y4"
        },
        {
         "legendgroup": "True",
         "line": {
          "color": "#000000",
          "width": 2
         },
         "mode": "lines",
         "name": "True",
         "showlegend": false,
         "type": "scatter",
         "x": [
          4,
          4
         ],
         "xaxis": "x4",
         "y": [
          6,
          7
         ],
         "yaxis": "y4"
        },
        {
         "legendgroup": "True",
         "line": {
          "color": "#000000",
          "width": 2
         },
         "mode": "lines",
         "name": "True",
         "showlegend": false,
         "type": "scatter",
         "x": [
          4,
          4
         ],
         "xaxis": "x4",
         "y": [
          7,
          10
         ],
         "yaxis": "y4"
        },
        {
         "legendgroup": "True",
         "line": {
          "color": "#000000",
          "width": 2
         },
         "mode": "lines",
         "name": "True",
         "showlegend": false,
         "type": "scatter",
         "x": [
          7,
          7
         ],
         "xaxis": "x4",
         "y": [
          6,
          7
         ],
         "yaxis": "y4"
        },
        {
         "legendgroup": "True",
         "line": {
          "color": "#000000",
          "width": 2
         },
         "mode": "lines",
         "name": "True",
         "showlegend": false,
         "type": "scatter",
         "x": [
          7,
          7
         ],
         "xaxis": "x4",
         "y": [
          7,
          9
         ],
         "yaxis": "y4"
        },
        {
         "legendgroup": "True",
         "line": {
          "color": "#000000",
          "width": 2
         },
         "mode": "lines",
         "name": "True",
         "showlegend": false,
         "type": "scatter",
         "x": [
          10,
          10
         ],
         "xaxis": "x4",
         "y": [
          6,
          7
         ],
         "yaxis": "y4"
        },
        {
         "legendgroup": "True",
         "line": {
          "color": "#000000",
          "width": 2
         },
         "mode": "lines",
         "name": "True",
         "showlegend": false,
         "type": "scatter",
         "x": [
          10,
          10
         ],
         "xaxis": "x4",
         "y": [
          7,
          9
         ],
         "yaxis": "y4"
        },
        {
         "legendgroup": "True",
         "line": {
          "color": "#000000",
          "width": 2
         },
         "mode": "lines",
         "name": "True",
         "showlegend": false,
         "type": "scatter",
         "x": [
          10,
          10
         ],
         "xaxis": "x4",
         "y": [
          9,
          10
         ],
         "yaxis": "y4"
        },
        {
         "legendgroup": "True",
         "line": {
          "color": "#000000",
          "width": 2
         },
         "mode": "lines",
         "name": "True",
         "showlegend": false,
         "type": "scatter",
         "x": [
          21,
          21
         ],
         "xaxis": "x4",
         "y": [
          6,
          7
         ],
         "yaxis": "y4"
        },
        {
         "legendgroup": "True",
         "line": {
          "color": "#000000",
          "width": 2
         },
         "mode": "lines",
         "name": "True",
         "showlegend": false,
         "type": "scatter",
         "x": [
          21,
          21
         ],
         "xaxis": "x4",
         "y": [
          7,
          8
         ],
         "yaxis": "y4"
        },
        {
         "legendgroup": "True",
         "line": {
          "color": "#000000",
          "width": 2
         },
         "mode": "lines",
         "name": "True",
         "showlegend": false,
         "type": "scatter",
         "x": [
          65,
          65
         ],
         "xaxis": "x4",
         "y": [
          6,
          7
         ],
         "yaxis": "y4"
        },
        {
         "legendgroup": "True",
         "line": {
          "color": "#000000",
          "width": 2
         },
         "mode": "lines",
         "name": "True",
         "showlegend": false,
         "type": "scatter",
         "x": [
          65,
          65
         ],
         "xaxis": "x4",
         "y": [
          7,
          8
         ],
         "yaxis": "y4"
        },
        {
         "legendgroup": "True",
         "line": {
          "color": "#000000",
          "width": 2
         },
         "mode": "lines",
         "name": "True",
         "showlegend": false,
         "type": "scatter",
         "x": [
          65,
          65
         ],
         "xaxis": "x4",
         "y": [
          8,
          9
         ],
         "yaxis": "y4"
        },
        {
         "legendgroup": "True",
         "line": {
          "color": "#000000",
          "width": 2
         },
         "mode": "lines",
         "name": "True",
         "showlegend": false,
         "type": "scatter",
         "x": [
          104,
          104
         ],
         "xaxis": "x4",
         "y": [
          5,
          10
         ],
         "yaxis": "y4"
        },
        {
         "legendgroup": "True",
         "line": {
          "color": "#000000",
          "width": 2
         },
         "mode": "lines",
         "name": "True",
         "showlegend": false,
         "type": "scatter",
         "x": [
          54,
          54
         ],
         "xaxis": "x4",
         "y": [
          5,
          6
         ],
         "yaxis": "y4"
        },
        {
         "legendgroup": "True",
         "line": {
          "color": "#000000",
          "width": 2
         },
         "mode": "lines",
         "name": "True",
         "showlegend": false,
         "type": "scatter",
         "x": [
          53,
          53
         ],
         "xaxis": "x4",
         "y": [
          5,
          6
         ],
         "yaxis": "y4"
        },
        {
         "legendgroup": "True",
         "line": {
          "color": "#000000",
          "width": 2
         },
         "mode": "lines",
         "name": "True",
         "showlegend": false,
         "type": "scatter",
         "x": [
          53,
          53
         ],
         "xaxis": "x4",
         "y": [
          6,
          9
         ],
         "yaxis": "y4"
        },
        {
         "legendgroup": "True",
         "line": {
          "color": "#000000",
          "width": 2
         },
         "mode": "lines",
         "name": "True",
         "showlegend": false,
         "type": "scatter",
         "x": [
          25,
          25
         ],
         "xaxis": "x4",
         "y": [
          5,
          6
         ],
         "yaxis": "y4"
        },
        {
         "legendgroup": "True",
         "line": {
          "color": "#000000",
          "width": 2
         },
         "mode": "lines",
         "name": "True",
         "showlegend": false,
         "type": "scatter",
         "x": [
          25,
          25
         ],
         "xaxis": "x4",
         "y": [
          6,
          7
         ],
         "yaxis": "y4"
        },
        {
         "legendgroup": "True",
         "line": {
          "color": "#000000",
          "width": 2
         },
         "mode": "lines",
         "name": "True",
         "showlegend": false,
         "type": "scatter",
         "x": [
          64,
          64
         ],
         "xaxis": "x4",
         "y": [
          5,
          6
         ],
         "yaxis": "y4"
        },
        {
         "legendgroup": "True",
         "line": {
          "color": "#000000",
          "width": 2
         },
         "mode": "lines",
         "name": "True",
         "showlegend": false,
         "type": "scatter",
         "x": [
          64,
          64
         ],
         "xaxis": "x4",
         "y": [
          6,
          7
         ],
         "yaxis": "y4"
        },
        {
         "legendgroup": "True",
         "line": {
          "color": "#000000",
          "width": 2
         },
         "mode": "lines",
         "name": "True",
         "showlegend": false,
         "type": "scatter",
         "x": [
          64,
          64
         ],
         "xaxis": "x4",
         "y": [
          7,
          9
         ],
         "yaxis": "y4"
        },
        {
         "legendgroup": "True",
         "line": {
          "color": "#000000",
          "width": 2
         },
         "mode": "lines",
         "name": "True",
         "showlegend": false,
         "type": "scatter",
         "x": [
          103,
          103
         ],
         "xaxis": "x4",
         "y": [
          5,
          6
         ],
         "yaxis": "y4"
        },
        {
         "legendgroup": "True",
         "line": {
          "color": "#000000",
          "width": 2
         },
         "mode": "lines",
         "name": "True",
         "showlegend": false,
         "type": "scatter",
         "x": [
          103,
          103
         ],
         "xaxis": "x4",
         "y": [
          6,
          7
         ],
         "yaxis": "y4"
        },
        {
         "legendgroup": "True",
         "line": {
          "color": "#000000",
          "width": 2
         },
         "mode": "lines",
         "name": "True",
         "showlegend": false,
         "type": "scatter",
         "x": [
          103,
          103
         ],
         "xaxis": "x4",
         "y": [
          7,
          9
         ],
         "yaxis": "y4"
        },
        {
         "legendgroup": "True",
         "line": {
          "color": "#000000",
          "width": 2
         },
         "mode": "lines",
         "name": "True",
         "showlegend": false,
         "type": "scatter",
         "x": [
          103,
          103
         ],
         "xaxis": "x4",
         "y": [
          9,
          10
         ],
         "yaxis": "y4"
        },
        {
         "legendgroup": "True",
         "line": {
          "color": "#000000",
          "width": 2
         },
         "mode": "lines",
         "name": "True",
         "showlegend": false,
         "type": "scatter",
         "x": [
          102,
          102
         ],
         "xaxis": "x4",
         "y": [
          5,
          6
         ],
         "yaxis": "y4"
        },
        {
         "legendgroup": "True",
         "line": {
          "color": "#000000",
          "width": 2
         },
         "mode": "lines",
         "name": "True",
         "showlegend": false,
         "type": "scatter",
         "x": [
          102,
          102
         ],
         "xaxis": "x4",
         "y": [
          6,
          7
         ],
         "yaxis": "y4"
        },
        {
         "legendgroup": "True",
         "line": {
          "color": "#000000",
          "width": 2
         },
         "mode": "lines",
         "name": "True",
         "showlegend": false,
         "type": "scatter",
         "x": [
          102,
          102
         ],
         "xaxis": "x4",
         "y": [
          7,
          8
         ],
         "yaxis": "y4"
        },
        {
         "legendgroup": "True",
         "line": {
          "color": "#000000",
          "width": 2
         },
         "mode": "lines",
         "name": "True",
         "showlegend": false,
         "type": "scatter",
         "x": [
          102,
          102
         ],
         "xaxis": "x4",
         "y": [
          8,
          9
         ],
         "yaxis": "y4"
        },
        {
         "legendgroup": "True",
         "line": {
          "color": "#000000",
          "width": 2
         },
         "mode": "lines",
         "name": "True",
         "showlegend": false,
         "type": "scatter",
         "x": [
          101,
          101
         ],
         "xaxis": "x4",
         "y": [
          4,
          7
         ],
         "yaxis": "y4"
        },
        {
         "legendgroup": "True",
         "line": {
          "color": "#000000",
          "width": 2
         },
         "mode": "lines",
         "name": "True",
         "showlegend": false,
         "type": "scatter",
         "x": [
          100,
          100
         ],
         "xaxis": "x4",
         "y": [
          4,
          7
         ],
         "yaxis": "y4"
        },
        {
         "legendgroup": "True",
         "line": {
          "color": "#000000",
          "width": 2
         },
         "mode": "lines",
         "name": "True",
         "showlegend": false,
         "type": "scatter",
         "x": [
          100,
          100
         ],
         "xaxis": "x4",
         "y": [
          7,
          10
         ],
         "yaxis": "y4"
        },
        {
         "legendgroup": "True",
         "line": {
          "color": "#000000",
          "width": 2
         },
         "mode": "lines",
         "name": "True",
         "showlegend": false,
         "type": "scatter",
         "x": [
          37,
          37
         ],
         "xaxis": "x4",
         "y": [
          4,
          6
         ],
         "yaxis": "y4"
        },
        {
         "legendgroup": "True",
         "line": {
          "color": "#000000",
          "width": 2
         },
         "mode": "lines",
         "name": "True",
         "showlegend": false,
         "type": "scatter",
         "x": [
          99,
          99
         ],
         "xaxis": "x4",
         "y": [
          4,
          6
         ],
         "yaxis": "y4"
        },
        {
         "legendgroup": "True",
         "line": {
          "color": "#000000",
          "width": 2
         },
         "mode": "lines",
         "name": "True",
         "showlegend": false,
         "type": "scatter",
         "x": [
          99,
          99
         ],
         "xaxis": "x4",
         "y": [
          6,
          9
         ],
         "yaxis": "y4"
        },
        {
         "legendgroup": "True",
         "line": {
          "color": "#000000",
          "width": 2
         },
         "mode": "lines",
         "name": "True",
         "showlegend": false,
         "type": "scatter",
         "x": [
          40,
          40
         ],
         "xaxis": "x4",
         "y": [
          4,
          6
         ],
         "yaxis": "y4"
        },
        {
         "legendgroup": "True",
         "line": {
          "color": "#000000",
          "width": 2
         },
         "mode": "lines",
         "name": "True",
         "showlegend": false,
         "type": "scatter",
         "x": [
          40,
          40
         ],
         "xaxis": "x4",
         "y": [
          6,
          7
         ],
         "yaxis": "y4"
        },
        {
         "legendgroup": "True",
         "line": {
          "color": "#000000",
          "width": 2
         },
         "mode": "lines",
         "name": "True",
         "showlegend": false,
         "type": "scatter",
         "x": [
          98,
          98
         ],
         "xaxis": "x4",
         "y": [
          4,
          6
         ],
         "yaxis": "y4"
        },
        {
         "legendgroup": "True",
         "line": {
          "color": "#000000",
          "width": 2
         },
         "mode": "lines",
         "name": "True",
         "showlegend": false,
         "type": "scatter",
         "x": [
          98,
          98
         ],
         "xaxis": "x4",
         "y": [
          6,
          7
         ],
         "yaxis": "y4"
        },
        {
         "legendgroup": "True",
         "line": {
          "color": "#000000",
          "width": 2
         },
         "mode": "lines",
         "name": "True",
         "showlegend": false,
         "type": "scatter",
         "x": [
          98,
          98
         ],
         "xaxis": "x4",
         "y": [
          7,
          9
         ],
         "yaxis": "y4"
        },
        {
         "legendgroup": "True",
         "line": {
          "color": "#000000",
          "width": 2
         },
         "mode": "lines",
         "name": "True",
         "showlegend": false,
         "type": "scatter",
         "x": [
          63,
          63
         ],
         "xaxis": "x4",
         "y": [
          4,
          6
         ],
         "yaxis": "y4"
        },
        {
         "legendgroup": "True",
         "line": {
          "color": "#000000",
          "width": 2
         },
         "mode": "lines",
         "name": "True",
         "showlegend": false,
         "type": "scatter",
         "x": [
          63,
          63
         ],
         "xaxis": "x4",
         "y": [
          6,
          7
         ],
         "yaxis": "y4"
        },
        {
         "legendgroup": "True",
         "line": {
          "color": "#000000",
          "width": 2
         },
         "mode": "lines",
         "name": "True",
         "showlegend": false,
         "type": "scatter",
         "x": [
          63,
          63
         ],
         "xaxis": "x4",
         "y": [
          7,
          9
         ],
         "yaxis": "y4"
        },
        {
         "legendgroup": "True",
         "line": {
          "color": "#000000",
          "width": 2
         },
         "mode": "lines",
         "name": "True",
         "showlegend": false,
         "type": "scatter",
         "x": [
          63,
          63
         ],
         "xaxis": "x4",
         "y": [
          9,
          10
         ],
         "yaxis": "y4"
        },
        {
         "legendgroup": "True",
         "line": {
          "color": "#000000",
          "width": 2
         },
         "mode": "lines",
         "name": "True",
         "showlegend": false,
         "type": "scatter",
         "x": [
          97,
          97
         ],
         "xaxis": "x4",
         "y": [
          4,
          6
         ],
         "yaxis": "y4"
        },
        {
         "legendgroup": "True",
         "line": {
          "color": "#000000",
          "width": 2
         },
         "mode": "lines",
         "name": "True",
         "showlegend": false,
         "type": "scatter",
         "x": [
          97,
          97
         ],
         "xaxis": "x4",
         "y": [
          6,
          7
         ],
         "yaxis": "y4"
        },
        {
         "legendgroup": "True",
         "line": {
          "color": "#000000",
          "width": 2
         },
         "mode": "lines",
         "name": "True",
         "showlegend": false,
         "type": "scatter",
         "x": [
          97,
          97
         ],
         "xaxis": "x4",
         "y": [
          7,
          8
         ],
         "yaxis": "y4"
        },
        {
         "legendgroup": "True",
         "line": {
          "color": "#000000",
          "width": 2
         },
         "mode": "lines",
         "name": "True",
         "showlegend": false,
         "type": "scatter",
         "x": [
          52,
          52
         ],
         "xaxis": "x4",
         "y": [
          4,
          5
         ],
         "yaxis": "y4"
        },
        {
         "legendgroup": "True",
         "line": {
          "color": "#000000",
          "width": 2
         },
         "mode": "lines",
         "name": "True",
         "showlegend": false,
         "type": "scatter",
         "x": [
          52,
          52
         ],
         "xaxis": "x4",
         "y": [
          5,
          6
         ],
         "yaxis": "y4"
        },
        {
         "legendgroup": "True",
         "line": {
          "color": "#000000",
          "width": 2
         },
         "mode": "lines",
         "name": "True",
         "showlegend": false,
         "type": "scatter",
         "x": [
          96,
          96
         ],
         "xaxis": "x4",
         "y": [
          4,
          5
         ],
         "yaxis": "y4"
        },
        {
         "legendgroup": "True",
         "line": {
          "color": "#000000",
          "width": 2
         },
         "mode": "lines",
         "name": "True",
         "showlegend": false,
         "type": "scatter",
         "x": [
          96,
          96
         ],
         "xaxis": "x4",
         "y": [
          5,
          6
         ],
         "yaxis": "y4"
        },
        {
         "legendgroup": "True",
         "line": {
          "color": "#000000",
          "width": 2
         },
         "mode": "lines",
         "name": "True",
         "showlegend": false,
         "type": "scatter",
         "x": [
          96,
          96
         ],
         "xaxis": "x4",
         "y": [
          6,
          7
         ],
         "yaxis": "y4"
        },
        {
         "legendgroup": "True",
         "line": {
          "color": "#000000",
          "width": 2
         },
         "mode": "lines",
         "name": "True",
         "showlegend": false,
         "type": "scatter",
         "x": [
          95,
          95
         ],
         "xaxis": "x4",
         "y": [
          3,
          6
         ],
         "yaxis": "y4"
        },
        {
         "legendgroup": "True",
         "line": {
          "color": "#000000",
          "width": 2
         },
         "mode": "lines",
         "name": "True",
         "showlegend": false,
         "type": "scatter",
         "x": [
          95,
          95
         ],
         "xaxis": "x4",
         "y": [
          6,
          7
         ],
         "yaxis": "y4"
        },
        {
         "legendgroup": "True",
         "line": {
          "color": "#000000",
          "width": 2
         },
         "mode": "lines",
         "name": "True",
         "showlegend": false,
         "type": "scatter",
         "x": [
          95,
          95
         ],
         "xaxis": "x4",
         "y": [
          7,
          10
         ],
         "yaxis": "y4"
        },
        {
         "legendgroup": "True",
         "line": {
          "color": "#000000",
          "width": 2
         },
         "mode": "lines",
         "name": "True",
         "showlegend": false,
         "type": "scatter",
         "x": [
          51,
          51
         ],
         "xaxis": "x4",
         "y": [
          2,
          10
         ],
         "yaxis": "y4"
        },
        {
         "legendgroup": "True",
         "line": {
          "color": "#000000",
          "width": 2
         },
         "mode": "lines",
         "name": "True",
         "showlegend": false,
         "type": "scatter",
         "x": [
          94,
          94
         ],
         "xaxis": "x4",
         "y": [
          2,
          8
         ],
         "yaxis": "y4"
        },
        {
         "legendgroup": "True",
         "line": {
          "color": "#000000",
          "width": 2
         },
         "mode": "lines",
         "name": "True",
         "showlegend": false,
         "type": "scatter",
         "x": [
          26,
          26
         ],
         "xaxis": "x4",
         "y": [
          2,
          7
         ],
         "yaxis": "y4"
        },
        {
         "legendgroup": "True",
         "line": {
          "color": "#000000",
          "width": 2
         },
         "mode": "lines",
         "name": "True",
         "showlegend": false,
         "type": "scatter",
         "x": [
          93,
          93
         ],
         "xaxis": "x4",
         "y": [
          2,
          7
         ],
         "yaxis": "y4"
        },
        {
         "legendgroup": "True",
         "line": {
          "color": "#000000",
          "width": 2
         },
         "mode": "lines",
         "name": "True",
         "showlegend": false,
         "type": "scatter",
         "x": [
          93,
          93
         ],
         "xaxis": "x4",
         "y": [
          7,
          9
         ],
         "yaxis": "y4"
        },
        {
         "legendgroup": "True",
         "line": {
          "color": "#000000",
          "width": 2
         },
         "mode": "lines",
         "name": "True",
         "showlegend": false,
         "type": "scatter",
         "x": [
          92,
          92
         ],
         "xaxis": "x4",
         "y": [
          2,
          7
         ],
         "yaxis": "y4"
        },
        {
         "legendgroup": "True",
         "line": {
          "color": "#000000",
          "width": 2
         },
         "mode": "lines",
         "name": "True",
         "showlegend": false,
         "type": "scatter",
         "x": [
          92,
          92
         ],
         "xaxis": "x4",
         "y": [
          7,
          8
         ],
         "yaxis": "y4"
        },
        {
         "legendgroup": "True",
         "line": {
          "color": "#000000",
          "width": 2
         },
         "mode": "lines",
         "name": "True",
         "showlegend": false,
         "type": "scatter",
         "x": [
          14,
          14
         ],
         "xaxis": "x4",
         "y": [
          2,
          6
         ],
         "yaxis": "y4"
        },
        {
         "legendgroup": "True",
         "line": {
          "color": "#000000",
          "width": 2
         },
         "mode": "lines",
         "name": "True",
         "showlegend": false,
         "type": "scatter",
         "x": [
          32,
          32
         ],
         "xaxis": "x4",
         "y": [
          2,
          6
         ],
         "yaxis": "y4"
        },
        {
         "legendgroup": "True",
         "line": {
          "color": "#000000",
          "width": 2
         },
         "mode": "lines",
         "name": "True",
         "showlegend": false,
         "type": "scatter",
         "x": [
          32,
          32
         ],
         "xaxis": "x4",
         "y": [
          6,
          10
         ],
         "yaxis": "y4"
        },
        {
         "legendgroup": "True",
         "line": {
          "color": "#000000",
          "width": 2
         },
         "mode": "lines",
         "name": "True",
         "showlegend": false,
         "type": "scatter",
         "x": [
          36,
          36
         ],
         "xaxis": "x4",
         "y": [
          2,
          6
         ],
         "yaxis": "y4"
        },
        {
         "legendgroup": "True",
         "line": {
          "color": "#000000",
          "width": 2
         },
         "mode": "lines",
         "name": "True",
         "showlegend": false,
         "type": "scatter",
         "x": [
          36,
          36
         ],
         "xaxis": "x4",
         "y": [
          6,
          9
         ],
         "yaxis": "y4"
        },
        {
         "legendgroup": "True",
         "line": {
          "color": "#000000",
          "width": 2
         },
         "mode": "lines",
         "name": "True",
         "showlegend": false,
         "type": "scatter",
         "x": [
          35,
          35
         ],
         "xaxis": "x4",
         "y": [
          2,
          6
         ],
         "yaxis": "y4"
        },
        {
         "legendgroup": "True",
         "line": {
          "color": "#000000",
          "width": 2
         },
         "mode": "lines",
         "name": "True",
         "showlegend": false,
         "type": "scatter",
         "x": [
          35,
          35
         ],
         "xaxis": "x4",
         "y": [
          6,
          9
         ],
         "yaxis": "y4"
        },
        {
         "legendgroup": "True",
         "line": {
          "color": "#000000",
          "width": 2
         },
         "mode": "lines",
         "name": "True",
         "showlegend": false,
         "type": "scatter",
         "x": [
          35,
          35
         ],
         "xaxis": "x4",
         "y": [
          9,
          10
         ],
         "yaxis": "y4"
        },
        {
         "legendgroup": "True",
         "line": {
          "color": "#000000",
          "width": 2
         },
         "mode": "lines",
         "name": "True",
         "showlegend": false,
         "type": "scatter",
         "x": [
          8,
          8
         ],
         "xaxis": "x4",
         "y": [
          2,
          6
         ],
         "yaxis": "y4"
        },
        {
         "legendgroup": "True",
         "line": {
          "color": "#000000",
          "width": 2
         },
         "mode": "lines",
         "name": "True",
         "showlegend": false,
         "type": "scatter",
         "x": [
          8,
          8
         ],
         "xaxis": "x4",
         "y": [
          6,
          7
         ],
         "yaxis": "y4"
        },
        {
         "legendgroup": "True",
         "line": {
          "color": "#000000",
          "width": 2
         },
         "mode": "lines",
         "name": "True",
         "showlegend": false,
         "type": "scatter",
         "x": [
          23,
          23
         ],
         "xaxis": "x4",
         "y": [
          2,
          6
         ],
         "yaxis": "y4"
        },
        {
         "legendgroup": "True",
         "line": {
          "color": "#000000",
          "width": 2
         },
         "mode": "lines",
         "name": "True",
         "showlegend": false,
         "type": "scatter",
         "x": [
          23,
          23
         ],
         "xaxis": "x4",
         "y": [
          6,
          7
         ],
         "yaxis": "y4"
        },
        {
         "legendgroup": "True",
         "line": {
          "color": "#000000",
          "width": 2
         },
         "mode": "lines",
         "name": "True",
         "showlegend": false,
         "type": "scatter",
         "x": [
          23,
          23
         ],
         "xaxis": "x4",
         "y": [
          7,
          10
         ],
         "yaxis": "y4"
        },
        {
         "legendgroup": "True",
         "line": {
          "color": "#000000",
          "width": 2
         },
         "mode": "lines",
         "name": "True",
         "showlegend": false,
         "type": "scatter",
         "x": [
          27,
          27
         ],
         "xaxis": "x4",
         "y": [
          2,
          6
         ],
         "yaxis": "y4"
        },
        {
         "legendgroup": "True",
         "line": {
          "color": "#000000",
          "width": 2
         },
         "mode": "lines",
         "name": "True",
         "showlegend": false,
         "type": "scatter",
         "x": [
          27,
          27
         ],
         "xaxis": "x4",
         "y": [
          6,
          7
         ],
         "yaxis": "y4"
        },
        {
         "legendgroup": "True",
         "line": {
          "color": "#000000",
          "width": 2
         },
         "mode": "lines",
         "name": "True",
         "showlegend": false,
         "type": "scatter",
         "x": [
          27,
          27
         ],
         "xaxis": "x4",
         "y": [
          7,
          9
         ],
         "yaxis": "y4"
        },
        {
         "legendgroup": "True",
         "line": {
          "color": "#000000",
          "width": 2
         },
         "mode": "lines",
         "name": "True",
         "showlegend": false,
         "type": "scatter",
         "x": [
          44,
          44
         ],
         "xaxis": "x4",
         "y": [
          2,
          6
         ],
         "yaxis": "y4"
        },
        {
         "legendgroup": "True",
         "line": {
          "color": "#000000",
          "width": 2
         },
         "mode": "lines",
         "name": "True",
         "showlegend": false,
         "type": "scatter",
         "x": [
          44,
          44
         ],
         "xaxis": "x4",
         "y": [
          6,
          7
         ],
         "yaxis": "y4"
        },
        {
         "legendgroup": "True",
         "line": {
          "color": "#000000",
          "width": 2
         },
         "mode": "lines",
         "name": "True",
         "showlegend": false,
         "type": "scatter",
         "x": [
          44,
          44
         ],
         "xaxis": "x4",
         "y": [
          7,
          9
         ],
         "yaxis": "y4"
        },
        {
         "legendgroup": "True",
         "line": {
          "color": "#000000",
          "width": 2
         },
         "mode": "lines",
         "name": "True",
         "showlegend": false,
         "type": "scatter",
         "x": [
          44,
          44
         ],
         "xaxis": "x4",
         "y": [
          9,
          10
         ],
         "yaxis": "y4"
        },
        {
         "legendgroup": "True",
         "line": {
          "color": "#000000",
          "width": 2
         },
         "mode": "lines",
         "name": "True",
         "showlegend": false,
         "type": "scatter",
         "x": [
          50,
          50
         ],
         "xaxis": "x4",
         "y": [
          2,
          6
         ],
         "yaxis": "y4"
        },
        {
         "legendgroup": "True",
         "line": {
          "color": "#000000",
          "width": 2
         },
         "mode": "lines",
         "name": "True",
         "showlegend": false,
         "type": "scatter",
         "x": [
          50,
          50
         ],
         "xaxis": "x4",
         "y": [
          6,
          7
         ],
         "yaxis": "y4"
        },
        {
         "legendgroup": "True",
         "line": {
          "color": "#000000",
          "width": 2
         },
         "mode": "lines",
         "name": "True",
         "showlegend": false,
         "type": "scatter",
         "x": [
          50,
          50
         ],
         "xaxis": "x4",
         "y": [
          7,
          8
         ],
         "yaxis": "y4"
        },
        {
         "legendgroup": "True",
         "line": {
          "color": "#000000",
          "width": 2
         },
         "mode": "lines",
         "name": "True",
         "showlegend": false,
         "type": "scatter",
         "x": [
          91,
          91
         ],
         "xaxis": "x4",
         "y": [
          2,
          4
         ],
         "yaxis": "y4"
        },
        {
         "legendgroup": "True",
         "line": {
          "color": "#000000",
          "width": 2
         },
         "mode": "lines",
         "name": "True",
         "showlegend": false,
         "type": "scatter",
         "x": [
          90,
          90
         ],
         "xaxis": "x4",
         "y": [
          2,
          4
         ],
         "yaxis": "y4"
        },
        {
         "legendgroup": "True",
         "line": {
          "color": "#000000",
          "width": 2
         },
         "mode": "lines",
         "name": "True",
         "showlegend": false,
         "type": "scatter",
         "x": [
          90,
          90
         ],
         "xaxis": "x4",
         "y": [
          4,
          10
         ],
         "yaxis": "y4"
        },
        {
         "legendgroup": "True",
         "line": {
          "color": "#000000",
          "width": 2
         },
         "mode": "lines",
         "name": "True",
         "showlegend": false,
         "type": "scatter",
         "x": [
          89,
          89
         ],
         "xaxis": "x4",
         "y": [
          2,
          4
         ],
         "yaxis": "y4"
        },
        {
         "legendgroup": "True",
         "line": {
          "color": "#000000",
          "width": 2
         },
         "mode": "lines",
         "name": "True",
         "showlegend": false,
         "type": "scatter",
         "x": [
          89,
          89
         ],
         "xaxis": "x4",
         "y": [
          4,
          7
         ],
         "yaxis": "y4"
        },
        {
         "legendgroup": "True",
         "line": {
          "color": "#000000",
          "width": 2
         },
         "mode": "lines",
         "name": "True",
         "showlegend": false,
         "type": "scatter",
         "x": [
          89,
          89
         ],
         "xaxis": "x4",
         "y": [
          7,
          10
         ],
         "yaxis": "y4"
        },
        {
         "legendgroup": "True",
         "line": {
          "color": "#000000",
          "width": 2
         },
         "mode": "lines",
         "name": "True",
         "showlegend": false,
         "type": "scatter",
         "x": [
          62,
          62
         ],
         "xaxis": "x4",
         "y": [
          2,
          4
         ],
         "yaxis": "y4"
        },
        {
         "legendgroup": "True",
         "line": {
          "color": "#000000",
          "width": 2
         },
         "mode": "lines",
         "name": "True",
         "showlegend": false,
         "type": "scatter",
         "x": [
          62,
          62
         ],
         "xaxis": "x4",
         "y": [
          4,
          6
         ],
         "yaxis": "y4"
        },
        {
         "legendgroup": "True",
         "line": {
          "color": "#000000",
          "width": 2
         },
         "mode": "lines",
         "name": "True",
         "showlegend": false,
         "type": "scatter",
         "x": [
          43,
          43
         ],
         "xaxis": "x4",
         "y": [
          2,
          4
         ],
         "yaxis": "y4"
        },
        {
         "legendgroup": "True",
         "line": {
          "color": "#000000",
          "width": 2
         },
         "mode": "lines",
         "name": "True",
         "showlegend": false,
         "type": "scatter",
         "x": [
          43,
          43
         ],
         "xaxis": "x4",
         "y": [
          4,
          6
         ],
         "yaxis": "y4"
        },
        {
         "legendgroup": "True",
         "line": {
          "color": "#000000",
          "width": 2
         },
         "mode": "lines",
         "name": "True",
         "showlegend": false,
         "type": "scatter",
         "x": [
          43,
          43
         ],
         "xaxis": "x4",
         "y": [
          6,
          7
         ],
         "yaxis": "y4"
        },
        {
         "legendgroup": "True",
         "line": {
          "color": "#000000",
          "width": 2
         },
         "mode": "lines",
         "name": "True",
         "showlegend": false,
         "type": "scatter",
         "x": [
          88,
          88
         ],
         "xaxis": "x4",
         "y": [
          2,
          4
         ],
         "yaxis": "y4"
        },
        {
         "legendgroup": "True",
         "line": {
          "color": "#000000",
          "width": 2
         },
         "mode": "lines",
         "name": "True",
         "showlegend": false,
         "type": "scatter",
         "x": [
          88,
          88
         ],
         "xaxis": "x4",
         "y": [
          4,
          5
         ],
         "yaxis": "y4"
        },
        {
         "legendgroup": "True",
         "line": {
          "color": "#000000",
          "width": 2
         },
         "mode": "lines",
         "name": "True",
         "showlegend": false,
         "type": "scatter",
         "x": [
          88,
          88
         ],
         "xaxis": "x4",
         "y": [
          5,
          6
         ],
         "yaxis": "y4"
        },
        {
         "legendgroup": "True",
         "line": {
          "color": "#000000",
          "width": 2
         },
         "mode": "lines",
         "name": "True",
         "showlegend": false,
         "type": "scatter",
         "x": [
          88,
          88
         ],
         "xaxis": "x4",
         "y": [
          6,
          9
         ],
         "yaxis": "y4"
        },
        {
         "legendgroup": "True",
         "line": {
          "color": "#000000",
          "width": 2
         },
         "mode": "lines",
         "name": "True",
         "showlegend": false,
         "type": "scatter",
         "x": [
          61,
          61
         ],
         "xaxis": "x4",
         "y": [
          1,
          9
         ],
         "yaxis": "y4"
        },
        {
         "legendgroup": "True",
         "line": {
          "color": "#000000",
          "width": 2
         },
         "mode": "lines",
         "name": "True",
         "showlegend": false,
         "type": "scatter",
         "x": [
          49,
          49
         ],
         "xaxis": "x4",
         "y": [
          1,
          9
         ],
         "yaxis": "y4"
        },
        {
         "legendgroup": "True",
         "line": {
          "color": "#000000",
          "width": 2
         },
         "mode": "lines",
         "name": "True",
         "showlegend": false,
         "type": "scatter",
         "x": [
          49,
          49
         ],
         "xaxis": "x4",
         "y": [
          9,
          10
         ],
         "yaxis": "y4"
        },
        {
         "legendgroup": "True",
         "line": {
          "color": "#000000",
          "width": 2
         },
         "mode": "lines",
         "name": "True",
         "showlegend": false,
         "type": "scatter",
         "x": [
          16,
          16
         ],
         "xaxis": "x4",
         "y": [
          1,
          7
         ],
         "yaxis": "y4"
        },
        {
         "legendgroup": "True",
         "line": {
          "color": "#000000",
          "width": 2
         },
         "mode": "lines",
         "name": "True",
         "showlegend": false,
         "type": "scatter",
         "x": [
          87,
          87
         ],
         "xaxis": "x4",
         "y": [
          1,
          7
         ],
         "yaxis": "y4"
        },
        {
         "legendgroup": "True",
         "line": {
          "color": "#000000",
          "width": 2
         },
         "mode": "lines",
         "name": "True",
         "showlegend": false,
         "type": "scatter",
         "x": [
          87,
          87
         ],
         "xaxis": "x4",
         "y": [
          7,
          9
         ],
         "yaxis": "y4"
        },
        {
         "legendgroup": "True",
         "line": {
          "color": "#000000",
          "width": 2
         },
         "mode": "lines",
         "name": "True",
         "showlegend": false,
         "type": "scatter",
         "x": [
          86,
          86
         ],
         "xaxis": "x4",
         "y": [
          1,
          7
         ],
         "yaxis": "y4"
        },
        {
         "legendgroup": "True",
         "line": {
          "color": "#000000",
          "width": 2
         },
         "mode": "lines",
         "name": "True",
         "showlegend": false,
         "type": "scatter",
         "x": [
          86,
          86
         ],
         "xaxis": "x4",
         "y": [
          7,
          9
         ],
         "yaxis": "y4"
        },
        {
         "legendgroup": "True",
         "line": {
          "color": "#000000",
          "width": 2
         },
         "mode": "lines",
         "name": "True",
         "showlegend": false,
         "type": "scatter",
         "x": [
          86,
          86
         ],
         "xaxis": "x4",
         "y": [
          9,
          10
         ],
         "yaxis": "y4"
        },
        {
         "legendgroup": "True",
         "line": {
          "color": "#000000",
          "width": 2
         },
         "mode": "lines",
         "name": "True",
         "showlegend": false,
         "type": "scatter",
         "x": [
          22,
          22
         ],
         "xaxis": "x4",
         "y": [
          1,
          6
         ],
         "yaxis": "y4"
        },
        {
         "legendgroup": "True",
         "line": {
          "color": "#000000",
          "width": 2
         },
         "mode": "lines",
         "name": "True",
         "showlegend": false,
         "type": "scatter",
         "x": [
          48,
          48
         ],
         "xaxis": "x4",
         "y": [
          1,
          6
         ],
         "yaxis": "y4"
        },
        {
         "legendgroup": "True",
         "line": {
          "color": "#000000",
          "width": 2
         },
         "mode": "lines",
         "name": "True",
         "showlegend": false,
         "type": "scatter",
         "x": [
          48,
          48
         ],
         "xaxis": "x4",
         "y": [
          6,
          10
         ],
         "yaxis": "y4"
        },
        {
         "legendgroup": "True",
         "line": {
          "color": "#000000",
          "width": 2
         },
         "mode": "lines",
         "name": "True",
         "showlegend": false,
         "type": "scatter",
         "x": [
          30,
          30
         ],
         "xaxis": "x4",
         "y": [
          1,
          6
         ],
         "yaxis": "y4"
        },
        {
         "legendgroup": "True",
         "line": {
          "color": "#000000",
          "width": 2
         },
         "mode": "lines",
         "name": "True",
         "showlegend": false,
         "type": "scatter",
         "x": [
          30,
          30
         ],
         "xaxis": "x4",
         "y": [
          6,
          9
         ],
         "yaxis": "y4"
        },
        {
         "legendgroup": "True",
         "line": {
          "color": "#000000",
          "width": 2
         },
         "mode": "lines",
         "name": "True",
         "showlegend": false,
         "type": "scatter",
         "x": [
          60,
          60
         ],
         "xaxis": "x4",
         "y": [
          1,
          6
         ],
         "yaxis": "y4"
        },
        {
         "legendgroup": "True",
         "line": {
          "color": "#000000",
          "width": 2
         },
         "mode": "lines",
         "name": "True",
         "showlegend": false,
         "type": "scatter",
         "x": [
          60,
          60
         ],
         "xaxis": "x4",
         "y": [
          6,
          9
         ],
         "yaxis": "y4"
        },
        {
         "legendgroup": "True",
         "line": {
          "color": "#000000",
          "width": 2
         },
         "mode": "lines",
         "name": "True",
         "showlegend": false,
         "type": "scatter",
         "x": [
          60,
          60
         ],
         "xaxis": "x4",
         "y": [
          9,
          10
         ],
         "yaxis": "y4"
        },
        {
         "legendgroup": "True",
         "line": {
          "color": "#000000",
          "width": 2
         },
         "mode": "lines",
         "name": "True",
         "showlegend": false,
         "type": "scatter",
         "x": [
          11,
          11
         ],
         "xaxis": "x4",
         "y": [
          1,
          6
         ],
         "yaxis": "y4"
        },
        {
         "legendgroup": "True",
         "line": {
          "color": "#000000",
          "width": 2
         },
         "mode": "lines",
         "name": "True",
         "showlegend": false,
         "type": "scatter",
         "x": [
          11,
          11
         ],
         "xaxis": "x4",
         "y": [
          6,
          7
         ],
         "yaxis": "y4"
        },
        {
         "legendgroup": "True",
         "line": {
          "color": "#000000",
          "width": 2
         },
         "mode": "lines",
         "name": "True",
         "showlegend": false,
         "type": "scatter",
         "x": [
          39,
          39
         ],
         "xaxis": "x4",
         "y": [
          1,
          6
         ],
         "yaxis": "y4"
        },
        {
         "legendgroup": "True",
         "line": {
          "color": "#000000",
          "width": 2
         },
         "mode": "lines",
         "name": "True",
         "showlegend": false,
         "type": "scatter",
         "x": [
          39,
          39
         ],
         "xaxis": "x4",
         "y": [
          6,
          7
         ],
         "yaxis": "y4"
        },
        {
         "legendgroup": "True",
         "line": {
          "color": "#000000",
          "width": 2
         },
         "mode": "lines",
         "name": "True",
         "showlegend": false,
         "type": "scatter",
         "x": [
          39,
          39
         ],
         "xaxis": "x4",
         "y": [
          7,
          9
         ],
         "yaxis": "y4"
        },
        {
         "legendgroup": "True",
         "line": {
          "color": "#000000",
          "width": 2
         },
         "mode": "lines",
         "name": "True",
         "showlegend": false,
         "type": "scatter",
         "x": [
          85,
          85
         ],
         "xaxis": "x4",
         "y": [
          1,
          6
         ],
         "yaxis": "y4"
        },
        {
         "legendgroup": "True",
         "line": {
          "color": "#000000",
          "width": 2
         },
         "mode": "lines",
         "name": "True",
         "showlegend": false,
         "type": "scatter",
         "x": [
          85,
          85
         ],
         "xaxis": "x4",
         "y": [
          6,
          7
         ],
         "yaxis": "y4"
        },
        {
         "legendgroup": "True",
         "line": {
          "color": "#000000",
          "width": 2
         },
         "mode": "lines",
         "name": "True",
         "showlegend": false,
         "type": "scatter",
         "x": [
          85,
          85
         ],
         "xaxis": "x4",
         "y": [
          7,
          9
         ],
         "yaxis": "y4"
        },
        {
         "legendgroup": "True",
         "line": {
          "color": "#000000",
          "width": 2
         },
         "mode": "lines",
         "name": "True",
         "showlegend": false,
         "type": "scatter",
         "x": [
          85,
          85
         ],
         "xaxis": "x4",
         "y": [
          9,
          10
         ],
         "yaxis": "y4"
        },
        {
         "legendgroup": "True",
         "line": {
          "color": "#000000",
          "width": 2
         },
         "mode": "lines",
         "name": "True",
         "showlegend": false,
         "type": "scatter",
         "x": [
          42,
          42
         ],
         "xaxis": "x4",
         "y": [
          1,
          5
         ],
         "yaxis": "y4"
        },
        {
         "legendgroup": "True",
         "line": {
          "color": "#000000",
          "width": 2
         },
         "mode": "lines",
         "name": "True",
         "showlegend": false,
         "type": "scatter",
         "x": [
          42,
          42
         ],
         "xaxis": "x4",
         "y": [
          5,
          6
         ],
         "yaxis": "y4"
        },
        {
         "legendgroup": "True",
         "line": {
          "color": "#000000",
          "width": 2
         },
         "mode": "lines",
         "name": "True",
         "showlegend": false,
         "type": "scatter",
         "x": [
          42,
          42
         ],
         "xaxis": "x4",
         "y": [
          6,
          7
         ],
         "yaxis": "y4"
        },
        {
         "legendgroup": "True",
         "line": {
          "color": "#000000",
          "width": 2
         },
         "mode": "lines",
         "name": "True",
         "showlegend": false,
         "type": "scatter",
         "x": [
          84,
          84
         ],
         "xaxis": "x4",
         "y": [
          1,
          5
         ],
         "yaxis": "y4"
        },
        {
         "legendgroup": "True",
         "line": {
          "color": "#000000",
          "width": 2
         },
         "mode": "lines",
         "name": "True",
         "showlegend": false,
         "type": "scatter",
         "x": [
          84,
          84
         ],
         "xaxis": "x4",
         "y": [
          5,
          6
         ],
         "yaxis": "y4"
        },
        {
         "legendgroup": "True",
         "line": {
          "color": "#000000",
          "width": 2
         },
         "mode": "lines",
         "name": "True",
         "showlegend": false,
         "type": "scatter",
         "x": [
          84,
          84
         ],
         "xaxis": "x4",
         "y": [
          6,
          7
         ],
         "yaxis": "y4"
        },
        {
         "legendgroup": "True",
         "line": {
          "color": "#000000",
          "width": 2
         },
         "mode": "lines",
         "name": "True",
         "showlegend": false,
         "type": "scatter",
         "x": [
          84,
          84
         ],
         "xaxis": "x4",
         "y": [
          7,
          10
         ],
         "yaxis": "y4"
        },
        {
         "legendgroup": "True",
         "line": {
          "color": "#000000",
          "width": 2
         },
         "mode": "lines",
         "name": "True",
         "showlegend": false,
         "type": "scatter",
         "x": [
          41,
          41
         ],
         "xaxis": "x4",
         "y": [
          1,
          4
         ],
         "yaxis": "y4"
        },
        {
         "legendgroup": "True",
         "line": {
          "color": "#000000",
          "width": 2
         },
         "mode": "lines",
         "name": "True",
         "showlegend": false,
         "type": "scatter",
         "x": [
          59,
          59
         ],
         "xaxis": "x4",
         "y": [
          1,
          4
         ],
         "yaxis": "y4"
        },
        {
         "legendgroup": "True",
         "line": {
          "color": "#000000",
          "width": 2
         },
         "mode": "lines",
         "name": "True",
         "showlegend": false,
         "type": "scatter",
         "x": [
          59,
          59
         ],
         "xaxis": "x4",
         "y": [
          4,
          6
         ],
         "yaxis": "y4"
        },
        {
         "legendgroup": "True",
         "line": {
          "color": "#000000",
          "width": 2
         },
         "mode": "lines",
         "name": "True",
         "showlegend": false,
         "type": "scatter",
         "x": [
          83,
          83
         ],
         "xaxis": "x4",
         "y": [
          1,
          4
         ],
         "yaxis": "y4"
        },
        {
         "legendgroup": "True",
         "line": {
          "color": "#000000",
          "width": 2
         },
         "mode": "lines",
         "name": "True",
         "showlegend": false,
         "type": "scatter",
         "x": [
          83,
          83
         ],
         "xaxis": "x4",
         "y": [
          4,
          6
         ],
         "yaxis": "y4"
        },
        {
         "legendgroup": "True",
         "line": {
          "color": "#000000",
          "width": 2
         },
         "mode": "lines",
         "name": "True",
         "showlegend": false,
         "type": "scatter",
         "x": [
          83,
          83
         ],
         "xaxis": "x4",
         "y": [
          6,
          7
         ],
         "yaxis": "y4"
        },
        {
         "legendgroup": "True",
         "line": {
          "color": "#000000",
          "width": 2
         },
         "mode": "lines",
         "name": "True",
         "showlegend": false,
         "type": "scatter",
         "x": [
          82,
          82
         ],
         "xaxis": "x4",
         "y": [
          1,
          4
         ],
         "yaxis": "y4"
        },
        {
         "legendgroup": "True",
         "line": {
          "color": "#000000",
          "width": 2
         },
         "mode": "lines",
         "name": "True",
         "showlegend": false,
         "type": "scatter",
         "x": [
          82,
          82
         ],
         "xaxis": "x4",
         "y": [
          4,
          5
         ],
         "yaxis": "y4"
        },
        {
         "legendgroup": "True",
         "line": {
          "color": "#000000",
          "width": 2
         },
         "mode": "lines",
         "name": "True",
         "showlegend": false,
         "type": "scatter",
         "x": [
          82,
          82
         ],
         "xaxis": "x4",
         "y": [
          5,
          6
         ],
         "yaxis": "y4"
        },
        {
         "legendgroup": "True",
         "line": {
          "color": "#000000",
          "width": 2
         },
         "mode": "lines",
         "name": "True",
         "showlegend": false,
         "type": "scatter",
         "x": [
          47,
          47
         ],
         "xaxis": "x4",
         "y": [
          1,
          3
         ],
         "yaxis": "y4"
        },
        {
         "legendgroup": "True",
         "line": {
          "color": "#000000",
          "width": 2
         },
         "mode": "lines",
         "name": "True",
         "showlegend": false,
         "type": "scatter",
         "x": [
          1,
          1
         ],
         "xaxis": "x4",
         "y": [
          1,
          2
         ],
         "yaxis": "y4"
        },
        {
         "legendgroup": "True",
         "line": {
          "color": "#000000",
          "width": 2
         },
         "mode": "lines",
         "name": "True",
         "showlegend": false,
         "type": "scatter",
         "x": [
          81,
          81
         ],
         "xaxis": "x4",
         "y": [
          1,
          2
         ],
         "yaxis": "y4"
        },
        {
         "legendgroup": "True",
         "line": {
          "color": "#000000",
          "width": 2
         },
         "mode": "lines",
         "name": "True",
         "showlegend": false,
         "type": "scatter",
         "x": [
          81,
          81
         ],
         "xaxis": "x4",
         "y": [
          2,
          7
         ],
         "yaxis": "y4"
        },
        {
         "legendgroup": "True",
         "line": {
          "color": "#000000",
          "width": 2
         },
         "mode": "lines",
         "name": "True",
         "showlegend": false,
         "type": "scatter",
         "x": [
          80,
          80
         ],
         "xaxis": "x4",
         "y": [
          1,
          2
         ],
         "yaxis": "y4"
        },
        {
         "legendgroup": "True",
         "line": {
          "color": "#000000",
          "width": 2
         },
         "mode": "lines",
         "name": "True",
         "showlegend": false,
         "type": "scatter",
         "x": [
          80,
          80
         ],
         "xaxis": "x4",
         "y": [
          2,
          7
         ],
         "yaxis": "y4"
        },
        {
         "legendgroup": "True",
         "line": {
          "color": "#000000",
          "width": 2
         },
         "mode": "lines",
         "name": "True",
         "showlegend": false,
         "type": "scatter",
         "x": [
          80,
          80
         ],
         "xaxis": "x4",
         "y": [
          7,
          8
         ],
         "yaxis": "y4"
        },
        {
         "legendgroup": "True",
         "line": {
          "color": "#000000",
          "width": 2
         },
         "mode": "lines",
         "name": "True",
         "showlegend": false,
         "type": "scatter",
         "x": [
          28,
          28
         ],
         "xaxis": "x4",
         "y": [
          1,
          2
         ],
         "yaxis": "y4"
        },
        {
         "legendgroup": "True",
         "line": {
          "color": "#000000",
          "width": 2
         },
         "mode": "lines",
         "name": "True",
         "showlegend": false,
         "type": "scatter",
         "x": [
          28,
          28
         ],
         "xaxis": "x4",
         "y": [
          2,
          6
         ],
         "yaxis": "y4"
        },
        {
         "legendgroup": "True",
         "line": {
          "color": "#000000",
          "width": 2
         },
         "mode": "lines",
         "name": "True",
         "showlegend": false,
         "type": "scatter",
         "x": [
          79,
          79
         ],
         "xaxis": "x4",
         "y": [
          1,
          2
         ],
         "yaxis": "y4"
        },
        {
         "legendgroup": "True",
         "line": {
          "color": "#000000",
          "width": 2
         },
         "mode": "lines",
         "name": "True",
         "showlegend": false,
         "type": "scatter",
         "x": [
          79,
          79
         ],
         "xaxis": "x4",
         "y": [
          2,
          6
         ],
         "yaxis": "y4"
        },
        {
         "legendgroup": "True",
         "line": {
          "color": "#000000",
          "width": 2
         },
         "mode": "lines",
         "name": "True",
         "showlegend": false,
         "type": "scatter",
         "x": [
          79,
          79
         ],
         "xaxis": "x4",
         "y": [
          6,
          9
         ],
         "yaxis": "y4"
        },
        {
         "legendgroup": "True",
         "line": {
          "color": "#000000",
          "width": 2
         },
         "mode": "lines",
         "name": "True",
         "showlegend": false,
         "type": "scatter",
         "x": [
          20,
          20
         ],
         "xaxis": "x4",
         "y": [
          1,
          2
         ],
         "yaxis": "y4"
        },
        {
         "legendgroup": "True",
         "line": {
          "color": "#000000",
          "width": 2
         },
         "mode": "lines",
         "name": "True",
         "showlegend": false,
         "type": "scatter",
         "x": [
          20,
          20
         ],
         "xaxis": "x4",
         "y": [
          2,
          6
         ],
         "yaxis": "y4"
        },
        {
         "legendgroup": "True",
         "line": {
          "color": "#000000",
          "width": 2
         },
         "mode": "lines",
         "name": "True",
         "showlegend": false,
         "type": "scatter",
         "x": [
          20,
          20
         ],
         "xaxis": "x4",
         "y": [
          6,
          7
         ],
         "yaxis": "y4"
        },
        {
         "legendgroup": "True",
         "line": {
          "color": "#000000",
          "width": 2
         },
         "mode": "lines",
         "name": "True",
         "showlegend": false,
         "type": "scatter",
         "x": [
          78,
          78
         ],
         "xaxis": "x4",
         "y": [
          1,
          2
         ],
         "yaxis": "y4"
        },
        {
         "legendgroup": "True",
         "line": {
          "color": "#000000",
          "width": 2
         },
         "mode": "lines",
         "name": "True",
         "showlegend": false,
         "type": "scatter",
         "x": [
          78,
          78
         ],
         "xaxis": "x4",
         "y": [
          2,
          6
         ],
         "yaxis": "y4"
        },
        {
         "legendgroup": "True",
         "line": {
          "color": "#000000",
          "width": 2
         },
         "mode": "lines",
         "name": "True",
         "showlegend": false,
         "type": "scatter",
         "x": [
          78,
          78
         ],
         "xaxis": "x4",
         "y": [
          6,
          7
         ],
         "yaxis": "y4"
        },
        {
         "legendgroup": "True",
         "line": {
          "color": "#000000",
          "width": 2
         },
         "mode": "lines",
         "name": "True",
         "showlegend": false,
         "type": "scatter",
         "x": [
          78,
          78
         ],
         "xaxis": "x4",
         "y": [
          7,
          10
         ],
         "yaxis": "y4"
        },
        {
         "legendgroup": "True",
         "line": {
          "color": "#000000",
          "width": 2
         },
         "mode": "lines",
         "name": "True",
         "showlegend": false,
         "type": "scatter",
         "x": [
          46,
          46
         ],
         "xaxis": "x4",
         "y": [
          1,
          2
         ],
         "yaxis": "y4"
        },
        {
         "legendgroup": "True",
         "line": {
          "color": "#000000",
          "width": 2
         },
         "mode": "lines",
         "name": "True",
         "showlegend": false,
         "type": "scatter",
         "x": [
          46,
          46
         ],
         "xaxis": "x4",
         "y": [
          2,
          6
         ],
         "yaxis": "y4"
        },
        {
         "legendgroup": "True",
         "line": {
          "color": "#000000",
          "width": 2
         },
         "mode": "lines",
         "name": "True",
         "showlegend": false,
         "type": "scatter",
         "x": [
          46,
          46
         ],
         "xaxis": "x4",
         "y": [
          6,
          7
         ],
         "yaxis": "y4"
        },
        {
         "legendgroup": "True",
         "line": {
          "color": "#000000",
          "width": 2
         },
         "mode": "lines",
         "name": "True",
         "showlegend": false,
         "type": "scatter",
         "x": [
          46,
          46
         ],
         "xaxis": "x4",
         "y": [
          7,
          9
         ],
         "yaxis": "y4"
        },
        {
         "legendgroup": "True",
         "line": {
          "color": "#000000",
          "width": 2
         },
         "mode": "lines",
         "name": "True",
         "showlegend": false,
         "type": "scatter",
         "x": [
          77,
          77
         ],
         "xaxis": "x4",
         "y": [
          1,
          2
         ],
         "yaxis": "y4"
        },
        {
         "legendgroup": "True",
         "line": {
          "color": "#000000",
          "width": 2
         },
         "mode": "lines",
         "name": "True",
         "showlegend": false,
         "type": "scatter",
         "x": [
          77,
          77
         ],
         "xaxis": "x4",
         "y": [
          2,
          6
         ],
         "yaxis": "y4"
        },
        {
         "legendgroup": "True",
         "line": {
          "color": "#000000",
          "width": 2
         },
         "mode": "lines",
         "name": "True",
         "showlegend": false,
         "type": "scatter",
         "x": [
          77,
          77
         ],
         "xaxis": "x4",
         "y": [
          6,
          7
         ],
         "yaxis": "y4"
        },
        {
         "legendgroup": "True",
         "line": {
          "color": "#000000",
          "width": 2
         },
         "mode": "lines",
         "name": "True",
         "showlegend": false,
         "type": "scatter",
         "x": [
          77,
          77
         ],
         "xaxis": "x4",
         "y": [
          7,
          8
         ],
         "yaxis": "y4"
        },
        {
         "legendgroup": "True",
         "line": {
          "color": "#000000",
          "width": 2
         },
         "mode": "lines",
         "name": "True",
         "showlegend": false,
         "type": "scatter",
         "x": [
          76,
          76
         ],
         "xaxis": "x4",
         "y": [
          1,
          2
         ],
         "yaxis": "y4"
        },
        {
         "legendgroup": "True",
         "line": {
          "color": "#000000",
          "width": 2
         },
         "mode": "lines",
         "name": "True",
         "showlegend": false,
         "type": "scatter",
         "x": [
          76,
          76
         ],
         "xaxis": "x4",
         "y": [
          2,
          6
         ],
         "yaxis": "y4"
        },
        {
         "legendgroup": "True",
         "line": {
          "color": "#000000",
          "width": 2
         },
         "mode": "lines",
         "name": "True",
         "showlegend": false,
         "type": "scatter",
         "x": [
          76,
          76
         ],
         "xaxis": "x4",
         "y": [
          6,
          7
         ],
         "yaxis": "y4"
        },
        {
         "legendgroup": "True",
         "line": {
          "color": "#000000",
          "width": 2
         },
         "mode": "lines",
         "name": "True",
         "showlegend": false,
         "type": "scatter",
         "x": [
          76,
          76
         ],
         "xaxis": "x4",
         "y": [
          7,
          8
         ],
         "yaxis": "y4"
        },
        {
         "legendgroup": "True",
         "line": {
          "color": "#000000",
          "width": 2
         },
         "mode": "lines",
         "name": "True",
         "showlegend": false,
         "type": "scatter",
         "x": [
          76,
          76
         ],
         "xaxis": "x4",
         "y": [
          8,
          10
         ],
         "yaxis": "y4"
        },
        {
         "legendgroup": "True",
         "line": {
          "color": "#000000",
          "width": 2
         },
         "mode": "lines",
         "name": "True",
         "showlegend": false,
         "type": "scatter",
         "x": [
          75,
          75
         ],
         "xaxis": "x4",
         "y": [
          1,
          2
         ],
         "yaxis": "y4"
        },
        {
         "legendgroup": "True",
         "line": {
          "color": "#000000",
          "width": 2
         },
         "mode": "lines",
         "name": "True",
         "showlegend": false,
         "type": "scatter",
         "x": [
          75,
          75
         ],
         "xaxis": "x4",
         "y": [
          2,
          4
         ],
         "yaxis": "y4"
        },
        {
         "legendgroup": "True",
         "line": {
          "color": "#000000",
          "width": 2
         },
         "mode": "lines",
         "name": "True",
         "showlegend": false,
         "type": "scatter",
         "x": [
          75,
          75
         ],
         "xaxis": "x4",
         "y": [
          4,
          7
         ],
         "yaxis": "y4"
        },
        {
         "legendgroup": "True",
         "line": {
          "color": "#000000",
          "width": 2
         },
         "mode": "lines",
         "name": "True",
         "showlegend": false,
         "type": "scatter",
         "x": [
          74,
          74
         ],
         "xaxis": "x4",
         "y": [
          1,
          2
         ],
         "yaxis": "y4"
        },
        {
         "legendgroup": "True",
         "line": {
          "color": "#000000",
          "width": 2
         },
         "mode": "lines",
         "name": "True",
         "showlegend": false,
         "type": "scatter",
         "x": [
          74,
          74
         ],
         "xaxis": "x4",
         "y": [
          2,
          4
         ],
         "yaxis": "y4"
        },
        {
         "legendgroup": "True",
         "line": {
          "color": "#000000",
          "width": 2
         },
         "mode": "lines",
         "name": "True",
         "showlegend": false,
         "type": "scatter",
         "x": [
          74,
          74
         ],
         "xaxis": "x4",
         "y": [
          4,
          6
         ],
         "yaxis": "y4"
        },
        {
         "legendgroup": "True",
         "line": {
          "color": "#000000",
          "width": 2
         },
         "mode": "lines",
         "name": "True",
         "showlegend": false,
         "type": "scatter",
         "x": [
          74,
          74
         ],
         "xaxis": "x4",
         "y": [
          6,
          7
         ],
         "yaxis": "y4"
        },
        {
         "legendgroup": "True",
         "line": {
          "color": "#000000",
          "width": 2
         },
         "mode": "lines",
         "name": "True",
         "showlegend": false,
         "type": "scatter",
         "x": [
          73,
          73
         ],
         "xaxis": "x4",
         "y": [
          1,
          2
         ],
         "yaxis": "y4"
        },
        {
         "legendgroup": "True",
         "line": {
          "color": "#000000",
          "width": 2
         },
         "mode": "lines",
         "name": "True",
         "showlegend": false,
         "type": "scatter",
         "x": [
          73,
          73
         ],
         "xaxis": "x4",
         "y": [
          2,
          4
         ],
         "yaxis": "y4"
        },
        {
         "legendgroup": "True",
         "line": {
          "color": "#000000",
          "width": 2
         },
         "mode": "lines",
         "name": "True",
         "showlegend": false,
         "type": "scatter",
         "x": [
          73,
          73
         ],
         "xaxis": "x4",
         "y": [
          4,
          6
         ],
         "yaxis": "y4"
        },
        {
         "legendgroup": "True",
         "line": {
          "color": "#000000",
          "width": 2
         },
         "mode": "lines",
         "name": "True",
         "showlegend": false,
         "type": "scatter",
         "x": [
          73,
          73
         ],
         "xaxis": "x4",
         "y": [
          6,
          7
         ],
         "yaxis": "y4"
        },
        {
         "legendgroup": "True",
         "line": {
          "color": "#000000",
          "width": 2
         },
         "mode": "lines",
         "name": "True",
         "showlegend": false,
         "type": "scatter",
         "x": [
          73,
          73
         ],
         "xaxis": "x4",
         "y": [
          7,
          8
         ],
         "yaxis": "y4"
        },
        {
         "legendgroup": "True",
         "line": {
          "color": "#000000",
          "width": 2
         },
         "mode": "lines",
         "name": "True",
         "showlegend": false,
         "type": "scatter",
         "x": [
          72,
          72
         ],
         "xaxis": "x4",
         "y": [
          0,
          10
         ],
         "yaxis": "y4"
        },
        {
         "legendgroup": "True",
         "line": {
          "color": "#000000",
          "width": 2
         },
         "mode": "lines",
         "name": "True",
         "showlegend": false,
         "type": "scatter",
         "x": [
          45,
          45
         ],
         "xaxis": "x4",
         "y": [
          0,
          6
         ],
         "yaxis": "y4"
        },
        {
         "legendgroup": "True",
         "line": {
          "color": "#000000",
          "width": 2
         },
         "mode": "lines",
         "name": "True",
         "showlegend": false,
         "type": "scatter",
         "x": [
          58,
          58
         ],
         "xaxis": "x4",
         "y": [
          0,
          6
         ],
         "yaxis": "y4"
        },
        {
         "legendgroup": "True",
         "line": {
          "color": "#000000",
          "width": 2
         },
         "mode": "lines",
         "name": "True",
         "showlegend": false,
         "type": "scatter",
         "x": [
          58,
          58
         ],
         "xaxis": "x4",
         "y": [
          6,
          7
         ],
         "yaxis": "y4"
        },
        {
         "legendgroup": "True",
         "line": {
          "color": "#000000",
          "width": 2
         },
         "mode": "lines",
         "name": "True",
         "showlegend": false,
         "type": "scatter",
         "x": [
          57,
          57
         ],
         "xaxis": "x4",
         "y": [
          0,
          4
         ],
         "yaxis": "y4"
        },
        {
         "legendgroup": "True",
         "line": {
          "color": "#000000",
          "width": 2
         },
         "mode": "lines",
         "name": "True",
         "showlegend": false,
         "type": "scatter",
         "x": [
          57,
          57
         ],
         "xaxis": "x4",
         "y": [
          4,
          6
         ],
         "yaxis": "y4"
        },
        {
         "legendgroup": "True",
         "line": {
          "color": "#000000",
          "width": 2
         },
         "mode": "lines",
         "name": "True",
         "showlegend": false,
         "type": "scatter",
         "x": [
          71,
          71
         ],
         "xaxis": "x4",
         "y": [
          0,
          2
         ],
         "yaxis": "y4"
        },
        {
         "legendgroup": "True",
         "line": {
          "color": "#000000",
          "width": 2
         },
         "mode": "lines",
         "name": "True",
         "showlegend": false,
         "type": "scatter",
         "x": [
          71,
          71
         ],
         "xaxis": "x4",
         "y": [
          2,
          6
         ],
         "yaxis": "y4"
        },
        {
         "legendgroup": "True",
         "line": {
          "color": "#000000",
          "width": 2
         },
         "mode": "lines",
         "name": "True",
         "showlegend": false,
         "type": "scatter",
         "x": [
          70,
          70
         ],
         "xaxis": "x4",
         "y": [
          0,
          2
         ],
         "yaxis": "y4"
        },
        {
         "legendgroup": "True",
         "line": {
          "color": "#000000",
          "width": 2
         },
         "mode": "lines",
         "name": "True",
         "showlegend": false,
         "type": "scatter",
         "x": [
          70,
          70
         ],
         "xaxis": "x4",
         "y": [
          2,
          6
         ],
         "yaxis": "y4"
        },
        {
         "legendgroup": "True",
         "line": {
          "color": "#000000",
          "width": 2
         },
         "mode": "lines",
         "name": "True",
         "showlegend": false,
         "type": "scatter",
         "x": [
          70,
          70
         ],
         "xaxis": "x4",
         "y": [
          6,
          7
         ],
         "yaxis": "y4"
        },
        {
         "legendgroup": "True",
         "line": {
          "color": "#000000",
          "width": 2
         },
         "mode": "lines",
         "name": "True",
         "showlegend": false,
         "type": "scatter",
         "x": [
          69,
          69
         ],
         "xaxis": "x4",
         "y": [
          0,
          2
         ],
         "yaxis": "y4"
        },
        {
         "legendgroup": "True",
         "line": {
          "color": "#000000",
          "width": 2
         },
         "mode": "lines",
         "name": "True",
         "showlegend": false,
         "type": "scatter",
         "x": [
          69,
          69
         ],
         "xaxis": "x4",
         "y": [
          2,
          3
         ],
         "yaxis": "y4"
        },
        {
         "legendgroup": "True",
         "line": {
          "color": "#000000",
          "width": 2
         },
         "mode": "lines",
         "name": "True",
         "showlegend": false,
         "type": "scatter",
         "x": [
          69,
          69
         ],
         "xaxis": "x4",
         "y": [
          3,
          6
         ],
         "yaxis": "y4"
        },
        {
         "legendgroup": "True",
         "line": {
          "color": "#000000",
          "width": 2
         },
         "mode": "lines",
         "name": "True",
         "showlegend": false,
         "type": "scatter",
         "x": [
          69,
          69
         ],
         "xaxis": "x4",
         "y": [
          6,
          7
         ],
         "yaxis": "y4"
        },
        {
         "legendgroup": "True",
         "line": {
          "color": "#000000",
          "width": 2
         },
         "mode": "lines",
         "name": "True",
         "showlegend": false,
         "type": "scatter",
         "x": [
          68,
          68
         ],
         "xaxis": "x4",
         "y": [
          0,
          1
         ],
         "yaxis": "y4"
        },
        {
         "legendgroup": "True",
         "line": {
          "color": "#000000",
          "width": 2
         },
         "mode": "lines",
         "name": "True",
         "showlegend": false,
         "type": "scatter",
         "x": [
          67,
          67
         ],
         "xaxis": "x4",
         "y": [
          0,
          1
         ],
         "yaxis": "y4"
        },
        {
         "legendgroup": "True",
         "line": {
          "color": "#000000",
          "width": 2
         },
         "mode": "lines",
         "name": "True",
         "showlegend": false,
         "type": "scatter",
         "x": [
          67,
          67
         ],
         "xaxis": "x4",
         "y": [
          1,
          9
         ],
         "yaxis": "y4"
        },
        {
         "legendgroup": "True",
         "line": {
          "color": "#000000",
          "width": 2
         },
         "mode": "lines",
         "name": "True",
         "showlegend": false,
         "type": "scatter",
         "x": [
          56,
          56
         ],
         "xaxis": "x4",
         "y": [
          0,
          1
         ],
         "yaxis": "y4"
        },
        {
         "legendgroup": "True",
         "line": {
          "color": "#000000",
          "width": 2
         },
         "mode": "lines",
         "name": "True",
         "showlegend": false,
         "type": "scatter",
         "x": [
          56,
          56
         ],
         "xaxis": "x4",
         "y": [
          1,
          4
         ],
         "yaxis": "y4"
        },
        {
         "legendgroup": "True",
         "line": {
          "color": "#000000",
          "width": 2
         },
         "mode": "lines",
         "name": "True",
         "showlegend": false,
         "type": "scatter",
         "x": [
          56,
          56
         ],
         "xaxis": "x4",
         "y": [
          4,
          6
         ],
         "yaxis": "y4"
        },
        {
         "legendgroup": "True",
         "line": {
          "color": "#000000",
          "width": 2
         },
         "mode": "lines",
         "name": "True",
         "showlegend": false,
         "type": "scatter",
         "x": [
          55,
          55
         ],
         "xaxis": "x4",
         "y": [
          0,
          1
         ],
         "yaxis": "y4"
        },
        {
         "legendgroup": "True",
         "line": {
          "color": "#000000",
          "width": 2
         },
         "mode": "lines",
         "name": "True",
         "showlegend": false,
         "type": "scatter",
         "x": [
          55,
          55
         ],
         "xaxis": "x4",
         "y": [
          1,
          2
         ],
         "yaxis": "y4"
        },
        {
         "legendgroup": "True",
         "line": {
          "color": "#000000",
          "width": 2
         },
         "mode": "lines",
         "name": "True",
         "showlegend": false,
         "type": "scatter",
         "x": [
          55,
          55
         ],
         "xaxis": "x4",
         "y": [
          2,
          6
         ],
         "yaxis": "y4"
        },
        {
         "legendgroup": "True",
         "line": {
          "color": "#000000",
          "width": 2
         },
         "mode": "lines",
         "name": "True",
         "showlegend": false,
         "type": "scatter",
         "x": [
          55,
          55
         ],
         "xaxis": "x4",
         "y": [
          6,
          7
         ],
         "yaxis": "y4"
        }
       ],
       "layout": {
        "bargap": 0.2,
        "bargroupgap": 0,
        "barmode": "group",
        "font": {
         "color": "black"
        },
        "height": 700,
        "hovermode": "closest",
        "legend": {
         "orientation": "v",
         "x": 0,
         "xanchor": "left",
         "y": 1,
         "yanchor": "top"
        },
        "margin": {
         "b": 40,
         "l": 40,
         "r": 40,
         "t": 40
        },
        "paper_bgcolor": "white",
        "plot_bgcolor": "rgba(0, 0, 0, 0)",
        "shapes": [
         {
          "fillcolor": "#EBEBEB",
          "layer": "below",
          "line": {
           "width": 0
          },
          "type": "rect",
          "x0": 0,
          "x1": 1,
          "xref": "x4 domain",
          "y0": -0.5,
          "y1": 0.5,
          "yref": "y4"
         },
         {
          "fillcolor": "#EBEBEB",
          "layer": "below",
          "line": {
           "width": 0
          },
          "type": "rect",
          "x0": 0,
          "x1": 1,
          "xref": "x4 domain",
          "y0": 1.5,
          "y1": 2.5,
          "yref": "y4"
         },
         {
          "fillcolor": "#EBEBEB",
          "layer": "below",
          "line": {
           "width": 0
          },
          "type": "rect",
          "x0": 0,
          "x1": 1,
          "xref": "x4 domain",
          "y0": 3.5,
          "y1": 4.5,
          "yref": "y4"
         },
         {
          "fillcolor": "#EBEBEB",
          "layer": "below",
          "line": {
           "width": 0
          },
          "type": "rect",
          "x0": 0,
          "x1": 1,
          "xref": "x4 domain",
          "y0": 5.5,
          "y1": 6.5,
          "yref": "y4"
         },
         {
          "fillcolor": "#EBEBEB",
          "layer": "below",
          "line": {
           "width": 0
          },
          "type": "rect",
          "x0": 0,
          "x1": 1,
          "xref": "x4 domain",
          "y0": 7.5,
          "y1": 8.5,
          "yref": "y4"
         },
         {
          "fillcolor": "#EBEBEB",
          "layer": "below",
          "line": {
           "width": 0
          },
          "type": "rect",
          "x0": 0,
          "x1": 1,
          "xref": "x4 domain",
          "y0": 9.5,
          "y1": 10.5,
          "yref": "y4"
         }
        ],
        "showlegend": true,
        "template": {
         "data": {
          "bar": [
           {
            "error_x": {
             "color": "#2a3f5f"
            },
            "error_y": {
             "color": "#2a3f5f"
            },
            "marker": {
             "line": {
              "color": "#E5ECF6",
              "width": 0.5
             },
             "pattern": {
              "fillmode": "overlay",
              "size": 10,
              "solidity": 0.2
             }
            },
            "type": "bar"
           }
          ],
          "barpolar": [
           {
            "marker": {
             "line": {
              "color": "#E5ECF6",
              "width": 0.5
             },
             "pattern": {
              "fillmode": "overlay",
              "size": 10,
              "solidity": 0.2
             }
            },
            "type": "barpolar"
           }
          ],
          "carpet": [
           {
            "aaxis": {
             "endlinecolor": "#2a3f5f",
             "gridcolor": "white",
             "linecolor": "white",
             "minorgridcolor": "white",
             "startlinecolor": "#2a3f5f"
            },
            "baxis": {
             "endlinecolor": "#2a3f5f",
             "gridcolor": "white",
             "linecolor": "white",
             "minorgridcolor": "white",
             "startlinecolor": "#2a3f5f"
            },
            "type": "carpet"
           }
          ],
          "choropleth": [
           {
            "colorbar": {
             "outlinewidth": 0,
             "ticks": ""
            },
            "type": "choropleth"
           }
          ],
          "contour": [
           {
            "colorbar": {
             "outlinewidth": 0,
             "ticks": ""
            },
            "colorscale": [
             [
              0,
              "#0d0887"
             ],
             [
              0.1111111111111111,
              "#46039f"
             ],
             [
              0.2222222222222222,
              "#7201a8"
             ],
             [
              0.3333333333333333,
              "#9c179e"
             ],
             [
              0.4444444444444444,
              "#bd3786"
             ],
             [
              0.5555555555555556,
              "#d8576b"
             ],
             [
              0.6666666666666666,
              "#ed7953"
             ],
             [
              0.7777777777777778,
              "#fb9f3a"
             ],
             [
              0.8888888888888888,
              "#fdca26"
             ],
             [
              1,
              "#f0f921"
             ]
            ],
            "type": "contour"
           }
          ],
          "contourcarpet": [
           {
            "colorbar": {
             "outlinewidth": 0,
             "ticks": ""
            },
            "type": "contourcarpet"
           }
          ],
          "heatmap": [
           {
            "colorbar": {
             "outlinewidth": 0,
             "ticks": ""
            },
            "colorscale": [
             [
              0,
              "#0d0887"
             ],
             [
              0.1111111111111111,
              "#46039f"
             ],
             [
              0.2222222222222222,
              "#7201a8"
             ],
             [
              0.3333333333333333,
              "#9c179e"
             ],
             [
              0.4444444444444444,
              "#bd3786"
             ],
             [
              0.5555555555555556,
              "#d8576b"
             ],
             [
              0.6666666666666666,
              "#ed7953"
             ],
             [
              0.7777777777777778,
              "#fb9f3a"
             ],
             [
              0.8888888888888888,
              "#fdca26"
             ],
             [
              1,
              "#f0f921"
             ]
            ],
            "type": "heatmap"
           }
          ],
          "heatmapgl": [
           {
            "colorbar": {
             "outlinewidth": 0,
             "ticks": ""
            },
            "colorscale": [
             [
              0,
              "#0d0887"
             ],
             [
              0.1111111111111111,
              "#46039f"
             ],
             [
              0.2222222222222222,
              "#7201a8"
             ],
             [
              0.3333333333333333,
              "#9c179e"
             ],
             [
              0.4444444444444444,
              "#bd3786"
             ],
             [
              0.5555555555555556,
              "#d8576b"
             ],
             [
              0.6666666666666666,
              "#ed7953"
             ],
             [
              0.7777777777777778,
              "#fb9f3a"
             ],
             [
              0.8888888888888888,
              "#fdca26"
             ],
             [
              1,
              "#f0f921"
             ]
            ],
            "type": "heatmapgl"
           }
          ],
          "histogram": [
           {
            "marker": {
             "pattern": {
              "fillmode": "overlay",
              "size": 10,
              "solidity": 0.2
             }
            },
            "type": "histogram"
           }
          ],
          "histogram2d": [
           {
            "colorbar": {
             "outlinewidth": 0,
             "ticks": ""
            },
            "colorscale": [
             [
              0,
              "#0d0887"
             ],
             [
              0.1111111111111111,
              "#46039f"
             ],
             [
              0.2222222222222222,
              "#7201a8"
             ],
             [
              0.3333333333333333,
              "#9c179e"
             ],
             [
              0.4444444444444444,
              "#bd3786"
             ],
             [
              0.5555555555555556,
              "#d8576b"
             ],
             [
              0.6666666666666666,
              "#ed7953"
             ],
             [
              0.7777777777777778,
              "#fb9f3a"
             ],
             [
              0.8888888888888888,
              "#fdca26"
             ],
             [
              1,
              "#f0f921"
             ]
            ],
            "type": "histogram2d"
           }
          ],
          "histogram2dcontour": [
           {
            "colorbar": {
             "outlinewidth": 0,
             "ticks": ""
            },
            "colorscale": [
             [
              0,
              "#0d0887"
             ],
             [
              0.1111111111111111,
              "#46039f"
             ],
             [
              0.2222222222222222,
              "#7201a8"
             ],
             [
              0.3333333333333333,
              "#9c179e"
             ],
             [
              0.4444444444444444,
              "#bd3786"
             ],
             [
              0.5555555555555556,
              "#d8576b"
             ],
             [
              0.6666666666666666,
              "#ed7953"
             ],
             [
              0.7777777777777778,
              "#fb9f3a"
             ],
             [
              0.8888888888888888,
              "#fdca26"
             ],
             [
              1,
              "#f0f921"
             ]
            ],
            "type": "histogram2dcontour"
           }
          ],
          "mesh3d": [
           {
            "colorbar": {
             "outlinewidth": 0,
             "ticks": ""
            },
            "type": "mesh3d"
           }
          ],
          "parcoords": [
           {
            "line": {
             "colorbar": {
              "outlinewidth": 0,
              "ticks": ""
             }
            },
            "type": "parcoords"
           }
          ],
          "pie": [
           {
            "automargin": true,
            "type": "pie"
           }
          ],
          "scatter": [
           {
            "fillpattern": {
             "fillmode": "overlay",
             "size": 10,
             "solidity": 0.2
            },
            "type": "scatter"
           }
          ],
          "scatter3d": [
           {
            "line": {
             "colorbar": {
              "outlinewidth": 0,
              "ticks": ""
             }
            },
            "marker": {
             "colorbar": {
              "outlinewidth": 0,
              "ticks": ""
             }
            },
            "type": "scatter3d"
           }
          ],
          "scattercarpet": [
           {
            "marker": {
             "colorbar": {
              "outlinewidth": 0,
              "ticks": ""
             }
            },
            "type": "scattercarpet"
           }
          ],
          "scattergeo": [
           {
            "marker": {
             "colorbar": {
              "outlinewidth": 0,
              "ticks": ""
             }
            },
            "type": "scattergeo"
           }
          ],
          "scattergl": [
           {
            "marker": {
             "colorbar": {
              "outlinewidth": 0,
              "ticks": ""
             }
            },
            "type": "scattergl"
           }
          ],
          "scattermapbox": [
           {
            "marker": {
             "colorbar": {
              "outlinewidth": 0,
              "ticks": ""
             }
            },
            "type": "scattermapbox"
           }
          ],
          "scatterpolar": [
           {
            "marker": {
             "colorbar": {
              "outlinewidth": 0,
              "ticks": ""
             }
            },
            "type": "scatterpolar"
           }
          ],
          "scatterpolargl": [
           {
            "marker": {
             "colorbar": {
              "outlinewidth": 0,
              "ticks": ""
             }
            },
            "type": "scatterpolargl"
           }
          ],
          "scatterternary": [
           {
            "marker": {
             "colorbar": {
              "outlinewidth": 0,
              "ticks": ""
             }
            },
            "type": "scatterternary"
           }
          ],
          "surface": [
           {
            "colorbar": {
             "outlinewidth": 0,
             "ticks": ""
            },
            "colorscale": [
             [
              0,
              "#0d0887"
             ],
             [
              0.1111111111111111,
              "#46039f"
             ],
             [
              0.2222222222222222,
              "#7201a8"
             ],
             [
              0.3333333333333333,
              "#9c179e"
             ],
             [
              0.4444444444444444,
              "#bd3786"
             ],
             [
              0.5555555555555556,
              "#d8576b"
             ],
             [
              0.6666666666666666,
              "#ed7953"
             ],
             [
              0.7777777777777778,
              "#fb9f3a"
             ],
             [
              0.8888888888888888,
              "#fdca26"
             ],
             [
              1,
              "#f0f921"
             ]
            ],
            "type": "surface"
           }
          ],
          "table": [
           {
            "cells": {
             "fill": {
              "color": "#EBF0F8"
             },
             "line": {
              "color": "white"
             }
            },
            "header": {
             "fill": {
              "color": "#C8D4E3"
             },
             "line": {
              "color": "white"
             }
            },
            "type": "table"
           }
          ]
         },
         "layout": {
          "annotationdefaults": {
           "arrowcolor": "#2a3f5f",
           "arrowhead": 0,
           "arrowwidth": 1
          },
          "autotypenumbers": "strict",
          "coloraxis": {
           "colorbar": {
            "outlinewidth": 0,
            "ticks": ""
           }
          },
          "colorscale": {
           "diverging": [
            [
             0,
             "#8e0152"
            ],
            [
             0.1,
             "#c51b7d"
            ],
            [
             0.2,
             "#de77ae"
            ],
            [
             0.3,
             "#f1b6da"
            ],
            [
             0.4,
             "#fde0ef"
            ],
            [
             0.5,
             "#f7f7f7"
            ],
            [
             0.6,
             "#e6f5d0"
            ],
            [
             0.7,
             "#b8e186"
            ],
            [
             0.8,
             "#7fbc41"
            ],
            [
             0.9,
             "#4d9221"
            ],
            [
             1,
             "#276419"
            ]
           ],
           "sequential": [
            [
             0,
             "#0d0887"
            ],
            [
             0.1111111111111111,
             "#46039f"
            ],
            [
             0.2222222222222222,
             "#7201a8"
            ],
            [
             0.3333333333333333,
             "#9c179e"
            ],
            [
             0.4444444444444444,
             "#bd3786"
            ],
            [
             0.5555555555555556,
             "#d8576b"
            ],
            [
             0.6666666666666666,
             "#ed7953"
            ],
            [
             0.7777777777777778,
             "#fb9f3a"
            ],
            [
             0.8888888888888888,
             "#fdca26"
            ],
            [
             1,
             "#f0f921"
            ]
           ],
           "sequentialminus": [
            [
             0,
             "#0d0887"
            ],
            [
             0.1111111111111111,
             "#46039f"
            ],
            [
             0.2222222222222222,
             "#7201a8"
            ],
            [
             0.3333333333333333,
             "#9c179e"
            ],
            [
             0.4444444444444444,
             "#bd3786"
            ],
            [
             0.5555555555555556,
             "#d8576b"
            ],
            [
             0.6666666666666666,
             "#ed7953"
            ],
            [
             0.7777777777777778,
             "#fb9f3a"
            ],
            [
             0.8888888888888888,
             "#fdca26"
            ],
            [
             1,
             "#f0f921"
            ]
           ]
          },
          "colorway": [
           "#636efa",
           "#EF553B",
           "#00cc96",
           "#ab63fa",
           "#FFA15A",
           "#19d3f3",
           "#FF6692",
           "#B6E880",
           "#FF97FF",
           "#FECB52"
          ],
          "font": {
           "color": "#2a3f5f"
          },
          "geo": {
           "bgcolor": "white",
           "lakecolor": "white",
           "landcolor": "#E5ECF6",
           "showlakes": true,
           "showland": true,
           "subunitcolor": "white"
          },
          "hoverlabel": {
           "align": "left"
          },
          "hovermode": "closest",
          "mapbox": {
           "style": "light"
          },
          "paper_bgcolor": "white",
          "plot_bgcolor": "#E5ECF6",
          "polar": {
           "angularaxis": {
            "gridcolor": "white",
            "linecolor": "white",
            "ticks": ""
           },
           "bgcolor": "#E5ECF6",
           "radialaxis": {
            "gridcolor": "white",
            "linecolor": "white",
            "ticks": ""
           }
          },
          "scene": {
           "xaxis": {
            "backgroundcolor": "#E5ECF6",
            "gridcolor": "white",
            "gridwidth": 2,
            "linecolor": "white",
            "showbackground": true,
            "ticks": "",
            "zerolinecolor": "white"
           },
           "yaxis": {
            "backgroundcolor": "#E5ECF6",
            "gridcolor": "white",
            "gridwidth": 2,
            "linecolor": "white",
            "showbackground": true,
            "ticks": "",
            "zerolinecolor": "white"
           },
           "zaxis": {
            "backgroundcolor": "#E5ECF6",
            "gridcolor": "white",
            "gridwidth": 2,
            "linecolor": "white",
            "showbackground": true,
            "ticks": "",
            "zerolinecolor": "white"
           }
          },
          "shapedefaults": {
           "line": {
            "color": "#2a3f5f"
           }
          },
          "ternary": {
           "aaxis": {
            "gridcolor": "white",
            "linecolor": "white",
            "ticks": ""
           },
           "baxis": {
            "gridcolor": "white",
            "linecolor": "white",
            "ticks": ""
           },
           "bgcolor": "#E5ECF6",
           "caxis": {
            "gridcolor": "white",
            "linecolor": "white",
            "ticks": ""
           }
          },
          "title": {
           "x": 0.05
          },
          "xaxis": {
           "automargin": true,
           "gridcolor": "white",
           "linecolor": "white",
           "ticks": "",
           "title": {
            "standoff": 15
           },
           "zerolinecolor": "white",
           "zerolinewidth": 2
          },
          "yaxis": {
           "automargin": true,
           "gridcolor": "white",
           "linecolor": "white",
           "ticks": "",
           "title": {
            "standoff": 15
           },
           "zerolinecolor": "white",
           "zerolinewidth": 2
          }
         }
        },
        "uniformtext": {
         "minsize": 12,
         "mode": "show"
        },
        "width": 1800,
        "xaxis": {
         "anchor": "y",
         "automargin": true,
         "domain": [
          0,
          0.34
         ],
         "matches": "x3",
         "showticklabels": false,
         "zeroline": false
        },
        "xaxis2": {
         "anchor": "y2",
         "automargin": true,
         "domain": [
          0.49,
          1
         ],
         "dtick": 1,
         "linecolor": "#000000",
         "matches": "x4",
         "range": [
          -0.5,
          105.5
         ],
         "showline": true,
         "showticklabels": false,
         "side": "bottom",
         "tickcolor": "#000000",
         "ticks": "outside",
         "zeroline": false
        },
        "xaxis3": {
         "anchor": "y3",
         "automargin": true,
         "autorange": "reversed",
         "domain": [
          0,
          0.34
         ],
         "gridcolor": "#E0E0E0",
         "linecolor": "#000000",
         "showgrid": true,
         "showline": true,
         "showticklabels": true,
         "side": "top",
         "tickangle": -90,
         "tickcolor": "#000000",
         "ticks": "outside",
         "title": {
          "font": {
           "color": "#000000"
          },
          "standoff": 5,
          "text": "Set Size"
         },
         "zeroline": false
        },
        "xaxis4": {
         "anchor": "y4",
         "automargin": true,
         "domain": [
          0.49,
          1
         ],
         "dtick": 1,
         "range": [
          -0.5,
          105.5
         ],
         "showgrid": false,
         "showline": true,
         "showticklabels": false,
         "side": "bottom",
         "title": {
          "standoff": 5
         },
         "zeroline": false
        },
        "yaxis": {
         "anchor": "x",
         "automargin": true,
         "domain": [
          0.43,
          1
         ],
         "zeroline": false
        },
        "yaxis2": {
         "anchor": "x2",
         "automargin": true,
         "domain": [
          0.43,
          1
         ],
         "gridcolor": "#E0E0E0",
         "linecolor": "#000000",
         "range": [
          0,
          1147.9
         ],
         "showgrid": true,
         "showline": true,
         "showticklabels": true,
         "side": "left",
         "tickcolor": "#000000",
         "ticks": "outside",
         "title": {
          "font": {
           "color": "#000000"
          },
          "standoff": 5,
          "text": "Intersection Size"
         },
         "zeroline": false
        },
        "yaxis3": {
         "anchor": "x3",
         "automargin": true,
         "domain": [
          0,
          0.38
         ],
         "linecolor": "#000000",
         "showline": true,
         "showticklabels": false,
         "side": "right",
         "tickcolor": "#000000",
         "ticks": "outside",
         "zeroline": false
        },
        "yaxis4": {
         "anchor": "x4",
         "automargin": true,
         "domain": [
          0,
          0.38
         ],
         "linecolor": "#000000",
         "mirror": false,
         "showgrid": false,
         "showline": true,
         "showticklabels": true,
         "side": "left",
         "tickcolor": "#000000",
         "ticks": "outside",
         "ticktext": [
          "Comercialización",
          "Agricultura de Conservación",
          "Conservación del suelo",
          "Otra",
          "Conservación de agua",
          "Tecnologias de poscosecha",
          "Variedades mejoradas",
          "Agricultura de conservación",
          "Arreglos de siembra",
          "Manejo integrado de plagas",
          "Fertilización"
         ],
         "tickvals": [
          0,
          1,
          2,
          3,
          4,
          5,
          6,
          7,
          8,
          9,
          10
         ],
         "zeroline": false
        }
       }
      },
      "text/html": [
       "<div>                            <div id=\"60374441-2b14-4ffe-86e5-83507796041a\" class=\"plotly-graph-div\" style=\"height:700px; width:1800px;\"></div>            <script type=\"text/javascript\">                require([\"plotly\"], function(Plotly) {                    window.PLOTLYENV=window.PLOTLYENV || {};                                    if (document.getElementById(\"60374441-2b14-4ffe-86e5-83507796041a\")) {                    Plotly.newPlot(                        \"60374441-2b14-4ffe-86e5-83507796041a\",                        [{\"cliponaxis\":false,\"legendgroup\":\"Kit t\\u00e9cnol\\u00f3gico\",\"marker\":{\"color\":\"#636efa\",\"line\":{\"width\":0.0}},\"name\":\"Kit t\\u00e9cnol\\u00f3gico\",\"showlegend\":false,\"text\":[883.0,457.0,442.0,385.0,182.0,99.0,97.0,92.0,90.0,64.0,60.0,45.0,37.0,34.0,23.0,21.0,20.0,20.0,19.0,19.0,18.0,17.0,15.0,15.0,14.0,14.0,13.0,12.0,10.0,10.0,9.0,7.0,7.0,7.0,7.0,6.0,6.0,6.0,6.0,5.0,5.0,4.0,4.0,4.0,4.0,3.0,3.0,3.0,3.0,3.0,3.0,3.0,3.0,3.0,3.0,2.0,2.0,2.0,2.0,2.0,2.0,2.0,2.0,2.0,2.0,2.0,2.0,1.0,1.0,1.0,1.0,1.0,1.0,1.0,1.0,1.0,1.0,1.0,1.0,1.0,1.0,1.0,1.0,1.0,1.0,1.0,1.0,1.0,1.0,1.0,1.0,1.0,1.0,1.0,1.0,1.0,1.0,1.0,1.0,1.0,1.0,1.0,1.0,1.0,1.0,1.0],\"textangle\":-90,\"textfont\":{\"size\":12},\"textposition\":\"outside\",\"texttemplate\":\"%{text:}\",\"x\":[\"00000010000\",\"01100000000\",\"00000011000\",\"00000000000\",\"00000011001\",\"00000001000\",\"00001000000\",\"00000011010\",\"00100011000\",\"00000010010\",\"00000011011\",\"01000011000\",\"00000010001\",\"01000000000\",\"00100010000\",\"00000000001\",\"01000001000\",\"00000001010\",\"00000010011\",\"00000000010\",\"01100011000\",\"00000011100\",\"01000010000\",\"00100011001\",\"00100000000\",\"00000111000\",\"00100001000\",\"00100011010\",\"01100010000\",\"00000001001\",\"01000010010\",\"10000000000\",\"00100010001\",\"00000000100\",\"00000000011\",\"00100010011\",\"00100010010\",\"00001010000\",\"00000001011\",\"01000011010\",\"00001011000\",\"01001000000\",\"01000111000\",\"00101011000\",\"00100011011\",\"10000010000\",\"01100011010\",\"01010000000\",\"01000010001\",\"01000000011\",\"00100011100\",\"00100000001\",\"00001110000\",\"00000110010\",\"00000110000\",\"11100011000\",\"11001010000\",\"10001010000\",\"10000011000\",\"01001010000\",\"01000010011\",\"01000000010\",\"00101010000\",\"00001011011\",\"00000111010\",\"00000011110\",\"00000001100\",\"11000000010\",\"11000000000\",\"10110011000\",\"10100011000\",\"10100010000\",\"10000000001\",\"01101011100\",\"01101011000\",\"01101001000\",\"01100011101\",\"01100011100\",\"01100011001\",\"01100010010\",\"01100001100\",\"01100001000\",\"01001110000\",\"01001011000\",\"01000111001\",\"01000011011\",\"01000001011\",\"01000001010\",\"00101110010\",\"00101001001\",\"00101000001\",\"00101000000\",\"00100001100\",\"00100001010\",\"00100000100\",\"00010011001\",\"00001111000\",\"00001011100\",\"00001011010\",\"00001010010\",\"00001001001\",\"00001001000\",\"00000111110\",\"00000111011\",\"00000100001\",\"00000010100\"],\"y\":[883,457,442,385,182,99,97,92,90,64,60,45,37,34,23,21,20,20,19,19,18,17,15,15,14,14,13,12,10,10,9,7,7,7,7,6,6,6,6,5,5,4,4,4,4,3,3,3,3,3,3,3,3,3,3,2,2,2,2,2,2,2,2,2,2,2,2,1,1,1,1,1,1,1,1,1,1,1,1,1,1,1,1,1,1,1,1,1,1,1,1,1,1,1,1,1,1,1,1,1,1,1,1,1,1,1],\"type\":\"bar\",\"xaxis\":\"x2\",\"yaxis\":\"y2\"},{\"cliponaxis\":false,\"legendgroup\":\"Kit t\\u00e9cnol\\u00f3gico\",\"marker\":{\"color\":\"#636efa\",\"line\":{\"width\":0.0}},\"name\":\"Kit t\\u00e9cnol\\u00f3gico\",\"orientation\":\"h\",\"text\":[5.0,24.0,36.0,40.0,144.0,359.0,399.0,660.0,711.0,1221.0,2157.0],\"textangle\":0,\"textfont\":{\"size\":12},\"textposition\":\"outside\",\"texttemplate\":\"%{text:}\",\"x\":[5,24,36,40,144,359,399,660,711,1221,2157],\"y\":[\"Comercializaci\\u00f3n\",\"Agricultura de Conservaci\\u00f3n\",\"Conservaci\\u00f3n del suelo\",\"Otra\",\"Conservaci\\u00f3n de agua\",\"Tecnologias de poscosecha\",\"Variedades mejoradas\",\"Agricultura de conservaci\\u00f3n\",\"Arreglos de siembra\",\"Manejo integrado de plagas\",\"Fertilizaci\\u00f3n\"],\"type\":\"bar\",\"xaxis\":\"x3\",\"yaxis\":\"y3\"},{\"legendgroup\":\"True\",\"marker\":{\"color\":\"#000000\",\"line\":{\"color\":\"#000000\",\"width\":0},\"size\":12,\"symbol\":\"circle\"},\"mode\":\"markers\",\"name\":\"True\",\"showlegend\":false,\"x\":[31,13,24,6,0,5,33,19,15,72,51,104,12,29,34,34,61,9,17,49,18,38,94,105,66,66,17,29,38,38,16,26,101,2,2,105,9,12,100,4,4,18,18,87,93,7,7,86,10,10,92,21,21,21,7,4,10,10,65,65,65,65,45,22,14,37,54,54,104,48,32,30,36,99,53,53,60,35,58,11,8,40,25,25,25,53,23,95,39,27,98,64,64,64,85,44,63,103,103,103,50,97,64,103,103,102,102,102,102,102,37,101,100,99,100,40,40,99,98,98,63,63,97,97,97,98,63,63,52,52,52,42,96,96,96,96,84,41,91,90,89,95,95,95,57,59,62,83,43,82,88,47,91,14,26,94,51,90,32,36,93,35,92,92,93,8,8,36,32,89,23,23,35,35,27,27,44,44,50,50,50,27,23,44,44,62,43,62,90,89,89,43,43,88,88,88,88,1,1,47,41,22,16,61,48,49,49,30,87,60,86,87,86,86,81,81,11,11,30,48,60,60,39,39,85,85,80,80,39,85,85,71,28,28,59,79,79,70,20,20,83,42,42,42,78,78,84,84,84,46,46,77,77,84,76,76,59,83,83,82,82,82,75,75,74,74,73,73,28,81,79,80,80,75,20,20,79,78,78,46,46,77,77,77,46,78,76,76,76,76,69,74,73,75,74,74,73,73,73,68,68,45,72,67,67,58,58,71,57,70,57,56,56,71,70,70,69,69,69,69,67,56,55,55,55,56,55,55],\"y\":[0,1,2,4,6,7,8,9,10,0,2,5,6,7,9,10,1,6,7,1,6,7,2,6,7,8,9,10,9,10,1,2,4,6,7,8,9,10,4,6,7,9,10,1,2,6,7,1,6,7,2,6,7,8,9,10,9,10,6,7,8,9,0,1,2,4,5,6,10,1,2,1,2,4,5,6,1,2,0,1,2,4,5,6,7,9,2,3,1,2,4,5,6,7,1,2,4,5,6,7,2,4,9,9,10,5,6,7,8,9,6,7,7,6,10,6,7,9,6,7,6,7,6,7,8,9,9,10,4,5,6,1,4,5,6,7,1,1,2,2,2,6,7,10,0,1,2,1,2,1,2,1,4,6,7,8,10,4,6,6,7,6,7,8,9,6,7,9,10,4,6,7,9,10,6,7,6,7,6,7,8,9,10,9,10,4,4,6,10,7,10,6,7,4,5,6,9,1,2,3,4,6,7,9,6,9,10,6,7,6,7,9,9,10,1,2,6,7,9,10,9,10,6,7,6,7,1,2,9,9,10,0,1,2,4,1,2,0,1,2,4,5,6,7,1,2,5,6,7,1,2,1,2,10,1,2,6,6,7,4,5,6,1,2,1,2,1,2,6,7,6,7,8,4,6,7,9,6,7,6,7,6,7,8,9,10,6,7,8,10,0,4,4,7,6,7,6,7,8,0,1,6,10,0,1,6,7,2,4,2,6,0,1,6,6,7,2,3,6,7,9,4,0,1,2,6,6,7],\"type\":\"scatter\",\"xaxis\":\"x4\",\"yaxis\":\"y4\"},{\"legendgroup\":\"False\",\"marker\":{\"color\":\"#C2C2C2\",\"line\":{\"color\":\"#000000\",\"width\":0},\"size\":12,\"symbol\":\"circle\"},\"mode\":\"markers\",\"name\":\"False\",\"showlegend\":false,\"x\":[69,55,55,55,55,55,55,73,74,56,56,75,56,56,56,56,56,76,77,46,78,20,70,79,28,71,80,81,67,67,67,67,67,67,67,67,1,68,68,68,68,68,68,68,68,68,69,69,69,69,69,70,70,70,71,71,71,70,70,70,71,71,71,71,47,82,83,59,57,57,57,41,84,42,57,57,57,57,57,85,39,11,58,58,58,58,58,60,30,48,22,45,45,45,45,45,58,58,58,86,87,16,45,45,45,45,49,61,72,72,72,72,72,72,72,72,72,13,31,31,31,31,31,31,31,31,31,31,73,74,75,73,74,73,73,74,74,74,75,75,75,75,75,76,76,76,77,77,77,46,46,46,78,78,78,20,20,20,79,79,79,28,28,28,76,46,77,77,78,78,46,80,80,80,80,20,20,20,79,79,79,81,81,81,81,28,28,28,28,80,80,81,81,81,47,1,1,1,1,1,1,1,1,88,88,82,82,43,43,83,83,62,62,59,59,89,89,90,90,91,91,41,41,47,47,47,47,47,47,47,84,84,84,42,42,42,83,82,82,82,82,59,83,83,83,59,59,59,59,41,41,41,41,41,41,84,84,50,50,42,42,42,44,44,85,85,85,85,27,27,39,39,39,39,23,23,8,8,11,11,11,11,35,35,60,60,60,60,36,36,30,30,30,30,32,32,48,48,48,48,14,14,22,22,22,22,85,39,39,92,92,11,11,11,86,86,86,86,86,60,60,93,93,87,87,87,87,87,30,30,48,48,48,30,26,26,16,16,16,16,16,22,22,22,22,86,87,87,94,94,16,16,16,49,49,49,49,49,49,49,61,61,61,61,61,61,61,51,51,61,24,24,13,13,13,13,13,13,13,13,13,88,43,62,89,90,91,88,88,88,43,62,43,43,43,89,89,62,62,62,62,89,89,90,90,90,90,90,91,91,91,91,91,91,50,50,50,44,44,44,27,27,27,95,95,95,23,23,23,8,8,8,35,35,35,36,36,36,32,32,32,14,14,14,44,27,50,50,23,23,27,92,92,92,92,8,8,8,35,35,93,93,93,93,36,36,32,32,32,36,26,26,26,26,14,14,14,14,93,92,92,93,94,94,94,94,94,26,26,26,94,94,51,51,51,51,51,51,51,24,24,24,24,24,24,24,24,96,96,96,96,52,52,52,52,97,97,97,97,63,63,63,63,98,98,98,98,95,95,40,40,40,40,99,99,99,99,37,37,37,37,95,95,100,100,100,100,101,101,101,101,6,6,6,6,102,102,102,102,102,97,96,96,96,103,103,103,103,103,63,64,64,64,64,64,98,25,25,25,25,25,40,52,52,52,52,53,53,53,53,53,99,54,54,54,54,54,37,63,98,97,97,98,40,40,40,99,99,100,100,99,101,101,37,37,37,37,100,100,101,101,101,104,104,104,104,104,6,6,6,6,6,6,103,102,65,65,65,65,65,65,64,64,21,21,21,21,21,21,25,25,25,10,10,10,10,10,10,7,7,7,7,7,7,53,53,4,4,4,4,4,4,53,2,2,2,2,2,2,54,54,54,54,105,105,105,105,105,105,18,18,18,18,18,18,9,9,9,9,9,9,12,12,12,12,12,12,104,104,104,104,0,0,0,0,0,0,10,65,7,21,21,4,4,7,66,66,66,66,66,66,66,105,2,2,2,38,38,38,38,38,38,38,18,18,17,17,17,17,17,17,17,9,9,105,105,29,29,29,29,29,29,29,12,12,12,9,5,5,5,5,5,5,5,0,0,0,0,38,17,66,66,29,29,17,33,33,33,33,33,33,33,33,5,5,5,34,34,34,34,34,34,34,34,34,19,19,19,19,19,19,19,19,19,33,33,15,15,15,15,15,15,15,15,15,15,19,3,3,3,3,3,3,3,3,3,3,3],\"y\":[1,3,4,5,8,9,10,0,0,2,3,0,5,7,8,9,10,0,0,0,0,0,1,0,0,1,0,0,2,3,4,5,6,7,8,10,0,2,3,4,5,6,7,8,9,10,4,5,8,9,10,3,4,5,3,4,5,8,9,10,7,8,9,10,0,0,0,0,1,2,3,0,0,0,5,7,8,9,10,0,0,0,1,2,3,4,5,0,0,0,0,1,2,3,4,5,8,9,10,0,0,0,7,8,9,10,0,0,1,2,3,4,5,6,7,8,9,0,1,2,3,4,5,6,7,8,9,10,3,3,3,5,5,9,10,8,9,10,5,6,8,9,10,3,4,5,3,4,5,3,4,5,3,4,5,3,4,5,3,4,5,3,4,5,9,8,9,10,8,9,10,3,4,5,6,8,9,10,7,8,10,3,4,5,6,7,8,9,10,9,10,8,9,10,2,3,4,5,6,7,8,9,10,0,1,2,3,0,1,2,3,0,1,2,3,0,1,0,1,0,1,2,3,4,5,6,7,8,9,10,2,3,4,2,3,4,5,7,8,9,10,5,8,9,10,7,8,9,10,5,6,7,8,9,10,8,9,0,1,8,9,10,0,1,2,3,4,5,0,1,2,3,4,5,0,1,0,1,2,3,4,5,0,1,2,3,4,5,0,1,2,3,4,5,0,1,2,3,4,5,0,1,2,3,4,5,8,8,10,0,1,8,9,10,2,3,4,5,6,7,8,0,1,2,3,4,5,6,7,8,7,8,9,10,0,1,2,3,4,5,6,7,8,9,10,8,8,10,0,1,8,9,10,2,3,4,5,6,7,8,2,3,4,5,6,7,8,0,1,10,0,1,2,3,4,5,6,7,8,9,10,3,3,3,3,3,3,7,8,10,5,5,8,9,10,5,6,7,8,9,10,8,9,5,6,7,8,9,5,6,7,8,9,10,3,4,5,3,4,5,3,4,5,0,1,2,3,4,5,3,4,5,3,4,5,3,4,5,3,4,5,3,4,5,8,8,9,10,8,9,10,3,4,5,6,8,9,10,7,8,3,4,5,6,7,8,7,8,9,10,3,4,5,6,7,8,9,10,8,9,10,10,3,4,5,6,7,8,9,10,9,10,3,4,5,6,7,8,9,3,4,5,6,7,8,9,10,0,1,2,3,0,1,2,3,0,1,2,3,0,1,2,3,0,1,2,3,4,5,0,1,2,3,0,1,2,3,0,1,2,3,8,9,0,1,2,3,0,1,2,3,0,1,2,3,0,1,2,3,4,5,8,9,10,0,1,2,3,4,5,0,1,2,3,4,5,0,1,2,3,4,5,7,8,9,10,0,1,2,3,4,5,0,1,2,3,4,5,8,8,9,10,10,8,9,10,7,8,5,6,10,5,6,7,8,9,10,8,9,8,9,10,0,1,2,3,4,5,6,7,8,9,10,8,10,0,1,2,3,4,5,8,10,0,1,2,3,4,5,8,9,10,0,1,2,3,4,5,0,1,2,3,4,5,7,8,0,1,2,3,4,5,10,0,1,2,3,4,5,7,8,9,10,0,1,2,3,4,5,0,1,2,3,4,5,0,1,2,3,4,5,0,1,2,3,4,5,6,7,8,9,0,1,2,3,4,5,8,10,8,9,10,8,9,10,0,1,2,3,4,5,6,7,8,9,10,0,1,2,3,4,5,6,7,8,0,1,2,3,4,5,6,7,8,9,10,0,1,2,3,4,5,6,7,8,9,10,0,1,2,3,4,5,6,7,8,9,10,8,8,9,10,8,9,10,0,1,2,3,4,5,6,7,8,9,10,0,1,2,3,4,5,6,7,8,0,1,2,3,4,5,6,7,8,9,10,0,1,2,3,4,5,6,7,8,9,10,0,1,2,3,4,5,6,7,8,9,10],\"type\":\"scatter\",\"xaxis\":\"x4\",\"yaxis\":\"y4\"},{\"legendgroup\":\"True\",\"line\":{\"color\":\"#000000\",\"width\":2},\"mode\":\"lines\",\"name\":\"True\",\"showlegend\":false,\"x\":[34,34],\"y\":[9,10],\"type\":\"scatter\",\"xaxis\":\"x4\",\"yaxis\":\"y4\"},{\"legendgroup\":\"True\",\"line\":{\"color\":\"#000000\",\"width\":2},\"mode\":\"lines\",\"name\":\"True\",\"showlegend\":false,\"x\":[29,29],\"y\":[7,10],\"type\":\"scatter\",\"xaxis\":\"x4\",\"yaxis\":\"y4\"},{\"legendgroup\":\"True\",\"line\":{\"color\":\"#000000\",\"width\":2},\"mode\":\"lines\",\"name\":\"True\",\"showlegend\":false,\"x\":[17,17],\"y\":[7,9],\"type\":\"scatter\",\"xaxis\":\"x4\",\"yaxis\":\"y4\"},{\"legendgroup\":\"True\",\"line\":{\"color\":\"#000000\",\"width\":2},\"mode\":\"lines\",\"name\":\"True\",\"showlegend\":false,\"x\":[38,38],\"y\":[7,9],\"type\":\"scatter\",\"xaxis\":\"x4\",\"yaxis\":\"y4\"},{\"legendgroup\":\"True\",\"line\":{\"color\":\"#000000\",\"width\":2},\"mode\":\"lines\",\"name\":\"True\",\"showlegend\":false,\"x\":[38,38],\"y\":[9,10],\"type\":\"scatter\",\"xaxis\":\"x4\",\"yaxis\":\"y4\"},{\"legendgroup\":\"True\",\"line\":{\"color\":\"#000000\",\"width\":2},\"mode\":\"lines\",\"name\":\"True\",\"showlegend\":false,\"x\":[66,66],\"y\":[7,8],\"type\":\"scatter\",\"xaxis\":\"x4\",\"yaxis\":\"y4\"},{\"legendgroup\":\"True\",\"line\":{\"color\":\"#000000\",\"width\":2},\"mode\":\"lines\",\"name\":\"True\",\"showlegend\":false,\"x\":[12,12],\"y\":[6,10],\"type\":\"scatter\",\"xaxis\":\"x4\",\"yaxis\":\"y4\"},{\"legendgroup\":\"True\",\"line\":{\"color\":\"#000000\",\"width\":2},\"mode\":\"lines\",\"name\":\"True\",\"showlegend\":false,\"x\":[9,9],\"y\":[6,9],\"type\":\"scatter\",\"xaxis\":\"x4\",\"yaxis\":\"y4\"},{\"legendgroup\":\"True\",\"line\":{\"color\":\"#000000\",\"width\":2},\"mode\":\"lines\",\"name\":\"True\",\"showlegend\":false,\"x\":[18,18],\"y\":[6,9],\"type\":\"scatter\",\"xaxis\":\"x4\",\"yaxis\":\"y4\"},{\"legendgroup\":\"True\",\"line\":{\"color\":\"#000000\",\"width\":2},\"mode\":\"lines\",\"name\":\"True\",\"showlegend\":false,\"x\":[18,18],\"y\":[9,10],\"type\":\"scatter\",\"xaxis\":\"x4\",\"yaxis\":\"y4\"},{\"legendgroup\":\"True\",\"line\":{\"color\":\"#000000\",\"width\":2},\"mode\":\"lines\",\"name\":\"True\",\"showlegend\":false,\"x\":[105,105],\"y\":[6,8],\"type\":\"scatter\",\"xaxis\":\"x4\",\"yaxis\":\"y4\"},{\"legendgroup\":\"True\",\"line\":{\"color\":\"#000000\",\"width\":2},\"mode\":\"lines\",\"name\":\"True\",\"showlegend\":false,\"x\":[2,2],\"y\":[6,7],\"type\":\"scatter\",\"xaxis\":\"x4\",\"yaxis\":\"y4\"},{\"legendgroup\":\"True\",\"line\":{\"color\":\"#000000\",\"width\":2},\"mode\":\"lines\",\"name\":\"True\",\"showlegend\":false,\"x\":[4,4],\"y\":[6,7],\"type\":\"scatter\",\"xaxis\":\"x4\",\"yaxis\":\"y4\"},{\"legendgroup\":\"True\",\"line\":{\"color\":\"#000000\",\"width\":2},\"mode\":\"lines\",\"name\":\"True\",\"showlegend\":false,\"x\":[4,4],\"y\":[7,10],\"type\":\"scatter\",\"xaxis\":\"x4\",\"yaxis\":\"y4\"},{\"legendgroup\":\"True\",\"line\":{\"color\":\"#000000\",\"width\":2},\"mode\":\"lines\",\"name\":\"True\",\"showlegend\":false,\"x\":[7,7],\"y\":[6,7],\"type\":\"scatter\",\"xaxis\":\"x4\",\"yaxis\":\"y4\"},{\"legendgroup\":\"True\",\"line\":{\"color\":\"#000000\",\"width\":2},\"mode\":\"lines\",\"name\":\"True\",\"showlegend\":false,\"x\":[7,7],\"y\":[7,9],\"type\":\"scatter\",\"xaxis\":\"x4\",\"yaxis\":\"y4\"},{\"legendgroup\":\"True\",\"line\":{\"color\":\"#000000\",\"width\":2},\"mode\":\"lines\",\"name\":\"True\",\"showlegend\":false,\"x\":[10,10],\"y\":[6,7],\"type\":\"scatter\",\"xaxis\":\"x4\",\"yaxis\":\"y4\"},{\"legendgroup\":\"True\",\"line\":{\"color\":\"#000000\",\"width\":2},\"mode\":\"lines\",\"name\":\"True\",\"showlegend\":false,\"x\":[10,10],\"y\":[7,9],\"type\":\"scatter\",\"xaxis\":\"x4\",\"yaxis\":\"y4\"},{\"legendgroup\":\"True\",\"line\":{\"color\":\"#000000\",\"width\":2},\"mode\":\"lines\",\"name\":\"True\",\"showlegend\":false,\"x\":[10,10],\"y\":[9,10],\"type\":\"scatter\",\"xaxis\":\"x4\",\"yaxis\":\"y4\"},{\"legendgroup\":\"True\",\"line\":{\"color\":\"#000000\",\"width\":2},\"mode\":\"lines\",\"name\":\"True\",\"showlegend\":false,\"x\":[21,21],\"y\":[6,7],\"type\":\"scatter\",\"xaxis\":\"x4\",\"yaxis\":\"y4\"},{\"legendgroup\":\"True\",\"line\":{\"color\":\"#000000\",\"width\":2},\"mode\":\"lines\",\"name\":\"True\",\"showlegend\":false,\"x\":[21,21],\"y\":[7,8],\"type\":\"scatter\",\"xaxis\":\"x4\",\"yaxis\":\"y4\"},{\"legendgroup\":\"True\",\"line\":{\"color\":\"#000000\",\"width\":2},\"mode\":\"lines\",\"name\":\"True\",\"showlegend\":false,\"x\":[65,65],\"y\":[6,7],\"type\":\"scatter\",\"xaxis\":\"x4\",\"yaxis\":\"y4\"},{\"legendgroup\":\"True\",\"line\":{\"color\":\"#000000\",\"width\":2},\"mode\":\"lines\",\"name\":\"True\",\"showlegend\":false,\"x\":[65,65],\"y\":[7,8],\"type\":\"scatter\",\"xaxis\":\"x4\",\"yaxis\":\"y4\"},{\"legendgroup\":\"True\",\"line\":{\"color\":\"#000000\",\"width\":2},\"mode\":\"lines\",\"name\":\"True\",\"showlegend\":false,\"x\":[65,65],\"y\":[8,9],\"type\":\"scatter\",\"xaxis\":\"x4\",\"yaxis\":\"y4\"},{\"legendgroup\":\"True\",\"line\":{\"color\":\"#000000\",\"width\":2},\"mode\":\"lines\",\"name\":\"True\",\"showlegend\":false,\"x\":[104,104],\"y\":[5,10],\"type\":\"scatter\",\"xaxis\":\"x4\",\"yaxis\":\"y4\"},{\"legendgroup\":\"True\",\"line\":{\"color\":\"#000000\",\"width\":2},\"mode\":\"lines\",\"name\":\"True\",\"showlegend\":false,\"x\":[54,54],\"y\":[5,6],\"type\":\"scatter\",\"xaxis\":\"x4\",\"yaxis\":\"y4\"},{\"legendgroup\":\"True\",\"line\":{\"color\":\"#000000\",\"width\":2},\"mode\":\"lines\",\"name\":\"True\",\"showlegend\":false,\"x\":[53,53],\"y\":[5,6],\"type\":\"scatter\",\"xaxis\":\"x4\",\"yaxis\":\"y4\"},{\"legendgroup\":\"True\",\"line\":{\"color\":\"#000000\",\"width\":2},\"mode\":\"lines\",\"name\":\"True\",\"showlegend\":false,\"x\":[53,53],\"y\":[6,9],\"type\":\"scatter\",\"xaxis\":\"x4\",\"yaxis\":\"y4\"},{\"legendgroup\":\"True\",\"line\":{\"color\":\"#000000\",\"width\":2},\"mode\":\"lines\",\"name\":\"True\",\"showlegend\":false,\"x\":[25,25],\"y\":[5,6],\"type\":\"scatter\",\"xaxis\":\"x4\",\"yaxis\":\"y4\"},{\"legendgroup\":\"True\",\"line\":{\"color\":\"#000000\",\"width\":2},\"mode\":\"lines\",\"name\":\"True\",\"showlegend\":false,\"x\":[25,25],\"y\":[6,7],\"type\":\"scatter\",\"xaxis\":\"x4\",\"yaxis\":\"y4\"},{\"legendgroup\":\"True\",\"line\":{\"color\":\"#000000\",\"width\":2},\"mode\":\"lines\",\"name\":\"True\",\"showlegend\":false,\"x\":[64,64],\"y\":[5,6],\"type\":\"scatter\",\"xaxis\":\"x4\",\"yaxis\":\"y4\"},{\"legendgroup\":\"True\",\"line\":{\"color\":\"#000000\",\"width\":2},\"mode\":\"lines\",\"name\":\"True\",\"showlegend\":false,\"x\":[64,64],\"y\":[6,7],\"type\":\"scatter\",\"xaxis\":\"x4\",\"yaxis\":\"y4\"},{\"legendgroup\":\"True\",\"line\":{\"color\":\"#000000\",\"width\":2},\"mode\":\"lines\",\"name\":\"True\",\"showlegend\":false,\"x\":[64,64],\"y\":[7,9],\"type\":\"scatter\",\"xaxis\":\"x4\",\"yaxis\":\"y4\"},{\"legendgroup\":\"True\",\"line\":{\"color\":\"#000000\",\"width\":2},\"mode\":\"lines\",\"name\":\"True\",\"showlegend\":false,\"x\":[103,103],\"y\":[5,6],\"type\":\"scatter\",\"xaxis\":\"x4\",\"yaxis\":\"y4\"},{\"legendgroup\":\"True\",\"line\":{\"color\":\"#000000\",\"width\":2},\"mode\":\"lines\",\"name\":\"True\",\"showlegend\":false,\"x\":[103,103],\"y\":[6,7],\"type\":\"scatter\",\"xaxis\":\"x4\",\"yaxis\":\"y4\"},{\"legendgroup\":\"True\",\"line\":{\"color\":\"#000000\",\"width\":2},\"mode\":\"lines\",\"name\":\"True\",\"showlegend\":false,\"x\":[103,103],\"y\":[7,9],\"type\":\"scatter\",\"xaxis\":\"x4\",\"yaxis\":\"y4\"},{\"legendgroup\":\"True\",\"line\":{\"color\":\"#000000\",\"width\":2},\"mode\":\"lines\",\"name\":\"True\",\"showlegend\":false,\"x\":[103,103],\"y\":[9,10],\"type\":\"scatter\",\"xaxis\":\"x4\",\"yaxis\":\"y4\"},{\"legendgroup\":\"True\",\"line\":{\"color\":\"#000000\",\"width\":2},\"mode\":\"lines\",\"name\":\"True\",\"showlegend\":false,\"x\":[102,102],\"y\":[5,6],\"type\":\"scatter\",\"xaxis\":\"x4\",\"yaxis\":\"y4\"},{\"legendgroup\":\"True\",\"line\":{\"color\":\"#000000\",\"width\":2},\"mode\":\"lines\",\"name\":\"True\",\"showlegend\":false,\"x\":[102,102],\"y\":[6,7],\"type\":\"scatter\",\"xaxis\":\"x4\",\"yaxis\":\"y4\"},{\"legendgroup\":\"True\",\"line\":{\"color\":\"#000000\",\"width\":2},\"mode\":\"lines\",\"name\":\"True\",\"showlegend\":false,\"x\":[102,102],\"y\":[7,8],\"type\":\"scatter\",\"xaxis\":\"x4\",\"yaxis\":\"y4\"},{\"legendgroup\":\"True\",\"line\":{\"color\":\"#000000\",\"width\":2},\"mode\":\"lines\",\"name\":\"True\",\"showlegend\":false,\"x\":[102,102],\"y\":[8,9],\"type\":\"scatter\",\"xaxis\":\"x4\",\"yaxis\":\"y4\"},{\"legendgroup\":\"True\",\"line\":{\"color\":\"#000000\",\"width\":2},\"mode\":\"lines\",\"name\":\"True\",\"showlegend\":false,\"x\":[101,101],\"y\":[4,7],\"type\":\"scatter\",\"xaxis\":\"x4\",\"yaxis\":\"y4\"},{\"legendgroup\":\"True\",\"line\":{\"color\":\"#000000\",\"width\":2},\"mode\":\"lines\",\"name\":\"True\",\"showlegend\":false,\"x\":[100,100],\"y\":[4,7],\"type\":\"scatter\",\"xaxis\":\"x4\",\"yaxis\":\"y4\"},{\"legendgroup\":\"True\",\"line\":{\"color\":\"#000000\",\"width\":2},\"mode\":\"lines\",\"name\":\"True\",\"showlegend\":false,\"x\":[100,100],\"y\":[7,10],\"type\":\"scatter\",\"xaxis\":\"x4\",\"yaxis\":\"y4\"},{\"legendgroup\":\"True\",\"line\":{\"color\":\"#000000\",\"width\":2},\"mode\":\"lines\",\"name\":\"True\",\"showlegend\":false,\"x\":[37,37],\"y\":[4,6],\"type\":\"scatter\",\"xaxis\":\"x4\",\"yaxis\":\"y4\"},{\"legendgroup\":\"True\",\"line\":{\"color\":\"#000000\",\"width\":2},\"mode\":\"lines\",\"name\":\"True\",\"showlegend\":false,\"x\":[99,99],\"y\":[4,6],\"type\":\"scatter\",\"xaxis\":\"x4\",\"yaxis\":\"y4\"},{\"legendgroup\":\"True\",\"line\":{\"color\":\"#000000\",\"width\":2},\"mode\":\"lines\",\"name\":\"True\",\"showlegend\":false,\"x\":[99,99],\"y\":[6,9],\"type\":\"scatter\",\"xaxis\":\"x4\",\"yaxis\":\"y4\"},{\"legendgroup\":\"True\",\"line\":{\"color\":\"#000000\",\"width\":2},\"mode\":\"lines\",\"name\":\"True\",\"showlegend\":false,\"x\":[40,40],\"y\":[4,6],\"type\":\"scatter\",\"xaxis\":\"x4\",\"yaxis\":\"y4\"},{\"legendgroup\":\"True\",\"line\":{\"color\":\"#000000\",\"width\":2},\"mode\":\"lines\",\"name\":\"True\",\"showlegend\":false,\"x\":[40,40],\"y\":[6,7],\"type\":\"scatter\",\"xaxis\":\"x4\",\"yaxis\":\"y4\"},{\"legendgroup\":\"True\",\"line\":{\"color\":\"#000000\",\"width\":2},\"mode\":\"lines\",\"name\":\"True\",\"showlegend\":false,\"x\":[98,98],\"y\":[4,6],\"type\":\"scatter\",\"xaxis\":\"x4\",\"yaxis\":\"y4\"},{\"legendgroup\":\"True\",\"line\":{\"color\":\"#000000\",\"width\":2},\"mode\":\"lines\",\"name\":\"True\",\"showlegend\":false,\"x\":[98,98],\"y\":[6,7],\"type\":\"scatter\",\"xaxis\":\"x4\",\"yaxis\":\"y4\"},{\"legendgroup\":\"True\",\"line\":{\"color\":\"#000000\",\"width\":2},\"mode\":\"lines\",\"name\":\"True\",\"showlegend\":false,\"x\":[98,98],\"y\":[7,9],\"type\":\"scatter\",\"xaxis\":\"x4\",\"yaxis\":\"y4\"},{\"legendgroup\":\"True\",\"line\":{\"color\":\"#000000\",\"width\":2},\"mode\":\"lines\",\"name\":\"True\",\"showlegend\":false,\"x\":[63,63],\"y\":[4,6],\"type\":\"scatter\",\"xaxis\":\"x4\",\"yaxis\":\"y4\"},{\"legendgroup\":\"True\",\"line\":{\"color\":\"#000000\",\"width\":2},\"mode\":\"lines\",\"name\":\"True\",\"showlegend\":false,\"x\":[63,63],\"y\":[6,7],\"type\":\"scatter\",\"xaxis\":\"x4\",\"yaxis\":\"y4\"},{\"legendgroup\":\"True\",\"line\":{\"color\":\"#000000\",\"width\":2},\"mode\":\"lines\",\"name\":\"True\",\"showlegend\":false,\"x\":[63,63],\"y\":[7,9],\"type\":\"scatter\",\"xaxis\":\"x4\",\"yaxis\":\"y4\"},{\"legendgroup\":\"True\",\"line\":{\"color\":\"#000000\",\"width\":2},\"mode\":\"lines\",\"name\":\"True\",\"showlegend\":false,\"x\":[63,63],\"y\":[9,10],\"type\":\"scatter\",\"xaxis\":\"x4\",\"yaxis\":\"y4\"},{\"legendgroup\":\"True\",\"line\":{\"color\":\"#000000\",\"width\":2},\"mode\":\"lines\",\"name\":\"True\",\"showlegend\":false,\"x\":[97,97],\"y\":[4,6],\"type\":\"scatter\",\"xaxis\":\"x4\",\"yaxis\":\"y4\"},{\"legendgroup\":\"True\",\"line\":{\"color\":\"#000000\",\"width\":2},\"mode\":\"lines\",\"name\":\"True\",\"showlegend\":false,\"x\":[97,97],\"y\":[6,7],\"type\":\"scatter\",\"xaxis\":\"x4\",\"yaxis\":\"y4\"},{\"legendgroup\":\"True\",\"line\":{\"color\":\"#000000\",\"width\":2},\"mode\":\"lines\",\"name\":\"True\",\"showlegend\":false,\"x\":[97,97],\"y\":[7,8],\"type\":\"scatter\",\"xaxis\":\"x4\",\"yaxis\":\"y4\"},{\"legendgroup\":\"True\",\"line\":{\"color\":\"#000000\",\"width\":2},\"mode\":\"lines\",\"name\":\"True\",\"showlegend\":false,\"x\":[52,52],\"y\":[4,5],\"type\":\"scatter\",\"xaxis\":\"x4\",\"yaxis\":\"y4\"},{\"legendgroup\":\"True\",\"line\":{\"color\":\"#000000\",\"width\":2},\"mode\":\"lines\",\"name\":\"True\",\"showlegend\":false,\"x\":[52,52],\"y\":[5,6],\"type\":\"scatter\",\"xaxis\":\"x4\",\"yaxis\":\"y4\"},{\"legendgroup\":\"True\",\"line\":{\"color\":\"#000000\",\"width\":2},\"mode\":\"lines\",\"name\":\"True\",\"showlegend\":false,\"x\":[96,96],\"y\":[4,5],\"type\":\"scatter\",\"xaxis\":\"x4\",\"yaxis\":\"y4\"},{\"legendgroup\":\"True\",\"line\":{\"color\":\"#000000\",\"width\":2},\"mode\":\"lines\",\"name\":\"True\",\"showlegend\":false,\"x\":[96,96],\"y\":[5,6],\"type\":\"scatter\",\"xaxis\":\"x4\",\"yaxis\":\"y4\"},{\"legendgroup\":\"True\",\"line\":{\"color\":\"#000000\",\"width\":2},\"mode\":\"lines\",\"name\":\"True\",\"showlegend\":false,\"x\":[96,96],\"y\":[6,7],\"type\":\"scatter\",\"xaxis\":\"x4\",\"yaxis\":\"y4\"},{\"legendgroup\":\"True\",\"line\":{\"color\":\"#000000\",\"width\":2},\"mode\":\"lines\",\"name\":\"True\",\"showlegend\":false,\"x\":[95,95],\"y\":[3,6],\"type\":\"scatter\",\"xaxis\":\"x4\",\"yaxis\":\"y4\"},{\"legendgroup\":\"True\",\"line\":{\"color\":\"#000000\",\"width\":2},\"mode\":\"lines\",\"name\":\"True\",\"showlegend\":false,\"x\":[95,95],\"y\":[6,7],\"type\":\"scatter\",\"xaxis\":\"x4\",\"yaxis\":\"y4\"},{\"legendgroup\":\"True\",\"line\":{\"color\":\"#000000\",\"width\":2},\"mode\":\"lines\",\"name\":\"True\",\"showlegend\":false,\"x\":[95,95],\"y\":[7,10],\"type\":\"scatter\",\"xaxis\":\"x4\",\"yaxis\":\"y4\"},{\"legendgroup\":\"True\",\"line\":{\"color\":\"#000000\",\"width\":2},\"mode\":\"lines\",\"name\":\"True\",\"showlegend\":false,\"x\":[51,51],\"y\":[2,10],\"type\":\"scatter\",\"xaxis\":\"x4\",\"yaxis\":\"y4\"},{\"legendgroup\":\"True\",\"line\":{\"color\":\"#000000\",\"width\":2},\"mode\":\"lines\",\"name\":\"True\",\"showlegend\":false,\"x\":[94,94],\"y\":[2,8],\"type\":\"scatter\",\"xaxis\":\"x4\",\"yaxis\":\"y4\"},{\"legendgroup\":\"True\",\"line\":{\"color\":\"#000000\",\"width\":2},\"mode\":\"lines\",\"name\":\"True\",\"showlegend\":false,\"x\":[26,26],\"y\":[2,7],\"type\":\"scatter\",\"xaxis\":\"x4\",\"yaxis\":\"y4\"},{\"legendgroup\":\"True\",\"line\":{\"color\":\"#000000\",\"width\":2},\"mode\":\"lines\",\"name\":\"True\",\"showlegend\":false,\"x\":[93,93],\"y\":[2,7],\"type\":\"scatter\",\"xaxis\":\"x4\",\"yaxis\":\"y4\"},{\"legendgroup\":\"True\",\"line\":{\"color\":\"#000000\",\"width\":2},\"mode\":\"lines\",\"name\":\"True\",\"showlegend\":false,\"x\":[93,93],\"y\":[7,9],\"type\":\"scatter\",\"xaxis\":\"x4\",\"yaxis\":\"y4\"},{\"legendgroup\":\"True\",\"line\":{\"color\":\"#000000\",\"width\":2},\"mode\":\"lines\",\"name\":\"True\",\"showlegend\":false,\"x\":[92,92],\"y\":[2,7],\"type\":\"scatter\",\"xaxis\":\"x4\",\"yaxis\":\"y4\"},{\"legendgroup\":\"True\",\"line\":{\"color\":\"#000000\",\"width\":2},\"mode\":\"lines\",\"name\":\"True\",\"showlegend\":false,\"x\":[92,92],\"y\":[7,8],\"type\":\"scatter\",\"xaxis\":\"x4\",\"yaxis\":\"y4\"},{\"legendgroup\":\"True\",\"line\":{\"color\":\"#000000\",\"width\":2},\"mode\":\"lines\",\"name\":\"True\",\"showlegend\":false,\"x\":[14,14],\"y\":[2,6],\"type\":\"scatter\",\"xaxis\":\"x4\",\"yaxis\":\"y4\"},{\"legendgroup\":\"True\",\"line\":{\"color\":\"#000000\",\"width\":2},\"mode\":\"lines\",\"name\":\"True\",\"showlegend\":false,\"x\":[32,32],\"y\":[2,6],\"type\":\"scatter\",\"xaxis\":\"x4\",\"yaxis\":\"y4\"},{\"legendgroup\":\"True\",\"line\":{\"color\":\"#000000\",\"width\":2},\"mode\":\"lines\",\"name\":\"True\",\"showlegend\":false,\"x\":[32,32],\"y\":[6,10],\"type\":\"scatter\",\"xaxis\":\"x4\",\"yaxis\":\"y4\"},{\"legendgroup\":\"True\",\"line\":{\"color\":\"#000000\",\"width\":2},\"mode\":\"lines\",\"name\":\"True\",\"showlegend\":false,\"x\":[36,36],\"y\":[2,6],\"type\":\"scatter\",\"xaxis\":\"x4\",\"yaxis\":\"y4\"},{\"legendgroup\":\"True\",\"line\":{\"color\":\"#000000\",\"width\":2},\"mode\":\"lines\",\"name\":\"True\",\"showlegend\":false,\"x\":[36,36],\"y\":[6,9],\"type\":\"scatter\",\"xaxis\":\"x4\",\"yaxis\":\"y4\"},{\"legendgroup\":\"True\",\"line\":{\"color\":\"#000000\",\"width\":2},\"mode\":\"lines\",\"name\":\"True\",\"showlegend\":false,\"x\":[35,35],\"y\":[2,6],\"type\":\"scatter\",\"xaxis\":\"x4\",\"yaxis\":\"y4\"},{\"legendgroup\":\"True\",\"line\":{\"color\":\"#000000\",\"width\":2},\"mode\":\"lines\",\"name\":\"True\",\"showlegend\":false,\"x\":[35,35],\"y\":[6,9],\"type\":\"scatter\",\"xaxis\":\"x4\",\"yaxis\":\"y4\"},{\"legendgroup\":\"True\",\"line\":{\"color\":\"#000000\",\"width\":2},\"mode\":\"lines\",\"name\":\"True\",\"showlegend\":false,\"x\":[35,35],\"y\":[9,10],\"type\":\"scatter\",\"xaxis\":\"x4\",\"yaxis\":\"y4\"},{\"legendgroup\":\"True\",\"line\":{\"color\":\"#000000\",\"width\":2},\"mode\":\"lines\",\"name\":\"True\",\"showlegend\":false,\"x\":[8,8],\"y\":[2,6],\"type\":\"scatter\",\"xaxis\":\"x4\",\"yaxis\":\"y4\"},{\"legendgroup\":\"True\",\"line\":{\"color\":\"#000000\",\"width\":2},\"mode\":\"lines\",\"name\":\"True\",\"showlegend\":false,\"x\":[8,8],\"y\":[6,7],\"type\":\"scatter\",\"xaxis\":\"x4\",\"yaxis\":\"y4\"},{\"legendgroup\":\"True\",\"line\":{\"color\":\"#000000\",\"width\":2},\"mode\":\"lines\",\"name\":\"True\",\"showlegend\":false,\"x\":[23,23],\"y\":[2,6],\"type\":\"scatter\",\"xaxis\":\"x4\",\"yaxis\":\"y4\"},{\"legendgroup\":\"True\",\"line\":{\"color\":\"#000000\",\"width\":2},\"mode\":\"lines\",\"name\":\"True\",\"showlegend\":false,\"x\":[23,23],\"y\":[6,7],\"type\":\"scatter\",\"xaxis\":\"x4\",\"yaxis\":\"y4\"},{\"legendgroup\":\"True\",\"line\":{\"color\":\"#000000\",\"width\":2},\"mode\":\"lines\",\"name\":\"True\",\"showlegend\":false,\"x\":[23,23],\"y\":[7,10],\"type\":\"scatter\",\"xaxis\":\"x4\",\"yaxis\":\"y4\"},{\"legendgroup\":\"True\",\"line\":{\"color\":\"#000000\",\"width\":2},\"mode\":\"lines\",\"name\":\"True\",\"showlegend\":false,\"x\":[27,27],\"y\":[2,6],\"type\":\"scatter\",\"xaxis\":\"x4\",\"yaxis\":\"y4\"},{\"legendgroup\":\"True\",\"line\":{\"color\":\"#000000\",\"width\":2},\"mode\":\"lines\",\"name\":\"True\",\"showlegend\":false,\"x\":[27,27],\"y\":[6,7],\"type\":\"scatter\",\"xaxis\":\"x4\",\"yaxis\":\"y4\"},{\"legendgroup\":\"True\",\"line\":{\"color\":\"#000000\",\"width\":2},\"mode\":\"lines\",\"name\":\"True\",\"showlegend\":false,\"x\":[27,27],\"y\":[7,9],\"type\":\"scatter\",\"xaxis\":\"x4\",\"yaxis\":\"y4\"},{\"legendgroup\":\"True\",\"line\":{\"color\":\"#000000\",\"width\":2},\"mode\":\"lines\",\"name\":\"True\",\"showlegend\":false,\"x\":[44,44],\"y\":[2,6],\"type\":\"scatter\",\"xaxis\":\"x4\",\"yaxis\":\"y4\"},{\"legendgroup\":\"True\",\"line\":{\"color\":\"#000000\",\"width\":2},\"mode\":\"lines\",\"name\":\"True\",\"showlegend\":false,\"x\":[44,44],\"y\":[6,7],\"type\":\"scatter\",\"xaxis\":\"x4\",\"yaxis\":\"y4\"},{\"legendgroup\":\"True\",\"line\":{\"color\":\"#000000\",\"width\":2},\"mode\":\"lines\",\"name\":\"True\",\"showlegend\":false,\"x\":[44,44],\"y\":[7,9],\"type\":\"scatter\",\"xaxis\":\"x4\",\"yaxis\":\"y4\"},{\"legendgroup\":\"True\",\"line\":{\"color\":\"#000000\",\"width\":2},\"mode\":\"lines\",\"name\":\"True\",\"showlegend\":false,\"x\":[44,44],\"y\":[9,10],\"type\":\"scatter\",\"xaxis\":\"x4\",\"yaxis\":\"y4\"},{\"legendgroup\":\"True\",\"line\":{\"color\":\"#000000\",\"width\":2},\"mode\":\"lines\",\"name\":\"True\",\"showlegend\":false,\"x\":[50,50],\"y\":[2,6],\"type\":\"scatter\",\"xaxis\":\"x4\",\"yaxis\":\"y4\"},{\"legendgroup\":\"True\",\"line\":{\"color\":\"#000000\",\"width\":2},\"mode\":\"lines\",\"name\":\"True\",\"showlegend\":false,\"x\":[50,50],\"y\":[6,7],\"type\":\"scatter\",\"xaxis\":\"x4\",\"yaxis\":\"y4\"},{\"legendgroup\":\"True\",\"line\":{\"color\":\"#000000\",\"width\":2},\"mode\":\"lines\",\"name\":\"True\",\"showlegend\":false,\"x\":[50,50],\"y\":[7,8],\"type\":\"scatter\",\"xaxis\":\"x4\",\"yaxis\":\"y4\"},{\"legendgroup\":\"True\",\"line\":{\"color\":\"#000000\",\"width\":2},\"mode\":\"lines\",\"name\":\"True\",\"showlegend\":false,\"x\":[91,91],\"y\":[2,4],\"type\":\"scatter\",\"xaxis\":\"x4\",\"yaxis\":\"y4\"},{\"legendgroup\":\"True\",\"line\":{\"color\":\"#000000\",\"width\":2},\"mode\":\"lines\",\"name\":\"True\",\"showlegend\":false,\"x\":[90,90],\"y\":[2,4],\"type\":\"scatter\",\"xaxis\":\"x4\",\"yaxis\":\"y4\"},{\"legendgroup\":\"True\",\"line\":{\"color\":\"#000000\",\"width\":2},\"mode\":\"lines\",\"name\":\"True\",\"showlegend\":false,\"x\":[90,90],\"y\":[4,10],\"type\":\"scatter\",\"xaxis\":\"x4\",\"yaxis\":\"y4\"},{\"legendgroup\":\"True\",\"line\":{\"color\":\"#000000\",\"width\":2},\"mode\":\"lines\",\"name\":\"True\",\"showlegend\":false,\"x\":[89,89],\"y\":[2,4],\"type\":\"scatter\",\"xaxis\":\"x4\",\"yaxis\":\"y4\"},{\"legendgroup\":\"True\",\"line\":{\"color\":\"#000000\",\"width\":2},\"mode\":\"lines\",\"name\":\"True\",\"showlegend\":false,\"x\":[89,89],\"y\":[4,7],\"type\":\"scatter\",\"xaxis\":\"x4\",\"yaxis\":\"y4\"},{\"legendgroup\":\"True\",\"line\":{\"color\":\"#000000\",\"width\":2},\"mode\":\"lines\",\"name\":\"True\",\"showlegend\":false,\"x\":[89,89],\"y\":[7,10],\"type\":\"scatter\",\"xaxis\":\"x4\",\"yaxis\":\"y4\"},{\"legendgroup\":\"True\",\"line\":{\"color\":\"#000000\",\"width\":2},\"mode\":\"lines\",\"name\":\"True\",\"showlegend\":false,\"x\":[62,62],\"y\":[2,4],\"type\":\"scatter\",\"xaxis\":\"x4\",\"yaxis\":\"y4\"},{\"legendgroup\":\"True\",\"line\":{\"color\":\"#000000\",\"width\":2},\"mode\":\"lines\",\"name\":\"True\",\"showlegend\":false,\"x\":[62,62],\"y\":[4,6],\"type\":\"scatter\",\"xaxis\":\"x4\",\"yaxis\":\"y4\"},{\"legendgroup\":\"True\",\"line\":{\"color\":\"#000000\",\"width\":2},\"mode\":\"lines\",\"name\":\"True\",\"showlegend\":false,\"x\":[43,43],\"y\":[2,4],\"type\":\"scatter\",\"xaxis\":\"x4\",\"yaxis\":\"y4\"},{\"legendgroup\":\"True\",\"line\":{\"color\":\"#000000\",\"width\":2},\"mode\":\"lines\",\"name\":\"True\",\"showlegend\":false,\"x\":[43,43],\"y\":[4,6],\"type\":\"scatter\",\"xaxis\":\"x4\",\"yaxis\":\"y4\"},{\"legendgroup\":\"True\",\"line\":{\"color\":\"#000000\",\"width\":2},\"mode\":\"lines\",\"name\":\"True\",\"showlegend\":false,\"x\":[43,43],\"y\":[6,7],\"type\":\"scatter\",\"xaxis\":\"x4\",\"yaxis\":\"y4\"},{\"legendgroup\":\"True\",\"line\":{\"color\":\"#000000\",\"width\":2},\"mode\":\"lines\",\"name\":\"True\",\"showlegend\":false,\"x\":[88,88],\"y\":[2,4],\"type\":\"scatter\",\"xaxis\":\"x4\",\"yaxis\":\"y4\"},{\"legendgroup\":\"True\",\"line\":{\"color\":\"#000000\",\"width\":2},\"mode\":\"lines\",\"name\":\"True\",\"showlegend\":false,\"x\":[88,88],\"y\":[4,5],\"type\":\"scatter\",\"xaxis\":\"x4\",\"yaxis\":\"y4\"},{\"legendgroup\":\"True\",\"line\":{\"color\":\"#000000\",\"width\":2},\"mode\":\"lines\",\"name\":\"True\",\"showlegend\":false,\"x\":[88,88],\"y\":[5,6],\"type\":\"scatter\",\"xaxis\":\"x4\",\"yaxis\":\"y4\"},{\"legendgroup\":\"True\",\"line\":{\"color\":\"#000000\",\"width\":2},\"mode\":\"lines\",\"name\":\"True\",\"showlegend\":false,\"x\":[88,88],\"y\":[6,9],\"type\":\"scatter\",\"xaxis\":\"x4\",\"yaxis\":\"y4\"},{\"legendgroup\":\"True\",\"line\":{\"color\":\"#000000\",\"width\":2},\"mode\":\"lines\",\"name\":\"True\",\"showlegend\":false,\"x\":[61,61],\"y\":[1,9],\"type\":\"scatter\",\"xaxis\":\"x4\",\"yaxis\":\"y4\"},{\"legendgroup\":\"True\",\"line\":{\"color\":\"#000000\",\"width\":2},\"mode\":\"lines\",\"name\":\"True\",\"showlegend\":false,\"x\":[49,49],\"y\":[1,9],\"type\":\"scatter\",\"xaxis\":\"x4\",\"yaxis\":\"y4\"},{\"legendgroup\":\"True\",\"line\":{\"color\":\"#000000\",\"width\":2},\"mode\":\"lines\",\"name\":\"True\",\"showlegend\":false,\"x\":[49,49],\"y\":[9,10],\"type\":\"scatter\",\"xaxis\":\"x4\",\"yaxis\":\"y4\"},{\"legendgroup\":\"True\",\"line\":{\"color\":\"#000000\",\"width\":2},\"mode\":\"lines\",\"name\":\"True\",\"showlegend\":false,\"x\":[16,16],\"y\":[1,7],\"type\":\"scatter\",\"xaxis\":\"x4\",\"yaxis\":\"y4\"},{\"legendgroup\":\"True\",\"line\":{\"color\":\"#000000\",\"width\":2},\"mode\":\"lines\",\"name\":\"True\",\"showlegend\":false,\"x\":[87,87],\"y\":[1,7],\"type\":\"scatter\",\"xaxis\":\"x4\",\"yaxis\":\"y4\"},{\"legendgroup\":\"True\",\"line\":{\"color\":\"#000000\",\"width\":2},\"mode\":\"lines\",\"name\":\"True\",\"showlegend\":false,\"x\":[87,87],\"y\":[7,9],\"type\":\"scatter\",\"xaxis\":\"x4\",\"yaxis\":\"y4\"},{\"legendgroup\":\"True\",\"line\":{\"color\":\"#000000\",\"width\":2},\"mode\":\"lines\",\"name\":\"True\",\"showlegend\":false,\"x\":[86,86],\"y\":[1,7],\"type\":\"scatter\",\"xaxis\":\"x4\",\"yaxis\":\"y4\"},{\"legendgroup\":\"True\",\"line\":{\"color\":\"#000000\",\"width\":2},\"mode\":\"lines\",\"name\":\"True\",\"showlegend\":false,\"x\":[86,86],\"y\":[7,9],\"type\":\"scatter\",\"xaxis\":\"x4\",\"yaxis\":\"y4\"},{\"legendgroup\":\"True\",\"line\":{\"color\":\"#000000\",\"width\":2},\"mode\":\"lines\",\"name\":\"True\",\"showlegend\":false,\"x\":[86,86],\"y\":[9,10],\"type\":\"scatter\",\"xaxis\":\"x4\",\"yaxis\":\"y4\"},{\"legendgroup\":\"True\",\"line\":{\"color\":\"#000000\",\"width\":2},\"mode\":\"lines\",\"name\":\"True\",\"showlegend\":false,\"x\":[22,22],\"y\":[1,6],\"type\":\"scatter\",\"xaxis\":\"x4\",\"yaxis\":\"y4\"},{\"legendgroup\":\"True\",\"line\":{\"color\":\"#000000\",\"width\":2},\"mode\":\"lines\",\"name\":\"True\",\"showlegend\":false,\"x\":[48,48],\"y\":[1,6],\"type\":\"scatter\",\"xaxis\":\"x4\",\"yaxis\":\"y4\"},{\"legendgroup\":\"True\",\"line\":{\"color\":\"#000000\",\"width\":2},\"mode\":\"lines\",\"name\":\"True\",\"showlegend\":false,\"x\":[48,48],\"y\":[6,10],\"type\":\"scatter\",\"xaxis\":\"x4\",\"yaxis\":\"y4\"},{\"legendgroup\":\"True\",\"line\":{\"color\":\"#000000\",\"width\":2},\"mode\":\"lines\",\"name\":\"True\",\"showlegend\":false,\"x\":[30,30],\"y\":[1,6],\"type\":\"scatter\",\"xaxis\":\"x4\",\"yaxis\":\"y4\"},{\"legendgroup\":\"True\",\"line\":{\"color\":\"#000000\",\"width\":2},\"mode\":\"lines\",\"name\":\"True\",\"showlegend\":false,\"x\":[30,30],\"y\":[6,9],\"type\":\"scatter\",\"xaxis\":\"x4\",\"yaxis\":\"y4\"},{\"legendgroup\":\"True\",\"line\":{\"color\":\"#000000\",\"width\":2},\"mode\":\"lines\",\"name\":\"True\",\"showlegend\":false,\"x\":[60,60],\"y\":[1,6],\"type\":\"scatter\",\"xaxis\":\"x4\",\"yaxis\":\"y4\"},{\"legendgroup\":\"True\",\"line\":{\"color\":\"#000000\",\"width\":2},\"mode\":\"lines\",\"name\":\"True\",\"showlegend\":false,\"x\":[60,60],\"y\":[6,9],\"type\":\"scatter\",\"xaxis\":\"x4\",\"yaxis\":\"y4\"},{\"legendgroup\":\"True\",\"line\":{\"color\":\"#000000\",\"width\":2},\"mode\":\"lines\",\"name\":\"True\",\"showlegend\":false,\"x\":[60,60],\"y\":[9,10],\"type\":\"scatter\",\"xaxis\":\"x4\",\"yaxis\":\"y4\"},{\"legendgroup\":\"True\",\"line\":{\"color\":\"#000000\",\"width\":2},\"mode\":\"lines\",\"name\":\"True\",\"showlegend\":false,\"x\":[11,11],\"y\":[1,6],\"type\":\"scatter\",\"xaxis\":\"x4\",\"yaxis\":\"y4\"},{\"legendgroup\":\"True\",\"line\":{\"color\":\"#000000\",\"width\":2},\"mode\":\"lines\",\"name\":\"True\",\"showlegend\":false,\"x\":[11,11],\"y\":[6,7],\"type\":\"scatter\",\"xaxis\":\"x4\",\"yaxis\":\"y4\"},{\"legendgroup\":\"True\",\"line\":{\"color\":\"#000000\",\"width\":2},\"mode\":\"lines\",\"name\":\"True\",\"showlegend\":false,\"x\":[39,39],\"y\":[1,6],\"type\":\"scatter\",\"xaxis\":\"x4\",\"yaxis\":\"y4\"},{\"legendgroup\":\"True\",\"line\":{\"color\":\"#000000\",\"width\":2},\"mode\":\"lines\",\"name\":\"True\",\"showlegend\":false,\"x\":[39,39],\"y\":[6,7],\"type\":\"scatter\",\"xaxis\":\"x4\",\"yaxis\":\"y4\"},{\"legendgroup\":\"True\",\"line\":{\"color\":\"#000000\",\"width\":2},\"mode\":\"lines\",\"name\":\"True\",\"showlegend\":false,\"x\":[39,39],\"y\":[7,9],\"type\":\"scatter\",\"xaxis\":\"x4\",\"yaxis\":\"y4\"},{\"legendgroup\":\"True\",\"line\":{\"color\":\"#000000\",\"width\":2},\"mode\":\"lines\",\"name\":\"True\",\"showlegend\":false,\"x\":[85,85],\"y\":[1,6],\"type\":\"scatter\",\"xaxis\":\"x4\",\"yaxis\":\"y4\"},{\"legendgroup\":\"True\",\"line\":{\"color\":\"#000000\",\"width\":2},\"mode\":\"lines\",\"name\":\"True\",\"showlegend\":false,\"x\":[85,85],\"y\":[6,7],\"type\":\"scatter\",\"xaxis\":\"x4\",\"yaxis\":\"y4\"},{\"legendgroup\":\"True\",\"line\":{\"color\":\"#000000\",\"width\":2},\"mode\":\"lines\",\"name\":\"True\",\"showlegend\":false,\"x\":[85,85],\"y\":[7,9],\"type\":\"scatter\",\"xaxis\":\"x4\",\"yaxis\":\"y4\"},{\"legendgroup\":\"True\",\"line\":{\"color\":\"#000000\",\"width\":2},\"mode\":\"lines\",\"name\":\"True\",\"showlegend\":false,\"x\":[85,85],\"y\":[9,10],\"type\":\"scatter\",\"xaxis\":\"x4\",\"yaxis\":\"y4\"},{\"legendgroup\":\"True\",\"line\":{\"color\":\"#000000\",\"width\":2},\"mode\":\"lines\",\"name\":\"True\",\"showlegend\":false,\"x\":[42,42],\"y\":[1,5],\"type\":\"scatter\",\"xaxis\":\"x4\",\"yaxis\":\"y4\"},{\"legendgroup\":\"True\",\"line\":{\"color\":\"#000000\",\"width\":2},\"mode\":\"lines\",\"name\":\"True\",\"showlegend\":false,\"x\":[42,42],\"y\":[5,6],\"type\":\"scatter\",\"xaxis\":\"x4\",\"yaxis\":\"y4\"},{\"legendgroup\":\"True\",\"line\":{\"color\":\"#000000\",\"width\":2},\"mode\":\"lines\",\"name\":\"True\",\"showlegend\":false,\"x\":[42,42],\"y\":[6,7],\"type\":\"scatter\",\"xaxis\":\"x4\",\"yaxis\":\"y4\"},{\"legendgroup\":\"True\",\"line\":{\"color\":\"#000000\",\"width\":2},\"mode\":\"lines\",\"name\":\"True\",\"showlegend\":false,\"x\":[84,84],\"y\":[1,5],\"type\":\"scatter\",\"xaxis\":\"x4\",\"yaxis\":\"y4\"},{\"legendgroup\":\"True\",\"line\":{\"color\":\"#000000\",\"width\":2},\"mode\":\"lines\",\"name\":\"True\",\"showlegend\":false,\"x\":[84,84],\"y\":[5,6],\"type\":\"scatter\",\"xaxis\":\"x4\",\"yaxis\":\"y4\"},{\"legendgroup\":\"True\",\"line\":{\"color\":\"#000000\",\"width\":2},\"mode\":\"lines\",\"name\":\"True\",\"showlegend\":false,\"x\":[84,84],\"y\":[6,7],\"type\":\"scatter\",\"xaxis\":\"x4\",\"yaxis\":\"y4\"},{\"legendgroup\":\"True\",\"line\":{\"color\":\"#000000\",\"width\":2},\"mode\":\"lines\",\"name\":\"True\",\"showlegend\":false,\"x\":[84,84],\"y\":[7,10],\"type\":\"scatter\",\"xaxis\":\"x4\",\"yaxis\":\"y4\"},{\"legendgroup\":\"True\",\"line\":{\"color\":\"#000000\",\"width\":2},\"mode\":\"lines\",\"name\":\"True\",\"showlegend\":false,\"x\":[41,41],\"y\":[1,4],\"type\":\"scatter\",\"xaxis\":\"x4\",\"yaxis\":\"y4\"},{\"legendgroup\":\"True\",\"line\":{\"color\":\"#000000\",\"width\":2},\"mode\":\"lines\",\"name\":\"True\",\"showlegend\":false,\"x\":[59,59],\"y\":[1,4],\"type\":\"scatter\",\"xaxis\":\"x4\",\"yaxis\":\"y4\"},{\"legendgroup\":\"True\",\"line\":{\"color\":\"#000000\",\"width\":2},\"mode\":\"lines\",\"name\":\"True\",\"showlegend\":false,\"x\":[59,59],\"y\":[4,6],\"type\":\"scatter\",\"xaxis\":\"x4\",\"yaxis\":\"y4\"},{\"legendgroup\":\"True\",\"line\":{\"color\":\"#000000\",\"width\":2},\"mode\":\"lines\",\"name\":\"True\",\"showlegend\":false,\"x\":[83,83],\"y\":[1,4],\"type\":\"scatter\",\"xaxis\":\"x4\",\"yaxis\":\"y4\"},{\"legendgroup\":\"True\",\"line\":{\"color\":\"#000000\",\"width\":2},\"mode\":\"lines\",\"name\":\"True\",\"showlegend\":false,\"x\":[83,83],\"y\":[4,6],\"type\":\"scatter\",\"xaxis\":\"x4\",\"yaxis\":\"y4\"},{\"legendgroup\":\"True\",\"line\":{\"color\":\"#000000\",\"width\":2},\"mode\":\"lines\",\"name\":\"True\",\"showlegend\":false,\"x\":[83,83],\"y\":[6,7],\"type\":\"scatter\",\"xaxis\":\"x4\",\"yaxis\":\"y4\"},{\"legendgroup\":\"True\",\"line\":{\"color\":\"#000000\",\"width\":2},\"mode\":\"lines\",\"name\":\"True\",\"showlegend\":false,\"x\":[82,82],\"y\":[1,4],\"type\":\"scatter\",\"xaxis\":\"x4\",\"yaxis\":\"y4\"},{\"legendgroup\":\"True\",\"line\":{\"color\":\"#000000\",\"width\":2},\"mode\":\"lines\",\"name\":\"True\",\"showlegend\":false,\"x\":[82,82],\"y\":[4,5],\"type\":\"scatter\",\"xaxis\":\"x4\",\"yaxis\":\"y4\"},{\"legendgroup\":\"True\",\"line\":{\"color\":\"#000000\",\"width\":2},\"mode\":\"lines\",\"name\":\"True\",\"showlegend\":false,\"x\":[82,82],\"y\":[5,6],\"type\":\"scatter\",\"xaxis\":\"x4\",\"yaxis\":\"y4\"},{\"legendgroup\":\"True\",\"line\":{\"color\":\"#000000\",\"width\":2},\"mode\":\"lines\",\"name\":\"True\",\"showlegend\":false,\"x\":[47,47],\"y\":[1,3],\"type\":\"scatter\",\"xaxis\":\"x4\",\"yaxis\":\"y4\"},{\"legendgroup\":\"True\",\"line\":{\"color\":\"#000000\",\"width\":2},\"mode\":\"lines\",\"name\":\"True\",\"showlegend\":false,\"x\":[1,1],\"y\":[1,2],\"type\":\"scatter\",\"xaxis\":\"x4\",\"yaxis\":\"y4\"},{\"legendgroup\":\"True\",\"line\":{\"color\":\"#000000\",\"width\":2},\"mode\":\"lines\",\"name\":\"True\",\"showlegend\":false,\"x\":[81,81],\"y\":[1,2],\"type\":\"scatter\",\"xaxis\":\"x4\",\"yaxis\":\"y4\"},{\"legendgroup\":\"True\",\"line\":{\"color\":\"#000000\",\"width\":2},\"mode\":\"lines\",\"name\":\"True\",\"showlegend\":false,\"x\":[81,81],\"y\":[2,7],\"type\":\"scatter\",\"xaxis\":\"x4\",\"yaxis\":\"y4\"},{\"legendgroup\":\"True\",\"line\":{\"color\":\"#000000\",\"width\":2},\"mode\":\"lines\",\"name\":\"True\",\"showlegend\":false,\"x\":[80,80],\"y\":[1,2],\"type\":\"scatter\",\"xaxis\":\"x4\",\"yaxis\":\"y4\"},{\"legendgroup\":\"True\",\"line\":{\"color\":\"#000000\",\"width\":2},\"mode\":\"lines\",\"name\":\"True\",\"showlegend\":false,\"x\":[80,80],\"y\":[2,7],\"type\":\"scatter\",\"xaxis\":\"x4\",\"yaxis\":\"y4\"},{\"legendgroup\":\"True\",\"line\":{\"color\":\"#000000\",\"width\":2},\"mode\":\"lines\",\"name\":\"True\",\"showlegend\":false,\"x\":[80,80],\"y\":[7,8],\"type\":\"scatter\",\"xaxis\":\"x4\",\"yaxis\":\"y4\"},{\"legendgroup\":\"True\",\"line\":{\"color\":\"#000000\",\"width\":2},\"mode\":\"lines\",\"name\":\"True\",\"showlegend\":false,\"x\":[28,28],\"y\":[1,2],\"type\":\"scatter\",\"xaxis\":\"x4\",\"yaxis\":\"y4\"},{\"legendgroup\":\"True\",\"line\":{\"color\":\"#000000\",\"width\":2},\"mode\":\"lines\",\"name\":\"True\",\"showlegend\":false,\"x\":[28,28],\"y\":[2,6],\"type\":\"scatter\",\"xaxis\":\"x4\",\"yaxis\":\"y4\"},{\"legendgroup\":\"True\",\"line\":{\"color\":\"#000000\",\"width\":2},\"mode\":\"lines\",\"name\":\"True\",\"showlegend\":false,\"x\":[79,79],\"y\":[1,2],\"type\":\"scatter\",\"xaxis\":\"x4\",\"yaxis\":\"y4\"},{\"legendgroup\":\"True\",\"line\":{\"color\":\"#000000\",\"width\":2},\"mode\":\"lines\",\"name\":\"True\",\"showlegend\":false,\"x\":[79,79],\"y\":[2,6],\"type\":\"scatter\",\"xaxis\":\"x4\",\"yaxis\":\"y4\"},{\"legendgroup\":\"True\",\"line\":{\"color\":\"#000000\",\"width\":2},\"mode\":\"lines\",\"name\":\"True\",\"showlegend\":false,\"x\":[79,79],\"y\":[6,9],\"type\":\"scatter\",\"xaxis\":\"x4\",\"yaxis\":\"y4\"},{\"legendgroup\":\"True\",\"line\":{\"color\":\"#000000\",\"width\":2},\"mode\":\"lines\",\"name\":\"True\",\"showlegend\":false,\"x\":[20,20],\"y\":[1,2],\"type\":\"scatter\",\"xaxis\":\"x4\",\"yaxis\":\"y4\"},{\"legendgroup\":\"True\",\"line\":{\"color\":\"#000000\",\"width\":2},\"mode\":\"lines\",\"name\":\"True\",\"showlegend\":false,\"x\":[20,20],\"y\":[2,6],\"type\":\"scatter\",\"xaxis\":\"x4\",\"yaxis\":\"y4\"},{\"legendgroup\":\"True\",\"line\":{\"color\":\"#000000\",\"width\":2},\"mode\":\"lines\",\"name\":\"True\",\"showlegend\":false,\"x\":[20,20],\"y\":[6,7],\"type\":\"scatter\",\"xaxis\":\"x4\",\"yaxis\":\"y4\"},{\"legendgroup\":\"True\",\"line\":{\"color\":\"#000000\",\"width\":2},\"mode\":\"lines\",\"name\":\"True\",\"showlegend\":false,\"x\":[78,78],\"y\":[1,2],\"type\":\"scatter\",\"xaxis\":\"x4\",\"yaxis\":\"y4\"},{\"legendgroup\":\"True\",\"line\":{\"color\":\"#000000\",\"width\":2},\"mode\":\"lines\",\"name\":\"True\",\"showlegend\":false,\"x\":[78,78],\"y\":[2,6],\"type\":\"scatter\",\"xaxis\":\"x4\",\"yaxis\":\"y4\"},{\"legendgroup\":\"True\",\"line\":{\"color\":\"#000000\",\"width\":2},\"mode\":\"lines\",\"name\":\"True\",\"showlegend\":false,\"x\":[78,78],\"y\":[6,7],\"type\":\"scatter\",\"xaxis\":\"x4\",\"yaxis\":\"y4\"},{\"legendgroup\":\"True\",\"line\":{\"color\":\"#000000\",\"width\":2},\"mode\":\"lines\",\"name\":\"True\",\"showlegend\":false,\"x\":[78,78],\"y\":[7,10],\"type\":\"scatter\",\"xaxis\":\"x4\",\"yaxis\":\"y4\"},{\"legendgroup\":\"True\",\"line\":{\"color\":\"#000000\",\"width\":2},\"mode\":\"lines\",\"name\":\"True\",\"showlegend\":false,\"x\":[46,46],\"y\":[1,2],\"type\":\"scatter\",\"xaxis\":\"x4\",\"yaxis\":\"y4\"},{\"legendgroup\":\"True\",\"line\":{\"color\":\"#000000\",\"width\":2},\"mode\":\"lines\",\"name\":\"True\",\"showlegend\":false,\"x\":[46,46],\"y\":[2,6],\"type\":\"scatter\",\"xaxis\":\"x4\",\"yaxis\":\"y4\"},{\"legendgroup\":\"True\",\"line\":{\"color\":\"#000000\",\"width\":2},\"mode\":\"lines\",\"name\":\"True\",\"showlegend\":false,\"x\":[46,46],\"y\":[6,7],\"type\":\"scatter\",\"xaxis\":\"x4\",\"yaxis\":\"y4\"},{\"legendgroup\":\"True\",\"line\":{\"color\":\"#000000\",\"width\":2},\"mode\":\"lines\",\"name\":\"True\",\"showlegend\":false,\"x\":[46,46],\"y\":[7,9],\"type\":\"scatter\",\"xaxis\":\"x4\",\"yaxis\":\"y4\"},{\"legendgroup\":\"True\",\"line\":{\"color\":\"#000000\",\"width\":2},\"mode\":\"lines\",\"name\":\"True\",\"showlegend\":false,\"x\":[77,77],\"y\":[1,2],\"type\":\"scatter\",\"xaxis\":\"x4\",\"yaxis\":\"y4\"},{\"legendgroup\":\"True\",\"line\":{\"color\":\"#000000\",\"width\":2},\"mode\":\"lines\",\"name\":\"True\",\"showlegend\":false,\"x\":[77,77],\"y\":[2,6],\"type\":\"scatter\",\"xaxis\":\"x4\",\"yaxis\":\"y4\"},{\"legendgroup\":\"True\",\"line\":{\"color\":\"#000000\",\"width\":2},\"mode\":\"lines\",\"name\":\"True\",\"showlegend\":false,\"x\":[77,77],\"y\":[6,7],\"type\":\"scatter\",\"xaxis\":\"x4\",\"yaxis\":\"y4\"},{\"legendgroup\":\"True\",\"line\":{\"color\":\"#000000\",\"width\":2},\"mode\":\"lines\",\"name\":\"True\",\"showlegend\":false,\"x\":[77,77],\"y\":[7,8],\"type\":\"scatter\",\"xaxis\":\"x4\",\"yaxis\":\"y4\"},{\"legendgroup\":\"True\",\"line\":{\"color\":\"#000000\",\"width\":2},\"mode\":\"lines\",\"name\":\"True\",\"showlegend\":false,\"x\":[76,76],\"y\":[1,2],\"type\":\"scatter\",\"xaxis\":\"x4\",\"yaxis\":\"y4\"},{\"legendgroup\":\"True\",\"line\":{\"color\":\"#000000\",\"width\":2},\"mode\":\"lines\",\"name\":\"True\",\"showlegend\":false,\"x\":[76,76],\"y\":[2,6],\"type\":\"scatter\",\"xaxis\":\"x4\",\"yaxis\":\"y4\"},{\"legendgroup\":\"True\",\"line\":{\"color\":\"#000000\",\"width\":2},\"mode\":\"lines\",\"name\":\"True\",\"showlegend\":false,\"x\":[76,76],\"y\":[6,7],\"type\":\"scatter\",\"xaxis\":\"x4\",\"yaxis\":\"y4\"},{\"legendgroup\":\"True\",\"line\":{\"color\":\"#000000\",\"width\":2},\"mode\":\"lines\",\"name\":\"True\",\"showlegend\":false,\"x\":[76,76],\"y\":[7,8],\"type\":\"scatter\",\"xaxis\":\"x4\",\"yaxis\":\"y4\"},{\"legendgroup\":\"True\",\"line\":{\"color\":\"#000000\",\"width\":2},\"mode\":\"lines\",\"name\":\"True\",\"showlegend\":false,\"x\":[76,76],\"y\":[8,10],\"type\":\"scatter\",\"xaxis\":\"x4\",\"yaxis\":\"y4\"},{\"legendgroup\":\"True\",\"line\":{\"color\":\"#000000\",\"width\":2},\"mode\":\"lines\",\"name\":\"True\",\"showlegend\":false,\"x\":[75,75],\"y\":[1,2],\"type\":\"scatter\",\"xaxis\":\"x4\",\"yaxis\":\"y4\"},{\"legendgroup\":\"True\",\"line\":{\"color\":\"#000000\",\"width\":2},\"mode\":\"lines\",\"name\":\"True\",\"showlegend\":false,\"x\":[75,75],\"y\":[2,4],\"type\":\"scatter\",\"xaxis\":\"x4\",\"yaxis\":\"y4\"},{\"legendgroup\":\"True\",\"line\":{\"color\":\"#000000\",\"width\":2},\"mode\":\"lines\",\"name\":\"True\",\"showlegend\":false,\"x\":[75,75],\"y\":[4,7],\"type\":\"scatter\",\"xaxis\":\"x4\",\"yaxis\":\"y4\"},{\"legendgroup\":\"True\",\"line\":{\"color\":\"#000000\",\"width\":2},\"mode\":\"lines\",\"name\":\"True\",\"showlegend\":false,\"x\":[74,74],\"y\":[1,2],\"type\":\"scatter\",\"xaxis\":\"x4\",\"yaxis\":\"y4\"},{\"legendgroup\":\"True\",\"line\":{\"color\":\"#000000\",\"width\":2},\"mode\":\"lines\",\"name\":\"True\",\"showlegend\":false,\"x\":[74,74],\"y\":[2,4],\"type\":\"scatter\",\"xaxis\":\"x4\",\"yaxis\":\"y4\"},{\"legendgroup\":\"True\",\"line\":{\"color\":\"#000000\",\"width\":2},\"mode\":\"lines\",\"name\":\"True\",\"showlegend\":false,\"x\":[74,74],\"y\":[4,6],\"type\":\"scatter\",\"xaxis\":\"x4\",\"yaxis\":\"y4\"},{\"legendgroup\":\"True\",\"line\":{\"color\":\"#000000\",\"width\":2},\"mode\":\"lines\",\"name\":\"True\",\"showlegend\":false,\"x\":[74,74],\"y\":[6,7],\"type\":\"scatter\",\"xaxis\":\"x4\",\"yaxis\":\"y4\"},{\"legendgroup\":\"True\",\"line\":{\"color\":\"#000000\",\"width\":2},\"mode\":\"lines\",\"name\":\"True\",\"showlegend\":false,\"x\":[73,73],\"y\":[1,2],\"type\":\"scatter\",\"xaxis\":\"x4\",\"yaxis\":\"y4\"},{\"legendgroup\":\"True\",\"line\":{\"color\":\"#000000\",\"width\":2},\"mode\":\"lines\",\"name\":\"True\",\"showlegend\":false,\"x\":[73,73],\"y\":[2,4],\"type\":\"scatter\",\"xaxis\":\"x4\",\"yaxis\":\"y4\"},{\"legendgroup\":\"True\",\"line\":{\"color\":\"#000000\",\"width\":2},\"mode\":\"lines\",\"name\":\"True\",\"showlegend\":false,\"x\":[73,73],\"y\":[4,6],\"type\":\"scatter\",\"xaxis\":\"x4\",\"yaxis\":\"y4\"},{\"legendgroup\":\"True\",\"line\":{\"color\":\"#000000\",\"width\":2},\"mode\":\"lines\",\"name\":\"True\",\"showlegend\":false,\"x\":[73,73],\"y\":[6,7],\"type\":\"scatter\",\"xaxis\":\"x4\",\"yaxis\":\"y4\"},{\"legendgroup\":\"True\",\"line\":{\"color\":\"#000000\",\"width\":2},\"mode\":\"lines\",\"name\":\"True\",\"showlegend\":false,\"x\":[73,73],\"y\":[7,8],\"type\":\"scatter\",\"xaxis\":\"x4\",\"yaxis\":\"y4\"},{\"legendgroup\":\"True\",\"line\":{\"color\":\"#000000\",\"width\":2},\"mode\":\"lines\",\"name\":\"True\",\"showlegend\":false,\"x\":[72,72],\"y\":[0,10],\"type\":\"scatter\",\"xaxis\":\"x4\",\"yaxis\":\"y4\"},{\"legendgroup\":\"True\",\"line\":{\"color\":\"#000000\",\"width\":2},\"mode\":\"lines\",\"name\":\"True\",\"showlegend\":false,\"x\":[45,45],\"y\":[0,6],\"type\":\"scatter\",\"xaxis\":\"x4\",\"yaxis\":\"y4\"},{\"legendgroup\":\"True\",\"line\":{\"color\":\"#000000\",\"width\":2},\"mode\":\"lines\",\"name\":\"True\",\"showlegend\":false,\"x\":[58,58],\"y\":[0,6],\"type\":\"scatter\",\"xaxis\":\"x4\",\"yaxis\":\"y4\"},{\"legendgroup\":\"True\",\"line\":{\"color\":\"#000000\",\"width\":2},\"mode\":\"lines\",\"name\":\"True\",\"showlegend\":false,\"x\":[58,58],\"y\":[6,7],\"type\":\"scatter\",\"xaxis\":\"x4\",\"yaxis\":\"y4\"},{\"legendgroup\":\"True\",\"line\":{\"color\":\"#000000\",\"width\":2},\"mode\":\"lines\",\"name\":\"True\",\"showlegend\":false,\"x\":[57,57],\"y\":[0,4],\"type\":\"scatter\",\"xaxis\":\"x4\",\"yaxis\":\"y4\"},{\"legendgroup\":\"True\",\"line\":{\"color\":\"#000000\",\"width\":2},\"mode\":\"lines\",\"name\":\"True\",\"showlegend\":false,\"x\":[57,57],\"y\":[4,6],\"type\":\"scatter\",\"xaxis\":\"x4\",\"yaxis\":\"y4\"},{\"legendgroup\":\"True\",\"line\":{\"color\":\"#000000\",\"width\":2},\"mode\":\"lines\",\"name\":\"True\",\"showlegend\":false,\"x\":[71,71],\"y\":[0,2],\"type\":\"scatter\",\"xaxis\":\"x4\",\"yaxis\":\"y4\"},{\"legendgroup\":\"True\",\"line\":{\"color\":\"#000000\",\"width\":2},\"mode\":\"lines\",\"name\":\"True\",\"showlegend\":false,\"x\":[71,71],\"y\":[2,6],\"type\":\"scatter\",\"xaxis\":\"x4\",\"yaxis\":\"y4\"},{\"legendgroup\":\"True\",\"line\":{\"color\":\"#000000\",\"width\":2},\"mode\":\"lines\",\"name\":\"True\",\"showlegend\":false,\"x\":[70,70],\"y\":[0,2],\"type\":\"scatter\",\"xaxis\":\"x4\",\"yaxis\":\"y4\"},{\"legendgroup\":\"True\",\"line\":{\"color\":\"#000000\",\"width\":2},\"mode\":\"lines\",\"name\":\"True\",\"showlegend\":false,\"x\":[70,70],\"y\":[2,6],\"type\":\"scatter\",\"xaxis\":\"x4\",\"yaxis\":\"y4\"},{\"legendgroup\":\"True\",\"line\":{\"color\":\"#000000\",\"width\":2},\"mode\":\"lines\",\"name\":\"True\",\"showlegend\":false,\"x\":[70,70],\"y\":[6,7],\"type\":\"scatter\",\"xaxis\":\"x4\",\"yaxis\":\"y4\"},{\"legendgroup\":\"True\",\"line\":{\"color\":\"#000000\",\"width\":2},\"mode\":\"lines\",\"name\":\"True\",\"showlegend\":false,\"x\":[69,69],\"y\":[0,2],\"type\":\"scatter\",\"xaxis\":\"x4\",\"yaxis\":\"y4\"},{\"legendgroup\":\"True\",\"line\":{\"color\":\"#000000\",\"width\":2},\"mode\":\"lines\",\"name\":\"True\",\"showlegend\":false,\"x\":[69,69],\"y\":[2,3],\"type\":\"scatter\",\"xaxis\":\"x4\",\"yaxis\":\"y4\"},{\"legendgroup\":\"True\",\"line\":{\"color\":\"#000000\",\"width\":2},\"mode\":\"lines\",\"name\":\"True\",\"showlegend\":false,\"x\":[69,69],\"y\":[3,6],\"type\":\"scatter\",\"xaxis\":\"x4\",\"yaxis\":\"y4\"},{\"legendgroup\":\"True\",\"line\":{\"color\":\"#000000\",\"width\":2},\"mode\":\"lines\",\"name\":\"True\",\"showlegend\":false,\"x\":[69,69],\"y\":[6,7],\"type\":\"scatter\",\"xaxis\":\"x4\",\"yaxis\":\"y4\"},{\"legendgroup\":\"True\",\"line\":{\"color\":\"#000000\",\"width\":2},\"mode\":\"lines\",\"name\":\"True\",\"showlegend\":false,\"x\":[68,68],\"y\":[0,1],\"type\":\"scatter\",\"xaxis\":\"x4\",\"yaxis\":\"y4\"},{\"legendgroup\":\"True\",\"line\":{\"color\":\"#000000\",\"width\":2},\"mode\":\"lines\",\"name\":\"True\",\"showlegend\":false,\"x\":[67,67],\"y\":[0,1],\"type\":\"scatter\",\"xaxis\":\"x4\",\"yaxis\":\"y4\"},{\"legendgroup\":\"True\",\"line\":{\"color\":\"#000000\",\"width\":2},\"mode\":\"lines\",\"name\":\"True\",\"showlegend\":false,\"x\":[67,67],\"y\":[1,9],\"type\":\"scatter\",\"xaxis\":\"x4\",\"yaxis\":\"y4\"},{\"legendgroup\":\"True\",\"line\":{\"color\":\"#000000\",\"width\":2},\"mode\":\"lines\",\"name\":\"True\",\"showlegend\":false,\"x\":[56,56],\"y\":[0,1],\"type\":\"scatter\",\"xaxis\":\"x4\",\"yaxis\":\"y4\"},{\"legendgroup\":\"True\",\"line\":{\"color\":\"#000000\",\"width\":2},\"mode\":\"lines\",\"name\":\"True\",\"showlegend\":false,\"x\":[56,56],\"y\":[1,4],\"type\":\"scatter\",\"xaxis\":\"x4\",\"yaxis\":\"y4\"},{\"legendgroup\":\"True\",\"line\":{\"color\":\"#000000\",\"width\":2},\"mode\":\"lines\",\"name\":\"True\",\"showlegend\":false,\"x\":[56,56],\"y\":[4,6],\"type\":\"scatter\",\"xaxis\":\"x4\",\"yaxis\":\"y4\"},{\"legendgroup\":\"True\",\"line\":{\"color\":\"#000000\",\"width\":2},\"mode\":\"lines\",\"name\":\"True\",\"showlegend\":false,\"x\":[55,55],\"y\":[0,1],\"type\":\"scatter\",\"xaxis\":\"x4\",\"yaxis\":\"y4\"},{\"legendgroup\":\"True\",\"line\":{\"color\":\"#000000\",\"width\":2},\"mode\":\"lines\",\"name\":\"True\",\"showlegend\":false,\"x\":[55,55],\"y\":[1,2],\"type\":\"scatter\",\"xaxis\":\"x4\",\"yaxis\":\"y4\"},{\"legendgroup\":\"True\",\"line\":{\"color\":\"#000000\",\"width\":2},\"mode\":\"lines\",\"name\":\"True\",\"showlegend\":false,\"x\":[55,55],\"y\":[2,6],\"type\":\"scatter\",\"xaxis\":\"x4\",\"yaxis\":\"y4\"},{\"legendgroup\":\"True\",\"line\":{\"color\":\"#000000\",\"width\":2},\"mode\":\"lines\",\"name\":\"True\",\"showlegend\":false,\"x\":[55,55],\"y\":[6,7],\"type\":\"scatter\",\"xaxis\":\"x4\",\"yaxis\":\"y4\"}],                        {\"template\":{\"data\":{\"histogram2dcontour\":[{\"type\":\"histogram2dcontour\",\"colorbar\":{\"outlinewidth\":0,\"ticks\":\"\"},\"colorscale\":[[0.0,\"#0d0887\"],[0.1111111111111111,\"#46039f\"],[0.2222222222222222,\"#7201a8\"],[0.3333333333333333,\"#9c179e\"],[0.4444444444444444,\"#bd3786\"],[0.5555555555555556,\"#d8576b\"],[0.6666666666666666,\"#ed7953\"],[0.7777777777777778,\"#fb9f3a\"],[0.8888888888888888,\"#fdca26\"],[1.0,\"#f0f921\"]]}],\"choropleth\":[{\"type\":\"choropleth\",\"colorbar\":{\"outlinewidth\":0,\"ticks\":\"\"}}],\"histogram2d\":[{\"type\":\"histogram2d\",\"colorbar\":{\"outlinewidth\":0,\"ticks\":\"\"},\"colorscale\":[[0.0,\"#0d0887\"],[0.1111111111111111,\"#46039f\"],[0.2222222222222222,\"#7201a8\"],[0.3333333333333333,\"#9c179e\"],[0.4444444444444444,\"#bd3786\"],[0.5555555555555556,\"#d8576b\"],[0.6666666666666666,\"#ed7953\"],[0.7777777777777778,\"#fb9f3a\"],[0.8888888888888888,\"#fdca26\"],[1.0,\"#f0f921\"]]}],\"heatmap\":[{\"type\":\"heatmap\",\"colorbar\":{\"outlinewidth\":0,\"ticks\":\"\"},\"colorscale\":[[0.0,\"#0d0887\"],[0.1111111111111111,\"#46039f\"],[0.2222222222222222,\"#7201a8\"],[0.3333333333333333,\"#9c179e\"],[0.4444444444444444,\"#bd3786\"],[0.5555555555555556,\"#d8576b\"],[0.6666666666666666,\"#ed7953\"],[0.7777777777777778,\"#fb9f3a\"],[0.8888888888888888,\"#fdca26\"],[1.0,\"#f0f921\"]]}],\"heatmapgl\":[{\"type\":\"heatmapgl\",\"colorbar\":{\"outlinewidth\":0,\"ticks\":\"\"},\"colorscale\":[[0.0,\"#0d0887\"],[0.1111111111111111,\"#46039f\"],[0.2222222222222222,\"#7201a8\"],[0.3333333333333333,\"#9c179e\"],[0.4444444444444444,\"#bd3786\"],[0.5555555555555556,\"#d8576b\"],[0.6666666666666666,\"#ed7953\"],[0.7777777777777778,\"#fb9f3a\"],[0.8888888888888888,\"#fdca26\"],[1.0,\"#f0f921\"]]}],\"contourcarpet\":[{\"type\":\"contourcarpet\",\"colorbar\":{\"outlinewidth\":0,\"ticks\":\"\"}}],\"contour\":[{\"type\":\"contour\",\"colorbar\":{\"outlinewidth\":0,\"ticks\":\"\"},\"colorscale\":[[0.0,\"#0d0887\"],[0.1111111111111111,\"#46039f\"],[0.2222222222222222,\"#7201a8\"],[0.3333333333333333,\"#9c179e\"],[0.4444444444444444,\"#bd3786\"],[0.5555555555555556,\"#d8576b\"],[0.6666666666666666,\"#ed7953\"],[0.7777777777777778,\"#fb9f3a\"],[0.8888888888888888,\"#fdca26\"],[1.0,\"#f0f921\"]]}],\"surface\":[{\"type\":\"surface\",\"colorbar\":{\"outlinewidth\":0,\"ticks\":\"\"},\"colorscale\":[[0.0,\"#0d0887\"],[0.1111111111111111,\"#46039f\"],[0.2222222222222222,\"#7201a8\"],[0.3333333333333333,\"#9c179e\"],[0.4444444444444444,\"#bd3786\"],[0.5555555555555556,\"#d8576b\"],[0.6666666666666666,\"#ed7953\"],[0.7777777777777778,\"#fb9f3a\"],[0.8888888888888888,\"#fdca26\"],[1.0,\"#f0f921\"]]}],\"mesh3d\":[{\"type\":\"mesh3d\",\"colorbar\":{\"outlinewidth\":0,\"ticks\":\"\"}}],\"scatter\":[{\"fillpattern\":{\"fillmode\":\"overlay\",\"size\":10,\"solidity\":0.2},\"type\":\"scatter\"}],\"parcoords\":[{\"type\":\"parcoords\",\"line\":{\"colorbar\":{\"outlinewidth\":0,\"ticks\":\"\"}}}],\"scatterpolargl\":[{\"type\":\"scatterpolargl\",\"marker\":{\"colorbar\":{\"outlinewidth\":0,\"ticks\":\"\"}}}],\"bar\":[{\"error_x\":{\"color\":\"#2a3f5f\"},\"error_y\":{\"color\":\"#2a3f5f\"},\"marker\":{\"line\":{\"color\":\"#E5ECF6\",\"width\":0.5},\"pattern\":{\"fillmode\":\"overlay\",\"size\":10,\"solidity\":0.2}},\"type\":\"bar\"}],\"scattergeo\":[{\"type\":\"scattergeo\",\"marker\":{\"colorbar\":{\"outlinewidth\":0,\"ticks\":\"\"}}}],\"scatterpolar\":[{\"type\":\"scatterpolar\",\"marker\":{\"colorbar\":{\"outlinewidth\":0,\"ticks\":\"\"}}}],\"histogram\":[{\"marker\":{\"pattern\":{\"fillmode\":\"overlay\",\"size\":10,\"solidity\":0.2}},\"type\":\"histogram\"}],\"scattergl\":[{\"type\":\"scattergl\",\"marker\":{\"colorbar\":{\"outlinewidth\":0,\"ticks\":\"\"}}}],\"scatter3d\":[{\"type\":\"scatter3d\",\"line\":{\"colorbar\":{\"outlinewidth\":0,\"ticks\":\"\"}},\"marker\":{\"colorbar\":{\"outlinewidth\":0,\"ticks\":\"\"}}}],\"scattermapbox\":[{\"type\":\"scattermapbox\",\"marker\":{\"colorbar\":{\"outlinewidth\":0,\"ticks\":\"\"}}}],\"scatterternary\":[{\"type\":\"scatterternary\",\"marker\":{\"colorbar\":{\"outlinewidth\":0,\"ticks\":\"\"}}}],\"scattercarpet\":[{\"type\":\"scattercarpet\",\"marker\":{\"colorbar\":{\"outlinewidth\":0,\"ticks\":\"\"}}}],\"carpet\":[{\"aaxis\":{\"endlinecolor\":\"#2a3f5f\",\"gridcolor\":\"white\",\"linecolor\":\"white\",\"minorgridcolor\":\"white\",\"startlinecolor\":\"#2a3f5f\"},\"baxis\":{\"endlinecolor\":\"#2a3f5f\",\"gridcolor\":\"white\",\"linecolor\":\"white\",\"minorgridcolor\":\"white\",\"startlinecolor\":\"#2a3f5f\"},\"type\":\"carpet\"}],\"table\":[{\"cells\":{\"fill\":{\"color\":\"#EBF0F8\"},\"line\":{\"color\":\"white\"}},\"header\":{\"fill\":{\"color\":\"#C8D4E3\"},\"line\":{\"color\":\"white\"}},\"type\":\"table\"}],\"barpolar\":[{\"marker\":{\"line\":{\"color\":\"#E5ECF6\",\"width\":0.5},\"pattern\":{\"fillmode\":\"overlay\",\"size\":10,\"solidity\":0.2}},\"type\":\"barpolar\"}],\"pie\":[{\"automargin\":true,\"type\":\"pie\"}]},\"layout\":{\"autotypenumbers\":\"strict\",\"colorway\":[\"#636efa\",\"#EF553B\",\"#00cc96\",\"#ab63fa\",\"#FFA15A\",\"#19d3f3\",\"#FF6692\",\"#B6E880\",\"#FF97FF\",\"#FECB52\"],\"font\":{\"color\":\"#2a3f5f\"},\"hovermode\":\"closest\",\"hoverlabel\":{\"align\":\"left\"},\"paper_bgcolor\":\"white\",\"plot_bgcolor\":\"#E5ECF6\",\"polar\":{\"bgcolor\":\"#E5ECF6\",\"angularaxis\":{\"gridcolor\":\"white\",\"linecolor\":\"white\",\"ticks\":\"\"},\"radialaxis\":{\"gridcolor\":\"white\",\"linecolor\":\"white\",\"ticks\":\"\"}},\"ternary\":{\"bgcolor\":\"#E5ECF6\",\"aaxis\":{\"gridcolor\":\"white\",\"linecolor\":\"white\",\"ticks\":\"\"},\"baxis\":{\"gridcolor\":\"white\",\"linecolor\":\"white\",\"ticks\":\"\"},\"caxis\":{\"gridcolor\":\"white\",\"linecolor\":\"white\",\"ticks\":\"\"}},\"coloraxis\":{\"colorbar\":{\"outlinewidth\":0,\"ticks\":\"\"}},\"colorscale\":{\"sequential\":[[0.0,\"#0d0887\"],[0.1111111111111111,\"#46039f\"],[0.2222222222222222,\"#7201a8\"],[0.3333333333333333,\"#9c179e\"],[0.4444444444444444,\"#bd3786\"],[0.5555555555555556,\"#d8576b\"],[0.6666666666666666,\"#ed7953\"],[0.7777777777777778,\"#fb9f3a\"],[0.8888888888888888,\"#fdca26\"],[1.0,\"#f0f921\"]],\"sequentialminus\":[[0.0,\"#0d0887\"],[0.1111111111111111,\"#46039f\"],[0.2222222222222222,\"#7201a8\"],[0.3333333333333333,\"#9c179e\"],[0.4444444444444444,\"#bd3786\"],[0.5555555555555556,\"#d8576b\"],[0.6666666666666666,\"#ed7953\"],[0.7777777777777778,\"#fb9f3a\"],[0.8888888888888888,\"#fdca26\"],[1.0,\"#f0f921\"]],\"diverging\":[[0,\"#8e0152\"],[0.1,\"#c51b7d\"],[0.2,\"#de77ae\"],[0.3,\"#f1b6da\"],[0.4,\"#fde0ef\"],[0.5,\"#f7f7f7\"],[0.6,\"#e6f5d0\"],[0.7,\"#b8e186\"],[0.8,\"#7fbc41\"],[0.9,\"#4d9221\"],[1,\"#276419\"]]},\"xaxis\":{\"gridcolor\":\"white\",\"linecolor\":\"white\",\"ticks\":\"\",\"title\":{\"standoff\":15},\"zerolinecolor\":\"white\",\"automargin\":true,\"zerolinewidth\":2},\"yaxis\":{\"gridcolor\":\"white\",\"linecolor\":\"white\",\"ticks\":\"\",\"title\":{\"standoff\":15},\"zerolinecolor\":\"white\",\"automargin\":true,\"zerolinewidth\":2},\"scene\":{\"xaxis\":{\"backgroundcolor\":\"#E5ECF6\",\"gridcolor\":\"white\",\"linecolor\":\"white\",\"showbackground\":true,\"ticks\":\"\",\"zerolinecolor\":\"white\",\"gridwidth\":2},\"yaxis\":{\"backgroundcolor\":\"#E5ECF6\",\"gridcolor\":\"white\",\"linecolor\":\"white\",\"showbackground\":true,\"ticks\":\"\",\"zerolinecolor\":\"white\",\"gridwidth\":2},\"zaxis\":{\"backgroundcolor\":\"#E5ECF6\",\"gridcolor\":\"white\",\"linecolor\":\"white\",\"showbackground\":true,\"ticks\":\"\",\"zerolinecolor\":\"white\",\"gridwidth\":2}},\"shapedefaults\":{\"line\":{\"color\":\"#2a3f5f\"}},\"annotationdefaults\":{\"arrowcolor\":\"#2a3f5f\",\"arrowhead\":0,\"arrowwidth\":1},\"geo\":{\"bgcolor\":\"white\",\"landcolor\":\"#E5ECF6\",\"subunitcolor\":\"white\",\"showland\":true,\"showlakes\":true,\"lakecolor\":\"white\"},\"title\":{\"x\":0.05},\"mapbox\":{\"style\":\"light\"}}},\"xaxis\":{\"anchor\":\"y\",\"domain\":[0.0,0.34],\"matches\":\"x3\",\"showticklabels\":false,\"zeroline\":false,\"automargin\":true},\"yaxis\":{\"anchor\":\"x\",\"domain\":[0.43,1.0],\"zeroline\":false,\"automargin\":true},\"xaxis2\":{\"anchor\":\"y2\",\"domain\":[0.49,1.0],\"matches\":\"x4\",\"showticklabels\":false,\"side\":\"bottom\",\"showline\":true,\"linecolor\":\"#000000\",\"ticks\":\"outside\",\"tickcolor\":\"#000000\",\"dtick\":1,\"range\":[-0.5,105.5],\"zeroline\":false,\"automargin\":true},\"yaxis2\":{\"anchor\":\"x2\",\"domain\":[0.43,1.0],\"title\":{\"text\":\"Intersection Size\",\"standoff\":5,\"font\":{\"color\":\"#000000\"}},\"range\":[0.0,1147.9],\"side\":\"left\",\"showgrid\":true,\"showline\":true,\"showticklabels\":true,\"linecolor\":\"#000000\",\"gridcolor\":\"#E0E0E0\",\"ticks\":\"outside\",\"tickcolor\":\"#000000\",\"zeroline\":false,\"automargin\":true},\"xaxis3\":{\"anchor\":\"y3\",\"domain\":[0.0,0.34],\"title\":{\"text\":\"Set Size\",\"standoff\":5,\"font\":{\"color\":\"#000000\"}},\"side\":\"top\",\"autorange\":\"reversed\",\"showgrid\":true,\"showline\":true,\"showticklabels\":true,\"gridcolor\":\"#E0E0E0\",\"linecolor\":\"#000000\",\"ticks\":\"outside\",\"tickcolor\":\"#000000\",\"tickangle\":-90,\"zeroline\":false,\"automargin\":true},\"yaxis3\":{\"anchor\":\"x3\",\"domain\":[0.0,0.38],\"side\":\"right\",\"showline\":true,\"showticklabels\":false,\"linecolor\":\"#000000\",\"ticks\":\"outside\",\"tickcolor\":\"#000000\",\"zeroline\":false,\"automargin\":true},\"xaxis4\":{\"anchor\":\"y4\",\"domain\":[0.49,1.0],\"title\":{\"standoff\":5},\"range\":[-0.5,105.5],\"side\":\"bottom\",\"showline\":true,\"showgrid\":false,\"showticklabels\":false,\"dtick\":1,\"zeroline\":false,\"automargin\":true},\"yaxis4\":{\"anchor\":\"x4\",\"domain\":[0.0,0.38],\"side\":\"left\",\"showline\":true,\"showgrid\":false,\"showticklabels\":true,\"linecolor\":\"#000000\",\"ticks\":\"outside\",\"tickvals\":[0,1,2,3,4,5,6,7,8,9,10],\"ticktext\":[\"Comercializaci\\u00f3n\",\"Agricultura de Conservaci\\u00f3n\",\"Conservaci\\u00f3n del suelo\",\"Otra\",\"Conservaci\\u00f3n de agua\",\"Tecnologias de poscosecha\",\"Variedades mejoradas\",\"Agricultura de conservaci\\u00f3n\",\"Arreglos de siembra\",\"Manejo integrado de plagas\",\"Fertilizaci\\u00f3n\"],\"tickcolor\":\"#000000\",\"mirror\":false,\"zeroline\":false,\"automargin\":true},\"shapes\":[{\"fillcolor\":\"#EBEBEB\",\"layer\":\"below\",\"line\":{\"width\":0},\"type\":\"rect\",\"x0\":0,\"x1\":1,\"xref\":\"x4 domain\",\"y0\":-0.5,\"y1\":0.5,\"yref\":\"y4\"},{\"fillcolor\":\"#EBEBEB\",\"layer\":\"below\",\"line\":{\"width\":0},\"type\":\"rect\",\"x0\":0,\"x1\":1,\"xref\":\"x4 domain\",\"y0\":1.5,\"y1\":2.5,\"yref\":\"y4\"},{\"fillcolor\":\"#EBEBEB\",\"layer\":\"below\",\"line\":{\"width\":0},\"type\":\"rect\",\"x0\":0,\"x1\":1,\"xref\":\"x4 domain\",\"y0\":3.5,\"y1\":4.5,\"yref\":\"y4\"},{\"fillcolor\":\"#EBEBEB\",\"layer\":\"below\",\"line\":{\"width\":0},\"type\":\"rect\",\"x0\":0,\"x1\":1,\"xref\":\"x4 domain\",\"y0\":5.5,\"y1\":6.5,\"yref\":\"y4\"},{\"fillcolor\":\"#EBEBEB\",\"layer\":\"below\",\"line\":{\"width\":0},\"type\":\"rect\",\"x0\":0,\"x1\":1,\"xref\":\"x4 domain\",\"y0\":7.5,\"y1\":8.5,\"yref\":\"y4\"},{\"fillcolor\":\"#EBEBEB\",\"layer\":\"below\",\"line\":{\"width\":0},\"type\":\"rect\",\"x0\":0,\"x1\":1,\"xref\":\"x4 domain\",\"y0\":9.5,\"y1\":10.5,\"yref\":\"y4\"}],\"uniformtext\":{\"minsize\":12,\"mode\":\"show\"},\"margin\":{\"l\":40,\"r\":40,\"t\":40,\"b\":40},\"legend\":{\"orientation\":\"v\",\"yanchor\":\"top\",\"y\":1.0,\"xanchor\":\"left\",\"x\":0},\"font\":{\"color\":\"black\"},\"barmode\":\"group\",\"bargap\":0.2,\"bargroupgap\":0.0,\"showlegend\":true,\"height\":700,\"width\":1800,\"paper_bgcolor\":\"white\",\"plot_bgcolor\":\"rgba(0, 0, 0, 0)\",\"hovermode\":\"closest\"},                        {\"responsive\": true}                    ).then(function(){\n",
       "                            \n",
       "var gd = document.getElementById('60374441-2b14-4ffe-86e5-83507796041a');\n",
       "var x = new MutationObserver(function (mutations, observer) {{\n",
       "        var display = window.getComputedStyle(gd).display;\n",
       "        if (!display || display === 'none') {{\n",
       "            console.log([gd, 'removed!']);\n",
       "            Plotly.purge(gd);\n",
       "            observer.disconnect();\n",
       "        }}\n",
       "}});\n",
       "\n",
       "// Listen for the removal of the full notebook cells\n",
       "var notebookContainer = gd.closest('#notebook-container');\n",
       "if (notebookContainer) {{\n",
       "    x.observe(notebookContainer, {childList: true});\n",
       "}}\n",
       "\n",
       "// Listen for the clearing of the current output cell\n",
       "var outputEl = gd.closest('.output');\n",
       "if (outputEl) {{\n",
       "    x.observe(outputEl, {childList: true});\n",
       "}}\n",
       "\n",
       "                        })                };                });            </script>        </div>"
      ]
     },
     "metadata": {},
     "output_type": "display_data"
    }
   ],
   "source": [
    "fig.update_layout(\n",
    "    height=700,\n",
    "    width=1800\n",
    ")\n",
    "fig.show()"
   ]
  },
  {
   "cell_type": "code",
   "execution_count": 4,
   "metadata": {},
   "outputs": [],
   "source": [
    "cols_inno = ['primary_k',\n",
    " 'Agricultura de conservación',\n",
    " 'Arreglos de siembra',\n",
    " 'Comercialización',\n",
    " 'Conservación de agua',\n",
    " 'Conservación del suelo',\n",
    " 'Fertilización',\n",
    " 'Manejo integrado de plagas',\n",
    " 'Otra',\n",
    " 'Tecnologias de poscosecha',\n",
    " 'Variedades mejoradas']"
   ]
  },
  {
   "cell_type": "code",
   "execution_count": null,
   "metadata": {},
   "outputs": [],
   "source": []
  },
  {
   "cell_type": "code",
   "execution_count": 10,
   "metadata": {},
   "outputs": [
    {
     "name": "stderr",
     "output_type": "stream",
     "text": [
      "/tmp/ipykernel_7744/2013751724.py:1: DtypeWarning:\n",
      "\n",
      "Columns (5,6) have mixed types. Specify dtype option on import or set low_memory=False.\n",
      "\n"
     ]
    }
   ],
   "source": [
    "test = pd.read_csv('../data/corte_clean_oct.csv',index_col='primary_k')"
   ]
  },
  {
   "cell_type": "code",
   "execution_count": 11,
   "metadata": {},
   "outputs": [
    {
     "data": {
      "text/plain": [
       "Index(['Unnamed: 0', 'ID.de.bitacora', 'Tipo.de.superficie',\n",
       "       'ID.del.productor', 'CURP', 'ID.parcela', 'ID.del.sitio',\n",
       "       'Nombre.de.la.Parcela', 'Estado.areas', 'Municipio.areas',\n",
       "       'Tipo.de.bitacora', 'Anio.Bitacora', 'Ciclo', 'Regimen.hidrico',\n",
       "       'Superficie.sembrada', 'Superficie.Total.de.la.parcela', 'Cultivo.1',\n",
       "       'Cultivo.2', 'Cultivo.3', 'Proyecto', 'Id_Cultivos',\n",
       "       'Agricultura de conservacion', 'Arreglos de siembra',\n",
       "       'Comercializacion', 'Conservacion de agua', 'Conservacion del suelo',\n",
       "       'Fertilizacion', 'Manejo integrado de plagas',\n",
       "       'Tecnologias de poscosecha', 'Variedades mejoradas', 'Otra', 'SumTecs',\n",
       "       'Programa', 'NOMBRE DEL USUARIO', 'type_geometry', 'index_right',\n",
       "       'CVE_ENT', 'CVE_MUN', 'NOM_MUN', 'NOM_ENT', 'CLAVE', 'Region'],\n",
       "      dtype='object')"
      ]
     },
     "execution_count": 11,
     "metadata": {},
     "output_type": "execute_result"
    }
   ],
   "source": [
    "test.columns"
   ]
  },
  {
   "cell_type": "code",
   "execution_count": null,
   "metadata": {},
   "outputs": [],
   "source": [
    " ['Conservación del suelo', 'Conservación de agua', 'Fertilización', 'Agricultura de conservación', 'Comercialización']"
   ]
  },
  {
   "cell_type": "code",
   "execution_count": 6,
   "metadata": {},
   "outputs": [
    {
     "data": {
      "text/html": [
       "<div>\n",
       "<style scoped>\n",
       "    .dataframe tbody tr th:only-of-type {\n",
       "        vertical-align: middle;\n",
       "    }\n",
       "\n",
       "    .dataframe tbody tr th {\n",
       "        vertical-align: top;\n",
       "    }\n",
       "\n",
       "    .dataframe thead th {\n",
       "        text-align: right;\n",
       "    }\n",
       "</style>\n",
       "<table border=\"1\" class=\"dataframe\">\n",
       "  <thead>\n",
       "    <tr style=\"text-align: right;\">\n",
       "      <th></th>\n",
       "      <th>Agricultura de conservación</th>\n",
       "      <th>Arreglos de siembra</th>\n",
       "      <th>Comercialización</th>\n",
       "      <th>Conservación de agua</th>\n",
       "      <th>Conservación del suelo</th>\n",
       "      <th>Fertilización</th>\n",
       "      <th>Manejo integrado de plagas</th>\n",
       "      <th>Otra</th>\n",
       "      <th>Tecnologias de poscosecha</th>\n",
       "      <th>Variedades mejoradas</th>\n",
       "    </tr>\n",
       "    <tr>\n",
       "      <th>primary_k</th>\n",
       "      <th></th>\n",
       "      <th></th>\n",
       "      <th></th>\n",
       "      <th></th>\n",
       "      <th></th>\n",
       "      <th></th>\n",
       "      <th></th>\n",
       "      <th></th>\n",
       "      <th></th>\n",
       "      <th></th>\n",
       "    </tr>\n",
       "  </thead>\n",
       "  <tbody>\n",
       "    <tr>\n",
       "      <th>AI-2023-0623-1132-xtpKn-eKORE_AI simplificada_Innovacion</th>\n",
       "      <td>1</td>\n",
       "      <td>1</td>\n",
       "      <td>0</td>\n",
       "      <td>0</td>\n",
       "      <td>0</td>\n",
       "      <td>0</td>\n",
       "      <td>0</td>\n",
       "      <td>0</td>\n",
       "      <td>0</td>\n",
       "      <td>0</td>\n",
       "    </tr>\n",
       "    <tr>\n",
       "      <th>AI-2023-0623-1136-By8nu-QIjKI_AI simplificada_Innovacion</th>\n",
       "      <td>1</td>\n",
       "      <td>0</td>\n",
       "      <td>0</td>\n",
       "      <td>1</td>\n",
       "      <td>0</td>\n",
       "      <td>0</td>\n",
       "      <td>0</td>\n",
       "      <td>0</td>\n",
       "      <td>0</td>\n",
       "      <td>0</td>\n",
       "    </tr>\n",
       "  </tbody>\n",
       "</table>\n",
       "</div>"
      ],
      "text/plain": [
       "                                                    Agricultura de conservación  \\\n",
       "primary_k                                                                         \n",
       "AI-2023-0623-1132-xtpKn-eKORE_AI simplificada_I...                            1   \n",
       "AI-2023-0623-1136-By8nu-QIjKI_AI simplificada_I...                            1   \n",
       "\n",
       "                                                    Arreglos de siembra  \\\n",
       "primary_k                                                                 \n",
       "AI-2023-0623-1132-xtpKn-eKORE_AI simplificada_I...                    1   \n",
       "AI-2023-0623-1136-By8nu-QIjKI_AI simplificada_I...                    0   \n",
       "\n",
       "                                                    Comercialización  \\\n",
       "primary_k                                                              \n",
       "AI-2023-0623-1132-xtpKn-eKORE_AI simplificada_I...                 0   \n",
       "AI-2023-0623-1136-By8nu-QIjKI_AI simplificada_I...                 0   \n",
       "\n",
       "                                                    Conservación de agua  \\\n",
       "primary_k                                                                  \n",
       "AI-2023-0623-1132-xtpKn-eKORE_AI simplificada_I...                     0   \n",
       "AI-2023-0623-1136-By8nu-QIjKI_AI simplificada_I...                     1   \n",
       "\n",
       "                                                    Conservación del suelo  \\\n",
       "primary_k                                                                    \n",
       "AI-2023-0623-1132-xtpKn-eKORE_AI simplificada_I...                       0   \n",
       "AI-2023-0623-1136-By8nu-QIjKI_AI simplificada_I...                       0   \n",
       "\n",
       "                                                    Fertilización  \\\n",
       "primary_k                                                           \n",
       "AI-2023-0623-1132-xtpKn-eKORE_AI simplificada_I...              0   \n",
       "AI-2023-0623-1136-By8nu-QIjKI_AI simplificada_I...              0   \n",
       "\n",
       "                                                    Manejo integrado de plagas  \\\n",
       "primary_k                                                                        \n",
       "AI-2023-0623-1132-xtpKn-eKORE_AI simplificada_I...                           0   \n",
       "AI-2023-0623-1136-By8nu-QIjKI_AI simplificada_I...                           0   \n",
       "\n",
       "                                                    Otra  \\\n",
       "primary_k                                                  \n",
       "AI-2023-0623-1132-xtpKn-eKORE_AI simplificada_I...     0   \n",
       "AI-2023-0623-1136-By8nu-QIjKI_AI simplificada_I...     0   \n",
       "\n",
       "                                                    Tecnologias de poscosecha  \\\n",
       "primary_k                                                                       \n",
       "AI-2023-0623-1132-xtpKn-eKORE_AI simplificada_I...                          0   \n",
       "AI-2023-0623-1136-By8nu-QIjKI_AI simplificada_I...                          0   \n",
       "\n",
       "                                                    Variedades mejoradas  \n",
       "primary_k                                                                 \n",
       "AI-2023-0623-1132-xtpKn-eKORE_AI simplificada_I...                     0  \n",
       "AI-2023-0623-1136-By8nu-QIjKI_AI simplificada_I...                     0  "
      ]
     },
     "execution_count": 6,
     "metadata": {},
     "output_type": "execute_result"
    }
   ],
   "source": [
    "test.head(2)"
   ]
  },
  {
   "cell_type": "code",
   "execution_count": 73,
   "metadata": {},
   "outputs": [],
   "source": [
    "sumas_kit = [(test[cat].sum(), cat) for cat in test]"
   ]
  },
  {
   "cell_type": "code",
   "execution_count": 74,
   "metadata": {},
   "outputs": [
    {
     "data": {
      "text/plain": [
       "[(3391, 'Agricultura de conservación'),\n",
       " (3172, 'Arreglos de siembra'),\n",
       " (26, 'Comercialización'),\n",
       " (319, 'Conservación de agua'),\n",
       " (237, 'Conservación del suelo'),\n",
       " (30275, 'Fertilización'),\n",
       " (13101, 'Manejo integrado de plagas'),\n",
       " (322, 'Otra'),\n",
       " (4213, 'Tecnologias de poscosecha'),\n",
       " (6230, 'Variedades mejoradas')]"
      ]
     },
     "execution_count": 74,
     "metadata": {},
     "output_type": "execute_result"
    }
   ],
   "source": [
    "sumas_kit"
   ]
  },
  {
   "cell_type": "code",
   "execution_count": 83,
   "metadata": {},
   "outputs": [],
   "source": [
    "eventos_oc = pd.read_csv('../data/eventos_corte_oct.csv')"
   ]
  },
  {
   "cell_type": "code",
   "execution_count": 84,
   "metadata": {},
   "outputs": [],
   "source": [
    "eventos_oc.set_index('Id_ReporteDeEvento',inplace=True)"
   ]
  },
  {
   "cell_type": "code",
   "execution_count": 86,
   "metadata": {},
   "outputs": [
    {
     "data": {
      "text/html": [
       "<div>\n",
       "<style scoped>\n",
       "    .dataframe tbody tr th:only-of-type {\n",
       "        vertical-align: middle;\n",
       "    }\n",
       "\n",
       "    .dataframe tbody tr th {\n",
       "        vertical-align: top;\n",
       "    }\n",
       "\n",
       "    .dataframe thead th {\n",
       "        text-align: right;\n",
       "    }\n",
       "</style>\n",
       "<table border=\"1\" class=\"dataframe\">\n",
       "  <thead>\n",
       "    <tr style=\"text-align: right;\">\n",
       "      <th></th>\n",
       "      <th>Unnamed: 0</th>\n",
       "      <th>Creado por Usuario</th>\n",
       "      <th>deleted_ReporteDeEvento</th>\n",
       "      <th>Fecha_creacion</th>\n",
       "      <th>Estado donde se realizo el evento</th>\n",
       "      <th>Municipio donde se realizo el evento</th>\n",
       "      <th>Hub</th>\n",
       "      <th>Categoria del evento</th>\n",
       "      <th>Tipo de evento de capacitación</th>\n",
       "      <th>Tipo de evento de comunicacion/difusion</th>\n",
       "      <th>...</th>\n",
       "      <th>Fecha de termino del evento</th>\n",
       "      <th>Evento dirigido a</th>\n",
       "      <th>Temas tratados / Tecnologias promovidas</th>\n",
       "      <th>Total de personas capacitadas</th>\n",
       "      <th>Total de organizadores</th>\n",
       "      <th>Emisor del reporte</th>\n",
       "      <th>Bitacora.registrada.por</th>\n",
       "      <th>Programa</th>\n",
       "      <th>Región de atención</th>\n",
       "      <th>tipo_cap_com</th>\n",
       "    </tr>\n",
       "    <tr>\n",
       "      <th>Id_ReporteDeEvento</th>\n",
       "      <th></th>\n",
       "      <th></th>\n",
       "      <th></th>\n",
       "      <th></th>\n",
       "      <th></th>\n",
       "      <th></th>\n",
       "      <th></th>\n",
       "      <th></th>\n",
       "      <th></th>\n",
       "      <th></th>\n",
       "      <th></th>\n",
       "      <th></th>\n",
       "      <th></th>\n",
       "      <th></th>\n",
       "      <th></th>\n",
       "      <th></th>\n",
       "      <th></th>\n",
       "      <th></th>\n",
       "      <th></th>\n",
       "      <th></th>\n",
       "      <th></th>\n",
       "    </tr>\n",
       "  </thead>\n",
       "  <tbody>\n",
       "    <tr>\n",
       "      <th>Event-2024-1029-0613-EnpRF-boPPl</th>\n",
       "      <td>3620</td>\n",
       "      <td>VilmaOrtiz_PSUR</td>\n",
       "      <td>False</td>\n",
       "      <td>10/29/2024</td>\n",
       "      <td>Oaxaca</td>\n",
       "      <td>Oaxaca_Santa_Maria_la_Asuncion</td>\n",
       "      <td>Hub_Pacifico_Sur</td>\n",
       "      <td>Evento Capacitacion</td>\n",
       "      <td>Taller</td>\n",
       "      <td>NaN</td>\n",
       "      <td>...</td>\n",
       "      <td>2024-08-08</td>\n",
       "      <td>Productores</td>\n",
       "      <td>Agricultura_de_conservacion,undefined</td>\n",
       "      <td>44</td>\n",
       "      <td>1</td>\n",
       "      <td>Tecnico</td>\n",
       "      <td>VilmaOrtiz_PSUR</td>\n",
       "      <td>Autosuficiencia Alimentaria</td>\n",
       "      <td>Cañada</td>\n",
       "      <td>Taller</td>\n",
       "    </tr>\n",
       "    <tr>\n",
       "      <th>Event-2024-1029-0729-HdgdD-51d3a</th>\n",
       "      <td>3621</td>\n",
       "      <td>VilmaOrtiz_PSUR</td>\n",
       "      <td>False</td>\n",
       "      <td>10/29/2024</td>\n",
       "      <td>Oaxaca</td>\n",
       "      <td>Oaxaca_Santa_Maria_la_Asuncion</td>\n",
       "      <td>Hub_Pacifico_Sur</td>\n",
       "      <td>Evento Capacitacion</td>\n",
       "      <td>Taller</td>\n",
       "      <td>NaN</td>\n",
       "      <td>...</td>\n",
       "      <td>2924-08-17</td>\n",
       "      <td>Productores</td>\n",
       "      <td>Agricultura_de_conservacion,undefined</td>\n",
       "      <td>16</td>\n",
       "      <td>1</td>\n",
       "      <td>Tecnico</td>\n",
       "      <td>VilmaOrtiz_PSUR</td>\n",
       "      <td>Autosuficiencia Alimentaria</td>\n",
       "      <td>Cañada</td>\n",
       "      <td>Taller</td>\n",
       "    </tr>\n",
       "  </tbody>\n",
       "</table>\n",
       "<p>2 rows × 24 columns</p>\n",
       "</div>"
      ],
      "text/plain": [
       "                                  Unnamed: 0 Creado por Usuario  \\\n",
       "Id_ReporteDeEvento                                                \n",
       "Event-2024-1029-0613-EnpRF-boPPl        3620    VilmaOrtiz_PSUR   \n",
       "Event-2024-1029-0729-HdgdD-51d3a        3621    VilmaOrtiz_PSUR   \n",
       "\n",
       "                                  deleted_ReporteDeEvento Fecha_creacion  \\\n",
       "Id_ReporteDeEvento                                                         \n",
       "Event-2024-1029-0613-EnpRF-boPPl                    False     10/29/2024   \n",
       "Event-2024-1029-0729-HdgdD-51d3a                    False     10/29/2024   \n",
       "\n",
       "                                 Estado donde se realizo el evento  \\\n",
       "Id_ReporteDeEvento                                                   \n",
       "Event-2024-1029-0613-EnpRF-boPPl                            Oaxaca   \n",
       "Event-2024-1029-0729-HdgdD-51d3a                            Oaxaca   \n",
       "\n",
       "                                 Municipio donde se realizo el evento  \\\n",
       "Id_ReporteDeEvento                                                      \n",
       "Event-2024-1029-0613-EnpRF-boPPl       Oaxaca_Santa_Maria_la_Asuncion   \n",
       "Event-2024-1029-0729-HdgdD-51d3a       Oaxaca_Santa_Maria_la_Asuncion   \n",
       "\n",
       "                                               Hub Categoria del evento  \\\n",
       "Id_ReporteDeEvento                                                        \n",
       "Event-2024-1029-0613-EnpRF-boPPl  Hub_Pacifico_Sur  Evento Capacitacion   \n",
       "Event-2024-1029-0729-HdgdD-51d3a  Hub_Pacifico_Sur  Evento Capacitacion   \n",
       "\n",
       "                                 Tipo de evento de capacitación  \\\n",
       "Id_ReporteDeEvento                                                \n",
       "Event-2024-1029-0613-EnpRF-boPPl                         Taller   \n",
       "Event-2024-1029-0729-HdgdD-51d3a                         Taller   \n",
       "\n",
       "                                 Tipo de evento de comunicacion/difusion  ...  \\\n",
       "Id_ReporteDeEvento                                                        ...   \n",
       "Event-2024-1029-0613-EnpRF-boPPl                                     NaN  ...   \n",
       "Event-2024-1029-0729-HdgdD-51d3a                                     NaN  ...   \n",
       "\n",
       "                                 Fecha de termino del evento  \\\n",
       "Id_ReporteDeEvento                                             \n",
       "Event-2024-1029-0613-EnpRF-boPPl                  2024-08-08   \n",
       "Event-2024-1029-0729-HdgdD-51d3a                  2924-08-17   \n",
       "\n",
       "                                 Evento dirigido a  \\\n",
       "Id_ReporteDeEvento                                   \n",
       "Event-2024-1029-0613-EnpRF-boPPl       Productores   \n",
       "Event-2024-1029-0729-HdgdD-51d3a       Productores   \n",
       "\n",
       "                                 Temas tratados / Tecnologias promovidas  \\\n",
       "Id_ReporteDeEvento                                                         \n",
       "Event-2024-1029-0613-EnpRF-boPPl   Agricultura_de_conservacion,undefined   \n",
       "Event-2024-1029-0729-HdgdD-51d3a   Agricultura_de_conservacion,undefined   \n",
       "\n",
       "                                 Total de personas capacitadas  \\\n",
       "Id_ReporteDeEvento                                               \n",
       "Event-2024-1029-0613-EnpRF-boPPl                            44   \n",
       "Event-2024-1029-0729-HdgdD-51d3a                            16   \n",
       "\n",
       "                                 Total de organizadores Emisor del reporte  \\\n",
       "Id_ReporteDeEvento                                                           \n",
       "Event-2024-1029-0613-EnpRF-boPPl                      1            Tecnico   \n",
       "Event-2024-1029-0729-HdgdD-51d3a                      1            Tecnico   \n",
       "\n",
       "                                 Bitacora.registrada.por  \\\n",
       "Id_ReporteDeEvento                                         \n",
       "Event-2024-1029-0613-EnpRF-boPPl         VilmaOrtiz_PSUR   \n",
       "Event-2024-1029-0729-HdgdD-51d3a         VilmaOrtiz_PSUR   \n",
       "\n",
       "                                                     Programa  \\\n",
       "Id_ReporteDeEvento                                              \n",
       "Event-2024-1029-0613-EnpRF-boPPl  Autosuficiencia Alimentaria   \n",
       "Event-2024-1029-0729-HdgdD-51d3a  Autosuficiencia Alimentaria   \n",
       "\n",
       "                                  Región de atención tipo_cap_com  \n",
       "Id_ReporteDeEvento                                                 \n",
       "Event-2024-1029-0613-EnpRF-boPPl              Cañada       Taller  \n",
       "Event-2024-1029-0729-HdgdD-51d3a              Cañada       Taller  \n",
       "\n",
       "[2 rows x 24 columns]"
      ]
     },
     "execution_count": 86,
     "metadata": {},
     "output_type": "execute_result"
    }
   ],
   "source": [
    "eventos_oc.tail(2)"
   ]
  },
  {
   "cell_type": "code",
   "execution_count": 82,
   "metadata": {},
   "outputs": [
    {
     "data": {
      "text/plain": [
       "Index(['Unnamed: 0', 'Id_ReporteDeEvento', 'Creado por Usuario',\n",
       "       'deleted_ReporteDeEvento', 'Fecha_creacion',\n",
       "       'Estado donde se realizo el evento',\n",
       "       'Municipio donde se realizo el evento', 'Hub', 'Categoria del evento',\n",
       "       'Tipo de evento de capacitación',\n",
       "       'Tipo de evento de comunicacion/difusion', 'Modalidad del evento',\n",
       "       'Proyecto', 'Nombre del reporte', 'Fecha de inicio del evento',\n",
       "       'Fecha de termino del evento', 'Evento dirigido a',\n",
       "       'Temas tratados / Tecnologias promovidas',\n",
       "       'Total de personas capacitadas', 'Total de organizadores',\n",
       "       'Emisor del reporte', 'Bitacora.registrada.por', 'Programa',\n",
       "       'Región de atención', 'tipo_cap_com'],\n",
       "      dtype='object')"
      ]
     },
     "execution_count": 82,
     "metadata": {},
     "output_type": "execute_result"
    }
   ],
   "source": [
    "eventos_oc.columns"
   ]
  },
  {
   "cell_type": "code",
   "execution_count": null,
   "metadata": {},
   "outputs": [],
   "source": []
  },
  {
   "cell_type": "code",
   "execution_count": 7,
   "metadata": {},
   "outputs": [],
   "source": [
    "#comienza gráfica\n",
    "fig = plot_upset(\n",
    "    dataframes=[test],\n",
    "    legendgroups=[\"Kit técnológico\"],\n",
    "    exclude_zeros=True,\n",
    "    sorted_x=\"d\",\n",
    "    sorted_y=\"a\",\n",
    "    row_heights=[0.6, 0.4],\n",
    "    vertical_spacing = 0.,\n",
    "    horizontal_spacing = 0.15)\n"
   ]
  },
  {
   "cell_type": "code",
   "execution_count": null,
   "metadata": {},
   "outputs": [],
   "source": [
    "# Plotting\n",
    "# fig = plot_upset(\n",
    "#     dataframes=[subset_df.iloc[:,1:54]],\n",
    "#     legendgroups=[\"tecnologias\"],\n",
    "#     marker_size=16,\n",
    "# )\n"
   ]
  },
  {
   "cell_type": "code",
   "execution_count": null,
   "metadata": {},
   "outputs": [],
   "source": [
    "set_list = [\"Set A\", \"Set B\", \"SetC\"]\n",
    "df = pd.DataFrame(\n",
    "    np.random.randint(0, 2, size=(10_000, len(set_list))), columns=set_list\n",
    ")"
   ]
  },
  {
   "cell_type": "code",
   "execution_count": null,
   "metadata": {},
   "outputs": [],
   "source": [
    "df"
   ]
  },
  {
   "cell_type": "code",
   "execution_count": null,
   "metadata": {},
   "outputs": [],
   "source": [
    "# Plotting\n",
    "fig = plot_upset(\n",
    "    dataframes=[df],\n",
    "    legendgroups=[\"Group X\"],\n",
    "    marker_size=16,\n",
    ")\n",
    "\n"
   ]
  },
  {
   "cell_type": "code",
   "execution_count": null,
   "metadata": {},
   "outputs": [],
   "source": [
    "fig.update_layout(\n",
    "    font_family=\"Jetbrains Mono\",\n",
    ")\n",
    "\n"
   ]
  },
  {
   "cell_type": "code",
   "execution_count": null,
   "metadata": {},
   "outputs": [],
   "source": [
    "fig.show()"
   ]
  },
  {
   "cell_type": "code",
   "execution_count": null,
   "metadata": {},
   "outputs": [],
   "source": [
    "pip freeze"
   ]
  },
  {
   "cell_type": "code",
   "execution_count": null,
   "metadata": {},
   "outputs": [],
   "source": [
    "# Data - Source https://github.com/hms-dbmi/UpSetR/blob/master/inst/extdata/movies.csv\n",
    "movies = pd.read_csv(\n",
    "    \"https://raw.githubusercontent.com/hms-dbmi/UpSetR/master/inst/extdata/movies.csv\",\n",
    "    sep=';'\n",
    ")\n"
   ]
  },
  {
   "cell_type": "code",
   "execution_count": null,
   "metadata": {},
   "outputs": [],
   "source": [
    "movies.head(2)"
   ]
  },
  {
   "cell_type": "code",
   "execution_count": null,
   "metadata": {},
   "outputs": [],
   "source": [
    "# Preprocessing - Taking 4 categories with most number of samples\n",
    "df = movies.drop(columns=['Name', 'ReleaseDate', 'AvgRating', 'Watches'])\n",
    "\n"
   ]
  },
  {
   "cell_type": "code",
   "execution_count": null,
   "metadata": {},
   "outputs": [],
   "source": [
    "x = [(df[cat].sum(), cat) for cat in df]\n",
    "\n"
   ]
  },
  {
   "cell_type": "code",
   "execution_count": null,
   "metadata": {},
   "outputs": [],
   "source": [
    "x"
   ]
  },
  {
   "cell_type": "code",
   "execution_count": null,
   "metadata": {},
   "outputs": [],
   "source": [
    "x = np.array(sorted(x, reverse=True))\n"
   ]
  },
  {
   "cell_type": "code",
   "execution_count": null,
   "metadata": {},
   "outputs": [],
   "source": [
    "x"
   ]
  },
  {
   "cell_type": "code",
   "execution_count": null,
   "metadata": {},
   "outputs": [],
   "source": [
    "x = x.T[1][:4]\n"
   ]
  },
  {
   "cell_type": "code",
   "execution_count": null,
   "metadata": {},
   "outputs": [],
   "source": [
    "x"
   ]
  },
  {
   "cell_type": "code",
   "execution_count": null,
   "metadata": {},
   "outputs": [],
   "source": [
    "df = movies[x]"
   ]
  },
  {
   "cell_type": "code",
   "execution_count": null,
   "metadata": {},
   "outputs": [],
   "source": [
    "df.head(2)"
   ]
  },
  {
   "cell_type": "code",
   "execution_count": null,
   "metadata": {},
   "outputs": [],
   "source": []
  },
  {
   "cell_type": "code",
   "execution_count": null,
   "metadata": {},
   "outputs": [],
   "source": [
    "# Plotting\n",
    "fig = plot_upset(\n",
    "    dataframes=[df],\n",
    "    legendgroups=[\"Movie Categories - X\"],\n",
    "    exclude_zeros=True,\n",
    "    sorted_x=\"d\",\n",
    "    sorted_y=\"a\",\n",
    "    row_heights=[0.6, 0.4],\n",
    "    vertical_spacing = 0.,\n",
    "    horizontal_spacing = 0.15,\n",
    "    # marginal_data=[movies['ReleaseDate'], movies['AvgRating'], movies['Watches']],\n",
    "    # marginal_title=['ReleaseDate', 'AvgRating', 'Watches']\n",
    ")\n",
    "\n",
    "\n",
    "\n"
   ]
  },
  {
   "cell_type": "code",
   "execution_count": 77,
   "metadata": {},
   "outputs": [
    {
     "data": {
      "application/vnd.plotly.v1+json": {
       "config": {
        "plotlyServerURL": "https://plot.ly"
       },
       "data": [
        {
         "cliponaxis": false,
         "legendgroup": "Kit técnológico",
         "marker": {
          "color": "#636efa",
          "line": {
           "width": 0
          }
         },
         "name": "Kit técnológico",
         "showlegend": false,
         "text": [
          17911,
          4753,
          3062,
          2823,
          2013,
          1856,
          1227,
          1081,
          806,
          756,
          594,
          576,
          385,
          333,
          310,
          308,
          234,
          221,
          199,
          198,
          192,
          155,
          143,
          128,
          82,
          70,
          65,
          64,
          63,
          58,
          55,
          48,
          46,
          46,
          46,
          43,
          43,
          36,
          34,
          29,
          26,
          26,
          26,
          18,
          16,
          15,
          14,
          11,
          10,
          9,
          9,
          8,
          8,
          8,
          8,
          7,
          7,
          6,
          6,
          6,
          5,
          4,
          4,
          3,
          3,
          3,
          3,
          3,
          3,
          3,
          3,
          3,
          3,
          3,
          2,
          2,
          2,
          2,
          2,
          2,
          2,
          2,
          2,
          2,
          2,
          2,
          2,
          2,
          2,
          2,
          1,
          1,
          1,
          1,
          1,
          1,
          1,
          1,
          1,
          1,
          1,
          1,
          1,
          1,
          1,
          1,
          1,
          1,
          1,
          1,
          1,
          1,
          1,
          1,
          1,
          1,
          1,
          1,
          1,
          1,
          1,
          1,
          1,
          1,
          1,
          1,
          1,
          1,
          1,
          1,
          1,
          1
         ],
         "textangle": -90,
         "textfont": {
          "size": 12
         },
         "textposition": "outside",
         "texttemplate": "%{text:}",
         "type": "bar",
         "x": [
          "0000010000",
          "0000011000",
          "0000011001",
          "0000001000",
          "1000000000",
          "0000000010",
          "0000000001",
          "0000010010",
          "0100000000",
          "0000010001",
          "1100000000",
          "0100011001",
          "0000000000",
          "0000011010",
          "0100010000",
          "0100011000",
          "0000001010",
          "0100001000",
          "0000000100",
          "0000010011",
          "1000011000",
          "1000010000",
          "0001000000",
          "0000001001",
          "0000000011",
          "0000010100",
          "1000000010",
          "1001000000",
          "0000011011",
          "0100011010",
          "1000001000",
          "0100010001",
          "1100010000",
          "1000100010",
          "0000110000",
          "1100011000",
          "0000100000",
          "0100001010",
          "0001010000",
          "0000001011",
          "0100000010",
          "0000111000",
          "0000011100",
          "0100000001",
          "0000101000",
          "0100010010",
          "1000010010",
          "1000011010",
          "0001011000",
          "0010000000",
          "0000001100",
          "1010000000",
          "1001010000",
          "1000111000",
          "0000110010",
          "1100011010",
          "0101010000",
          "1000100000",
          "0100011011",
          "0100010011",
          "0010010000",
          "1000010001",
          "0101011000",
          "1101011000",
          "1100111010",
          "1100001000",
          "1000000011",
          "0101000000",
          "0100011100",
          "0001110000",
          "0001100000",
          "0001010010",
          "0001001000",
          "0000111010",
          "1100010010",
          "1001111000",
          "1001011010",
          "1001011000",
          "1000111010",
          "1000110000",
          "1000011011",
          "1000011001",
          "1000010100",
          "1000010011",
          "0100100000",
          "0001111000",
          "0001011011",
          "0001010001",
          "0001001001",
          "0000011110",
          "1110011000",
          "1101111000",
          "1101101000",
          "1101011100",
          "1101011010",
          "1101001000",
          "1100011101",
          "1100011100",
          "1100011001",
          "1100001100",
          "1010010000",
          "1001110010",
          "1001110000",
          "1001100000",
          "1000111001",
          "1000101000",
          "1000001011",
          "1000001010",
          "1000000100",
          "1000000001",
          "0101110010",
          "0101001001",
          "0101000001",
          "0100111000",
          "0100110000",
          "0100001100",
          "0100001001",
          "0100000100",
          "0010011001",
          "0010011000",
          "0001101000",
          "0001011100",
          "0001011010",
          "0001001010",
          "0001000011",
          "0001000010",
          "0000111110",
          "0000111011",
          "0000110100",
          "0000100010",
          "0000100001",
          "0000000110"
         ],
         "xaxis": "x2",
         "y": [
          17911,
          4753,
          3062,
          2823,
          2013,
          1856,
          1227,
          1081,
          806,
          756,
          594,
          576,
          385,
          333,
          310,
          308,
          234,
          221,
          199,
          198,
          192,
          155,
          143,
          128,
          82,
          70,
          65,
          64,
          63,
          58,
          55,
          48,
          46,
          46,
          46,
          43,
          43,
          36,
          34,
          29,
          26,
          26,
          26,
          18,
          16,
          15,
          14,
          11,
          10,
          9,
          9,
          8,
          8,
          8,
          8,
          7,
          7,
          6,
          6,
          6,
          5,
          4,
          4,
          3,
          3,
          3,
          3,
          3,
          3,
          3,
          3,
          3,
          3,
          3,
          2,
          2,
          2,
          2,
          2,
          2,
          2,
          2,
          2,
          2,
          2,
          2,
          2,
          2,
          2,
          2,
          1,
          1,
          1,
          1,
          1,
          1,
          1,
          1,
          1,
          1,
          1,
          1,
          1,
          1,
          1,
          1,
          1,
          1,
          1,
          1,
          1,
          1,
          1,
          1,
          1,
          1,
          1,
          1,
          1,
          1,
          1,
          1,
          1,
          1,
          1,
          1,
          1,
          1,
          1,
          1,
          1,
          1
         ],
         "yaxis": "y2"
        },
        {
         "cliponaxis": false,
         "legendgroup": "Kit técnológico",
         "marker": {
          "color": "#636efa",
          "line": {
           "width": 0
          }
         },
         "name": "Kit técnológico",
         "orientation": "h",
         "text": [
          26,
          237,
          319,
          322,
          3172,
          3391,
          4213,
          6230,
          13101,
          30275
         ],
         "textangle": 0,
         "textfont": {
          "size": 12
         },
         "textposition": "outside",
         "texttemplate": "%{text:}",
         "type": "bar",
         "x": [
          26,
          237,
          319,
          322,
          3172,
          3391,
          4213,
          6230,
          13101,
          30275
         ],
         "xaxis": "x3",
         "y": [
          "Comercialización",
          "Conservación del suelo",
          "Conservación de agua",
          "Otra",
          "Arreglos de siembra",
          "Agricultura de conservación",
          "Tecnologias de poscosecha",
          "Variedades mejoradas",
          "Manejo integrado de plagas",
          "Fertilización"
         ],
         "yaxis": "y3"
        },
        {
         "legendgroup": "True",
         "marker": {
          "color": "#000000",
          "line": {
           "color": "#000000",
           "width": 0
          },
          "size": 12,
          "symbol": "circle"
         },
         "mode": "markers",
         "name": "True",
         "showlegend": false,
         "type": "scatter",
         "x": [
          4,
          8,
          49,
          22,
          36,
          0,
          3,
          18,
          5,
          6,
          109,
          43,
          130,
          9,
          23,
          24,
          24,
          26,
          40,
          125,
          129,
          7,
          16,
          131,
          131,
          66,
          124,
          19,
          39,
          108,
          117,
          25,
          50,
          50,
          16,
          23,
          39,
          39,
          30,
          17,
          72,
          44,
          1,
          1,
          25,
          7,
          9,
          116,
          88,
          2,
          2,
          19,
          19,
          107,
          37,
          123,
          13,
          13,
          106,
          28,
          28,
          115,
          42,
          42,
          42,
          13,
          2,
          28,
          28,
          89,
          89,
          89,
          89,
          21,
          14,
          60,
          38,
          34,
          34,
          44,
          129,
          130,
          61,
          31,
          87,
          46,
          45,
          71,
          54,
          54,
          83,
          59,
          82,
          128,
          128,
          20,
          15,
          119,
          48,
          41,
          41,
          41,
          128,
          54,
          81,
          11,
          118,
          47,
          29,
          122,
          73,
          73,
          73,
          80,
          58,
          86,
          127,
          127,
          127,
          68,
          121,
          73,
          127,
          127,
          126,
          126,
          126,
          126,
          126,
          57,
          84,
          70,
          70,
          38,
          72,
          125,
          87,
          88,
          124,
          124,
          33,
          71,
          123,
          123,
          88,
          105,
          120,
          120,
          48,
          48,
          71,
          87,
          122,
          122,
          86,
          86,
          121,
          121,
          121,
          122,
          86,
          86,
          79,
          114,
          69,
          69,
          69,
          120,
          53,
          113,
          85,
          85,
          85,
          85,
          104,
          78,
          27,
          67,
          60,
          112,
          119,
          119,
          111,
          118,
          118,
          118,
          52,
          56,
          77,
          62,
          76,
          103,
          102,
          101,
          110,
          75,
          51,
          67,
          84,
          14,
          17,
          117,
          40,
          43,
          112,
          31,
          116,
          45,
          37,
          59,
          115,
          115,
          37,
          116,
          15,
          15,
          45,
          31,
          111,
          11,
          11,
          59,
          59,
          29,
          29,
          58,
          58,
          68,
          68,
          68,
          29,
          11,
          58,
          58,
          100,
          56,
          114,
          114,
          62,
          113,
          113,
          113,
          56,
          112,
          111,
          111,
          62,
          62,
          110,
          110,
          110,
          110,
          10,
          10,
          51,
          27,
          57,
          21,
          30,
          108,
          26,
          109,
          61,
          66,
          66,
          33,
          46,
          107,
          83,
          106,
          82,
          107,
          106,
          106,
          65,
          65,
          105,
          20,
          20,
          82,
          46,
          61,
          81,
          81,
          83,
          83,
          47,
          47,
          80,
          80,
          99,
          99,
          47,
          81,
          80,
          80,
          32,
          32,
          100,
          52,
          79,
          79,
          105,
          33,
          74,
          74,
          35,
          35,
          77,
          53,
          53,
          53,
          98,
          98,
          104,
          104,
          104,
          55,
          55,
          76,
          78,
          78,
          78,
          97,
          97,
          78,
          104,
          96,
          96,
          103,
          103,
          52,
          77,
          77,
          76,
          76,
          76,
          102,
          102,
          102,
          101,
          101,
          101,
          75,
          75,
          75,
          75,
          101,
          64,
          64,
          100,
          95,
          95,
          63,
          63,
          94,
          94,
          93,
          93,
          92,
          92,
          91,
          91,
          32,
          65,
          74,
          99,
          99,
          95,
          35,
          35,
          74,
          98,
          98,
          55,
          55,
          97,
          97,
          97,
          55,
          98,
          96,
          96,
          96,
          96,
          90,
          90,
          90,
          63,
          94,
          64,
          64,
          64,
          93,
          64,
          95,
          92,
          92,
          63,
          63,
          94,
          94,
          93,
          93,
          93,
          94,
          92,
          91,
          91,
          91,
          91,
          90,
          90
         ],
         "xaxis": "x4",
         "y": [
          0,
          1,
          2,
          3,
          4,
          5,
          6,
          7,
          8,
          9,
          0,
          1,
          4,
          5,
          6,
          8,
          9,
          0,
          1,
          3,
          4,
          5,
          6,
          7,
          8,
          0,
          3,
          5,
          6,
          0,
          1,
          5,
          6,
          7,
          8,
          9,
          8,
          9,
          0,
          1,
          3,
          4,
          5,
          6,
          7,
          8,
          9,
          1,
          3,
          5,
          6,
          8,
          9,
          0,
          1,
          3,
          5,
          6,
          0,
          5,
          6,
          1,
          5,
          6,
          7,
          8,
          9,
          8,
          9,
          5,
          6,
          7,
          8,
          0,
          1,
          2,
          3,
          4,
          5,
          6,
          8,
          9,
          0,
          1,
          3,
          0,
          1,
          3,
          4,
          5,
          0,
          1,
          0,
          4,
          5,
          0,
          1,
          2,
          3,
          4,
          5,
          6,
          7,
          8,
          0,
          1,
          2,
          0,
          1,
          3,
          4,
          5,
          6,
          0,
          1,
          3,
          4,
          5,
          6,
          1,
          3,
          8,
          8,
          9,
          4,
          5,
          6,
          7,
          8,
          0,
          1,
          3,
          4,
          5,
          6,
          8,
          5,
          6,
          8,
          9,
          0,
          5,
          6,
          8,
          9,
          0,
          3,
          4,
          5,
          6,
          8,
          9,
          5,
          6,
          5,
          6,
          5,
          6,
          7,
          8,
          8,
          9,
          0,
          1,
          3,
          4,
          5,
          6,
          0,
          1,
          3,
          4,
          5,
          6,
          0,
          0,
          0,
          1,
          5,
          1,
          5,
          6,
          1,
          5,
          6,
          9,
          0,
          1,
          0,
          1,
          0,
          0,
          0,
          0,
          1,
          0,
          0,
          3,
          4,
          5,
          6,
          7,
          8,
          9,
          3,
          5,
          6,
          5,
          6,
          5,
          6,
          7,
          8,
          9,
          5,
          6,
          8,
          9,
          3,
          5,
          6,
          8,
          9,
          5,
          6,
          5,
          6,
          5,
          6,
          7,
          8,
          9,
          8,
          9,
          0,
          3,
          4,
          5,
          3,
          4,
          5,
          6,
          5,
          9,
          6,
          9,
          5,
          6,
          3,
          4,
          5,
          8,
          0,
          1,
          2,
          3,
          4,
          5,
          6,
          7,
          8,
          9,
          5,
          8,
          9,
          4,
          5,
          6,
          5,
          6,
          5,
          8,
          8,
          9,
          0,
          1,
          4,
          5,
          6,
          7,
          8,
          9,
          5,
          6,
          8,
          9,
          5,
          6,
          5,
          6,
          0,
          1,
          8,
          9,
          8,
          9,
          0,
          1,
          2,
          3,
          4,
          5,
          6,
          8,
          0,
          1,
          0,
          1,
          3,
          4,
          5,
          6,
          0,
          1,
          4,
          5,
          6,
          0,
          1,
          3,
          4,
          5,
          6,
          0,
          1,
          8,
          9,
          0,
          1,
          3,
          4,
          5,
          5,
          6,
          5,
          6,
          8,
          3,
          4,
          5,
          3,
          4,
          5,
          3,
          4,
          5,
          6,
          8,
          0,
          1,
          5,
          0,
          1,
          0,
          1,
          0,
          1,
          0,
          1,
          0,
          1,
          0,
          1,
          5,
          6,
          5,
          6,
          7,
          3,
          5,
          6,
          8,
          5,
          6,
          5,
          6,
          5,
          6,
          7,
          8,
          9,
          5,
          6,
          7,
          9,
          0,
          1,
          2,
          3,
          3,
          4,
          5,
          6,
          3,
          8,
          6,
          3,
          4,
          5,
          6,
          5,
          6,
          5,
          6,
          7,
          8,
          6,
          3,
          4,
          5,
          6,
          5,
          6
         ],
         "yaxis": "y4"
        },
        {
         "legendgroup": "False",
         "marker": {
          "color": "#C2C2C2",
          "line": {
           "color": "#000000",
           "width": 0
          },
          "size": 12,
          "symbol": "circle"
         },
         "mode": "markers",
         "name": "False",
         "showlegend": false,
         "type": "scatter",
         "x": [
          91,
          92,
          93,
          94,
          63,
          90,
          90,
          90,
          90,
          90,
          95,
          93,
          91,
          91,
          91,
          64,
          64,
          94,
          63,
          92,
          92,
          92,
          92,
          94,
          93,
          93,
          94,
          63,
          63,
          63,
          95,
          95,
          95,
          95,
          95,
          64,
          96,
          96,
          96,
          64,
          97,
          97,
          97,
          55,
          55,
          55,
          98,
          98,
          98,
          35,
          35,
          35,
          74,
          74,
          74,
          100,
          32,
          32,
          32,
          96,
          55,
          97,
          97,
          98,
          98,
          55,
          99,
          99,
          99,
          99,
          35,
          35,
          35,
          74,
          74,
          74,
          65,
          65,
          65,
          65,
          32,
          32,
          32,
          32,
          99,
          99,
          65,
          65,
          65,
          51,
          10,
          10,
          10,
          10,
          10,
          10,
          10,
          10,
          75,
          75,
          110,
          101,
          101,
          102,
          102,
          103,
          103,
          76,
          76,
          62,
          77,
          77,
          56,
          52,
          52,
          100,
          100,
          111,
          100,
          100,
          100,
          100,
          112,
          67,
          27,
          27,
          51,
          51,
          51,
          51,
          51,
          51,
          51,
          75,
          75,
          75,
          78,
          78,
          78,
          76,
          101,
          101,
          104,
          104,
          104,
          101,
          113,
          53,
          53,
          53,
          77,
          102,
          102,
          102,
          102,
          114,
          79,
          79,
          79,
          52,
          103,
          103,
          103,
          103,
          103,
          76,
          76,
          77,
          77,
          77,
          105,
          105,
          105,
          52,
          52,
          52,
          52,
          33,
          33,
          33,
          84,
          57,
          57,
          57,
          27,
          27,
          27,
          27,
          27,
          27,
          78,
          104,
          104,
          78,
          68,
          53,
          53,
          53,
          58,
          80,
          80,
          80,
          80,
          29,
          47,
          47,
          47,
          47,
          11,
          81,
          81,
          81,
          81,
          15,
          20,
          20,
          20,
          20,
          105,
          79,
          79,
          79,
          79,
          82,
          82,
          82,
          82,
          105,
          105,
          105,
          59,
          83,
          83,
          83,
          83,
          45,
          46,
          46,
          46,
          46,
          33,
          33,
          33,
          31,
          61,
          61,
          61,
          61,
          33,
          14,
          21,
          21,
          21,
          21,
          57,
          57,
          57,
          57,
          57,
          80,
          47,
          81,
          81,
          47,
          115,
          82,
          20,
          20,
          20,
          106,
          106,
          106,
          106,
          106,
          83,
          83,
          37,
          107,
          107,
          107,
          107,
          107,
          46,
          46,
          82,
          82,
          116,
          61,
          61,
          61,
          46,
          17,
          30,
          30,
          30,
          30,
          30,
          21,
          21,
          21,
          21,
          106,
          107,
          107,
          117,
          108,
          108,
          108,
          108,
          108,
          108,
          30,
          30,
          30,
          66,
          66,
          66,
          66,
          66,
          66,
          66,
          40,
          26,
          26,
          26,
          26,
          26,
          26,
          26,
          108,
          108,
          43,
          109,
          109,
          109,
          109,
          109,
          109,
          109,
          109,
          26,
          8,
          4,
          4,
          4,
          4,
          4,
          4,
          4,
          4,
          4,
          110,
          62,
          56,
          111,
          112,
          67,
          110,
          110,
          110,
          113,
          113,
          62,
          114,
          114,
          56,
          62,
          62,
          62,
          111,
          111,
          56,
          56,
          56,
          56,
          111,
          111,
          112,
          112,
          112,
          112,
          112,
          84,
          84,
          67,
          67,
          67,
          67,
          67,
          67,
          68,
          68,
          68,
          113,
          113,
          113,
          58,
          58,
          58,
          29,
          29,
          29,
          118,
          118,
          11,
          11,
          11,
          119,
          119,
          15,
          15,
          15,
          114,
          114,
          114,
          114,
          59,
          59,
          59,
          45,
          45,
          45,
          31,
          31,
          31,
          60,
          60,
          14,
          14,
          14,
          84,
          84,
          84,
          84,
          84,
          58,
          29,
          68,
          68,
          11,
          11,
          29,
          115,
          115,
          115,
          115,
          15,
          15,
          15,
          59,
          59,
          37,
          37,
          37,
          37,
          45,
          45,
          116,
          116,
          116,
          116,
          31,
          31,
          31,
          45,
          17,
          17,
          17,
          17,
          14,
          14,
          14,
          14,
          37,
          115,
          115,
          116,
          116,
          37,
          117,
          117,
          117,
          117,
          117,
          17,
          17,
          17,
          40,
          40,
          40,
          40,
          40,
          40,
          117,
          117,
          43,
          43,
          43,
          43,
          43,
          43,
          43,
          40,
          49,
          49,
          8,
          8,
          8,
          8,
          8,
          8,
          8,
          8,
          85,
          85,
          85,
          69,
          69,
          69,
          120,
          120,
          120,
          70,
          70,
          70,
          121,
          121,
          121,
          86,
          86,
          86,
          122,
          122,
          122,
          118,
          118,
          48,
          48,
          48,
          119,
          119,
          71,
          71,
          71,
          87,
          87,
          87,
          38,
          38,
          38,
          60,
          60,
          118,
          118,
          119,
          119,
          119,
          123,
          123,
          123,
          88,
          88,
          88,
          72,
          72,
          72,
          60,
          60,
          60,
          60,
          124,
          124,
          124,
          125,
          125,
          125,
          22,
          22,
          22,
          49,
          49,
          49,
          49,
          49,
          49,
          49,
          126,
          126,
          126,
          126,
          121,
          85,
          85,
          85,
          127,
          127,
          127,
          127,
          86,
          73,
          73,
          73,
          73,
          122,
          41,
          41,
          41,
          41,
          48,
          120,
          69,
          69,
          69,
          69,
          128,
          128,
          128,
          128,
          120,
          120,
          120,
          54,
          54,
          54,
          54,
          71,
          87,
          34,
          34,
          34,
          34,
          38,
          70,
          70,
          70,
          70,
          70,
          86,
          122,
          121,
          121,
          122,
          48,
          48,
          48,
          123,
          123,
          71,
          71,
          88,
          88,
          87,
          87,
          87,
          71,
          44,
          44,
          44,
          44,
          72,
          72,
          38,
          38,
          38,
          38,
          123,
          88,
          88,
          123,
          72,
          72,
          72,
          124,
          124,
          124,
          124,
          129,
          129,
          129,
          129,
          125,
          125,
          125,
          125,
          130,
          130,
          130,
          130,
          125,
          36,
          36,
          36,
          36,
          22,
          22,
          22,
          22,
          22,
          22,
          127,
          126,
          89,
          89,
          89,
          89,
          89,
          73,
          73,
          42,
          42,
          42,
          42,
          42,
          128,
          41,
          41,
          41,
          28,
          28,
          28,
          28,
          28,
          13,
          13,
          13,
          13,
          13,
          54,
          54,
          128,
          128,
          2,
          2,
          2,
          2,
          2,
          54,
          1,
          1,
          1,
          1,
          1,
          44,
          34,
          34,
          34,
          34,
          25,
          25,
          25,
          25,
          25,
          44,
          44,
          44,
          19,
          19,
          19,
          19,
          19,
          7,
          7,
          7,
          7,
          7,
          129,
          129,
          129,
          9,
          9,
          9,
          9,
          9,
          130,
          130,
          130,
          130,
          129,
          0,
          0,
          0,
          0,
          0,
          36,
          36,
          36,
          36,
          36,
          28,
          89,
          13,
          42,
          42,
          2,
          2,
          13,
          50,
          50,
          50,
          50,
          50,
          50,
          25,
          1,
          1,
          1,
          39,
          39,
          39,
          39,
          39,
          39,
          19,
          19,
          16,
          16,
          16,
          16,
          16,
          16,
          7,
          7,
          25,
          25,
          23,
          23,
          23,
          23,
          23,
          23,
          9,
          9,
          9,
          7,
          3,
          3,
          3,
          3,
          3,
          3,
          0,
          0,
          0,
          0,
          39,
          131,
          131,
          131,
          131,
          131,
          131,
          131,
          16,
          50,
          50,
          23,
          23,
          16,
          18,
          18,
          18,
          18,
          18,
          18,
          18,
          3,
          3,
          3,
          24,
          24,
          24,
          24,
          24,
          24,
          24,
          24,
          131,
          5,
          5,
          5,
          5,
          5,
          5,
          5,
          5,
          18,
          18,
          6,
          6,
          6,
          6,
          6,
          6,
          6,
          6,
          6,
          5,
          12,
          12,
          12,
          12,
          12,
          12,
          12,
          12,
          12,
          12
         ],
         "xaxis": "x4",
         "y": [
          2,
          2,
          2,
          2,
          2,
          3,
          4,
          7,
          8,
          9,
          2,
          4,
          7,
          8,
          9,
          2,
          3,
          4,
          4,
          5,
          7,
          8,
          9,
          7,
          8,
          9,
          9,
          7,
          8,
          9,
          4,
          5,
          7,
          8,
          9,
          7,
          2,
          3,
          4,
          9,
          2,
          3,
          4,
          2,
          3,
          4,
          2,
          3,
          4,
          2,
          3,
          4,
          2,
          3,
          4,
          1,
          2,
          3,
          4,
          8,
          7,
          8,
          9,
          7,
          8,
          9,
          2,
          3,
          4,
          5,
          7,
          8,
          9,
          6,
          7,
          9,
          2,
          3,
          4,
          5,
          6,
          7,
          8,
          9,
          8,
          9,
          7,
          8,
          9,
          1,
          2,
          3,
          4,
          5,
          6,
          7,
          8,
          9,
          1,
          2,
          0,
          1,
          2,
          1,
          2,
          1,
          2,
          1,
          2,
          0,
          1,
          2,
          0,
          1,
          2,
          3,
          4,
          0,
          6,
          7,
          8,
          9,
          0,
          0,
          1,
          2,
          3,
          4,
          5,
          6,
          7,
          8,
          9,
          7,
          8,
          9,
          1,
          2,
          3,
          4,
          6,
          7,
          1,
          2,
          3,
          9,
          0,
          1,
          2,
          3,
          4,
          6,
          7,
          8,
          9,
          0,
          1,
          2,
          3,
          4,
          5,
          6,
          7,
          8,
          9,
          7,
          9,
          7,
          8,
          9,
          1,
          2,
          3,
          6,
          7,
          8,
          9,
          1,
          2,
          3,
          0,
          1,
          2,
          3,
          4,
          5,
          6,
          7,
          8,
          9,
          7,
          7,
          8,
          9,
          0,
          7,
          8,
          9,
          0,
          1,
          2,
          3,
          4,
          0,
          1,
          2,
          3,
          4,
          0,
          1,
          2,
          3,
          4,
          0,
          1,
          2,
          3,
          4,
          5,
          6,
          7,
          8,
          9,
          1,
          2,
          3,
          4,
          7,
          8,
          9,
          0,
          1,
          2,
          3,
          4,
          0,
          1,
          2,
          3,
          4,
          5,
          6,
          7,
          0,
          1,
          2,
          3,
          4,
          9,
          0,
          1,
          2,
          3,
          4,
          5,
          6,
          7,
          8,
          9,
          7,
          7,
          7,
          8,
          9,
          0,
          6,
          7,
          8,
          9,
          1,
          2,
          3,
          4,
          5,
          6,
          7,
          0,
          1,
          2,
          3,
          4,
          5,
          6,
          7,
          8,
          9,
          0,
          6,
          7,
          8,
          9,
          0,
          1,
          2,
          3,
          4,
          5,
          6,
          7,
          8,
          9,
          7,
          7,
          9,
          0,
          1,
          2,
          3,
          4,
          5,
          6,
          7,
          8,
          9,
          1,
          2,
          3,
          4,
          5,
          6,
          7,
          0,
          1,
          2,
          3,
          4,
          5,
          6,
          7,
          8,
          9,
          0,
          1,
          2,
          3,
          4,
          5,
          6,
          7,
          8,
          9,
          0,
          1,
          2,
          3,
          4,
          5,
          6,
          7,
          8,
          9,
          2,
          2,
          2,
          2,
          2,
          2,
          6,
          7,
          9,
          2,
          3,
          4,
          2,
          3,
          4,
          7,
          8,
          9,
          4,
          5,
          6,
          7,
          8,
          9,
          7,
          8,
          4,
          5,
          6,
          7,
          8,
          2,
          3,
          4,
          5,
          6,
          7,
          8,
          9,
          2,
          3,
          4,
          7,
          8,
          9,
          2,
          3,
          4,
          2,
          3,
          4,
          0,
          1,
          2,
          3,
          4,
          0,
          1,
          2,
          3,
          4,
          6,
          7,
          8,
          9,
          2,
          3,
          4,
          2,
          3,
          4,
          2,
          3,
          4,
          0,
          1,
          2,
          3,
          4,
          5,
          6,
          7,
          8,
          9,
          7,
          7,
          8,
          9,
          7,
          8,
          9,
          2,
          3,
          4,
          5,
          7,
          8,
          9,
          6,
          7,
          2,
          3,
          4,
          5,
          6,
          7,
          2,
          3,
          4,
          5,
          6,
          7,
          8,
          9,
          2,
          3,
          4,
          5,
          6,
          7,
          8,
          9,
          7,
          8,
          9,
          7,
          8,
          9,
          2,
          3,
          4,
          5,
          6,
          7,
          8,
          9,
          2,
          3,
          4,
          5,
          6,
          7,
          8,
          9,
          2,
          3,
          4,
          5,
          6,
          7,
          8,
          9,
          0,
          1,
          2,
          3,
          4,
          5,
          6,
          7,
          8,
          9,
          0,
          1,
          2,
          0,
          1,
          2,
          0,
          1,
          2,
          0,
          1,
          2,
          0,
          1,
          2,
          0,
          1,
          2,
          0,
          1,
          2,
          3,
          4,
          0,
          1,
          2,
          3,
          4,
          0,
          1,
          2,
          0,
          1,
          2,
          0,
          1,
          2,
          3,
          4,
          7,
          8,
          7,
          8,
          9,
          0,
          1,
          2,
          0,
          1,
          2,
          0,
          1,
          2,
          6,
          7,
          8,
          9,
          0,
          1,
          2,
          0,
          1,
          2,
          0,
          1,
          2,
          3,
          4,
          5,
          6,
          7,
          8,
          9,
          0,
          1,
          2,
          3,
          4,
          7,
          8,
          9,
          0,
          1,
          2,
          3,
          4,
          0,
          1,
          2,
          3,
          4,
          0,
          1,
          2,
          3,
          4,
          5,
          6,
          7,
          8,
          9,
          0,
          1,
          2,
          3,
          7,
          8,
          9,
          0,
          1,
          2,
          3,
          4,
          4,
          0,
          1,
          2,
          3,
          4,
          5,
          6,
          7,
          8,
          9,
          7,
          7,
          8,
          9,
          9,
          7,
          8,
          9,
          4,
          5,
          6,
          7,
          4,
          5,
          6,
          7,
          8,
          9,
          0,
          1,
          2,
          3,
          4,
          5,
          6,
          7,
          8,
          9,
          7,
          7,
          8,
          9,
          7,
          8,
          9,
          4,
          5,
          6,
          7,
          0,
          1,
          2,
          3,
          4,
          5,
          6,
          7,
          0,
          1,
          2,
          3,
          9,
          0,
          1,
          2,
          3,
          4,
          5,
          6,
          7,
          8,
          9,
          7,
          9,
          0,
          1,
          2,
          3,
          4,
          7,
          9,
          0,
          1,
          2,
          3,
          4,
          6,
          7,
          8,
          9,
          0,
          1,
          2,
          3,
          4,
          0,
          1,
          2,
          3,
          4,
          6,
          7,
          8,
          9,
          0,
          1,
          2,
          3,
          4,
          9,
          0,
          1,
          2,
          3,
          4,
          5,
          6,
          7,
          8,
          9,
          0,
          1,
          2,
          3,
          4,
          7,
          8,
          9,
          0,
          1,
          2,
          3,
          4,
          0,
          1,
          2,
          3,
          4,
          5,
          6,
          7,
          0,
          1,
          2,
          3,
          4,
          5,
          6,
          7,
          8,
          9,
          0,
          1,
          2,
          3,
          4,
          5,
          6,
          7,
          8,
          9,
          7,
          9,
          7,
          8,
          9,
          7,
          8,
          9,
          0,
          1,
          2,
          3,
          4,
          5,
          6,
          7,
          8,
          9,
          0,
          1,
          2,
          3,
          4,
          5,
          6,
          7,
          0,
          1,
          2,
          3,
          4,
          5,
          6,
          7,
          8,
          9,
          0,
          1,
          2,
          3,
          4,
          5,
          6,
          7,
          8,
          9,
          0,
          1,
          2,
          3,
          4,
          5,
          6,
          7,
          8,
          9,
          7,
          0,
          1,
          2,
          3,
          4,
          5,
          6,
          7,
          8,
          9,
          7,
          8,
          9,
          0,
          1,
          2,
          3,
          4,
          5,
          6,
          7,
          8,
          9,
          0,
          1,
          2,
          3,
          4,
          5,
          6,
          7,
          9,
          0,
          1,
          2,
          3,
          4,
          5,
          6,
          7,
          8,
          9,
          0,
          1,
          2,
          3,
          4,
          5,
          6,
          7,
          8,
          9,
          0,
          1,
          2,
          3,
          4,
          5,
          6,
          7,
          8,
          9
         ],
         "yaxis": "y4"
        },
        {
         "legendgroup": "True",
         "line": {
          "color": "#000000",
          "width": 2
         },
         "mode": "lines",
         "name": "True",
         "showlegend": false,
         "type": "scatter",
         "x": [
          24,
          24
         ],
         "xaxis": "x4",
         "y": [
          8,
          9
         ],
         "yaxis": "y4"
        },
        {
         "legendgroup": "True",
         "line": {
          "color": "#000000",
          "width": 2
         },
         "mode": "lines",
         "name": "True",
         "showlegend": false,
         "type": "scatter",
         "x": [
          131,
          131
         ],
         "xaxis": "x4",
         "y": [
          7,
          8
         ],
         "yaxis": "y4"
        },
        {
         "legendgroup": "True",
         "line": {
          "color": "#000000",
          "width": 2
         },
         "mode": "lines",
         "name": "True",
         "showlegend": false,
         "type": "scatter",
         "x": [
          23,
          23
         ],
         "xaxis": "x4",
         "y": [
          6,
          9
         ],
         "yaxis": "y4"
        },
        {
         "legendgroup": "True",
         "line": {
          "color": "#000000",
          "width": 2
         },
         "mode": "lines",
         "name": "True",
         "showlegend": false,
         "type": "scatter",
         "x": [
          16,
          16
         ],
         "xaxis": "x4",
         "y": [
          6,
          8
         ],
         "yaxis": "y4"
        },
        {
         "legendgroup": "True",
         "line": {
          "color": "#000000",
          "width": 2
         },
         "mode": "lines",
         "name": "True",
         "showlegend": false,
         "type": "scatter",
         "x": [
          39,
          39
         ],
         "xaxis": "x4",
         "y": [
          6,
          8
         ],
         "yaxis": "y4"
        },
        {
         "legendgroup": "True",
         "line": {
          "color": "#000000",
          "width": 2
         },
         "mode": "lines",
         "name": "True",
         "showlegend": false,
         "type": "scatter",
         "x": [
          39,
          39
         ],
         "xaxis": "x4",
         "y": [
          8,
          9
         ],
         "yaxis": "y4"
        },
        {
         "legendgroup": "True",
         "line": {
          "color": "#000000",
          "width": 2
         },
         "mode": "lines",
         "name": "True",
         "showlegend": false,
         "type": "scatter",
         "x": [
          50,
          50
         ],
         "xaxis": "x4",
         "y": [
          6,
          7
         ],
         "yaxis": "y4"
        },
        {
         "legendgroup": "True",
         "line": {
          "color": "#000000",
          "width": 2
         },
         "mode": "lines",
         "name": "True",
         "showlegend": false,
         "type": "scatter",
         "x": [
          9,
          9
         ],
         "xaxis": "x4",
         "y": [
          5,
          9
         ],
         "yaxis": "y4"
        },
        {
         "legendgroup": "True",
         "line": {
          "color": "#000000",
          "width": 2
         },
         "mode": "lines",
         "name": "True",
         "showlegend": false,
         "type": "scatter",
         "x": [
          7,
          7
         ],
         "xaxis": "x4",
         "y": [
          5,
          8
         ],
         "yaxis": "y4"
        },
        {
         "legendgroup": "True",
         "line": {
          "color": "#000000",
          "width": 2
         },
         "mode": "lines",
         "name": "True",
         "showlegend": false,
         "type": "scatter",
         "x": [
          19,
          19
         ],
         "xaxis": "x4",
         "y": [
          5,
          8
         ],
         "yaxis": "y4"
        },
        {
         "legendgroup": "True",
         "line": {
          "color": "#000000",
          "width": 2
         },
         "mode": "lines",
         "name": "True",
         "showlegend": false,
         "type": "scatter",
         "x": [
          19,
          19
         ],
         "xaxis": "x4",
         "y": [
          8,
          9
         ],
         "yaxis": "y4"
        },
        {
         "legendgroup": "True",
         "line": {
          "color": "#000000",
          "width": 2
         },
         "mode": "lines",
         "name": "True",
         "showlegend": false,
         "type": "scatter",
         "x": [
          25,
          25
         ],
         "xaxis": "x4",
         "y": [
          5,
          7
         ],
         "yaxis": "y4"
        },
        {
         "legendgroup": "True",
         "line": {
          "color": "#000000",
          "width": 2
         },
         "mode": "lines",
         "name": "True",
         "showlegend": false,
         "type": "scatter",
         "x": [
          1,
          1
         ],
         "xaxis": "x4",
         "y": [
          5,
          6
         ],
         "yaxis": "y4"
        },
        {
         "legendgroup": "True",
         "line": {
          "color": "#000000",
          "width": 2
         },
         "mode": "lines",
         "name": "True",
         "showlegend": false,
         "type": "scatter",
         "x": [
          2,
          2
         ],
         "xaxis": "x4",
         "y": [
          5,
          6
         ],
         "yaxis": "y4"
        },
        {
         "legendgroup": "True",
         "line": {
          "color": "#000000",
          "width": 2
         },
         "mode": "lines",
         "name": "True",
         "showlegend": false,
         "type": "scatter",
         "x": [
          2,
          2
         ],
         "xaxis": "x4",
         "y": [
          6,
          9
         ],
         "yaxis": "y4"
        },
        {
         "legendgroup": "True",
         "line": {
          "color": "#000000",
          "width": 2
         },
         "mode": "lines",
         "name": "True",
         "showlegend": false,
         "type": "scatter",
         "x": [
          13,
          13
         ],
         "xaxis": "x4",
         "y": [
          5,
          6
         ],
         "yaxis": "y4"
        },
        {
         "legendgroup": "True",
         "line": {
          "color": "#000000",
          "width": 2
         },
         "mode": "lines",
         "name": "True",
         "showlegend": false,
         "type": "scatter",
         "x": [
          13,
          13
         ],
         "xaxis": "x4",
         "y": [
          6,
          8
         ],
         "yaxis": "y4"
        },
        {
         "legendgroup": "True",
         "line": {
          "color": "#000000",
          "width": 2
         },
         "mode": "lines",
         "name": "True",
         "showlegend": false,
         "type": "scatter",
         "x": [
          28,
          28
         ],
         "xaxis": "x4",
         "y": [
          5,
          6
         ],
         "yaxis": "y4"
        },
        {
         "legendgroup": "True",
         "line": {
          "color": "#000000",
          "width": 2
         },
         "mode": "lines",
         "name": "True",
         "showlegend": false,
         "type": "scatter",
         "x": [
          28,
          28
         ],
         "xaxis": "x4",
         "y": [
          6,
          8
         ],
         "yaxis": "y4"
        },
        {
         "legendgroup": "True",
         "line": {
          "color": "#000000",
          "width": 2
         },
         "mode": "lines",
         "name": "True",
         "showlegend": false,
         "type": "scatter",
         "x": [
          28,
          28
         ],
         "xaxis": "x4",
         "y": [
          8,
          9
         ],
         "yaxis": "y4"
        },
        {
         "legendgroup": "True",
         "line": {
          "color": "#000000",
          "width": 2
         },
         "mode": "lines",
         "name": "True",
         "showlegend": false,
         "type": "scatter",
         "x": [
          42,
          42
         ],
         "xaxis": "x4",
         "y": [
          5,
          6
         ],
         "yaxis": "y4"
        },
        {
         "legendgroup": "True",
         "line": {
          "color": "#000000",
          "width": 2
         },
         "mode": "lines",
         "name": "True",
         "showlegend": false,
         "type": "scatter",
         "x": [
          42,
          42
         ],
         "xaxis": "x4",
         "y": [
          6,
          7
         ],
         "yaxis": "y4"
        },
        {
         "legendgroup": "True",
         "line": {
          "color": "#000000",
          "width": 2
         },
         "mode": "lines",
         "name": "True",
         "showlegend": false,
         "type": "scatter",
         "x": [
          89,
          89
         ],
         "xaxis": "x4",
         "y": [
          5,
          6
         ],
         "yaxis": "y4"
        },
        {
         "legendgroup": "True",
         "line": {
          "color": "#000000",
          "width": 2
         },
         "mode": "lines",
         "name": "True",
         "showlegend": false,
         "type": "scatter",
         "x": [
          89,
          89
         ],
         "xaxis": "x4",
         "y": [
          6,
          7
         ],
         "yaxis": "y4"
        },
        {
         "legendgroup": "True",
         "line": {
          "color": "#000000",
          "width": 2
         },
         "mode": "lines",
         "name": "True",
         "showlegend": false,
         "type": "scatter",
         "x": [
          89,
          89
         ],
         "xaxis": "x4",
         "y": [
          7,
          8
         ],
         "yaxis": "y4"
        },
        {
         "legendgroup": "True",
         "line": {
          "color": "#000000",
          "width": 2
         },
         "mode": "lines",
         "name": "True",
         "showlegend": false,
         "type": "scatter",
         "x": [
          130,
          130
         ],
         "xaxis": "x4",
         "y": [
          4,
          9
         ],
         "yaxis": "y4"
        },
        {
         "legendgroup": "True",
         "line": {
          "color": "#000000",
          "width": 2
         },
         "mode": "lines",
         "name": "True",
         "showlegend": false,
         "type": "scatter",
         "x": [
          129,
          129
         ],
         "xaxis": "x4",
         "y": [
          4,
          8
         ],
         "yaxis": "y4"
        },
        {
         "legendgroup": "True",
         "line": {
          "color": "#000000",
          "width": 2
         },
         "mode": "lines",
         "name": "True",
         "showlegend": false,
         "type": "scatter",
         "x": [
          44,
          44
         ],
         "xaxis": "x4",
         "y": [
          4,
          6
         ],
         "yaxis": "y4"
        },
        {
         "legendgroup": "True",
         "line": {
          "color": "#000000",
          "width": 2
         },
         "mode": "lines",
         "name": "True",
         "showlegend": false,
         "type": "scatter",
         "x": [
          34,
          34
         ],
         "xaxis": "x4",
         "y": [
          4,
          5
         ],
         "yaxis": "y4"
        },
        {
         "legendgroup": "True",
         "line": {
          "color": "#000000",
          "width": 2
         },
         "mode": "lines",
         "name": "True",
         "showlegend": false,
         "type": "scatter",
         "x": [
          54,
          54
         ],
         "xaxis": "x4",
         "y": [
          4,
          5
         ],
         "yaxis": "y4"
        },
        {
         "legendgroup": "True",
         "line": {
          "color": "#000000",
          "width": 2
         },
         "mode": "lines",
         "name": "True",
         "showlegend": false,
         "type": "scatter",
         "x": [
          54,
          54
         ],
         "xaxis": "x4",
         "y": [
          5,
          8
         ],
         "yaxis": "y4"
        },
        {
         "legendgroup": "True",
         "line": {
          "color": "#000000",
          "width": 2
         },
         "mode": "lines",
         "name": "True",
         "showlegend": false,
         "type": "scatter",
         "x": [
          128,
          128
         ],
         "xaxis": "x4",
         "y": [
          4,
          5
         ],
         "yaxis": "y4"
        },
        {
         "legendgroup": "True",
         "line": {
          "color": "#000000",
          "width": 2
         },
         "mode": "lines",
         "name": "True",
         "showlegend": false,
         "type": "scatter",
         "x": [
          128,
          128
         ],
         "xaxis": "x4",
         "y": [
          5,
          7
         ],
         "yaxis": "y4"
        },
        {
         "legendgroup": "True",
         "line": {
          "color": "#000000",
          "width": 2
         },
         "mode": "lines",
         "name": "True",
         "showlegend": false,
         "type": "scatter",
         "x": [
          41,
          41
         ],
         "xaxis": "x4",
         "y": [
          4,
          5
         ],
         "yaxis": "y4"
        },
        {
         "legendgroup": "True",
         "line": {
          "color": "#000000",
          "width": 2
         },
         "mode": "lines",
         "name": "True",
         "showlegend": false,
         "type": "scatter",
         "x": [
          41,
          41
         ],
         "xaxis": "x4",
         "y": [
          5,
          6
         ],
         "yaxis": "y4"
        },
        {
         "legendgroup": "True",
         "line": {
          "color": "#000000",
          "width": 2
         },
         "mode": "lines",
         "name": "True",
         "showlegend": false,
         "type": "scatter",
         "x": [
          73,
          73
         ],
         "xaxis": "x4",
         "y": [
          4,
          5
         ],
         "yaxis": "y4"
        },
        {
         "legendgroup": "True",
         "line": {
          "color": "#000000",
          "width": 2
         },
         "mode": "lines",
         "name": "True",
         "showlegend": false,
         "type": "scatter",
         "x": [
          73,
          73
         ],
         "xaxis": "x4",
         "y": [
          5,
          6
         ],
         "yaxis": "y4"
        },
        {
         "legendgroup": "True",
         "line": {
          "color": "#000000",
          "width": 2
         },
         "mode": "lines",
         "name": "True",
         "showlegend": false,
         "type": "scatter",
         "x": [
          73,
          73
         ],
         "xaxis": "x4",
         "y": [
          6,
          8
         ],
         "yaxis": "y4"
        },
        {
         "legendgroup": "True",
         "line": {
          "color": "#000000",
          "width": 2
         },
         "mode": "lines",
         "name": "True",
         "showlegend": false,
         "type": "scatter",
         "x": [
          127,
          127
         ],
         "xaxis": "x4",
         "y": [
          4,
          5
         ],
         "yaxis": "y4"
        },
        {
         "legendgroup": "True",
         "line": {
          "color": "#000000",
          "width": 2
         },
         "mode": "lines",
         "name": "True",
         "showlegend": false,
         "type": "scatter",
         "x": [
          127,
          127
         ],
         "xaxis": "x4",
         "y": [
          5,
          6
         ],
         "yaxis": "y4"
        },
        {
         "legendgroup": "True",
         "line": {
          "color": "#000000",
          "width": 2
         },
         "mode": "lines",
         "name": "True",
         "showlegend": false,
         "type": "scatter",
         "x": [
          127,
          127
         ],
         "xaxis": "x4",
         "y": [
          6,
          8
         ],
         "yaxis": "y4"
        },
        {
         "legendgroup": "True",
         "line": {
          "color": "#000000",
          "width": 2
         },
         "mode": "lines",
         "name": "True",
         "showlegend": false,
         "type": "scatter",
         "x": [
          127,
          127
         ],
         "xaxis": "x4",
         "y": [
          8,
          9
         ],
         "yaxis": "y4"
        },
        {
         "legendgroup": "True",
         "line": {
          "color": "#000000",
          "width": 2
         },
         "mode": "lines",
         "name": "True",
         "showlegend": false,
         "type": "scatter",
         "x": [
          126,
          126
         ],
         "xaxis": "x4",
         "y": [
          4,
          5
         ],
         "yaxis": "y4"
        },
        {
         "legendgroup": "True",
         "line": {
          "color": "#000000",
          "width": 2
         },
         "mode": "lines",
         "name": "True",
         "showlegend": false,
         "type": "scatter",
         "x": [
          126,
          126
         ],
         "xaxis": "x4",
         "y": [
          5,
          6
         ],
         "yaxis": "y4"
        },
        {
         "legendgroup": "True",
         "line": {
          "color": "#000000",
          "width": 2
         },
         "mode": "lines",
         "name": "True",
         "showlegend": false,
         "type": "scatter",
         "x": [
          126,
          126
         ],
         "xaxis": "x4",
         "y": [
          6,
          7
         ],
         "yaxis": "y4"
        },
        {
         "legendgroup": "True",
         "line": {
          "color": "#000000",
          "width": 2
         },
         "mode": "lines",
         "name": "True",
         "showlegend": false,
         "type": "scatter",
         "x": [
          126,
          126
         ],
         "xaxis": "x4",
         "y": [
          7,
          8
         ],
         "yaxis": "y4"
        },
        {
         "legendgroup": "True",
         "line": {
          "color": "#000000",
          "width": 2
         },
         "mode": "lines",
         "name": "True",
         "showlegend": false,
         "type": "scatter",
         "x": [
          125,
          125
         ],
         "xaxis": "x4",
         "y": [
          3,
          8
         ],
         "yaxis": "y4"
        },
        {
         "legendgroup": "True",
         "line": {
          "color": "#000000",
          "width": 2
         },
         "mode": "lines",
         "name": "True",
         "showlegend": false,
         "type": "scatter",
         "x": [
          124,
          124
         ],
         "xaxis": "x4",
         "y": [
          3,
          8
         ],
         "yaxis": "y4"
        },
        {
         "legendgroup": "True",
         "line": {
          "color": "#000000",
          "width": 2
         },
         "mode": "lines",
         "name": "True",
         "showlegend": false,
         "type": "scatter",
         "x": [
          124,
          124
         ],
         "xaxis": "x4",
         "y": [
          8,
          9
         ],
         "yaxis": "y4"
        },
        {
         "legendgroup": "True",
         "line": {
          "color": "#000000",
          "width": 2
         },
         "mode": "lines",
         "name": "True",
         "showlegend": false,
         "type": "scatter",
         "x": [
          72,
          72
         ],
         "xaxis": "x4",
         "y": [
          3,
          6
         ],
         "yaxis": "y4"
        },
        {
         "legendgroup": "True",
         "line": {
          "color": "#000000",
          "width": 2
         },
         "mode": "lines",
         "name": "True",
         "showlegend": false,
         "type": "scatter",
         "x": [
          88,
          88
         ],
         "xaxis": "x4",
         "y": [
          3,
          6
         ],
         "yaxis": "y4"
        },
        {
         "legendgroup": "True",
         "line": {
          "color": "#000000",
          "width": 2
         },
         "mode": "lines",
         "name": "True",
         "showlegend": false,
         "type": "scatter",
         "x": [
          88,
          88
         ],
         "xaxis": "x4",
         "y": [
          6,
          9
         ],
         "yaxis": "y4"
        },
        {
         "legendgroup": "True",
         "line": {
          "color": "#000000",
          "width": 2
         },
         "mode": "lines",
         "name": "True",
         "showlegend": false,
         "type": "scatter",
         "x": [
          123,
          123
         ],
         "xaxis": "x4",
         "y": [
          3,
          6
         ],
         "yaxis": "y4"
        },
        {
         "legendgroup": "True",
         "line": {
          "color": "#000000",
          "width": 2
         },
         "mode": "lines",
         "name": "True",
         "showlegend": false,
         "type": "scatter",
         "x": [
          123,
          123
         ],
         "xaxis": "x4",
         "y": [
          6,
          8
         ],
         "yaxis": "y4"
        },
        {
         "legendgroup": "True",
         "line": {
          "color": "#000000",
          "width": 2
         },
         "mode": "lines",
         "name": "True",
         "showlegend": false,
         "type": "scatter",
         "x": [
          38,
          38
         ],
         "xaxis": "x4",
         "y": [
          3,
          5
         ],
         "yaxis": "y4"
        },
        {
         "legendgroup": "True",
         "line": {
          "color": "#000000",
          "width": 2
         },
         "mode": "lines",
         "name": "True",
         "showlegend": false,
         "type": "scatter",
         "x": [
          87,
          87
         ],
         "xaxis": "x4",
         "y": [
          3,
          5
         ],
         "yaxis": "y4"
        },
        {
         "legendgroup": "True",
         "line": {
          "color": "#000000",
          "width": 2
         },
         "mode": "lines",
         "name": "True",
         "showlegend": false,
         "type": "scatter",
         "x": [
          87,
          87
         ],
         "xaxis": "x4",
         "y": [
          5,
          9
         ],
         "yaxis": "y4"
        },
        {
         "legendgroup": "True",
         "line": {
          "color": "#000000",
          "width": 2
         },
         "mode": "lines",
         "name": "True",
         "showlegend": false,
         "type": "scatter",
         "x": [
          71,
          71
         ],
         "xaxis": "x4",
         "y": [
          3,
          5
         ],
         "yaxis": "y4"
        },
        {
         "legendgroup": "True",
         "line": {
          "color": "#000000",
          "width": 2
         },
         "mode": "lines",
         "name": "True",
         "showlegend": false,
         "type": "scatter",
         "x": [
          71,
          71
         ],
         "xaxis": "x4",
         "y": [
          5,
          8
         ],
         "yaxis": "y4"
        },
        {
         "legendgroup": "True",
         "line": {
          "color": "#000000",
          "width": 2
         },
         "mode": "lines",
         "name": "True",
         "showlegend": false,
         "type": "scatter",
         "x": [
          48,
          48
         ],
         "xaxis": "x4",
         "y": [
          3,
          5
         ],
         "yaxis": "y4"
        },
        {
         "legendgroup": "True",
         "line": {
          "color": "#000000",
          "width": 2
         },
         "mode": "lines",
         "name": "True",
         "showlegend": false,
         "type": "scatter",
         "x": [
          48,
          48
         ],
         "xaxis": "x4",
         "y": [
          5,
          6
         ],
         "yaxis": "y4"
        },
        {
         "legendgroup": "True",
         "line": {
          "color": "#000000",
          "width": 2
         },
         "mode": "lines",
         "name": "True",
         "showlegend": false,
         "type": "scatter",
         "x": [
          122,
          122
         ],
         "xaxis": "x4",
         "y": [
          3,
          5
         ],
         "yaxis": "y4"
        },
        {
         "legendgroup": "True",
         "line": {
          "color": "#000000",
          "width": 2
         },
         "mode": "lines",
         "name": "True",
         "showlegend": false,
         "type": "scatter",
         "x": [
          122,
          122
         ],
         "xaxis": "x4",
         "y": [
          5,
          6
         ],
         "yaxis": "y4"
        },
        {
         "legendgroup": "True",
         "line": {
          "color": "#000000",
          "width": 2
         },
         "mode": "lines",
         "name": "True",
         "showlegend": false,
         "type": "scatter",
         "x": [
          122,
          122
         ],
         "xaxis": "x4",
         "y": [
          6,
          8
         ],
         "yaxis": "y4"
        },
        {
         "legendgroup": "True",
         "line": {
          "color": "#000000",
          "width": 2
         },
         "mode": "lines",
         "name": "True",
         "showlegend": false,
         "type": "scatter",
         "x": [
          86,
          86
         ],
         "xaxis": "x4",
         "y": [
          3,
          5
         ],
         "yaxis": "y4"
        },
        {
         "legendgroup": "True",
         "line": {
          "color": "#000000",
          "width": 2
         },
         "mode": "lines",
         "name": "True",
         "showlegend": false,
         "type": "scatter",
         "x": [
          86,
          86
         ],
         "xaxis": "x4",
         "y": [
          5,
          6
         ],
         "yaxis": "y4"
        },
        {
         "legendgroup": "True",
         "line": {
          "color": "#000000",
          "width": 2
         },
         "mode": "lines",
         "name": "True",
         "showlegend": false,
         "type": "scatter",
         "x": [
          86,
          86
         ],
         "xaxis": "x4",
         "y": [
          6,
          8
         ],
         "yaxis": "y4"
        },
        {
         "legendgroup": "True",
         "line": {
          "color": "#000000",
          "width": 2
         },
         "mode": "lines",
         "name": "True",
         "showlegend": false,
         "type": "scatter",
         "x": [
          86,
          86
         ],
         "xaxis": "x4",
         "y": [
          8,
          9
         ],
         "yaxis": "y4"
        },
        {
         "legendgroup": "True",
         "line": {
          "color": "#000000",
          "width": 2
         },
         "mode": "lines",
         "name": "True",
         "showlegend": false,
         "type": "scatter",
         "x": [
          121,
          121
         ],
         "xaxis": "x4",
         "y": [
          3,
          5
         ],
         "yaxis": "y4"
        },
        {
         "legendgroup": "True",
         "line": {
          "color": "#000000",
          "width": 2
         },
         "mode": "lines",
         "name": "True",
         "showlegend": false,
         "type": "scatter",
         "x": [
          121,
          121
         ],
         "xaxis": "x4",
         "y": [
          5,
          6
         ],
         "yaxis": "y4"
        },
        {
         "legendgroup": "True",
         "line": {
          "color": "#000000",
          "width": 2
         },
         "mode": "lines",
         "name": "True",
         "showlegend": false,
         "type": "scatter",
         "x": [
          121,
          121
         ],
         "xaxis": "x4",
         "y": [
          6,
          7
         ],
         "yaxis": "y4"
        },
        {
         "legendgroup": "True",
         "line": {
          "color": "#000000",
          "width": 2
         },
         "mode": "lines",
         "name": "True",
         "showlegend": false,
         "type": "scatter",
         "x": [
          70,
          70
         ],
         "xaxis": "x4",
         "y": [
          3,
          4
         ],
         "yaxis": "y4"
        },
        {
         "legendgroup": "True",
         "line": {
          "color": "#000000",
          "width": 2
         },
         "mode": "lines",
         "name": "True",
         "showlegend": false,
         "type": "scatter",
         "x": [
          120,
          120
         ],
         "xaxis": "x4",
         "y": [
          3,
          4
         ],
         "yaxis": "y4"
        },
        {
         "legendgroup": "True",
         "line": {
          "color": "#000000",
          "width": 2
         },
         "mode": "lines",
         "name": "True",
         "showlegend": false,
         "type": "scatter",
         "x": [
          120,
          120
         ],
         "xaxis": "x4",
         "y": [
          4,
          6
         ],
         "yaxis": "y4"
        },
        {
         "legendgroup": "True",
         "line": {
          "color": "#000000",
          "width": 2
         },
         "mode": "lines",
         "name": "True",
         "showlegend": false,
         "type": "scatter",
         "x": [
          69,
          69
         ],
         "xaxis": "x4",
         "y": [
          3,
          4
         ],
         "yaxis": "y4"
        },
        {
         "legendgroup": "True",
         "line": {
          "color": "#000000",
          "width": 2
         },
         "mode": "lines",
         "name": "True",
         "showlegend": false,
         "type": "scatter",
         "x": [
          69,
          69
         ],
         "xaxis": "x4",
         "y": [
          4,
          5
         ],
         "yaxis": "y4"
        },
        {
         "legendgroup": "True",
         "line": {
          "color": "#000000",
          "width": 2
         },
         "mode": "lines",
         "name": "True",
         "showlegend": false,
         "type": "scatter",
         "x": [
          85,
          85
         ],
         "xaxis": "x4",
         "y": [
          3,
          4
         ],
         "yaxis": "y4"
        },
        {
         "legendgroup": "True",
         "line": {
          "color": "#000000",
          "width": 2
         },
         "mode": "lines",
         "name": "True",
         "showlegend": false,
         "type": "scatter",
         "x": [
          85,
          85
         ],
         "xaxis": "x4",
         "y": [
          4,
          5
         ],
         "yaxis": "y4"
        },
        {
         "legendgroup": "True",
         "line": {
          "color": "#000000",
          "width": 2
         },
         "mode": "lines",
         "name": "True",
         "showlegend": false,
         "type": "scatter",
         "x": [
          85,
          85
         ],
         "xaxis": "x4",
         "y": [
          5,
          6
         ],
         "yaxis": "y4"
        },
        {
         "legendgroup": "True",
         "line": {
          "color": "#000000",
          "width": 2
         },
         "mode": "lines",
         "name": "True",
         "showlegend": false,
         "type": "scatter",
         "x": [
          60,
          60
         ],
         "xaxis": "x4",
         "y": [
          2,
          5
         ],
         "yaxis": "y4"
        },
        {
         "legendgroup": "True",
         "line": {
          "color": "#000000",
          "width": 2
         },
         "mode": "lines",
         "name": "True",
         "showlegend": false,
         "type": "scatter",
         "x": [
          119,
          119
         ],
         "xaxis": "x4",
         "y": [
          2,
          5
         ],
         "yaxis": "y4"
        },
        {
         "legendgroup": "True",
         "line": {
          "color": "#000000",
          "width": 2
         },
         "mode": "lines",
         "name": "True",
         "showlegend": false,
         "type": "scatter",
         "x": [
          119,
          119
         ],
         "xaxis": "x4",
         "y": [
          5,
          6
         ],
         "yaxis": "y4"
        },
        {
         "legendgroup": "True",
         "line": {
          "color": "#000000",
          "width": 2
         },
         "mode": "lines",
         "name": "True",
         "showlegend": false,
         "type": "scatter",
         "x": [
          118,
          118
         ],
         "xaxis": "x4",
         "y": [
          2,
          5
         ],
         "yaxis": "y4"
        },
        {
         "legendgroup": "True",
         "line": {
          "color": "#000000",
          "width": 2
         },
         "mode": "lines",
         "name": "True",
         "showlegend": false,
         "type": "scatter",
         "x": [
          118,
          118
         ],
         "xaxis": "x4",
         "y": [
          5,
          6
         ],
         "yaxis": "y4"
        },
        {
         "legendgroup": "True",
         "line": {
          "color": "#000000",
          "width": 2
         },
         "mode": "lines",
         "name": "True",
         "showlegend": false,
         "type": "scatter",
         "x": [
          118,
          118
         ],
         "xaxis": "x4",
         "y": [
          6,
          9
         ],
         "yaxis": "y4"
        },
        {
         "legendgroup": "True",
         "line": {
          "color": "#000000",
          "width": 2
         },
         "mode": "lines",
         "name": "True",
         "showlegend": false,
         "type": "scatter",
         "x": [
          43,
          43
         ],
         "xaxis": "x4",
         "y": [
          1,
          9
         ],
         "yaxis": "y4"
        },
        {
         "legendgroup": "True",
         "line": {
          "color": "#000000",
          "width": 2
         },
         "mode": "lines",
         "name": "True",
         "showlegend": false,
         "type": "scatter",
         "x": [
          40,
          40
         ],
         "xaxis": "x4",
         "y": [
          1,
          8
         ],
         "yaxis": "y4"
        },
        {
         "legendgroup": "True",
         "line": {
          "color": "#000000",
          "width": 2
         },
         "mode": "lines",
         "name": "True",
         "showlegend": false,
         "type": "scatter",
         "x": [
          117,
          117
         ],
         "xaxis": "x4",
         "y": [
          1,
          7
         ],
         "yaxis": "y4"
        },
        {
         "legendgroup": "True",
         "line": {
          "color": "#000000",
          "width": 2
         },
         "mode": "lines",
         "name": "True",
         "showlegend": false,
         "type": "scatter",
         "x": [
          17,
          17
         ],
         "xaxis": "x4",
         "y": [
          1,
          6
         ],
         "yaxis": "y4"
        },
        {
         "legendgroup": "True",
         "line": {
          "color": "#000000",
          "width": 2
         },
         "mode": "lines",
         "name": "True",
         "showlegend": false,
         "type": "scatter",
         "x": [
          116,
          116
         ],
         "xaxis": "x4",
         "y": [
          1,
          6
         ],
         "yaxis": "y4"
        },
        {
         "legendgroup": "True",
         "line": {
          "color": "#000000",
          "width": 2
         },
         "mode": "lines",
         "name": "True",
         "showlegend": false,
         "type": "scatter",
         "x": [
          116,
          116
         ],
         "xaxis": "x4",
         "y": [
          6,
          9
         ],
         "yaxis": "y4"
        },
        {
         "legendgroup": "True",
         "line": {
          "color": "#000000",
          "width": 2
         },
         "mode": "lines",
         "name": "True",
         "showlegend": false,
         "type": "scatter",
         "x": [
          37,
          37
         ],
         "xaxis": "x4",
         "y": [
          1,
          6
         ],
         "yaxis": "y4"
        },
        {
         "legendgroup": "True",
         "line": {
          "color": "#000000",
          "width": 2
         },
         "mode": "lines",
         "name": "True",
         "showlegend": false,
         "type": "scatter",
         "x": [
          37,
          37
         ],
         "xaxis": "x4",
         "y": [
          6,
          8
         ],
         "yaxis": "y4"
        },
        {
         "legendgroup": "True",
         "line": {
          "color": "#000000",
          "width": 2
         },
         "mode": "lines",
         "name": "True",
         "showlegend": false,
         "type": "scatter",
         "x": [
          115,
          115
         ],
         "xaxis": "x4",
         "y": [
          1,
          6
         ],
         "yaxis": "y4"
        },
        {
         "legendgroup": "True",
         "line": {
          "color": "#000000",
          "width": 2
         },
         "mode": "lines",
         "name": "True",
         "showlegend": false,
         "type": "scatter",
         "x": [
          115,
          115
         ],
         "xaxis": "x4",
         "y": [
          6,
          7
         ],
         "yaxis": "y4"
        },
        {
         "legendgroup": "True",
         "line": {
          "color": "#000000",
          "width": 2
         },
         "mode": "lines",
         "name": "True",
         "showlegend": false,
         "type": "scatter",
         "x": [
          14,
          14
         ],
         "xaxis": "x4",
         "y": [
          1,
          5
         ],
         "yaxis": "y4"
        },
        {
         "legendgroup": "True",
         "line": {
          "color": "#000000",
          "width": 2
         },
         "mode": "lines",
         "name": "True",
         "showlegend": false,
         "type": "scatter",
         "x": [
          31,
          31
         ],
         "xaxis": "x4",
         "y": [
          1,
          5
         ],
         "yaxis": "y4"
        },
        {
         "legendgroup": "True",
         "line": {
          "color": "#000000",
          "width": 2
         },
         "mode": "lines",
         "name": "True",
         "showlegend": false,
         "type": "scatter",
         "x": [
          31,
          31
         ],
         "xaxis": "x4",
         "y": [
          5,
          9
         ],
         "yaxis": "y4"
        },
        {
         "legendgroup": "True",
         "line": {
          "color": "#000000",
          "width": 2
         },
         "mode": "lines",
         "name": "True",
         "showlegend": false,
         "type": "scatter",
         "x": [
          45,
          45
         ],
         "xaxis": "x4",
         "y": [
          1,
          5
         ],
         "yaxis": "y4"
        },
        {
         "legendgroup": "True",
         "line": {
          "color": "#000000",
          "width": 2
         },
         "mode": "lines",
         "name": "True",
         "showlegend": false,
         "type": "scatter",
         "x": [
          45,
          45
         ],
         "xaxis": "x4",
         "y": [
          5,
          8
         ],
         "yaxis": "y4"
        },
        {
         "legendgroup": "True",
         "line": {
          "color": "#000000",
          "width": 2
         },
         "mode": "lines",
         "name": "True",
         "showlegend": false,
         "type": "scatter",
         "x": [
          59,
          59
         ],
         "xaxis": "x4",
         "y": [
          1,
          5
         ],
         "yaxis": "y4"
        },
        {
         "legendgroup": "True",
         "line": {
          "color": "#000000",
          "width": 2
         },
         "mode": "lines",
         "name": "True",
         "showlegend": false,
         "type": "scatter",
         "x": [
          59,
          59
         ],
         "xaxis": "x4",
         "y": [
          5,
          8
         ],
         "yaxis": "y4"
        },
        {
         "legendgroup": "True",
         "line": {
          "color": "#000000",
          "width": 2
         },
         "mode": "lines",
         "name": "True",
         "showlegend": false,
         "type": "scatter",
         "x": [
          59,
          59
         ],
         "xaxis": "x4",
         "y": [
          8,
          9
         ],
         "yaxis": "y4"
        },
        {
         "legendgroup": "True",
         "line": {
          "color": "#000000",
          "width": 2
         },
         "mode": "lines",
         "name": "True",
         "showlegend": false,
         "type": "scatter",
         "x": [
          15,
          15
         ],
         "xaxis": "x4",
         "y": [
          1,
          5
         ],
         "yaxis": "y4"
        },
        {
         "legendgroup": "True",
         "line": {
          "color": "#000000",
          "width": 2
         },
         "mode": "lines",
         "name": "True",
         "showlegend": false,
         "type": "scatter",
         "x": [
          15,
          15
         ],
         "xaxis": "x4",
         "y": [
          5,
          6
         ],
         "yaxis": "y4"
        },
        {
         "legendgroup": "True",
         "line": {
          "color": "#000000",
          "width": 2
         },
         "mode": "lines",
         "name": "True",
         "showlegend": false,
         "type": "scatter",
         "x": [
          11,
          11
         ],
         "xaxis": "x4",
         "y": [
          1,
          5
         ],
         "yaxis": "y4"
        },
        {
         "legendgroup": "True",
         "line": {
          "color": "#000000",
          "width": 2
         },
         "mode": "lines",
         "name": "True",
         "showlegend": false,
         "type": "scatter",
         "x": [
          11,
          11
         ],
         "xaxis": "x4",
         "y": [
          5,
          6
         ],
         "yaxis": "y4"
        },
        {
         "legendgroup": "True",
         "line": {
          "color": "#000000",
          "width": 2
         },
         "mode": "lines",
         "name": "True",
         "showlegend": false,
         "type": "scatter",
         "x": [
          11,
          11
         ],
         "xaxis": "x4",
         "y": [
          6,
          9
         ],
         "yaxis": "y4"
        },
        {
         "legendgroup": "True",
         "line": {
          "color": "#000000",
          "width": 2
         },
         "mode": "lines",
         "name": "True",
         "showlegend": false,
         "type": "scatter",
         "x": [
          29,
          29
         ],
         "xaxis": "x4",
         "y": [
          1,
          5
         ],
         "yaxis": "y4"
        },
        {
         "legendgroup": "True",
         "line": {
          "color": "#000000",
          "width": 2
         },
         "mode": "lines",
         "name": "True",
         "showlegend": false,
         "type": "scatter",
         "x": [
          29,
          29
         ],
         "xaxis": "x4",
         "y": [
          5,
          6
         ],
         "yaxis": "y4"
        },
        {
         "legendgroup": "True",
         "line": {
          "color": "#000000",
          "width": 2
         },
         "mode": "lines",
         "name": "True",
         "showlegend": false,
         "type": "scatter",
         "x": [
          29,
          29
         ],
         "xaxis": "x4",
         "y": [
          6,
          8
         ],
         "yaxis": "y4"
        },
        {
         "legendgroup": "True",
         "line": {
          "color": "#000000",
          "width": 2
         },
         "mode": "lines",
         "name": "True",
         "showlegend": false,
         "type": "scatter",
         "x": [
          58,
          58
         ],
         "xaxis": "x4",
         "y": [
          1,
          5
         ],
         "yaxis": "y4"
        },
        {
         "legendgroup": "True",
         "line": {
          "color": "#000000",
          "width": 2
         },
         "mode": "lines",
         "name": "True",
         "showlegend": false,
         "type": "scatter",
         "x": [
          58,
          58
         ],
         "xaxis": "x4",
         "y": [
          5,
          6
         ],
         "yaxis": "y4"
        },
        {
         "legendgroup": "True",
         "line": {
          "color": "#000000",
          "width": 2
         },
         "mode": "lines",
         "name": "True",
         "showlegend": false,
         "type": "scatter",
         "x": [
          58,
          58
         ],
         "xaxis": "x4",
         "y": [
          6,
          8
         ],
         "yaxis": "y4"
        },
        {
         "legendgroup": "True",
         "line": {
          "color": "#000000",
          "width": 2
         },
         "mode": "lines",
         "name": "True",
         "showlegend": false,
         "type": "scatter",
         "x": [
          58,
          58
         ],
         "xaxis": "x4",
         "y": [
          8,
          9
         ],
         "yaxis": "y4"
        },
        {
         "legendgroup": "True",
         "line": {
          "color": "#000000",
          "width": 2
         },
         "mode": "lines",
         "name": "True",
         "showlegend": false,
         "type": "scatter",
         "x": [
          68,
          68
         ],
         "xaxis": "x4",
         "y": [
          1,
          5
         ],
         "yaxis": "y4"
        },
        {
         "legendgroup": "True",
         "line": {
          "color": "#000000",
          "width": 2
         },
         "mode": "lines",
         "name": "True",
         "showlegend": false,
         "type": "scatter",
         "x": [
          68,
          68
         ],
         "xaxis": "x4",
         "y": [
          5,
          6
         ],
         "yaxis": "y4"
        },
        {
         "legendgroup": "True",
         "line": {
          "color": "#000000",
          "width": 2
         },
         "mode": "lines",
         "name": "True",
         "showlegend": false,
         "type": "scatter",
         "x": [
          68,
          68
         ],
         "xaxis": "x4",
         "y": [
          6,
          7
         ],
         "yaxis": "y4"
        },
        {
         "legendgroup": "True",
         "line": {
          "color": "#000000",
          "width": 2
         },
         "mode": "lines",
         "name": "True",
         "showlegend": false,
         "type": "scatter",
         "x": [
          84,
          84
         ],
         "xaxis": "x4",
         "y": [
          1,
          4
         ],
         "yaxis": "y4"
        },
        {
         "legendgroup": "True",
         "line": {
          "color": "#000000",
          "width": 2
         },
         "mode": "lines",
         "name": "True",
         "showlegend": false,
         "type": "scatter",
         "x": [
          114,
          114
         ],
         "xaxis": "x4",
         "y": [
          1,
          4
         ],
         "yaxis": "y4"
        },
        {
         "legendgroup": "True",
         "line": {
          "color": "#000000",
          "width": 2
         },
         "mode": "lines",
         "name": "True",
         "showlegend": false,
         "type": "scatter",
         "x": [
          114,
          114
         ],
         "xaxis": "x4",
         "y": [
          4,
          5
         ],
         "yaxis": "y4"
        },
        {
         "legendgroup": "True",
         "line": {
          "color": "#000000",
          "width": 2
         },
         "mode": "lines",
         "name": "True",
         "showlegend": false,
         "type": "scatter",
         "x": [
          113,
          113
         ],
         "xaxis": "x4",
         "y": [
          1,
          4
         ],
         "yaxis": "y4"
        },
        {
         "legendgroup": "True",
         "line": {
          "color": "#000000",
          "width": 2
         },
         "mode": "lines",
         "name": "True",
         "showlegend": false,
         "type": "scatter",
         "x": [
          113,
          113
         ],
         "xaxis": "x4",
         "y": [
          4,
          5
         ],
         "yaxis": "y4"
        },
        {
         "legendgroup": "True",
         "line": {
          "color": "#000000",
          "width": 2
         },
         "mode": "lines",
         "name": "True",
         "showlegend": false,
         "type": "scatter",
         "x": [
          113,
          113
         ],
         "xaxis": "x4",
         "y": [
          5,
          6
         ],
         "yaxis": "y4"
        },
        {
         "legendgroup": "True",
         "line": {
          "color": "#000000",
          "width": 2
         },
         "mode": "lines",
         "name": "True",
         "showlegend": false,
         "type": "scatter",
         "x": [
          67,
          67
         ],
         "xaxis": "x4",
         "y": [
          1,
          3
         ],
         "yaxis": "y4"
        },
        {
         "legendgroup": "True",
         "line": {
          "color": "#000000",
          "width": 2
         },
         "mode": "lines",
         "name": "True",
         "showlegend": false,
         "type": "scatter",
         "x": [
          112,
          112
         ],
         "xaxis": "x4",
         "y": [
          1,
          3
         ],
         "yaxis": "y4"
        },
        {
         "legendgroup": "True",
         "line": {
          "color": "#000000",
          "width": 2
         },
         "mode": "lines",
         "name": "True",
         "showlegend": false,
         "type": "scatter",
         "x": [
          112,
          112
         ],
         "xaxis": "x4",
         "y": [
          3,
          9
         ],
         "yaxis": "y4"
        },
        {
         "legendgroup": "True",
         "line": {
          "color": "#000000",
          "width": 2
         },
         "mode": "lines",
         "name": "True",
         "showlegend": false,
         "type": "scatter",
         "x": [
          111,
          111
         ],
         "xaxis": "x4",
         "y": [
          1,
          3
         ],
         "yaxis": "y4"
        },
        {
         "legendgroup": "True",
         "line": {
          "color": "#000000",
          "width": 2
         },
         "mode": "lines",
         "name": "True",
         "showlegend": false,
         "type": "scatter",
         "x": [
          111,
          111
         ],
         "xaxis": "x4",
         "y": [
          3,
          6
         ],
         "yaxis": "y4"
        },
        {
         "legendgroup": "True",
         "line": {
          "color": "#000000",
          "width": 2
         },
         "mode": "lines",
         "name": "True",
         "showlegend": false,
         "type": "scatter",
         "x": [
          111,
          111
         ],
         "xaxis": "x4",
         "y": [
          6,
          9
         ],
         "yaxis": "y4"
        },
        {
         "legendgroup": "True",
         "line": {
          "color": "#000000",
          "width": 2
         },
         "mode": "lines",
         "name": "True",
         "showlegend": false,
         "type": "scatter",
         "x": [
          56,
          56
         ],
         "xaxis": "x4",
         "y": [
          1,
          3
         ],
         "yaxis": "y4"
        },
        {
         "legendgroup": "True",
         "line": {
          "color": "#000000",
          "width": 2
         },
         "mode": "lines",
         "name": "True",
         "showlegend": false,
         "type": "scatter",
         "x": [
          56,
          56
         ],
         "xaxis": "x4",
         "y": [
          3,
          5
         ],
         "yaxis": "y4"
        },
        {
         "legendgroup": "True",
         "line": {
          "color": "#000000",
          "width": 2
         },
         "mode": "lines",
         "name": "True",
         "showlegend": false,
         "type": "scatter",
         "x": [
          62,
          62
         ],
         "xaxis": "x4",
         "y": [
          1,
          3
         ],
         "yaxis": "y4"
        },
        {
         "legendgroup": "True",
         "line": {
          "color": "#000000",
          "width": 2
         },
         "mode": "lines",
         "name": "True",
         "showlegend": false,
         "type": "scatter",
         "x": [
          62,
          62
         ],
         "xaxis": "x4",
         "y": [
          3,
          5
         ],
         "yaxis": "y4"
        },
        {
         "legendgroup": "True",
         "line": {
          "color": "#000000",
          "width": 2
         },
         "mode": "lines",
         "name": "True",
         "showlegend": false,
         "type": "scatter",
         "x": [
          62,
          62
         ],
         "xaxis": "x4",
         "y": [
          5,
          6
         ],
         "yaxis": "y4"
        },
        {
         "legendgroup": "True",
         "line": {
          "color": "#000000",
          "width": 2
         },
         "mode": "lines",
         "name": "True",
         "showlegend": false,
         "type": "scatter",
         "x": [
          110,
          110
         ],
         "xaxis": "x4",
         "y": [
          1,
          3
         ],
         "yaxis": "y4"
        },
        {
         "legendgroup": "True",
         "line": {
          "color": "#000000",
          "width": 2
         },
         "mode": "lines",
         "name": "True",
         "showlegend": false,
         "type": "scatter",
         "x": [
          110,
          110
         ],
         "xaxis": "x4",
         "y": [
          3,
          4
         ],
         "yaxis": "y4"
        },
        {
         "legendgroup": "True",
         "line": {
          "color": "#000000",
          "width": 2
         },
         "mode": "lines",
         "name": "True",
         "showlegend": false,
         "type": "scatter",
         "x": [
          110,
          110
         ],
         "xaxis": "x4",
         "y": [
          4,
          5
         ],
         "yaxis": "y4"
        },
        {
         "legendgroup": "True",
         "line": {
          "color": "#000000",
          "width": 2
         },
         "mode": "lines",
         "name": "True",
         "showlegend": false,
         "type": "scatter",
         "x": [
          110,
          110
         ],
         "xaxis": "x4",
         "y": [
          5,
          8
         ],
         "yaxis": "y4"
        },
        {
         "legendgroup": "True",
         "line": {
          "color": "#000000",
          "width": 2
         },
         "mode": "lines",
         "name": "True",
         "showlegend": false,
         "type": "scatter",
         "x": [
          109,
          109
         ],
         "xaxis": "x4",
         "y": [
          0,
          9
         ],
         "yaxis": "y4"
        },
        {
         "legendgroup": "True",
         "line": {
          "color": "#000000",
          "width": 2
         },
         "mode": "lines",
         "name": "True",
         "showlegend": false,
         "type": "scatter",
         "x": [
          26,
          26
         ],
         "xaxis": "x4",
         "y": [
          0,
          8
         ],
         "yaxis": "y4"
        },
        {
         "legendgroup": "True",
         "line": {
          "color": "#000000",
          "width": 2
         },
         "mode": "lines",
         "name": "True",
         "showlegend": false,
         "type": "scatter",
         "x": [
          66,
          66
         ],
         "xaxis": "x4",
         "y": [
          0,
          8
         ],
         "yaxis": "y4"
        },
        {
         "legendgroup": "True",
         "line": {
          "color": "#000000",
          "width": 2
         },
         "mode": "lines",
         "name": "True",
         "showlegend": false,
         "type": "scatter",
         "x": [
          66,
          66
         ],
         "xaxis": "x4",
         "y": [
          8,
          9
         ],
         "yaxis": "y4"
        },
        {
         "legendgroup": "True",
         "line": {
          "color": "#000000",
          "width": 2
         },
         "mode": "lines",
         "name": "True",
         "showlegend": false,
         "type": "scatter",
         "x": [
          108,
          108
         ],
         "xaxis": "x4",
         "y": [
          0,
          7
         ],
         "yaxis": "y4"
        },
        {
         "legendgroup": "True",
         "line": {
          "color": "#000000",
          "width": 2
         },
         "mode": "lines",
         "name": "True",
         "showlegend": false,
         "type": "scatter",
         "x": [
          30,
          30
         ],
         "xaxis": "x4",
         "y": [
          0,
          6
         ],
         "yaxis": "y4"
        },
        {
         "legendgroup": "True",
         "line": {
          "color": "#000000",
          "width": 2
         },
         "mode": "lines",
         "name": "True",
         "showlegend": false,
         "type": "scatter",
         "x": [
          107,
          107
         ],
         "xaxis": "x4",
         "y": [
          0,
          6
         ],
         "yaxis": "y4"
        },
        {
         "legendgroup": "True",
         "line": {
          "color": "#000000",
          "width": 2
         },
         "mode": "lines",
         "name": "True",
         "showlegend": false,
         "type": "scatter",
         "x": [
          107,
          107
         ],
         "xaxis": "x4",
         "y": [
          6,
          8
         ],
         "yaxis": "y4"
        },
        {
         "legendgroup": "True",
         "line": {
          "color": "#000000",
          "width": 2
         },
         "mode": "lines",
         "name": "True",
         "showlegend": false,
         "type": "scatter",
         "x": [
          106,
          106
         ],
         "xaxis": "x4",
         "y": [
          0,
          6
         ],
         "yaxis": "y4"
        },
        {
         "legendgroup": "True",
         "line": {
          "color": "#000000",
          "width": 2
         },
         "mode": "lines",
         "name": "True",
         "showlegend": false,
         "type": "scatter",
         "x": [
          106,
          106
         ],
         "xaxis": "x4",
         "y": [
          6,
          8
         ],
         "yaxis": "y4"
        },
        {
         "legendgroup": "True",
         "line": {
          "color": "#000000",
          "width": 2
         },
         "mode": "lines",
         "name": "True",
         "showlegend": false,
         "type": "scatter",
         "x": [
          106,
          106
         ],
         "xaxis": "x4",
         "y": [
          8,
          9
         ],
         "yaxis": "y4"
        },
        {
         "legendgroup": "True",
         "line": {
          "color": "#000000",
          "width": 2
         },
         "mode": "lines",
         "name": "True",
         "showlegend": false,
         "type": "scatter",
         "x": [
          21,
          21
         ],
         "xaxis": "x4",
         "y": [
          0,
          5
         ],
         "yaxis": "y4"
        },
        {
         "legendgroup": "True",
         "line": {
          "color": "#000000",
          "width": 2
         },
         "mode": "lines",
         "name": "True",
         "showlegend": false,
         "type": "scatter",
         "x": [
          61,
          61
         ],
         "xaxis": "x4",
         "y": [
          0,
          5
         ],
         "yaxis": "y4"
        },
        {
         "legendgroup": "True",
         "line": {
          "color": "#000000",
          "width": 2
         },
         "mode": "lines",
         "name": "True",
         "showlegend": false,
         "type": "scatter",
         "x": [
          61,
          61
         ],
         "xaxis": "x4",
         "y": [
          5,
          9
         ],
         "yaxis": "y4"
        },
        {
         "legendgroup": "True",
         "line": {
          "color": "#000000",
          "width": 2
         },
         "mode": "lines",
         "name": "True",
         "showlegend": false,
         "type": "scatter",
         "x": [
          46,
          46
         ],
         "xaxis": "x4",
         "y": [
          0,
          5
         ],
         "yaxis": "y4"
        },
        {
         "legendgroup": "True",
         "line": {
          "color": "#000000",
          "width": 2
         },
         "mode": "lines",
         "name": "True",
         "showlegend": false,
         "type": "scatter",
         "x": [
          46,
          46
         ],
         "xaxis": "x4",
         "y": [
          5,
          8
         ],
         "yaxis": "y4"
        },
        {
         "legendgroup": "True",
         "line": {
          "color": "#000000",
          "width": 2
         },
         "mode": "lines",
         "name": "True",
         "showlegend": false,
         "type": "scatter",
         "x": [
          83,
          83
         ],
         "xaxis": "x4",
         "y": [
          0,
          5
         ],
         "yaxis": "y4"
        },
        {
         "legendgroup": "True",
         "line": {
          "color": "#000000",
          "width": 2
         },
         "mode": "lines",
         "name": "True",
         "showlegend": false,
         "type": "scatter",
         "x": [
          83,
          83
         ],
         "xaxis": "x4",
         "y": [
          5,
          8
         ],
         "yaxis": "y4"
        },
        {
         "legendgroup": "True",
         "line": {
          "color": "#000000",
          "width": 2
         },
         "mode": "lines",
         "name": "True",
         "showlegend": false,
         "type": "scatter",
         "x": [
          83,
          83
         ],
         "xaxis": "x4",
         "y": [
          8,
          9
         ],
         "yaxis": "y4"
        },
        {
         "legendgroup": "True",
         "line": {
          "color": "#000000",
          "width": 2
         },
         "mode": "lines",
         "name": "True",
         "showlegend": false,
         "type": "scatter",
         "x": [
          82,
          82
         ],
         "xaxis": "x4",
         "y": [
          0,
          5
         ],
         "yaxis": "y4"
        },
        {
         "legendgroup": "True",
         "line": {
          "color": "#000000",
          "width": 2
         },
         "mode": "lines",
         "name": "True",
         "showlegend": false,
         "type": "scatter",
         "x": [
          82,
          82
         ],
         "xaxis": "x4",
         "y": [
          5,
          7
         ],
         "yaxis": "y4"
        },
        {
         "legendgroup": "True",
         "line": {
          "color": "#000000",
          "width": 2
         },
         "mode": "lines",
         "name": "True",
         "showlegend": false,
         "type": "scatter",
         "x": [
          20,
          20
         ],
         "xaxis": "x4",
         "y": [
          0,
          5
         ],
         "yaxis": "y4"
        },
        {
         "legendgroup": "True",
         "line": {
          "color": "#000000",
          "width": 2
         },
         "mode": "lines",
         "name": "True",
         "showlegend": false,
         "type": "scatter",
         "x": [
          20,
          20
         ],
         "xaxis": "x4",
         "y": [
          5,
          6
         ],
         "yaxis": "y4"
        },
        {
         "legendgroup": "True",
         "line": {
          "color": "#000000",
          "width": 2
         },
         "mode": "lines",
         "name": "True",
         "showlegend": false,
         "type": "scatter",
         "x": [
          81,
          81
         ],
         "xaxis": "x4",
         "y": [
          0,
          5
         ],
         "yaxis": "y4"
        },
        {
         "legendgroup": "True",
         "line": {
          "color": "#000000",
          "width": 2
         },
         "mode": "lines",
         "name": "True",
         "showlegend": false,
         "type": "scatter",
         "x": [
          81,
          81
         ],
         "xaxis": "x4",
         "y": [
          5,
          6
         ],
         "yaxis": "y4"
        },
        {
         "legendgroup": "True",
         "line": {
          "color": "#000000",
          "width": 2
         },
         "mode": "lines",
         "name": "True",
         "showlegend": false,
         "type": "scatter",
         "x": [
          81,
          81
         ],
         "xaxis": "x4",
         "y": [
          6,
          9
         ],
         "yaxis": "y4"
        },
        {
         "legendgroup": "True",
         "line": {
          "color": "#000000",
          "width": 2
         },
         "mode": "lines",
         "name": "True",
         "showlegend": false,
         "type": "scatter",
         "x": [
          47,
          47
         ],
         "xaxis": "x4",
         "y": [
          0,
          5
         ],
         "yaxis": "y4"
        },
        {
         "legendgroup": "True",
         "line": {
          "color": "#000000",
          "width": 2
         },
         "mode": "lines",
         "name": "True",
         "showlegend": false,
         "type": "scatter",
         "x": [
          47,
          47
         ],
         "xaxis": "x4",
         "y": [
          5,
          6
         ],
         "yaxis": "y4"
        },
        {
         "legendgroup": "True",
         "line": {
          "color": "#000000",
          "width": 2
         },
         "mode": "lines",
         "name": "True",
         "showlegend": false,
         "type": "scatter",
         "x": [
          47,
          47
         ],
         "xaxis": "x4",
         "y": [
          6,
          8
         ],
         "yaxis": "y4"
        },
        {
         "legendgroup": "True",
         "line": {
          "color": "#000000",
          "width": 2
         },
         "mode": "lines",
         "name": "True",
         "showlegend": false,
         "type": "scatter",
         "x": [
          80,
          80
         ],
         "xaxis": "x4",
         "y": [
          0,
          5
         ],
         "yaxis": "y4"
        },
        {
         "legendgroup": "True",
         "line": {
          "color": "#000000",
          "width": 2
         },
         "mode": "lines",
         "name": "True",
         "showlegend": false,
         "type": "scatter",
         "x": [
          80,
          80
         ],
         "xaxis": "x4",
         "y": [
          5,
          6
         ],
         "yaxis": "y4"
        },
        {
         "legendgroup": "True",
         "line": {
          "color": "#000000",
          "width": 2
         },
         "mode": "lines",
         "name": "True",
         "showlegend": false,
         "type": "scatter",
         "x": [
          80,
          80
         ],
         "xaxis": "x4",
         "y": [
          6,
          8
         ],
         "yaxis": "y4"
        },
        {
         "legendgroup": "True",
         "line": {
          "color": "#000000",
          "width": 2
         },
         "mode": "lines",
         "name": "True",
         "showlegend": false,
         "type": "scatter",
         "x": [
          80,
          80
         ],
         "xaxis": "x4",
         "y": [
          8,
          9
         ],
         "yaxis": "y4"
        },
        {
         "legendgroup": "True",
         "line": {
          "color": "#000000",
          "width": 2
         },
         "mode": "lines",
         "name": "True",
         "showlegend": false,
         "type": "scatter",
         "x": [
          57,
          57
         ],
         "xaxis": "x4",
         "y": [
          0,
          4
         ],
         "yaxis": "y4"
        },
        {
         "legendgroup": "True",
         "line": {
          "color": "#000000",
          "width": 2
         },
         "mode": "lines",
         "name": "True",
         "showlegend": false,
         "type": "scatter",
         "x": [
          33,
          33
         ],
         "xaxis": "x4",
         "y": [
          0,
          4
         ],
         "yaxis": "y4"
        },
        {
         "legendgroup": "True",
         "line": {
          "color": "#000000",
          "width": 2
         },
         "mode": "lines",
         "name": "True",
         "showlegend": false,
         "type": "scatter",
         "x": [
          33,
          33
         ],
         "xaxis": "x4",
         "y": [
          4,
          8
         ],
         "yaxis": "y4"
        },
        {
         "legendgroup": "True",
         "line": {
          "color": "#000000",
          "width": 2
         },
         "mode": "lines",
         "name": "True",
         "showlegend": false,
         "type": "scatter",
         "x": [
          105,
          105
         ],
         "xaxis": "x4",
         "y": [
          0,
          4
         ],
         "yaxis": "y4"
        },
        {
         "legendgroup": "True",
         "line": {
          "color": "#000000",
          "width": 2
         },
         "mode": "lines",
         "name": "True",
         "showlegend": false,
         "type": "scatter",
         "x": [
          105,
          105
         ],
         "xaxis": "x4",
         "y": [
          4,
          6
         ],
         "yaxis": "y4"
        },
        {
         "legendgroup": "True",
         "line": {
          "color": "#000000",
          "width": 2
         },
         "mode": "lines",
         "name": "True",
         "showlegend": false,
         "type": "scatter",
         "x": [
          79,
          79
         ],
         "xaxis": "x4",
         "y": [
          0,
          4
         ],
         "yaxis": "y4"
        },
        {
         "legendgroup": "True",
         "line": {
          "color": "#000000",
          "width": 2
         },
         "mode": "lines",
         "name": "True",
         "showlegend": false,
         "type": "scatter",
         "x": [
          79,
          79
         ],
         "xaxis": "x4",
         "y": [
          4,
          5
         ],
         "yaxis": "y4"
        },
        {
         "legendgroup": "True",
         "line": {
          "color": "#000000",
          "width": 2
         },
         "mode": "lines",
         "name": "True",
         "showlegend": false,
         "type": "scatter",
         "x": [
          53,
          53
         ],
         "xaxis": "x4",
         "y": [
          0,
          4
         ],
         "yaxis": "y4"
        },
        {
         "legendgroup": "True",
         "line": {
          "color": "#000000",
          "width": 2
         },
         "mode": "lines",
         "name": "True",
         "showlegend": false,
         "type": "scatter",
         "x": [
          53,
          53
         ],
         "xaxis": "x4",
         "y": [
          4,
          5
         ],
         "yaxis": "y4"
        },
        {
         "legendgroup": "True",
         "line": {
          "color": "#000000",
          "width": 2
         },
         "mode": "lines",
         "name": "True",
         "showlegend": false,
         "type": "scatter",
         "x": [
          53,
          53
         ],
         "xaxis": "x4",
         "y": [
          5,
          6
         ],
         "yaxis": "y4"
        },
        {
         "legendgroup": "True",
         "line": {
          "color": "#000000",
          "width": 2
         },
         "mode": "lines",
         "name": "True",
         "showlegend": false,
         "type": "scatter",
         "x": [
          104,
          104
         ],
         "xaxis": "x4",
         "y": [
          0,
          4
         ],
         "yaxis": "y4"
        },
        {
         "legendgroup": "True",
         "line": {
          "color": "#000000",
          "width": 2
         },
         "mode": "lines",
         "name": "True",
         "showlegend": false,
         "type": "scatter",
         "x": [
          104,
          104
         ],
         "xaxis": "x4",
         "y": [
          4,
          5
         ],
         "yaxis": "y4"
        },
        {
         "legendgroup": "True",
         "line": {
          "color": "#000000",
          "width": 2
         },
         "mode": "lines",
         "name": "True",
         "showlegend": false,
         "type": "scatter",
         "x": [
          104,
          104
         ],
         "xaxis": "x4",
         "y": [
          5,
          6
         ],
         "yaxis": "y4"
        },
        {
         "legendgroup": "True",
         "line": {
          "color": "#000000",
          "width": 2
         },
         "mode": "lines",
         "name": "True",
         "showlegend": false,
         "type": "scatter",
         "x": [
          104,
          104
         ],
         "xaxis": "x4",
         "y": [
          6,
          9
         ],
         "yaxis": "y4"
        },
        {
         "legendgroup": "True",
         "line": {
          "color": "#000000",
          "width": 2
         },
         "mode": "lines",
         "name": "True",
         "showlegend": false,
         "type": "scatter",
         "x": [
          78,
          78
         ],
         "xaxis": "x4",
         "y": [
          0,
          4
         ],
         "yaxis": "y4"
        },
        {
         "legendgroup": "True",
         "line": {
          "color": "#000000",
          "width": 2
         },
         "mode": "lines",
         "name": "True",
         "showlegend": false,
         "type": "scatter",
         "x": [
          78,
          78
         ],
         "xaxis": "x4",
         "y": [
          4,
          5
         ],
         "yaxis": "y4"
        },
        {
         "legendgroup": "True",
         "line": {
          "color": "#000000",
          "width": 2
         },
         "mode": "lines",
         "name": "True",
         "showlegend": false,
         "type": "scatter",
         "x": [
          78,
          78
         ],
         "xaxis": "x4",
         "y": [
          5,
          6
         ],
         "yaxis": "y4"
        },
        {
         "legendgroup": "True",
         "line": {
          "color": "#000000",
          "width": 2
         },
         "mode": "lines",
         "name": "True",
         "showlegend": false,
         "type": "scatter",
         "x": [
          78,
          78
         ],
         "xaxis": "x4",
         "y": [
          6,
          8
         ],
         "yaxis": "y4"
        },
        {
         "legendgroup": "True",
         "line": {
          "color": "#000000",
          "width": 2
         },
         "mode": "lines",
         "name": "True",
         "showlegend": false,
         "type": "scatter",
         "x": [
          27,
          27
         ],
         "xaxis": "x4",
         "y": [
          0,
          3
         ],
         "yaxis": "y4"
        },
        {
         "legendgroup": "True",
         "line": {
          "color": "#000000",
          "width": 2
         },
         "mode": "lines",
         "name": "True",
         "showlegend": false,
         "type": "scatter",
         "x": [
          52,
          52
         ],
         "xaxis": "x4",
         "y": [
          0,
          3
         ],
         "yaxis": "y4"
        },
        {
         "legendgroup": "True",
         "line": {
          "color": "#000000",
          "width": 2
         },
         "mode": "lines",
         "name": "True",
         "showlegend": false,
         "type": "scatter",
         "x": [
          52,
          52
         ],
         "xaxis": "x4",
         "y": [
          3,
          5
         ],
         "yaxis": "y4"
        },
        {
         "legendgroup": "True",
         "line": {
          "color": "#000000",
          "width": 2
         },
         "mode": "lines",
         "name": "True",
         "showlegend": false,
         "type": "scatter",
         "x": [
          77,
          77
         ],
         "xaxis": "x4",
         "y": [
          0,
          3
         ],
         "yaxis": "y4"
        },
        {
         "legendgroup": "True",
         "line": {
          "color": "#000000",
          "width": 2
         },
         "mode": "lines",
         "name": "True",
         "showlegend": false,
         "type": "scatter",
         "x": [
          77,
          77
         ],
         "xaxis": "x4",
         "y": [
          3,
          5
         ],
         "yaxis": "y4"
        },
        {
         "legendgroup": "True",
         "line": {
          "color": "#000000",
          "width": 2
         },
         "mode": "lines",
         "name": "True",
         "showlegend": false,
         "type": "scatter",
         "x": [
          77,
          77
         ],
         "xaxis": "x4",
         "y": [
          5,
          6
         ],
         "yaxis": "y4"
        },
        {
         "legendgroup": "True",
         "line": {
          "color": "#000000",
          "width": 2
         },
         "mode": "lines",
         "name": "True",
         "showlegend": false,
         "type": "scatter",
         "x": [
          76,
          76
         ],
         "xaxis": "x4",
         "y": [
          0,
          3
         ],
         "yaxis": "y4"
        },
        {
         "legendgroup": "True",
         "line": {
          "color": "#000000",
          "width": 2
         },
         "mode": "lines",
         "name": "True",
         "showlegend": false,
         "type": "scatter",
         "x": [
          76,
          76
         ],
         "xaxis": "x4",
         "y": [
          3,
          5
         ],
         "yaxis": "y4"
        },
        {
         "legendgroup": "True",
         "line": {
          "color": "#000000",
          "width": 2
         },
         "mode": "lines",
         "name": "True",
         "showlegend": false,
         "type": "scatter",
         "x": [
          76,
          76
         ],
         "xaxis": "x4",
         "y": [
          5,
          6
         ],
         "yaxis": "y4"
        },
        {
         "legendgroup": "True",
         "line": {
          "color": "#000000",
          "width": 2
         },
         "mode": "lines",
         "name": "True",
         "showlegend": false,
         "type": "scatter",
         "x": [
          76,
          76
         ],
         "xaxis": "x4",
         "y": [
          6,
          8
         ],
         "yaxis": "y4"
        },
        {
         "legendgroup": "True",
         "line": {
          "color": "#000000",
          "width": 2
         },
         "mode": "lines",
         "name": "True",
         "showlegend": false,
         "type": "scatter",
         "x": [
          103,
          103
         ],
         "xaxis": "x4",
         "y": [
          0,
          3
         ],
         "yaxis": "y4"
        },
        {
         "legendgroup": "True",
         "line": {
          "color": "#000000",
          "width": 2
         },
         "mode": "lines",
         "name": "True",
         "showlegend": false,
         "type": "scatter",
         "x": [
          103,
          103
         ],
         "xaxis": "x4",
         "y": [
          3,
          4
         ],
         "yaxis": "y4"
        },
        {
         "legendgroup": "True",
         "line": {
          "color": "#000000",
          "width": 2
         },
         "mode": "lines",
         "name": "True",
         "showlegend": false,
         "type": "scatter",
         "x": [
          102,
          102
         ],
         "xaxis": "x4",
         "y": [
          0,
          3
         ],
         "yaxis": "y4"
        },
        {
         "legendgroup": "True",
         "line": {
          "color": "#000000",
          "width": 2
         },
         "mode": "lines",
         "name": "True",
         "showlegend": false,
         "type": "scatter",
         "x": [
          102,
          102
         ],
         "xaxis": "x4",
         "y": [
          3,
          4
         ],
         "yaxis": "y4"
        },
        {
         "legendgroup": "True",
         "line": {
          "color": "#000000",
          "width": 2
         },
         "mode": "lines",
         "name": "True",
         "showlegend": false,
         "type": "scatter",
         "x": [
          102,
          102
         ],
         "xaxis": "x4",
         "y": [
          4,
          5
         ],
         "yaxis": "y4"
        },
        {
         "legendgroup": "True",
         "line": {
          "color": "#000000",
          "width": 2
         },
         "mode": "lines",
         "name": "True",
         "showlegend": false,
         "type": "scatter",
         "x": [
          101,
          101
         ],
         "xaxis": "x4",
         "y": [
          0,
          3
         ],
         "yaxis": "y4"
        },
        {
         "legendgroup": "True",
         "line": {
          "color": "#000000",
          "width": 2
         },
         "mode": "lines",
         "name": "True",
         "showlegend": false,
         "type": "scatter",
         "x": [
          101,
          101
         ],
         "xaxis": "x4",
         "y": [
          3,
          4
         ],
         "yaxis": "y4"
        },
        {
         "legendgroup": "True",
         "line": {
          "color": "#000000",
          "width": 2
         },
         "mode": "lines",
         "name": "True",
         "showlegend": false,
         "type": "scatter",
         "x": [
          101,
          101
         ],
         "xaxis": "x4",
         "y": [
          4,
          5
         ],
         "yaxis": "y4"
        },
        {
         "legendgroup": "True",
         "line": {
          "color": "#000000",
          "width": 2
         },
         "mode": "lines",
         "name": "True",
         "showlegend": false,
         "type": "scatter",
         "x": [
          101,
          101
         ],
         "xaxis": "x4",
         "y": [
          5,
          8
         ],
         "yaxis": "y4"
        },
        {
         "legendgroup": "True",
         "line": {
          "color": "#000000",
          "width": 2
         },
         "mode": "lines",
         "name": "True",
         "showlegend": false,
         "type": "scatter",
         "x": [
          75,
          75
         ],
         "xaxis": "x4",
         "y": [
          0,
          3
         ],
         "yaxis": "y4"
        },
        {
         "legendgroup": "True",
         "line": {
          "color": "#000000",
          "width": 2
         },
         "mode": "lines",
         "name": "True",
         "showlegend": false,
         "type": "scatter",
         "x": [
          75,
          75
         ],
         "xaxis": "x4",
         "y": [
          3,
          4
         ],
         "yaxis": "y4"
        },
        {
         "legendgroup": "True",
         "line": {
          "color": "#000000",
          "width": 2
         },
         "mode": "lines",
         "name": "True",
         "showlegend": false,
         "type": "scatter",
         "x": [
          75,
          75
         ],
         "xaxis": "x4",
         "y": [
          4,
          5
         ],
         "yaxis": "y4"
        },
        {
         "legendgroup": "True",
         "line": {
          "color": "#000000",
          "width": 2
         },
         "mode": "lines",
         "name": "True",
         "showlegend": false,
         "type": "scatter",
         "x": [
          75,
          75
         ],
         "xaxis": "x4",
         "y": [
          5,
          6
         ],
         "yaxis": "y4"
        },
        {
         "legendgroup": "True",
         "line": {
          "color": "#000000",
          "width": 2
         },
         "mode": "lines",
         "name": "True",
         "showlegend": false,
         "type": "scatter",
         "x": [
          51,
          51
         ],
         "xaxis": "x4",
         "y": [
          0,
          2
         ],
         "yaxis": "y4"
        },
        {
         "legendgroup": "True",
         "line": {
          "color": "#000000",
          "width": 2
         },
         "mode": "lines",
         "name": "True",
         "showlegend": false,
         "type": "scatter",
         "x": [
          100,
          100
         ],
         "xaxis": "x4",
         "y": [
          0,
          2
         ],
         "yaxis": "y4"
        },
        {
         "legendgroup": "True",
         "line": {
          "color": "#000000",
          "width": 2
         },
         "mode": "lines",
         "name": "True",
         "showlegend": false,
         "type": "scatter",
         "x": [
          100,
          100
         ],
         "xaxis": "x4",
         "y": [
          2,
          5
         ],
         "yaxis": "y4"
        },
        {
         "legendgroup": "True",
         "line": {
          "color": "#000000",
          "width": 2
         },
         "mode": "lines",
         "name": "True",
         "showlegend": false,
         "type": "scatter",
         "x": [
          10,
          10
         ],
         "xaxis": "x4",
         "y": [
          0,
          1
         ],
         "yaxis": "y4"
        },
        {
         "legendgroup": "True",
         "line": {
          "color": "#000000",
          "width": 2
         },
         "mode": "lines",
         "name": "True",
         "showlegend": false,
         "type": "scatter",
         "x": [
          65,
          65
         ],
         "xaxis": "x4",
         "y": [
          0,
          1
         ],
         "yaxis": "y4"
        },
        {
         "legendgroup": "True",
         "line": {
          "color": "#000000",
          "width": 2
         },
         "mode": "lines",
         "name": "True",
         "showlegend": false,
         "type": "scatter",
         "x": [
          65,
          65
         ],
         "xaxis": "x4",
         "y": [
          1,
          6
         ],
         "yaxis": "y4"
        },
        {
         "legendgroup": "True",
         "line": {
          "color": "#000000",
          "width": 2
         },
         "mode": "lines",
         "name": "True",
         "showlegend": false,
         "type": "scatter",
         "x": [
          99,
          99
         ],
         "xaxis": "x4",
         "y": [
          0,
          1
         ],
         "yaxis": "y4"
        },
        {
         "legendgroup": "True",
         "line": {
          "color": "#000000",
          "width": 2
         },
         "mode": "lines",
         "name": "True",
         "showlegend": false,
         "type": "scatter",
         "x": [
          99,
          99
         ],
         "xaxis": "x4",
         "y": [
          1,
          6
         ],
         "yaxis": "y4"
        },
        {
         "legendgroup": "True",
         "line": {
          "color": "#000000",
          "width": 2
         },
         "mode": "lines",
         "name": "True",
         "showlegend": false,
         "type": "scatter",
         "x": [
          99,
          99
         ],
         "xaxis": "x4",
         "y": [
          6,
          7
         ],
         "yaxis": "y4"
        },
        {
         "legendgroup": "True",
         "line": {
          "color": "#000000",
          "width": 2
         },
         "mode": "lines",
         "name": "True",
         "showlegend": false,
         "type": "scatter",
         "x": [
          32,
          32
         ],
         "xaxis": "x4",
         "y": [
          0,
          1
         ],
         "yaxis": "y4"
        },
        {
         "legendgroup": "True",
         "line": {
          "color": "#000000",
          "width": 2
         },
         "mode": "lines",
         "name": "True",
         "showlegend": false,
         "type": "scatter",
         "x": [
          32,
          32
         ],
         "xaxis": "x4",
         "y": [
          1,
          5
         ],
         "yaxis": "y4"
        },
        {
         "legendgroup": "True",
         "line": {
          "color": "#000000",
          "width": 2
         },
         "mode": "lines",
         "name": "True",
         "showlegend": false,
         "type": "scatter",
         "x": [
          74,
          74
         ],
         "xaxis": "x4",
         "y": [
          0,
          1
         ],
         "yaxis": "y4"
        },
        {
         "legendgroup": "True",
         "line": {
          "color": "#000000",
          "width": 2
         },
         "mode": "lines",
         "name": "True",
         "showlegend": false,
         "type": "scatter",
         "x": [
          74,
          74
         ],
         "xaxis": "x4",
         "y": [
          1,
          5
         ],
         "yaxis": "y4"
        },
        {
         "legendgroup": "True",
         "line": {
          "color": "#000000",
          "width": 2
         },
         "mode": "lines",
         "name": "True",
         "showlegend": false,
         "type": "scatter",
         "x": [
          74,
          74
         ],
         "xaxis": "x4",
         "y": [
          5,
          8
         ],
         "yaxis": "y4"
        },
        {
         "legendgroup": "True",
         "line": {
          "color": "#000000",
          "width": 2
         },
         "mode": "lines",
         "name": "True",
         "showlegend": false,
         "type": "scatter",
         "x": [
          35,
          35
         ],
         "xaxis": "x4",
         "y": [
          0,
          1
         ],
         "yaxis": "y4"
        },
        {
         "legendgroup": "True",
         "line": {
          "color": "#000000",
          "width": 2
         },
         "mode": "lines",
         "name": "True",
         "showlegend": false,
         "type": "scatter",
         "x": [
          35,
          35
         ],
         "xaxis": "x4",
         "y": [
          1,
          5
         ],
         "yaxis": "y4"
        },
        {
         "legendgroup": "True",
         "line": {
          "color": "#000000",
          "width": 2
         },
         "mode": "lines",
         "name": "True",
         "showlegend": false,
         "type": "scatter",
         "x": [
          35,
          35
         ],
         "xaxis": "x4",
         "y": [
          5,
          6
         ],
         "yaxis": "y4"
        },
        {
         "legendgroup": "True",
         "line": {
          "color": "#000000",
          "width": 2
         },
         "mode": "lines",
         "name": "True",
         "showlegend": false,
         "type": "scatter",
         "x": [
          98,
          98
         ],
         "xaxis": "x4",
         "y": [
          0,
          1
         ],
         "yaxis": "y4"
        },
        {
         "legendgroup": "True",
         "line": {
          "color": "#000000",
          "width": 2
         },
         "mode": "lines",
         "name": "True",
         "showlegend": false,
         "type": "scatter",
         "x": [
          98,
          98
         ],
         "xaxis": "x4",
         "y": [
          1,
          5
         ],
         "yaxis": "y4"
        },
        {
         "legendgroup": "True",
         "line": {
          "color": "#000000",
          "width": 2
         },
         "mode": "lines",
         "name": "True",
         "showlegend": false,
         "type": "scatter",
         "x": [
          98,
          98
         ],
         "xaxis": "x4",
         "y": [
          5,
          6
         ],
         "yaxis": "y4"
        },
        {
         "legendgroup": "True",
         "line": {
          "color": "#000000",
          "width": 2
         },
         "mode": "lines",
         "name": "True",
         "showlegend": false,
         "type": "scatter",
         "x": [
          98,
          98
         ],
         "xaxis": "x4",
         "y": [
          6,
          9
         ],
         "yaxis": "y4"
        },
        {
         "legendgroup": "True",
         "line": {
          "color": "#000000",
          "width": 2
         },
         "mode": "lines",
         "name": "True",
         "showlegend": false,
         "type": "scatter",
         "x": [
          55,
          55
         ],
         "xaxis": "x4",
         "y": [
          0,
          1
         ],
         "yaxis": "y4"
        },
        {
         "legendgroup": "True",
         "line": {
          "color": "#000000",
          "width": 2
         },
         "mode": "lines",
         "name": "True",
         "showlegend": false,
         "type": "scatter",
         "x": [
          55,
          55
         ],
         "xaxis": "x4",
         "y": [
          1,
          5
         ],
         "yaxis": "y4"
        },
        {
         "legendgroup": "True",
         "line": {
          "color": "#000000",
          "width": 2
         },
         "mode": "lines",
         "name": "True",
         "showlegend": false,
         "type": "scatter",
         "x": [
          55,
          55
         ],
         "xaxis": "x4",
         "y": [
          5,
          6
         ],
         "yaxis": "y4"
        },
        {
         "legendgroup": "True",
         "line": {
          "color": "#000000",
          "width": 2
         },
         "mode": "lines",
         "name": "True",
         "showlegend": false,
         "type": "scatter",
         "x": [
          55,
          55
         ],
         "xaxis": "x4",
         "y": [
          6,
          8
         ],
         "yaxis": "y4"
        },
        {
         "legendgroup": "True",
         "line": {
          "color": "#000000",
          "width": 2
         },
         "mode": "lines",
         "name": "True",
         "showlegend": false,
         "type": "scatter",
         "x": [
          97,
          97
         ],
         "xaxis": "x4",
         "y": [
          0,
          1
         ],
         "yaxis": "y4"
        },
        {
         "legendgroup": "True",
         "line": {
          "color": "#000000",
          "width": 2
         },
         "mode": "lines",
         "name": "True",
         "showlegend": false,
         "type": "scatter",
         "x": [
          97,
          97
         ],
         "xaxis": "x4",
         "y": [
          1,
          5
         ],
         "yaxis": "y4"
        },
        {
         "legendgroup": "True",
         "line": {
          "color": "#000000",
          "width": 2
         },
         "mode": "lines",
         "name": "True",
         "showlegend": false,
         "type": "scatter",
         "x": [
          97,
          97
         ],
         "xaxis": "x4",
         "y": [
          5,
          6
         ],
         "yaxis": "y4"
        },
        {
         "legendgroup": "True",
         "line": {
          "color": "#000000",
          "width": 2
         },
         "mode": "lines",
         "name": "True",
         "showlegend": false,
         "type": "scatter",
         "x": [
          97,
          97
         ],
         "xaxis": "x4",
         "y": [
          6,
          7
         ],
         "yaxis": "y4"
        },
        {
         "legendgroup": "True",
         "line": {
          "color": "#000000",
          "width": 2
         },
         "mode": "lines",
         "name": "True",
         "showlegend": false,
         "type": "scatter",
         "x": [
          96,
          96
         ],
         "xaxis": "x4",
         "y": [
          0,
          1
         ],
         "yaxis": "y4"
        },
        {
         "legendgroup": "True",
         "line": {
          "color": "#000000",
          "width": 2
         },
         "mode": "lines",
         "name": "True",
         "showlegend": false,
         "type": "scatter",
         "x": [
          96,
          96
         ],
         "xaxis": "x4",
         "y": [
          1,
          5
         ],
         "yaxis": "y4"
        },
        {
         "legendgroup": "True",
         "line": {
          "color": "#000000",
          "width": 2
         },
         "mode": "lines",
         "name": "True",
         "showlegend": false,
         "type": "scatter",
         "x": [
          96,
          96
         ],
         "xaxis": "x4",
         "y": [
          5,
          6
         ],
         "yaxis": "y4"
        },
        {
         "legendgroup": "True",
         "line": {
          "color": "#000000",
          "width": 2
         },
         "mode": "lines",
         "name": "True",
         "showlegend": false,
         "type": "scatter",
         "x": [
          96,
          96
         ],
         "xaxis": "x4",
         "y": [
          6,
          7
         ],
         "yaxis": "y4"
        },
        {
         "legendgroup": "True",
         "line": {
          "color": "#000000",
          "width": 2
         },
         "mode": "lines",
         "name": "True",
         "showlegend": false,
         "type": "scatter",
         "x": [
          96,
          96
         ],
         "xaxis": "x4",
         "y": [
          7,
          9
         ],
         "yaxis": "y4"
        },
        {
         "legendgroup": "True",
         "line": {
          "color": "#000000",
          "width": 2
         },
         "mode": "lines",
         "name": "True",
         "showlegend": false,
         "type": "scatter",
         "x": [
          64,
          64
         ],
         "xaxis": "x4",
         "y": [
          0,
          1
         ],
         "yaxis": "y4"
        },
        {
         "legendgroup": "True",
         "line": {
          "color": "#000000",
          "width": 2
         },
         "mode": "lines",
         "name": "True",
         "showlegend": false,
         "type": "scatter",
         "x": [
          64,
          64
         ],
         "xaxis": "x4",
         "y": [
          1,
          4
         ],
         "yaxis": "y4"
        },
        {
         "legendgroup": "True",
         "line": {
          "color": "#000000",
          "width": 2
         },
         "mode": "lines",
         "name": "True",
         "showlegend": false,
         "type": "scatter",
         "x": [
          64,
          64
         ],
         "xaxis": "x4",
         "y": [
          4,
          5
         ],
         "yaxis": "y4"
        },
        {
         "legendgroup": "True",
         "line": {
          "color": "#000000",
          "width": 2
         },
         "mode": "lines",
         "name": "True",
         "showlegend": false,
         "type": "scatter",
         "x": [
          64,
          64
         ],
         "xaxis": "x4",
         "y": [
          5,
          6
         ],
         "yaxis": "y4"
        },
        {
         "legendgroup": "True",
         "line": {
          "color": "#000000",
          "width": 2
         },
         "mode": "lines",
         "name": "True",
         "showlegend": false,
         "type": "scatter",
         "x": [
          64,
          64
         ],
         "xaxis": "x4",
         "y": [
          6,
          8
         ],
         "yaxis": "y4"
        },
        {
         "legendgroup": "True",
         "line": {
          "color": "#000000",
          "width": 2
         },
         "mode": "lines",
         "name": "True",
         "showlegend": false,
         "type": "scatter",
         "x": [
          95,
          95
         ],
         "xaxis": "x4",
         "y": [
          0,
          1
         ],
         "yaxis": "y4"
        },
        {
         "legendgroup": "True",
         "line": {
          "color": "#000000",
          "width": 2
         },
         "mode": "lines",
         "name": "True",
         "showlegend": false,
         "type": "scatter",
         "x": [
          95,
          95
         ],
         "xaxis": "x4",
         "y": [
          1,
          3
         ],
         "yaxis": "y4"
        },
        {
         "legendgroup": "True",
         "line": {
          "color": "#000000",
          "width": 2
         },
         "mode": "lines",
         "name": "True",
         "showlegend": false,
         "type": "scatter",
         "x": [
          95,
          95
         ],
         "xaxis": "x4",
         "y": [
          3,
          6
         ],
         "yaxis": "y4"
        },
        {
         "legendgroup": "True",
         "line": {
          "color": "#000000",
          "width": 2
         },
         "mode": "lines",
         "name": "True",
         "showlegend": false,
         "type": "scatter",
         "x": [
          63,
          63
         ],
         "xaxis": "x4",
         "y": [
          0,
          1
         ],
         "yaxis": "y4"
        },
        {
         "legendgroup": "True",
         "line": {
          "color": "#000000",
          "width": 2
         },
         "mode": "lines",
         "name": "True",
         "showlegend": false,
         "type": "scatter",
         "x": [
          63,
          63
         ],
         "xaxis": "x4",
         "y": [
          1,
          3
         ],
         "yaxis": "y4"
        },
        {
         "legendgroup": "True",
         "line": {
          "color": "#000000",
          "width": 2
         },
         "mode": "lines",
         "name": "True",
         "showlegend": false,
         "type": "scatter",
         "x": [
          63,
          63
         ],
         "xaxis": "x4",
         "y": [
          3,
          5
         ],
         "yaxis": "y4"
        },
        {
         "legendgroup": "True",
         "line": {
          "color": "#000000",
          "width": 2
         },
         "mode": "lines",
         "name": "True",
         "showlegend": false,
         "type": "scatter",
         "x": [
          63,
          63
         ],
         "xaxis": "x4",
         "y": [
          5,
          6
         ],
         "yaxis": "y4"
        },
        {
         "legendgroup": "True",
         "line": {
          "color": "#000000",
          "width": 2
         },
         "mode": "lines",
         "name": "True",
         "showlegend": false,
         "type": "scatter",
         "x": [
          94,
          94
         ],
         "xaxis": "x4",
         "y": [
          0,
          1
         ],
         "yaxis": "y4"
        },
        {
         "legendgroup": "True",
         "line": {
          "color": "#000000",
          "width": 2
         },
         "mode": "lines",
         "name": "True",
         "showlegend": false,
         "type": "scatter",
         "x": [
          94,
          94
         ],
         "xaxis": "x4",
         "y": [
          1,
          3
         ],
         "yaxis": "y4"
        },
        {
         "legendgroup": "True",
         "line": {
          "color": "#000000",
          "width": 2
         },
         "mode": "lines",
         "name": "True",
         "showlegend": false,
         "type": "scatter",
         "x": [
          94,
          94
         ],
         "xaxis": "x4",
         "y": [
          3,
          5
         ],
         "yaxis": "y4"
        },
        {
         "legendgroup": "True",
         "line": {
          "color": "#000000",
          "width": 2
         },
         "mode": "lines",
         "name": "True",
         "showlegend": false,
         "type": "scatter",
         "x": [
          94,
          94
         ],
         "xaxis": "x4",
         "y": [
          5,
          6
         ],
         "yaxis": "y4"
        },
        {
         "legendgroup": "True",
         "line": {
          "color": "#000000",
          "width": 2
         },
         "mode": "lines",
         "name": "True",
         "showlegend": false,
         "type": "scatter",
         "x": [
          94,
          94
         ],
         "xaxis": "x4",
         "y": [
          6,
          8
         ],
         "yaxis": "y4"
        },
        {
         "legendgroup": "True",
         "line": {
          "color": "#000000",
          "width": 2
         },
         "mode": "lines",
         "name": "True",
         "showlegend": false,
         "type": "scatter",
         "x": [
          93,
          93
         ],
         "xaxis": "x4",
         "y": [
          0,
          1
         ],
         "yaxis": "y4"
        },
        {
         "legendgroup": "True",
         "line": {
          "color": "#000000",
          "width": 2
         },
         "mode": "lines",
         "name": "True",
         "showlegend": false,
         "type": "scatter",
         "x": [
          93,
          93
         ],
         "xaxis": "x4",
         "y": [
          1,
          3
         ],
         "yaxis": "y4"
        },
        {
         "legendgroup": "True",
         "line": {
          "color": "#000000",
          "width": 2
         },
         "mode": "lines",
         "name": "True",
         "showlegend": false,
         "type": "scatter",
         "x": [
          93,
          93
         ],
         "xaxis": "x4",
         "y": [
          3,
          5
         ],
         "yaxis": "y4"
        },
        {
         "legendgroup": "True",
         "line": {
          "color": "#000000",
          "width": 2
         },
         "mode": "lines",
         "name": "True",
         "showlegend": false,
         "type": "scatter",
         "x": [
          93,
          93
         ],
         "xaxis": "x4",
         "y": [
          5,
          6
         ],
         "yaxis": "y4"
        },
        {
         "legendgroup": "True",
         "line": {
          "color": "#000000",
          "width": 2
         },
         "mode": "lines",
         "name": "True",
         "showlegend": false,
         "type": "scatter",
         "x": [
          93,
          93
         ],
         "xaxis": "x4",
         "y": [
          6,
          7
         ],
         "yaxis": "y4"
        },
        {
         "legendgroup": "True",
         "line": {
          "color": "#000000",
          "width": 2
         },
         "mode": "lines",
         "name": "True",
         "showlegend": false,
         "type": "scatter",
         "x": [
          92,
          92
         ],
         "xaxis": "x4",
         "y": [
          0,
          1
         ],
         "yaxis": "y4"
        },
        {
         "legendgroup": "True",
         "line": {
          "color": "#000000",
          "width": 2
         },
         "mode": "lines",
         "name": "True",
         "showlegend": false,
         "type": "scatter",
         "x": [
          92,
          92
         ],
         "xaxis": "x4",
         "y": [
          1,
          3
         ],
         "yaxis": "y4"
        },
        {
         "legendgroup": "True",
         "line": {
          "color": "#000000",
          "width": 2
         },
         "mode": "lines",
         "name": "True",
         "showlegend": false,
         "type": "scatter",
         "x": [
          92,
          92
         ],
         "xaxis": "x4",
         "y": [
          3,
          4
         ],
         "yaxis": "y4"
        },
        {
         "legendgroup": "True",
         "line": {
          "color": "#000000",
          "width": 2
         },
         "mode": "lines",
         "name": "True",
         "showlegend": false,
         "type": "scatter",
         "x": [
          92,
          92
         ],
         "xaxis": "x4",
         "y": [
          4,
          6
         ],
         "yaxis": "y4"
        },
        {
         "legendgroup": "True",
         "line": {
          "color": "#000000",
          "width": 2
         },
         "mode": "lines",
         "name": "True",
         "showlegend": false,
         "type": "scatter",
         "x": [
          91,
          91
         ],
         "xaxis": "x4",
         "y": [
          0,
          1
         ],
         "yaxis": "y4"
        },
        {
         "legendgroup": "True",
         "line": {
          "color": "#000000",
          "width": 2
         },
         "mode": "lines",
         "name": "True",
         "showlegend": false,
         "type": "scatter",
         "x": [
          91,
          91
         ],
         "xaxis": "x4",
         "y": [
          1,
          3
         ],
         "yaxis": "y4"
        },
        {
         "legendgroup": "True",
         "line": {
          "color": "#000000",
          "width": 2
         },
         "mode": "lines",
         "name": "True",
         "showlegend": false,
         "type": "scatter",
         "x": [
          91,
          91
         ],
         "xaxis": "x4",
         "y": [
          3,
          4
         ],
         "yaxis": "y4"
        },
        {
         "legendgroup": "True",
         "line": {
          "color": "#000000",
          "width": 2
         },
         "mode": "lines",
         "name": "True",
         "showlegend": false,
         "type": "scatter",
         "x": [
          91,
          91
         ],
         "xaxis": "x4",
         "y": [
          4,
          5
         ],
         "yaxis": "y4"
        },
        {
         "legendgroup": "True",
         "line": {
          "color": "#000000",
          "width": 2
         },
         "mode": "lines",
         "name": "True",
         "showlegend": false,
         "type": "scatter",
         "x": [
          91,
          91
         ],
         "xaxis": "x4",
         "y": [
          5,
          6
         ],
         "yaxis": "y4"
        },
        {
         "legendgroup": "True",
         "line": {
          "color": "#000000",
          "width": 2
         },
         "mode": "lines",
         "name": "True",
         "showlegend": false,
         "type": "scatter",
         "x": [
          90,
          90
         ],
         "xaxis": "x4",
         "y": [
          0,
          1
         ],
         "yaxis": "y4"
        },
        {
         "legendgroup": "True",
         "line": {
          "color": "#000000",
          "width": 2
         },
         "mode": "lines",
         "name": "True",
         "showlegend": false,
         "type": "scatter",
         "x": [
          90,
          90
         ],
         "xaxis": "x4",
         "y": [
          1,
          2
         ],
         "yaxis": "y4"
        },
        {
         "legendgroup": "True",
         "line": {
          "color": "#000000",
          "width": 2
         },
         "mode": "lines",
         "name": "True",
         "showlegend": false,
         "type": "scatter",
         "x": [
          90,
          90
         ],
         "xaxis": "x4",
         "y": [
          2,
          5
         ],
         "yaxis": "y4"
        },
        {
         "legendgroup": "True",
         "line": {
          "color": "#000000",
          "width": 2
         },
         "mode": "lines",
         "name": "True",
         "showlegend": false,
         "type": "scatter",
         "x": [
          90,
          90
         ],
         "xaxis": "x4",
         "y": [
          5,
          6
         ],
         "yaxis": "y4"
        }
       ],
       "layout": {
        "bargap": 0.2,
        "bargroupgap": 0,
        "barmode": "group",
        "font": {
         "color": "black"
        },
        "height": 650,
        "hovermode": "closest",
        "legend": {
         "orientation": "v",
         "x": 0,
         "xanchor": "left",
         "y": 1,
         "yanchor": "top"
        },
        "margin": {
         "b": 40,
         "l": 40,
         "r": 40,
         "t": 40
        },
        "paper_bgcolor": "white",
        "plot_bgcolor": "rgba(0, 0, 0, 0)",
        "shapes": [
         {
          "fillcolor": "#EBEBEB",
          "layer": "below",
          "line": {
           "width": 0
          },
          "type": "rect",
          "x0": 0,
          "x1": 1,
          "xref": "x4 domain",
          "y0": -0.5,
          "y1": 0.5,
          "yref": "y4"
         },
         {
          "fillcolor": "#EBEBEB",
          "layer": "below",
          "line": {
           "width": 0
          },
          "type": "rect",
          "x0": 0,
          "x1": 1,
          "xref": "x4 domain",
          "y0": 1.5,
          "y1": 2.5,
          "yref": "y4"
         },
         {
          "fillcolor": "#EBEBEB",
          "layer": "below",
          "line": {
           "width": 0
          },
          "type": "rect",
          "x0": 0,
          "x1": 1,
          "xref": "x4 domain",
          "y0": 3.5,
          "y1": 4.5,
          "yref": "y4"
         },
         {
          "fillcolor": "#EBEBEB",
          "layer": "below",
          "line": {
           "width": 0
          },
          "type": "rect",
          "x0": 0,
          "x1": 1,
          "xref": "x4 domain",
          "y0": 5.5,
          "y1": 6.5,
          "yref": "y4"
         },
         {
          "fillcolor": "#EBEBEB",
          "layer": "below",
          "line": {
           "width": 0
          },
          "type": "rect",
          "x0": 0,
          "x1": 1,
          "xref": "x4 domain",
          "y0": 7.5,
          "y1": 8.5,
          "yref": "y4"
         }
        ],
        "showlegend": true,
        "template": {
         "data": {
          "bar": [
           {
            "error_x": {
             "color": "#2a3f5f"
            },
            "error_y": {
             "color": "#2a3f5f"
            },
            "marker": {
             "line": {
              "color": "#E5ECF6",
              "width": 0.5
             },
             "pattern": {
              "fillmode": "overlay",
              "size": 10,
              "solidity": 0.2
             }
            },
            "type": "bar"
           }
          ],
          "barpolar": [
           {
            "marker": {
             "line": {
              "color": "#E5ECF6",
              "width": 0.5
             },
             "pattern": {
              "fillmode": "overlay",
              "size": 10,
              "solidity": 0.2
             }
            },
            "type": "barpolar"
           }
          ],
          "carpet": [
           {
            "aaxis": {
             "endlinecolor": "#2a3f5f",
             "gridcolor": "white",
             "linecolor": "white",
             "minorgridcolor": "white",
             "startlinecolor": "#2a3f5f"
            },
            "baxis": {
             "endlinecolor": "#2a3f5f",
             "gridcolor": "white",
             "linecolor": "white",
             "minorgridcolor": "white",
             "startlinecolor": "#2a3f5f"
            },
            "type": "carpet"
           }
          ],
          "choropleth": [
           {
            "colorbar": {
             "outlinewidth": 0,
             "ticks": ""
            },
            "type": "choropleth"
           }
          ],
          "contour": [
           {
            "colorbar": {
             "outlinewidth": 0,
             "ticks": ""
            },
            "colorscale": [
             [
              0,
              "#0d0887"
             ],
             [
              0.1111111111111111,
              "#46039f"
             ],
             [
              0.2222222222222222,
              "#7201a8"
             ],
             [
              0.3333333333333333,
              "#9c179e"
             ],
             [
              0.4444444444444444,
              "#bd3786"
             ],
             [
              0.5555555555555556,
              "#d8576b"
             ],
             [
              0.6666666666666666,
              "#ed7953"
             ],
             [
              0.7777777777777778,
              "#fb9f3a"
             ],
             [
              0.8888888888888888,
              "#fdca26"
             ],
             [
              1,
              "#f0f921"
             ]
            ],
            "type": "contour"
           }
          ],
          "contourcarpet": [
           {
            "colorbar": {
             "outlinewidth": 0,
             "ticks": ""
            },
            "type": "contourcarpet"
           }
          ],
          "heatmap": [
           {
            "colorbar": {
             "outlinewidth": 0,
             "ticks": ""
            },
            "colorscale": [
             [
              0,
              "#0d0887"
             ],
             [
              0.1111111111111111,
              "#46039f"
             ],
             [
              0.2222222222222222,
              "#7201a8"
             ],
             [
              0.3333333333333333,
              "#9c179e"
             ],
             [
              0.4444444444444444,
              "#bd3786"
             ],
             [
              0.5555555555555556,
              "#d8576b"
             ],
             [
              0.6666666666666666,
              "#ed7953"
             ],
             [
              0.7777777777777778,
              "#fb9f3a"
             ],
             [
              0.8888888888888888,
              "#fdca26"
             ],
             [
              1,
              "#f0f921"
             ]
            ],
            "type": "heatmap"
           }
          ],
          "heatmapgl": [
           {
            "colorbar": {
             "outlinewidth": 0,
             "ticks": ""
            },
            "colorscale": [
             [
              0,
              "#0d0887"
             ],
             [
              0.1111111111111111,
              "#46039f"
             ],
             [
              0.2222222222222222,
              "#7201a8"
             ],
             [
              0.3333333333333333,
              "#9c179e"
             ],
             [
              0.4444444444444444,
              "#bd3786"
             ],
             [
              0.5555555555555556,
              "#d8576b"
             ],
             [
              0.6666666666666666,
              "#ed7953"
             ],
             [
              0.7777777777777778,
              "#fb9f3a"
             ],
             [
              0.8888888888888888,
              "#fdca26"
             ],
             [
              1,
              "#f0f921"
             ]
            ],
            "type": "heatmapgl"
           }
          ],
          "histogram": [
           {
            "marker": {
             "pattern": {
              "fillmode": "overlay",
              "size": 10,
              "solidity": 0.2
             }
            },
            "type": "histogram"
           }
          ],
          "histogram2d": [
           {
            "colorbar": {
             "outlinewidth": 0,
             "ticks": ""
            },
            "colorscale": [
             [
              0,
              "#0d0887"
             ],
             [
              0.1111111111111111,
              "#46039f"
             ],
             [
              0.2222222222222222,
              "#7201a8"
             ],
             [
              0.3333333333333333,
              "#9c179e"
             ],
             [
              0.4444444444444444,
              "#bd3786"
             ],
             [
              0.5555555555555556,
              "#d8576b"
             ],
             [
              0.6666666666666666,
              "#ed7953"
             ],
             [
              0.7777777777777778,
              "#fb9f3a"
             ],
             [
              0.8888888888888888,
              "#fdca26"
             ],
             [
              1,
              "#f0f921"
             ]
            ],
            "type": "histogram2d"
           }
          ],
          "histogram2dcontour": [
           {
            "colorbar": {
             "outlinewidth": 0,
             "ticks": ""
            },
            "colorscale": [
             [
              0,
              "#0d0887"
             ],
             [
              0.1111111111111111,
              "#46039f"
             ],
             [
              0.2222222222222222,
              "#7201a8"
             ],
             [
              0.3333333333333333,
              "#9c179e"
             ],
             [
              0.4444444444444444,
              "#bd3786"
             ],
             [
              0.5555555555555556,
              "#d8576b"
             ],
             [
              0.6666666666666666,
              "#ed7953"
             ],
             [
              0.7777777777777778,
              "#fb9f3a"
             ],
             [
              0.8888888888888888,
              "#fdca26"
             ],
             [
              1,
              "#f0f921"
             ]
            ],
            "type": "histogram2dcontour"
           }
          ],
          "mesh3d": [
           {
            "colorbar": {
             "outlinewidth": 0,
             "ticks": ""
            },
            "type": "mesh3d"
           }
          ],
          "parcoords": [
           {
            "line": {
             "colorbar": {
              "outlinewidth": 0,
              "ticks": ""
             }
            },
            "type": "parcoords"
           }
          ],
          "pie": [
           {
            "automargin": true,
            "type": "pie"
           }
          ],
          "scatter": [
           {
            "fillpattern": {
             "fillmode": "overlay",
             "size": 10,
             "solidity": 0.2
            },
            "type": "scatter"
           }
          ],
          "scatter3d": [
           {
            "line": {
             "colorbar": {
              "outlinewidth": 0,
              "ticks": ""
             }
            },
            "marker": {
             "colorbar": {
              "outlinewidth": 0,
              "ticks": ""
             }
            },
            "type": "scatter3d"
           }
          ],
          "scattercarpet": [
           {
            "marker": {
             "colorbar": {
              "outlinewidth": 0,
              "ticks": ""
             }
            },
            "type": "scattercarpet"
           }
          ],
          "scattergeo": [
           {
            "marker": {
             "colorbar": {
              "outlinewidth": 0,
              "ticks": ""
             }
            },
            "type": "scattergeo"
           }
          ],
          "scattergl": [
           {
            "marker": {
             "colorbar": {
              "outlinewidth": 0,
              "ticks": ""
             }
            },
            "type": "scattergl"
           }
          ],
          "scattermapbox": [
           {
            "marker": {
             "colorbar": {
              "outlinewidth": 0,
              "ticks": ""
             }
            },
            "type": "scattermapbox"
           }
          ],
          "scatterpolar": [
           {
            "marker": {
             "colorbar": {
              "outlinewidth": 0,
              "ticks": ""
             }
            },
            "type": "scatterpolar"
           }
          ],
          "scatterpolargl": [
           {
            "marker": {
             "colorbar": {
              "outlinewidth": 0,
              "ticks": ""
             }
            },
            "type": "scatterpolargl"
           }
          ],
          "scatterternary": [
           {
            "marker": {
             "colorbar": {
              "outlinewidth": 0,
              "ticks": ""
             }
            },
            "type": "scatterternary"
           }
          ],
          "surface": [
           {
            "colorbar": {
             "outlinewidth": 0,
             "ticks": ""
            },
            "colorscale": [
             [
              0,
              "#0d0887"
             ],
             [
              0.1111111111111111,
              "#46039f"
             ],
             [
              0.2222222222222222,
              "#7201a8"
             ],
             [
              0.3333333333333333,
              "#9c179e"
             ],
             [
              0.4444444444444444,
              "#bd3786"
             ],
             [
              0.5555555555555556,
              "#d8576b"
             ],
             [
              0.6666666666666666,
              "#ed7953"
             ],
             [
              0.7777777777777778,
              "#fb9f3a"
             ],
             [
              0.8888888888888888,
              "#fdca26"
             ],
             [
              1,
              "#f0f921"
             ]
            ],
            "type": "surface"
           }
          ],
          "table": [
           {
            "cells": {
             "fill": {
              "color": "#EBF0F8"
             },
             "line": {
              "color": "white"
             }
            },
            "header": {
             "fill": {
              "color": "#C8D4E3"
             },
             "line": {
              "color": "white"
             }
            },
            "type": "table"
           }
          ]
         },
         "layout": {
          "annotationdefaults": {
           "arrowcolor": "#2a3f5f",
           "arrowhead": 0,
           "arrowwidth": 1
          },
          "autotypenumbers": "strict",
          "coloraxis": {
           "colorbar": {
            "outlinewidth": 0,
            "ticks": ""
           }
          },
          "colorscale": {
           "diverging": [
            [
             0,
             "#8e0152"
            ],
            [
             0.1,
             "#c51b7d"
            ],
            [
             0.2,
             "#de77ae"
            ],
            [
             0.3,
             "#f1b6da"
            ],
            [
             0.4,
             "#fde0ef"
            ],
            [
             0.5,
             "#f7f7f7"
            ],
            [
             0.6,
             "#e6f5d0"
            ],
            [
             0.7,
             "#b8e186"
            ],
            [
             0.8,
             "#7fbc41"
            ],
            [
             0.9,
             "#4d9221"
            ],
            [
             1,
             "#276419"
            ]
           ],
           "sequential": [
            [
             0,
             "#0d0887"
            ],
            [
             0.1111111111111111,
             "#46039f"
            ],
            [
             0.2222222222222222,
             "#7201a8"
            ],
            [
             0.3333333333333333,
             "#9c179e"
            ],
            [
             0.4444444444444444,
             "#bd3786"
            ],
            [
             0.5555555555555556,
             "#d8576b"
            ],
            [
             0.6666666666666666,
             "#ed7953"
            ],
            [
             0.7777777777777778,
             "#fb9f3a"
            ],
            [
             0.8888888888888888,
             "#fdca26"
            ],
            [
             1,
             "#f0f921"
            ]
           ],
           "sequentialminus": [
            [
             0,
             "#0d0887"
            ],
            [
             0.1111111111111111,
             "#46039f"
            ],
            [
             0.2222222222222222,
             "#7201a8"
            ],
            [
             0.3333333333333333,
             "#9c179e"
            ],
            [
             0.4444444444444444,
             "#bd3786"
            ],
            [
             0.5555555555555556,
             "#d8576b"
            ],
            [
             0.6666666666666666,
             "#ed7953"
            ],
            [
             0.7777777777777778,
             "#fb9f3a"
            ],
            [
             0.8888888888888888,
             "#fdca26"
            ],
            [
             1,
             "#f0f921"
            ]
           ]
          },
          "colorway": [
           "#636efa",
           "#EF553B",
           "#00cc96",
           "#ab63fa",
           "#FFA15A",
           "#19d3f3",
           "#FF6692",
           "#B6E880",
           "#FF97FF",
           "#FECB52"
          ],
          "font": {
           "color": "#2a3f5f"
          },
          "geo": {
           "bgcolor": "white",
           "lakecolor": "white",
           "landcolor": "#E5ECF6",
           "showlakes": true,
           "showland": true,
           "subunitcolor": "white"
          },
          "hoverlabel": {
           "align": "left"
          },
          "hovermode": "closest",
          "mapbox": {
           "style": "light"
          },
          "paper_bgcolor": "white",
          "plot_bgcolor": "#E5ECF6",
          "polar": {
           "angularaxis": {
            "gridcolor": "white",
            "linecolor": "white",
            "ticks": ""
           },
           "bgcolor": "#E5ECF6",
           "radialaxis": {
            "gridcolor": "white",
            "linecolor": "white",
            "ticks": ""
           }
          },
          "scene": {
           "xaxis": {
            "backgroundcolor": "#E5ECF6",
            "gridcolor": "white",
            "gridwidth": 2,
            "linecolor": "white",
            "showbackground": true,
            "ticks": "",
            "zerolinecolor": "white"
           },
           "yaxis": {
            "backgroundcolor": "#E5ECF6",
            "gridcolor": "white",
            "gridwidth": 2,
            "linecolor": "white",
            "showbackground": true,
            "ticks": "",
            "zerolinecolor": "white"
           },
           "zaxis": {
            "backgroundcolor": "#E5ECF6",
            "gridcolor": "white",
            "gridwidth": 2,
            "linecolor": "white",
            "showbackground": true,
            "ticks": "",
            "zerolinecolor": "white"
           }
          },
          "shapedefaults": {
           "line": {
            "color": "#2a3f5f"
           }
          },
          "ternary": {
           "aaxis": {
            "gridcolor": "white",
            "linecolor": "white",
            "ticks": ""
           },
           "baxis": {
            "gridcolor": "white",
            "linecolor": "white",
            "ticks": ""
           },
           "bgcolor": "#E5ECF6",
           "caxis": {
            "gridcolor": "white",
            "linecolor": "white",
            "ticks": ""
           }
          },
          "title": {
           "x": 0.05
          },
          "xaxis": {
           "automargin": true,
           "gridcolor": "white",
           "linecolor": "white",
           "ticks": "",
           "title": {
            "standoff": 15
           },
           "zerolinecolor": "white",
           "zerolinewidth": 2
          },
          "yaxis": {
           "automargin": true,
           "gridcolor": "white",
           "linecolor": "white",
           "ticks": "",
           "title": {
            "standoff": 15
           },
           "zerolinecolor": "white",
           "zerolinewidth": 2
          }
         }
        },
        "uniformtext": {
         "minsize": 12,
         "mode": "show"
        },
        "width": 830,
        "xaxis": {
         "anchor": "y",
         "automargin": true,
         "domain": [
          0,
          0.34
         ],
         "matches": "x3",
         "showticklabels": false,
         "zeroline": false
        },
        "xaxis2": {
         "anchor": "y2",
         "automargin": true,
         "domain": [
          0.49,
          1
         ],
         "dtick": 1,
         "linecolor": "#000000",
         "matches": "x4",
         "range": [
          -0.5,
          131.5
         ],
         "showline": true,
         "showticklabels": false,
         "side": "bottom",
         "tickcolor": "#000000",
         "ticks": "outside",
         "zeroline": false
        },
        "xaxis3": {
         "anchor": "y3",
         "automargin": true,
         "autorange": "reversed",
         "domain": [
          0,
          0.34
         ],
         "gridcolor": "#E0E0E0",
         "linecolor": "#000000",
         "showgrid": true,
         "showline": true,
         "showticklabels": true,
         "side": "top",
         "tickangle": -90,
         "tickcolor": "#000000",
         "ticks": "outside",
         "title": {
          "font": {
           "color": "#000000"
          },
          "standoff": 5,
          "text": "Set Size"
         },
         "zeroline": false
        },
        "xaxis4": {
         "anchor": "y4",
         "automargin": true,
         "domain": [
          0.49,
          1
         ],
         "dtick": 1,
         "range": [
          -0.5,
          131.5
         ],
         "showgrid": false,
         "showline": true,
         "showticklabels": false,
         "side": "bottom",
         "title": {
          "standoff": 5
         },
         "zeroline": false
        },
        "yaxis": {
         "anchor": "x",
         "automargin": true,
         "domain": [
          0.43,
          1
         ],
         "zeroline": false
        },
        "yaxis2": {
         "anchor": "x2",
         "automargin": true,
         "domain": [
          0.43,
          1
         ],
         "gridcolor": "#E0E0E0",
         "linecolor": "#000000",
         "range": [
          0,
          23284.3
         ],
         "showgrid": true,
         "showline": true,
         "showticklabels": true,
         "side": "left",
         "tickcolor": "#000000",
         "ticks": "outside",
         "title": {
          "font": {
           "color": "#000000"
          },
          "standoff": 5,
          "text": "Intersection Size"
         },
         "zeroline": false
        },
        "yaxis3": {
         "anchor": "x3",
         "automargin": true,
         "domain": [
          0,
          0.38
         ],
         "linecolor": "#000000",
         "showline": true,
         "showticklabels": false,
         "side": "right",
         "tickcolor": "#000000",
         "ticks": "outside",
         "zeroline": false
        },
        "yaxis4": {
         "anchor": "x4",
         "automargin": true,
         "domain": [
          0,
          0.38
         ],
         "linecolor": "#000000",
         "mirror": false,
         "showgrid": false,
         "showline": true,
         "showticklabels": true,
         "side": "left",
         "tickcolor": "#000000",
         "ticks": "outside",
         "ticktext": [
          "Comercialización",
          "Conservación del suelo",
          "Conservación de agua",
          "Otra",
          "Arreglos de siembra",
          "Agricultura de conservación",
          "Tecnologias de poscosecha",
          "Variedades mejoradas",
          "Manejo integrado de plagas",
          "Fertilización"
         ],
         "tickvals": [
          0,
          1,
          2,
          3,
          4,
          5,
          6,
          7,
          8,
          9
         ],
         "zeroline": false
        }
       }
      },
      "text/html": [
       "<div>                            <div id=\"72468b48-3490-4025-b412-43cf9326afd2\" class=\"plotly-graph-div\" style=\"height:650px; width:830px;\"></div>            <script type=\"text/javascript\">                require([\"plotly\"], function(Plotly) {                    window.PLOTLYENV=window.PLOTLYENV || {};                                    if (document.getElementById(\"72468b48-3490-4025-b412-43cf9326afd2\")) {                    Plotly.newPlot(                        \"72468b48-3490-4025-b412-43cf9326afd2\",                        [{\"cliponaxis\":false,\"legendgroup\":\"Kit t\\u00e9cnol\\u00f3gico\",\"marker\":{\"color\":\"#636efa\",\"line\":{\"width\":0.0}},\"name\":\"Kit t\\u00e9cnol\\u00f3gico\",\"showlegend\":false,\"text\":[17911.0,4753.0,3062.0,2823.0,2013.0,1856.0,1227.0,1081.0,806.0,756.0,594.0,576.0,385.0,333.0,310.0,308.0,234.0,221.0,199.0,198.0,192.0,155.0,143.0,128.0,82.0,70.0,65.0,64.0,63.0,58.0,55.0,48.0,46.0,46.0,46.0,43.0,43.0,36.0,34.0,29.0,26.0,26.0,26.0,18.0,16.0,15.0,14.0,11.0,10.0,9.0,9.0,8.0,8.0,8.0,8.0,7.0,7.0,6.0,6.0,6.0,5.0,4.0,4.0,3.0,3.0,3.0,3.0,3.0,3.0,3.0,3.0,3.0,3.0,3.0,2.0,2.0,2.0,2.0,2.0,2.0,2.0,2.0,2.0,2.0,2.0,2.0,2.0,2.0,2.0,2.0,1.0,1.0,1.0,1.0,1.0,1.0,1.0,1.0,1.0,1.0,1.0,1.0,1.0,1.0,1.0,1.0,1.0,1.0,1.0,1.0,1.0,1.0,1.0,1.0,1.0,1.0,1.0,1.0,1.0,1.0,1.0,1.0,1.0,1.0,1.0,1.0,1.0,1.0,1.0,1.0,1.0,1.0],\"textangle\":-90,\"textfont\":{\"size\":12},\"textposition\":\"outside\",\"texttemplate\":\"%{text:}\",\"x\":[\"0000010000\",\"0000011000\",\"0000011001\",\"0000001000\",\"1000000000\",\"0000000010\",\"0000000001\",\"0000010010\",\"0100000000\",\"0000010001\",\"1100000000\",\"0100011001\",\"0000000000\",\"0000011010\",\"0100010000\",\"0100011000\",\"0000001010\",\"0100001000\",\"0000000100\",\"0000010011\",\"1000011000\",\"1000010000\",\"0001000000\",\"0000001001\",\"0000000011\",\"0000010100\",\"1000000010\",\"1001000000\",\"0000011011\",\"0100011010\",\"1000001000\",\"0100010001\",\"1100010000\",\"1000100010\",\"0000110000\",\"1100011000\",\"0000100000\",\"0100001010\",\"0001010000\",\"0000001011\",\"0100000010\",\"0000111000\",\"0000011100\",\"0100000001\",\"0000101000\",\"0100010010\",\"1000010010\",\"1000011010\",\"0001011000\",\"0010000000\",\"0000001100\",\"1010000000\",\"1001010000\",\"1000111000\",\"0000110010\",\"1100011010\",\"0101010000\",\"1000100000\",\"0100011011\",\"0100010011\",\"0010010000\",\"1000010001\",\"0101011000\",\"1101011000\",\"1100111010\",\"1100001000\",\"1000000011\",\"0101000000\",\"0100011100\",\"0001110000\",\"0001100000\",\"0001010010\",\"0001001000\",\"0000111010\",\"1100010010\",\"1001111000\",\"1001011010\",\"1001011000\",\"1000111010\",\"1000110000\",\"1000011011\",\"1000011001\",\"1000010100\",\"1000010011\",\"0100100000\",\"0001111000\",\"0001011011\",\"0001010001\",\"0001001001\",\"0000011110\",\"1110011000\",\"1101111000\",\"1101101000\",\"1101011100\",\"1101011010\",\"1101001000\",\"1100011101\",\"1100011100\",\"1100011001\",\"1100001100\",\"1010010000\",\"1001110010\",\"1001110000\",\"1001100000\",\"1000111001\",\"1000101000\",\"1000001011\",\"1000001010\",\"1000000100\",\"1000000001\",\"0101110010\",\"0101001001\",\"0101000001\",\"0100111000\",\"0100110000\",\"0100001100\",\"0100001001\",\"0100000100\",\"0010011001\",\"0010011000\",\"0001101000\",\"0001011100\",\"0001011010\",\"0001001010\",\"0001000011\",\"0001000010\",\"0000111110\",\"0000111011\",\"0000110100\",\"0000100010\",\"0000100001\",\"0000000110\"],\"y\":[17911,4753,3062,2823,2013,1856,1227,1081,806,756,594,576,385,333,310,308,234,221,199,198,192,155,143,128,82,70,65,64,63,58,55,48,46,46,46,43,43,36,34,29,26,26,26,18,16,15,14,11,10,9,9,8,8,8,8,7,7,6,6,6,5,4,4,3,3,3,3,3,3,3,3,3,3,3,2,2,2,2,2,2,2,2,2,2,2,2,2,2,2,2,1,1,1,1,1,1,1,1,1,1,1,1,1,1,1,1,1,1,1,1,1,1,1,1,1,1,1,1,1,1,1,1,1,1,1,1,1,1,1,1,1,1],\"type\":\"bar\",\"xaxis\":\"x2\",\"yaxis\":\"y2\"},{\"cliponaxis\":false,\"legendgroup\":\"Kit t\\u00e9cnol\\u00f3gico\",\"marker\":{\"color\":\"#636efa\",\"line\":{\"width\":0.0}},\"name\":\"Kit t\\u00e9cnol\\u00f3gico\",\"orientation\":\"h\",\"text\":[26.0,237.0,319.0,322.0,3172.0,3391.0,4213.0,6230.0,13101.0,30275.0],\"textangle\":0,\"textfont\":{\"size\":12},\"textposition\":\"outside\",\"texttemplate\":\"%{text:}\",\"x\":[26,237,319,322,3172,3391,4213,6230,13101,30275],\"y\":[\"Comercializaci\\u00f3n\",\"Conservaci\\u00f3n del suelo\",\"Conservaci\\u00f3n de agua\",\"Otra\",\"Arreglos de siembra\",\"Agricultura de conservaci\\u00f3n\",\"Tecnologias de poscosecha\",\"Variedades mejoradas\",\"Manejo integrado de plagas\",\"Fertilizaci\\u00f3n\"],\"type\":\"bar\",\"xaxis\":\"x3\",\"yaxis\":\"y3\"},{\"legendgroup\":\"True\",\"marker\":{\"color\":\"#000000\",\"line\":{\"color\":\"#000000\",\"width\":0},\"size\":12,\"symbol\":\"circle\"},\"mode\":\"markers\",\"name\":\"True\",\"showlegend\":false,\"x\":[4,8,49,22,36,0,3,18,5,6,109,43,130,9,23,24,24,26,40,125,129,7,16,131,131,66,124,19,39,108,117,25,50,50,16,23,39,39,30,17,72,44,1,1,25,7,9,116,88,2,2,19,19,107,37,123,13,13,106,28,28,115,42,42,42,13,2,28,28,89,89,89,89,21,14,60,38,34,34,44,129,130,61,31,87,46,45,71,54,54,83,59,82,128,128,20,15,119,48,41,41,41,128,54,81,11,118,47,29,122,73,73,73,80,58,86,127,127,127,68,121,73,127,127,126,126,126,126,126,57,84,70,70,38,72,125,87,88,124,124,33,71,123,123,88,105,120,120,48,48,71,87,122,122,86,86,121,121,121,122,86,86,79,114,69,69,69,120,53,113,85,85,85,85,104,78,27,67,60,112,119,119,111,118,118,118,52,56,77,62,76,103,102,101,110,75,51,67,84,14,17,117,40,43,112,31,116,45,37,59,115,115,37,116,15,15,45,31,111,11,11,59,59,29,29,58,58,68,68,68,29,11,58,58,100,56,114,114,62,113,113,113,56,112,111,111,62,62,110,110,110,110,10,10,51,27,57,21,30,108,26,109,61,66,66,33,46,107,83,106,82,107,106,106,65,65,105,20,20,82,46,61,81,81,83,83,47,47,80,80,99,99,47,81,80,80,32,32,100,52,79,79,105,33,74,74,35,35,77,53,53,53,98,98,104,104,104,55,55,76,78,78,78,97,97,78,104,96,96,103,103,52,77,77,76,76,76,102,102,102,101,101,101,75,75,75,75,101,64,64,100,95,95,63,63,94,94,93,93,92,92,91,91,32,65,74,99,99,95,35,35,74,98,98,55,55,97,97,97,55,98,96,96,96,96,90,90,90,63,94,64,64,64,93,64,95,92,92,63,63,94,94,93,93,93,94,92,91,91,91,91,90,90],\"y\":[0,1,2,3,4,5,6,7,8,9,0,1,4,5,6,8,9,0,1,3,4,5,6,7,8,0,3,5,6,0,1,5,6,7,8,9,8,9,0,1,3,4,5,6,7,8,9,1,3,5,6,8,9,0,1,3,5,6,0,5,6,1,5,6,7,8,9,8,9,5,6,7,8,0,1,2,3,4,5,6,8,9,0,1,3,0,1,3,4,5,0,1,0,4,5,0,1,2,3,4,5,6,7,8,0,1,2,0,1,3,4,5,6,0,1,3,4,5,6,1,3,8,8,9,4,5,6,7,8,0,1,3,4,5,6,8,5,6,8,9,0,5,6,8,9,0,3,4,5,6,8,9,5,6,5,6,5,6,7,8,8,9,0,1,3,4,5,6,0,1,3,4,5,6,0,0,0,1,5,1,5,6,1,5,6,9,0,1,0,1,0,0,0,0,1,0,0,3,4,5,6,7,8,9,3,5,6,5,6,5,6,7,8,9,5,6,8,9,3,5,6,8,9,5,6,5,6,5,6,7,8,9,8,9,0,3,4,5,3,4,5,6,5,9,6,9,5,6,3,4,5,8,0,1,2,3,4,5,6,7,8,9,5,8,9,4,5,6,5,6,5,8,8,9,0,1,4,5,6,7,8,9,5,6,8,9,5,6,5,6,0,1,8,9,8,9,0,1,2,3,4,5,6,8,0,1,0,1,3,4,5,6,0,1,4,5,6,0,1,3,4,5,6,0,1,8,9,0,1,3,4,5,5,6,5,6,8,3,4,5,3,4,5,3,4,5,6,8,0,1,5,0,1,0,1,0,1,0,1,0,1,0,1,5,6,5,6,7,3,5,6,8,5,6,5,6,5,6,7,8,9,5,6,7,9,0,1,2,3,3,4,5,6,3,8,6,3,4,5,6,5,6,5,6,7,8,6,3,4,5,6,5,6],\"type\":\"scatter\",\"xaxis\":\"x4\",\"yaxis\":\"y4\"},{\"legendgroup\":\"False\",\"marker\":{\"color\":\"#C2C2C2\",\"line\":{\"color\":\"#000000\",\"width\":0},\"size\":12,\"symbol\":\"circle\"},\"mode\":\"markers\",\"name\":\"False\",\"showlegend\":false,\"x\":[91,92,93,94,63,90,90,90,90,90,95,93,91,91,91,64,64,94,63,92,92,92,92,94,93,93,94,63,63,63,95,95,95,95,95,64,96,96,96,64,97,97,97,55,55,55,98,98,98,35,35,35,74,74,74,100,32,32,32,96,55,97,97,98,98,55,99,99,99,99,35,35,35,74,74,74,65,65,65,65,32,32,32,32,99,99,65,65,65,51,10,10,10,10,10,10,10,10,75,75,110,101,101,102,102,103,103,76,76,62,77,77,56,52,52,100,100,111,100,100,100,100,112,67,27,27,51,51,51,51,51,51,51,75,75,75,78,78,78,76,101,101,104,104,104,101,113,53,53,53,77,102,102,102,102,114,79,79,79,52,103,103,103,103,103,76,76,77,77,77,105,105,105,52,52,52,52,33,33,33,84,57,57,57,27,27,27,27,27,27,78,104,104,78,68,53,53,53,58,80,80,80,80,29,47,47,47,47,11,81,81,81,81,15,20,20,20,20,105,79,79,79,79,82,82,82,82,105,105,105,59,83,83,83,83,45,46,46,46,46,33,33,33,31,61,61,61,61,33,14,21,21,21,21,57,57,57,57,57,80,47,81,81,47,115,82,20,20,20,106,106,106,106,106,83,83,37,107,107,107,107,107,46,46,82,82,116,61,61,61,46,17,30,30,30,30,30,21,21,21,21,106,107,107,117,108,108,108,108,108,108,30,30,30,66,66,66,66,66,66,66,40,26,26,26,26,26,26,26,108,108,43,109,109,109,109,109,109,109,109,26,8,4,4,4,4,4,4,4,4,4,110,62,56,111,112,67,110,110,110,113,113,62,114,114,56,62,62,62,111,111,56,56,56,56,111,111,112,112,112,112,112,84,84,67,67,67,67,67,67,68,68,68,113,113,113,58,58,58,29,29,29,118,118,11,11,11,119,119,15,15,15,114,114,114,114,59,59,59,45,45,45,31,31,31,60,60,14,14,14,84,84,84,84,84,58,29,68,68,11,11,29,115,115,115,115,15,15,15,59,59,37,37,37,37,45,45,116,116,116,116,31,31,31,45,17,17,17,17,14,14,14,14,37,115,115,116,116,37,117,117,117,117,117,17,17,17,40,40,40,40,40,40,117,117,43,43,43,43,43,43,43,40,49,49,8,8,8,8,8,8,8,8,85,85,85,69,69,69,120,120,120,70,70,70,121,121,121,86,86,86,122,122,122,118,118,48,48,48,119,119,71,71,71,87,87,87,38,38,38,60,60,118,118,119,119,119,123,123,123,88,88,88,72,72,72,60,60,60,60,124,124,124,125,125,125,22,22,22,49,49,49,49,49,49,49,126,126,126,126,121,85,85,85,127,127,127,127,86,73,73,73,73,122,41,41,41,41,48,120,69,69,69,69,128,128,128,128,120,120,120,54,54,54,54,71,87,34,34,34,34,38,70,70,70,70,70,86,122,121,121,122,48,48,48,123,123,71,71,88,88,87,87,87,71,44,44,44,44,72,72,38,38,38,38,123,88,88,123,72,72,72,124,124,124,124,129,129,129,129,125,125,125,125,130,130,130,130,125,36,36,36,36,22,22,22,22,22,22,127,126,89,89,89,89,89,73,73,42,42,42,42,42,128,41,41,41,28,28,28,28,28,13,13,13,13,13,54,54,128,128,2,2,2,2,2,54,1,1,1,1,1,44,34,34,34,34,25,25,25,25,25,44,44,44,19,19,19,19,19,7,7,7,7,7,129,129,129,9,9,9,9,9,130,130,130,130,129,0,0,0,0,0,36,36,36,36,36,28,89,13,42,42,2,2,13,50,50,50,50,50,50,25,1,1,1,39,39,39,39,39,39,19,19,16,16,16,16,16,16,7,7,25,25,23,23,23,23,23,23,9,9,9,7,3,3,3,3,3,3,0,0,0,0,39,131,131,131,131,131,131,131,16,50,50,23,23,16,18,18,18,18,18,18,18,3,3,3,24,24,24,24,24,24,24,24,131,5,5,5,5,5,5,5,5,18,18,6,6,6,6,6,6,6,6,6,5,12,12,12,12,12,12,12,12,12,12],\"y\":[2,2,2,2,2,3,4,7,8,9,2,4,7,8,9,2,3,4,4,5,7,8,9,7,8,9,9,7,8,9,4,5,7,8,9,7,2,3,4,9,2,3,4,2,3,4,2,3,4,2,3,4,2,3,4,1,2,3,4,8,7,8,9,7,8,9,2,3,4,5,7,8,9,6,7,9,2,3,4,5,6,7,8,9,8,9,7,8,9,1,2,3,4,5,6,7,8,9,1,2,0,1,2,1,2,1,2,1,2,0,1,2,0,1,2,3,4,0,6,7,8,9,0,0,1,2,3,4,5,6,7,8,9,7,8,9,1,2,3,4,6,7,1,2,3,9,0,1,2,3,4,6,7,8,9,0,1,2,3,4,5,6,7,8,9,7,9,7,8,9,1,2,3,6,7,8,9,1,2,3,0,1,2,3,4,5,6,7,8,9,7,7,8,9,0,7,8,9,0,1,2,3,4,0,1,2,3,4,0,1,2,3,4,0,1,2,3,4,5,6,7,8,9,1,2,3,4,7,8,9,0,1,2,3,4,0,1,2,3,4,5,6,7,0,1,2,3,4,9,0,1,2,3,4,5,6,7,8,9,7,7,7,8,9,0,6,7,8,9,1,2,3,4,5,6,7,0,1,2,3,4,5,6,7,8,9,0,6,7,8,9,0,1,2,3,4,5,6,7,8,9,7,7,9,0,1,2,3,4,5,6,7,8,9,1,2,3,4,5,6,7,0,1,2,3,4,5,6,7,8,9,0,1,2,3,4,5,6,7,8,9,0,1,2,3,4,5,6,7,8,9,2,2,2,2,2,2,6,7,9,2,3,4,2,3,4,7,8,9,4,5,6,7,8,9,7,8,4,5,6,7,8,2,3,4,5,6,7,8,9,2,3,4,7,8,9,2,3,4,2,3,4,0,1,2,3,4,0,1,2,3,4,6,7,8,9,2,3,4,2,3,4,2,3,4,0,1,2,3,4,5,6,7,8,9,7,7,8,9,7,8,9,2,3,4,5,7,8,9,6,7,2,3,4,5,6,7,2,3,4,5,6,7,8,9,2,3,4,5,6,7,8,9,7,8,9,7,8,9,2,3,4,5,6,7,8,9,2,3,4,5,6,7,8,9,2,3,4,5,6,7,8,9,0,1,2,3,4,5,6,7,8,9,0,1,2,0,1,2,0,1,2,0,1,2,0,1,2,0,1,2,0,1,2,3,4,0,1,2,3,4,0,1,2,0,1,2,0,1,2,3,4,7,8,7,8,9,0,1,2,0,1,2,0,1,2,6,7,8,9,0,1,2,0,1,2,0,1,2,3,4,5,6,7,8,9,0,1,2,3,4,7,8,9,0,1,2,3,4,0,1,2,3,4,0,1,2,3,4,5,6,7,8,9,0,1,2,3,7,8,9,0,1,2,3,4,4,0,1,2,3,4,5,6,7,8,9,7,7,8,9,9,7,8,9,4,5,6,7,4,5,6,7,8,9,0,1,2,3,4,5,6,7,8,9,7,7,8,9,7,8,9,4,5,6,7,0,1,2,3,4,5,6,7,0,1,2,3,9,0,1,2,3,4,5,6,7,8,9,7,9,0,1,2,3,4,7,9,0,1,2,3,4,6,7,8,9,0,1,2,3,4,0,1,2,3,4,6,7,8,9,0,1,2,3,4,9,0,1,2,3,4,5,6,7,8,9,0,1,2,3,4,7,8,9,0,1,2,3,4,0,1,2,3,4,5,6,7,0,1,2,3,4,5,6,7,8,9,0,1,2,3,4,5,6,7,8,9,7,9,7,8,9,7,8,9,0,1,2,3,4,5,6,7,8,9,0,1,2,3,4,5,6,7,0,1,2,3,4,5,6,7,8,9,0,1,2,3,4,5,6,7,8,9,0,1,2,3,4,5,6,7,8,9,7,0,1,2,3,4,5,6,7,8,9,7,8,9,0,1,2,3,4,5,6,7,8,9,0,1,2,3,4,5,6,7,9,0,1,2,3,4,5,6,7,8,9,0,1,2,3,4,5,6,7,8,9,0,1,2,3,4,5,6,7,8,9],\"type\":\"scatter\",\"xaxis\":\"x4\",\"yaxis\":\"y4\"},{\"legendgroup\":\"True\",\"line\":{\"color\":\"#000000\",\"width\":2},\"mode\":\"lines\",\"name\":\"True\",\"showlegend\":false,\"x\":[24,24],\"y\":[8,9],\"type\":\"scatter\",\"xaxis\":\"x4\",\"yaxis\":\"y4\"},{\"legendgroup\":\"True\",\"line\":{\"color\":\"#000000\",\"width\":2},\"mode\":\"lines\",\"name\":\"True\",\"showlegend\":false,\"x\":[131,131],\"y\":[7,8],\"type\":\"scatter\",\"xaxis\":\"x4\",\"yaxis\":\"y4\"},{\"legendgroup\":\"True\",\"line\":{\"color\":\"#000000\",\"width\":2},\"mode\":\"lines\",\"name\":\"True\",\"showlegend\":false,\"x\":[23,23],\"y\":[6,9],\"type\":\"scatter\",\"xaxis\":\"x4\",\"yaxis\":\"y4\"},{\"legendgroup\":\"True\",\"line\":{\"color\":\"#000000\",\"width\":2},\"mode\":\"lines\",\"name\":\"True\",\"showlegend\":false,\"x\":[16,16],\"y\":[6,8],\"type\":\"scatter\",\"xaxis\":\"x4\",\"yaxis\":\"y4\"},{\"legendgroup\":\"True\",\"line\":{\"color\":\"#000000\",\"width\":2},\"mode\":\"lines\",\"name\":\"True\",\"showlegend\":false,\"x\":[39,39],\"y\":[6,8],\"type\":\"scatter\",\"xaxis\":\"x4\",\"yaxis\":\"y4\"},{\"legendgroup\":\"True\",\"line\":{\"color\":\"#000000\",\"width\":2},\"mode\":\"lines\",\"name\":\"True\",\"showlegend\":false,\"x\":[39,39],\"y\":[8,9],\"type\":\"scatter\",\"xaxis\":\"x4\",\"yaxis\":\"y4\"},{\"legendgroup\":\"True\",\"line\":{\"color\":\"#000000\",\"width\":2},\"mode\":\"lines\",\"name\":\"True\",\"showlegend\":false,\"x\":[50,50],\"y\":[6,7],\"type\":\"scatter\",\"xaxis\":\"x4\",\"yaxis\":\"y4\"},{\"legendgroup\":\"True\",\"line\":{\"color\":\"#000000\",\"width\":2},\"mode\":\"lines\",\"name\":\"True\",\"showlegend\":false,\"x\":[9,9],\"y\":[5,9],\"type\":\"scatter\",\"xaxis\":\"x4\",\"yaxis\":\"y4\"},{\"legendgroup\":\"True\",\"line\":{\"color\":\"#000000\",\"width\":2},\"mode\":\"lines\",\"name\":\"True\",\"showlegend\":false,\"x\":[7,7],\"y\":[5,8],\"type\":\"scatter\",\"xaxis\":\"x4\",\"yaxis\":\"y4\"},{\"legendgroup\":\"True\",\"line\":{\"color\":\"#000000\",\"width\":2},\"mode\":\"lines\",\"name\":\"True\",\"showlegend\":false,\"x\":[19,19],\"y\":[5,8],\"type\":\"scatter\",\"xaxis\":\"x4\",\"yaxis\":\"y4\"},{\"legendgroup\":\"True\",\"line\":{\"color\":\"#000000\",\"width\":2},\"mode\":\"lines\",\"name\":\"True\",\"showlegend\":false,\"x\":[19,19],\"y\":[8,9],\"type\":\"scatter\",\"xaxis\":\"x4\",\"yaxis\":\"y4\"},{\"legendgroup\":\"True\",\"line\":{\"color\":\"#000000\",\"width\":2},\"mode\":\"lines\",\"name\":\"True\",\"showlegend\":false,\"x\":[25,25],\"y\":[5,7],\"type\":\"scatter\",\"xaxis\":\"x4\",\"yaxis\":\"y4\"},{\"legendgroup\":\"True\",\"line\":{\"color\":\"#000000\",\"width\":2},\"mode\":\"lines\",\"name\":\"True\",\"showlegend\":false,\"x\":[1,1],\"y\":[5,6],\"type\":\"scatter\",\"xaxis\":\"x4\",\"yaxis\":\"y4\"},{\"legendgroup\":\"True\",\"line\":{\"color\":\"#000000\",\"width\":2},\"mode\":\"lines\",\"name\":\"True\",\"showlegend\":false,\"x\":[2,2],\"y\":[5,6],\"type\":\"scatter\",\"xaxis\":\"x4\",\"yaxis\":\"y4\"},{\"legendgroup\":\"True\",\"line\":{\"color\":\"#000000\",\"width\":2},\"mode\":\"lines\",\"name\":\"True\",\"showlegend\":false,\"x\":[2,2],\"y\":[6,9],\"type\":\"scatter\",\"xaxis\":\"x4\",\"yaxis\":\"y4\"},{\"legendgroup\":\"True\",\"line\":{\"color\":\"#000000\",\"width\":2},\"mode\":\"lines\",\"name\":\"True\",\"showlegend\":false,\"x\":[13,13],\"y\":[5,6],\"type\":\"scatter\",\"xaxis\":\"x4\",\"yaxis\":\"y4\"},{\"legendgroup\":\"True\",\"line\":{\"color\":\"#000000\",\"width\":2},\"mode\":\"lines\",\"name\":\"True\",\"showlegend\":false,\"x\":[13,13],\"y\":[6,8],\"type\":\"scatter\",\"xaxis\":\"x4\",\"yaxis\":\"y4\"},{\"legendgroup\":\"True\",\"line\":{\"color\":\"#000000\",\"width\":2},\"mode\":\"lines\",\"name\":\"True\",\"showlegend\":false,\"x\":[28,28],\"y\":[5,6],\"type\":\"scatter\",\"xaxis\":\"x4\",\"yaxis\":\"y4\"},{\"legendgroup\":\"True\",\"line\":{\"color\":\"#000000\",\"width\":2},\"mode\":\"lines\",\"name\":\"True\",\"showlegend\":false,\"x\":[28,28],\"y\":[6,8],\"type\":\"scatter\",\"xaxis\":\"x4\",\"yaxis\":\"y4\"},{\"legendgroup\":\"True\",\"line\":{\"color\":\"#000000\",\"width\":2},\"mode\":\"lines\",\"name\":\"True\",\"showlegend\":false,\"x\":[28,28],\"y\":[8,9],\"type\":\"scatter\",\"xaxis\":\"x4\",\"yaxis\":\"y4\"},{\"legendgroup\":\"True\",\"line\":{\"color\":\"#000000\",\"width\":2},\"mode\":\"lines\",\"name\":\"True\",\"showlegend\":false,\"x\":[42,42],\"y\":[5,6],\"type\":\"scatter\",\"xaxis\":\"x4\",\"yaxis\":\"y4\"},{\"legendgroup\":\"True\",\"line\":{\"color\":\"#000000\",\"width\":2},\"mode\":\"lines\",\"name\":\"True\",\"showlegend\":false,\"x\":[42,42],\"y\":[6,7],\"type\":\"scatter\",\"xaxis\":\"x4\",\"yaxis\":\"y4\"},{\"legendgroup\":\"True\",\"line\":{\"color\":\"#000000\",\"width\":2},\"mode\":\"lines\",\"name\":\"True\",\"showlegend\":false,\"x\":[89,89],\"y\":[5,6],\"type\":\"scatter\",\"xaxis\":\"x4\",\"yaxis\":\"y4\"},{\"legendgroup\":\"True\",\"line\":{\"color\":\"#000000\",\"width\":2},\"mode\":\"lines\",\"name\":\"True\",\"showlegend\":false,\"x\":[89,89],\"y\":[6,7],\"type\":\"scatter\",\"xaxis\":\"x4\",\"yaxis\":\"y4\"},{\"legendgroup\":\"True\",\"line\":{\"color\":\"#000000\",\"width\":2},\"mode\":\"lines\",\"name\":\"True\",\"showlegend\":false,\"x\":[89,89],\"y\":[7,8],\"type\":\"scatter\",\"xaxis\":\"x4\",\"yaxis\":\"y4\"},{\"legendgroup\":\"True\",\"line\":{\"color\":\"#000000\",\"width\":2},\"mode\":\"lines\",\"name\":\"True\",\"showlegend\":false,\"x\":[130,130],\"y\":[4,9],\"type\":\"scatter\",\"xaxis\":\"x4\",\"yaxis\":\"y4\"},{\"legendgroup\":\"True\",\"line\":{\"color\":\"#000000\",\"width\":2},\"mode\":\"lines\",\"name\":\"True\",\"showlegend\":false,\"x\":[129,129],\"y\":[4,8],\"type\":\"scatter\",\"xaxis\":\"x4\",\"yaxis\":\"y4\"},{\"legendgroup\":\"True\",\"line\":{\"color\":\"#000000\",\"width\":2},\"mode\":\"lines\",\"name\":\"True\",\"showlegend\":false,\"x\":[44,44],\"y\":[4,6],\"type\":\"scatter\",\"xaxis\":\"x4\",\"yaxis\":\"y4\"},{\"legendgroup\":\"True\",\"line\":{\"color\":\"#000000\",\"width\":2},\"mode\":\"lines\",\"name\":\"True\",\"showlegend\":false,\"x\":[34,34],\"y\":[4,5],\"type\":\"scatter\",\"xaxis\":\"x4\",\"yaxis\":\"y4\"},{\"legendgroup\":\"True\",\"line\":{\"color\":\"#000000\",\"width\":2},\"mode\":\"lines\",\"name\":\"True\",\"showlegend\":false,\"x\":[54,54],\"y\":[4,5],\"type\":\"scatter\",\"xaxis\":\"x4\",\"yaxis\":\"y4\"},{\"legendgroup\":\"True\",\"line\":{\"color\":\"#000000\",\"width\":2},\"mode\":\"lines\",\"name\":\"True\",\"showlegend\":false,\"x\":[54,54],\"y\":[5,8],\"type\":\"scatter\",\"xaxis\":\"x4\",\"yaxis\":\"y4\"},{\"legendgroup\":\"True\",\"line\":{\"color\":\"#000000\",\"width\":2},\"mode\":\"lines\",\"name\":\"True\",\"showlegend\":false,\"x\":[128,128],\"y\":[4,5],\"type\":\"scatter\",\"xaxis\":\"x4\",\"yaxis\":\"y4\"},{\"legendgroup\":\"True\",\"line\":{\"color\":\"#000000\",\"width\":2},\"mode\":\"lines\",\"name\":\"True\",\"showlegend\":false,\"x\":[128,128],\"y\":[5,7],\"type\":\"scatter\",\"xaxis\":\"x4\",\"yaxis\":\"y4\"},{\"legendgroup\":\"True\",\"line\":{\"color\":\"#000000\",\"width\":2},\"mode\":\"lines\",\"name\":\"True\",\"showlegend\":false,\"x\":[41,41],\"y\":[4,5],\"type\":\"scatter\",\"xaxis\":\"x4\",\"yaxis\":\"y4\"},{\"legendgroup\":\"True\",\"line\":{\"color\":\"#000000\",\"width\":2},\"mode\":\"lines\",\"name\":\"True\",\"showlegend\":false,\"x\":[41,41],\"y\":[5,6],\"type\":\"scatter\",\"xaxis\":\"x4\",\"yaxis\":\"y4\"},{\"legendgroup\":\"True\",\"line\":{\"color\":\"#000000\",\"width\":2},\"mode\":\"lines\",\"name\":\"True\",\"showlegend\":false,\"x\":[73,73],\"y\":[4,5],\"type\":\"scatter\",\"xaxis\":\"x4\",\"yaxis\":\"y4\"},{\"legendgroup\":\"True\",\"line\":{\"color\":\"#000000\",\"width\":2},\"mode\":\"lines\",\"name\":\"True\",\"showlegend\":false,\"x\":[73,73],\"y\":[5,6],\"type\":\"scatter\",\"xaxis\":\"x4\",\"yaxis\":\"y4\"},{\"legendgroup\":\"True\",\"line\":{\"color\":\"#000000\",\"width\":2},\"mode\":\"lines\",\"name\":\"True\",\"showlegend\":false,\"x\":[73,73],\"y\":[6,8],\"type\":\"scatter\",\"xaxis\":\"x4\",\"yaxis\":\"y4\"},{\"legendgroup\":\"True\",\"line\":{\"color\":\"#000000\",\"width\":2},\"mode\":\"lines\",\"name\":\"True\",\"showlegend\":false,\"x\":[127,127],\"y\":[4,5],\"type\":\"scatter\",\"xaxis\":\"x4\",\"yaxis\":\"y4\"},{\"legendgroup\":\"True\",\"line\":{\"color\":\"#000000\",\"width\":2},\"mode\":\"lines\",\"name\":\"True\",\"showlegend\":false,\"x\":[127,127],\"y\":[5,6],\"type\":\"scatter\",\"xaxis\":\"x4\",\"yaxis\":\"y4\"},{\"legendgroup\":\"True\",\"line\":{\"color\":\"#000000\",\"width\":2},\"mode\":\"lines\",\"name\":\"True\",\"showlegend\":false,\"x\":[127,127],\"y\":[6,8],\"type\":\"scatter\",\"xaxis\":\"x4\",\"yaxis\":\"y4\"},{\"legendgroup\":\"True\",\"line\":{\"color\":\"#000000\",\"width\":2},\"mode\":\"lines\",\"name\":\"True\",\"showlegend\":false,\"x\":[127,127],\"y\":[8,9],\"type\":\"scatter\",\"xaxis\":\"x4\",\"yaxis\":\"y4\"},{\"legendgroup\":\"True\",\"line\":{\"color\":\"#000000\",\"width\":2},\"mode\":\"lines\",\"name\":\"True\",\"showlegend\":false,\"x\":[126,126],\"y\":[4,5],\"type\":\"scatter\",\"xaxis\":\"x4\",\"yaxis\":\"y4\"},{\"legendgroup\":\"True\",\"line\":{\"color\":\"#000000\",\"width\":2},\"mode\":\"lines\",\"name\":\"True\",\"showlegend\":false,\"x\":[126,126],\"y\":[5,6],\"type\":\"scatter\",\"xaxis\":\"x4\",\"yaxis\":\"y4\"},{\"legendgroup\":\"True\",\"line\":{\"color\":\"#000000\",\"width\":2},\"mode\":\"lines\",\"name\":\"True\",\"showlegend\":false,\"x\":[126,126],\"y\":[6,7],\"type\":\"scatter\",\"xaxis\":\"x4\",\"yaxis\":\"y4\"},{\"legendgroup\":\"True\",\"line\":{\"color\":\"#000000\",\"width\":2},\"mode\":\"lines\",\"name\":\"True\",\"showlegend\":false,\"x\":[126,126],\"y\":[7,8],\"type\":\"scatter\",\"xaxis\":\"x4\",\"yaxis\":\"y4\"},{\"legendgroup\":\"True\",\"line\":{\"color\":\"#000000\",\"width\":2},\"mode\":\"lines\",\"name\":\"True\",\"showlegend\":false,\"x\":[125,125],\"y\":[3,8],\"type\":\"scatter\",\"xaxis\":\"x4\",\"yaxis\":\"y4\"},{\"legendgroup\":\"True\",\"line\":{\"color\":\"#000000\",\"width\":2},\"mode\":\"lines\",\"name\":\"True\",\"showlegend\":false,\"x\":[124,124],\"y\":[3,8],\"type\":\"scatter\",\"xaxis\":\"x4\",\"yaxis\":\"y4\"},{\"legendgroup\":\"True\",\"line\":{\"color\":\"#000000\",\"width\":2},\"mode\":\"lines\",\"name\":\"True\",\"showlegend\":false,\"x\":[124,124],\"y\":[8,9],\"type\":\"scatter\",\"xaxis\":\"x4\",\"yaxis\":\"y4\"},{\"legendgroup\":\"True\",\"line\":{\"color\":\"#000000\",\"width\":2},\"mode\":\"lines\",\"name\":\"True\",\"showlegend\":false,\"x\":[72,72],\"y\":[3,6],\"type\":\"scatter\",\"xaxis\":\"x4\",\"yaxis\":\"y4\"},{\"legendgroup\":\"True\",\"line\":{\"color\":\"#000000\",\"width\":2},\"mode\":\"lines\",\"name\":\"True\",\"showlegend\":false,\"x\":[88,88],\"y\":[3,6],\"type\":\"scatter\",\"xaxis\":\"x4\",\"yaxis\":\"y4\"},{\"legendgroup\":\"True\",\"line\":{\"color\":\"#000000\",\"width\":2},\"mode\":\"lines\",\"name\":\"True\",\"showlegend\":false,\"x\":[88,88],\"y\":[6,9],\"type\":\"scatter\",\"xaxis\":\"x4\",\"yaxis\":\"y4\"},{\"legendgroup\":\"True\",\"line\":{\"color\":\"#000000\",\"width\":2},\"mode\":\"lines\",\"name\":\"True\",\"showlegend\":false,\"x\":[123,123],\"y\":[3,6],\"type\":\"scatter\",\"xaxis\":\"x4\",\"yaxis\":\"y4\"},{\"legendgroup\":\"True\",\"line\":{\"color\":\"#000000\",\"width\":2},\"mode\":\"lines\",\"name\":\"True\",\"showlegend\":false,\"x\":[123,123],\"y\":[6,8],\"type\":\"scatter\",\"xaxis\":\"x4\",\"yaxis\":\"y4\"},{\"legendgroup\":\"True\",\"line\":{\"color\":\"#000000\",\"width\":2},\"mode\":\"lines\",\"name\":\"True\",\"showlegend\":false,\"x\":[38,38],\"y\":[3,5],\"type\":\"scatter\",\"xaxis\":\"x4\",\"yaxis\":\"y4\"},{\"legendgroup\":\"True\",\"line\":{\"color\":\"#000000\",\"width\":2},\"mode\":\"lines\",\"name\":\"True\",\"showlegend\":false,\"x\":[87,87],\"y\":[3,5],\"type\":\"scatter\",\"xaxis\":\"x4\",\"yaxis\":\"y4\"},{\"legendgroup\":\"True\",\"line\":{\"color\":\"#000000\",\"width\":2},\"mode\":\"lines\",\"name\":\"True\",\"showlegend\":false,\"x\":[87,87],\"y\":[5,9],\"type\":\"scatter\",\"xaxis\":\"x4\",\"yaxis\":\"y4\"},{\"legendgroup\":\"True\",\"line\":{\"color\":\"#000000\",\"width\":2},\"mode\":\"lines\",\"name\":\"True\",\"showlegend\":false,\"x\":[71,71],\"y\":[3,5],\"type\":\"scatter\",\"xaxis\":\"x4\",\"yaxis\":\"y4\"},{\"legendgroup\":\"True\",\"line\":{\"color\":\"#000000\",\"width\":2},\"mode\":\"lines\",\"name\":\"True\",\"showlegend\":false,\"x\":[71,71],\"y\":[5,8],\"type\":\"scatter\",\"xaxis\":\"x4\",\"yaxis\":\"y4\"},{\"legendgroup\":\"True\",\"line\":{\"color\":\"#000000\",\"width\":2},\"mode\":\"lines\",\"name\":\"True\",\"showlegend\":false,\"x\":[48,48],\"y\":[3,5],\"type\":\"scatter\",\"xaxis\":\"x4\",\"yaxis\":\"y4\"},{\"legendgroup\":\"True\",\"line\":{\"color\":\"#000000\",\"width\":2},\"mode\":\"lines\",\"name\":\"True\",\"showlegend\":false,\"x\":[48,48],\"y\":[5,6],\"type\":\"scatter\",\"xaxis\":\"x4\",\"yaxis\":\"y4\"},{\"legendgroup\":\"True\",\"line\":{\"color\":\"#000000\",\"width\":2},\"mode\":\"lines\",\"name\":\"True\",\"showlegend\":false,\"x\":[122,122],\"y\":[3,5],\"type\":\"scatter\",\"xaxis\":\"x4\",\"yaxis\":\"y4\"},{\"legendgroup\":\"True\",\"line\":{\"color\":\"#000000\",\"width\":2},\"mode\":\"lines\",\"name\":\"True\",\"showlegend\":false,\"x\":[122,122],\"y\":[5,6],\"type\":\"scatter\",\"xaxis\":\"x4\",\"yaxis\":\"y4\"},{\"legendgroup\":\"True\",\"line\":{\"color\":\"#000000\",\"width\":2},\"mode\":\"lines\",\"name\":\"True\",\"showlegend\":false,\"x\":[122,122],\"y\":[6,8],\"type\":\"scatter\",\"xaxis\":\"x4\",\"yaxis\":\"y4\"},{\"legendgroup\":\"True\",\"line\":{\"color\":\"#000000\",\"width\":2},\"mode\":\"lines\",\"name\":\"True\",\"showlegend\":false,\"x\":[86,86],\"y\":[3,5],\"type\":\"scatter\",\"xaxis\":\"x4\",\"yaxis\":\"y4\"},{\"legendgroup\":\"True\",\"line\":{\"color\":\"#000000\",\"width\":2},\"mode\":\"lines\",\"name\":\"True\",\"showlegend\":false,\"x\":[86,86],\"y\":[5,6],\"type\":\"scatter\",\"xaxis\":\"x4\",\"yaxis\":\"y4\"},{\"legendgroup\":\"True\",\"line\":{\"color\":\"#000000\",\"width\":2},\"mode\":\"lines\",\"name\":\"True\",\"showlegend\":false,\"x\":[86,86],\"y\":[6,8],\"type\":\"scatter\",\"xaxis\":\"x4\",\"yaxis\":\"y4\"},{\"legendgroup\":\"True\",\"line\":{\"color\":\"#000000\",\"width\":2},\"mode\":\"lines\",\"name\":\"True\",\"showlegend\":false,\"x\":[86,86],\"y\":[8,9],\"type\":\"scatter\",\"xaxis\":\"x4\",\"yaxis\":\"y4\"},{\"legendgroup\":\"True\",\"line\":{\"color\":\"#000000\",\"width\":2},\"mode\":\"lines\",\"name\":\"True\",\"showlegend\":false,\"x\":[121,121],\"y\":[3,5],\"type\":\"scatter\",\"xaxis\":\"x4\",\"yaxis\":\"y4\"},{\"legendgroup\":\"True\",\"line\":{\"color\":\"#000000\",\"width\":2},\"mode\":\"lines\",\"name\":\"True\",\"showlegend\":false,\"x\":[121,121],\"y\":[5,6],\"type\":\"scatter\",\"xaxis\":\"x4\",\"yaxis\":\"y4\"},{\"legendgroup\":\"True\",\"line\":{\"color\":\"#000000\",\"width\":2},\"mode\":\"lines\",\"name\":\"True\",\"showlegend\":false,\"x\":[121,121],\"y\":[6,7],\"type\":\"scatter\",\"xaxis\":\"x4\",\"yaxis\":\"y4\"},{\"legendgroup\":\"True\",\"line\":{\"color\":\"#000000\",\"width\":2},\"mode\":\"lines\",\"name\":\"True\",\"showlegend\":false,\"x\":[70,70],\"y\":[3,4],\"type\":\"scatter\",\"xaxis\":\"x4\",\"yaxis\":\"y4\"},{\"legendgroup\":\"True\",\"line\":{\"color\":\"#000000\",\"width\":2},\"mode\":\"lines\",\"name\":\"True\",\"showlegend\":false,\"x\":[120,120],\"y\":[3,4],\"type\":\"scatter\",\"xaxis\":\"x4\",\"yaxis\":\"y4\"},{\"legendgroup\":\"True\",\"line\":{\"color\":\"#000000\",\"width\":2},\"mode\":\"lines\",\"name\":\"True\",\"showlegend\":false,\"x\":[120,120],\"y\":[4,6],\"type\":\"scatter\",\"xaxis\":\"x4\",\"yaxis\":\"y4\"},{\"legendgroup\":\"True\",\"line\":{\"color\":\"#000000\",\"width\":2},\"mode\":\"lines\",\"name\":\"True\",\"showlegend\":false,\"x\":[69,69],\"y\":[3,4],\"type\":\"scatter\",\"xaxis\":\"x4\",\"yaxis\":\"y4\"},{\"legendgroup\":\"True\",\"line\":{\"color\":\"#000000\",\"width\":2},\"mode\":\"lines\",\"name\":\"True\",\"showlegend\":false,\"x\":[69,69],\"y\":[4,5],\"type\":\"scatter\",\"xaxis\":\"x4\",\"yaxis\":\"y4\"},{\"legendgroup\":\"True\",\"line\":{\"color\":\"#000000\",\"width\":2},\"mode\":\"lines\",\"name\":\"True\",\"showlegend\":false,\"x\":[85,85],\"y\":[3,4],\"type\":\"scatter\",\"xaxis\":\"x4\",\"yaxis\":\"y4\"},{\"legendgroup\":\"True\",\"line\":{\"color\":\"#000000\",\"width\":2},\"mode\":\"lines\",\"name\":\"True\",\"showlegend\":false,\"x\":[85,85],\"y\":[4,5],\"type\":\"scatter\",\"xaxis\":\"x4\",\"yaxis\":\"y4\"},{\"legendgroup\":\"True\",\"line\":{\"color\":\"#000000\",\"width\":2},\"mode\":\"lines\",\"name\":\"True\",\"showlegend\":false,\"x\":[85,85],\"y\":[5,6],\"type\":\"scatter\",\"xaxis\":\"x4\",\"yaxis\":\"y4\"},{\"legendgroup\":\"True\",\"line\":{\"color\":\"#000000\",\"width\":2},\"mode\":\"lines\",\"name\":\"True\",\"showlegend\":false,\"x\":[60,60],\"y\":[2,5],\"type\":\"scatter\",\"xaxis\":\"x4\",\"yaxis\":\"y4\"},{\"legendgroup\":\"True\",\"line\":{\"color\":\"#000000\",\"width\":2},\"mode\":\"lines\",\"name\":\"True\",\"showlegend\":false,\"x\":[119,119],\"y\":[2,5],\"type\":\"scatter\",\"xaxis\":\"x4\",\"yaxis\":\"y4\"},{\"legendgroup\":\"True\",\"line\":{\"color\":\"#000000\",\"width\":2},\"mode\":\"lines\",\"name\":\"True\",\"showlegend\":false,\"x\":[119,119],\"y\":[5,6],\"type\":\"scatter\",\"xaxis\":\"x4\",\"yaxis\":\"y4\"},{\"legendgroup\":\"True\",\"line\":{\"color\":\"#000000\",\"width\":2},\"mode\":\"lines\",\"name\":\"True\",\"showlegend\":false,\"x\":[118,118],\"y\":[2,5],\"type\":\"scatter\",\"xaxis\":\"x4\",\"yaxis\":\"y4\"},{\"legendgroup\":\"True\",\"line\":{\"color\":\"#000000\",\"width\":2},\"mode\":\"lines\",\"name\":\"True\",\"showlegend\":false,\"x\":[118,118],\"y\":[5,6],\"type\":\"scatter\",\"xaxis\":\"x4\",\"yaxis\":\"y4\"},{\"legendgroup\":\"True\",\"line\":{\"color\":\"#000000\",\"width\":2},\"mode\":\"lines\",\"name\":\"True\",\"showlegend\":false,\"x\":[118,118],\"y\":[6,9],\"type\":\"scatter\",\"xaxis\":\"x4\",\"yaxis\":\"y4\"},{\"legendgroup\":\"True\",\"line\":{\"color\":\"#000000\",\"width\":2},\"mode\":\"lines\",\"name\":\"True\",\"showlegend\":false,\"x\":[43,43],\"y\":[1,9],\"type\":\"scatter\",\"xaxis\":\"x4\",\"yaxis\":\"y4\"},{\"legendgroup\":\"True\",\"line\":{\"color\":\"#000000\",\"width\":2},\"mode\":\"lines\",\"name\":\"True\",\"showlegend\":false,\"x\":[40,40],\"y\":[1,8],\"type\":\"scatter\",\"xaxis\":\"x4\",\"yaxis\":\"y4\"},{\"legendgroup\":\"True\",\"line\":{\"color\":\"#000000\",\"width\":2},\"mode\":\"lines\",\"name\":\"True\",\"showlegend\":false,\"x\":[117,117],\"y\":[1,7],\"type\":\"scatter\",\"xaxis\":\"x4\",\"yaxis\":\"y4\"},{\"legendgroup\":\"True\",\"line\":{\"color\":\"#000000\",\"width\":2},\"mode\":\"lines\",\"name\":\"True\",\"showlegend\":false,\"x\":[17,17],\"y\":[1,6],\"type\":\"scatter\",\"xaxis\":\"x4\",\"yaxis\":\"y4\"},{\"legendgroup\":\"True\",\"line\":{\"color\":\"#000000\",\"width\":2},\"mode\":\"lines\",\"name\":\"True\",\"showlegend\":false,\"x\":[116,116],\"y\":[1,6],\"type\":\"scatter\",\"xaxis\":\"x4\",\"yaxis\":\"y4\"},{\"legendgroup\":\"True\",\"line\":{\"color\":\"#000000\",\"width\":2},\"mode\":\"lines\",\"name\":\"True\",\"showlegend\":false,\"x\":[116,116],\"y\":[6,9],\"type\":\"scatter\",\"xaxis\":\"x4\",\"yaxis\":\"y4\"},{\"legendgroup\":\"True\",\"line\":{\"color\":\"#000000\",\"width\":2},\"mode\":\"lines\",\"name\":\"True\",\"showlegend\":false,\"x\":[37,37],\"y\":[1,6],\"type\":\"scatter\",\"xaxis\":\"x4\",\"yaxis\":\"y4\"},{\"legendgroup\":\"True\",\"line\":{\"color\":\"#000000\",\"width\":2},\"mode\":\"lines\",\"name\":\"True\",\"showlegend\":false,\"x\":[37,37],\"y\":[6,8],\"type\":\"scatter\",\"xaxis\":\"x4\",\"yaxis\":\"y4\"},{\"legendgroup\":\"True\",\"line\":{\"color\":\"#000000\",\"width\":2},\"mode\":\"lines\",\"name\":\"True\",\"showlegend\":false,\"x\":[115,115],\"y\":[1,6],\"type\":\"scatter\",\"xaxis\":\"x4\",\"yaxis\":\"y4\"},{\"legendgroup\":\"True\",\"line\":{\"color\":\"#000000\",\"width\":2},\"mode\":\"lines\",\"name\":\"True\",\"showlegend\":false,\"x\":[115,115],\"y\":[6,7],\"type\":\"scatter\",\"xaxis\":\"x4\",\"yaxis\":\"y4\"},{\"legendgroup\":\"True\",\"line\":{\"color\":\"#000000\",\"width\":2},\"mode\":\"lines\",\"name\":\"True\",\"showlegend\":false,\"x\":[14,14],\"y\":[1,5],\"type\":\"scatter\",\"xaxis\":\"x4\",\"yaxis\":\"y4\"},{\"legendgroup\":\"True\",\"line\":{\"color\":\"#000000\",\"width\":2},\"mode\":\"lines\",\"name\":\"True\",\"showlegend\":false,\"x\":[31,31],\"y\":[1,5],\"type\":\"scatter\",\"xaxis\":\"x4\",\"yaxis\":\"y4\"},{\"legendgroup\":\"True\",\"line\":{\"color\":\"#000000\",\"width\":2},\"mode\":\"lines\",\"name\":\"True\",\"showlegend\":false,\"x\":[31,31],\"y\":[5,9],\"type\":\"scatter\",\"xaxis\":\"x4\",\"yaxis\":\"y4\"},{\"legendgroup\":\"True\",\"line\":{\"color\":\"#000000\",\"width\":2},\"mode\":\"lines\",\"name\":\"True\",\"showlegend\":false,\"x\":[45,45],\"y\":[1,5],\"type\":\"scatter\",\"xaxis\":\"x4\",\"yaxis\":\"y4\"},{\"legendgroup\":\"True\",\"line\":{\"color\":\"#000000\",\"width\":2},\"mode\":\"lines\",\"name\":\"True\",\"showlegend\":false,\"x\":[45,45],\"y\":[5,8],\"type\":\"scatter\",\"xaxis\":\"x4\",\"yaxis\":\"y4\"},{\"legendgroup\":\"True\",\"line\":{\"color\":\"#000000\",\"width\":2},\"mode\":\"lines\",\"name\":\"True\",\"showlegend\":false,\"x\":[59,59],\"y\":[1,5],\"type\":\"scatter\",\"xaxis\":\"x4\",\"yaxis\":\"y4\"},{\"legendgroup\":\"True\",\"line\":{\"color\":\"#000000\",\"width\":2},\"mode\":\"lines\",\"name\":\"True\",\"showlegend\":false,\"x\":[59,59],\"y\":[5,8],\"type\":\"scatter\",\"xaxis\":\"x4\",\"yaxis\":\"y4\"},{\"legendgroup\":\"True\",\"line\":{\"color\":\"#000000\",\"width\":2},\"mode\":\"lines\",\"name\":\"True\",\"showlegend\":false,\"x\":[59,59],\"y\":[8,9],\"type\":\"scatter\",\"xaxis\":\"x4\",\"yaxis\":\"y4\"},{\"legendgroup\":\"True\",\"line\":{\"color\":\"#000000\",\"width\":2},\"mode\":\"lines\",\"name\":\"True\",\"showlegend\":false,\"x\":[15,15],\"y\":[1,5],\"type\":\"scatter\",\"xaxis\":\"x4\",\"yaxis\":\"y4\"},{\"legendgroup\":\"True\",\"line\":{\"color\":\"#000000\",\"width\":2},\"mode\":\"lines\",\"name\":\"True\",\"showlegend\":false,\"x\":[15,15],\"y\":[5,6],\"type\":\"scatter\",\"xaxis\":\"x4\",\"yaxis\":\"y4\"},{\"legendgroup\":\"True\",\"line\":{\"color\":\"#000000\",\"width\":2},\"mode\":\"lines\",\"name\":\"True\",\"showlegend\":false,\"x\":[11,11],\"y\":[1,5],\"type\":\"scatter\",\"xaxis\":\"x4\",\"yaxis\":\"y4\"},{\"legendgroup\":\"True\",\"line\":{\"color\":\"#000000\",\"width\":2},\"mode\":\"lines\",\"name\":\"True\",\"showlegend\":false,\"x\":[11,11],\"y\":[5,6],\"type\":\"scatter\",\"xaxis\":\"x4\",\"yaxis\":\"y4\"},{\"legendgroup\":\"True\",\"line\":{\"color\":\"#000000\",\"width\":2},\"mode\":\"lines\",\"name\":\"True\",\"showlegend\":false,\"x\":[11,11],\"y\":[6,9],\"type\":\"scatter\",\"xaxis\":\"x4\",\"yaxis\":\"y4\"},{\"legendgroup\":\"True\",\"line\":{\"color\":\"#000000\",\"width\":2},\"mode\":\"lines\",\"name\":\"True\",\"showlegend\":false,\"x\":[29,29],\"y\":[1,5],\"type\":\"scatter\",\"xaxis\":\"x4\",\"yaxis\":\"y4\"},{\"legendgroup\":\"True\",\"line\":{\"color\":\"#000000\",\"width\":2},\"mode\":\"lines\",\"name\":\"True\",\"showlegend\":false,\"x\":[29,29],\"y\":[5,6],\"type\":\"scatter\",\"xaxis\":\"x4\",\"yaxis\":\"y4\"},{\"legendgroup\":\"True\",\"line\":{\"color\":\"#000000\",\"width\":2},\"mode\":\"lines\",\"name\":\"True\",\"showlegend\":false,\"x\":[29,29],\"y\":[6,8],\"type\":\"scatter\",\"xaxis\":\"x4\",\"yaxis\":\"y4\"},{\"legendgroup\":\"True\",\"line\":{\"color\":\"#000000\",\"width\":2},\"mode\":\"lines\",\"name\":\"True\",\"showlegend\":false,\"x\":[58,58],\"y\":[1,5],\"type\":\"scatter\",\"xaxis\":\"x4\",\"yaxis\":\"y4\"},{\"legendgroup\":\"True\",\"line\":{\"color\":\"#000000\",\"width\":2},\"mode\":\"lines\",\"name\":\"True\",\"showlegend\":false,\"x\":[58,58],\"y\":[5,6],\"type\":\"scatter\",\"xaxis\":\"x4\",\"yaxis\":\"y4\"},{\"legendgroup\":\"True\",\"line\":{\"color\":\"#000000\",\"width\":2},\"mode\":\"lines\",\"name\":\"True\",\"showlegend\":false,\"x\":[58,58],\"y\":[6,8],\"type\":\"scatter\",\"xaxis\":\"x4\",\"yaxis\":\"y4\"},{\"legendgroup\":\"True\",\"line\":{\"color\":\"#000000\",\"width\":2},\"mode\":\"lines\",\"name\":\"True\",\"showlegend\":false,\"x\":[58,58],\"y\":[8,9],\"type\":\"scatter\",\"xaxis\":\"x4\",\"yaxis\":\"y4\"},{\"legendgroup\":\"True\",\"line\":{\"color\":\"#000000\",\"width\":2},\"mode\":\"lines\",\"name\":\"True\",\"showlegend\":false,\"x\":[68,68],\"y\":[1,5],\"type\":\"scatter\",\"xaxis\":\"x4\",\"yaxis\":\"y4\"},{\"legendgroup\":\"True\",\"line\":{\"color\":\"#000000\",\"width\":2},\"mode\":\"lines\",\"name\":\"True\",\"showlegend\":false,\"x\":[68,68],\"y\":[5,6],\"type\":\"scatter\",\"xaxis\":\"x4\",\"yaxis\":\"y4\"},{\"legendgroup\":\"True\",\"line\":{\"color\":\"#000000\",\"width\":2},\"mode\":\"lines\",\"name\":\"True\",\"showlegend\":false,\"x\":[68,68],\"y\":[6,7],\"type\":\"scatter\",\"xaxis\":\"x4\",\"yaxis\":\"y4\"},{\"legendgroup\":\"True\",\"line\":{\"color\":\"#000000\",\"width\":2},\"mode\":\"lines\",\"name\":\"True\",\"showlegend\":false,\"x\":[84,84],\"y\":[1,4],\"type\":\"scatter\",\"xaxis\":\"x4\",\"yaxis\":\"y4\"},{\"legendgroup\":\"True\",\"line\":{\"color\":\"#000000\",\"width\":2},\"mode\":\"lines\",\"name\":\"True\",\"showlegend\":false,\"x\":[114,114],\"y\":[1,4],\"type\":\"scatter\",\"xaxis\":\"x4\",\"yaxis\":\"y4\"},{\"legendgroup\":\"True\",\"line\":{\"color\":\"#000000\",\"width\":2},\"mode\":\"lines\",\"name\":\"True\",\"showlegend\":false,\"x\":[114,114],\"y\":[4,5],\"type\":\"scatter\",\"xaxis\":\"x4\",\"yaxis\":\"y4\"},{\"legendgroup\":\"True\",\"line\":{\"color\":\"#000000\",\"width\":2},\"mode\":\"lines\",\"name\":\"True\",\"showlegend\":false,\"x\":[113,113],\"y\":[1,4],\"type\":\"scatter\",\"xaxis\":\"x4\",\"yaxis\":\"y4\"},{\"legendgroup\":\"True\",\"line\":{\"color\":\"#000000\",\"width\":2},\"mode\":\"lines\",\"name\":\"True\",\"showlegend\":false,\"x\":[113,113],\"y\":[4,5],\"type\":\"scatter\",\"xaxis\":\"x4\",\"yaxis\":\"y4\"},{\"legendgroup\":\"True\",\"line\":{\"color\":\"#000000\",\"width\":2},\"mode\":\"lines\",\"name\":\"True\",\"showlegend\":false,\"x\":[113,113],\"y\":[5,6],\"type\":\"scatter\",\"xaxis\":\"x4\",\"yaxis\":\"y4\"},{\"legendgroup\":\"True\",\"line\":{\"color\":\"#000000\",\"width\":2},\"mode\":\"lines\",\"name\":\"True\",\"showlegend\":false,\"x\":[67,67],\"y\":[1,3],\"type\":\"scatter\",\"xaxis\":\"x4\",\"yaxis\":\"y4\"},{\"legendgroup\":\"True\",\"line\":{\"color\":\"#000000\",\"width\":2},\"mode\":\"lines\",\"name\":\"True\",\"showlegend\":false,\"x\":[112,112],\"y\":[1,3],\"type\":\"scatter\",\"xaxis\":\"x4\",\"yaxis\":\"y4\"},{\"legendgroup\":\"True\",\"line\":{\"color\":\"#000000\",\"width\":2},\"mode\":\"lines\",\"name\":\"True\",\"showlegend\":false,\"x\":[112,112],\"y\":[3,9],\"type\":\"scatter\",\"xaxis\":\"x4\",\"yaxis\":\"y4\"},{\"legendgroup\":\"True\",\"line\":{\"color\":\"#000000\",\"width\":2},\"mode\":\"lines\",\"name\":\"True\",\"showlegend\":false,\"x\":[111,111],\"y\":[1,3],\"type\":\"scatter\",\"xaxis\":\"x4\",\"yaxis\":\"y4\"},{\"legendgroup\":\"True\",\"line\":{\"color\":\"#000000\",\"width\":2},\"mode\":\"lines\",\"name\":\"True\",\"showlegend\":false,\"x\":[111,111],\"y\":[3,6],\"type\":\"scatter\",\"xaxis\":\"x4\",\"yaxis\":\"y4\"},{\"legendgroup\":\"True\",\"line\":{\"color\":\"#000000\",\"width\":2},\"mode\":\"lines\",\"name\":\"True\",\"showlegend\":false,\"x\":[111,111],\"y\":[6,9],\"type\":\"scatter\",\"xaxis\":\"x4\",\"yaxis\":\"y4\"},{\"legendgroup\":\"True\",\"line\":{\"color\":\"#000000\",\"width\":2},\"mode\":\"lines\",\"name\":\"True\",\"showlegend\":false,\"x\":[56,56],\"y\":[1,3],\"type\":\"scatter\",\"xaxis\":\"x4\",\"yaxis\":\"y4\"},{\"legendgroup\":\"True\",\"line\":{\"color\":\"#000000\",\"width\":2},\"mode\":\"lines\",\"name\":\"True\",\"showlegend\":false,\"x\":[56,56],\"y\":[3,5],\"type\":\"scatter\",\"xaxis\":\"x4\",\"yaxis\":\"y4\"},{\"legendgroup\":\"True\",\"line\":{\"color\":\"#000000\",\"width\":2},\"mode\":\"lines\",\"name\":\"True\",\"showlegend\":false,\"x\":[62,62],\"y\":[1,3],\"type\":\"scatter\",\"xaxis\":\"x4\",\"yaxis\":\"y4\"},{\"legendgroup\":\"True\",\"line\":{\"color\":\"#000000\",\"width\":2},\"mode\":\"lines\",\"name\":\"True\",\"showlegend\":false,\"x\":[62,62],\"y\":[3,5],\"type\":\"scatter\",\"xaxis\":\"x4\",\"yaxis\":\"y4\"},{\"legendgroup\":\"True\",\"line\":{\"color\":\"#000000\",\"width\":2},\"mode\":\"lines\",\"name\":\"True\",\"showlegend\":false,\"x\":[62,62],\"y\":[5,6],\"type\":\"scatter\",\"xaxis\":\"x4\",\"yaxis\":\"y4\"},{\"legendgroup\":\"True\",\"line\":{\"color\":\"#000000\",\"width\":2},\"mode\":\"lines\",\"name\":\"True\",\"showlegend\":false,\"x\":[110,110],\"y\":[1,3],\"type\":\"scatter\",\"xaxis\":\"x4\",\"yaxis\":\"y4\"},{\"legendgroup\":\"True\",\"line\":{\"color\":\"#000000\",\"width\":2},\"mode\":\"lines\",\"name\":\"True\",\"showlegend\":false,\"x\":[110,110],\"y\":[3,4],\"type\":\"scatter\",\"xaxis\":\"x4\",\"yaxis\":\"y4\"},{\"legendgroup\":\"True\",\"line\":{\"color\":\"#000000\",\"width\":2},\"mode\":\"lines\",\"name\":\"True\",\"showlegend\":false,\"x\":[110,110],\"y\":[4,5],\"type\":\"scatter\",\"xaxis\":\"x4\",\"yaxis\":\"y4\"},{\"legendgroup\":\"True\",\"line\":{\"color\":\"#000000\",\"width\":2},\"mode\":\"lines\",\"name\":\"True\",\"showlegend\":false,\"x\":[110,110],\"y\":[5,8],\"type\":\"scatter\",\"xaxis\":\"x4\",\"yaxis\":\"y4\"},{\"legendgroup\":\"True\",\"line\":{\"color\":\"#000000\",\"width\":2},\"mode\":\"lines\",\"name\":\"True\",\"showlegend\":false,\"x\":[109,109],\"y\":[0,9],\"type\":\"scatter\",\"xaxis\":\"x4\",\"yaxis\":\"y4\"},{\"legendgroup\":\"True\",\"line\":{\"color\":\"#000000\",\"width\":2},\"mode\":\"lines\",\"name\":\"True\",\"showlegend\":false,\"x\":[26,26],\"y\":[0,8],\"type\":\"scatter\",\"xaxis\":\"x4\",\"yaxis\":\"y4\"},{\"legendgroup\":\"True\",\"line\":{\"color\":\"#000000\",\"width\":2},\"mode\":\"lines\",\"name\":\"True\",\"showlegend\":false,\"x\":[66,66],\"y\":[0,8],\"type\":\"scatter\",\"xaxis\":\"x4\",\"yaxis\":\"y4\"},{\"legendgroup\":\"True\",\"line\":{\"color\":\"#000000\",\"width\":2},\"mode\":\"lines\",\"name\":\"True\",\"showlegend\":false,\"x\":[66,66],\"y\":[8,9],\"type\":\"scatter\",\"xaxis\":\"x4\",\"yaxis\":\"y4\"},{\"legendgroup\":\"True\",\"line\":{\"color\":\"#000000\",\"width\":2},\"mode\":\"lines\",\"name\":\"True\",\"showlegend\":false,\"x\":[108,108],\"y\":[0,7],\"type\":\"scatter\",\"xaxis\":\"x4\",\"yaxis\":\"y4\"},{\"legendgroup\":\"True\",\"line\":{\"color\":\"#000000\",\"width\":2},\"mode\":\"lines\",\"name\":\"True\",\"showlegend\":false,\"x\":[30,30],\"y\":[0,6],\"type\":\"scatter\",\"xaxis\":\"x4\",\"yaxis\":\"y4\"},{\"legendgroup\":\"True\",\"line\":{\"color\":\"#000000\",\"width\":2},\"mode\":\"lines\",\"name\":\"True\",\"showlegend\":false,\"x\":[107,107],\"y\":[0,6],\"type\":\"scatter\",\"xaxis\":\"x4\",\"yaxis\":\"y4\"},{\"legendgroup\":\"True\",\"line\":{\"color\":\"#000000\",\"width\":2},\"mode\":\"lines\",\"name\":\"True\",\"showlegend\":false,\"x\":[107,107],\"y\":[6,8],\"type\":\"scatter\",\"xaxis\":\"x4\",\"yaxis\":\"y4\"},{\"legendgroup\":\"True\",\"line\":{\"color\":\"#000000\",\"width\":2},\"mode\":\"lines\",\"name\":\"True\",\"showlegend\":false,\"x\":[106,106],\"y\":[0,6],\"type\":\"scatter\",\"xaxis\":\"x4\",\"yaxis\":\"y4\"},{\"legendgroup\":\"True\",\"line\":{\"color\":\"#000000\",\"width\":2},\"mode\":\"lines\",\"name\":\"True\",\"showlegend\":false,\"x\":[106,106],\"y\":[6,8],\"type\":\"scatter\",\"xaxis\":\"x4\",\"yaxis\":\"y4\"},{\"legendgroup\":\"True\",\"line\":{\"color\":\"#000000\",\"width\":2},\"mode\":\"lines\",\"name\":\"True\",\"showlegend\":false,\"x\":[106,106],\"y\":[8,9],\"type\":\"scatter\",\"xaxis\":\"x4\",\"yaxis\":\"y4\"},{\"legendgroup\":\"True\",\"line\":{\"color\":\"#000000\",\"width\":2},\"mode\":\"lines\",\"name\":\"True\",\"showlegend\":false,\"x\":[21,21],\"y\":[0,5],\"type\":\"scatter\",\"xaxis\":\"x4\",\"yaxis\":\"y4\"},{\"legendgroup\":\"True\",\"line\":{\"color\":\"#000000\",\"width\":2},\"mode\":\"lines\",\"name\":\"True\",\"showlegend\":false,\"x\":[61,61],\"y\":[0,5],\"type\":\"scatter\",\"xaxis\":\"x4\",\"yaxis\":\"y4\"},{\"legendgroup\":\"True\",\"line\":{\"color\":\"#000000\",\"width\":2},\"mode\":\"lines\",\"name\":\"True\",\"showlegend\":false,\"x\":[61,61],\"y\":[5,9],\"type\":\"scatter\",\"xaxis\":\"x4\",\"yaxis\":\"y4\"},{\"legendgroup\":\"True\",\"line\":{\"color\":\"#000000\",\"width\":2},\"mode\":\"lines\",\"name\":\"True\",\"showlegend\":false,\"x\":[46,46],\"y\":[0,5],\"type\":\"scatter\",\"xaxis\":\"x4\",\"yaxis\":\"y4\"},{\"legendgroup\":\"True\",\"line\":{\"color\":\"#000000\",\"width\":2},\"mode\":\"lines\",\"name\":\"True\",\"showlegend\":false,\"x\":[46,46],\"y\":[5,8],\"type\":\"scatter\",\"xaxis\":\"x4\",\"yaxis\":\"y4\"},{\"legendgroup\":\"True\",\"line\":{\"color\":\"#000000\",\"width\":2},\"mode\":\"lines\",\"name\":\"True\",\"showlegend\":false,\"x\":[83,83],\"y\":[0,5],\"type\":\"scatter\",\"xaxis\":\"x4\",\"yaxis\":\"y4\"},{\"legendgroup\":\"True\",\"line\":{\"color\":\"#000000\",\"width\":2},\"mode\":\"lines\",\"name\":\"True\",\"showlegend\":false,\"x\":[83,83],\"y\":[5,8],\"type\":\"scatter\",\"xaxis\":\"x4\",\"yaxis\":\"y4\"},{\"legendgroup\":\"True\",\"line\":{\"color\":\"#000000\",\"width\":2},\"mode\":\"lines\",\"name\":\"True\",\"showlegend\":false,\"x\":[83,83],\"y\":[8,9],\"type\":\"scatter\",\"xaxis\":\"x4\",\"yaxis\":\"y4\"},{\"legendgroup\":\"True\",\"line\":{\"color\":\"#000000\",\"width\":2},\"mode\":\"lines\",\"name\":\"True\",\"showlegend\":false,\"x\":[82,82],\"y\":[0,5],\"type\":\"scatter\",\"xaxis\":\"x4\",\"yaxis\":\"y4\"},{\"legendgroup\":\"True\",\"line\":{\"color\":\"#000000\",\"width\":2},\"mode\":\"lines\",\"name\":\"True\",\"showlegend\":false,\"x\":[82,82],\"y\":[5,7],\"type\":\"scatter\",\"xaxis\":\"x4\",\"yaxis\":\"y4\"},{\"legendgroup\":\"True\",\"line\":{\"color\":\"#000000\",\"width\":2},\"mode\":\"lines\",\"name\":\"True\",\"showlegend\":false,\"x\":[20,20],\"y\":[0,5],\"type\":\"scatter\",\"xaxis\":\"x4\",\"yaxis\":\"y4\"},{\"legendgroup\":\"True\",\"line\":{\"color\":\"#000000\",\"width\":2},\"mode\":\"lines\",\"name\":\"True\",\"showlegend\":false,\"x\":[20,20],\"y\":[5,6],\"type\":\"scatter\",\"xaxis\":\"x4\",\"yaxis\":\"y4\"},{\"legendgroup\":\"True\",\"line\":{\"color\":\"#000000\",\"width\":2},\"mode\":\"lines\",\"name\":\"True\",\"showlegend\":false,\"x\":[81,81],\"y\":[0,5],\"type\":\"scatter\",\"xaxis\":\"x4\",\"yaxis\":\"y4\"},{\"legendgroup\":\"True\",\"line\":{\"color\":\"#000000\",\"width\":2},\"mode\":\"lines\",\"name\":\"True\",\"showlegend\":false,\"x\":[81,81],\"y\":[5,6],\"type\":\"scatter\",\"xaxis\":\"x4\",\"yaxis\":\"y4\"},{\"legendgroup\":\"True\",\"line\":{\"color\":\"#000000\",\"width\":2},\"mode\":\"lines\",\"name\":\"True\",\"showlegend\":false,\"x\":[81,81],\"y\":[6,9],\"type\":\"scatter\",\"xaxis\":\"x4\",\"yaxis\":\"y4\"},{\"legendgroup\":\"True\",\"line\":{\"color\":\"#000000\",\"width\":2},\"mode\":\"lines\",\"name\":\"True\",\"showlegend\":false,\"x\":[47,47],\"y\":[0,5],\"type\":\"scatter\",\"xaxis\":\"x4\",\"yaxis\":\"y4\"},{\"legendgroup\":\"True\",\"line\":{\"color\":\"#000000\",\"width\":2},\"mode\":\"lines\",\"name\":\"True\",\"showlegend\":false,\"x\":[47,47],\"y\":[5,6],\"type\":\"scatter\",\"xaxis\":\"x4\",\"yaxis\":\"y4\"},{\"legendgroup\":\"True\",\"line\":{\"color\":\"#000000\",\"width\":2},\"mode\":\"lines\",\"name\":\"True\",\"showlegend\":false,\"x\":[47,47],\"y\":[6,8],\"type\":\"scatter\",\"xaxis\":\"x4\",\"yaxis\":\"y4\"},{\"legendgroup\":\"True\",\"line\":{\"color\":\"#000000\",\"width\":2},\"mode\":\"lines\",\"name\":\"True\",\"showlegend\":false,\"x\":[80,80],\"y\":[0,5],\"type\":\"scatter\",\"xaxis\":\"x4\",\"yaxis\":\"y4\"},{\"legendgroup\":\"True\",\"line\":{\"color\":\"#000000\",\"width\":2},\"mode\":\"lines\",\"name\":\"True\",\"showlegend\":false,\"x\":[80,80],\"y\":[5,6],\"type\":\"scatter\",\"xaxis\":\"x4\",\"yaxis\":\"y4\"},{\"legendgroup\":\"True\",\"line\":{\"color\":\"#000000\",\"width\":2},\"mode\":\"lines\",\"name\":\"True\",\"showlegend\":false,\"x\":[80,80],\"y\":[6,8],\"type\":\"scatter\",\"xaxis\":\"x4\",\"yaxis\":\"y4\"},{\"legendgroup\":\"True\",\"line\":{\"color\":\"#000000\",\"width\":2},\"mode\":\"lines\",\"name\":\"True\",\"showlegend\":false,\"x\":[80,80],\"y\":[8,9],\"type\":\"scatter\",\"xaxis\":\"x4\",\"yaxis\":\"y4\"},{\"legendgroup\":\"True\",\"line\":{\"color\":\"#000000\",\"width\":2},\"mode\":\"lines\",\"name\":\"True\",\"showlegend\":false,\"x\":[57,57],\"y\":[0,4],\"type\":\"scatter\",\"xaxis\":\"x4\",\"yaxis\":\"y4\"},{\"legendgroup\":\"True\",\"line\":{\"color\":\"#000000\",\"width\":2},\"mode\":\"lines\",\"name\":\"True\",\"showlegend\":false,\"x\":[33,33],\"y\":[0,4],\"type\":\"scatter\",\"xaxis\":\"x4\",\"yaxis\":\"y4\"},{\"legendgroup\":\"True\",\"line\":{\"color\":\"#000000\",\"width\":2},\"mode\":\"lines\",\"name\":\"True\",\"showlegend\":false,\"x\":[33,33],\"y\":[4,8],\"type\":\"scatter\",\"xaxis\":\"x4\",\"yaxis\":\"y4\"},{\"legendgroup\":\"True\",\"line\":{\"color\":\"#000000\",\"width\":2},\"mode\":\"lines\",\"name\":\"True\",\"showlegend\":false,\"x\":[105,105],\"y\":[0,4],\"type\":\"scatter\",\"xaxis\":\"x4\",\"yaxis\":\"y4\"},{\"legendgroup\":\"True\",\"line\":{\"color\":\"#000000\",\"width\":2},\"mode\":\"lines\",\"name\":\"True\",\"showlegend\":false,\"x\":[105,105],\"y\":[4,6],\"type\":\"scatter\",\"xaxis\":\"x4\",\"yaxis\":\"y4\"},{\"legendgroup\":\"True\",\"line\":{\"color\":\"#000000\",\"width\":2},\"mode\":\"lines\",\"name\":\"True\",\"showlegend\":false,\"x\":[79,79],\"y\":[0,4],\"type\":\"scatter\",\"xaxis\":\"x4\",\"yaxis\":\"y4\"},{\"legendgroup\":\"True\",\"line\":{\"color\":\"#000000\",\"width\":2},\"mode\":\"lines\",\"name\":\"True\",\"showlegend\":false,\"x\":[79,79],\"y\":[4,5],\"type\":\"scatter\",\"xaxis\":\"x4\",\"yaxis\":\"y4\"},{\"legendgroup\":\"True\",\"line\":{\"color\":\"#000000\",\"width\":2},\"mode\":\"lines\",\"name\":\"True\",\"showlegend\":false,\"x\":[53,53],\"y\":[0,4],\"type\":\"scatter\",\"xaxis\":\"x4\",\"yaxis\":\"y4\"},{\"legendgroup\":\"True\",\"line\":{\"color\":\"#000000\",\"width\":2},\"mode\":\"lines\",\"name\":\"True\",\"showlegend\":false,\"x\":[53,53],\"y\":[4,5],\"type\":\"scatter\",\"xaxis\":\"x4\",\"yaxis\":\"y4\"},{\"legendgroup\":\"True\",\"line\":{\"color\":\"#000000\",\"width\":2},\"mode\":\"lines\",\"name\":\"True\",\"showlegend\":false,\"x\":[53,53],\"y\":[5,6],\"type\":\"scatter\",\"xaxis\":\"x4\",\"yaxis\":\"y4\"},{\"legendgroup\":\"True\",\"line\":{\"color\":\"#000000\",\"width\":2},\"mode\":\"lines\",\"name\":\"True\",\"showlegend\":false,\"x\":[104,104],\"y\":[0,4],\"type\":\"scatter\",\"xaxis\":\"x4\",\"yaxis\":\"y4\"},{\"legendgroup\":\"True\",\"line\":{\"color\":\"#000000\",\"width\":2},\"mode\":\"lines\",\"name\":\"True\",\"showlegend\":false,\"x\":[104,104],\"y\":[4,5],\"type\":\"scatter\",\"xaxis\":\"x4\",\"yaxis\":\"y4\"},{\"legendgroup\":\"True\",\"line\":{\"color\":\"#000000\",\"width\":2},\"mode\":\"lines\",\"name\":\"True\",\"showlegend\":false,\"x\":[104,104],\"y\":[5,6],\"type\":\"scatter\",\"xaxis\":\"x4\",\"yaxis\":\"y4\"},{\"legendgroup\":\"True\",\"line\":{\"color\":\"#000000\",\"width\":2},\"mode\":\"lines\",\"name\":\"True\",\"showlegend\":false,\"x\":[104,104],\"y\":[6,9],\"type\":\"scatter\",\"xaxis\":\"x4\",\"yaxis\":\"y4\"},{\"legendgroup\":\"True\",\"line\":{\"color\":\"#000000\",\"width\":2},\"mode\":\"lines\",\"name\":\"True\",\"showlegend\":false,\"x\":[78,78],\"y\":[0,4],\"type\":\"scatter\",\"xaxis\":\"x4\",\"yaxis\":\"y4\"},{\"legendgroup\":\"True\",\"line\":{\"color\":\"#000000\",\"width\":2},\"mode\":\"lines\",\"name\":\"True\",\"showlegend\":false,\"x\":[78,78],\"y\":[4,5],\"type\":\"scatter\",\"xaxis\":\"x4\",\"yaxis\":\"y4\"},{\"legendgroup\":\"True\",\"line\":{\"color\":\"#000000\",\"width\":2},\"mode\":\"lines\",\"name\":\"True\",\"showlegend\":false,\"x\":[78,78],\"y\":[5,6],\"type\":\"scatter\",\"xaxis\":\"x4\",\"yaxis\":\"y4\"},{\"legendgroup\":\"True\",\"line\":{\"color\":\"#000000\",\"width\":2},\"mode\":\"lines\",\"name\":\"True\",\"showlegend\":false,\"x\":[78,78],\"y\":[6,8],\"type\":\"scatter\",\"xaxis\":\"x4\",\"yaxis\":\"y4\"},{\"legendgroup\":\"True\",\"line\":{\"color\":\"#000000\",\"width\":2},\"mode\":\"lines\",\"name\":\"True\",\"showlegend\":false,\"x\":[27,27],\"y\":[0,3],\"type\":\"scatter\",\"xaxis\":\"x4\",\"yaxis\":\"y4\"},{\"legendgroup\":\"True\",\"line\":{\"color\":\"#000000\",\"width\":2},\"mode\":\"lines\",\"name\":\"True\",\"showlegend\":false,\"x\":[52,52],\"y\":[0,3],\"type\":\"scatter\",\"xaxis\":\"x4\",\"yaxis\":\"y4\"},{\"legendgroup\":\"True\",\"line\":{\"color\":\"#000000\",\"width\":2},\"mode\":\"lines\",\"name\":\"True\",\"showlegend\":false,\"x\":[52,52],\"y\":[3,5],\"type\":\"scatter\",\"xaxis\":\"x4\",\"yaxis\":\"y4\"},{\"legendgroup\":\"True\",\"line\":{\"color\":\"#000000\",\"width\":2},\"mode\":\"lines\",\"name\":\"True\",\"showlegend\":false,\"x\":[77,77],\"y\":[0,3],\"type\":\"scatter\",\"xaxis\":\"x4\",\"yaxis\":\"y4\"},{\"legendgroup\":\"True\",\"line\":{\"color\":\"#000000\",\"width\":2},\"mode\":\"lines\",\"name\":\"True\",\"showlegend\":false,\"x\":[77,77],\"y\":[3,5],\"type\":\"scatter\",\"xaxis\":\"x4\",\"yaxis\":\"y4\"},{\"legendgroup\":\"True\",\"line\":{\"color\":\"#000000\",\"width\":2},\"mode\":\"lines\",\"name\":\"True\",\"showlegend\":false,\"x\":[77,77],\"y\":[5,6],\"type\":\"scatter\",\"xaxis\":\"x4\",\"yaxis\":\"y4\"},{\"legendgroup\":\"True\",\"line\":{\"color\":\"#000000\",\"width\":2},\"mode\":\"lines\",\"name\":\"True\",\"showlegend\":false,\"x\":[76,76],\"y\":[0,3],\"type\":\"scatter\",\"xaxis\":\"x4\",\"yaxis\":\"y4\"},{\"legendgroup\":\"True\",\"line\":{\"color\":\"#000000\",\"width\":2},\"mode\":\"lines\",\"name\":\"True\",\"showlegend\":false,\"x\":[76,76],\"y\":[3,5],\"type\":\"scatter\",\"xaxis\":\"x4\",\"yaxis\":\"y4\"},{\"legendgroup\":\"True\",\"line\":{\"color\":\"#000000\",\"width\":2},\"mode\":\"lines\",\"name\":\"True\",\"showlegend\":false,\"x\":[76,76],\"y\":[5,6],\"type\":\"scatter\",\"xaxis\":\"x4\",\"yaxis\":\"y4\"},{\"legendgroup\":\"True\",\"line\":{\"color\":\"#000000\",\"width\":2},\"mode\":\"lines\",\"name\":\"True\",\"showlegend\":false,\"x\":[76,76],\"y\":[6,8],\"type\":\"scatter\",\"xaxis\":\"x4\",\"yaxis\":\"y4\"},{\"legendgroup\":\"True\",\"line\":{\"color\":\"#000000\",\"width\":2},\"mode\":\"lines\",\"name\":\"True\",\"showlegend\":false,\"x\":[103,103],\"y\":[0,3],\"type\":\"scatter\",\"xaxis\":\"x4\",\"yaxis\":\"y4\"},{\"legendgroup\":\"True\",\"line\":{\"color\":\"#000000\",\"width\":2},\"mode\":\"lines\",\"name\":\"True\",\"showlegend\":false,\"x\":[103,103],\"y\":[3,4],\"type\":\"scatter\",\"xaxis\":\"x4\",\"yaxis\":\"y4\"},{\"legendgroup\":\"True\",\"line\":{\"color\":\"#000000\",\"width\":2},\"mode\":\"lines\",\"name\":\"True\",\"showlegend\":false,\"x\":[102,102],\"y\":[0,3],\"type\":\"scatter\",\"xaxis\":\"x4\",\"yaxis\":\"y4\"},{\"legendgroup\":\"True\",\"line\":{\"color\":\"#000000\",\"width\":2},\"mode\":\"lines\",\"name\":\"True\",\"showlegend\":false,\"x\":[102,102],\"y\":[3,4],\"type\":\"scatter\",\"xaxis\":\"x4\",\"yaxis\":\"y4\"},{\"legendgroup\":\"True\",\"line\":{\"color\":\"#000000\",\"width\":2},\"mode\":\"lines\",\"name\":\"True\",\"showlegend\":false,\"x\":[102,102],\"y\":[4,5],\"type\":\"scatter\",\"xaxis\":\"x4\",\"yaxis\":\"y4\"},{\"legendgroup\":\"True\",\"line\":{\"color\":\"#000000\",\"width\":2},\"mode\":\"lines\",\"name\":\"True\",\"showlegend\":false,\"x\":[101,101],\"y\":[0,3],\"type\":\"scatter\",\"xaxis\":\"x4\",\"yaxis\":\"y4\"},{\"legendgroup\":\"True\",\"line\":{\"color\":\"#000000\",\"width\":2},\"mode\":\"lines\",\"name\":\"True\",\"showlegend\":false,\"x\":[101,101],\"y\":[3,4],\"type\":\"scatter\",\"xaxis\":\"x4\",\"yaxis\":\"y4\"},{\"legendgroup\":\"True\",\"line\":{\"color\":\"#000000\",\"width\":2},\"mode\":\"lines\",\"name\":\"True\",\"showlegend\":false,\"x\":[101,101],\"y\":[4,5],\"type\":\"scatter\",\"xaxis\":\"x4\",\"yaxis\":\"y4\"},{\"legendgroup\":\"True\",\"line\":{\"color\":\"#000000\",\"width\":2},\"mode\":\"lines\",\"name\":\"True\",\"showlegend\":false,\"x\":[101,101],\"y\":[5,8],\"type\":\"scatter\",\"xaxis\":\"x4\",\"yaxis\":\"y4\"},{\"legendgroup\":\"True\",\"line\":{\"color\":\"#000000\",\"width\":2},\"mode\":\"lines\",\"name\":\"True\",\"showlegend\":false,\"x\":[75,75],\"y\":[0,3],\"type\":\"scatter\",\"xaxis\":\"x4\",\"yaxis\":\"y4\"},{\"legendgroup\":\"True\",\"line\":{\"color\":\"#000000\",\"width\":2},\"mode\":\"lines\",\"name\":\"True\",\"showlegend\":false,\"x\":[75,75],\"y\":[3,4],\"type\":\"scatter\",\"xaxis\":\"x4\",\"yaxis\":\"y4\"},{\"legendgroup\":\"True\",\"line\":{\"color\":\"#000000\",\"width\":2},\"mode\":\"lines\",\"name\":\"True\",\"showlegend\":false,\"x\":[75,75],\"y\":[4,5],\"type\":\"scatter\",\"xaxis\":\"x4\",\"yaxis\":\"y4\"},{\"legendgroup\":\"True\",\"line\":{\"color\":\"#000000\",\"width\":2},\"mode\":\"lines\",\"name\":\"True\",\"showlegend\":false,\"x\":[75,75],\"y\":[5,6],\"type\":\"scatter\",\"xaxis\":\"x4\",\"yaxis\":\"y4\"},{\"legendgroup\":\"True\",\"line\":{\"color\":\"#000000\",\"width\":2},\"mode\":\"lines\",\"name\":\"True\",\"showlegend\":false,\"x\":[51,51],\"y\":[0,2],\"type\":\"scatter\",\"xaxis\":\"x4\",\"yaxis\":\"y4\"},{\"legendgroup\":\"True\",\"line\":{\"color\":\"#000000\",\"width\":2},\"mode\":\"lines\",\"name\":\"True\",\"showlegend\":false,\"x\":[100,100],\"y\":[0,2],\"type\":\"scatter\",\"xaxis\":\"x4\",\"yaxis\":\"y4\"},{\"legendgroup\":\"True\",\"line\":{\"color\":\"#000000\",\"width\":2},\"mode\":\"lines\",\"name\":\"True\",\"showlegend\":false,\"x\":[100,100],\"y\":[2,5],\"type\":\"scatter\",\"xaxis\":\"x4\",\"yaxis\":\"y4\"},{\"legendgroup\":\"True\",\"line\":{\"color\":\"#000000\",\"width\":2},\"mode\":\"lines\",\"name\":\"True\",\"showlegend\":false,\"x\":[10,10],\"y\":[0,1],\"type\":\"scatter\",\"xaxis\":\"x4\",\"yaxis\":\"y4\"},{\"legendgroup\":\"True\",\"line\":{\"color\":\"#000000\",\"width\":2},\"mode\":\"lines\",\"name\":\"True\",\"showlegend\":false,\"x\":[65,65],\"y\":[0,1],\"type\":\"scatter\",\"xaxis\":\"x4\",\"yaxis\":\"y4\"},{\"legendgroup\":\"True\",\"line\":{\"color\":\"#000000\",\"width\":2},\"mode\":\"lines\",\"name\":\"True\",\"showlegend\":false,\"x\":[65,65],\"y\":[1,6],\"type\":\"scatter\",\"xaxis\":\"x4\",\"yaxis\":\"y4\"},{\"legendgroup\":\"True\",\"line\":{\"color\":\"#000000\",\"width\":2},\"mode\":\"lines\",\"name\":\"True\",\"showlegend\":false,\"x\":[99,99],\"y\":[0,1],\"type\":\"scatter\",\"xaxis\":\"x4\",\"yaxis\":\"y4\"},{\"legendgroup\":\"True\",\"line\":{\"color\":\"#000000\",\"width\":2},\"mode\":\"lines\",\"name\":\"True\",\"showlegend\":false,\"x\":[99,99],\"y\":[1,6],\"type\":\"scatter\",\"xaxis\":\"x4\",\"yaxis\":\"y4\"},{\"legendgroup\":\"True\",\"line\":{\"color\":\"#000000\",\"width\":2},\"mode\":\"lines\",\"name\":\"True\",\"showlegend\":false,\"x\":[99,99],\"y\":[6,7],\"type\":\"scatter\",\"xaxis\":\"x4\",\"yaxis\":\"y4\"},{\"legendgroup\":\"True\",\"line\":{\"color\":\"#000000\",\"width\":2},\"mode\":\"lines\",\"name\":\"True\",\"showlegend\":false,\"x\":[32,32],\"y\":[0,1],\"type\":\"scatter\",\"xaxis\":\"x4\",\"yaxis\":\"y4\"},{\"legendgroup\":\"True\",\"line\":{\"color\":\"#000000\",\"width\":2},\"mode\":\"lines\",\"name\":\"True\",\"showlegend\":false,\"x\":[32,32],\"y\":[1,5],\"type\":\"scatter\",\"xaxis\":\"x4\",\"yaxis\":\"y4\"},{\"legendgroup\":\"True\",\"line\":{\"color\":\"#000000\",\"width\":2},\"mode\":\"lines\",\"name\":\"True\",\"showlegend\":false,\"x\":[74,74],\"y\":[0,1],\"type\":\"scatter\",\"xaxis\":\"x4\",\"yaxis\":\"y4\"},{\"legendgroup\":\"True\",\"line\":{\"color\":\"#000000\",\"width\":2},\"mode\":\"lines\",\"name\":\"True\",\"showlegend\":false,\"x\":[74,74],\"y\":[1,5],\"type\":\"scatter\",\"xaxis\":\"x4\",\"yaxis\":\"y4\"},{\"legendgroup\":\"True\",\"line\":{\"color\":\"#000000\",\"width\":2},\"mode\":\"lines\",\"name\":\"True\",\"showlegend\":false,\"x\":[74,74],\"y\":[5,8],\"type\":\"scatter\",\"xaxis\":\"x4\",\"yaxis\":\"y4\"},{\"legendgroup\":\"True\",\"line\":{\"color\":\"#000000\",\"width\":2},\"mode\":\"lines\",\"name\":\"True\",\"showlegend\":false,\"x\":[35,35],\"y\":[0,1],\"type\":\"scatter\",\"xaxis\":\"x4\",\"yaxis\":\"y4\"},{\"legendgroup\":\"True\",\"line\":{\"color\":\"#000000\",\"width\":2},\"mode\":\"lines\",\"name\":\"True\",\"showlegend\":false,\"x\":[35,35],\"y\":[1,5],\"type\":\"scatter\",\"xaxis\":\"x4\",\"yaxis\":\"y4\"},{\"legendgroup\":\"True\",\"line\":{\"color\":\"#000000\",\"width\":2},\"mode\":\"lines\",\"name\":\"True\",\"showlegend\":false,\"x\":[35,35],\"y\":[5,6],\"type\":\"scatter\",\"xaxis\":\"x4\",\"yaxis\":\"y4\"},{\"legendgroup\":\"True\",\"line\":{\"color\":\"#000000\",\"width\":2},\"mode\":\"lines\",\"name\":\"True\",\"showlegend\":false,\"x\":[98,98],\"y\":[0,1],\"type\":\"scatter\",\"xaxis\":\"x4\",\"yaxis\":\"y4\"},{\"legendgroup\":\"True\",\"line\":{\"color\":\"#000000\",\"width\":2},\"mode\":\"lines\",\"name\":\"True\",\"showlegend\":false,\"x\":[98,98],\"y\":[1,5],\"type\":\"scatter\",\"xaxis\":\"x4\",\"yaxis\":\"y4\"},{\"legendgroup\":\"True\",\"line\":{\"color\":\"#000000\",\"width\":2},\"mode\":\"lines\",\"name\":\"True\",\"showlegend\":false,\"x\":[98,98],\"y\":[5,6],\"type\":\"scatter\",\"xaxis\":\"x4\",\"yaxis\":\"y4\"},{\"legendgroup\":\"True\",\"line\":{\"color\":\"#000000\",\"width\":2},\"mode\":\"lines\",\"name\":\"True\",\"showlegend\":false,\"x\":[98,98],\"y\":[6,9],\"type\":\"scatter\",\"xaxis\":\"x4\",\"yaxis\":\"y4\"},{\"legendgroup\":\"True\",\"line\":{\"color\":\"#000000\",\"width\":2},\"mode\":\"lines\",\"name\":\"True\",\"showlegend\":false,\"x\":[55,55],\"y\":[0,1],\"type\":\"scatter\",\"xaxis\":\"x4\",\"yaxis\":\"y4\"},{\"legendgroup\":\"True\",\"line\":{\"color\":\"#000000\",\"width\":2},\"mode\":\"lines\",\"name\":\"True\",\"showlegend\":false,\"x\":[55,55],\"y\":[1,5],\"type\":\"scatter\",\"xaxis\":\"x4\",\"yaxis\":\"y4\"},{\"legendgroup\":\"True\",\"line\":{\"color\":\"#000000\",\"width\":2},\"mode\":\"lines\",\"name\":\"True\",\"showlegend\":false,\"x\":[55,55],\"y\":[5,6],\"type\":\"scatter\",\"xaxis\":\"x4\",\"yaxis\":\"y4\"},{\"legendgroup\":\"True\",\"line\":{\"color\":\"#000000\",\"width\":2},\"mode\":\"lines\",\"name\":\"True\",\"showlegend\":false,\"x\":[55,55],\"y\":[6,8],\"type\":\"scatter\",\"xaxis\":\"x4\",\"yaxis\":\"y4\"},{\"legendgroup\":\"True\",\"line\":{\"color\":\"#000000\",\"width\":2},\"mode\":\"lines\",\"name\":\"True\",\"showlegend\":false,\"x\":[97,97],\"y\":[0,1],\"type\":\"scatter\",\"xaxis\":\"x4\",\"yaxis\":\"y4\"},{\"legendgroup\":\"True\",\"line\":{\"color\":\"#000000\",\"width\":2},\"mode\":\"lines\",\"name\":\"True\",\"showlegend\":false,\"x\":[97,97],\"y\":[1,5],\"type\":\"scatter\",\"xaxis\":\"x4\",\"yaxis\":\"y4\"},{\"legendgroup\":\"True\",\"line\":{\"color\":\"#000000\",\"width\":2},\"mode\":\"lines\",\"name\":\"True\",\"showlegend\":false,\"x\":[97,97],\"y\":[5,6],\"type\":\"scatter\",\"xaxis\":\"x4\",\"yaxis\":\"y4\"},{\"legendgroup\":\"True\",\"line\":{\"color\":\"#000000\",\"width\":2},\"mode\":\"lines\",\"name\":\"True\",\"showlegend\":false,\"x\":[97,97],\"y\":[6,7],\"type\":\"scatter\",\"xaxis\":\"x4\",\"yaxis\":\"y4\"},{\"legendgroup\":\"True\",\"line\":{\"color\":\"#000000\",\"width\":2},\"mode\":\"lines\",\"name\":\"True\",\"showlegend\":false,\"x\":[96,96],\"y\":[0,1],\"type\":\"scatter\",\"xaxis\":\"x4\",\"yaxis\":\"y4\"},{\"legendgroup\":\"True\",\"line\":{\"color\":\"#000000\",\"width\":2},\"mode\":\"lines\",\"name\":\"True\",\"showlegend\":false,\"x\":[96,96],\"y\":[1,5],\"type\":\"scatter\",\"xaxis\":\"x4\",\"yaxis\":\"y4\"},{\"legendgroup\":\"True\",\"line\":{\"color\":\"#000000\",\"width\":2},\"mode\":\"lines\",\"name\":\"True\",\"showlegend\":false,\"x\":[96,96],\"y\":[5,6],\"type\":\"scatter\",\"xaxis\":\"x4\",\"yaxis\":\"y4\"},{\"legendgroup\":\"True\",\"line\":{\"color\":\"#000000\",\"width\":2},\"mode\":\"lines\",\"name\":\"True\",\"showlegend\":false,\"x\":[96,96],\"y\":[6,7],\"type\":\"scatter\",\"xaxis\":\"x4\",\"yaxis\":\"y4\"},{\"legendgroup\":\"True\",\"line\":{\"color\":\"#000000\",\"width\":2},\"mode\":\"lines\",\"name\":\"True\",\"showlegend\":false,\"x\":[96,96],\"y\":[7,9],\"type\":\"scatter\",\"xaxis\":\"x4\",\"yaxis\":\"y4\"},{\"legendgroup\":\"True\",\"line\":{\"color\":\"#000000\",\"width\":2},\"mode\":\"lines\",\"name\":\"True\",\"showlegend\":false,\"x\":[64,64],\"y\":[0,1],\"type\":\"scatter\",\"xaxis\":\"x4\",\"yaxis\":\"y4\"},{\"legendgroup\":\"True\",\"line\":{\"color\":\"#000000\",\"width\":2},\"mode\":\"lines\",\"name\":\"True\",\"showlegend\":false,\"x\":[64,64],\"y\":[1,4],\"type\":\"scatter\",\"xaxis\":\"x4\",\"yaxis\":\"y4\"},{\"legendgroup\":\"True\",\"line\":{\"color\":\"#000000\",\"width\":2},\"mode\":\"lines\",\"name\":\"True\",\"showlegend\":false,\"x\":[64,64],\"y\":[4,5],\"type\":\"scatter\",\"xaxis\":\"x4\",\"yaxis\":\"y4\"},{\"legendgroup\":\"True\",\"line\":{\"color\":\"#000000\",\"width\":2},\"mode\":\"lines\",\"name\":\"True\",\"showlegend\":false,\"x\":[64,64],\"y\":[5,6],\"type\":\"scatter\",\"xaxis\":\"x4\",\"yaxis\":\"y4\"},{\"legendgroup\":\"True\",\"line\":{\"color\":\"#000000\",\"width\":2},\"mode\":\"lines\",\"name\":\"True\",\"showlegend\":false,\"x\":[64,64],\"y\":[6,8],\"type\":\"scatter\",\"xaxis\":\"x4\",\"yaxis\":\"y4\"},{\"legendgroup\":\"True\",\"line\":{\"color\":\"#000000\",\"width\":2},\"mode\":\"lines\",\"name\":\"True\",\"showlegend\":false,\"x\":[95,95],\"y\":[0,1],\"type\":\"scatter\",\"xaxis\":\"x4\",\"yaxis\":\"y4\"},{\"legendgroup\":\"True\",\"line\":{\"color\":\"#000000\",\"width\":2},\"mode\":\"lines\",\"name\":\"True\",\"showlegend\":false,\"x\":[95,95],\"y\":[1,3],\"type\":\"scatter\",\"xaxis\":\"x4\",\"yaxis\":\"y4\"},{\"legendgroup\":\"True\",\"line\":{\"color\":\"#000000\",\"width\":2},\"mode\":\"lines\",\"name\":\"True\",\"showlegend\":false,\"x\":[95,95],\"y\":[3,6],\"type\":\"scatter\",\"xaxis\":\"x4\",\"yaxis\":\"y4\"},{\"legendgroup\":\"True\",\"line\":{\"color\":\"#000000\",\"width\":2},\"mode\":\"lines\",\"name\":\"True\",\"showlegend\":false,\"x\":[63,63],\"y\":[0,1],\"type\":\"scatter\",\"xaxis\":\"x4\",\"yaxis\":\"y4\"},{\"legendgroup\":\"True\",\"line\":{\"color\":\"#000000\",\"width\":2},\"mode\":\"lines\",\"name\":\"True\",\"showlegend\":false,\"x\":[63,63],\"y\":[1,3],\"type\":\"scatter\",\"xaxis\":\"x4\",\"yaxis\":\"y4\"},{\"legendgroup\":\"True\",\"line\":{\"color\":\"#000000\",\"width\":2},\"mode\":\"lines\",\"name\":\"True\",\"showlegend\":false,\"x\":[63,63],\"y\":[3,5],\"type\":\"scatter\",\"xaxis\":\"x4\",\"yaxis\":\"y4\"},{\"legendgroup\":\"True\",\"line\":{\"color\":\"#000000\",\"width\":2},\"mode\":\"lines\",\"name\":\"True\",\"showlegend\":false,\"x\":[63,63],\"y\":[5,6],\"type\":\"scatter\",\"xaxis\":\"x4\",\"yaxis\":\"y4\"},{\"legendgroup\":\"True\",\"line\":{\"color\":\"#000000\",\"width\":2},\"mode\":\"lines\",\"name\":\"True\",\"showlegend\":false,\"x\":[94,94],\"y\":[0,1],\"type\":\"scatter\",\"xaxis\":\"x4\",\"yaxis\":\"y4\"},{\"legendgroup\":\"True\",\"line\":{\"color\":\"#000000\",\"width\":2},\"mode\":\"lines\",\"name\":\"True\",\"showlegend\":false,\"x\":[94,94],\"y\":[1,3],\"type\":\"scatter\",\"xaxis\":\"x4\",\"yaxis\":\"y4\"},{\"legendgroup\":\"True\",\"line\":{\"color\":\"#000000\",\"width\":2},\"mode\":\"lines\",\"name\":\"True\",\"showlegend\":false,\"x\":[94,94],\"y\":[3,5],\"type\":\"scatter\",\"xaxis\":\"x4\",\"yaxis\":\"y4\"},{\"legendgroup\":\"True\",\"line\":{\"color\":\"#000000\",\"width\":2},\"mode\":\"lines\",\"name\":\"True\",\"showlegend\":false,\"x\":[94,94],\"y\":[5,6],\"type\":\"scatter\",\"xaxis\":\"x4\",\"yaxis\":\"y4\"},{\"legendgroup\":\"True\",\"line\":{\"color\":\"#000000\",\"width\":2},\"mode\":\"lines\",\"name\":\"True\",\"showlegend\":false,\"x\":[94,94],\"y\":[6,8],\"type\":\"scatter\",\"xaxis\":\"x4\",\"yaxis\":\"y4\"},{\"legendgroup\":\"True\",\"line\":{\"color\":\"#000000\",\"width\":2},\"mode\":\"lines\",\"name\":\"True\",\"showlegend\":false,\"x\":[93,93],\"y\":[0,1],\"type\":\"scatter\",\"xaxis\":\"x4\",\"yaxis\":\"y4\"},{\"legendgroup\":\"True\",\"line\":{\"color\":\"#000000\",\"width\":2},\"mode\":\"lines\",\"name\":\"True\",\"showlegend\":false,\"x\":[93,93],\"y\":[1,3],\"type\":\"scatter\",\"xaxis\":\"x4\",\"yaxis\":\"y4\"},{\"legendgroup\":\"True\",\"line\":{\"color\":\"#000000\",\"width\":2},\"mode\":\"lines\",\"name\":\"True\",\"showlegend\":false,\"x\":[93,93],\"y\":[3,5],\"type\":\"scatter\",\"xaxis\":\"x4\",\"yaxis\":\"y4\"},{\"legendgroup\":\"True\",\"line\":{\"color\":\"#000000\",\"width\":2},\"mode\":\"lines\",\"name\":\"True\",\"showlegend\":false,\"x\":[93,93],\"y\":[5,6],\"type\":\"scatter\",\"xaxis\":\"x4\",\"yaxis\":\"y4\"},{\"legendgroup\":\"True\",\"line\":{\"color\":\"#000000\",\"width\":2},\"mode\":\"lines\",\"name\":\"True\",\"showlegend\":false,\"x\":[93,93],\"y\":[6,7],\"type\":\"scatter\",\"xaxis\":\"x4\",\"yaxis\":\"y4\"},{\"legendgroup\":\"True\",\"line\":{\"color\":\"#000000\",\"width\":2},\"mode\":\"lines\",\"name\":\"True\",\"showlegend\":false,\"x\":[92,92],\"y\":[0,1],\"type\":\"scatter\",\"xaxis\":\"x4\",\"yaxis\":\"y4\"},{\"legendgroup\":\"True\",\"line\":{\"color\":\"#000000\",\"width\":2},\"mode\":\"lines\",\"name\":\"True\",\"showlegend\":false,\"x\":[92,92],\"y\":[1,3],\"type\":\"scatter\",\"xaxis\":\"x4\",\"yaxis\":\"y4\"},{\"legendgroup\":\"True\",\"line\":{\"color\":\"#000000\",\"width\":2},\"mode\":\"lines\",\"name\":\"True\",\"showlegend\":false,\"x\":[92,92],\"y\":[3,4],\"type\":\"scatter\",\"xaxis\":\"x4\",\"yaxis\":\"y4\"},{\"legendgroup\":\"True\",\"line\":{\"color\":\"#000000\",\"width\":2},\"mode\":\"lines\",\"name\":\"True\",\"showlegend\":false,\"x\":[92,92],\"y\":[4,6],\"type\":\"scatter\",\"xaxis\":\"x4\",\"yaxis\":\"y4\"},{\"legendgroup\":\"True\",\"line\":{\"color\":\"#000000\",\"width\":2},\"mode\":\"lines\",\"name\":\"True\",\"showlegend\":false,\"x\":[91,91],\"y\":[0,1],\"type\":\"scatter\",\"xaxis\":\"x4\",\"yaxis\":\"y4\"},{\"legendgroup\":\"True\",\"line\":{\"color\":\"#000000\",\"width\":2},\"mode\":\"lines\",\"name\":\"True\",\"showlegend\":false,\"x\":[91,91],\"y\":[1,3],\"type\":\"scatter\",\"xaxis\":\"x4\",\"yaxis\":\"y4\"},{\"legendgroup\":\"True\",\"line\":{\"color\":\"#000000\",\"width\":2},\"mode\":\"lines\",\"name\":\"True\",\"showlegend\":false,\"x\":[91,91],\"y\":[3,4],\"type\":\"scatter\",\"xaxis\":\"x4\",\"yaxis\":\"y4\"},{\"legendgroup\":\"True\",\"line\":{\"color\":\"#000000\",\"width\":2},\"mode\":\"lines\",\"name\":\"True\",\"showlegend\":false,\"x\":[91,91],\"y\":[4,5],\"type\":\"scatter\",\"xaxis\":\"x4\",\"yaxis\":\"y4\"},{\"legendgroup\":\"True\",\"line\":{\"color\":\"#000000\",\"width\":2},\"mode\":\"lines\",\"name\":\"True\",\"showlegend\":false,\"x\":[91,91],\"y\":[5,6],\"type\":\"scatter\",\"xaxis\":\"x4\",\"yaxis\":\"y4\"},{\"legendgroup\":\"True\",\"line\":{\"color\":\"#000000\",\"width\":2},\"mode\":\"lines\",\"name\":\"True\",\"showlegend\":false,\"x\":[90,90],\"y\":[0,1],\"type\":\"scatter\",\"xaxis\":\"x4\",\"yaxis\":\"y4\"},{\"legendgroup\":\"True\",\"line\":{\"color\":\"#000000\",\"width\":2},\"mode\":\"lines\",\"name\":\"True\",\"showlegend\":false,\"x\":[90,90],\"y\":[1,2],\"type\":\"scatter\",\"xaxis\":\"x4\",\"yaxis\":\"y4\"},{\"legendgroup\":\"True\",\"line\":{\"color\":\"#000000\",\"width\":2},\"mode\":\"lines\",\"name\":\"True\",\"showlegend\":false,\"x\":[90,90],\"y\":[2,5],\"type\":\"scatter\",\"xaxis\":\"x4\",\"yaxis\":\"y4\"},{\"legendgroup\":\"True\",\"line\":{\"color\":\"#000000\",\"width\":2},\"mode\":\"lines\",\"name\":\"True\",\"showlegend\":false,\"x\":[90,90],\"y\":[5,6],\"type\":\"scatter\",\"xaxis\":\"x4\",\"yaxis\":\"y4\"}],                        {\"template\":{\"data\":{\"histogram2dcontour\":[{\"type\":\"histogram2dcontour\",\"colorbar\":{\"outlinewidth\":0,\"ticks\":\"\"},\"colorscale\":[[0.0,\"#0d0887\"],[0.1111111111111111,\"#46039f\"],[0.2222222222222222,\"#7201a8\"],[0.3333333333333333,\"#9c179e\"],[0.4444444444444444,\"#bd3786\"],[0.5555555555555556,\"#d8576b\"],[0.6666666666666666,\"#ed7953\"],[0.7777777777777778,\"#fb9f3a\"],[0.8888888888888888,\"#fdca26\"],[1.0,\"#f0f921\"]]}],\"choropleth\":[{\"type\":\"choropleth\",\"colorbar\":{\"outlinewidth\":0,\"ticks\":\"\"}}],\"histogram2d\":[{\"type\":\"histogram2d\",\"colorbar\":{\"outlinewidth\":0,\"ticks\":\"\"},\"colorscale\":[[0.0,\"#0d0887\"],[0.1111111111111111,\"#46039f\"],[0.2222222222222222,\"#7201a8\"],[0.3333333333333333,\"#9c179e\"],[0.4444444444444444,\"#bd3786\"],[0.5555555555555556,\"#d8576b\"],[0.6666666666666666,\"#ed7953\"],[0.7777777777777778,\"#fb9f3a\"],[0.8888888888888888,\"#fdca26\"],[1.0,\"#f0f921\"]]}],\"heatmap\":[{\"type\":\"heatmap\",\"colorbar\":{\"outlinewidth\":0,\"ticks\":\"\"},\"colorscale\":[[0.0,\"#0d0887\"],[0.1111111111111111,\"#46039f\"],[0.2222222222222222,\"#7201a8\"],[0.3333333333333333,\"#9c179e\"],[0.4444444444444444,\"#bd3786\"],[0.5555555555555556,\"#d8576b\"],[0.6666666666666666,\"#ed7953\"],[0.7777777777777778,\"#fb9f3a\"],[0.8888888888888888,\"#fdca26\"],[1.0,\"#f0f921\"]]}],\"heatmapgl\":[{\"type\":\"heatmapgl\",\"colorbar\":{\"outlinewidth\":0,\"ticks\":\"\"},\"colorscale\":[[0.0,\"#0d0887\"],[0.1111111111111111,\"#46039f\"],[0.2222222222222222,\"#7201a8\"],[0.3333333333333333,\"#9c179e\"],[0.4444444444444444,\"#bd3786\"],[0.5555555555555556,\"#d8576b\"],[0.6666666666666666,\"#ed7953\"],[0.7777777777777778,\"#fb9f3a\"],[0.8888888888888888,\"#fdca26\"],[1.0,\"#f0f921\"]]}],\"contourcarpet\":[{\"type\":\"contourcarpet\",\"colorbar\":{\"outlinewidth\":0,\"ticks\":\"\"}}],\"contour\":[{\"type\":\"contour\",\"colorbar\":{\"outlinewidth\":0,\"ticks\":\"\"},\"colorscale\":[[0.0,\"#0d0887\"],[0.1111111111111111,\"#46039f\"],[0.2222222222222222,\"#7201a8\"],[0.3333333333333333,\"#9c179e\"],[0.4444444444444444,\"#bd3786\"],[0.5555555555555556,\"#d8576b\"],[0.6666666666666666,\"#ed7953\"],[0.7777777777777778,\"#fb9f3a\"],[0.8888888888888888,\"#fdca26\"],[1.0,\"#f0f921\"]]}],\"surface\":[{\"type\":\"surface\",\"colorbar\":{\"outlinewidth\":0,\"ticks\":\"\"},\"colorscale\":[[0.0,\"#0d0887\"],[0.1111111111111111,\"#46039f\"],[0.2222222222222222,\"#7201a8\"],[0.3333333333333333,\"#9c179e\"],[0.4444444444444444,\"#bd3786\"],[0.5555555555555556,\"#d8576b\"],[0.6666666666666666,\"#ed7953\"],[0.7777777777777778,\"#fb9f3a\"],[0.8888888888888888,\"#fdca26\"],[1.0,\"#f0f921\"]]}],\"mesh3d\":[{\"type\":\"mesh3d\",\"colorbar\":{\"outlinewidth\":0,\"ticks\":\"\"}}],\"scatter\":[{\"fillpattern\":{\"fillmode\":\"overlay\",\"size\":10,\"solidity\":0.2},\"type\":\"scatter\"}],\"parcoords\":[{\"type\":\"parcoords\",\"line\":{\"colorbar\":{\"outlinewidth\":0,\"ticks\":\"\"}}}],\"scatterpolargl\":[{\"type\":\"scatterpolargl\",\"marker\":{\"colorbar\":{\"outlinewidth\":0,\"ticks\":\"\"}}}],\"bar\":[{\"error_x\":{\"color\":\"#2a3f5f\"},\"error_y\":{\"color\":\"#2a3f5f\"},\"marker\":{\"line\":{\"color\":\"#E5ECF6\",\"width\":0.5},\"pattern\":{\"fillmode\":\"overlay\",\"size\":10,\"solidity\":0.2}},\"type\":\"bar\"}],\"scattergeo\":[{\"type\":\"scattergeo\",\"marker\":{\"colorbar\":{\"outlinewidth\":0,\"ticks\":\"\"}}}],\"scatterpolar\":[{\"type\":\"scatterpolar\",\"marker\":{\"colorbar\":{\"outlinewidth\":0,\"ticks\":\"\"}}}],\"histogram\":[{\"marker\":{\"pattern\":{\"fillmode\":\"overlay\",\"size\":10,\"solidity\":0.2}},\"type\":\"histogram\"}],\"scattergl\":[{\"type\":\"scattergl\",\"marker\":{\"colorbar\":{\"outlinewidth\":0,\"ticks\":\"\"}}}],\"scatter3d\":[{\"type\":\"scatter3d\",\"line\":{\"colorbar\":{\"outlinewidth\":0,\"ticks\":\"\"}},\"marker\":{\"colorbar\":{\"outlinewidth\":0,\"ticks\":\"\"}}}],\"scattermapbox\":[{\"type\":\"scattermapbox\",\"marker\":{\"colorbar\":{\"outlinewidth\":0,\"ticks\":\"\"}}}],\"scatterternary\":[{\"type\":\"scatterternary\",\"marker\":{\"colorbar\":{\"outlinewidth\":0,\"ticks\":\"\"}}}],\"scattercarpet\":[{\"type\":\"scattercarpet\",\"marker\":{\"colorbar\":{\"outlinewidth\":0,\"ticks\":\"\"}}}],\"carpet\":[{\"aaxis\":{\"endlinecolor\":\"#2a3f5f\",\"gridcolor\":\"white\",\"linecolor\":\"white\",\"minorgridcolor\":\"white\",\"startlinecolor\":\"#2a3f5f\"},\"baxis\":{\"endlinecolor\":\"#2a3f5f\",\"gridcolor\":\"white\",\"linecolor\":\"white\",\"minorgridcolor\":\"white\",\"startlinecolor\":\"#2a3f5f\"},\"type\":\"carpet\"}],\"table\":[{\"cells\":{\"fill\":{\"color\":\"#EBF0F8\"},\"line\":{\"color\":\"white\"}},\"header\":{\"fill\":{\"color\":\"#C8D4E3\"},\"line\":{\"color\":\"white\"}},\"type\":\"table\"}],\"barpolar\":[{\"marker\":{\"line\":{\"color\":\"#E5ECF6\",\"width\":0.5},\"pattern\":{\"fillmode\":\"overlay\",\"size\":10,\"solidity\":0.2}},\"type\":\"barpolar\"}],\"pie\":[{\"automargin\":true,\"type\":\"pie\"}]},\"layout\":{\"autotypenumbers\":\"strict\",\"colorway\":[\"#636efa\",\"#EF553B\",\"#00cc96\",\"#ab63fa\",\"#FFA15A\",\"#19d3f3\",\"#FF6692\",\"#B6E880\",\"#FF97FF\",\"#FECB52\"],\"font\":{\"color\":\"#2a3f5f\"},\"hovermode\":\"closest\",\"hoverlabel\":{\"align\":\"left\"},\"paper_bgcolor\":\"white\",\"plot_bgcolor\":\"#E5ECF6\",\"polar\":{\"bgcolor\":\"#E5ECF6\",\"angularaxis\":{\"gridcolor\":\"white\",\"linecolor\":\"white\",\"ticks\":\"\"},\"radialaxis\":{\"gridcolor\":\"white\",\"linecolor\":\"white\",\"ticks\":\"\"}},\"ternary\":{\"bgcolor\":\"#E5ECF6\",\"aaxis\":{\"gridcolor\":\"white\",\"linecolor\":\"white\",\"ticks\":\"\"},\"baxis\":{\"gridcolor\":\"white\",\"linecolor\":\"white\",\"ticks\":\"\"},\"caxis\":{\"gridcolor\":\"white\",\"linecolor\":\"white\",\"ticks\":\"\"}},\"coloraxis\":{\"colorbar\":{\"outlinewidth\":0,\"ticks\":\"\"}},\"colorscale\":{\"sequential\":[[0.0,\"#0d0887\"],[0.1111111111111111,\"#46039f\"],[0.2222222222222222,\"#7201a8\"],[0.3333333333333333,\"#9c179e\"],[0.4444444444444444,\"#bd3786\"],[0.5555555555555556,\"#d8576b\"],[0.6666666666666666,\"#ed7953\"],[0.7777777777777778,\"#fb9f3a\"],[0.8888888888888888,\"#fdca26\"],[1.0,\"#f0f921\"]],\"sequentialminus\":[[0.0,\"#0d0887\"],[0.1111111111111111,\"#46039f\"],[0.2222222222222222,\"#7201a8\"],[0.3333333333333333,\"#9c179e\"],[0.4444444444444444,\"#bd3786\"],[0.5555555555555556,\"#d8576b\"],[0.6666666666666666,\"#ed7953\"],[0.7777777777777778,\"#fb9f3a\"],[0.8888888888888888,\"#fdca26\"],[1.0,\"#f0f921\"]],\"diverging\":[[0,\"#8e0152\"],[0.1,\"#c51b7d\"],[0.2,\"#de77ae\"],[0.3,\"#f1b6da\"],[0.4,\"#fde0ef\"],[0.5,\"#f7f7f7\"],[0.6,\"#e6f5d0\"],[0.7,\"#b8e186\"],[0.8,\"#7fbc41\"],[0.9,\"#4d9221\"],[1,\"#276419\"]]},\"xaxis\":{\"gridcolor\":\"white\",\"linecolor\":\"white\",\"ticks\":\"\",\"title\":{\"standoff\":15},\"zerolinecolor\":\"white\",\"automargin\":true,\"zerolinewidth\":2},\"yaxis\":{\"gridcolor\":\"white\",\"linecolor\":\"white\",\"ticks\":\"\",\"title\":{\"standoff\":15},\"zerolinecolor\":\"white\",\"automargin\":true,\"zerolinewidth\":2},\"scene\":{\"xaxis\":{\"backgroundcolor\":\"#E5ECF6\",\"gridcolor\":\"white\",\"linecolor\":\"white\",\"showbackground\":true,\"ticks\":\"\",\"zerolinecolor\":\"white\",\"gridwidth\":2},\"yaxis\":{\"backgroundcolor\":\"#E5ECF6\",\"gridcolor\":\"white\",\"linecolor\":\"white\",\"showbackground\":true,\"ticks\":\"\",\"zerolinecolor\":\"white\",\"gridwidth\":2},\"zaxis\":{\"backgroundcolor\":\"#E5ECF6\",\"gridcolor\":\"white\",\"linecolor\":\"white\",\"showbackground\":true,\"ticks\":\"\",\"zerolinecolor\":\"white\",\"gridwidth\":2}},\"shapedefaults\":{\"line\":{\"color\":\"#2a3f5f\"}},\"annotationdefaults\":{\"arrowcolor\":\"#2a3f5f\",\"arrowhead\":0,\"arrowwidth\":1},\"geo\":{\"bgcolor\":\"white\",\"landcolor\":\"#E5ECF6\",\"subunitcolor\":\"white\",\"showland\":true,\"showlakes\":true,\"lakecolor\":\"white\"},\"title\":{\"x\":0.05},\"mapbox\":{\"style\":\"light\"}}},\"xaxis\":{\"anchor\":\"y\",\"domain\":[0.0,0.34],\"matches\":\"x3\",\"showticklabels\":false,\"zeroline\":false,\"automargin\":true},\"yaxis\":{\"anchor\":\"x\",\"domain\":[0.43,1.0],\"zeroline\":false,\"automargin\":true},\"xaxis2\":{\"anchor\":\"y2\",\"domain\":[0.49,1.0],\"matches\":\"x4\",\"showticklabels\":false,\"side\":\"bottom\",\"showline\":true,\"linecolor\":\"#000000\",\"ticks\":\"outside\",\"tickcolor\":\"#000000\",\"dtick\":1,\"range\":[-0.5,131.5],\"zeroline\":false,\"automargin\":true},\"yaxis2\":{\"anchor\":\"x2\",\"domain\":[0.43,1.0],\"title\":{\"text\":\"Intersection Size\",\"standoff\":5,\"font\":{\"color\":\"#000000\"}},\"range\":[0.0,23284.3],\"side\":\"left\",\"showgrid\":true,\"showline\":true,\"showticklabels\":true,\"linecolor\":\"#000000\",\"gridcolor\":\"#E0E0E0\",\"ticks\":\"outside\",\"tickcolor\":\"#000000\",\"zeroline\":false,\"automargin\":true},\"xaxis3\":{\"anchor\":\"y3\",\"domain\":[0.0,0.34],\"title\":{\"text\":\"Set Size\",\"standoff\":5,\"font\":{\"color\":\"#000000\"}},\"side\":\"top\",\"autorange\":\"reversed\",\"showgrid\":true,\"showline\":true,\"showticklabels\":true,\"gridcolor\":\"#E0E0E0\",\"linecolor\":\"#000000\",\"ticks\":\"outside\",\"tickcolor\":\"#000000\",\"tickangle\":-90,\"zeroline\":false,\"automargin\":true},\"yaxis3\":{\"anchor\":\"x3\",\"domain\":[0.0,0.38],\"side\":\"right\",\"showline\":true,\"showticklabels\":false,\"linecolor\":\"#000000\",\"ticks\":\"outside\",\"tickcolor\":\"#000000\",\"zeroline\":false,\"automargin\":true},\"xaxis4\":{\"anchor\":\"y4\",\"domain\":[0.49,1.0],\"title\":{\"standoff\":5},\"range\":[-0.5,131.5],\"side\":\"bottom\",\"showline\":true,\"showgrid\":false,\"showticklabels\":false,\"dtick\":1,\"zeroline\":false,\"automargin\":true},\"yaxis4\":{\"anchor\":\"x4\",\"domain\":[0.0,0.38],\"side\":\"left\",\"showline\":true,\"showgrid\":false,\"showticklabels\":true,\"linecolor\":\"#000000\",\"ticks\":\"outside\",\"tickvals\":[0,1,2,3,4,5,6,7,8,9],\"ticktext\":[\"Comercializaci\\u00f3n\",\"Conservaci\\u00f3n del suelo\",\"Conservaci\\u00f3n de agua\",\"Otra\",\"Arreglos de siembra\",\"Agricultura de conservaci\\u00f3n\",\"Tecnologias de poscosecha\",\"Variedades mejoradas\",\"Manejo integrado de plagas\",\"Fertilizaci\\u00f3n\"],\"tickcolor\":\"#000000\",\"mirror\":false,\"zeroline\":false,\"automargin\":true},\"shapes\":[{\"fillcolor\":\"#EBEBEB\",\"layer\":\"below\",\"line\":{\"width\":0},\"type\":\"rect\",\"x0\":0,\"x1\":1,\"xref\":\"x4 domain\",\"y0\":-0.5,\"y1\":0.5,\"yref\":\"y4\"},{\"fillcolor\":\"#EBEBEB\",\"layer\":\"below\",\"line\":{\"width\":0},\"type\":\"rect\",\"x0\":0,\"x1\":1,\"xref\":\"x4 domain\",\"y0\":1.5,\"y1\":2.5,\"yref\":\"y4\"},{\"fillcolor\":\"#EBEBEB\",\"layer\":\"below\",\"line\":{\"width\":0},\"type\":\"rect\",\"x0\":0,\"x1\":1,\"xref\":\"x4 domain\",\"y0\":3.5,\"y1\":4.5,\"yref\":\"y4\"},{\"fillcolor\":\"#EBEBEB\",\"layer\":\"below\",\"line\":{\"width\":0},\"type\":\"rect\",\"x0\":0,\"x1\":1,\"xref\":\"x4 domain\",\"y0\":5.5,\"y1\":6.5,\"yref\":\"y4\"},{\"fillcolor\":\"#EBEBEB\",\"layer\":\"below\",\"line\":{\"width\":0},\"type\":\"rect\",\"x0\":0,\"x1\":1,\"xref\":\"x4 domain\",\"y0\":7.5,\"y1\":8.5,\"yref\":\"y4\"}],\"uniformtext\":{\"minsize\":12,\"mode\":\"show\"},\"margin\":{\"l\":40,\"r\":40,\"t\":40,\"b\":40},\"legend\":{\"orientation\":\"v\",\"yanchor\":\"top\",\"y\":1.0,\"xanchor\":\"left\",\"x\":0},\"font\":{\"color\":\"black\"},\"barmode\":\"group\",\"bargap\":0.2,\"bargroupgap\":0.0,\"showlegend\":true,\"height\":650,\"width\":830,\"paper_bgcolor\":\"white\",\"plot_bgcolor\":\"rgba(0, 0, 0, 0)\",\"hovermode\":\"closest\"},                        {\"responsive\": true}                    ).then(function(){\n",
       "                            \n",
       "var gd = document.getElementById('72468b48-3490-4025-b412-43cf9326afd2');\n",
       "var x = new MutationObserver(function (mutations, observer) {{\n",
       "        var display = window.getComputedStyle(gd).display;\n",
       "        if (!display || display === 'none') {{\n",
       "            console.log([gd, 'removed!']);\n",
       "            Plotly.purge(gd);\n",
       "            observer.disconnect();\n",
       "        }}\n",
       "}});\n",
       "\n",
       "// Listen for the removal of the full notebook cells\n",
       "var notebookContainer = gd.closest('#notebook-container');\n",
       "if (notebookContainer) {{\n",
       "    x.observe(notebookContainer, {childList: true});\n",
       "}}\n",
       "\n",
       "// Listen for the clearing of the current output cell\n",
       "var outputEl = gd.closest('.output');\n",
       "if (outputEl) {{\n",
       "    x.observe(outputEl, {childList: true});\n",
       "}}\n",
       "\n",
       "                        })                };                });            </script>        </div>"
      ]
     },
     "metadata": {},
     "output_type": "display_data"
    }
   ],
   "source": [
    "fig.update_layout(\n",
    "    height=650,\n",
    "    width=830\n",
    ")\n",
    "\n"
   ]
  },
  {
   "cell_type": "code",
   "execution_count": 78,
   "metadata": {},
   "outputs": [
    {
     "data": {
      "application/vnd.plotly.v1+json": {
       "config": {
        "plotlyServerURL": "https://plot.ly"
       },
       "data": [
        {
         "cliponaxis": false,
         "legendgroup": "Kit técnológico",
         "marker": {
          "color": "#636efa",
          "line": {
           "width": 0
          }
         },
         "name": "Kit técnológico",
         "showlegend": false,
         "text": [
          17911,
          4753,
          3062,
          2823,
          2013,
          1856,
          1227,
          1081,
          806,
          756,
          594,
          576,
          385,
          333,
          310,
          308,
          234,
          221,
          199,
          198,
          192,
          155,
          143,
          128,
          82,
          70,
          65,
          64,
          63,
          58,
          55,
          48,
          46,
          46,
          46,
          43,
          43,
          36,
          34,
          29,
          26,
          26,
          26,
          18,
          16,
          15,
          14,
          11,
          10,
          9,
          9,
          8,
          8,
          8,
          8,
          7,
          7,
          6,
          6,
          6,
          5,
          4,
          4,
          3,
          3,
          3,
          3,
          3,
          3,
          3,
          3,
          3,
          3,
          3,
          2,
          2,
          2,
          2,
          2,
          2,
          2,
          2,
          2,
          2,
          2,
          2,
          2,
          2,
          2,
          2,
          1,
          1,
          1,
          1,
          1,
          1,
          1,
          1,
          1,
          1,
          1,
          1,
          1,
          1,
          1,
          1,
          1,
          1,
          1,
          1,
          1,
          1,
          1,
          1,
          1,
          1,
          1,
          1,
          1,
          1,
          1,
          1,
          1,
          1,
          1,
          1,
          1,
          1,
          1,
          1,
          1,
          1
         ],
         "textangle": -90,
         "textfont": {
          "size": 12
         },
         "textposition": "outside",
         "texttemplate": "%{text:}",
         "type": "bar",
         "x": [
          "0000010000",
          "0000011000",
          "0000011001",
          "0000001000",
          "1000000000",
          "0000000010",
          "0000000001",
          "0000010010",
          "0100000000",
          "0000010001",
          "1100000000",
          "0100011001",
          "0000000000",
          "0000011010",
          "0100010000",
          "0100011000",
          "0000001010",
          "0100001000",
          "0000000100",
          "0000010011",
          "1000011000",
          "1000010000",
          "0001000000",
          "0000001001",
          "0000000011",
          "0000010100",
          "1000000010",
          "1001000000",
          "0000011011",
          "0100011010",
          "1000001000",
          "0100010001",
          "1100010000",
          "1000100010",
          "0000110000",
          "1100011000",
          "0000100000",
          "0100001010",
          "0001010000",
          "0000001011",
          "0100000010",
          "0000111000",
          "0000011100",
          "0100000001",
          "0000101000",
          "0100010010",
          "1000010010",
          "1000011010",
          "0001011000",
          "0010000000",
          "0000001100",
          "1010000000",
          "1001010000",
          "1000111000",
          "0000110010",
          "1100011010",
          "0101010000",
          "1000100000",
          "0100011011",
          "0100010011",
          "0010010000",
          "1000010001",
          "0101011000",
          "1101011000",
          "1100111010",
          "1100001000",
          "1000000011",
          "0101000000",
          "0100011100",
          "0001110000",
          "0001100000",
          "0001010010",
          "0001001000",
          "0000111010",
          "1100010010",
          "1001111000",
          "1001011010",
          "1001011000",
          "1000111010",
          "1000110000",
          "1000011011",
          "1000011001",
          "1000010100",
          "1000010011",
          "0100100000",
          "0001111000",
          "0001011011",
          "0001010001",
          "0001001001",
          "0000011110",
          "1110011000",
          "1101111000",
          "1101101000",
          "1101011100",
          "1101011010",
          "1101001000",
          "1100011101",
          "1100011100",
          "1100011001",
          "1100001100",
          "1010010000",
          "1001110010",
          "1001110000",
          "1001100000",
          "1000111001",
          "1000101000",
          "1000001011",
          "1000001010",
          "1000000100",
          "1000000001",
          "0101110010",
          "0101001001",
          "0101000001",
          "0100111000",
          "0100110000",
          "0100001100",
          "0100001001",
          "0100000100",
          "0010011001",
          "0010011000",
          "0001101000",
          "0001011100",
          "0001011010",
          "0001001010",
          "0001000011",
          "0001000010",
          "0000111110",
          "0000111011",
          "0000110100",
          "0000100010",
          "0000100001",
          "0000000110"
         ],
         "xaxis": "x2",
         "y": [
          17911,
          4753,
          3062,
          2823,
          2013,
          1856,
          1227,
          1081,
          806,
          756,
          594,
          576,
          385,
          333,
          310,
          308,
          234,
          221,
          199,
          198,
          192,
          155,
          143,
          128,
          82,
          70,
          65,
          64,
          63,
          58,
          55,
          48,
          46,
          46,
          46,
          43,
          43,
          36,
          34,
          29,
          26,
          26,
          26,
          18,
          16,
          15,
          14,
          11,
          10,
          9,
          9,
          8,
          8,
          8,
          8,
          7,
          7,
          6,
          6,
          6,
          5,
          4,
          4,
          3,
          3,
          3,
          3,
          3,
          3,
          3,
          3,
          3,
          3,
          3,
          2,
          2,
          2,
          2,
          2,
          2,
          2,
          2,
          2,
          2,
          2,
          2,
          2,
          2,
          2,
          2,
          1,
          1,
          1,
          1,
          1,
          1,
          1,
          1,
          1,
          1,
          1,
          1,
          1,
          1,
          1,
          1,
          1,
          1,
          1,
          1,
          1,
          1,
          1,
          1,
          1,
          1,
          1,
          1,
          1,
          1,
          1,
          1,
          1,
          1,
          1,
          1,
          1,
          1,
          1,
          1,
          1,
          1
         ],
         "yaxis": "y2"
        },
        {
         "cliponaxis": false,
         "legendgroup": "Kit técnológico",
         "marker": {
          "color": "#636efa",
          "line": {
           "width": 0
          }
         },
         "name": "Kit técnológico",
         "orientation": "h",
         "text": [
          26,
          237,
          319,
          322,
          3172,
          3391,
          4213,
          6230,
          13101,
          30275
         ],
         "textangle": 0,
         "textfont": {
          "size": 12
         },
         "textposition": "outside",
         "texttemplate": "%{text:}",
         "type": "bar",
         "x": [
          26,
          237,
          319,
          322,
          3172,
          3391,
          4213,
          6230,
          13101,
          30275
         ],
         "xaxis": "x3",
         "y": [
          "Comercialización",
          "Conservación del suelo",
          "Conservación de agua",
          "Otra",
          "Arreglos de siembra",
          "Agricultura de conservación",
          "Tecnologias de poscosecha",
          "Variedades mejoradas",
          "Manejo integrado de plagas",
          "Fertilización"
         ],
         "yaxis": "y3"
        },
        {
         "legendgroup": "True",
         "marker": {
          "color": "#000000",
          "line": {
           "color": "#000000",
           "width": 0
          },
          "size": 12,
          "symbol": "circle"
         },
         "mode": "markers",
         "name": "True",
         "showlegend": false,
         "type": "scatter",
         "x": [
          4,
          8,
          49,
          22,
          36,
          0,
          3,
          18,
          5,
          6,
          109,
          43,
          130,
          9,
          23,
          24,
          24,
          26,
          40,
          125,
          129,
          7,
          16,
          131,
          131,
          66,
          124,
          19,
          39,
          108,
          117,
          25,
          50,
          50,
          16,
          23,
          39,
          39,
          30,
          17,
          72,
          44,
          1,
          1,
          25,
          7,
          9,
          116,
          88,
          2,
          2,
          19,
          19,
          107,
          37,
          123,
          13,
          13,
          106,
          28,
          28,
          115,
          42,
          42,
          42,
          13,
          2,
          28,
          28,
          89,
          89,
          89,
          89,
          21,
          14,
          60,
          38,
          34,
          34,
          44,
          129,
          130,
          61,
          31,
          87,
          46,
          45,
          71,
          54,
          54,
          83,
          59,
          82,
          128,
          128,
          20,
          15,
          119,
          48,
          41,
          41,
          41,
          128,
          54,
          81,
          11,
          118,
          47,
          29,
          122,
          73,
          73,
          73,
          80,
          58,
          86,
          127,
          127,
          127,
          68,
          121,
          73,
          127,
          127,
          126,
          126,
          126,
          126,
          126,
          57,
          84,
          70,
          70,
          38,
          72,
          125,
          87,
          88,
          124,
          124,
          33,
          71,
          123,
          123,
          88,
          105,
          120,
          120,
          48,
          48,
          71,
          87,
          122,
          122,
          86,
          86,
          121,
          121,
          121,
          122,
          86,
          86,
          79,
          114,
          69,
          69,
          69,
          120,
          53,
          113,
          85,
          85,
          85,
          85,
          104,
          78,
          27,
          67,
          60,
          112,
          119,
          119,
          111,
          118,
          118,
          118,
          52,
          56,
          77,
          62,
          76,
          103,
          102,
          101,
          110,
          75,
          51,
          67,
          84,
          14,
          17,
          117,
          40,
          43,
          112,
          31,
          116,
          45,
          37,
          59,
          115,
          115,
          37,
          116,
          15,
          15,
          45,
          31,
          111,
          11,
          11,
          59,
          59,
          29,
          29,
          58,
          58,
          68,
          68,
          68,
          29,
          11,
          58,
          58,
          100,
          56,
          114,
          114,
          62,
          113,
          113,
          113,
          56,
          112,
          111,
          111,
          62,
          62,
          110,
          110,
          110,
          110,
          10,
          10,
          51,
          27,
          57,
          21,
          30,
          108,
          26,
          109,
          61,
          66,
          66,
          33,
          46,
          107,
          83,
          106,
          82,
          107,
          106,
          106,
          65,
          65,
          105,
          20,
          20,
          82,
          46,
          61,
          81,
          81,
          83,
          83,
          47,
          47,
          80,
          80,
          99,
          99,
          47,
          81,
          80,
          80,
          32,
          32,
          100,
          52,
          79,
          79,
          105,
          33,
          74,
          74,
          35,
          35,
          77,
          53,
          53,
          53,
          98,
          98,
          104,
          104,
          104,
          55,
          55,
          76,
          78,
          78,
          78,
          97,
          97,
          78,
          104,
          96,
          96,
          103,
          103,
          52,
          77,
          77,
          76,
          76,
          76,
          102,
          102,
          102,
          101,
          101,
          101,
          75,
          75,
          75,
          75,
          101,
          64,
          64,
          100,
          95,
          95,
          63,
          63,
          94,
          94,
          93,
          93,
          92,
          92,
          91,
          91,
          32,
          65,
          74,
          99,
          99,
          95,
          35,
          35,
          74,
          98,
          98,
          55,
          55,
          97,
          97,
          97,
          55,
          98,
          96,
          96,
          96,
          96,
          90,
          90,
          90,
          63,
          94,
          64,
          64,
          64,
          93,
          64,
          95,
          92,
          92,
          63,
          63,
          94,
          94,
          93,
          93,
          93,
          94,
          92,
          91,
          91,
          91,
          91,
          90,
          90
         ],
         "xaxis": "x4",
         "y": [
          0,
          1,
          2,
          3,
          4,
          5,
          6,
          7,
          8,
          9,
          0,
          1,
          4,
          5,
          6,
          8,
          9,
          0,
          1,
          3,
          4,
          5,
          6,
          7,
          8,
          0,
          3,
          5,
          6,
          0,
          1,
          5,
          6,
          7,
          8,
          9,
          8,
          9,
          0,
          1,
          3,
          4,
          5,
          6,
          7,
          8,
          9,
          1,
          3,
          5,
          6,
          8,
          9,
          0,
          1,
          3,
          5,
          6,
          0,
          5,
          6,
          1,
          5,
          6,
          7,
          8,
          9,
          8,
          9,
          5,
          6,
          7,
          8,
          0,
          1,
          2,
          3,
          4,
          5,
          6,
          8,
          9,
          0,
          1,
          3,
          0,
          1,
          3,
          4,
          5,
          0,
          1,
          0,
          4,
          5,
          0,
          1,
          2,
          3,
          4,
          5,
          6,
          7,
          8,
          0,
          1,
          2,
          0,
          1,
          3,
          4,
          5,
          6,
          0,
          1,
          3,
          4,
          5,
          6,
          1,
          3,
          8,
          8,
          9,
          4,
          5,
          6,
          7,
          8,
          0,
          1,
          3,
          4,
          5,
          6,
          8,
          5,
          6,
          8,
          9,
          0,
          5,
          6,
          8,
          9,
          0,
          3,
          4,
          5,
          6,
          8,
          9,
          5,
          6,
          5,
          6,
          5,
          6,
          7,
          8,
          8,
          9,
          0,
          1,
          3,
          4,
          5,
          6,
          0,
          1,
          3,
          4,
          5,
          6,
          0,
          0,
          0,
          1,
          5,
          1,
          5,
          6,
          1,
          5,
          6,
          9,
          0,
          1,
          0,
          1,
          0,
          0,
          0,
          0,
          1,
          0,
          0,
          3,
          4,
          5,
          6,
          7,
          8,
          9,
          3,
          5,
          6,
          5,
          6,
          5,
          6,
          7,
          8,
          9,
          5,
          6,
          8,
          9,
          3,
          5,
          6,
          8,
          9,
          5,
          6,
          5,
          6,
          5,
          6,
          7,
          8,
          9,
          8,
          9,
          0,
          3,
          4,
          5,
          3,
          4,
          5,
          6,
          5,
          9,
          6,
          9,
          5,
          6,
          3,
          4,
          5,
          8,
          0,
          1,
          2,
          3,
          4,
          5,
          6,
          7,
          8,
          9,
          5,
          8,
          9,
          4,
          5,
          6,
          5,
          6,
          5,
          8,
          8,
          9,
          0,
          1,
          4,
          5,
          6,
          7,
          8,
          9,
          5,
          6,
          8,
          9,
          5,
          6,
          5,
          6,
          0,
          1,
          8,
          9,
          8,
          9,
          0,
          1,
          2,
          3,
          4,
          5,
          6,
          8,
          0,
          1,
          0,
          1,
          3,
          4,
          5,
          6,
          0,
          1,
          4,
          5,
          6,
          0,
          1,
          3,
          4,
          5,
          6,
          0,
          1,
          8,
          9,
          0,
          1,
          3,
          4,
          5,
          5,
          6,
          5,
          6,
          8,
          3,
          4,
          5,
          3,
          4,
          5,
          3,
          4,
          5,
          6,
          8,
          0,
          1,
          5,
          0,
          1,
          0,
          1,
          0,
          1,
          0,
          1,
          0,
          1,
          0,
          1,
          5,
          6,
          5,
          6,
          7,
          3,
          5,
          6,
          8,
          5,
          6,
          5,
          6,
          5,
          6,
          7,
          8,
          9,
          5,
          6,
          7,
          9,
          0,
          1,
          2,
          3,
          3,
          4,
          5,
          6,
          3,
          8,
          6,
          3,
          4,
          5,
          6,
          5,
          6,
          5,
          6,
          7,
          8,
          6,
          3,
          4,
          5,
          6,
          5,
          6
         ],
         "yaxis": "y4"
        },
        {
         "legendgroup": "False",
         "marker": {
          "color": "#C2C2C2",
          "line": {
           "color": "#000000",
           "width": 0
          },
          "size": 12,
          "symbol": "circle"
         },
         "mode": "markers",
         "name": "False",
         "showlegend": false,
         "type": "scatter",
         "x": [
          91,
          92,
          93,
          94,
          63,
          90,
          90,
          90,
          90,
          90,
          95,
          93,
          91,
          91,
          91,
          64,
          64,
          94,
          63,
          92,
          92,
          92,
          92,
          94,
          93,
          93,
          94,
          63,
          63,
          63,
          95,
          95,
          95,
          95,
          95,
          64,
          96,
          96,
          96,
          64,
          97,
          97,
          97,
          55,
          55,
          55,
          98,
          98,
          98,
          35,
          35,
          35,
          74,
          74,
          74,
          100,
          32,
          32,
          32,
          96,
          55,
          97,
          97,
          98,
          98,
          55,
          99,
          99,
          99,
          99,
          35,
          35,
          35,
          74,
          74,
          74,
          65,
          65,
          65,
          65,
          32,
          32,
          32,
          32,
          99,
          99,
          65,
          65,
          65,
          51,
          10,
          10,
          10,
          10,
          10,
          10,
          10,
          10,
          75,
          75,
          110,
          101,
          101,
          102,
          102,
          103,
          103,
          76,
          76,
          62,
          77,
          77,
          56,
          52,
          52,
          100,
          100,
          111,
          100,
          100,
          100,
          100,
          112,
          67,
          27,
          27,
          51,
          51,
          51,
          51,
          51,
          51,
          51,
          75,
          75,
          75,
          78,
          78,
          78,
          76,
          101,
          101,
          104,
          104,
          104,
          101,
          113,
          53,
          53,
          53,
          77,
          102,
          102,
          102,
          102,
          114,
          79,
          79,
          79,
          52,
          103,
          103,
          103,
          103,
          103,
          76,
          76,
          77,
          77,
          77,
          105,
          105,
          105,
          52,
          52,
          52,
          52,
          33,
          33,
          33,
          84,
          57,
          57,
          57,
          27,
          27,
          27,
          27,
          27,
          27,
          78,
          104,
          104,
          78,
          68,
          53,
          53,
          53,
          58,
          80,
          80,
          80,
          80,
          29,
          47,
          47,
          47,
          47,
          11,
          81,
          81,
          81,
          81,
          15,
          20,
          20,
          20,
          20,
          105,
          79,
          79,
          79,
          79,
          82,
          82,
          82,
          82,
          105,
          105,
          105,
          59,
          83,
          83,
          83,
          83,
          45,
          46,
          46,
          46,
          46,
          33,
          33,
          33,
          31,
          61,
          61,
          61,
          61,
          33,
          14,
          21,
          21,
          21,
          21,
          57,
          57,
          57,
          57,
          57,
          80,
          47,
          81,
          81,
          47,
          115,
          82,
          20,
          20,
          20,
          106,
          106,
          106,
          106,
          106,
          83,
          83,
          37,
          107,
          107,
          107,
          107,
          107,
          46,
          46,
          82,
          82,
          116,
          61,
          61,
          61,
          46,
          17,
          30,
          30,
          30,
          30,
          30,
          21,
          21,
          21,
          21,
          106,
          107,
          107,
          117,
          108,
          108,
          108,
          108,
          108,
          108,
          30,
          30,
          30,
          66,
          66,
          66,
          66,
          66,
          66,
          66,
          40,
          26,
          26,
          26,
          26,
          26,
          26,
          26,
          108,
          108,
          43,
          109,
          109,
          109,
          109,
          109,
          109,
          109,
          109,
          26,
          8,
          4,
          4,
          4,
          4,
          4,
          4,
          4,
          4,
          4,
          110,
          62,
          56,
          111,
          112,
          67,
          110,
          110,
          110,
          113,
          113,
          62,
          114,
          114,
          56,
          62,
          62,
          62,
          111,
          111,
          56,
          56,
          56,
          56,
          111,
          111,
          112,
          112,
          112,
          112,
          112,
          84,
          84,
          67,
          67,
          67,
          67,
          67,
          67,
          68,
          68,
          68,
          113,
          113,
          113,
          58,
          58,
          58,
          29,
          29,
          29,
          118,
          118,
          11,
          11,
          11,
          119,
          119,
          15,
          15,
          15,
          114,
          114,
          114,
          114,
          59,
          59,
          59,
          45,
          45,
          45,
          31,
          31,
          31,
          60,
          60,
          14,
          14,
          14,
          84,
          84,
          84,
          84,
          84,
          58,
          29,
          68,
          68,
          11,
          11,
          29,
          115,
          115,
          115,
          115,
          15,
          15,
          15,
          59,
          59,
          37,
          37,
          37,
          37,
          45,
          45,
          116,
          116,
          116,
          116,
          31,
          31,
          31,
          45,
          17,
          17,
          17,
          17,
          14,
          14,
          14,
          14,
          37,
          115,
          115,
          116,
          116,
          37,
          117,
          117,
          117,
          117,
          117,
          17,
          17,
          17,
          40,
          40,
          40,
          40,
          40,
          40,
          117,
          117,
          43,
          43,
          43,
          43,
          43,
          43,
          43,
          40,
          49,
          49,
          8,
          8,
          8,
          8,
          8,
          8,
          8,
          8,
          85,
          85,
          85,
          69,
          69,
          69,
          120,
          120,
          120,
          70,
          70,
          70,
          121,
          121,
          121,
          86,
          86,
          86,
          122,
          122,
          122,
          118,
          118,
          48,
          48,
          48,
          119,
          119,
          71,
          71,
          71,
          87,
          87,
          87,
          38,
          38,
          38,
          60,
          60,
          118,
          118,
          119,
          119,
          119,
          123,
          123,
          123,
          88,
          88,
          88,
          72,
          72,
          72,
          60,
          60,
          60,
          60,
          124,
          124,
          124,
          125,
          125,
          125,
          22,
          22,
          22,
          49,
          49,
          49,
          49,
          49,
          49,
          49,
          126,
          126,
          126,
          126,
          121,
          85,
          85,
          85,
          127,
          127,
          127,
          127,
          86,
          73,
          73,
          73,
          73,
          122,
          41,
          41,
          41,
          41,
          48,
          120,
          69,
          69,
          69,
          69,
          128,
          128,
          128,
          128,
          120,
          120,
          120,
          54,
          54,
          54,
          54,
          71,
          87,
          34,
          34,
          34,
          34,
          38,
          70,
          70,
          70,
          70,
          70,
          86,
          122,
          121,
          121,
          122,
          48,
          48,
          48,
          123,
          123,
          71,
          71,
          88,
          88,
          87,
          87,
          87,
          71,
          44,
          44,
          44,
          44,
          72,
          72,
          38,
          38,
          38,
          38,
          123,
          88,
          88,
          123,
          72,
          72,
          72,
          124,
          124,
          124,
          124,
          129,
          129,
          129,
          129,
          125,
          125,
          125,
          125,
          130,
          130,
          130,
          130,
          125,
          36,
          36,
          36,
          36,
          22,
          22,
          22,
          22,
          22,
          22,
          127,
          126,
          89,
          89,
          89,
          89,
          89,
          73,
          73,
          42,
          42,
          42,
          42,
          42,
          128,
          41,
          41,
          41,
          28,
          28,
          28,
          28,
          28,
          13,
          13,
          13,
          13,
          13,
          54,
          54,
          128,
          128,
          2,
          2,
          2,
          2,
          2,
          54,
          1,
          1,
          1,
          1,
          1,
          44,
          34,
          34,
          34,
          34,
          25,
          25,
          25,
          25,
          25,
          44,
          44,
          44,
          19,
          19,
          19,
          19,
          19,
          7,
          7,
          7,
          7,
          7,
          129,
          129,
          129,
          9,
          9,
          9,
          9,
          9,
          130,
          130,
          130,
          130,
          129,
          0,
          0,
          0,
          0,
          0,
          36,
          36,
          36,
          36,
          36,
          28,
          89,
          13,
          42,
          42,
          2,
          2,
          13,
          50,
          50,
          50,
          50,
          50,
          50,
          25,
          1,
          1,
          1,
          39,
          39,
          39,
          39,
          39,
          39,
          19,
          19,
          16,
          16,
          16,
          16,
          16,
          16,
          7,
          7,
          25,
          25,
          23,
          23,
          23,
          23,
          23,
          23,
          9,
          9,
          9,
          7,
          3,
          3,
          3,
          3,
          3,
          3,
          0,
          0,
          0,
          0,
          39,
          131,
          131,
          131,
          131,
          131,
          131,
          131,
          16,
          50,
          50,
          23,
          23,
          16,
          18,
          18,
          18,
          18,
          18,
          18,
          18,
          3,
          3,
          3,
          24,
          24,
          24,
          24,
          24,
          24,
          24,
          24,
          131,
          5,
          5,
          5,
          5,
          5,
          5,
          5,
          5,
          18,
          18,
          6,
          6,
          6,
          6,
          6,
          6,
          6,
          6,
          6,
          5,
          12,
          12,
          12,
          12,
          12,
          12,
          12,
          12,
          12,
          12
         ],
         "xaxis": "x4",
         "y": [
          2,
          2,
          2,
          2,
          2,
          3,
          4,
          7,
          8,
          9,
          2,
          4,
          7,
          8,
          9,
          2,
          3,
          4,
          4,
          5,
          7,
          8,
          9,
          7,
          8,
          9,
          9,
          7,
          8,
          9,
          4,
          5,
          7,
          8,
          9,
          7,
          2,
          3,
          4,
          9,
          2,
          3,
          4,
          2,
          3,
          4,
          2,
          3,
          4,
          2,
          3,
          4,
          2,
          3,
          4,
          1,
          2,
          3,
          4,
          8,
          7,
          8,
          9,
          7,
          8,
          9,
          2,
          3,
          4,
          5,
          7,
          8,
          9,
          6,
          7,
          9,
          2,
          3,
          4,
          5,
          6,
          7,
          8,
          9,
          8,
          9,
          7,
          8,
          9,
          1,
          2,
          3,
          4,
          5,
          6,
          7,
          8,
          9,
          1,
          2,
          0,
          1,
          2,
          1,
          2,
          1,
          2,
          1,
          2,
          0,
          1,
          2,
          0,
          1,
          2,
          3,
          4,
          0,
          6,
          7,
          8,
          9,
          0,
          0,
          1,
          2,
          3,
          4,
          5,
          6,
          7,
          8,
          9,
          7,
          8,
          9,
          1,
          2,
          3,
          4,
          6,
          7,
          1,
          2,
          3,
          9,
          0,
          1,
          2,
          3,
          4,
          6,
          7,
          8,
          9,
          0,
          1,
          2,
          3,
          4,
          5,
          6,
          7,
          8,
          9,
          7,
          9,
          7,
          8,
          9,
          1,
          2,
          3,
          6,
          7,
          8,
          9,
          1,
          2,
          3,
          0,
          1,
          2,
          3,
          4,
          5,
          6,
          7,
          8,
          9,
          7,
          7,
          8,
          9,
          0,
          7,
          8,
          9,
          0,
          1,
          2,
          3,
          4,
          0,
          1,
          2,
          3,
          4,
          0,
          1,
          2,
          3,
          4,
          0,
          1,
          2,
          3,
          4,
          5,
          6,
          7,
          8,
          9,
          1,
          2,
          3,
          4,
          7,
          8,
          9,
          0,
          1,
          2,
          3,
          4,
          0,
          1,
          2,
          3,
          4,
          5,
          6,
          7,
          0,
          1,
          2,
          3,
          4,
          9,
          0,
          1,
          2,
          3,
          4,
          5,
          6,
          7,
          8,
          9,
          7,
          7,
          7,
          8,
          9,
          0,
          6,
          7,
          8,
          9,
          1,
          2,
          3,
          4,
          5,
          6,
          7,
          0,
          1,
          2,
          3,
          4,
          5,
          6,
          7,
          8,
          9,
          0,
          6,
          7,
          8,
          9,
          0,
          1,
          2,
          3,
          4,
          5,
          6,
          7,
          8,
          9,
          7,
          7,
          9,
          0,
          1,
          2,
          3,
          4,
          5,
          6,
          7,
          8,
          9,
          1,
          2,
          3,
          4,
          5,
          6,
          7,
          0,
          1,
          2,
          3,
          4,
          5,
          6,
          7,
          8,
          9,
          0,
          1,
          2,
          3,
          4,
          5,
          6,
          7,
          8,
          9,
          0,
          1,
          2,
          3,
          4,
          5,
          6,
          7,
          8,
          9,
          2,
          2,
          2,
          2,
          2,
          2,
          6,
          7,
          9,
          2,
          3,
          4,
          2,
          3,
          4,
          7,
          8,
          9,
          4,
          5,
          6,
          7,
          8,
          9,
          7,
          8,
          4,
          5,
          6,
          7,
          8,
          2,
          3,
          4,
          5,
          6,
          7,
          8,
          9,
          2,
          3,
          4,
          7,
          8,
          9,
          2,
          3,
          4,
          2,
          3,
          4,
          0,
          1,
          2,
          3,
          4,
          0,
          1,
          2,
          3,
          4,
          6,
          7,
          8,
          9,
          2,
          3,
          4,
          2,
          3,
          4,
          2,
          3,
          4,
          0,
          1,
          2,
          3,
          4,
          5,
          6,
          7,
          8,
          9,
          7,
          7,
          8,
          9,
          7,
          8,
          9,
          2,
          3,
          4,
          5,
          7,
          8,
          9,
          6,
          7,
          2,
          3,
          4,
          5,
          6,
          7,
          2,
          3,
          4,
          5,
          6,
          7,
          8,
          9,
          2,
          3,
          4,
          5,
          6,
          7,
          8,
          9,
          7,
          8,
          9,
          7,
          8,
          9,
          2,
          3,
          4,
          5,
          6,
          7,
          8,
          9,
          2,
          3,
          4,
          5,
          6,
          7,
          8,
          9,
          2,
          3,
          4,
          5,
          6,
          7,
          8,
          9,
          0,
          1,
          2,
          3,
          4,
          5,
          6,
          7,
          8,
          9,
          0,
          1,
          2,
          0,
          1,
          2,
          0,
          1,
          2,
          0,
          1,
          2,
          0,
          1,
          2,
          0,
          1,
          2,
          0,
          1,
          2,
          3,
          4,
          0,
          1,
          2,
          3,
          4,
          0,
          1,
          2,
          0,
          1,
          2,
          0,
          1,
          2,
          3,
          4,
          7,
          8,
          7,
          8,
          9,
          0,
          1,
          2,
          0,
          1,
          2,
          0,
          1,
          2,
          6,
          7,
          8,
          9,
          0,
          1,
          2,
          0,
          1,
          2,
          0,
          1,
          2,
          3,
          4,
          5,
          6,
          7,
          8,
          9,
          0,
          1,
          2,
          3,
          4,
          7,
          8,
          9,
          0,
          1,
          2,
          3,
          4,
          0,
          1,
          2,
          3,
          4,
          0,
          1,
          2,
          3,
          4,
          5,
          6,
          7,
          8,
          9,
          0,
          1,
          2,
          3,
          7,
          8,
          9,
          0,
          1,
          2,
          3,
          4,
          4,
          0,
          1,
          2,
          3,
          4,
          5,
          6,
          7,
          8,
          9,
          7,
          7,
          8,
          9,
          9,
          7,
          8,
          9,
          4,
          5,
          6,
          7,
          4,
          5,
          6,
          7,
          8,
          9,
          0,
          1,
          2,
          3,
          4,
          5,
          6,
          7,
          8,
          9,
          7,
          7,
          8,
          9,
          7,
          8,
          9,
          4,
          5,
          6,
          7,
          0,
          1,
          2,
          3,
          4,
          5,
          6,
          7,
          0,
          1,
          2,
          3,
          9,
          0,
          1,
          2,
          3,
          4,
          5,
          6,
          7,
          8,
          9,
          7,
          9,
          0,
          1,
          2,
          3,
          4,
          7,
          9,
          0,
          1,
          2,
          3,
          4,
          6,
          7,
          8,
          9,
          0,
          1,
          2,
          3,
          4,
          0,
          1,
          2,
          3,
          4,
          6,
          7,
          8,
          9,
          0,
          1,
          2,
          3,
          4,
          9,
          0,
          1,
          2,
          3,
          4,
          5,
          6,
          7,
          8,
          9,
          0,
          1,
          2,
          3,
          4,
          7,
          8,
          9,
          0,
          1,
          2,
          3,
          4,
          0,
          1,
          2,
          3,
          4,
          5,
          6,
          7,
          0,
          1,
          2,
          3,
          4,
          5,
          6,
          7,
          8,
          9,
          0,
          1,
          2,
          3,
          4,
          5,
          6,
          7,
          8,
          9,
          7,
          9,
          7,
          8,
          9,
          7,
          8,
          9,
          0,
          1,
          2,
          3,
          4,
          5,
          6,
          7,
          8,
          9,
          0,
          1,
          2,
          3,
          4,
          5,
          6,
          7,
          0,
          1,
          2,
          3,
          4,
          5,
          6,
          7,
          8,
          9,
          0,
          1,
          2,
          3,
          4,
          5,
          6,
          7,
          8,
          9,
          0,
          1,
          2,
          3,
          4,
          5,
          6,
          7,
          8,
          9,
          7,
          0,
          1,
          2,
          3,
          4,
          5,
          6,
          7,
          8,
          9,
          7,
          8,
          9,
          0,
          1,
          2,
          3,
          4,
          5,
          6,
          7,
          8,
          9,
          0,
          1,
          2,
          3,
          4,
          5,
          6,
          7,
          9,
          0,
          1,
          2,
          3,
          4,
          5,
          6,
          7,
          8,
          9,
          0,
          1,
          2,
          3,
          4,
          5,
          6,
          7,
          8,
          9,
          0,
          1,
          2,
          3,
          4,
          5,
          6,
          7,
          8,
          9
         ],
         "yaxis": "y4"
        },
        {
         "legendgroup": "True",
         "line": {
          "color": "#000000",
          "width": 2
         },
         "mode": "lines",
         "name": "True",
         "showlegend": false,
         "type": "scatter",
         "x": [
          24,
          24
         ],
         "xaxis": "x4",
         "y": [
          8,
          9
         ],
         "yaxis": "y4"
        },
        {
         "legendgroup": "True",
         "line": {
          "color": "#000000",
          "width": 2
         },
         "mode": "lines",
         "name": "True",
         "showlegend": false,
         "type": "scatter",
         "x": [
          131,
          131
         ],
         "xaxis": "x4",
         "y": [
          7,
          8
         ],
         "yaxis": "y4"
        },
        {
         "legendgroup": "True",
         "line": {
          "color": "#000000",
          "width": 2
         },
         "mode": "lines",
         "name": "True",
         "showlegend": false,
         "type": "scatter",
         "x": [
          23,
          23
         ],
         "xaxis": "x4",
         "y": [
          6,
          9
         ],
         "yaxis": "y4"
        },
        {
         "legendgroup": "True",
         "line": {
          "color": "#000000",
          "width": 2
         },
         "mode": "lines",
         "name": "True",
         "showlegend": false,
         "type": "scatter",
         "x": [
          16,
          16
         ],
         "xaxis": "x4",
         "y": [
          6,
          8
         ],
         "yaxis": "y4"
        },
        {
         "legendgroup": "True",
         "line": {
          "color": "#000000",
          "width": 2
         },
         "mode": "lines",
         "name": "True",
         "showlegend": false,
         "type": "scatter",
         "x": [
          39,
          39
         ],
         "xaxis": "x4",
         "y": [
          6,
          8
         ],
         "yaxis": "y4"
        },
        {
         "legendgroup": "True",
         "line": {
          "color": "#000000",
          "width": 2
         },
         "mode": "lines",
         "name": "True",
         "showlegend": false,
         "type": "scatter",
         "x": [
          39,
          39
         ],
         "xaxis": "x4",
         "y": [
          8,
          9
         ],
         "yaxis": "y4"
        },
        {
         "legendgroup": "True",
         "line": {
          "color": "#000000",
          "width": 2
         },
         "mode": "lines",
         "name": "True",
         "showlegend": false,
         "type": "scatter",
         "x": [
          50,
          50
         ],
         "xaxis": "x4",
         "y": [
          6,
          7
         ],
         "yaxis": "y4"
        },
        {
         "legendgroup": "True",
         "line": {
          "color": "#000000",
          "width": 2
         },
         "mode": "lines",
         "name": "True",
         "showlegend": false,
         "type": "scatter",
         "x": [
          9,
          9
         ],
         "xaxis": "x4",
         "y": [
          5,
          9
         ],
         "yaxis": "y4"
        },
        {
         "legendgroup": "True",
         "line": {
          "color": "#000000",
          "width": 2
         },
         "mode": "lines",
         "name": "True",
         "showlegend": false,
         "type": "scatter",
         "x": [
          7,
          7
         ],
         "xaxis": "x4",
         "y": [
          5,
          8
         ],
         "yaxis": "y4"
        },
        {
         "legendgroup": "True",
         "line": {
          "color": "#000000",
          "width": 2
         },
         "mode": "lines",
         "name": "True",
         "showlegend": false,
         "type": "scatter",
         "x": [
          19,
          19
         ],
         "xaxis": "x4",
         "y": [
          5,
          8
         ],
         "yaxis": "y4"
        },
        {
         "legendgroup": "True",
         "line": {
          "color": "#000000",
          "width": 2
         },
         "mode": "lines",
         "name": "True",
         "showlegend": false,
         "type": "scatter",
         "x": [
          19,
          19
         ],
         "xaxis": "x4",
         "y": [
          8,
          9
         ],
         "yaxis": "y4"
        },
        {
         "legendgroup": "True",
         "line": {
          "color": "#000000",
          "width": 2
         },
         "mode": "lines",
         "name": "True",
         "showlegend": false,
         "type": "scatter",
         "x": [
          25,
          25
         ],
         "xaxis": "x4",
         "y": [
          5,
          7
         ],
         "yaxis": "y4"
        },
        {
         "legendgroup": "True",
         "line": {
          "color": "#000000",
          "width": 2
         },
         "mode": "lines",
         "name": "True",
         "showlegend": false,
         "type": "scatter",
         "x": [
          1,
          1
         ],
         "xaxis": "x4",
         "y": [
          5,
          6
         ],
         "yaxis": "y4"
        },
        {
         "legendgroup": "True",
         "line": {
          "color": "#000000",
          "width": 2
         },
         "mode": "lines",
         "name": "True",
         "showlegend": false,
         "type": "scatter",
         "x": [
          2,
          2
         ],
         "xaxis": "x4",
         "y": [
          5,
          6
         ],
         "yaxis": "y4"
        },
        {
         "legendgroup": "True",
         "line": {
          "color": "#000000",
          "width": 2
         },
         "mode": "lines",
         "name": "True",
         "showlegend": false,
         "type": "scatter",
         "x": [
          2,
          2
         ],
         "xaxis": "x4",
         "y": [
          6,
          9
         ],
         "yaxis": "y4"
        },
        {
         "legendgroup": "True",
         "line": {
          "color": "#000000",
          "width": 2
         },
         "mode": "lines",
         "name": "True",
         "showlegend": false,
         "type": "scatter",
         "x": [
          13,
          13
         ],
         "xaxis": "x4",
         "y": [
          5,
          6
         ],
         "yaxis": "y4"
        },
        {
         "legendgroup": "True",
         "line": {
          "color": "#000000",
          "width": 2
         },
         "mode": "lines",
         "name": "True",
         "showlegend": false,
         "type": "scatter",
         "x": [
          13,
          13
         ],
         "xaxis": "x4",
         "y": [
          6,
          8
         ],
         "yaxis": "y4"
        },
        {
         "legendgroup": "True",
         "line": {
          "color": "#000000",
          "width": 2
         },
         "mode": "lines",
         "name": "True",
         "showlegend": false,
         "type": "scatter",
         "x": [
          28,
          28
         ],
         "xaxis": "x4",
         "y": [
          5,
          6
         ],
         "yaxis": "y4"
        },
        {
         "legendgroup": "True",
         "line": {
          "color": "#000000",
          "width": 2
         },
         "mode": "lines",
         "name": "True",
         "showlegend": false,
         "type": "scatter",
         "x": [
          28,
          28
         ],
         "xaxis": "x4",
         "y": [
          6,
          8
         ],
         "yaxis": "y4"
        },
        {
         "legendgroup": "True",
         "line": {
          "color": "#000000",
          "width": 2
         },
         "mode": "lines",
         "name": "True",
         "showlegend": false,
         "type": "scatter",
         "x": [
          28,
          28
         ],
         "xaxis": "x4",
         "y": [
          8,
          9
         ],
         "yaxis": "y4"
        },
        {
         "legendgroup": "True",
         "line": {
          "color": "#000000",
          "width": 2
         },
         "mode": "lines",
         "name": "True",
         "showlegend": false,
         "type": "scatter",
         "x": [
          42,
          42
         ],
         "xaxis": "x4",
         "y": [
          5,
          6
         ],
         "yaxis": "y4"
        },
        {
         "legendgroup": "True",
         "line": {
          "color": "#000000",
          "width": 2
         },
         "mode": "lines",
         "name": "True",
         "showlegend": false,
         "type": "scatter",
         "x": [
          42,
          42
         ],
         "xaxis": "x4",
         "y": [
          6,
          7
         ],
         "yaxis": "y4"
        },
        {
         "legendgroup": "True",
         "line": {
          "color": "#000000",
          "width": 2
         },
         "mode": "lines",
         "name": "True",
         "showlegend": false,
         "type": "scatter",
         "x": [
          89,
          89
         ],
         "xaxis": "x4",
         "y": [
          5,
          6
         ],
         "yaxis": "y4"
        },
        {
         "legendgroup": "True",
         "line": {
          "color": "#000000",
          "width": 2
         },
         "mode": "lines",
         "name": "True",
         "showlegend": false,
         "type": "scatter",
         "x": [
          89,
          89
         ],
         "xaxis": "x4",
         "y": [
          6,
          7
         ],
         "yaxis": "y4"
        },
        {
         "legendgroup": "True",
         "line": {
          "color": "#000000",
          "width": 2
         },
         "mode": "lines",
         "name": "True",
         "showlegend": false,
         "type": "scatter",
         "x": [
          89,
          89
         ],
         "xaxis": "x4",
         "y": [
          7,
          8
         ],
         "yaxis": "y4"
        },
        {
         "legendgroup": "True",
         "line": {
          "color": "#000000",
          "width": 2
         },
         "mode": "lines",
         "name": "True",
         "showlegend": false,
         "type": "scatter",
         "x": [
          130,
          130
         ],
         "xaxis": "x4",
         "y": [
          4,
          9
         ],
         "yaxis": "y4"
        },
        {
         "legendgroup": "True",
         "line": {
          "color": "#000000",
          "width": 2
         },
         "mode": "lines",
         "name": "True",
         "showlegend": false,
         "type": "scatter",
         "x": [
          129,
          129
         ],
         "xaxis": "x4",
         "y": [
          4,
          8
         ],
         "yaxis": "y4"
        },
        {
         "legendgroup": "True",
         "line": {
          "color": "#000000",
          "width": 2
         },
         "mode": "lines",
         "name": "True",
         "showlegend": false,
         "type": "scatter",
         "x": [
          44,
          44
         ],
         "xaxis": "x4",
         "y": [
          4,
          6
         ],
         "yaxis": "y4"
        },
        {
         "legendgroup": "True",
         "line": {
          "color": "#000000",
          "width": 2
         },
         "mode": "lines",
         "name": "True",
         "showlegend": false,
         "type": "scatter",
         "x": [
          34,
          34
         ],
         "xaxis": "x4",
         "y": [
          4,
          5
         ],
         "yaxis": "y4"
        },
        {
         "legendgroup": "True",
         "line": {
          "color": "#000000",
          "width": 2
         },
         "mode": "lines",
         "name": "True",
         "showlegend": false,
         "type": "scatter",
         "x": [
          54,
          54
         ],
         "xaxis": "x4",
         "y": [
          4,
          5
         ],
         "yaxis": "y4"
        },
        {
         "legendgroup": "True",
         "line": {
          "color": "#000000",
          "width": 2
         },
         "mode": "lines",
         "name": "True",
         "showlegend": false,
         "type": "scatter",
         "x": [
          54,
          54
         ],
         "xaxis": "x4",
         "y": [
          5,
          8
         ],
         "yaxis": "y4"
        },
        {
         "legendgroup": "True",
         "line": {
          "color": "#000000",
          "width": 2
         },
         "mode": "lines",
         "name": "True",
         "showlegend": false,
         "type": "scatter",
         "x": [
          128,
          128
         ],
         "xaxis": "x4",
         "y": [
          4,
          5
         ],
         "yaxis": "y4"
        },
        {
         "legendgroup": "True",
         "line": {
          "color": "#000000",
          "width": 2
         },
         "mode": "lines",
         "name": "True",
         "showlegend": false,
         "type": "scatter",
         "x": [
          128,
          128
         ],
         "xaxis": "x4",
         "y": [
          5,
          7
         ],
         "yaxis": "y4"
        },
        {
         "legendgroup": "True",
         "line": {
          "color": "#000000",
          "width": 2
         },
         "mode": "lines",
         "name": "True",
         "showlegend": false,
         "type": "scatter",
         "x": [
          41,
          41
         ],
         "xaxis": "x4",
         "y": [
          4,
          5
         ],
         "yaxis": "y4"
        },
        {
         "legendgroup": "True",
         "line": {
          "color": "#000000",
          "width": 2
         },
         "mode": "lines",
         "name": "True",
         "showlegend": false,
         "type": "scatter",
         "x": [
          41,
          41
         ],
         "xaxis": "x4",
         "y": [
          5,
          6
         ],
         "yaxis": "y4"
        },
        {
         "legendgroup": "True",
         "line": {
          "color": "#000000",
          "width": 2
         },
         "mode": "lines",
         "name": "True",
         "showlegend": false,
         "type": "scatter",
         "x": [
          73,
          73
         ],
         "xaxis": "x4",
         "y": [
          4,
          5
         ],
         "yaxis": "y4"
        },
        {
         "legendgroup": "True",
         "line": {
          "color": "#000000",
          "width": 2
         },
         "mode": "lines",
         "name": "True",
         "showlegend": false,
         "type": "scatter",
         "x": [
          73,
          73
         ],
         "xaxis": "x4",
         "y": [
          5,
          6
         ],
         "yaxis": "y4"
        },
        {
         "legendgroup": "True",
         "line": {
          "color": "#000000",
          "width": 2
         },
         "mode": "lines",
         "name": "True",
         "showlegend": false,
         "type": "scatter",
         "x": [
          73,
          73
         ],
         "xaxis": "x4",
         "y": [
          6,
          8
         ],
         "yaxis": "y4"
        },
        {
         "legendgroup": "True",
         "line": {
          "color": "#000000",
          "width": 2
         },
         "mode": "lines",
         "name": "True",
         "showlegend": false,
         "type": "scatter",
         "x": [
          127,
          127
         ],
         "xaxis": "x4",
         "y": [
          4,
          5
         ],
         "yaxis": "y4"
        },
        {
         "legendgroup": "True",
         "line": {
          "color": "#000000",
          "width": 2
         },
         "mode": "lines",
         "name": "True",
         "showlegend": false,
         "type": "scatter",
         "x": [
          127,
          127
         ],
         "xaxis": "x4",
         "y": [
          5,
          6
         ],
         "yaxis": "y4"
        },
        {
         "legendgroup": "True",
         "line": {
          "color": "#000000",
          "width": 2
         },
         "mode": "lines",
         "name": "True",
         "showlegend": false,
         "type": "scatter",
         "x": [
          127,
          127
         ],
         "xaxis": "x4",
         "y": [
          6,
          8
         ],
         "yaxis": "y4"
        },
        {
         "legendgroup": "True",
         "line": {
          "color": "#000000",
          "width": 2
         },
         "mode": "lines",
         "name": "True",
         "showlegend": false,
         "type": "scatter",
         "x": [
          127,
          127
         ],
         "xaxis": "x4",
         "y": [
          8,
          9
         ],
         "yaxis": "y4"
        },
        {
         "legendgroup": "True",
         "line": {
          "color": "#000000",
          "width": 2
         },
         "mode": "lines",
         "name": "True",
         "showlegend": false,
         "type": "scatter",
         "x": [
          126,
          126
         ],
         "xaxis": "x4",
         "y": [
          4,
          5
         ],
         "yaxis": "y4"
        },
        {
         "legendgroup": "True",
         "line": {
          "color": "#000000",
          "width": 2
         },
         "mode": "lines",
         "name": "True",
         "showlegend": false,
         "type": "scatter",
         "x": [
          126,
          126
         ],
         "xaxis": "x4",
         "y": [
          5,
          6
         ],
         "yaxis": "y4"
        },
        {
         "legendgroup": "True",
         "line": {
          "color": "#000000",
          "width": 2
         },
         "mode": "lines",
         "name": "True",
         "showlegend": false,
         "type": "scatter",
         "x": [
          126,
          126
         ],
         "xaxis": "x4",
         "y": [
          6,
          7
         ],
         "yaxis": "y4"
        },
        {
         "legendgroup": "True",
         "line": {
          "color": "#000000",
          "width": 2
         },
         "mode": "lines",
         "name": "True",
         "showlegend": false,
         "type": "scatter",
         "x": [
          126,
          126
         ],
         "xaxis": "x4",
         "y": [
          7,
          8
         ],
         "yaxis": "y4"
        },
        {
         "legendgroup": "True",
         "line": {
          "color": "#000000",
          "width": 2
         },
         "mode": "lines",
         "name": "True",
         "showlegend": false,
         "type": "scatter",
         "x": [
          125,
          125
         ],
         "xaxis": "x4",
         "y": [
          3,
          8
         ],
         "yaxis": "y4"
        },
        {
         "legendgroup": "True",
         "line": {
          "color": "#000000",
          "width": 2
         },
         "mode": "lines",
         "name": "True",
         "showlegend": false,
         "type": "scatter",
         "x": [
          124,
          124
         ],
         "xaxis": "x4",
         "y": [
          3,
          8
         ],
         "yaxis": "y4"
        },
        {
         "legendgroup": "True",
         "line": {
          "color": "#000000",
          "width": 2
         },
         "mode": "lines",
         "name": "True",
         "showlegend": false,
         "type": "scatter",
         "x": [
          124,
          124
         ],
         "xaxis": "x4",
         "y": [
          8,
          9
         ],
         "yaxis": "y4"
        },
        {
         "legendgroup": "True",
         "line": {
          "color": "#000000",
          "width": 2
         },
         "mode": "lines",
         "name": "True",
         "showlegend": false,
         "type": "scatter",
         "x": [
          72,
          72
         ],
         "xaxis": "x4",
         "y": [
          3,
          6
         ],
         "yaxis": "y4"
        },
        {
         "legendgroup": "True",
         "line": {
          "color": "#000000",
          "width": 2
         },
         "mode": "lines",
         "name": "True",
         "showlegend": false,
         "type": "scatter",
         "x": [
          88,
          88
         ],
         "xaxis": "x4",
         "y": [
          3,
          6
         ],
         "yaxis": "y4"
        },
        {
         "legendgroup": "True",
         "line": {
          "color": "#000000",
          "width": 2
         },
         "mode": "lines",
         "name": "True",
         "showlegend": false,
         "type": "scatter",
         "x": [
          88,
          88
         ],
         "xaxis": "x4",
         "y": [
          6,
          9
         ],
         "yaxis": "y4"
        },
        {
         "legendgroup": "True",
         "line": {
          "color": "#000000",
          "width": 2
         },
         "mode": "lines",
         "name": "True",
         "showlegend": false,
         "type": "scatter",
         "x": [
          123,
          123
         ],
         "xaxis": "x4",
         "y": [
          3,
          6
         ],
         "yaxis": "y4"
        },
        {
         "legendgroup": "True",
         "line": {
          "color": "#000000",
          "width": 2
         },
         "mode": "lines",
         "name": "True",
         "showlegend": false,
         "type": "scatter",
         "x": [
          123,
          123
         ],
         "xaxis": "x4",
         "y": [
          6,
          8
         ],
         "yaxis": "y4"
        },
        {
         "legendgroup": "True",
         "line": {
          "color": "#000000",
          "width": 2
         },
         "mode": "lines",
         "name": "True",
         "showlegend": false,
         "type": "scatter",
         "x": [
          38,
          38
         ],
         "xaxis": "x4",
         "y": [
          3,
          5
         ],
         "yaxis": "y4"
        },
        {
         "legendgroup": "True",
         "line": {
          "color": "#000000",
          "width": 2
         },
         "mode": "lines",
         "name": "True",
         "showlegend": false,
         "type": "scatter",
         "x": [
          87,
          87
         ],
         "xaxis": "x4",
         "y": [
          3,
          5
         ],
         "yaxis": "y4"
        },
        {
         "legendgroup": "True",
         "line": {
          "color": "#000000",
          "width": 2
         },
         "mode": "lines",
         "name": "True",
         "showlegend": false,
         "type": "scatter",
         "x": [
          87,
          87
         ],
         "xaxis": "x4",
         "y": [
          5,
          9
         ],
         "yaxis": "y4"
        },
        {
         "legendgroup": "True",
         "line": {
          "color": "#000000",
          "width": 2
         },
         "mode": "lines",
         "name": "True",
         "showlegend": false,
         "type": "scatter",
         "x": [
          71,
          71
         ],
         "xaxis": "x4",
         "y": [
          3,
          5
         ],
         "yaxis": "y4"
        },
        {
         "legendgroup": "True",
         "line": {
          "color": "#000000",
          "width": 2
         },
         "mode": "lines",
         "name": "True",
         "showlegend": false,
         "type": "scatter",
         "x": [
          71,
          71
         ],
         "xaxis": "x4",
         "y": [
          5,
          8
         ],
         "yaxis": "y4"
        },
        {
         "legendgroup": "True",
         "line": {
          "color": "#000000",
          "width": 2
         },
         "mode": "lines",
         "name": "True",
         "showlegend": false,
         "type": "scatter",
         "x": [
          48,
          48
         ],
         "xaxis": "x4",
         "y": [
          3,
          5
         ],
         "yaxis": "y4"
        },
        {
         "legendgroup": "True",
         "line": {
          "color": "#000000",
          "width": 2
         },
         "mode": "lines",
         "name": "True",
         "showlegend": false,
         "type": "scatter",
         "x": [
          48,
          48
         ],
         "xaxis": "x4",
         "y": [
          5,
          6
         ],
         "yaxis": "y4"
        },
        {
         "legendgroup": "True",
         "line": {
          "color": "#000000",
          "width": 2
         },
         "mode": "lines",
         "name": "True",
         "showlegend": false,
         "type": "scatter",
         "x": [
          122,
          122
         ],
         "xaxis": "x4",
         "y": [
          3,
          5
         ],
         "yaxis": "y4"
        },
        {
         "legendgroup": "True",
         "line": {
          "color": "#000000",
          "width": 2
         },
         "mode": "lines",
         "name": "True",
         "showlegend": false,
         "type": "scatter",
         "x": [
          122,
          122
         ],
         "xaxis": "x4",
         "y": [
          5,
          6
         ],
         "yaxis": "y4"
        },
        {
         "legendgroup": "True",
         "line": {
          "color": "#000000",
          "width": 2
         },
         "mode": "lines",
         "name": "True",
         "showlegend": false,
         "type": "scatter",
         "x": [
          122,
          122
         ],
         "xaxis": "x4",
         "y": [
          6,
          8
         ],
         "yaxis": "y4"
        },
        {
         "legendgroup": "True",
         "line": {
          "color": "#000000",
          "width": 2
         },
         "mode": "lines",
         "name": "True",
         "showlegend": false,
         "type": "scatter",
         "x": [
          86,
          86
         ],
         "xaxis": "x4",
         "y": [
          3,
          5
         ],
         "yaxis": "y4"
        },
        {
         "legendgroup": "True",
         "line": {
          "color": "#000000",
          "width": 2
         },
         "mode": "lines",
         "name": "True",
         "showlegend": false,
         "type": "scatter",
         "x": [
          86,
          86
         ],
         "xaxis": "x4",
         "y": [
          5,
          6
         ],
         "yaxis": "y4"
        },
        {
         "legendgroup": "True",
         "line": {
          "color": "#000000",
          "width": 2
         },
         "mode": "lines",
         "name": "True",
         "showlegend": false,
         "type": "scatter",
         "x": [
          86,
          86
         ],
         "xaxis": "x4",
         "y": [
          6,
          8
         ],
         "yaxis": "y4"
        },
        {
         "legendgroup": "True",
         "line": {
          "color": "#000000",
          "width": 2
         },
         "mode": "lines",
         "name": "True",
         "showlegend": false,
         "type": "scatter",
         "x": [
          86,
          86
         ],
         "xaxis": "x4",
         "y": [
          8,
          9
         ],
         "yaxis": "y4"
        },
        {
         "legendgroup": "True",
         "line": {
          "color": "#000000",
          "width": 2
         },
         "mode": "lines",
         "name": "True",
         "showlegend": false,
         "type": "scatter",
         "x": [
          121,
          121
         ],
         "xaxis": "x4",
         "y": [
          3,
          5
         ],
         "yaxis": "y4"
        },
        {
         "legendgroup": "True",
         "line": {
          "color": "#000000",
          "width": 2
         },
         "mode": "lines",
         "name": "True",
         "showlegend": false,
         "type": "scatter",
         "x": [
          121,
          121
         ],
         "xaxis": "x4",
         "y": [
          5,
          6
         ],
         "yaxis": "y4"
        },
        {
         "legendgroup": "True",
         "line": {
          "color": "#000000",
          "width": 2
         },
         "mode": "lines",
         "name": "True",
         "showlegend": false,
         "type": "scatter",
         "x": [
          121,
          121
         ],
         "xaxis": "x4",
         "y": [
          6,
          7
         ],
         "yaxis": "y4"
        },
        {
         "legendgroup": "True",
         "line": {
          "color": "#000000",
          "width": 2
         },
         "mode": "lines",
         "name": "True",
         "showlegend": false,
         "type": "scatter",
         "x": [
          70,
          70
         ],
         "xaxis": "x4",
         "y": [
          3,
          4
         ],
         "yaxis": "y4"
        },
        {
         "legendgroup": "True",
         "line": {
          "color": "#000000",
          "width": 2
         },
         "mode": "lines",
         "name": "True",
         "showlegend": false,
         "type": "scatter",
         "x": [
          120,
          120
         ],
         "xaxis": "x4",
         "y": [
          3,
          4
         ],
         "yaxis": "y4"
        },
        {
         "legendgroup": "True",
         "line": {
          "color": "#000000",
          "width": 2
         },
         "mode": "lines",
         "name": "True",
         "showlegend": false,
         "type": "scatter",
         "x": [
          120,
          120
         ],
         "xaxis": "x4",
         "y": [
          4,
          6
         ],
         "yaxis": "y4"
        },
        {
         "legendgroup": "True",
         "line": {
          "color": "#000000",
          "width": 2
         },
         "mode": "lines",
         "name": "True",
         "showlegend": false,
         "type": "scatter",
         "x": [
          69,
          69
         ],
         "xaxis": "x4",
         "y": [
          3,
          4
         ],
         "yaxis": "y4"
        },
        {
         "legendgroup": "True",
         "line": {
          "color": "#000000",
          "width": 2
         },
         "mode": "lines",
         "name": "True",
         "showlegend": false,
         "type": "scatter",
         "x": [
          69,
          69
         ],
         "xaxis": "x4",
         "y": [
          4,
          5
         ],
         "yaxis": "y4"
        },
        {
         "legendgroup": "True",
         "line": {
          "color": "#000000",
          "width": 2
         },
         "mode": "lines",
         "name": "True",
         "showlegend": false,
         "type": "scatter",
         "x": [
          85,
          85
         ],
         "xaxis": "x4",
         "y": [
          3,
          4
         ],
         "yaxis": "y4"
        },
        {
         "legendgroup": "True",
         "line": {
          "color": "#000000",
          "width": 2
         },
         "mode": "lines",
         "name": "True",
         "showlegend": false,
         "type": "scatter",
         "x": [
          85,
          85
         ],
         "xaxis": "x4",
         "y": [
          4,
          5
         ],
         "yaxis": "y4"
        },
        {
         "legendgroup": "True",
         "line": {
          "color": "#000000",
          "width": 2
         },
         "mode": "lines",
         "name": "True",
         "showlegend": false,
         "type": "scatter",
         "x": [
          85,
          85
         ],
         "xaxis": "x4",
         "y": [
          5,
          6
         ],
         "yaxis": "y4"
        },
        {
         "legendgroup": "True",
         "line": {
          "color": "#000000",
          "width": 2
         },
         "mode": "lines",
         "name": "True",
         "showlegend": false,
         "type": "scatter",
         "x": [
          60,
          60
         ],
         "xaxis": "x4",
         "y": [
          2,
          5
         ],
         "yaxis": "y4"
        },
        {
         "legendgroup": "True",
         "line": {
          "color": "#000000",
          "width": 2
         },
         "mode": "lines",
         "name": "True",
         "showlegend": false,
         "type": "scatter",
         "x": [
          119,
          119
         ],
         "xaxis": "x4",
         "y": [
          2,
          5
         ],
         "yaxis": "y4"
        },
        {
         "legendgroup": "True",
         "line": {
          "color": "#000000",
          "width": 2
         },
         "mode": "lines",
         "name": "True",
         "showlegend": false,
         "type": "scatter",
         "x": [
          119,
          119
         ],
         "xaxis": "x4",
         "y": [
          5,
          6
         ],
         "yaxis": "y4"
        },
        {
         "legendgroup": "True",
         "line": {
          "color": "#000000",
          "width": 2
         },
         "mode": "lines",
         "name": "True",
         "showlegend": false,
         "type": "scatter",
         "x": [
          118,
          118
         ],
         "xaxis": "x4",
         "y": [
          2,
          5
         ],
         "yaxis": "y4"
        },
        {
         "legendgroup": "True",
         "line": {
          "color": "#000000",
          "width": 2
         },
         "mode": "lines",
         "name": "True",
         "showlegend": false,
         "type": "scatter",
         "x": [
          118,
          118
         ],
         "xaxis": "x4",
         "y": [
          5,
          6
         ],
         "yaxis": "y4"
        },
        {
         "legendgroup": "True",
         "line": {
          "color": "#000000",
          "width": 2
         },
         "mode": "lines",
         "name": "True",
         "showlegend": false,
         "type": "scatter",
         "x": [
          118,
          118
         ],
         "xaxis": "x4",
         "y": [
          6,
          9
         ],
         "yaxis": "y4"
        },
        {
         "legendgroup": "True",
         "line": {
          "color": "#000000",
          "width": 2
         },
         "mode": "lines",
         "name": "True",
         "showlegend": false,
         "type": "scatter",
         "x": [
          43,
          43
         ],
         "xaxis": "x4",
         "y": [
          1,
          9
         ],
         "yaxis": "y4"
        },
        {
         "legendgroup": "True",
         "line": {
          "color": "#000000",
          "width": 2
         },
         "mode": "lines",
         "name": "True",
         "showlegend": false,
         "type": "scatter",
         "x": [
          40,
          40
         ],
         "xaxis": "x4",
         "y": [
          1,
          8
         ],
         "yaxis": "y4"
        },
        {
         "legendgroup": "True",
         "line": {
          "color": "#000000",
          "width": 2
         },
         "mode": "lines",
         "name": "True",
         "showlegend": false,
         "type": "scatter",
         "x": [
          117,
          117
         ],
         "xaxis": "x4",
         "y": [
          1,
          7
         ],
         "yaxis": "y4"
        },
        {
         "legendgroup": "True",
         "line": {
          "color": "#000000",
          "width": 2
         },
         "mode": "lines",
         "name": "True",
         "showlegend": false,
         "type": "scatter",
         "x": [
          17,
          17
         ],
         "xaxis": "x4",
         "y": [
          1,
          6
         ],
         "yaxis": "y4"
        },
        {
         "legendgroup": "True",
         "line": {
          "color": "#000000",
          "width": 2
         },
         "mode": "lines",
         "name": "True",
         "showlegend": false,
         "type": "scatter",
         "x": [
          116,
          116
         ],
         "xaxis": "x4",
         "y": [
          1,
          6
         ],
         "yaxis": "y4"
        },
        {
         "legendgroup": "True",
         "line": {
          "color": "#000000",
          "width": 2
         },
         "mode": "lines",
         "name": "True",
         "showlegend": false,
         "type": "scatter",
         "x": [
          116,
          116
         ],
         "xaxis": "x4",
         "y": [
          6,
          9
         ],
         "yaxis": "y4"
        },
        {
         "legendgroup": "True",
         "line": {
          "color": "#000000",
          "width": 2
         },
         "mode": "lines",
         "name": "True",
         "showlegend": false,
         "type": "scatter",
         "x": [
          37,
          37
         ],
         "xaxis": "x4",
         "y": [
          1,
          6
         ],
         "yaxis": "y4"
        },
        {
         "legendgroup": "True",
         "line": {
          "color": "#000000",
          "width": 2
         },
         "mode": "lines",
         "name": "True",
         "showlegend": false,
         "type": "scatter",
         "x": [
          37,
          37
         ],
         "xaxis": "x4",
         "y": [
          6,
          8
         ],
         "yaxis": "y4"
        },
        {
         "legendgroup": "True",
         "line": {
          "color": "#000000",
          "width": 2
         },
         "mode": "lines",
         "name": "True",
         "showlegend": false,
         "type": "scatter",
         "x": [
          115,
          115
         ],
         "xaxis": "x4",
         "y": [
          1,
          6
         ],
         "yaxis": "y4"
        },
        {
         "legendgroup": "True",
         "line": {
          "color": "#000000",
          "width": 2
         },
         "mode": "lines",
         "name": "True",
         "showlegend": false,
         "type": "scatter",
         "x": [
          115,
          115
         ],
         "xaxis": "x4",
         "y": [
          6,
          7
         ],
         "yaxis": "y4"
        },
        {
         "legendgroup": "True",
         "line": {
          "color": "#000000",
          "width": 2
         },
         "mode": "lines",
         "name": "True",
         "showlegend": false,
         "type": "scatter",
         "x": [
          14,
          14
         ],
         "xaxis": "x4",
         "y": [
          1,
          5
         ],
         "yaxis": "y4"
        },
        {
         "legendgroup": "True",
         "line": {
          "color": "#000000",
          "width": 2
         },
         "mode": "lines",
         "name": "True",
         "showlegend": false,
         "type": "scatter",
         "x": [
          31,
          31
         ],
         "xaxis": "x4",
         "y": [
          1,
          5
         ],
         "yaxis": "y4"
        },
        {
         "legendgroup": "True",
         "line": {
          "color": "#000000",
          "width": 2
         },
         "mode": "lines",
         "name": "True",
         "showlegend": false,
         "type": "scatter",
         "x": [
          31,
          31
         ],
         "xaxis": "x4",
         "y": [
          5,
          9
         ],
         "yaxis": "y4"
        },
        {
         "legendgroup": "True",
         "line": {
          "color": "#000000",
          "width": 2
         },
         "mode": "lines",
         "name": "True",
         "showlegend": false,
         "type": "scatter",
         "x": [
          45,
          45
         ],
         "xaxis": "x4",
         "y": [
          1,
          5
         ],
         "yaxis": "y4"
        },
        {
         "legendgroup": "True",
         "line": {
          "color": "#000000",
          "width": 2
         },
         "mode": "lines",
         "name": "True",
         "showlegend": false,
         "type": "scatter",
         "x": [
          45,
          45
         ],
         "xaxis": "x4",
         "y": [
          5,
          8
         ],
         "yaxis": "y4"
        },
        {
         "legendgroup": "True",
         "line": {
          "color": "#000000",
          "width": 2
         },
         "mode": "lines",
         "name": "True",
         "showlegend": false,
         "type": "scatter",
         "x": [
          59,
          59
         ],
         "xaxis": "x4",
         "y": [
          1,
          5
         ],
         "yaxis": "y4"
        },
        {
         "legendgroup": "True",
         "line": {
          "color": "#000000",
          "width": 2
         },
         "mode": "lines",
         "name": "True",
         "showlegend": false,
         "type": "scatter",
         "x": [
          59,
          59
         ],
         "xaxis": "x4",
         "y": [
          5,
          8
         ],
         "yaxis": "y4"
        },
        {
         "legendgroup": "True",
         "line": {
          "color": "#000000",
          "width": 2
         },
         "mode": "lines",
         "name": "True",
         "showlegend": false,
         "type": "scatter",
         "x": [
          59,
          59
         ],
         "xaxis": "x4",
         "y": [
          8,
          9
         ],
         "yaxis": "y4"
        },
        {
         "legendgroup": "True",
         "line": {
          "color": "#000000",
          "width": 2
         },
         "mode": "lines",
         "name": "True",
         "showlegend": false,
         "type": "scatter",
         "x": [
          15,
          15
         ],
         "xaxis": "x4",
         "y": [
          1,
          5
         ],
         "yaxis": "y4"
        },
        {
         "legendgroup": "True",
         "line": {
          "color": "#000000",
          "width": 2
         },
         "mode": "lines",
         "name": "True",
         "showlegend": false,
         "type": "scatter",
         "x": [
          15,
          15
         ],
         "xaxis": "x4",
         "y": [
          5,
          6
         ],
         "yaxis": "y4"
        },
        {
         "legendgroup": "True",
         "line": {
          "color": "#000000",
          "width": 2
         },
         "mode": "lines",
         "name": "True",
         "showlegend": false,
         "type": "scatter",
         "x": [
          11,
          11
         ],
         "xaxis": "x4",
         "y": [
          1,
          5
         ],
         "yaxis": "y4"
        },
        {
         "legendgroup": "True",
         "line": {
          "color": "#000000",
          "width": 2
         },
         "mode": "lines",
         "name": "True",
         "showlegend": false,
         "type": "scatter",
         "x": [
          11,
          11
         ],
         "xaxis": "x4",
         "y": [
          5,
          6
         ],
         "yaxis": "y4"
        },
        {
         "legendgroup": "True",
         "line": {
          "color": "#000000",
          "width": 2
         },
         "mode": "lines",
         "name": "True",
         "showlegend": false,
         "type": "scatter",
         "x": [
          11,
          11
         ],
         "xaxis": "x4",
         "y": [
          6,
          9
         ],
         "yaxis": "y4"
        },
        {
         "legendgroup": "True",
         "line": {
          "color": "#000000",
          "width": 2
         },
         "mode": "lines",
         "name": "True",
         "showlegend": false,
         "type": "scatter",
         "x": [
          29,
          29
         ],
         "xaxis": "x4",
         "y": [
          1,
          5
         ],
         "yaxis": "y4"
        },
        {
         "legendgroup": "True",
         "line": {
          "color": "#000000",
          "width": 2
         },
         "mode": "lines",
         "name": "True",
         "showlegend": false,
         "type": "scatter",
         "x": [
          29,
          29
         ],
         "xaxis": "x4",
         "y": [
          5,
          6
         ],
         "yaxis": "y4"
        },
        {
         "legendgroup": "True",
         "line": {
          "color": "#000000",
          "width": 2
         },
         "mode": "lines",
         "name": "True",
         "showlegend": false,
         "type": "scatter",
         "x": [
          29,
          29
         ],
         "xaxis": "x4",
         "y": [
          6,
          8
         ],
         "yaxis": "y4"
        },
        {
         "legendgroup": "True",
         "line": {
          "color": "#000000",
          "width": 2
         },
         "mode": "lines",
         "name": "True",
         "showlegend": false,
         "type": "scatter",
         "x": [
          58,
          58
         ],
         "xaxis": "x4",
         "y": [
          1,
          5
         ],
         "yaxis": "y4"
        },
        {
         "legendgroup": "True",
         "line": {
          "color": "#000000",
          "width": 2
         },
         "mode": "lines",
         "name": "True",
         "showlegend": false,
         "type": "scatter",
         "x": [
          58,
          58
         ],
         "xaxis": "x4",
         "y": [
          5,
          6
         ],
         "yaxis": "y4"
        },
        {
         "legendgroup": "True",
         "line": {
          "color": "#000000",
          "width": 2
         },
         "mode": "lines",
         "name": "True",
         "showlegend": false,
         "type": "scatter",
         "x": [
          58,
          58
         ],
         "xaxis": "x4",
         "y": [
          6,
          8
         ],
         "yaxis": "y4"
        },
        {
         "legendgroup": "True",
         "line": {
          "color": "#000000",
          "width": 2
         },
         "mode": "lines",
         "name": "True",
         "showlegend": false,
         "type": "scatter",
         "x": [
          58,
          58
         ],
         "xaxis": "x4",
         "y": [
          8,
          9
         ],
         "yaxis": "y4"
        },
        {
         "legendgroup": "True",
         "line": {
          "color": "#000000",
          "width": 2
         },
         "mode": "lines",
         "name": "True",
         "showlegend": false,
         "type": "scatter",
         "x": [
          68,
          68
         ],
         "xaxis": "x4",
         "y": [
          1,
          5
         ],
         "yaxis": "y4"
        },
        {
         "legendgroup": "True",
         "line": {
          "color": "#000000",
          "width": 2
         },
         "mode": "lines",
         "name": "True",
         "showlegend": false,
         "type": "scatter",
         "x": [
          68,
          68
         ],
         "xaxis": "x4",
         "y": [
          5,
          6
         ],
         "yaxis": "y4"
        },
        {
         "legendgroup": "True",
         "line": {
          "color": "#000000",
          "width": 2
         },
         "mode": "lines",
         "name": "True",
         "showlegend": false,
         "type": "scatter",
         "x": [
          68,
          68
         ],
         "xaxis": "x4",
         "y": [
          6,
          7
         ],
         "yaxis": "y4"
        },
        {
         "legendgroup": "True",
         "line": {
          "color": "#000000",
          "width": 2
         },
         "mode": "lines",
         "name": "True",
         "showlegend": false,
         "type": "scatter",
         "x": [
          84,
          84
         ],
         "xaxis": "x4",
         "y": [
          1,
          4
         ],
         "yaxis": "y4"
        },
        {
         "legendgroup": "True",
         "line": {
          "color": "#000000",
          "width": 2
         },
         "mode": "lines",
         "name": "True",
         "showlegend": false,
         "type": "scatter",
         "x": [
          114,
          114
         ],
         "xaxis": "x4",
         "y": [
          1,
          4
         ],
         "yaxis": "y4"
        },
        {
         "legendgroup": "True",
         "line": {
          "color": "#000000",
          "width": 2
         },
         "mode": "lines",
         "name": "True",
         "showlegend": false,
         "type": "scatter",
         "x": [
          114,
          114
         ],
         "xaxis": "x4",
         "y": [
          4,
          5
         ],
         "yaxis": "y4"
        },
        {
         "legendgroup": "True",
         "line": {
          "color": "#000000",
          "width": 2
         },
         "mode": "lines",
         "name": "True",
         "showlegend": false,
         "type": "scatter",
         "x": [
          113,
          113
         ],
         "xaxis": "x4",
         "y": [
          1,
          4
         ],
         "yaxis": "y4"
        },
        {
         "legendgroup": "True",
         "line": {
          "color": "#000000",
          "width": 2
         },
         "mode": "lines",
         "name": "True",
         "showlegend": false,
         "type": "scatter",
         "x": [
          113,
          113
         ],
         "xaxis": "x4",
         "y": [
          4,
          5
         ],
         "yaxis": "y4"
        },
        {
         "legendgroup": "True",
         "line": {
          "color": "#000000",
          "width": 2
         },
         "mode": "lines",
         "name": "True",
         "showlegend": false,
         "type": "scatter",
         "x": [
          113,
          113
         ],
         "xaxis": "x4",
         "y": [
          5,
          6
         ],
         "yaxis": "y4"
        },
        {
         "legendgroup": "True",
         "line": {
          "color": "#000000",
          "width": 2
         },
         "mode": "lines",
         "name": "True",
         "showlegend": false,
         "type": "scatter",
         "x": [
          67,
          67
         ],
         "xaxis": "x4",
         "y": [
          1,
          3
         ],
         "yaxis": "y4"
        },
        {
         "legendgroup": "True",
         "line": {
          "color": "#000000",
          "width": 2
         },
         "mode": "lines",
         "name": "True",
         "showlegend": false,
         "type": "scatter",
         "x": [
          112,
          112
         ],
         "xaxis": "x4",
         "y": [
          1,
          3
         ],
         "yaxis": "y4"
        },
        {
         "legendgroup": "True",
         "line": {
          "color": "#000000",
          "width": 2
         },
         "mode": "lines",
         "name": "True",
         "showlegend": false,
         "type": "scatter",
         "x": [
          112,
          112
         ],
         "xaxis": "x4",
         "y": [
          3,
          9
         ],
         "yaxis": "y4"
        },
        {
         "legendgroup": "True",
         "line": {
          "color": "#000000",
          "width": 2
         },
         "mode": "lines",
         "name": "True",
         "showlegend": false,
         "type": "scatter",
         "x": [
          111,
          111
         ],
         "xaxis": "x4",
         "y": [
          1,
          3
         ],
         "yaxis": "y4"
        },
        {
         "legendgroup": "True",
         "line": {
          "color": "#000000",
          "width": 2
         },
         "mode": "lines",
         "name": "True",
         "showlegend": false,
         "type": "scatter",
         "x": [
          111,
          111
         ],
         "xaxis": "x4",
         "y": [
          3,
          6
         ],
         "yaxis": "y4"
        },
        {
         "legendgroup": "True",
         "line": {
          "color": "#000000",
          "width": 2
         },
         "mode": "lines",
         "name": "True",
         "showlegend": false,
         "type": "scatter",
         "x": [
          111,
          111
         ],
         "xaxis": "x4",
         "y": [
          6,
          9
         ],
         "yaxis": "y4"
        },
        {
         "legendgroup": "True",
         "line": {
          "color": "#000000",
          "width": 2
         },
         "mode": "lines",
         "name": "True",
         "showlegend": false,
         "type": "scatter",
         "x": [
          56,
          56
         ],
         "xaxis": "x4",
         "y": [
          1,
          3
         ],
         "yaxis": "y4"
        },
        {
         "legendgroup": "True",
         "line": {
          "color": "#000000",
          "width": 2
         },
         "mode": "lines",
         "name": "True",
         "showlegend": false,
         "type": "scatter",
         "x": [
          56,
          56
         ],
         "xaxis": "x4",
         "y": [
          3,
          5
         ],
         "yaxis": "y4"
        },
        {
         "legendgroup": "True",
         "line": {
          "color": "#000000",
          "width": 2
         },
         "mode": "lines",
         "name": "True",
         "showlegend": false,
         "type": "scatter",
         "x": [
          62,
          62
         ],
         "xaxis": "x4",
         "y": [
          1,
          3
         ],
         "yaxis": "y4"
        },
        {
         "legendgroup": "True",
         "line": {
          "color": "#000000",
          "width": 2
         },
         "mode": "lines",
         "name": "True",
         "showlegend": false,
         "type": "scatter",
         "x": [
          62,
          62
         ],
         "xaxis": "x4",
         "y": [
          3,
          5
         ],
         "yaxis": "y4"
        },
        {
         "legendgroup": "True",
         "line": {
          "color": "#000000",
          "width": 2
         },
         "mode": "lines",
         "name": "True",
         "showlegend": false,
         "type": "scatter",
         "x": [
          62,
          62
         ],
         "xaxis": "x4",
         "y": [
          5,
          6
         ],
         "yaxis": "y4"
        },
        {
         "legendgroup": "True",
         "line": {
          "color": "#000000",
          "width": 2
         },
         "mode": "lines",
         "name": "True",
         "showlegend": false,
         "type": "scatter",
         "x": [
          110,
          110
         ],
         "xaxis": "x4",
         "y": [
          1,
          3
         ],
         "yaxis": "y4"
        },
        {
         "legendgroup": "True",
         "line": {
          "color": "#000000",
          "width": 2
         },
         "mode": "lines",
         "name": "True",
         "showlegend": false,
         "type": "scatter",
         "x": [
          110,
          110
         ],
         "xaxis": "x4",
         "y": [
          3,
          4
         ],
         "yaxis": "y4"
        },
        {
         "legendgroup": "True",
         "line": {
          "color": "#000000",
          "width": 2
         },
         "mode": "lines",
         "name": "True",
         "showlegend": false,
         "type": "scatter",
         "x": [
          110,
          110
         ],
         "xaxis": "x4",
         "y": [
          4,
          5
         ],
         "yaxis": "y4"
        },
        {
         "legendgroup": "True",
         "line": {
          "color": "#000000",
          "width": 2
         },
         "mode": "lines",
         "name": "True",
         "showlegend": false,
         "type": "scatter",
         "x": [
          110,
          110
         ],
         "xaxis": "x4",
         "y": [
          5,
          8
         ],
         "yaxis": "y4"
        },
        {
         "legendgroup": "True",
         "line": {
          "color": "#000000",
          "width": 2
         },
         "mode": "lines",
         "name": "True",
         "showlegend": false,
         "type": "scatter",
         "x": [
          109,
          109
         ],
         "xaxis": "x4",
         "y": [
          0,
          9
         ],
         "yaxis": "y4"
        },
        {
         "legendgroup": "True",
         "line": {
          "color": "#000000",
          "width": 2
         },
         "mode": "lines",
         "name": "True",
         "showlegend": false,
         "type": "scatter",
         "x": [
          26,
          26
         ],
         "xaxis": "x4",
         "y": [
          0,
          8
         ],
         "yaxis": "y4"
        },
        {
         "legendgroup": "True",
         "line": {
          "color": "#000000",
          "width": 2
         },
         "mode": "lines",
         "name": "True",
         "showlegend": false,
         "type": "scatter",
         "x": [
          66,
          66
         ],
         "xaxis": "x4",
         "y": [
          0,
          8
         ],
         "yaxis": "y4"
        },
        {
         "legendgroup": "True",
         "line": {
          "color": "#000000",
          "width": 2
         },
         "mode": "lines",
         "name": "True",
         "showlegend": false,
         "type": "scatter",
         "x": [
          66,
          66
         ],
         "xaxis": "x4",
         "y": [
          8,
          9
         ],
         "yaxis": "y4"
        },
        {
         "legendgroup": "True",
         "line": {
          "color": "#000000",
          "width": 2
         },
         "mode": "lines",
         "name": "True",
         "showlegend": false,
         "type": "scatter",
         "x": [
          108,
          108
         ],
         "xaxis": "x4",
         "y": [
          0,
          7
         ],
         "yaxis": "y4"
        },
        {
         "legendgroup": "True",
         "line": {
          "color": "#000000",
          "width": 2
         },
         "mode": "lines",
         "name": "True",
         "showlegend": false,
         "type": "scatter",
         "x": [
          30,
          30
         ],
         "xaxis": "x4",
         "y": [
          0,
          6
         ],
         "yaxis": "y4"
        },
        {
         "legendgroup": "True",
         "line": {
          "color": "#000000",
          "width": 2
         },
         "mode": "lines",
         "name": "True",
         "showlegend": false,
         "type": "scatter",
         "x": [
          107,
          107
         ],
         "xaxis": "x4",
         "y": [
          0,
          6
         ],
         "yaxis": "y4"
        },
        {
         "legendgroup": "True",
         "line": {
          "color": "#000000",
          "width": 2
         },
         "mode": "lines",
         "name": "True",
         "showlegend": false,
         "type": "scatter",
         "x": [
          107,
          107
         ],
         "xaxis": "x4",
         "y": [
          6,
          8
         ],
         "yaxis": "y4"
        },
        {
         "legendgroup": "True",
         "line": {
          "color": "#000000",
          "width": 2
         },
         "mode": "lines",
         "name": "True",
         "showlegend": false,
         "type": "scatter",
         "x": [
          106,
          106
         ],
         "xaxis": "x4",
         "y": [
          0,
          6
         ],
         "yaxis": "y4"
        },
        {
         "legendgroup": "True",
         "line": {
          "color": "#000000",
          "width": 2
         },
         "mode": "lines",
         "name": "True",
         "showlegend": false,
         "type": "scatter",
         "x": [
          106,
          106
         ],
         "xaxis": "x4",
         "y": [
          6,
          8
         ],
         "yaxis": "y4"
        },
        {
         "legendgroup": "True",
         "line": {
          "color": "#000000",
          "width": 2
         },
         "mode": "lines",
         "name": "True",
         "showlegend": false,
         "type": "scatter",
         "x": [
          106,
          106
         ],
         "xaxis": "x4",
         "y": [
          8,
          9
         ],
         "yaxis": "y4"
        },
        {
         "legendgroup": "True",
         "line": {
          "color": "#000000",
          "width": 2
         },
         "mode": "lines",
         "name": "True",
         "showlegend": false,
         "type": "scatter",
         "x": [
          21,
          21
         ],
         "xaxis": "x4",
         "y": [
          0,
          5
         ],
         "yaxis": "y4"
        },
        {
         "legendgroup": "True",
         "line": {
          "color": "#000000",
          "width": 2
         },
         "mode": "lines",
         "name": "True",
         "showlegend": false,
         "type": "scatter",
         "x": [
          61,
          61
         ],
         "xaxis": "x4",
         "y": [
          0,
          5
         ],
         "yaxis": "y4"
        },
        {
         "legendgroup": "True",
         "line": {
          "color": "#000000",
          "width": 2
         },
         "mode": "lines",
         "name": "True",
         "showlegend": false,
         "type": "scatter",
         "x": [
          61,
          61
         ],
         "xaxis": "x4",
         "y": [
          5,
          9
         ],
         "yaxis": "y4"
        },
        {
         "legendgroup": "True",
         "line": {
          "color": "#000000",
          "width": 2
         },
         "mode": "lines",
         "name": "True",
         "showlegend": false,
         "type": "scatter",
         "x": [
          46,
          46
         ],
         "xaxis": "x4",
         "y": [
          0,
          5
         ],
         "yaxis": "y4"
        },
        {
         "legendgroup": "True",
         "line": {
          "color": "#000000",
          "width": 2
         },
         "mode": "lines",
         "name": "True",
         "showlegend": false,
         "type": "scatter",
         "x": [
          46,
          46
         ],
         "xaxis": "x4",
         "y": [
          5,
          8
         ],
         "yaxis": "y4"
        },
        {
         "legendgroup": "True",
         "line": {
          "color": "#000000",
          "width": 2
         },
         "mode": "lines",
         "name": "True",
         "showlegend": false,
         "type": "scatter",
         "x": [
          83,
          83
         ],
         "xaxis": "x4",
         "y": [
          0,
          5
         ],
         "yaxis": "y4"
        },
        {
         "legendgroup": "True",
         "line": {
          "color": "#000000",
          "width": 2
         },
         "mode": "lines",
         "name": "True",
         "showlegend": false,
         "type": "scatter",
         "x": [
          83,
          83
         ],
         "xaxis": "x4",
         "y": [
          5,
          8
         ],
         "yaxis": "y4"
        },
        {
         "legendgroup": "True",
         "line": {
          "color": "#000000",
          "width": 2
         },
         "mode": "lines",
         "name": "True",
         "showlegend": false,
         "type": "scatter",
         "x": [
          83,
          83
         ],
         "xaxis": "x4",
         "y": [
          8,
          9
         ],
         "yaxis": "y4"
        },
        {
         "legendgroup": "True",
         "line": {
          "color": "#000000",
          "width": 2
         },
         "mode": "lines",
         "name": "True",
         "showlegend": false,
         "type": "scatter",
         "x": [
          82,
          82
         ],
         "xaxis": "x4",
         "y": [
          0,
          5
         ],
         "yaxis": "y4"
        },
        {
         "legendgroup": "True",
         "line": {
          "color": "#000000",
          "width": 2
         },
         "mode": "lines",
         "name": "True",
         "showlegend": false,
         "type": "scatter",
         "x": [
          82,
          82
         ],
         "xaxis": "x4",
         "y": [
          5,
          7
         ],
         "yaxis": "y4"
        },
        {
         "legendgroup": "True",
         "line": {
          "color": "#000000",
          "width": 2
         },
         "mode": "lines",
         "name": "True",
         "showlegend": false,
         "type": "scatter",
         "x": [
          20,
          20
         ],
         "xaxis": "x4",
         "y": [
          0,
          5
         ],
         "yaxis": "y4"
        },
        {
         "legendgroup": "True",
         "line": {
          "color": "#000000",
          "width": 2
         },
         "mode": "lines",
         "name": "True",
         "showlegend": false,
         "type": "scatter",
         "x": [
          20,
          20
         ],
         "xaxis": "x4",
         "y": [
          5,
          6
         ],
         "yaxis": "y4"
        },
        {
         "legendgroup": "True",
         "line": {
          "color": "#000000",
          "width": 2
         },
         "mode": "lines",
         "name": "True",
         "showlegend": false,
         "type": "scatter",
         "x": [
          81,
          81
         ],
         "xaxis": "x4",
         "y": [
          0,
          5
         ],
         "yaxis": "y4"
        },
        {
         "legendgroup": "True",
         "line": {
          "color": "#000000",
          "width": 2
         },
         "mode": "lines",
         "name": "True",
         "showlegend": false,
         "type": "scatter",
         "x": [
          81,
          81
         ],
         "xaxis": "x4",
         "y": [
          5,
          6
         ],
         "yaxis": "y4"
        },
        {
         "legendgroup": "True",
         "line": {
          "color": "#000000",
          "width": 2
         },
         "mode": "lines",
         "name": "True",
         "showlegend": false,
         "type": "scatter",
         "x": [
          81,
          81
         ],
         "xaxis": "x4",
         "y": [
          6,
          9
         ],
         "yaxis": "y4"
        },
        {
         "legendgroup": "True",
         "line": {
          "color": "#000000",
          "width": 2
         },
         "mode": "lines",
         "name": "True",
         "showlegend": false,
         "type": "scatter",
         "x": [
          47,
          47
         ],
         "xaxis": "x4",
         "y": [
          0,
          5
         ],
         "yaxis": "y4"
        },
        {
         "legendgroup": "True",
         "line": {
          "color": "#000000",
          "width": 2
         },
         "mode": "lines",
         "name": "True",
         "showlegend": false,
         "type": "scatter",
         "x": [
          47,
          47
         ],
         "xaxis": "x4",
         "y": [
          5,
          6
         ],
         "yaxis": "y4"
        },
        {
         "legendgroup": "True",
         "line": {
          "color": "#000000",
          "width": 2
         },
         "mode": "lines",
         "name": "True",
         "showlegend": false,
         "type": "scatter",
         "x": [
          47,
          47
         ],
         "xaxis": "x4",
         "y": [
          6,
          8
         ],
         "yaxis": "y4"
        },
        {
         "legendgroup": "True",
         "line": {
          "color": "#000000",
          "width": 2
         },
         "mode": "lines",
         "name": "True",
         "showlegend": false,
         "type": "scatter",
         "x": [
          80,
          80
         ],
         "xaxis": "x4",
         "y": [
          0,
          5
         ],
         "yaxis": "y4"
        },
        {
         "legendgroup": "True",
         "line": {
          "color": "#000000",
          "width": 2
         },
         "mode": "lines",
         "name": "True",
         "showlegend": false,
         "type": "scatter",
         "x": [
          80,
          80
         ],
         "xaxis": "x4",
         "y": [
          5,
          6
         ],
         "yaxis": "y4"
        },
        {
         "legendgroup": "True",
         "line": {
          "color": "#000000",
          "width": 2
         },
         "mode": "lines",
         "name": "True",
         "showlegend": false,
         "type": "scatter",
         "x": [
          80,
          80
         ],
         "xaxis": "x4",
         "y": [
          6,
          8
         ],
         "yaxis": "y4"
        },
        {
         "legendgroup": "True",
         "line": {
          "color": "#000000",
          "width": 2
         },
         "mode": "lines",
         "name": "True",
         "showlegend": false,
         "type": "scatter",
         "x": [
          80,
          80
         ],
         "xaxis": "x4",
         "y": [
          8,
          9
         ],
         "yaxis": "y4"
        },
        {
         "legendgroup": "True",
         "line": {
          "color": "#000000",
          "width": 2
         },
         "mode": "lines",
         "name": "True",
         "showlegend": false,
         "type": "scatter",
         "x": [
          57,
          57
         ],
         "xaxis": "x4",
         "y": [
          0,
          4
         ],
         "yaxis": "y4"
        },
        {
         "legendgroup": "True",
         "line": {
          "color": "#000000",
          "width": 2
         },
         "mode": "lines",
         "name": "True",
         "showlegend": false,
         "type": "scatter",
         "x": [
          33,
          33
         ],
         "xaxis": "x4",
         "y": [
          0,
          4
         ],
         "yaxis": "y4"
        },
        {
         "legendgroup": "True",
         "line": {
          "color": "#000000",
          "width": 2
         },
         "mode": "lines",
         "name": "True",
         "showlegend": false,
         "type": "scatter",
         "x": [
          33,
          33
         ],
         "xaxis": "x4",
         "y": [
          4,
          8
         ],
         "yaxis": "y4"
        },
        {
         "legendgroup": "True",
         "line": {
          "color": "#000000",
          "width": 2
         },
         "mode": "lines",
         "name": "True",
         "showlegend": false,
         "type": "scatter",
         "x": [
          105,
          105
         ],
         "xaxis": "x4",
         "y": [
          0,
          4
         ],
         "yaxis": "y4"
        },
        {
         "legendgroup": "True",
         "line": {
          "color": "#000000",
          "width": 2
         },
         "mode": "lines",
         "name": "True",
         "showlegend": false,
         "type": "scatter",
         "x": [
          105,
          105
         ],
         "xaxis": "x4",
         "y": [
          4,
          6
         ],
         "yaxis": "y4"
        },
        {
         "legendgroup": "True",
         "line": {
          "color": "#000000",
          "width": 2
         },
         "mode": "lines",
         "name": "True",
         "showlegend": false,
         "type": "scatter",
         "x": [
          79,
          79
         ],
         "xaxis": "x4",
         "y": [
          0,
          4
         ],
         "yaxis": "y4"
        },
        {
         "legendgroup": "True",
         "line": {
          "color": "#000000",
          "width": 2
         },
         "mode": "lines",
         "name": "True",
         "showlegend": false,
         "type": "scatter",
         "x": [
          79,
          79
         ],
         "xaxis": "x4",
         "y": [
          4,
          5
         ],
         "yaxis": "y4"
        },
        {
         "legendgroup": "True",
         "line": {
          "color": "#000000",
          "width": 2
         },
         "mode": "lines",
         "name": "True",
         "showlegend": false,
         "type": "scatter",
         "x": [
          53,
          53
         ],
         "xaxis": "x4",
         "y": [
          0,
          4
         ],
         "yaxis": "y4"
        },
        {
         "legendgroup": "True",
         "line": {
          "color": "#000000",
          "width": 2
         },
         "mode": "lines",
         "name": "True",
         "showlegend": false,
         "type": "scatter",
         "x": [
          53,
          53
         ],
         "xaxis": "x4",
         "y": [
          4,
          5
         ],
         "yaxis": "y4"
        },
        {
         "legendgroup": "True",
         "line": {
          "color": "#000000",
          "width": 2
         },
         "mode": "lines",
         "name": "True",
         "showlegend": false,
         "type": "scatter",
         "x": [
          53,
          53
         ],
         "xaxis": "x4",
         "y": [
          5,
          6
         ],
         "yaxis": "y4"
        },
        {
         "legendgroup": "True",
         "line": {
          "color": "#000000",
          "width": 2
         },
         "mode": "lines",
         "name": "True",
         "showlegend": false,
         "type": "scatter",
         "x": [
          104,
          104
         ],
         "xaxis": "x4",
         "y": [
          0,
          4
         ],
         "yaxis": "y4"
        },
        {
         "legendgroup": "True",
         "line": {
          "color": "#000000",
          "width": 2
         },
         "mode": "lines",
         "name": "True",
         "showlegend": false,
         "type": "scatter",
         "x": [
          104,
          104
         ],
         "xaxis": "x4",
         "y": [
          4,
          5
         ],
         "yaxis": "y4"
        },
        {
         "legendgroup": "True",
         "line": {
          "color": "#000000",
          "width": 2
         },
         "mode": "lines",
         "name": "True",
         "showlegend": false,
         "type": "scatter",
         "x": [
          104,
          104
         ],
         "xaxis": "x4",
         "y": [
          5,
          6
         ],
         "yaxis": "y4"
        },
        {
         "legendgroup": "True",
         "line": {
          "color": "#000000",
          "width": 2
         },
         "mode": "lines",
         "name": "True",
         "showlegend": false,
         "type": "scatter",
         "x": [
          104,
          104
         ],
         "xaxis": "x4",
         "y": [
          6,
          9
         ],
         "yaxis": "y4"
        },
        {
         "legendgroup": "True",
         "line": {
          "color": "#000000",
          "width": 2
         },
         "mode": "lines",
         "name": "True",
         "showlegend": false,
         "type": "scatter",
         "x": [
          78,
          78
         ],
         "xaxis": "x4",
         "y": [
          0,
          4
         ],
         "yaxis": "y4"
        },
        {
         "legendgroup": "True",
         "line": {
          "color": "#000000",
          "width": 2
         },
         "mode": "lines",
         "name": "True",
         "showlegend": false,
         "type": "scatter",
         "x": [
          78,
          78
         ],
         "xaxis": "x4",
         "y": [
          4,
          5
         ],
         "yaxis": "y4"
        },
        {
         "legendgroup": "True",
         "line": {
          "color": "#000000",
          "width": 2
         },
         "mode": "lines",
         "name": "True",
         "showlegend": false,
         "type": "scatter",
         "x": [
          78,
          78
         ],
         "xaxis": "x4",
         "y": [
          5,
          6
         ],
         "yaxis": "y4"
        },
        {
         "legendgroup": "True",
         "line": {
          "color": "#000000",
          "width": 2
         },
         "mode": "lines",
         "name": "True",
         "showlegend": false,
         "type": "scatter",
         "x": [
          78,
          78
         ],
         "xaxis": "x4",
         "y": [
          6,
          8
         ],
         "yaxis": "y4"
        },
        {
         "legendgroup": "True",
         "line": {
          "color": "#000000",
          "width": 2
         },
         "mode": "lines",
         "name": "True",
         "showlegend": false,
         "type": "scatter",
         "x": [
          27,
          27
         ],
         "xaxis": "x4",
         "y": [
          0,
          3
         ],
         "yaxis": "y4"
        },
        {
         "legendgroup": "True",
         "line": {
          "color": "#000000",
          "width": 2
         },
         "mode": "lines",
         "name": "True",
         "showlegend": false,
         "type": "scatter",
         "x": [
          52,
          52
         ],
         "xaxis": "x4",
         "y": [
          0,
          3
         ],
         "yaxis": "y4"
        },
        {
         "legendgroup": "True",
         "line": {
          "color": "#000000",
          "width": 2
         },
         "mode": "lines",
         "name": "True",
         "showlegend": false,
         "type": "scatter",
         "x": [
          52,
          52
         ],
         "xaxis": "x4",
         "y": [
          3,
          5
         ],
         "yaxis": "y4"
        },
        {
         "legendgroup": "True",
         "line": {
          "color": "#000000",
          "width": 2
         },
         "mode": "lines",
         "name": "True",
         "showlegend": false,
         "type": "scatter",
         "x": [
          77,
          77
         ],
         "xaxis": "x4",
         "y": [
          0,
          3
         ],
         "yaxis": "y4"
        },
        {
         "legendgroup": "True",
         "line": {
          "color": "#000000",
          "width": 2
         },
         "mode": "lines",
         "name": "True",
         "showlegend": false,
         "type": "scatter",
         "x": [
          77,
          77
         ],
         "xaxis": "x4",
         "y": [
          3,
          5
         ],
         "yaxis": "y4"
        },
        {
         "legendgroup": "True",
         "line": {
          "color": "#000000",
          "width": 2
         },
         "mode": "lines",
         "name": "True",
         "showlegend": false,
         "type": "scatter",
         "x": [
          77,
          77
         ],
         "xaxis": "x4",
         "y": [
          5,
          6
         ],
         "yaxis": "y4"
        },
        {
         "legendgroup": "True",
         "line": {
          "color": "#000000",
          "width": 2
         },
         "mode": "lines",
         "name": "True",
         "showlegend": false,
         "type": "scatter",
         "x": [
          76,
          76
         ],
         "xaxis": "x4",
         "y": [
          0,
          3
         ],
         "yaxis": "y4"
        },
        {
         "legendgroup": "True",
         "line": {
          "color": "#000000",
          "width": 2
         },
         "mode": "lines",
         "name": "True",
         "showlegend": false,
         "type": "scatter",
         "x": [
          76,
          76
         ],
         "xaxis": "x4",
         "y": [
          3,
          5
         ],
         "yaxis": "y4"
        },
        {
         "legendgroup": "True",
         "line": {
          "color": "#000000",
          "width": 2
         },
         "mode": "lines",
         "name": "True",
         "showlegend": false,
         "type": "scatter",
         "x": [
          76,
          76
         ],
         "xaxis": "x4",
         "y": [
          5,
          6
         ],
         "yaxis": "y4"
        },
        {
         "legendgroup": "True",
         "line": {
          "color": "#000000",
          "width": 2
         },
         "mode": "lines",
         "name": "True",
         "showlegend": false,
         "type": "scatter",
         "x": [
          76,
          76
         ],
         "xaxis": "x4",
         "y": [
          6,
          8
         ],
         "yaxis": "y4"
        },
        {
         "legendgroup": "True",
         "line": {
          "color": "#000000",
          "width": 2
         },
         "mode": "lines",
         "name": "True",
         "showlegend": false,
         "type": "scatter",
         "x": [
          103,
          103
         ],
         "xaxis": "x4",
         "y": [
          0,
          3
         ],
         "yaxis": "y4"
        },
        {
         "legendgroup": "True",
         "line": {
          "color": "#000000",
          "width": 2
         },
         "mode": "lines",
         "name": "True",
         "showlegend": false,
         "type": "scatter",
         "x": [
          103,
          103
         ],
         "xaxis": "x4",
         "y": [
          3,
          4
         ],
         "yaxis": "y4"
        },
        {
         "legendgroup": "True",
         "line": {
          "color": "#000000",
          "width": 2
         },
         "mode": "lines",
         "name": "True",
         "showlegend": false,
         "type": "scatter",
         "x": [
          102,
          102
         ],
         "xaxis": "x4",
         "y": [
          0,
          3
         ],
         "yaxis": "y4"
        },
        {
         "legendgroup": "True",
         "line": {
          "color": "#000000",
          "width": 2
         },
         "mode": "lines",
         "name": "True",
         "showlegend": false,
         "type": "scatter",
         "x": [
          102,
          102
         ],
         "xaxis": "x4",
         "y": [
          3,
          4
         ],
         "yaxis": "y4"
        },
        {
         "legendgroup": "True",
         "line": {
          "color": "#000000",
          "width": 2
         },
         "mode": "lines",
         "name": "True",
         "showlegend": false,
         "type": "scatter",
         "x": [
          102,
          102
         ],
         "xaxis": "x4",
         "y": [
          4,
          5
         ],
         "yaxis": "y4"
        },
        {
         "legendgroup": "True",
         "line": {
          "color": "#000000",
          "width": 2
         },
         "mode": "lines",
         "name": "True",
         "showlegend": false,
         "type": "scatter",
         "x": [
          101,
          101
         ],
         "xaxis": "x4",
         "y": [
          0,
          3
         ],
         "yaxis": "y4"
        },
        {
         "legendgroup": "True",
         "line": {
          "color": "#000000",
          "width": 2
         },
         "mode": "lines",
         "name": "True",
         "showlegend": false,
         "type": "scatter",
         "x": [
          101,
          101
         ],
         "xaxis": "x4",
         "y": [
          3,
          4
         ],
         "yaxis": "y4"
        },
        {
         "legendgroup": "True",
         "line": {
          "color": "#000000",
          "width": 2
         },
         "mode": "lines",
         "name": "True",
         "showlegend": false,
         "type": "scatter",
         "x": [
          101,
          101
         ],
         "xaxis": "x4",
         "y": [
          4,
          5
         ],
         "yaxis": "y4"
        },
        {
         "legendgroup": "True",
         "line": {
          "color": "#000000",
          "width": 2
         },
         "mode": "lines",
         "name": "True",
         "showlegend": false,
         "type": "scatter",
         "x": [
          101,
          101
         ],
         "xaxis": "x4",
         "y": [
          5,
          8
         ],
         "yaxis": "y4"
        },
        {
         "legendgroup": "True",
         "line": {
          "color": "#000000",
          "width": 2
         },
         "mode": "lines",
         "name": "True",
         "showlegend": false,
         "type": "scatter",
         "x": [
          75,
          75
         ],
         "xaxis": "x4",
         "y": [
          0,
          3
         ],
         "yaxis": "y4"
        },
        {
         "legendgroup": "True",
         "line": {
          "color": "#000000",
          "width": 2
         },
         "mode": "lines",
         "name": "True",
         "showlegend": false,
         "type": "scatter",
         "x": [
          75,
          75
         ],
         "xaxis": "x4",
         "y": [
          3,
          4
         ],
         "yaxis": "y4"
        },
        {
         "legendgroup": "True",
         "line": {
          "color": "#000000",
          "width": 2
         },
         "mode": "lines",
         "name": "True",
         "showlegend": false,
         "type": "scatter",
         "x": [
          75,
          75
         ],
         "xaxis": "x4",
         "y": [
          4,
          5
         ],
         "yaxis": "y4"
        },
        {
         "legendgroup": "True",
         "line": {
          "color": "#000000",
          "width": 2
         },
         "mode": "lines",
         "name": "True",
         "showlegend": false,
         "type": "scatter",
         "x": [
          75,
          75
         ],
         "xaxis": "x4",
         "y": [
          5,
          6
         ],
         "yaxis": "y4"
        },
        {
         "legendgroup": "True",
         "line": {
          "color": "#000000",
          "width": 2
         },
         "mode": "lines",
         "name": "True",
         "showlegend": false,
         "type": "scatter",
         "x": [
          51,
          51
         ],
         "xaxis": "x4",
         "y": [
          0,
          2
         ],
         "yaxis": "y4"
        },
        {
         "legendgroup": "True",
         "line": {
          "color": "#000000",
          "width": 2
         },
         "mode": "lines",
         "name": "True",
         "showlegend": false,
         "type": "scatter",
         "x": [
          100,
          100
         ],
         "xaxis": "x4",
         "y": [
          0,
          2
         ],
         "yaxis": "y4"
        },
        {
         "legendgroup": "True",
         "line": {
          "color": "#000000",
          "width": 2
         },
         "mode": "lines",
         "name": "True",
         "showlegend": false,
         "type": "scatter",
         "x": [
          100,
          100
         ],
         "xaxis": "x4",
         "y": [
          2,
          5
         ],
         "yaxis": "y4"
        },
        {
         "legendgroup": "True",
         "line": {
          "color": "#000000",
          "width": 2
         },
         "mode": "lines",
         "name": "True",
         "showlegend": false,
         "type": "scatter",
         "x": [
          10,
          10
         ],
         "xaxis": "x4",
         "y": [
          0,
          1
         ],
         "yaxis": "y4"
        },
        {
         "legendgroup": "True",
         "line": {
          "color": "#000000",
          "width": 2
         },
         "mode": "lines",
         "name": "True",
         "showlegend": false,
         "type": "scatter",
         "x": [
          65,
          65
         ],
         "xaxis": "x4",
         "y": [
          0,
          1
         ],
         "yaxis": "y4"
        },
        {
         "legendgroup": "True",
         "line": {
          "color": "#000000",
          "width": 2
         },
         "mode": "lines",
         "name": "True",
         "showlegend": false,
         "type": "scatter",
         "x": [
          65,
          65
         ],
         "xaxis": "x4",
         "y": [
          1,
          6
         ],
         "yaxis": "y4"
        },
        {
         "legendgroup": "True",
         "line": {
          "color": "#000000",
          "width": 2
         },
         "mode": "lines",
         "name": "True",
         "showlegend": false,
         "type": "scatter",
         "x": [
          99,
          99
         ],
         "xaxis": "x4",
         "y": [
          0,
          1
         ],
         "yaxis": "y4"
        },
        {
         "legendgroup": "True",
         "line": {
          "color": "#000000",
          "width": 2
         },
         "mode": "lines",
         "name": "True",
         "showlegend": false,
         "type": "scatter",
         "x": [
          99,
          99
         ],
         "xaxis": "x4",
         "y": [
          1,
          6
         ],
         "yaxis": "y4"
        },
        {
         "legendgroup": "True",
         "line": {
          "color": "#000000",
          "width": 2
         },
         "mode": "lines",
         "name": "True",
         "showlegend": false,
         "type": "scatter",
         "x": [
          99,
          99
         ],
         "xaxis": "x4",
         "y": [
          6,
          7
         ],
         "yaxis": "y4"
        },
        {
         "legendgroup": "True",
         "line": {
          "color": "#000000",
          "width": 2
         },
         "mode": "lines",
         "name": "True",
         "showlegend": false,
         "type": "scatter",
         "x": [
          32,
          32
         ],
         "xaxis": "x4",
         "y": [
          0,
          1
         ],
         "yaxis": "y4"
        },
        {
         "legendgroup": "True",
         "line": {
          "color": "#000000",
          "width": 2
         },
         "mode": "lines",
         "name": "True",
         "showlegend": false,
         "type": "scatter",
         "x": [
          32,
          32
         ],
         "xaxis": "x4",
         "y": [
          1,
          5
         ],
         "yaxis": "y4"
        },
        {
         "legendgroup": "True",
         "line": {
          "color": "#000000",
          "width": 2
         },
         "mode": "lines",
         "name": "True",
         "showlegend": false,
         "type": "scatter",
         "x": [
          74,
          74
         ],
         "xaxis": "x4",
         "y": [
          0,
          1
         ],
         "yaxis": "y4"
        },
        {
         "legendgroup": "True",
         "line": {
          "color": "#000000",
          "width": 2
         },
         "mode": "lines",
         "name": "True",
         "showlegend": false,
         "type": "scatter",
         "x": [
          74,
          74
         ],
         "xaxis": "x4",
         "y": [
          1,
          5
         ],
         "yaxis": "y4"
        },
        {
         "legendgroup": "True",
         "line": {
          "color": "#000000",
          "width": 2
         },
         "mode": "lines",
         "name": "True",
         "showlegend": false,
         "type": "scatter",
         "x": [
          74,
          74
         ],
         "xaxis": "x4",
         "y": [
          5,
          8
         ],
         "yaxis": "y4"
        },
        {
         "legendgroup": "True",
         "line": {
          "color": "#000000",
          "width": 2
         },
         "mode": "lines",
         "name": "True",
         "showlegend": false,
         "type": "scatter",
         "x": [
          35,
          35
         ],
         "xaxis": "x4",
         "y": [
          0,
          1
         ],
         "yaxis": "y4"
        },
        {
         "legendgroup": "True",
         "line": {
          "color": "#000000",
          "width": 2
         },
         "mode": "lines",
         "name": "True",
         "showlegend": false,
         "type": "scatter",
         "x": [
          35,
          35
         ],
         "xaxis": "x4",
         "y": [
          1,
          5
         ],
         "yaxis": "y4"
        },
        {
         "legendgroup": "True",
         "line": {
          "color": "#000000",
          "width": 2
         },
         "mode": "lines",
         "name": "True",
         "showlegend": false,
         "type": "scatter",
         "x": [
          35,
          35
         ],
         "xaxis": "x4",
         "y": [
          5,
          6
         ],
         "yaxis": "y4"
        },
        {
         "legendgroup": "True",
         "line": {
          "color": "#000000",
          "width": 2
         },
         "mode": "lines",
         "name": "True",
         "showlegend": false,
         "type": "scatter",
         "x": [
          98,
          98
         ],
         "xaxis": "x4",
         "y": [
          0,
          1
         ],
         "yaxis": "y4"
        },
        {
         "legendgroup": "True",
         "line": {
          "color": "#000000",
          "width": 2
         },
         "mode": "lines",
         "name": "True",
         "showlegend": false,
         "type": "scatter",
         "x": [
          98,
          98
         ],
         "xaxis": "x4",
         "y": [
          1,
          5
         ],
         "yaxis": "y4"
        },
        {
         "legendgroup": "True",
         "line": {
          "color": "#000000",
          "width": 2
         },
         "mode": "lines",
         "name": "True",
         "showlegend": false,
         "type": "scatter",
         "x": [
          98,
          98
         ],
         "xaxis": "x4",
         "y": [
          5,
          6
         ],
         "yaxis": "y4"
        },
        {
         "legendgroup": "True",
         "line": {
          "color": "#000000",
          "width": 2
         },
         "mode": "lines",
         "name": "True",
         "showlegend": false,
         "type": "scatter",
         "x": [
          98,
          98
         ],
         "xaxis": "x4",
         "y": [
          6,
          9
         ],
         "yaxis": "y4"
        },
        {
         "legendgroup": "True",
         "line": {
          "color": "#000000",
          "width": 2
         },
         "mode": "lines",
         "name": "True",
         "showlegend": false,
         "type": "scatter",
         "x": [
          55,
          55
         ],
         "xaxis": "x4",
         "y": [
          0,
          1
         ],
         "yaxis": "y4"
        },
        {
         "legendgroup": "True",
         "line": {
          "color": "#000000",
          "width": 2
         },
         "mode": "lines",
         "name": "True",
         "showlegend": false,
         "type": "scatter",
         "x": [
          55,
          55
         ],
         "xaxis": "x4",
         "y": [
          1,
          5
         ],
         "yaxis": "y4"
        },
        {
         "legendgroup": "True",
         "line": {
          "color": "#000000",
          "width": 2
         },
         "mode": "lines",
         "name": "True",
         "showlegend": false,
         "type": "scatter",
         "x": [
          55,
          55
         ],
         "xaxis": "x4",
         "y": [
          5,
          6
         ],
         "yaxis": "y4"
        },
        {
         "legendgroup": "True",
         "line": {
          "color": "#000000",
          "width": 2
         },
         "mode": "lines",
         "name": "True",
         "showlegend": false,
         "type": "scatter",
         "x": [
          55,
          55
         ],
         "xaxis": "x4",
         "y": [
          6,
          8
         ],
         "yaxis": "y4"
        },
        {
         "legendgroup": "True",
         "line": {
          "color": "#000000",
          "width": 2
         },
         "mode": "lines",
         "name": "True",
         "showlegend": false,
         "type": "scatter",
         "x": [
          97,
          97
         ],
         "xaxis": "x4",
         "y": [
          0,
          1
         ],
         "yaxis": "y4"
        },
        {
         "legendgroup": "True",
         "line": {
          "color": "#000000",
          "width": 2
         },
         "mode": "lines",
         "name": "True",
         "showlegend": false,
         "type": "scatter",
         "x": [
          97,
          97
         ],
         "xaxis": "x4",
         "y": [
          1,
          5
         ],
         "yaxis": "y4"
        },
        {
         "legendgroup": "True",
         "line": {
          "color": "#000000",
          "width": 2
         },
         "mode": "lines",
         "name": "True",
         "showlegend": false,
         "type": "scatter",
         "x": [
          97,
          97
         ],
         "xaxis": "x4",
         "y": [
          5,
          6
         ],
         "yaxis": "y4"
        },
        {
         "legendgroup": "True",
         "line": {
          "color": "#000000",
          "width": 2
         },
         "mode": "lines",
         "name": "True",
         "showlegend": false,
         "type": "scatter",
         "x": [
          97,
          97
         ],
         "xaxis": "x4",
         "y": [
          6,
          7
         ],
         "yaxis": "y4"
        },
        {
         "legendgroup": "True",
         "line": {
          "color": "#000000",
          "width": 2
         },
         "mode": "lines",
         "name": "True",
         "showlegend": false,
         "type": "scatter",
         "x": [
          96,
          96
         ],
         "xaxis": "x4",
         "y": [
          0,
          1
         ],
         "yaxis": "y4"
        },
        {
         "legendgroup": "True",
         "line": {
          "color": "#000000",
          "width": 2
         },
         "mode": "lines",
         "name": "True",
         "showlegend": false,
         "type": "scatter",
         "x": [
          96,
          96
         ],
         "xaxis": "x4",
         "y": [
          1,
          5
         ],
         "yaxis": "y4"
        },
        {
         "legendgroup": "True",
         "line": {
          "color": "#000000",
          "width": 2
         },
         "mode": "lines",
         "name": "True",
         "showlegend": false,
         "type": "scatter",
         "x": [
          96,
          96
         ],
         "xaxis": "x4",
         "y": [
          5,
          6
         ],
         "yaxis": "y4"
        },
        {
         "legendgroup": "True",
         "line": {
          "color": "#000000",
          "width": 2
         },
         "mode": "lines",
         "name": "True",
         "showlegend": false,
         "type": "scatter",
         "x": [
          96,
          96
         ],
         "xaxis": "x4",
         "y": [
          6,
          7
         ],
         "yaxis": "y4"
        },
        {
         "legendgroup": "True",
         "line": {
          "color": "#000000",
          "width": 2
         },
         "mode": "lines",
         "name": "True",
         "showlegend": false,
         "type": "scatter",
         "x": [
          96,
          96
         ],
         "xaxis": "x4",
         "y": [
          7,
          9
         ],
         "yaxis": "y4"
        },
        {
         "legendgroup": "True",
         "line": {
          "color": "#000000",
          "width": 2
         },
         "mode": "lines",
         "name": "True",
         "showlegend": false,
         "type": "scatter",
         "x": [
          64,
          64
         ],
         "xaxis": "x4",
         "y": [
          0,
          1
         ],
         "yaxis": "y4"
        },
        {
         "legendgroup": "True",
         "line": {
          "color": "#000000",
          "width": 2
         },
         "mode": "lines",
         "name": "True",
         "showlegend": false,
         "type": "scatter",
         "x": [
          64,
          64
         ],
         "xaxis": "x4",
         "y": [
          1,
          4
         ],
         "yaxis": "y4"
        },
        {
         "legendgroup": "True",
         "line": {
          "color": "#000000",
          "width": 2
         },
         "mode": "lines",
         "name": "True",
         "showlegend": false,
         "type": "scatter",
         "x": [
          64,
          64
         ],
         "xaxis": "x4",
         "y": [
          4,
          5
         ],
         "yaxis": "y4"
        },
        {
         "legendgroup": "True",
         "line": {
          "color": "#000000",
          "width": 2
         },
         "mode": "lines",
         "name": "True",
         "showlegend": false,
         "type": "scatter",
         "x": [
          64,
          64
         ],
         "xaxis": "x4",
         "y": [
          5,
          6
         ],
         "yaxis": "y4"
        },
        {
         "legendgroup": "True",
         "line": {
          "color": "#000000",
          "width": 2
         },
         "mode": "lines",
         "name": "True",
         "showlegend": false,
         "type": "scatter",
         "x": [
          64,
          64
         ],
         "xaxis": "x4",
         "y": [
          6,
          8
         ],
         "yaxis": "y4"
        },
        {
         "legendgroup": "True",
         "line": {
          "color": "#000000",
          "width": 2
         },
         "mode": "lines",
         "name": "True",
         "showlegend": false,
         "type": "scatter",
         "x": [
          95,
          95
         ],
         "xaxis": "x4",
         "y": [
          0,
          1
         ],
         "yaxis": "y4"
        },
        {
         "legendgroup": "True",
         "line": {
          "color": "#000000",
          "width": 2
         },
         "mode": "lines",
         "name": "True",
         "showlegend": false,
         "type": "scatter",
         "x": [
          95,
          95
         ],
         "xaxis": "x4",
         "y": [
          1,
          3
         ],
         "yaxis": "y4"
        },
        {
         "legendgroup": "True",
         "line": {
          "color": "#000000",
          "width": 2
         },
         "mode": "lines",
         "name": "True",
         "showlegend": false,
         "type": "scatter",
         "x": [
          95,
          95
         ],
         "xaxis": "x4",
         "y": [
          3,
          6
         ],
         "yaxis": "y4"
        },
        {
         "legendgroup": "True",
         "line": {
          "color": "#000000",
          "width": 2
         },
         "mode": "lines",
         "name": "True",
         "showlegend": false,
         "type": "scatter",
         "x": [
          63,
          63
         ],
         "xaxis": "x4",
         "y": [
          0,
          1
         ],
         "yaxis": "y4"
        },
        {
         "legendgroup": "True",
         "line": {
          "color": "#000000",
          "width": 2
         },
         "mode": "lines",
         "name": "True",
         "showlegend": false,
         "type": "scatter",
         "x": [
          63,
          63
         ],
         "xaxis": "x4",
         "y": [
          1,
          3
         ],
         "yaxis": "y4"
        },
        {
         "legendgroup": "True",
         "line": {
          "color": "#000000",
          "width": 2
         },
         "mode": "lines",
         "name": "True",
         "showlegend": false,
         "type": "scatter",
         "x": [
          63,
          63
         ],
         "xaxis": "x4",
         "y": [
          3,
          5
         ],
         "yaxis": "y4"
        },
        {
         "legendgroup": "True",
         "line": {
          "color": "#000000",
          "width": 2
         },
         "mode": "lines",
         "name": "True",
         "showlegend": false,
         "type": "scatter",
         "x": [
          63,
          63
         ],
         "xaxis": "x4",
         "y": [
          5,
          6
         ],
         "yaxis": "y4"
        },
        {
         "legendgroup": "True",
         "line": {
          "color": "#000000",
          "width": 2
         },
         "mode": "lines",
         "name": "True",
         "showlegend": false,
         "type": "scatter",
         "x": [
          94,
          94
         ],
         "xaxis": "x4",
         "y": [
          0,
          1
         ],
         "yaxis": "y4"
        },
        {
         "legendgroup": "True",
         "line": {
          "color": "#000000",
          "width": 2
         },
         "mode": "lines",
         "name": "True",
         "showlegend": false,
         "type": "scatter",
         "x": [
          94,
          94
         ],
         "xaxis": "x4",
         "y": [
          1,
          3
         ],
         "yaxis": "y4"
        },
        {
         "legendgroup": "True",
         "line": {
          "color": "#000000",
          "width": 2
         },
         "mode": "lines",
         "name": "True",
         "showlegend": false,
         "type": "scatter",
         "x": [
          94,
          94
         ],
         "xaxis": "x4",
         "y": [
          3,
          5
         ],
         "yaxis": "y4"
        },
        {
         "legendgroup": "True",
         "line": {
          "color": "#000000",
          "width": 2
         },
         "mode": "lines",
         "name": "True",
         "showlegend": false,
         "type": "scatter",
         "x": [
          94,
          94
         ],
         "xaxis": "x4",
         "y": [
          5,
          6
         ],
         "yaxis": "y4"
        },
        {
         "legendgroup": "True",
         "line": {
          "color": "#000000",
          "width": 2
         },
         "mode": "lines",
         "name": "True",
         "showlegend": false,
         "type": "scatter",
         "x": [
          94,
          94
         ],
         "xaxis": "x4",
         "y": [
          6,
          8
         ],
         "yaxis": "y4"
        },
        {
         "legendgroup": "True",
         "line": {
          "color": "#000000",
          "width": 2
         },
         "mode": "lines",
         "name": "True",
         "showlegend": false,
         "type": "scatter",
         "x": [
          93,
          93
         ],
         "xaxis": "x4",
         "y": [
          0,
          1
         ],
         "yaxis": "y4"
        },
        {
         "legendgroup": "True",
         "line": {
          "color": "#000000",
          "width": 2
         },
         "mode": "lines",
         "name": "True",
         "showlegend": false,
         "type": "scatter",
         "x": [
          93,
          93
         ],
         "xaxis": "x4",
         "y": [
          1,
          3
         ],
         "yaxis": "y4"
        },
        {
         "legendgroup": "True",
         "line": {
          "color": "#000000",
          "width": 2
         },
         "mode": "lines",
         "name": "True",
         "showlegend": false,
         "type": "scatter",
         "x": [
          93,
          93
         ],
         "xaxis": "x4",
         "y": [
          3,
          5
         ],
         "yaxis": "y4"
        },
        {
         "legendgroup": "True",
         "line": {
          "color": "#000000",
          "width": 2
         },
         "mode": "lines",
         "name": "True",
         "showlegend": false,
         "type": "scatter",
         "x": [
          93,
          93
         ],
         "xaxis": "x4",
         "y": [
          5,
          6
         ],
         "yaxis": "y4"
        },
        {
         "legendgroup": "True",
         "line": {
          "color": "#000000",
          "width": 2
         },
         "mode": "lines",
         "name": "True",
         "showlegend": false,
         "type": "scatter",
         "x": [
          93,
          93
         ],
         "xaxis": "x4",
         "y": [
          6,
          7
         ],
         "yaxis": "y4"
        },
        {
         "legendgroup": "True",
         "line": {
          "color": "#000000",
          "width": 2
         },
         "mode": "lines",
         "name": "True",
         "showlegend": false,
         "type": "scatter",
         "x": [
          92,
          92
         ],
         "xaxis": "x4",
         "y": [
          0,
          1
         ],
         "yaxis": "y4"
        },
        {
         "legendgroup": "True",
         "line": {
          "color": "#000000",
          "width": 2
         },
         "mode": "lines",
         "name": "True",
         "showlegend": false,
         "type": "scatter",
         "x": [
          92,
          92
         ],
         "xaxis": "x4",
         "y": [
          1,
          3
         ],
         "yaxis": "y4"
        },
        {
         "legendgroup": "True",
         "line": {
          "color": "#000000",
          "width": 2
         },
         "mode": "lines",
         "name": "True",
         "showlegend": false,
         "type": "scatter",
         "x": [
          92,
          92
         ],
         "xaxis": "x4",
         "y": [
          3,
          4
         ],
         "yaxis": "y4"
        },
        {
         "legendgroup": "True",
         "line": {
          "color": "#000000",
          "width": 2
         },
         "mode": "lines",
         "name": "True",
         "showlegend": false,
         "type": "scatter",
         "x": [
          92,
          92
         ],
         "xaxis": "x4",
         "y": [
          4,
          6
         ],
         "yaxis": "y4"
        },
        {
         "legendgroup": "True",
         "line": {
          "color": "#000000",
          "width": 2
         },
         "mode": "lines",
         "name": "True",
         "showlegend": false,
         "type": "scatter",
         "x": [
          91,
          91
         ],
         "xaxis": "x4",
         "y": [
          0,
          1
         ],
         "yaxis": "y4"
        },
        {
         "legendgroup": "True",
         "line": {
          "color": "#000000",
          "width": 2
         },
         "mode": "lines",
         "name": "True",
         "showlegend": false,
         "type": "scatter",
         "x": [
          91,
          91
         ],
         "xaxis": "x4",
         "y": [
          1,
          3
         ],
         "yaxis": "y4"
        },
        {
         "legendgroup": "True",
         "line": {
          "color": "#000000",
          "width": 2
         },
         "mode": "lines",
         "name": "True",
         "showlegend": false,
         "type": "scatter",
         "x": [
          91,
          91
         ],
         "xaxis": "x4",
         "y": [
          3,
          4
         ],
         "yaxis": "y4"
        },
        {
         "legendgroup": "True",
         "line": {
          "color": "#000000",
          "width": 2
         },
         "mode": "lines",
         "name": "True",
         "showlegend": false,
         "type": "scatter",
         "x": [
          91,
          91
         ],
         "xaxis": "x4",
         "y": [
          4,
          5
         ],
         "yaxis": "y4"
        },
        {
         "legendgroup": "True",
         "line": {
          "color": "#000000",
          "width": 2
         },
         "mode": "lines",
         "name": "True",
         "showlegend": false,
         "type": "scatter",
         "x": [
          91,
          91
         ],
         "xaxis": "x4",
         "y": [
          5,
          6
         ],
         "yaxis": "y4"
        },
        {
         "legendgroup": "True",
         "line": {
          "color": "#000000",
          "width": 2
         },
         "mode": "lines",
         "name": "True",
         "showlegend": false,
         "type": "scatter",
         "x": [
          90,
          90
         ],
         "xaxis": "x4",
         "y": [
          0,
          1
         ],
         "yaxis": "y4"
        },
        {
         "legendgroup": "True",
         "line": {
          "color": "#000000",
          "width": 2
         },
         "mode": "lines",
         "name": "True",
         "showlegend": false,
         "type": "scatter",
         "x": [
          90,
          90
         ],
         "xaxis": "x4",
         "y": [
          1,
          2
         ],
         "yaxis": "y4"
        },
        {
         "legendgroup": "True",
         "line": {
          "color": "#000000",
          "width": 2
         },
         "mode": "lines",
         "name": "True",
         "showlegend": false,
         "type": "scatter",
         "x": [
          90,
          90
         ],
         "xaxis": "x4",
         "y": [
          2,
          5
         ],
         "yaxis": "y4"
        },
        {
         "legendgroup": "True",
         "line": {
          "color": "#000000",
          "width": 2
         },
         "mode": "lines",
         "name": "True",
         "showlegend": false,
         "type": "scatter",
         "x": [
          90,
          90
         ],
         "xaxis": "x4",
         "y": [
          5,
          6
         ],
         "yaxis": "y4"
        }
       ],
       "layout": {
        "bargap": 0.2,
        "bargroupgap": 0,
        "barmode": "group",
        "font": {
         "color": "black"
        },
        "height": 650,
        "hovermode": "closest",
        "legend": {
         "orientation": "v",
         "x": 0,
         "xanchor": "left",
         "y": 1,
         "yanchor": "top"
        },
        "margin": {
         "b": 40,
         "l": 40,
         "r": 40,
         "t": 40
        },
        "paper_bgcolor": "white",
        "plot_bgcolor": "rgba(0, 0, 0, 0)",
        "shapes": [
         {
          "fillcolor": "#EBEBEB",
          "layer": "below",
          "line": {
           "width": 0
          },
          "type": "rect",
          "x0": 0,
          "x1": 1,
          "xref": "x4 domain",
          "y0": -0.5,
          "y1": 0.5,
          "yref": "y4"
         },
         {
          "fillcolor": "#EBEBEB",
          "layer": "below",
          "line": {
           "width": 0
          },
          "type": "rect",
          "x0": 0,
          "x1": 1,
          "xref": "x4 domain",
          "y0": 1.5,
          "y1": 2.5,
          "yref": "y4"
         },
         {
          "fillcolor": "#EBEBEB",
          "layer": "below",
          "line": {
           "width": 0
          },
          "type": "rect",
          "x0": 0,
          "x1": 1,
          "xref": "x4 domain",
          "y0": 3.5,
          "y1": 4.5,
          "yref": "y4"
         },
         {
          "fillcolor": "#EBEBEB",
          "layer": "below",
          "line": {
           "width": 0
          },
          "type": "rect",
          "x0": 0,
          "x1": 1,
          "xref": "x4 domain",
          "y0": 5.5,
          "y1": 6.5,
          "yref": "y4"
         },
         {
          "fillcolor": "#EBEBEB",
          "layer": "below",
          "line": {
           "width": 0
          },
          "type": "rect",
          "x0": 0,
          "x1": 1,
          "xref": "x4 domain",
          "y0": 7.5,
          "y1": 8.5,
          "yref": "y4"
         }
        ],
        "showlegend": true,
        "template": {
         "data": {
          "bar": [
           {
            "error_x": {
             "color": "#2a3f5f"
            },
            "error_y": {
             "color": "#2a3f5f"
            },
            "marker": {
             "line": {
              "color": "#E5ECF6",
              "width": 0.5
             },
             "pattern": {
              "fillmode": "overlay",
              "size": 10,
              "solidity": 0.2
             }
            },
            "type": "bar"
           }
          ],
          "barpolar": [
           {
            "marker": {
             "line": {
              "color": "#E5ECF6",
              "width": 0.5
             },
             "pattern": {
              "fillmode": "overlay",
              "size": 10,
              "solidity": 0.2
             }
            },
            "type": "barpolar"
           }
          ],
          "carpet": [
           {
            "aaxis": {
             "endlinecolor": "#2a3f5f",
             "gridcolor": "white",
             "linecolor": "white",
             "minorgridcolor": "white",
             "startlinecolor": "#2a3f5f"
            },
            "baxis": {
             "endlinecolor": "#2a3f5f",
             "gridcolor": "white",
             "linecolor": "white",
             "minorgridcolor": "white",
             "startlinecolor": "#2a3f5f"
            },
            "type": "carpet"
           }
          ],
          "choropleth": [
           {
            "colorbar": {
             "outlinewidth": 0,
             "ticks": ""
            },
            "type": "choropleth"
           }
          ],
          "contour": [
           {
            "colorbar": {
             "outlinewidth": 0,
             "ticks": ""
            },
            "colorscale": [
             [
              0,
              "#0d0887"
             ],
             [
              0.1111111111111111,
              "#46039f"
             ],
             [
              0.2222222222222222,
              "#7201a8"
             ],
             [
              0.3333333333333333,
              "#9c179e"
             ],
             [
              0.4444444444444444,
              "#bd3786"
             ],
             [
              0.5555555555555556,
              "#d8576b"
             ],
             [
              0.6666666666666666,
              "#ed7953"
             ],
             [
              0.7777777777777778,
              "#fb9f3a"
             ],
             [
              0.8888888888888888,
              "#fdca26"
             ],
             [
              1,
              "#f0f921"
             ]
            ],
            "type": "contour"
           }
          ],
          "contourcarpet": [
           {
            "colorbar": {
             "outlinewidth": 0,
             "ticks": ""
            },
            "type": "contourcarpet"
           }
          ],
          "heatmap": [
           {
            "colorbar": {
             "outlinewidth": 0,
             "ticks": ""
            },
            "colorscale": [
             [
              0,
              "#0d0887"
             ],
             [
              0.1111111111111111,
              "#46039f"
             ],
             [
              0.2222222222222222,
              "#7201a8"
             ],
             [
              0.3333333333333333,
              "#9c179e"
             ],
             [
              0.4444444444444444,
              "#bd3786"
             ],
             [
              0.5555555555555556,
              "#d8576b"
             ],
             [
              0.6666666666666666,
              "#ed7953"
             ],
             [
              0.7777777777777778,
              "#fb9f3a"
             ],
             [
              0.8888888888888888,
              "#fdca26"
             ],
             [
              1,
              "#f0f921"
             ]
            ],
            "type": "heatmap"
           }
          ],
          "heatmapgl": [
           {
            "colorbar": {
             "outlinewidth": 0,
             "ticks": ""
            },
            "colorscale": [
             [
              0,
              "#0d0887"
             ],
             [
              0.1111111111111111,
              "#46039f"
             ],
             [
              0.2222222222222222,
              "#7201a8"
             ],
             [
              0.3333333333333333,
              "#9c179e"
             ],
             [
              0.4444444444444444,
              "#bd3786"
             ],
             [
              0.5555555555555556,
              "#d8576b"
             ],
             [
              0.6666666666666666,
              "#ed7953"
             ],
             [
              0.7777777777777778,
              "#fb9f3a"
             ],
             [
              0.8888888888888888,
              "#fdca26"
             ],
             [
              1,
              "#f0f921"
             ]
            ],
            "type": "heatmapgl"
           }
          ],
          "histogram": [
           {
            "marker": {
             "pattern": {
              "fillmode": "overlay",
              "size": 10,
              "solidity": 0.2
             }
            },
            "type": "histogram"
           }
          ],
          "histogram2d": [
           {
            "colorbar": {
             "outlinewidth": 0,
             "ticks": ""
            },
            "colorscale": [
             [
              0,
              "#0d0887"
             ],
             [
              0.1111111111111111,
              "#46039f"
             ],
             [
              0.2222222222222222,
              "#7201a8"
             ],
             [
              0.3333333333333333,
              "#9c179e"
             ],
             [
              0.4444444444444444,
              "#bd3786"
             ],
             [
              0.5555555555555556,
              "#d8576b"
             ],
             [
              0.6666666666666666,
              "#ed7953"
             ],
             [
              0.7777777777777778,
              "#fb9f3a"
             ],
             [
              0.8888888888888888,
              "#fdca26"
             ],
             [
              1,
              "#f0f921"
             ]
            ],
            "type": "histogram2d"
           }
          ],
          "histogram2dcontour": [
           {
            "colorbar": {
             "outlinewidth": 0,
             "ticks": ""
            },
            "colorscale": [
             [
              0,
              "#0d0887"
             ],
             [
              0.1111111111111111,
              "#46039f"
             ],
             [
              0.2222222222222222,
              "#7201a8"
             ],
             [
              0.3333333333333333,
              "#9c179e"
             ],
             [
              0.4444444444444444,
              "#bd3786"
             ],
             [
              0.5555555555555556,
              "#d8576b"
             ],
             [
              0.6666666666666666,
              "#ed7953"
             ],
             [
              0.7777777777777778,
              "#fb9f3a"
             ],
             [
              0.8888888888888888,
              "#fdca26"
             ],
             [
              1,
              "#f0f921"
             ]
            ],
            "type": "histogram2dcontour"
           }
          ],
          "mesh3d": [
           {
            "colorbar": {
             "outlinewidth": 0,
             "ticks": ""
            },
            "type": "mesh3d"
           }
          ],
          "parcoords": [
           {
            "line": {
             "colorbar": {
              "outlinewidth": 0,
              "ticks": ""
             }
            },
            "type": "parcoords"
           }
          ],
          "pie": [
           {
            "automargin": true,
            "type": "pie"
           }
          ],
          "scatter": [
           {
            "fillpattern": {
             "fillmode": "overlay",
             "size": 10,
             "solidity": 0.2
            },
            "type": "scatter"
           }
          ],
          "scatter3d": [
           {
            "line": {
             "colorbar": {
              "outlinewidth": 0,
              "ticks": ""
             }
            },
            "marker": {
             "colorbar": {
              "outlinewidth": 0,
              "ticks": ""
             }
            },
            "type": "scatter3d"
           }
          ],
          "scattercarpet": [
           {
            "marker": {
             "colorbar": {
              "outlinewidth": 0,
              "ticks": ""
             }
            },
            "type": "scattercarpet"
           }
          ],
          "scattergeo": [
           {
            "marker": {
             "colorbar": {
              "outlinewidth": 0,
              "ticks": ""
             }
            },
            "type": "scattergeo"
           }
          ],
          "scattergl": [
           {
            "marker": {
             "colorbar": {
              "outlinewidth": 0,
              "ticks": ""
             }
            },
            "type": "scattergl"
           }
          ],
          "scattermapbox": [
           {
            "marker": {
             "colorbar": {
              "outlinewidth": 0,
              "ticks": ""
             }
            },
            "type": "scattermapbox"
           }
          ],
          "scatterpolar": [
           {
            "marker": {
             "colorbar": {
              "outlinewidth": 0,
              "ticks": ""
             }
            },
            "type": "scatterpolar"
           }
          ],
          "scatterpolargl": [
           {
            "marker": {
             "colorbar": {
              "outlinewidth": 0,
              "ticks": ""
             }
            },
            "type": "scatterpolargl"
           }
          ],
          "scatterternary": [
           {
            "marker": {
             "colorbar": {
              "outlinewidth": 0,
              "ticks": ""
             }
            },
            "type": "scatterternary"
           }
          ],
          "surface": [
           {
            "colorbar": {
             "outlinewidth": 0,
             "ticks": ""
            },
            "colorscale": [
             [
              0,
              "#0d0887"
             ],
             [
              0.1111111111111111,
              "#46039f"
             ],
             [
              0.2222222222222222,
              "#7201a8"
             ],
             [
              0.3333333333333333,
              "#9c179e"
             ],
             [
              0.4444444444444444,
              "#bd3786"
             ],
             [
              0.5555555555555556,
              "#d8576b"
             ],
             [
              0.6666666666666666,
              "#ed7953"
             ],
             [
              0.7777777777777778,
              "#fb9f3a"
             ],
             [
              0.8888888888888888,
              "#fdca26"
             ],
             [
              1,
              "#f0f921"
             ]
            ],
            "type": "surface"
           }
          ],
          "table": [
           {
            "cells": {
             "fill": {
              "color": "#EBF0F8"
             },
             "line": {
              "color": "white"
             }
            },
            "header": {
             "fill": {
              "color": "#C8D4E3"
             },
             "line": {
              "color": "white"
             }
            },
            "type": "table"
           }
          ]
         },
         "layout": {
          "annotationdefaults": {
           "arrowcolor": "#2a3f5f",
           "arrowhead": 0,
           "arrowwidth": 1
          },
          "autotypenumbers": "strict",
          "coloraxis": {
           "colorbar": {
            "outlinewidth": 0,
            "ticks": ""
           }
          },
          "colorscale": {
           "diverging": [
            [
             0,
             "#8e0152"
            ],
            [
             0.1,
             "#c51b7d"
            ],
            [
             0.2,
             "#de77ae"
            ],
            [
             0.3,
             "#f1b6da"
            ],
            [
             0.4,
             "#fde0ef"
            ],
            [
             0.5,
             "#f7f7f7"
            ],
            [
             0.6,
             "#e6f5d0"
            ],
            [
             0.7,
             "#b8e186"
            ],
            [
             0.8,
             "#7fbc41"
            ],
            [
             0.9,
             "#4d9221"
            ],
            [
             1,
             "#276419"
            ]
           ],
           "sequential": [
            [
             0,
             "#0d0887"
            ],
            [
             0.1111111111111111,
             "#46039f"
            ],
            [
             0.2222222222222222,
             "#7201a8"
            ],
            [
             0.3333333333333333,
             "#9c179e"
            ],
            [
             0.4444444444444444,
             "#bd3786"
            ],
            [
             0.5555555555555556,
             "#d8576b"
            ],
            [
             0.6666666666666666,
             "#ed7953"
            ],
            [
             0.7777777777777778,
             "#fb9f3a"
            ],
            [
             0.8888888888888888,
             "#fdca26"
            ],
            [
             1,
             "#f0f921"
            ]
           ],
           "sequentialminus": [
            [
             0,
             "#0d0887"
            ],
            [
             0.1111111111111111,
             "#46039f"
            ],
            [
             0.2222222222222222,
             "#7201a8"
            ],
            [
             0.3333333333333333,
             "#9c179e"
            ],
            [
             0.4444444444444444,
             "#bd3786"
            ],
            [
             0.5555555555555556,
             "#d8576b"
            ],
            [
             0.6666666666666666,
             "#ed7953"
            ],
            [
             0.7777777777777778,
             "#fb9f3a"
            ],
            [
             0.8888888888888888,
             "#fdca26"
            ],
            [
             1,
             "#f0f921"
            ]
           ]
          },
          "colorway": [
           "#636efa",
           "#EF553B",
           "#00cc96",
           "#ab63fa",
           "#FFA15A",
           "#19d3f3",
           "#FF6692",
           "#B6E880",
           "#FF97FF",
           "#FECB52"
          ],
          "font": {
           "color": "#2a3f5f"
          },
          "geo": {
           "bgcolor": "white",
           "lakecolor": "white",
           "landcolor": "#E5ECF6",
           "showlakes": true,
           "showland": true,
           "subunitcolor": "white"
          },
          "hoverlabel": {
           "align": "left"
          },
          "hovermode": "closest",
          "mapbox": {
           "style": "light"
          },
          "paper_bgcolor": "white",
          "plot_bgcolor": "#E5ECF6",
          "polar": {
           "angularaxis": {
            "gridcolor": "white",
            "linecolor": "white",
            "ticks": ""
           },
           "bgcolor": "#E5ECF6",
           "radialaxis": {
            "gridcolor": "white",
            "linecolor": "white",
            "ticks": ""
           }
          },
          "scene": {
           "xaxis": {
            "backgroundcolor": "#E5ECF6",
            "gridcolor": "white",
            "gridwidth": 2,
            "linecolor": "white",
            "showbackground": true,
            "ticks": "",
            "zerolinecolor": "white"
           },
           "yaxis": {
            "backgroundcolor": "#E5ECF6",
            "gridcolor": "white",
            "gridwidth": 2,
            "linecolor": "white",
            "showbackground": true,
            "ticks": "",
            "zerolinecolor": "white"
           },
           "zaxis": {
            "backgroundcolor": "#E5ECF6",
            "gridcolor": "white",
            "gridwidth": 2,
            "linecolor": "white",
            "showbackground": true,
            "ticks": "",
            "zerolinecolor": "white"
           }
          },
          "shapedefaults": {
           "line": {
            "color": "#2a3f5f"
           }
          },
          "ternary": {
           "aaxis": {
            "gridcolor": "white",
            "linecolor": "white",
            "ticks": ""
           },
           "baxis": {
            "gridcolor": "white",
            "linecolor": "white",
            "ticks": ""
           },
           "bgcolor": "#E5ECF6",
           "caxis": {
            "gridcolor": "white",
            "linecolor": "white",
            "ticks": ""
           }
          },
          "title": {
           "x": 0.05
          },
          "xaxis": {
           "automargin": true,
           "gridcolor": "white",
           "linecolor": "white",
           "ticks": "",
           "title": {
            "standoff": 15
           },
           "zerolinecolor": "white",
           "zerolinewidth": 2
          },
          "yaxis": {
           "automargin": true,
           "gridcolor": "white",
           "linecolor": "white",
           "ticks": "",
           "title": {
            "standoff": 15
           },
           "zerolinecolor": "white",
           "zerolinewidth": 2
          }
         }
        },
        "uniformtext": {
         "minsize": 12,
         "mode": "show"
        },
        "width": 830,
        "xaxis": {
         "anchor": "y",
         "automargin": true,
         "domain": [
          0,
          0.34
         ],
         "matches": "x3",
         "showticklabels": false,
         "zeroline": false
        },
        "xaxis2": {
         "anchor": "y2",
         "automargin": true,
         "domain": [
          0.49,
          1
         ],
         "dtick": 1,
         "linecolor": "#000000",
         "matches": "x4",
         "range": [
          -0.5,
          131.5
         ],
         "showline": true,
         "showticklabels": false,
         "side": "bottom",
         "tickcolor": "#000000",
         "ticks": "outside",
         "zeroline": false
        },
        "xaxis3": {
         "anchor": "y3",
         "automargin": true,
         "autorange": "reversed",
         "domain": [
          0,
          0.34
         ],
         "gridcolor": "#E0E0E0",
         "linecolor": "#000000",
         "showgrid": true,
         "showline": true,
         "showticklabels": true,
         "side": "top",
         "tickangle": -90,
         "tickcolor": "#000000",
         "ticks": "outside",
         "title": {
          "font": {
           "color": "#000000"
          },
          "standoff": 5,
          "text": "Set Size"
         },
         "zeroline": false
        },
        "xaxis4": {
         "anchor": "y4",
         "automargin": true,
         "domain": [
          0.49,
          1
         ],
         "dtick": 1,
         "range": [
          -0.5,
          131.5
         ],
         "showgrid": false,
         "showline": true,
         "showticklabels": false,
         "side": "bottom",
         "title": {
          "standoff": 5
         },
         "zeroline": false
        },
        "yaxis": {
         "anchor": "x",
         "automargin": true,
         "domain": [
          0.43,
          1
         ],
         "zeroline": false
        },
        "yaxis2": {
         "anchor": "x2",
         "automargin": true,
         "domain": [
          0.43,
          1
         ],
         "gridcolor": "#E0E0E0",
         "linecolor": "#000000",
         "range": [
          0,
          23284.3
         ],
         "showgrid": true,
         "showline": true,
         "showticklabels": true,
         "side": "left",
         "tickcolor": "#000000",
         "ticks": "outside",
         "title": {
          "font": {
           "color": "#000000"
          },
          "standoff": 5,
          "text": "Intersection Size"
         },
         "zeroline": false
        },
        "yaxis3": {
         "anchor": "x3",
         "automargin": true,
         "domain": [
          0,
          0.38
         ],
         "linecolor": "#000000",
         "showline": true,
         "showticklabels": false,
         "side": "right",
         "tickcolor": "#000000",
         "ticks": "outside",
         "zeroline": false
        },
        "yaxis4": {
         "anchor": "x4",
         "automargin": true,
         "domain": [
          0,
          0.38
         ],
         "linecolor": "#000000",
         "mirror": false,
         "showgrid": false,
         "showline": true,
         "showticklabels": true,
         "side": "left",
         "tickcolor": "#000000",
         "ticks": "outside",
         "ticktext": [
          "Comercialización",
          "Conservación del suelo",
          "Conservación de agua",
          "Otra",
          "Arreglos de siembra",
          "Agricultura de conservación",
          "Tecnologias de poscosecha",
          "Variedades mejoradas",
          "Manejo integrado de plagas",
          "Fertilización"
         ],
         "tickvals": [
          0,
          1,
          2,
          3,
          4,
          5,
          6,
          7,
          8,
          9
         ],
         "zeroline": false
        }
       }
      },
      "text/html": [
       "<div>                            <div id=\"175429b0-0a17-4dd1-9a8f-395fbe00e08c\" class=\"plotly-graph-div\" style=\"height:650px; width:830px;\"></div>            <script type=\"text/javascript\">                require([\"plotly\"], function(Plotly) {                    window.PLOTLYENV=window.PLOTLYENV || {};                                    if (document.getElementById(\"175429b0-0a17-4dd1-9a8f-395fbe00e08c\")) {                    Plotly.newPlot(                        \"175429b0-0a17-4dd1-9a8f-395fbe00e08c\",                        [{\"cliponaxis\":false,\"legendgroup\":\"Kit t\\u00e9cnol\\u00f3gico\",\"marker\":{\"color\":\"#636efa\",\"line\":{\"width\":0.0}},\"name\":\"Kit t\\u00e9cnol\\u00f3gico\",\"showlegend\":false,\"text\":[17911.0,4753.0,3062.0,2823.0,2013.0,1856.0,1227.0,1081.0,806.0,756.0,594.0,576.0,385.0,333.0,310.0,308.0,234.0,221.0,199.0,198.0,192.0,155.0,143.0,128.0,82.0,70.0,65.0,64.0,63.0,58.0,55.0,48.0,46.0,46.0,46.0,43.0,43.0,36.0,34.0,29.0,26.0,26.0,26.0,18.0,16.0,15.0,14.0,11.0,10.0,9.0,9.0,8.0,8.0,8.0,8.0,7.0,7.0,6.0,6.0,6.0,5.0,4.0,4.0,3.0,3.0,3.0,3.0,3.0,3.0,3.0,3.0,3.0,3.0,3.0,2.0,2.0,2.0,2.0,2.0,2.0,2.0,2.0,2.0,2.0,2.0,2.0,2.0,2.0,2.0,2.0,1.0,1.0,1.0,1.0,1.0,1.0,1.0,1.0,1.0,1.0,1.0,1.0,1.0,1.0,1.0,1.0,1.0,1.0,1.0,1.0,1.0,1.0,1.0,1.0,1.0,1.0,1.0,1.0,1.0,1.0,1.0,1.0,1.0,1.0,1.0,1.0,1.0,1.0,1.0,1.0,1.0,1.0],\"textangle\":-90,\"textfont\":{\"size\":12},\"textposition\":\"outside\",\"texttemplate\":\"%{text:}\",\"x\":[\"0000010000\",\"0000011000\",\"0000011001\",\"0000001000\",\"1000000000\",\"0000000010\",\"0000000001\",\"0000010010\",\"0100000000\",\"0000010001\",\"1100000000\",\"0100011001\",\"0000000000\",\"0000011010\",\"0100010000\",\"0100011000\",\"0000001010\",\"0100001000\",\"0000000100\",\"0000010011\",\"1000011000\",\"1000010000\",\"0001000000\",\"0000001001\",\"0000000011\",\"0000010100\",\"1000000010\",\"1001000000\",\"0000011011\",\"0100011010\",\"1000001000\",\"0100010001\",\"1100010000\",\"1000100010\",\"0000110000\",\"1100011000\",\"0000100000\",\"0100001010\",\"0001010000\",\"0000001011\",\"0100000010\",\"0000111000\",\"0000011100\",\"0100000001\",\"0000101000\",\"0100010010\",\"1000010010\",\"1000011010\",\"0001011000\",\"0010000000\",\"0000001100\",\"1010000000\",\"1001010000\",\"1000111000\",\"0000110010\",\"1100011010\",\"0101010000\",\"1000100000\",\"0100011011\",\"0100010011\",\"0010010000\",\"1000010001\",\"0101011000\",\"1101011000\",\"1100111010\",\"1100001000\",\"1000000011\",\"0101000000\",\"0100011100\",\"0001110000\",\"0001100000\",\"0001010010\",\"0001001000\",\"0000111010\",\"1100010010\",\"1001111000\",\"1001011010\",\"1001011000\",\"1000111010\",\"1000110000\",\"1000011011\",\"1000011001\",\"1000010100\",\"1000010011\",\"0100100000\",\"0001111000\",\"0001011011\",\"0001010001\",\"0001001001\",\"0000011110\",\"1110011000\",\"1101111000\",\"1101101000\",\"1101011100\",\"1101011010\",\"1101001000\",\"1100011101\",\"1100011100\",\"1100011001\",\"1100001100\",\"1010010000\",\"1001110010\",\"1001110000\",\"1001100000\",\"1000111001\",\"1000101000\",\"1000001011\",\"1000001010\",\"1000000100\",\"1000000001\",\"0101110010\",\"0101001001\",\"0101000001\",\"0100111000\",\"0100110000\",\"0100001100\",\"0100001001\",\"0100000100\",\"0010011001\",\"0010011000\",\"0001101000\",\"0001011100\",\"0001011010\",\"0001001010\",\"0001000011\",\"0001000010\",\"0000111110\",\"0000111011\",\"0000110100\",\"0000100010\",\"0000100001\",\"0000000110\"],\"y\":[17911,4753,3062,2823,2013,1856,1227,1081,806,756,594,576,385,333,310,308,234,221,199,198,192,155,143,128,82,70,65,64,63,58,55,48,46,46,46,43,43,36,34,29,26,26,26,18,16,15,14,11,10,9,9,8,8,8,8,7,7,6,6,6,5,4,4,3,3,3,3,3,3,3,3,3,3,3,2,2,2,2,2,2,2,2,2,2,2,2,2,2,2,2,1,1,1,1,1,1,1,1,1,1,1,1,1,1,1,1,1,1,1,1,1,1,1,1,1,1,1,1,1,1,1,1,1,1,1,1,1,1,1,1,1,1],\"type\":\"bar\",\"xaxis\":\"x2\",\"yaxis\":\"y2\"},{\"cliponaxis\":false,\"legendgroup\":\"Kit t\\u00e9cnol\\u00f3gico\",\"marker\":{\"color\":\"#636efa\",\"line\":{\"width\":0.0}},\"name\":\"Kit t\\u00e9cnol\\u00f3gico\",\"orientation\":\"h\",\"text\":[26.0,237.0,319.0,322.0,3172.0,3391.0,4213.0,6230.0,13101.0,30275.0],\"textangle\":0,\"textfont\":{\"size\":12},\"textposition\":\"outside\",\"texttemplate\":\"%{text:}\",\"x\":[26,237,319,322,3172,3391,4213,6230,13101,30275],\"y\":[\"Comercializaci\\u00f3n\",\"Conservaci\\u00f3n del suelo\",\"Conservaci\\u00f3n de agua\",\"Otra\",\"Arreglos de siembra\",\"Agricultura de conservaci\\u00f3n\",\"Tecnologias de poscosecha\",\"Variedades mejoradas\",\"Manejo integrado de plagas\",\"Fertilizaci\\u00f3n\"],\"type\":\"bar\",\"xaxis\":\"x3\",\"yaxis\":\"y3\"},{\"legendgroup\":\"True\",\"marker\":{\"color\":\"#000000\",\"line\":{\"color\":\"#000000\",\"width\":0},\"size\":12,\"symbol\":\"circle\"},\"mode\":\"markers\",\"name\":\"True\",\"showlegend\":false,\"x\":[4,8,49,22,36,0,3,18,5,6,109,43,130,9,23,24,24,26,40,125,129,7,16,131,131,66,124,19,39,108,117,25,50,50,16,23,39,39,30,17,72,44,1,1,25,7,9,116,88,2,2,19,19,107,37,123,13,13,106,28,28,115,42,42,42,13,2,28,28,89,89,89,89,21,14,60,38,34,34,44,129,130,61,31,87,46,45,71,54,54,83,59,82,128,128,20,15,119,48,41,41,41,128,54,81,11,118,47,29,122,73,73,73,80,58,86,127,127,127,68,121,73,127,127,126,126,126,126,126,57,84,70,70,38,72,125,87,88,124,124,33,71,123,123,88,105,120,120,48,48,71,87,122,122,86,86,121,121,121,122,86,86,79,114,69,69,69,120,53,113,85,85,85,85,104,78,27,67,60,112,119,119,111,118,118,118,52,56,77,62,76,103,102,101,110,75,51,67,84,14,17,117,40,43,112,31,116,45,37,59,115,115,37,116,15,15,45,31,111,11,11,59,59,29,29,58,58,68,68,68,29,11,58,58,100,56,114,114,62,113,113,113,56,112,111,111,62,62,110,110,110,110,10,10,51,27,57,21,30,108,26,109,61,66,66,33,46,107,83,106,82,107,106,106,65,65,105,20,20,82,46,61,81,81,83,83,47,47,80,80,99,99,47,81,80,80,32,32,100,52,79,79,105,33,74,74,35,35,77,53,53,53,98,98,104,104,104,55,55,76,78,78,78,97,97,78,104,96,96,103,103,52,77,77,76,76,76,102,102,102,101,101,101,75,75,75,75,101,64,64,100,95,95,63,63,94,94,93,93,92,92,91,91,32,65,74,99,99,95,35,35,74,98,98,55,55,97,97,97,55,98,96,96,96,96,90,90,90,63,94,64,64,64,93,64,95,92,92,63,63,94,94,93,93,93,94,92,91,91,91,91,90,90],\"y\":[0,1,2,3,4,5,6,7,8,9,0,1,4,5,6,8,9,0,1,3,4,5,6,7,8,0,3,5,6,0,1,5,6,7,8,9,8,9,0,1,3,4,5,6,7,8,9,1,3,5,6,8,9,0,1,3,5,6,0,5,6,1,5,6,7,8,9,8,9,5,6,7,8,0,1,2,3,4,5,6,8,9,0,1,3,0,1,3,4,5,0,1,0,4,5,0,1,2,3,4,5,6,7,8,0,1,2,0,1,3,4,5,6,0,1,3,4,5,6,1,3,8,8,9,4,5,6,7,8,0,1,3,4,5,6,8,5,6,8,9,0,5,6,8,9,0,3,4,5,6,8,9,5,6,5,6,5,6,7,8,8,9,0,1,3,4,5,6,0,1,3,4,5,6,0,0,0,1,5,1,5,6,1,5,6,9,0,1,0,1,0,0,0,0,1,0,0,3,4,5,6,7,8,9,3,5,6,5,6,5,6,7,8,9,5,6,8,9,3,5,6,8,9,5,6,5,6,5,6,7,8,9,8,9,0,3,4,5,3,4,5,6,5,9,6,9,5,6,3,4,5,8,0,1,2,3,4,5,6,7,8,9,5,8,9,4,5,6,5,6,5,8,8,9,0,1,4,5,6,7,8,9,5,6,8,9,5,6,5,6,0,1,8,9,8,9,0,1,2,3,4,5,6,8,0,1,0,1,3,4,5,6,0,1,4,5,6,0,1,3,4,5,6,0,1,8,9,0,1,3,4,5,5,6,5,6,8,3,4,5,3,4,5,3,4,5,6,8,0,1,5,0,1,0,1,0,1,0,1,0,1,0,1,5,6,5,6,7,3,5,6,8,5,6,5,6,5,6,7,8,9,5,6,7,9,0,1,2,3,3,4,5,6,3,8,6,3,4,5,6,5,6,5,6,7,8,6,3,4,5,6,5,6],\"type\":\"scatter\",\"xaxis\":\"x4\",\"yaxis\":\"y4\"},{\"legendgroup\":\"False\",\"marker\":{\"color\":\"#C2C2C2\",\"line\":{\"color\":\"#000000\",\"width\":0},\"size\":12,\"symbol\":\"circle\"},\"mode\":\"markers\",\"name\":\"False\",\"showlegend\":false,\"x\":[91,92,93,94,63,90,90,90,90,90,95,93,91,91,91,64,64,94,63,92,92,92,92,94,93,93,94,63,63,63,95,95,95,95,95,64,96,96,96,64,97,97,97,55,55,55,98,98,98,35,35,35,74,74,74,100,32,32,32,96,55,97,97,98,98,55,99,99,99,99,35,35,35,74,74,74,65,65,65,65,32,32,32,32,99,99,65,65,65,51,10,10,10,10,10,10,10,10,75,75,110,101,101,102,102,103,103,76,76,62,77,77,56,52,52,100,100,111,100,100,100,100,112,67,27,27,51,51,51,51,51,51,51,75,75,75,78,78,78,76,101,101,104,104,104,101,113,53,53,53,77,102,102,102,102,114,79,79,79,52,103,103,103,103,103,76,76,77,77,77,105,105,105,52,52,52,52,33,33,33,84,57,57,57,27,27,27,27,27,27,78,104,104,78,68,53,53,53,58,80,80,80,80,29,47,47,47,47,11,81,81,81,81,15,20,20,20,20,105,79,79,79,79,82,82,82,82,105,105,105,59,83,83,83,83,45,46,46,46,46,33,33,33,31,61,61,61,61,33,14,21,21,21,21,57,57,57,57,57,80,47,81,81,47,115,82,20,20,20,106,106,106,106,106,83,83,37,107,107,107,107,107,46,46,82,82,116,61,61,61,46,17,30,30,30,30,30,21,21,21,21,106,107,107,117,108,108,108,108,108,108,30,30,30,66,66,66,66,66,66,66,40,26,26,26,26,26,26,26,108,108,43,109,109,109,109,109,109,109,109,26,8,4,4,4,4,4,4,4,4,4,110,62,56,111,112,67,110,110,110,113,113,62,114,114,56,62,62,62,111,111,56,56,56,56,111,111,112,112,112,112,112,84,84,67,67,67,67,67,67,68,68,68,113,113,113,58,58,58,29,29,29,118,118,11,11,11,119,119,15,15,15,114,114,114,114,59,59,59,45,45,45,31,31,31,60,60,14,14,14,84,84,84,84,84,58,29,68,68,11,11,29,115,115,115,115,15,15,15,59,59,37,37,37,37,45,45,116,116,116,116,31,31,31,45,17,17,17,17,14,14,14,14,37,115,115,116,116,37,117,117,117,117,117,17,17,17,40,40,40,40,40,40,117,117,43,43,43,43,43,43,43,40,49,49,8,8,8,8,8,8,8,8,85,85,85,69,69,69,120,120,120,70,70,70,121,121,121,86,86,86,122,122,122,118,118,48,48,48,119,119,71,71,71,87,87,87,38,38,38,60,60,118,118,119,119,119,123,123,123,88,88,88,72,72,72,60,60,60,60,124,124,124,125,125,125,22,22,22,49,49,49,49,49,49,49,126,126,126,126,121,85,85,85,127,127,127,127,86,73,73,73,73,122,41,41,41,41,48,120,69,69,69,69,128,128,128,128,120,120,120,54,54,54,54,71,87,34,34,34,34,38,70,70,70,70,70,86,122,121,121,122,48,48,48,123,123,71,71,88,88,87,87,87,71,44,44,44,44,72,72,38,38,38,38,123,88,88,123,72,72,72,124,124,124,124,129,129,129,129,125,125,125,125,130,130,130,130,125,36,36,36,36,22,22,22,22,22,22,127,126,89,89,89,89,89,73,73,42,42,42,42,42,128,41,41,41,28,28,28,28,28,13,13,13,13,13,54,54,128,128,2,2,2,2,2,54,1,1,1,1,1,44,34,34,34,34,25,25,25,25,25,44,44,44,19,19,19,19,19,7,7,7,7,7,129,129,129,9,9,9,9,9,130,130,130,130,129,0,0,0,0,0,36,36,36,36,36,28,89,13,42,42,2,2,13,50,50,50,50,50,50,25,1,1,1,39,39,39,39,39,39,19,19,16,16,16,16,16,16,7,7,25,25,23,23,23,23,23,23,9,9,9,7,3,3,3,3,3,3,0,0,0,0,39,131,131,131,131,131,131,131,16,50,50,23,23,16,18,18,18,18,18,18,18,3,3,3,24,24,24,24,24,24,24,24,131,5,5,5,5,5,5,5,5,18,18,6,6,6,6,6,6,6,6,6,5,12,12,12,12,12,12,12,12,12,12],\"y\":[2,2,2,2,2,3,4,7,8,9,2,4,7,8,9,2,3,4,4,5,7,8,9,7,8,9,9,7,8,9,4,5,7,8,9,7,2,3,4,9,2,3,4,2,3,4,2,3,4,2,3,4,2,3,4,1,2,3,4,8,7,8,9,7,8,9,2,3,4,5,7,8,9,6,7,9,2,3,4,5,6,7,8,9,8,9,7,8,9,1,2,3,4,5,6,7,8,9,1,2,0,1,2,1,2,1,2,1,2,0,1,2,0,1,2,3,4,0,6,7,8,9,0,0,1,2,3,4,5,6,7,8,9,7,8,9,1,2,3,4,6,7,1,2,3,9,0,1,2,3,4,6,7,8,9,0,1,2,3,4,5,6,7,8,9,7,9,7,8,9,1,2,3,6,7,8,9,1,2,3,0,1,2,3,4,5,6,7,8,9,7,7,8,9,0,7,8,9,0,1,2,3,4,0,1,2,3,4,0,1,2,3,4,0,1,2,3,4,5,6,7,8,9,1,2,3,4,7,8,9,0,1,2,3,4,0,1,2,3,4,5,6,7,0,1,2,3,4,9,0,1,2,3,4,5,6,7,8,9,7,7,7,8,9,0,6,7,8,9,1,2,3,4,5,6,7,0,1,2,3,4,5,6,7,8,9,0,6,7,8,9,0,1,2,3,4,5,6,7,8,9,7,7,9,0,1,2,3,4,5,6,7,8,9,1,2,3,4,5,6,7,0,1,2,3,4,5,6,7,8,9,0,1,2,3,4,5,6,7,8,9,0,1,2,3,4,5,6,7,8,9,2,2,2,2,2,2,6,7,9,2,3,4,2,3,4,7,8,9,4,5,6,7,8,9,7,8,4,5,6,7,8,2,3,4,5,6,7,8,9,2,3,4,7,8,9,2,3,4,2,3,4,0,1,2,3,4,0,1,2,3,4,6,7,8,9,2,3,4,2,3,4,2,3,4,0,1,2,3,4,5,6,7,8,9,7,7,8,9,7,8,9,2,3,4,5,7,8,9,6,7,2,3,4,5,6,7,2,3,4,5,6,7,8,9,2,3,4,5,6,7,8,9,7,8,9,7,8,9,2,3,4,5,6,7,8,9,2,3,4,5,6,7,8,9,2,3,4,5,6,7,8,9,0,1,2,3,4,5,6,7,8,9,0,1,2,0,1,2,0,1,2,0,1,2,0,1,2,0,1,2,0,1,2,3,4,0,1,2,3,4,0,1,2,0,1,2,0,1,2,3,4,7,8,7,8,9,0,1,2,0,1,2,0,1,2,6,7,8,9,0,1,2,0,1,2,0,1,2,3,4,5,6,7,8,9,0,1,2,3,4,7,8,9,0,1,2,3,4,0,1,2,3,4,0,1,2,3,4,5,6,7,8,9,0,1,2,3,7,8,9,0,1,2,3,4,4,0,1,2,3,4,5,6,7,8,9,7,7,8,9,9,7,8,9,4,5,6,7,4,5,6,7,8,9,0,1,2,3,4,5,6,7,8,9,7,7,8,9,7,8,9,4,5,6,7,0,1,2,3,4,5,6,7,0,1,2,3,9,0,1,2,3,4,5,6,7,8,9,7,9,0,1,2,3,4,7,9,0,1,2,3,4,6,7,8,9,0,1,2,3,4,0,1,2,3,4,6,7,8,9,0,1,2,3,4,9,0,1,2,3,4,5,6,7,8,9,0,1,2,3,4,7,8,9,0,1,2,3,4,0,1,2,3,4,5,6,7,0,1,2,3,4,5,6,7,8,9,0,1,2,3,4,5,6,7,8,9,7,9,7,8,9,7,8,9,0,1,2,3,4,5,6,7,8,9,0,1,2,3,4,5,6,7,0,1,2,3,4,5,6,7,8,9,0,1,2,3,4,5,6,7,8,9,0,1,2,3,4,5,6,7,8,9,7,0,1,2,3,4,5,6,7,8,9,7,8,9,0,1,2,3,4,5,6,7,8,9,0,1,2,3,4,5,6,7,9,0,1,2,3,4,5,6,7,8,9,0,1,2,3,4,5,6,7,8,9,0,1,2,3,4,5,6,7,8,9],\"type\":\"scatter\",\"xaxis\":\"x4\",\"yaxis\":\"y4\"},{\"legendgroup\":\"True\",\"line\":{\"color\":\"#000000\",\"width\":2},\"mode\":\"lines\",\"name\":\"True\",\"showlegend\":false,\"x\":[24,24],\"y\":[8,9],\"type\":\"scatter\",\"xaxis\":\"x4\",\"yaxis\":\"y4\"},{\"legendgroup\":\"True\",\"line\":{\"color\":\"#000000\",\"width\":2},\"mode\":\"lines\",\"name\":\"True\",\"showlegend\":false,\"x\":[131,131],\"y\":[7,8],\"type\":\"scatter\",\"xaxis\":\"x4\",\"yaxis\":\"y4\"},{\"legendgroup\":\"True\",\"line\":{\"color\":\"#000000\",\"width\":2},\"mode\":\"lines\",\"name\":\"True\",\"showlegend\":false,\"x\":[23,23],\"y\":[6,9],\"type\":\"scatter\",\"xaxis\":\"x4\",\"yaxis\":\"y4\"},{\"legendgroup\":\"True\",\"line\":{\"color\":\"#000000\",\"width\":2},\"mode\":\"lines\",\"name\":\"True\",\"showlegend\":false,\"x\":[16,16],\"y\":[6,8],\"type\":\"scatter\",\"xaxis\":\"x4\",\"yaxis\":\"y4\"},{\"legendgroup\":\"True\",\"line\":{\"color\":\"#000000\",\"width\":2},\"mode\":\"lines\",\"name\":\"True\",\"showlegend\":false,\"x\":[39,39],\"y\":[6,8],\"type\":\"scatter\",\"xaxis\":\"x4\",\"yaxis\":\"y4\"},{\"legendgroup\":\"True\",\"line\":{\"color\":\"#000000\",\"width\":2},\"mode\":\"lines\",\"name\":\"True\",\"showlegend\":false,\"x\":[39,39],\"y\":[8,9],\"type\":\"scatter\",\"xaxis\":\"x4\",\"yaxis\":\"y4\"},{\"legendgroup\":\"True\",\"line\":{\"color\":\"#000000\",\"width\":2},\"mode\":\"lines\",\"name\":\"True\",\"showlegend\":false,\"x\":[50,50],\"y\":[6,7],\"type\":\"scatter\",\"xaxis\":\"x4\",\"yaxis\":\"y4\"},{\"legendgroup\":\"True\",\"line\":{\"color\":\"#000000\",\"width\":2},\"mode\":\"lines\",\"name\":\"True\",\"showlegend\":false,\"x\":[9,9],\"y\":[5,9],\"type\":\"scatter\",\"xaxis\":\"x4\",\"yaxis\":\"y4\"},{\"legendgroup\":\"True\",\"line\":{\"color\":\"#000000\",\"width\":2},\"mode\":\"lines\",\"name\":\"True\",\"showlegend\":false,\"x\":[7,7],\"y\":[5,8],\"type\":\"scatter\",\"xaxis\":\"x4\",\"yaxis\":\"y4\"},{\"legendgroup\":\"True\",\"line\":{\"color\":\"#000000\",\"width\":2},\"mode\":\"lines\",\"name\":\"True\",\"showlegend\":false,\"x\":[19,19],\"y\":[5,8],\"type\":\"scatter\",\"xaxis\":\"x4\",\"yaxis\":\"y4\"},{\"legendgroup\":\"True\",\"line\":{\"color\":\"#000000\",\"width\":2},\"mode\":\"lines\",\"name\":\"True\",\"showlegend\":false,\"x\":[19,19],\"y\":[8,9],\"type\":\"scatter\",\"xaxis\":\"x4\",\"yaxis\":\"y4\"},{\"legendgroup\":\"True\",\"line\":{\"color\":\"#000000\",\"width\":2},\"mode\":\"lines\",\"name\":\"True\",\"showlegend\":false,\"x\":[25,25],\"y\":[5,7],\"type\":\"scatter\",\"xaxis\":\"x4\",\"yaxis\":\"y4\"},{\"legendgroup\":\"True\",\"line\":{\"color\":\"#000000\",\"width\":2},\"mode\":\"lines\",\"name\":\"True\",\"showlegend\":false,\"x\":[1,1],\"y\":[5,6],\"type\":\"scatter\",\"xaxis\":\"x4\",\"yaxis\":\"y4\"},{\"legendgroup\":\"True\",\"line\":{\"color\":\"#000000\",\"width\":2},\"mode\":\"lines\",\"name\":\"True\",\"showlegend\":false,\"x\":[2,2],\"y\":[5,6],\"type\":\"scatter\",\"xaxis\":\"x4\",\"yaxis\":\"y4\"},{\"legendgroup\":\"True\",\"line\":{\"color\":\"#000000\",\"width\":2},\"mode\":\"lines\",\"name\":\"True\",\"showlegend\":false,\"x\":[2,2],\"y\":[6,9],\"type\":\"scatter\",\"xaxis\":\"x4\",\"yaxis\":\"y4\"},{\"legendgroup\":\"True\",\"line\":{\"color\":\"#000000\",\"width\":2},\"mode\":\"lines\",\"name\":\"True\",\"showlegend\":false,\"x\":[13,13],\"y\":[5,6],\"type\":\"scatter\",\"xaxis\":\"x4\",\"yaxis\":\"y4\"},{\"legendgroup\":\"True\",\"line\":{\"color\":\"#000000\",\"width\":2},\"mode\":\"lines\",\"name\":\"True\",\"showlegend\":false,\"x\":[13,13],\"y\":[6,8],\"type\":\"scatter\",\"xaxis\":\"x4\",\"yaxis\":\"y4\"},{\"legendgroup\":\"True\",\"line\":{\"color\":\"#000000\",\"width\":2},\"mode\":\"lines\",\"name\":\"True\",\"showlegend\":false,\"x\":[28,28],\"y\":[5,6],\"type\":\"scatter\",\"xaxis\":\"x4\",\"yaxis\":\"y4\"},{\"legendgroup\":\"True\",\"line\":{\"color\":\"#000000\",\"width\":2},\"mode\":\"lines\",\"name\":\"True\",\"showlegend\":false,\"x\":[28,28],\"y\":[6,8],\"type\":\"scatter\",\"xaxis\":\"x4\",\"yaxis\":\"y4\"},{\"legendgroup\":\"True\",\"line\":{\"color\":\"#000000\",\"width\":2},\"mode\":\"lines\",\"name\":\"True\",\"showlegend\":false,\"x\":[28,28],\"y\":[8,9],\"type\":\"scatter\",\"xaxis\":\"x4\",\"yaxis\":\"y4\"},{\"legendgroup\":\"True\",\"line\":{\"color\":\"#000000\",\"width\":2},\"mode\":\"lines\",\"name\":\"True\",\"showlegend\":false,\"x\":[42,42],\"y\":[5,6],\"type\":\"scatter\",\"xaxis\":\"x4\",\"yaxis\":\"y4\"},{\"legendgroup\":\"True\",\"line\":{\"color\":\"#000000\",\"width\":2},\"mode\":\"lines\",\"name\":\"True\",\"showlegend\":false,\"x\":[42,42],\"y\":[6,7],\"type\":\"scatter\",\"xaxis\":\"x4\",\"yaxis\":\"y4\"},{\"legendgroup\":\"True\",\"line\":{\"color\":\"#000000\",\"width\":2},\"mode\":\"lines\",\"name\":\"True\",\"showlegend\":false,\"x\":[89,89],\"y\":[5,6],\"type\":\"scatter\",\"xaxis\":\"x4\",\"yaxis\":\"y4\"},{\"legendgroup\":\"True\",\"line\":{\"color\":\"#000000\",\"width\":2},\"mode\":\"lines\",\"name\":\"True\",\"showlegend\":false,\"x\":[89,89],\"y\":[6,7],\"type\":\"scatter\",\"xaxis\":\"x4\",\"yaxis\":\"y4\"},{\"legendgroup\":\"True\",\"line\":{\"color\":\"#000000\",\"width\":2},\"mode\":\"lines\",\"name\":\"True\",\"showlegend\":false,\"x\":[89,89],\"y\":[7,8],\"type\":\"scatter\",\"xaxis\":\"x4\",\"yaxis\":\"y4\"},{\"legendgroup\":\"True\",\"line\":{\"color\":\"#000000\",\"width\":2},\"mode\":\"lines\",\"name\":\"True\",\"showlegend\":false,\"x\":[130,130],\"y\":[4,9],\"type\":\"scatter\",\"xaxis\":\"x4\",\"yaxis\":\"y4\"},{\"legendgroup\":\"True\",\"line\":{\"color\":\"#000000\",\"width\":2},\"mode\":\"lines\",\"name\":\"True\",\"showlegend\":false,\"x\":[129,129],\"y\":[4,8],\"type\":\"scatter\",\"xaxis\":\"x4\",\"yaxis\":\"y4\"},{\"legendgroup\":\"True\",\"line\":{\"color\":\"#000000\",\"width\":2},\"mode\":\"lines\",\"name\":\"True\",\"showlegend\":false,\"x\":[44,44],\"y\":[4,6],\"type\":\"scatter\",\"xaxis\":\"x4\",\"yaxis\":\"y4\"},{\"legendgroup\":\"True\",\"line\":{\"color\":\"#000000\",\"width\":2},\"mode\":\"lines\",\"name\":\"True\",\"showlegend\":false,\"x\":[34,34],\"y\":[4,5],\"type\":\"scatter\",\"xaxis\":\"x4\",\"yaxis\":\"y4\"},{\"legendgroup\":\"True\",\"line\":{\"color\":\"#000000\",\"width\":2},\"mode\":\"lines\",\"name\":\"True\",\"showlegend\":false,\"x\":[54,54],\"y\":[4,5],\"type\":\"scatter\",\"xaxis\":\"x4\",\"yaxis\":\"y4\"},{\"legendgroup\":\"True\",\"line\":{\"color\":\"#000000\",\"width\":2},\"mode\":\"lines\",\"name\":\"True\",\"showlegend\":false,\"x\":[54,54],\"y\":[5,8],\"type\":\"scatter\",\"xaxis\":\"x4\",\"yaxis\":\"y4\"},{\"legendgroup\":\"True\",\"line\":{\"color\":\"#000000\",\"width\":2},\"mode\":\"lines\",\"name\":\"True\",\"showlegend\":false,\"x\":[128,128],\"y\":[4,5],\"type\":\"scatter\",\"xaxis\":\"x4\",\"yaxis\":\"y4\"},{\"legendgroup\":\"True\",\"line\":{\"color\":\"#000000\",\"width\":2},\"mode\":\"lines\",\"name\":\"True\",\"showlegend\":false,\"x\":[128,128],\"y\":[5,7],\"type\":\"scatter\",\"xaxis\":\"x4\",\"yaxis\":\"y4\"},{\"legendgroup\":\"True\",\"line\":{\"color\":\"#000000\",\"width\":2},\"mode\":\"lines\",\"name\":\"True\",\"showlegend\":false,\"x\":[41,41],\"y\":[4,5],\"type\":\"scatter\",\"xaxis\":\"x4\",\"yaxis\":\"y4\"},{\"legendgroup\":\"True\",\"line\":{\"color\":\"#000000\",\"width\":2},\"mode\":\"lines\",\"name\":\"True\",\"showlegend\":false,\"x\":[41,41],\"y\":[5,6],\"type\":\"scatter\",\"xaxis\":\"x4\",\"yaxis\":\"y4\"},{\"legendgroup\":\"True\",\"line\":{\"color\":\"#000000\",\"width\":2},\"mode\":\"lines\",\"name\":\"True\",\"showlegend\":false,\"x\":[73,73],\"y\":[4,5],\"type\":\"scatter\",\"xaxis\":\"x4\",\"yaxis\":\"y4\"},{\"legendgroup\":\"True\",\"line\":{\"color\":\"#000000\",\"width\":2},\"mode\":\"lines\",\"name\":\"True\",\"showlegend\":false,\"x\":[73,73],\"y\":[5,6],\"type\":\"scatter\",\"xaxis\":\"x4\",\"yaxis\":\"y4\"},{\"legendgroup\":\"True\",\"line\":{\"color\":\"#000000\",\"width\":2},\"mode\":\"lines\",\"name\":\"True\",\"showlegend\":false,\"x\":[73,73],\"y\":[6,8],\"type\":\"scatter\",\"xaxis\":\"x4\",\"yaxis\":\"y4\"},{\"legendgroup\":\"True\",\"line\":{\"color\":\"#000000\",\"width\":2},\"mode\":\"lines\",\"name\":\"True\",\"showlegend\":false,\"x\":[127,127],\"y\":[4,5],\"type\":\"scatter\",\"xaxis\":\"x4\",\"yaxis\":\"y4\"},{\"legendgroup\":\"True\",\"line\":{\"color\":\"#000000\",\"width\":2},\"mode\":\"lines\",\"name\":\"True\",\"showlegend\":false,\"x\":[127,127],\"y\":[5,6],\"type\":\"scatter\",\"xaxis\":\"x4\",\"yaxis\":\"y4\"},{\"legendgroup\":\"True\",\"line\":{\"color\":\"#000000\",\"width\":2},\"mode\":\"lines\",\"name\":\"True\",\"showlegend\":false,\"x\":[127,127],\"y\":[6,8],\"type\":\"scatter\",\"xaxis\":\"x4\",\"yaxis\":\"y4\"},{\"legendgroup\":\"True\",\"line\":{\"color\":\"#000000\",\"width\":2},\"mode\":\"lines\",\"name\":\"True\",\"showlegend\":false,\"x\":[127,127],\"y\":[8,9],\"type\":\"scatter\",\"xaxis\":\"x4\",\"yaxis\":\"y4\"},{\"legendgroup\":\"True\",\"line\":{\"color\":\"#000000\",\"width\":2},\"mode\":\"lines\",\"name\":\"True\",\"showlegend\":false,\"x\":[126,126],\"y\":[4,5],\"type\":\"scatter\",\"xaxis\":\"x4\",\"yaxis\":\"y4\"},{\"legendgroup\":\"True\",\"line\":{\"color\":\"#000000\",\"width\":2},\"mode\":\"lines\",\"name\":\"True\",\"showlegend\":false,\"x\":[126,126],\"y\":[5,6],\"type\":\"scatter\",\"xaxis\":\"x4\",\"yaxis\":\"y4\"},{\"legendgroup\":\"True\",\"line\":{\"color\":\"#000000\",\"width\":2},\"mode\":\"lines\",\"name\":\"True\",\"showlegend\":false,\"x\":[126,126],\"y\":[6,7],\"type\":\"scatter\",\"xaxis\":\"x4\",\"yaxis\":\"y4\"},{\"legendgroup\":\"True\",\"line\":{\"color\":\"#000000\",\"width\":2},\"mode\":\"lines\",\"name\":\"True\",\"showlegend\":false,\"x\":[126,126],\"y\":[7,8],\"type\":\"scatter\",\"xaxis\":\"x4\",\"yaxis\":\"y4\"},{\"legendgroup\":\"True\",\"line\":{\"color\":\"#000000\",\"width\":2},\"mode\":\"lines\",\"name\":\"True\",\"showlegend\":false,\"x\":[125,125],\"y\":[3,8],\"type\":\"scatter\",\"xaxis\":\"x4\",\"yaxis\":\"y4\"},{\"legendgroup\":\"True\",\"line\":{\"color\":\"#000000\",\"width\":2},\"mode\":\"lines\",\"name\":\"True\",\"showlegend\":false,\"x\":[124,124],\"y\":[3,8],\"type\":\"scatter\",\"xaxis\":\"x4\",\"yaxis\":\"y4\"},{\"legendgroup\":\"True\",\"line\":{\"color\":\"#000000\",\"width\":2},\"mode\":\"lines\",\"name\":\"True\",\"showlegend\":false,\"x\":[124,124],\"y\":[8,9],\"type\":\"scatter\",\"xaxis\":\"x4\",\"yaxis\":\"y4\"},{\"legendgroup\":\"True\",\"line\":{\"color\":\"#000000\",\"width\":2},\"mode\":\"lines\",\"name\":\"True\",\"showlegend\":false,\"x\":[72,72],\"y\":[3,6],\"type\":\"scatter\",\"xaxis\":\"x4\",\"yaxis\":\"y4\"},{\"legendgroup\":\"True\",\"line\":{\"color\":\"#000000\",\"width\":2},\"mode\":\"lines\",\"name\":\"True\",\"showlegend\":false,\"x\":[88,88],\"y\":[3,6],\"type\":\"scatter\",\"xaxis\":\"x4\",\"yaxis\":\"y4\"},{\"legendgroup\":\"True\",\"line\":{\"color\":\"#000000\",\"width\":2},\"mode\":\"lines\",\"name\":\"True\",\"showlegend\":false,\"x\":[88,88],\"y\":[6,9],\"type\":\"scatter\",\"xaxis\":\"x4\",\"yaxis\":\"y4\"},{\"legendgroup\":\"True\",\"line\":{\"color\":\"#000000\",\"width\":2},\"mode\":\"lines\",\"name\":\"True\",\"showlegend\":false,\"x\":[123,123],\"y\":[3,6],\"type\":\"scatter\",\"xaxis\":\"x4\",\"yaxis\":\"y4\"},{\"legendgroup\":\"True\",\"line\":{\"color\":\"#000000\",\"width\":2},\"mode\":\"lines\",\"name\":\"True\",\"showlegend\":false,\"x\":[123,123],\"y\":[6,8],\"type\":\"scatter\",\"xaxis\":\"x4\",\"yaxis\":\"y4\"},{\"legendgroup\":\"True\",\"line\":{\"color\":\"#000000\",\"width\":2},\"mode\":\"lines\",\"name\":\"True\",\"showlegend\":false,\"x\":[38,38],\"y\":[3,5],\"type\":\"scatter\",\"xaxis\":\"x4\",\"yaxis\":\"y4\"},{\"legendgroup\":\"True\",\"line\":{\"color\":\"#000000\",\"width\":2},\"mode\":\"lines\",\"name\":\"True\",\"showlegend\":false,\"x\":[87,87],\"y\":[3,5],\"type\":\"scatter\",\"xaxis\":\"x4\",\"yaxis\":\"y4\"},{\"legendgroup\":\"True\",\"line\":{\"color\":\"#000000\",\"width\":2},\"mode\":\"lines\",\"name\":\"True\",\"showlegend\":false,\"x\":[87,87],\"y\":[5,9],\"type\":\"scatter\",\"xaxis\":\"x4\",\"yaxis\":\"y4\"},{\"legendgroup\":\"True\",\"line\":{\"color\":\"#000000\",\"width\":2},\"mode\":\"lines\",\"name\":\"True\",\"showlegend\":false,\"x\":[71,71],\"y\":[3,5],\"type\":\"scatter\",\"xaxis\":\"x4\",\"yaxis\":\"y4\"},{\"legendgroup\":\"True\",\"line\":{\"color\":\"#000000\",\"width\":2},\"mode\":\"lines\",\"name\":\"True\",\"showlegend\":false,\"x\":[71,71],\"y\":[5,8],\"type\":\"scatter\",\"xaxis\":\"x4\",\"yaxis\":\"y4\"},{\"legendgroup\":\"True\",\"line\":{\"color\":\"#000000\",\"width\":2},\"mode\":\"lines\",\"name\":\"True\",\"showlegend\":false,\"x\":[48,48],\"y\":[3,5],\"type\":\"scatter\",\"xaxis\":\"x4\",\"yaxis\":\"y4\"},{\"legendgroup\":\"True\",\"line\":{\"color\":\"#000000\",\"width\":2},\"mode\":\"lines\",\"name\":\"True\",\"showlegend\":false,\"x\":[48,48],\"y\":[5,6],\"type\":\"scatter\",\"xaxis\":\"x4\",\"yaxis\":\"y4\"},{\"legendgroup\":\"True\",\"line\":{\"color\":\"#000000\",\"width\":2},\"mode\":\"lines\",\"name\":\"True\",\"showlegend\":false,\"x\":[122,122],\"y\":[3,5],\"type\":\"scatter\",\"xaxis\":\"x4\",\"yaxis\":\"y4\"},{\"legendgroup\":\"True\",\"line\":{\"color\":\"#000000\",\"width\":2},\"mode\":\"lines\",\"name\":\"True\",\"showlegend\":false,\"x\":[122,122],\"y\":[5,6],\"type\":\"scatter\",\"xaxis\":\"x4\",\"yaxis\":\"y4\"},{\"legendgroup\":\"True\",\"line\":{\"color\":\"#000000\",\"width\":2},\"mode\":\"lines\",\"name\":\"True\",\"showlegend\":false,\"x\":[122,122],\"y\":[6,8],\"type\":\"scatter\",\"xaxis\":\"x4\",\"yaxis\":\"y4\"},{\"legendgroup\":\"True\",\"line\":{\"color\":\"#000000\",\"width\":2},\"mode\":\"lines\",\"name\":\"True\",\"showlegend\":false,\"x\":[86,86],\"y\":[3,5],\"type\":\"scatter\",\"xaxis\":\"x4\",\"yaxis\":\"y4\"},{\"legendgroup\":\"True\",\"line\":{\"color\":\"#000000\",\"width\":2},\"mode\":\"lines\",\"name\":\"True\",\"showlegend\":false,\"x\":[86,86],\"y\":[5,6],\"type\":\"scatter\",\"xaxis\":\"x4\",\"yaxis\":\"y4\"},{\"legendgroup\":\"True\",\"line\":{\"color\":\"#000000\",\"width\":2},\"mode\":\"lines\",\"name\":\"True\",\"showlegend\":false,\"x\":[86,86],\"y\":[6,8],\"type\":\"scatter\",\"xaxis\":\"x4\",\"yaxis\":\"y4\"},{\"legendgroup\":\"True\",\"line\":{\"color\":\"#000000\",\"width\":2},\"mode\":\"lines\",\"name\":\"True\",\"showlegend\":false,\"x\":[86,86],\"y\":[8,9],\"type\":\"scatter\",\"xaxis\":\"x4\",\"yaxis\":\"y4\"},{\"legendgroup\":\"True\",\"line\":{\"color\":\"#000000\",\"width\":2},\"mode\":\"lines\",\"name\":\"True\",\"showlegend\":false,\"x\":[121,121],\"y\":[3,5],\"type\":\"scatter\",\"xaxis\":\"x4\",\"yaxis\":\"y4\"},{\"legendgroup\":\"True\",\"line\":{\"color\":\"#000000\",\"width\":2},\"mode\":\"lines\",\"name\":\"True\",\"showlegend\":false,\"x\":[121,121],\"y\":[5,6],\"type\":\"scatter\",\"xaxis\":\"x4\",\"yaxis\":\"y4\"},{\"legendgroup\":\"True\",\"line\":{\"color\":\"#000000\",\"width\":2},\"mode\":\"lines\",\"name\":\"True\",\"showlegend\":false,\"x\":[121,121],\"y\":[6,7],\"type\":\"scatter\",\"xaxis\":\"x4\",\"yaxis\":\"y4\"},{\"legendgroup\":\"True\",\"line\":{\"color\":\"#000000\",\"width\":2},\"mode\":\"lines\",\"name\":\"True\",\"showlegend\":false,\"x\":[70,70],\"y\":[3,4],\"type\":\"scatter\",\"xaxis\":\"x4\",\"yaxis\":\"y4\"},{\"legendgroup\":\"True\",\"line\":{\"color\":\"#000000\",\"width\":2},\"mode\":\"lines\",\"name\":\"True\",\"showlegend\":false,\"x\":[120,120],\"y\":[3,4],\"type\":\"scatter\",\"xaxis\":\"x4\",\"yaxis\":\"y4\"},{\"legendgroup\":\"True\",\"line\":{\"color\":\"#000000\",\"width\":2},\"mode\":\"lines\",\"name\":\"True\",\"showlegend\":false,\"x\":[120,120],\"y\":[4,6],\"type\":\"scatter\",\"xaxis\":\"x4\",\"yaxis\":\"y4\"},{\"legendgroup\":\"True\",\"line\":{\"color\":\"#000000\",\"width\":2},\"mode\":\"lines\",\"name\":\"True\",\"showlegend\":false,\"x\":[69,69],\"y\":[3,4],\"type\":\"scatter\",\"xaxis\":\"x4\",\"yaxis\":\"y4\"},{\"legendgroup\":\"True\",\"line\":{\"color\":\"#000000\",\"width\":2},\"mode\":\"lines\",\"name\":\"True\",\"showlegend\":false,\"x\":[69,69],\"y\":[4,5],\"type\":\"scatter\",\"xaxis\":\"x4\",\"yaxis\":\"y4\"},{\"legendgroup\":\"True\",\"line\":{\"color\":\"#000000\",\"width\":2},\"mode\":\"lines\",\"name\":\"True\",\"showlegend\":false,\"x\":[85,85],\"y\":[3,4],\"type\":\"scatter\",\"xaxis\":\"x4\",\"yaxis\":\"y4\"},{\"legendgroup\":\"True\",\"line\":{\"color\":\"#000000\",\"width\":2},\"mode\":\"lines\",\"name\":\"True\",\"showlegend\":false,\"x\":[85,85],\"y\":[4,5],\"type\":\"scatter\",\"xaxis\":\"x4\",\"yaxis\":\"y4\"},{\"legendgroup\":\"True\",\"line\":{\"color\":\"#000000\",\"width\":2},\"mode\":\"lines\",\"name\":\"True\",\"showlegend\":false,\"x\":[85,85],\"y\":[5,6],\"type\":\"scatter\",\"xaxis\":\"x4\",\"yaxis\":\"y4\"},{\"legendgroup\":\"True\",\"line\":{\"color\":\"#000000\",\"width\":2},\"mode\":\"lines\",\"name\":\"True\",\"showlegend\":false,\"x\":[60,60],\"y\":[2,5],\"type\":\"scatter\",\"xaxis\":\"x4\",\"yaxis\":\"y4\"},{\"legendgroup\":\"True\",\"line\":{\"color\":\"#000000\",\"width\":2},\"mode\":\"lines\",\"name\":\"True\",\"showlegend\":false,\"x\":[119,119],\"y\":[2,5],\"type\":\"scatter\",\"xaxis\":\"x4\",\"yaxis\":\"y4\"},{\"legendgroup\":\"True\",\"line\":{\"color\":\"#000000\",\"width\":2},\"mode\":\"lines\",\"name\":\"True\",\"showlegend\":false,\"x\":[119,119],\"y\":[5,6],\"type\":\"scatter\",\"xaxis\":\"x4\",\"yaxis\":\"y4\"},{\"legendgroup\":\"True\",\"line\":{\"color\":\"#000000\",\"width\":2},\"mode\":\"lines\",\"name\":\"True\",\"showlegend\":false,\"x\":[118,118],\"y\":[2,5],\"type\":\"scatter\",\"xaxis\":\"x4\",\"yaxis\":\"y4\"},{\"legendgroup\":\"True\",\"line\":{\"color\":\"#000000\",\"width\":2},\"mode\":\"lines\",\"name\":\"True\",\"showlegend\":false,\"x\":[118,118],\"y\":[5,6],\"type\":\"scatter\",\"xaxis\":\"x4\",\"yaxis\":\"y4\"},{\"legendgroup\":\"True\",\"line\":{\"color\":\"#000000\",\"width\":2},\"mode\":\"lines\",\"name\":\"True\",\"showlegend\":false,\"x\":[118,118],\"y\":[6,9],\"type\":\"scatter\",\"xaxis\":\"x4\",\"yaxis\":\"y4\"},{\"legendgroup\":\"True\",\"line\":{\"color\":\"#000000\",\"width\":2},\"mode\":\"lines\",\"name\":\"True\",\"showlegend\":false,\"x\":[43,43],\"y\":[1,9],\"type\":\"scatter\",\"xaxis\":\"x4\",\"yaxis\":\"y4\"},{\"legendgroup\":\"True\",\"line\":{\"color\":\"#000000\",\"width\":2},\"mode\":\"lines\",\"name\":\"True\",\"showlegend\":false,\"x\":[40,40],\"y\":[1,8],\"type\":\"scatter\",\"xaxis\":\"x4\",\"yaxis\":\"y4\"},{\"legendgroup\":\"True\",\"line\":{\"color\":\"#000000\",\"width\":2},\"mode\":\"lines\",\"name\":\"True\",\"showlegend\":false,\"x\":[117,117],\"y\":[1,7],\"type\":\"scatter\",\"xaxis\":\"x4\",\"yaxis\":\"y4\"},{\"legendgroup\":\"True\",\"line\":{\"color\":\"#000000\",\"width\":2},\"mode\":\"lines\",\"name\":\"True\",\"showlegend\":false,\"x\":[17,17],\"y\":[1,6],\"type\":\"scatter\",\"xaxis\":\"x4\",\"yaxis\":\"y4\"},{\"legendgroup\":\"True\",\"line\":{\"color\":\"#000000\",\"width\":2},\"mode\":\"lines\",\"name\":\"True\",\"showlegend\":false,\"x\":[116,116],\"y\":[1,6],\"type\":\"scatter\",\"xaxis\":\"x4\",\"yaxis\":\"y4\"},{\"legendgroup\":\"True\",\"line\":{\"color\":\"#000000\",\"width\":2},\"mode\":\"lines\",\"name\":\"True\",\"showlegend\":false,\"x\":[116,116],\"y\":[6,9],\"type\":\"scatter\",\"xaxis\":\"x4\",\"yaxis\":\"y4\"},{\"legendgroup\":\"True\",\"line\":{\"color\":\"#000000\",\"width\":2},\"mode\":\"lines\",\"name\":\"True\",\"showlegend\":false,\"x\":[37,37],\"y\":[1,6],\"type\":\"scatter\",\"xaxis\":\"x4\",\"yaxis\":\"y4\"},{\"legendgroup\":\"True\",\"line\":{\"color\":\"#000000\",\"width\":2},\"mode\":\"lines\",\"name\":\"True\",\"showlegend\":false,\"x\":[37,37],\"y\":[6,8],\"type\":\"scatter\",\"xaxis\":\"x4\",\"yaxis\":\"y4\"},{\"legendgroup\":\"True\",\"line\":{\"color\":\"#000000\",\"width\":2},\"mode\":\"lines\",\"name\":\"True\",\"showlegend\":false,\"x\":[115,115],\"y\":[1,6],\"type\":\"scatter\",\"xaxis\":\"x4\",\"yaxis\":\"y4\"},{\"legendgroup\":\"True\",\"line\":{\"color\":\"#000000\",\"width\":2},\"mode\":\"lines\",\"name\":\"True\",\"showlegend\":false,\"x\":[115,115],\"y\":[6,7],\"type\":\"scatter\",\"xaxis\":\"x4\",\"yaxis\":\"y4\"},{\"legendgroup\":\"True\",\"line\":{\"color\":\"#000000\",\"width\":2},\"mode\":\"lines\",\"name\":\"True\",\"showlegend\":false,\"x\":[14,14],\"y\":[1,5],\"type\":\"scatter\",\"xaxis\":\"x4\",\"yaxis\":\"y4\"},{\"legendgroup\":\"True\",\"line\":{\"color\":\"#000000\",\"width\":2},\"mode\":\"lines\",\"name\":\"True\",\"showlegend\":false,\"x\":[31,31],\"y\":[1,5],\"type\":\"scatter\",\"xaxis\":\"x4\",\"yaxis\":\"y4\"},{\"legendgroup\":\"True\",\"line\":{\"color\":\"#000000\",\"width\":2},\"mode\":\"lines\",\"name\":\"True\",\"showlegend\":false,\"x\":[31,31],\"y\":[5,9],\"type\":\"scatter\",\"xaxis\":\"x4\",\"yaxis\":\"y4\"},{\"legendgroup\":\"True\",\"line\":{\"color\":\"#000000\",\"width\":2},\"mode\":\"lines\",\"name\":\"True\",\"showlegend\":false,\"x\":[45,45],\"y\":[1,5],\"type\":\"scatter\",\"xaxis\":\"x4\",\"yaxis\":\"y4\"},{\"legendgroup\":\"True\",\"line\":{\"color\":\"#000000\",\"width\":2},\"mode\":\"lines\",\"name\":\"True\",\"showlegend\":false,\"x\":[45,45],\"y\":[5,8],\"type\":\"scatter\",\"xaxis\":\"x4\",\"yaxis\":\"y4\"},{\"legendgroup\":\"True\",\"line\":{\"color\":\"#000000\",\"width\":2},\"mode\":\"lines\",\"name\":\"True\",\"showlegend\":false,\"x\":[59,59],\"y\":[1,5],\"type\":\"scatter\",\"xaxis\":\"x4\",\"yaxis\":\"y4\"},{\"legendgroup\":\"True\",\"line\":{\"color\":\"#000000\",\"width\":2},\"mode\":\"lines\",\"name\":\"True\",\"showlegend\":false,\"x\":[59,59],\"y\":[5,8],\"type\":\"scatter\",\"xaxis\":\"x4\",\"yaxis\":\"y4\"},{\"legendgroup\":\"True\",\"line\":{\"color\":\"#000000\",\"width\":2},\"mode\":\"lines\",\"name\":\"True\",\"showlegend\":false,\"x\":[59,59],\"y\":[8,9],\"type\":\"scatter\",\"xaxis\":\"x4\",\"yaxis\":\"y4\"},{\"legendgroup\":\"True\",\"line\":{\"color\":\"#000000\",\"width\":2},\"mode\":\"lines\",\"name\":\"True\",\"showlegend\":false,\"x\":[15,15],\"y\":[1,5],\"type\":\"scatter\",\"xaxis\":\"x4\",\"yaxis\":\"y4\"},{\"legendgroup\":\"True\",\"line\":{\"color\":\"#000000\",\"width\":2},\"mode\":\"lines\",\"name\":\"True\",\"showlegend\":false,\"x\":[15,15],\"y\":[5,6],\"type\":\"scatter\",\"xaxis\":\"x4\",\"yaxis\":\"y4\"},{\"legendgroup\":\"True\",\"line\":{\"color\":\"#000000\",\"width\":2},\"mode\":\"lines\",\"name\":\"True\",\"showlegend\":false,\"x\":[11,11],\"y\":[1,5],\"type\":\"scatter\",\"xaxis\":\"x4\",\"yaxis\":\"y4\"},{\"legendgroup\":\"True\",\"line\":{\"color\":\"#000000\",\"width\":2},\"mode\":\"lines\",\"name\":\"True\",\"showlegend\":false,\"x\":[11,11],\"y\":[5,6],\"type\":\"scatter\",\"xaxis\":\"x4\",\"yaxis\":\"y4\"},{\"legendgroup\":\"True\",\"line\":{\"color\":\"#000000\",\"width\":2},\"mode\":\"lines\",\"name\":\"True\",\"showlegend\":false,\"x\":[11,11],\"y\":[6,9],\"type\":\"scatter\",\"xaxis\":\"x4\",\"yaxis\":\"y4\"},{\"legendgroup\":\"True\",\"line\":{\"color\":\"#000000\",\"width\":2},\"mode\":\"lines\",\"name\":\"True\",\"showlegend\":false,\"x\":[29,29],\"y\":[1,5],\"type\":\"scatter\",\"xaxis\":\"x4\",\"yaxis\":\"y4\"},{\"legendgroup\":\"True\",\"line\":{\"color\":\"#000000\",\"width\":2},\"mode\":\"lines\",\"name\":\"True\",\"showlegend\":false,\"x\":[29,29],\"y\":[5,6],\"type\":\"scatter\",\"xaxis\":\"x4\",\"yaxis\":\"y4\"},{\"legendgroup\":\"True\",\"line\":{\"color\":\"#000000\",\"width\":2},\"mode\":\"lines\",\"name\":\"True\",\"showlegend\":false,\"x\":[29,29],\"y\":[6,8],\"type\":\"scatter\",\"xaxis\":\"x4\",\"yaxis\":\"y4\"},{\"legendgroup\":\"True\",\"line\":{\"color\":\"#000000\",\"width\":2},\"mode\":\"lines\",\"name\":\"True\",\"showlegend\":false,\"x\":[58,58],\"y\":[1,5],\"type\":\"scatter\",\"xaxis\":\"x4\",\"yaxis\":\"y4\"},{\"legendgroup\":\"True\",\"line\":{\"color\":\"#000000\",\"width\":2},\"mode\":\"lines\",\"name\":\"True\",\"showlegend\":false,\"x\":[58,58],\"y\":[5,6],\"type\":\"scatter\",\"xaxis\":\"x4\",\"yaxis\":\"y4\"},{\"legendgroup\":\"True\",\"line\":{\"color\":\"#000000\",\"width\":2},\"mode\":\"lines\",\"name\":\"True\",\"showlegend\":false,\"x\":[58,58],\"y\":[6,8],\"type\":\"scatter\",\"xaxis\":\"x4\",\"yaxis\":\"y4\"},{\"legendgroup\":\"True\",\"line\":{\"color\":\"#000000\",\"width\":2},\"mode\":\"lines\",\"name\":\"True\",\"showlegend\":false,\"x\":[58,58],\"y\":[8,9],\"type\":\"scatter\",\"xaxis\":\"x4\",\"yaxis\":\"y4\"},{\"legendgroup\":\"True\",\"line\":{\"color\":\"#000000\",\"width\":2},\"mode\":\"lines\",\"name\":\"True\",\"showlegend\":false,\"x\":[68,68],\"y\":[1,5],\"type\":\"scatter\",\"xaxis\":\"x4\",\"yaxis\":\"y4\"},{\"legendgroup\":\"True\",\"line\":{\"color\":\"#000000\",\"width\":2},\"mode\":\"lines\",\"name\":\"True\",\"showlegend\":false,\"x\":[68,68],\"y\":[5,6],\"type\":\"scatter\",\"xaxis\":\"x4\",\"yaxis\":\"y4\"},{\"legendgroup\":\"True\",\"line\":{\"color\":\"#000000\",\"width\":2},\"mode\":\"lines\",\"name\":\"True\",\"showlegend\":false,\"x\":[68,68],\"y\":[6,7],\"type\":\"scatter\",\"xaxis\":\"x4\",\"yaxis\":\"y4\"},{\"legendgroup\":\"True\",\"line\":{\"color\":\"#000000\",\"width\":2},\"mode\":\"lines\",\"name\":\"True\",\"showlegend\":false,\"x\":[84,84],\"y\":[1,4],\"type\":\"scatter\",\"xaxis\":\"x4\",\"yaxis\":\"y4\"},{\"legendgroup\":\"True\",\"line\":{\"color\":\"#000000\",\"width\":2},\"mode\":\"lines\",\"name\":\"True\",\"showlegend\":false,\"x\":[114,114],\"y\":[1,4],\"type\":\"scatter\",\"xaxis\":\"x4\",\"yaxis\":\"y4\"},{\"legendgroup\":\"True\",\"line\":{\"color\":\"#000000\",\"width\":2},\"mode\":\"lines\",\"name\":\"True\",\"showlegend\":false,\"x\":[114,114],\"y\":[4,5],\"type\":\"scatter\",\"xaxis\":\"x4\",\"yaxis\":\"y4\"},{\"legendgroup\":\"True\",\"line\":{\"color\":\"#000000\",\"width\":2},\"mode\":\"lines\",\"name\":\"True\",\"showlegend\":false,\"x\":[113,113],\"y\":[1,4],\"type\":\"scatter\",\"xaxis\":\"x4\",\"yaxis\":\"y4\"},{\"legendgroup\":\"True\",\"line\":{\"color\":\"#000000\",\"width\":2},\"mode\":\"lines\",\"name\":\"True\",\"showlegend\":false,\"x\":[113,113],\"y\":[4,5],\"type\":\"scatter\",\"xaxis\":\"x4\",\"yaxis\":\"y4\"},{\"legendgroup\":\"True\",\"line\":{\"color\":\"#000000\",\"width\":2},\"mode\":\"lines\",\"name\":\"True\",\"showlegend\":false,\"x\":[113,113],\"y\":[5,6],\"type\":\"scatter\",\"xaxis\":\"x4\",\"yaxis\":\"y4\"},{\"legendgroup\":\"True\",\"line\":{\"color\":\"#000000\",\"width\":2},\"mode\":\"lines\",\"name\":\"True\",\"showlegend\":false,\"x\":[67,67],\"y\":[1,3],\"type\":\"scatter\",\"xaxis\":\"x4\",\"yaxis\":\"y4\"},{\"legendgroup\":\"True\",\"line\":{\"color\":\"#000000\",\"width\":2},\"mode\":\"lines\",\"name\":\"True\",\"showlegend\":false,\"x\":[112,112],\"y\":[1,3],\"type\":\"scatter\",\"xaxis\":\"x4\",\"yaxis\":\"y4\"},{\"legendgroup\":\"True\",\"line\":{\"color\":\"#000000\",\"width\":2},\"mode\":\"lines\",\"name\":\"True\",\"showlegend\":false,\"x\":[112,112],\"y\":[3,9],\"type\":\"scatter\",\"xaxis\":\"x4\",\"yaxis\":\"y4\"},{\"legendgroup\":\"True\",\"line\":{\"color\":\"#000000\",\"width\":2},\"mode\":\"lines\",\"name\":\"True\",\"showlegend\":false,\"x\":[111,111],\"y\":[1,3],\"type\":\"scatter\",\"xaxis\":\"x4\",\"yaxis\":\"y4\"},{\"legendgroup\":\"True\",\"line\":{\"color\":\"#000000\",\"width\":2},\"mode\":\"lines\",\"name\":\"True\",\"showlegend\":false,\"x\":[111,111],\"y\":[3,6],\"type\":\"scatter\",\"xaxis\":\"x4\",\"yaxis\":\"y4\"},{\"legendgroup\":\"True\",\"line\":{\"color\":\"#000000\",\"width\":2},\"mode\":\"lines\",\"name\":\"True\",\"showlegend\":false,\"x\":[111,111],\"y\":[6,9],\"type\":\"scatter\",\"xaxis\":\"x4\",\"yaxis\":\"y4\"},{\"legendgroup\":\"True\",\"line\":{\"color\":\"#000000\",\"width\":2},\"mode\":\"lines\",\"name\":\"True\",\"showlegend\":false,\"x\":[56,56],\"y\":[1,3],\"type\":\"scatter\",\"xaxis\":\"x4\",\"yaxis\":\"y4\"},{\"legendgroup\":\"True\",\"line\":{\"color\":\"#000000\",\"width\":2},\"mode\":\"lines\",\"name\":\"True\",\"showlegend\":false,\"x\":[56,56],\"y\":[3,5],\"type\":\"scatter\",\"xaxis\":\"x4\",\"yaxis\":\"y4\"},{\"legendgroup\":\"True\",\"line\":{\"color\":\"#000000\",\"width\":2},\"mode\":\"lines\",\"name\":\"True\",\"showlegend\":false,\"x\":[62,62],\"y\":[1,3],\"type\":\"scatter\",\"xaxis\":\"x4\",\"yaxis\":\"y4\"},{\"legendgroup\":\"True\",\"line\":{\"color\":\"#000000\",\"width\":2},\"mode\":\"lines\",\"name\":\"True\",\"showlegend\":false,\"x\":[62,62],\"y\":[3,5],\"type\":\"scatter\",\"xaxis\":\"x4\",\"yaxis\":\"y4\"},{\"legendgroup\":\"True\",\"line\":{\"color\":\"#000000\",\"width\":2},\"mode\":\"lines\",\"name\":\"True\",\"showlegend\":false,\"x\":[62,62],\"y\":[5,6],\"type\":\"scatter\",\"xaxis\":\"x4\",\"yaxis\":\"y4\"},{\"legendgroup\":\"True\",\"line\":{\"color\":\"#000000\",\"width\":2},\"mode\":\"lines\",\"name\":\"True\",\"showlegend\":false,\"x\":[110,110],\"y\":[1,3],\"type\":\"scatter\",\"xaxis\":\"x4\",\"yaxis\":\"y4\"},{\"legendgroup\":\"True\",\"line\":{\"color\":\"#000000\",\"width\":2},\"mode\":\"lines\",\"name\":\"True\",\"showlegend\":false,\"x\":[110,110],\"y\":[3,4],\"type\":\"scatter\",\"xaxis\":\"x4\",\"yaxis\":\"y4\"},{\"legendgroup\":\"True\",\"line\":{\"color\":\"#000000\",\"width\":2},\"mode\":\"lines\",\"name\":\"True\",\"showlegend\":false,\"x\":[110,110],\"y\":[4,5],\"type\":\"scatter\",\"xaxis\":\"x4\",\"yaxis\":\"y4\"},{\"legendgroup\":\"True\",\"line\":{\"color\":\"#000000\",\"width\":2},\"mode\":\"lines\",\"name\":\"True\",\"showlegend\":false,\"x\":[110,110],\"y\":[5,8],\"type\":\"scatter\",\"xaxis\":\"x4\",\"yaxis\":\"y4\"},{\"legendgroup\":\"True\",\"line\":{\"color\":\"#000000\",\"width\":2},\"mode\":\"lines\",\"name\":\"True\",\"showlegend\":false,\"x\":[109,109],\"y\":[0,9],\"type\":\"scatter\",\"xaxis\":\"x4\",\"yaxis\":\"y4\"},{\"legendgroup\":\"True\",\"line\":{\"color\":\"#000000\",\"width\":2},\"mode\":\"lines\",\"name\":\"True\",\"showlegend\":false,\"x\":[26,26],\"y\":[0,8],\"type\":\"scatter\",\"xaxis\":\"x4\",\"yaxis\":\"y4\"},{\"legendgroup\":\"True\",\"line\":{\"color\":\"#000000\",\"width\":2},\"mode\":\"lines\",\"name\":\"True\",\"showlegend\":false,\"x\":[66,66],\"y\":[0,8],\"type\":\"scatter\",\"xaxis\":\"x4\",\"yaxis\":\"y4\"},{\"legendgroup\":\"True\",\"line\":{\"color\":\"#000000\",\"width\":2},\"mode\":\"lines\",\"name\":\"True\",\"showlegend\":false,\"x\":[66,66],\"y\":[8,9],\"type\":\"scatter\",\"xaxis\":\"x4\",\"yaxis\":\"y4\"},{\"legendgroup\":\"True\",\"line\":{\"color\":\"#000000\",\"width\":2},\"mode\":\"lines\",\"name\":\"True\",\"showlegend\":false,\"x\":[108,108],\"y\":[0,7],\"type\":\"scatter\",\"xaxis\":\"x4\",\"yaxis\":\"y4\"},{\"legendgroup\":\"True\",\"line\":{\"color\":\"#000000\",\"width\":2},\"mode\":\"lines\",\"name\":\"True\",\"showlegend\":false,\"x\":[30,30],\"y\":[0,6],\"type\":\"scatter\",\"xaxis\":\"x4\",\"yaxis\":\"y4\"},{\"legendgroup\":\"True\",\"line\":{\"color\":\"#000000\",\"width\":2},\"mode\":\"lines\",\"name\":\"True\",\"showlegend\":false,\"x\":[107,107],\"y\":[0,6],\"type\":\"scatter\",\"xaxis\":\"x4\",\"yaxis\":\"y4\"},{\"legendgroup\":\"True\",\"line\":{\"color\":\"#000000\",\"width\":2},\"mode\":\"lines\",\"name\":\"True\",\"showlegend\":false,\"x\":[107,107],\"y\":[6,8],\"type\":\"scatter\",\"xaxis\":\"x4\",\"yaxis\":\"y4\"},{\"legendgroup\":\"True\",\"line\":{\"color\":\"#000000\",\"width\":2},\"mode\":\"lines\",\"name\":\"True\",\"showlegend\":false,\"x\":[106,106],\"y\":[0,6],\"type\":\"scatter\",\"xaxis\":\"x4\",\"yaxis\":\"y4\"},{\"legendgroup\":\"True\",\"line\":{\"color\":\"#000000\",\"width\":2},\"mode\":\"lines\",\"name\":\"True\",\"showlegend\":false,\"x\":[106,106],\"y\":[6,8],\"type\":\"scatter\",\"xaxis\":\"x4\",\"yaxis\":\"y4\"},{\"legendgroup\":\"True\",\"line\":{\"color\":\"#000000\",\"width\":2},\"mode\":\"lines\",\"name\":\"True\",\"showlegend\":false,\"x\":[106,106],\"y\":[8,9],\"type\":\"scatter\",\"xaxis\":\"x4\",\"yaxis\":\"y4\"},{\"legendgroup\":\"True\",\"line\":{\"color\":\"#000000\",\"width\":2},\"mode\":\"lines\",\"name\":\"True\",\"showlegend\":false,\"x\":[21,21],\"y\":[0,5],\"type\":\"scatter\",\"xaxis\":\"x4\",\"yaxis\":\"y4\"},{\"legendgroup\":\"True\",\"line\":{\"color\":\"#000000\",\"width\":2},\"mode\":\"lines\",\"name\":\"True\",\"showlegend\":false,\"x\":[61,61],\"y\":[0,5],\"type\":\"scatter\",\"xaxis\":\"x4\",\"yaxis\":\"y4\"},{\"legendgroup\":\"True\",\"line\":{\"color\":\"#000000\",\"width\":2},\"mode\":\"lines\",\"name\":\"True\",\"showlegend\":false,\"x\":[61,61],\"y\":[5,9],\"type\":\"scatter\",\"xaxis\":\"x4\",\"yaxis\":\"y4\"},{\"legendgroup\":\"True\",\"line\":{\"color\":\"#000000\",\"width\":2},\"mode\":\"lines\",\"name\":\"True\",\"showlegend\":false,\"x\":[46,46],\"y\":[0,5],\"type\":\"scatter\",\"xaxis\":\"x4\",\"yaxis\":\"y4\"},{\"legendgroup\":\"True\",\"line\":{\"color\":\"#000000\",\"width\":2},\"mode\":\"lines\",\"name\":\"True\",\"showlegend\":false,\"x\":[46,46],\"y\":[5,8],\"type\":\"scatter\",\"xaxis\":\"x4\",\"yaxis\":\"y4\"},{\"legendgroup\":\"True\",\"line\":{\"color\":\"#000000\",\"width\":2},\"mode\":\"lines\",\"name\":\"True\",\"showlegend\":false,\"x\":[83,83],\"y\":[0,5],\"type\":\"scatter\",\"xaxis\":\"x4\",\"yaxis\":\"y4\"},{\"legendgroup\":\"True\",\"line\":{\"color\":\"#000000\",\"width\":2},\"mode\":\"lines\",\"name\":\"True\",\"showlegend\":false,\"x\":[83,83],\"y\":[5,8],\"type\":\"scatter\",\"xaxis\":\"x4\",\"yaxis\":\"y4\"},{\"legendgroup\":\"True\",\"line\":{\"color\":\"#000000\",\"width\":2},\"mode\":\"lines\",\"name\":\"True\",\"showlegend\":false,\"x\":[83,83],\"y\":[8,9],\"type\":\"scatter\",\"xaxis\":\"x4\",\"yaxis\":\"y4\"},{\"legendgroup\":\"True\",\"line\":{\"color\":\"#000000\",\"width\":2},\"mode\":\"lines\",\"name\":\"True\",\"showlegend\":false,\"x\":[82,82],\"y\":[0,5],\"type\":\"scatter\",\"xaxis\":\"x4\",\"yaxis\":\"y4\"},{\"legendgroup\":\"True\",\"line\":{\"color\":\"#000000\",\"width\":2},\"mode\":\"lines\",\"name\":\"True\",\"showlegend\":false,\"x\":[82,82],\"y\":[5,7],\"type\":\"scatter\",\"xaxis\":\"x4\",\"yaxis\":\"y4\"},{\"legendgroup\":\"True\",\"line\":{\"color\":\"#000000\",\"width\":2},\"mode\":\"lines\",\"name\":\"True\",\"showlegend\":false,\"x\":[20,20],\"y\":[0,5],\"type\":\"scatter\",\"xaxis\":\"x4\",\"yaxis\":\"y4\"},{\"legendgroup\":\"True\",\"line\":{\"color\":\"#000000\",\"width\":2},\"mode\":\"lines\",\"name\":\"True\",\"showlegend\":false,\"x\":[20,20],\"y\":[5,6],\"type\":\"scatter\",\"xaxis\":\"x4\",\"yaxis\":\"y4\"},{\"legendgroup\":\"True\",\"line\":{\"color\":\"#000000\",\"width\":2},\"mode\":\"lines\",\"name\":\"True\",\"showlegend\":false,\"x\":[81,81],\"y\":[0,5],\"type\":\"scatter\",\"xaxis\":\"x4\",\"yaxis\":\"y4\"},{\"legendgroup\":\"True\",\"line\":{\"color\":\"#000000\",\"width\":2},\"mode\":\"lines\",\"name\":\"True\",\"showlegend\":false,\"x\":[81,81],\"y\":[5,6],\"type\":\"scatter\",\"xaxis\":\"x4\",\"yaxis\":\"y4\"},{\"legendgroup\":\"True\",\"line\":{\"color\":\"#000000\",\"width\":2},\"mode\":\"lines\",\"name\":\"True\",\"showlegend\":false,\"x\":[81,81],\"y\":[6,9],\"type\":\"scatter\",\"xaxis\":\"x4\",\"yaxis\":\"y4\"},{\"legendgroup\":\"True\",\"line\":{\"color\":\"#000000\",\"width\":2},\"mode\":\"lines\",\"name\":\"True\",\"showlegend\":false,\"x\":[47,47],\"y\":[0,5],\"type\":\"scatter\",\"xaxis\":\"x4\",\"yaxis\":\"y4\"},{\"legendgroup\":\"True\",\"line\":{\"color\":\"#000000\",\"width\":2},\"mode\":\"lines\",\"name\":\"True\",\"showlegend\":false,\"x\":[47,47],\"y\":[5,6],\"type\":\"scatter\",\"xaxis\":\"x4\",\"yaxis\":\"y4\"},{\"legendgroup\":\"True\",\"line\":{\"color\":\"#000000\",\"width\":2},\"mode\":\"lines\",\"name\":\"True\",\"showlegend\":false,\"x\":[47,47],\"y\":[6,8],\"type\":\"scatter\",\"xaxis\":\"x4\",\"yaxis\":\"y4\"},{\"legendgroup\":\"True\",\"line\":{\"color\":\"#000000\",\"width\":2},\"mode\":\"lines\",\"name\":\"True\",\"showlegend\":false,\"x\":[80,80],\"y\":[0,5],\"type\":\"scatter\",\"xaxis\":\"x4\",\"yaxis\":\"y4\"},{\"legendgroup\":\"True\",\"line\":{\"color\":\"#000000\",\"width\":2},\"mode\":\"lines\",\"name\":\"True\",\"showlegend\":false,\"x\":[80,80],\"y\":[5,6],\"type\":\"scatter\",\"xaxis\":\"x4\",\"yaxis\":\"y4\"},{\"legendgroup\":\"True\",\"line\":{\"color\":\"#000000\",\"width\":2},\"mode\":\"lines\",\"name\":\"True\",\"showlegend\":false,\"x\":[80,80],\"y\":[6,8],\"type\":\"scatter\",\"xaxis\":\"x4\",\"yaxis\":\"y4\"},{\"legendgroup\":\"True\",\"line\":{\"color\":\"#000000\",\"width\":2},\"mode\":\"lines\",\"name\":\"True\",\"showlegend\":false,\"x\":[80,80],\"y\":[8,9],\"type\":\"scatter\",\"xaxis\":\"x4\",\"yaxis\":\"y4\"},{\"legendgroup\":\"True\",\"line\":{\"color\":\"#000000\",\"width\":2},\"mode\":\"lines\",\"name\":\"True\",\"showlegend\":false,\"x\":[57,57],\"y\":[0,4],\"type\":\"scatter\",\"xaxis\":\"x4\",\"yaxis\":\"y4\"},{\"legendgroup\":\"True\",\"line\":{\"color\":\"#000000\",\"width\":2},\"mode\":\"lines\",\"name\":\"True\",\"showlegend\":false,\"x\":[33,33],\"y\":[0,4],\"type\":\"scatter\",\"xaxis\":\"x4\",\"yaxis\":\"y4\"},{\"legendgroup\":\"True\",\"line\":{\"color\":\"#000000\",\"width\":2},\"mode\":\"lines\",\"name\":\"True\",\"showlegend\":false,\"x\":[33,33],\"y\":[4,8],\"type\":\"scatter\",\"xaxis\":\"x4\",\"yaxis\":\"y4\"},{\"legendgroup\":\"True\",\"line\":{\"color\":\"#000000\",\"width\":2},\"mode\":\"lines\",\"name\":\"True\",\"showlegend\":false,\"x\":[105,105],\"y\":[0,4],\"type\":\"scatter\",\"xaxis\":\"x4\",\"yaxis\":\"y4\"},{\"legendgroup\":\"True\",\"line\":{\"color\":\"#000000\",\"width\":2},\"mode\":\"lines\",\"name\":\"True\",\"showlegend\":false,\"x\":[105,105],\"y\":[4,6],\"type\":\"scatter\",\"xaxis\":\"x4\",\"yaxis\":\"y4\"},{\"legendgroup\":\"True\",\"line\":{\"color\":\"#000000\",\"width\":2},\"mode\":\"lines\",\"name\":\"True\",\"showlegend\":false,\"x\":[79,79],\"y\":[0,4],\"type\":\"scatter\",\"xaxis\":\"x4\",\"yaxis\":\"y4\"},{\"legendgroup\":\"True\",\"line\":{\"color\":\"#000000\",\"width\":2},\"mode\":\"lines\",\"name\":\"True\",\"showlegend\":false,\"x\":[79,79],\"y\":[4,5],\"type\":\"scatter\",\"xaxis\":\"x4\",\"yaxis\":\"y4\"},{\"legendgroup\":\"True\",\"line\":{\"color\":\"#000000\",\"width\":2},\"mode\":\"lines\",\"name\":\"True\",\"showlegend\":false,\"x\":[53,53],\"y\":[0,4],\"type\":\"scatter\",\"xaxis\":\"x4\",\"yaxis\":\"y4\"},{\"legendgroup\":\"True\",\"line\":{\"color\":\"#000000\",\"width\":2},\"mode\":\"lines\",\"name\":\"True\",\"showlegend\":false,\"x\":[53,53],\"y\":[4,5],\"type\":\"scatter\",\"xaxis\":\"x4\",\"yaxis\":\"y4\"},{\"legendgroup\":\"True\",\"line\":{\"color\":\"#000000\",\"width\":2},\"mode\":\"lines\",\"name\":\"True\",\"showlegend\":false,\"x\":[53,53],\"y\":[5,6],\"type\":\"scatter\",\"xaxis\":\"x4\",\"yaxis\":\"y4\"},{\"legendgroup\":\"True\",\"line\":{\"color\":\"#000000\",\"width\":2},\"mode\":\"lines\",\"name\":\"True\",\"showlegend\":false,\"x\":[104,104],\"y\":[0,4],\"type\":\"scatter\",\"xaxis\":\"x4\",\"yaxis\":\"y4\"},{\"legendgroup\":\"True\",\"line\":{\"color\":\"#000000\",\"width\":2},\"mode\":\"lines\",\"name\":\"True\",\"showlegend\":false,\"x\":[104,104],\"y\":[4,5],\"type\":\"scatter\",\"xaxis\":\"x4\",\"yaxis\":\"y4\"},{\"legendgroup\":\"True\",\"line\":{\"color\":\"#000000\",\"width\":2},\"mode\":\"lines\",\"name\":\"True\",\"showlegend\":false,\"x\":[104,104],\"y\":[5,6],\"type\":\"scatter\",\"xaxis\":\"x4\",\"yaxis\":\"y4\"},{\"legendgroup\":\"True\",\"line\":{\"color\":\"#000000\",\"width\":2},\"mode\":\"lines\",\"name\":\"True\",\"showlegend\":false,\"x\":[104,104],\"y\":[6,9],\"type\":\"scatter\",\"xaxis\":\"x4\",\"yaxis\":\"y4\"},{\"legendgroup\":\"True\",\"line\":{\"color\":\"#000000\",\"width\":2},\"mode\":\"lines\",\"name\":\"True\",\"showlegend\":false,\"x\":[78,78],\"y\":[0,4],\"type\":\"scatter\",\"xaxis\":\"x4\",\"yaxis\":\"y4\"},{\"legendgroup\":\"True\",\"line\":{\"color\":\"#000000\",\"width\":2},\"mode\":\"lines\",\"name\":\"True\",\"showlegend\":false,\"x\":[78,78],\"y\":[4,5],\"type\":\"scatter\",\"xaxis\":\"x4\",\"yaxis\":\"y4\"},{\"legendgroup\":\"True\",\"line\":{\"color\":\"#000000\",\"width\":2},\"mode\":\"lines\",\"name\":\"True\",\"showlegend\":false,\"x\":[78,78],\"y\":[5,6],\"type\":\"scatter\",\"xaxis\":\"x4\",\"yaxis\":\"y4\"},{\"legendgroup\":\"True\",\"line\":{\"color\":\"#000000\",\"width\":2},\"mode\":\"lines\",\"name\":\"True\",\"showlegend\":false,\"x\":[78,78],\"y\":[6,8],\"type\":\"scatter\",\"xaxis\":\"x4\",\"yaxis\":\"y4\"},{\"legendgroup\":\"True\",\"line\":{\"color\":\"#000000\",\"width\":2},\"mode\":\"lines\",\"name\":\"True\",\"showlegend\":false,\"x\":[27,27],\"y\":[0,3],\"type\":\"scatter\",\"xaxis\":\"x4\",\"yaxis\":\"y4\"},{\"legendgroup\":\"True\",\"line\":{\"color\":\"#000000\",\"width\":2},\"mode\":\"lines\",\"name\":\"True\",\"showlegend\":false,\"x\":[52,52],\"y\":[0,3],\"type\":\"scatter\",\"xaxis\":\"x4\",\"yaxis\":\"y4\"},{\"legendgroup\":\"True\",\"line\":{\"color\":\"#000000\",\"width\":2},\"mode\":\"lines\",\"name\":\"True\",\"showlegend\":false,\"x\":[52,52],\"y\":[3,5],\"type\":\"scatter\",\"xaxis\":\"x4\",\"yaxis\":\"y4\"},{\"legendgroup\":\"True\",\"line\":{\"color\":\"#000000\",\"width\":2},\"mode\":\"lines\",\"name\":\"True\",\"showlegend\":false,\"x\":[77,77],\"y\":[0,3],\"type\":\"scatter\",\"xaxis\":\"x4\",\"yaxis\":\"y4\"},{\"legendgroup\":\"True\",\"line\":{\"color\":\"#000000\",\"width\":2},\"mode\":\"lines\",\"name\":\"True\",\"showlegend\":false,\"x\":[77,77],\"y\":[3,5],\"type\":\"scatter\",\"xaxis\":\"x4\",\"yaxis\":\"y4\"},{\"legendgroup\":\"True\",\"line\":{\"color\":\"#000000\",\"width\":2},\"mode\":\"lines\",\"name\":\"True\",\"showlegend\":false,\"x\":[77,77],\"y\":[5,6],\"type\":\"scatter\",\"xaxis\":\"x4\",\"yaxis\":\"y4\"},{\"legendgroup\":\"True\",\"line\":{\"color\":\"#000000\",\"width\":2},\"mode\":\"lines\",\"name\":\"True\",\"showlegend\":false,\"x\":[76,76],\"y\":[0,3],\"type\":\"scatter\",\"xaxis\":\"x4\",\"yaxis\":\"y4\"},{\"legendgroup\":\"True\",\"line\":{\"color\":\"#000000\",\"width\":2},\"mode\":\"lines\",\"name\":\"True\",\"showlegend\":false,\"x\":[76,76],\"y\":[3,5],\"type\":\"scatter\",\"xaxis\":\"x4\",\"yaxis\":\"y4\"},{\"legendgroup\":\"True\",\"line\":{\"color\":\"#000000\",\"width\":2},\"mode\":\"lines\",\"name\":\"True\",\"showlegend\":false,\"x\":[76,76],\"y\":[5,6],\"type\":\"scatter\",\"xaxis\":\"x4\",\"yaxis\":\"y4\"},{\"legendgroup\":\"True\",\"line\":{\"color\":\"#000000\",\"width\":2},\"mode\":\"lines\",\"name\":\"True\",\"showlegend\":false,\"x\":[76,76],\"y\":[6,8],\"type\":\"scatter\",\"xaxis\":\"x4\",\"yaxis\":\"y4\"},{\"legendgroup\":\"True\",\"line\":{\"color\":\"#000000\",\"width\":2},\"mode\":\"lines\",\"name\":\"True\",\"showlegend\":false,\"x\":[103,103],\"y\":[0,3],\"type\":\"scatter\",\"xaxis\":\"x4\",\"yaxis\":\"y4\"},{\"legendgroup\":\"True\",\"line\":{\"color\":\"#000000\",\"width\":2},\"mode\":\"lines\",\"name\":\"True\",\"showlegend\":false,\"x\":[103,103],\"y\":[3,4],\"type\":\"scatter\",\"xaxis\":\"x4\",\"yaxis\":\"y4\"},{\"legendgroup\":\"True\",\"line\":{\"color\":\"#000000\",\"width\":2},\"mode\":\"lines\",\"name\":\"True\",\"showlegend\":false,\"x\":[102,102],\"y\":[0,3],\"type\":\"scatter\",\"xaxis\":\"x4\",\"yaxis\":\"y4\"},{\"legendgroup\":\"True\",\"line\":{\"color\":\"#000000\",\"width\":2},\"mode\":\"lines\",\"name\":\"True\",\"showlegend\":false,\"x\":[102,102],\"y\":[3,4],\"type\":\"scatter\",\"xaxis\":\"x4\",\"yaxis\":\"y4\"},{\"legendgroup\":\"True\",\"line\":{\"color\":\"#000000\",\"width\":2},\"mode\":\"lines\",\"name\":\"True\",\"showlegend\":false,\"x\":[102,102],\"y\":[4,5],\"type\":\"scatter\",\"xaxis\":\"x4\",\"yaxis\":\"y4\"},{\"legendgroup\":\"True\",\"line\":{\"color\":\"#000000\",\"width\":2},\"mode\":\"lines\",\"name\":\"True\",\"showlegend\":false,\"x\":[101,101],\"y\":[0,3],\"type\":\"scatter\",\"xaxis\":\"x4\",\"yaxis\":\"y4\"},{\"legendgroup\":\"True\",\"line\":{\"color\":\"#000000\",\"width\":2},\"mode\":\"lines\",\"name\":\"True\",\"showlegend\":false,\"x\":[101,101],\"y\":[3,4],\"type\":\"scatter\",\"xaxis\":\"x4\",\"yaxis\":\"y4\"},{\"legendgroup\":\"True\",\"line\":{\"color\":\"#000000\",\"width\":2},\"mode\":\"lines\",\"name\":\"True\",\"showlegend\":false,\"x\":[101,101],\"y\":[4,5],\"type\":\"scatter\",\"xaxis\":\"x4\",\"yaxis\":\"y4\"},{\"legendgroup\":\"True\",\"line\":{\"color\":\"#000000\",\"width\":2},\"mode\":\"lines\",\"name\":\"True\",\"showlegend\":false,\"x\":[101,101],\"y\":[5,8],\"type\":\"scatter\",\"xaxis\":\"x4\",\"yaxis\":\"y4\"},{\"legendgroup\":\"True\",\"line\":{\"color\":\"#000000\",\"width\":2},\"mode\":\"lines\",\"name\":\"True\",\"showlegend\":false,\"x\":[75,75],\"y\":[0,3],\"type\":\"scatter\",\"xaxis\":\"x4\",\"yaxis\":\"y4\"},{\"legendgroup\":\"True\",\"line\":{\"color\":\"#000000\",\"width\":2},\"mode\":\"lines\",\"name\":\"True\",\"showlegend\":false,\"x\":[75,75],\"y\":[3,4],\"type\":\"scatter\",\"xaxis\":\"x4\",\"yaxis\":\"y4\"},{\"legendgroup\":\"True\",\"line\":{\"color\":\"#000000\",\"width\":2},\"mode\":\"lines\",\"name\":\"True\",\"showlegend\":false,\"x\":[75,75],\"y\":[4,5],\"type\":\"scatter\",\"xaxis\":\"x4\",\"yaxis\":\"y4\"},{\"legendgroup\":\"True\",\"line\":{\"color\":\"#000000\",\"width\":2},\"mode\":\"lines\",\"name\":\"True\",\"showlegend\":false,\"x\":[75,75],\"y\":[5,6],\"type\":\"scatter\",\"xaxis\":\"x4\",\"yaxis\":\"y4\"},{\"legendgroup\":\"True\",\"line\":{\"color\":\"#000000\",\"width\":2},\"mode\":\"lines\",\"name\":\"True\",\"showlegend\":false,\"x\":[51,51],\"y\":[0,2],\"type\":\"scatter\",\"xaxis\":\"x4\",\"yaxis\":\"y4\"},{\"legendgroup\":\"True\",\"line\":{\"color\":\"#000000\",\"width\":2},\"mode\":\"lines\",\"name\":\"True\",\"showlegend\":false,\"x\":[100,100],\"y\":[0,2],\"type\":\"scatter\",\"xaxis\":\"x4\",\"yaxis\":\"y4\"},{\"legendgroup\":\"True\",\"line\":{\"color\":\"#000000\",\"width\":2},\"mode\":\"lines\",\"name\":\"True\",\"showlegend\":false,\"x\":[100,100],\"y\":[2,5],\"type\":\"scatter\",\"xaxis\":\"x4\",\"yaxis\":\"y4\"},{\"legendgroup\":\"True\",\"line\":{\"color\":\"#000000\",\"width\":2},\"mode\":\"lines\",\"name\":\"True\",\"showlegend\":false,\"x\":[10,10],\"y\":[0,1],\"type\":\"scatter\",\"xaxis\":\"x4\",\"yaxis\":\"y4\"},{\"legendgroup\":\"True\",\"line\":{\"color\":\"#000000\",\"width\":2},\"mode\":\"lines\",\"name\":\"True\",\"showlegend\":false,\"x\":[65,65],\"y\":[0,1],\"type\":\"scatter\",\"xaxis\":\"x4\",\"yaxis\":\"y4\"},{\"legendgroup\":\"True\",\"line\":{\"color\":\"#000000\",\"width\":2},\"mode\":\"lines\",\"name\":\"True\",\"showlegend\":false,\"x\":[65,65],\"y\":[1,6],\"type\":\"scatter\",\"xaxis\":\"x4\",\"yaxis\":\"y4\"},{\"legendgroup\":\"True\",\"line\":{\"color\":\"#000000\",\"width\":2},\"mode\":\"lines\",\"name\":\"True\",\"showlegend\":false,\"x\":[99,99],\"y\":[0,1],\"type\":\"scatter\",\"xaxis\":\"x4\",\"yaxis\":\"y4\"},{\"legendgroup\":\"True\",\"line\":{\"color\":\"#000000\",\"width\":2},\"mode\":\"lines\",\"name\":\"True\",\"showlegend\":false,\"x\":[99,99],\"y\":[1,6],\"type\":\"scatter\",\"xaxis\":\"x4\",\"yaxis\":\"y4\"},{\"legendgroup\":\"True\",\"line\":{\"color\":\"#000000\",\"width\":2},\"mode\":\"lines\",\"name\":\"True\",\"showlegend\":false,\"x\":[99,99],\"y\":[6,7],\"type\":\"scatter\",\"xaxis\":\"x4\",\"yaxis\":\"y4\"},{\"legendgroup\":\"True\",\"line\":{\"color\":\"#000000\",\"width\":2},\"mode\":\"lines\",\"name\":\"True\",\"showlegend\":false,\"x\":[32,32],\"y\":[0,1],\"type\":\"scatter\",\"xaxis\":\"x4\",\"yaxis\":\"y4\"},{\"legendgroup\":\"True\",\"line\":{\"color\":\"#000000\",\"width\":2},\"mode\":\"lines\",\"name\":\"True\",\"showlegend\":false,\"x\":[32,32],\"y\":[1,5],\"type\":\"scatter\",\"xaxis\":\"x4\",\"yaxis\":\"y4\"},{\"legendgroup\":\"True\",\"line\":{\"color\":\"#000000\",\"width\":2},\"mode\":\"lines\",\"name\":\"True\",\"showlegend\":false,\"x\":[74,74],\"y\":[0,1],\"type\":\"scatter\",\"xaxis\":\"x4\",\"yaxis\":\"y4\"},{\"legendgroup\":\"True\",\"line\":{\"color\":\"#000000\",\"width\":2},\"mode\":\"lines\",\"name\":\"True\",\"showlegend\":false,\"x\":[74,74],\"y\":[1,5],\"type\":\"scatter\",\"xaxis\":\"x4\",\"yaxis\":\"y4\"},{\"legendgroup\":\"True\",\"line\":{\"color\":\"#000000\",\"width\":2},\"mode\":\"lines\",\"name\":\"True\",\"showlegend\":false,\"x\":[74,74],\"y\":[5,8],\"type\":\"scatter\",\"xaxis\":\"x4\",\"yaxis\":\"y4\"},{\"legendgroup\":\"True\",\"line\":{\"color\":\"#000000\",\"width\":2},\"mode\":\"lines\",\"name\":\"True\",\"showlegend\":false,\"x\":[35,35],\"y\":[0,1],\"type\":\"scatter\",\"xaxis\":\"x4\",\"yaxis\":\"y4\"},{\"legendgroup\":\"True\",\"line\":{\"color\":\"#000000\",\"width\":2},\"mode\":\"lines\",\"name\":\"True\",\"showlegend\":false,\"x\":[35,35],\"y\":[1,5],\"type\":\"scatter\",\"xaxis\":\"x4\",\"yaxis\":\"y4\"},{\"legendgroup\":\"True\",\"line\":{\"color\":\"#000000\",\"width\":2},\"mode\":\"lines\",\"name\":\"True\",\"showlegend\":false,\"x\":[35,35],\"y\":[5,6],\"type\":\"scatter\",\"xaxis\":\"x4\",\"yaxis\":\"y4\"},{\"legendgroup\":\"True\",\"line\":{\"color\":\"#000000\",\"width\":2},\"mode\":\"lines\",\"name\":\"True\",\"showlegend\":false,\"x\":[98,98],\"y\":[0,1],\"type\":\"scatter\",\"xaxis\":\"x4\",\"yaxis\":\"y4\"},{\"legendgroup\":\"True\",\"line\":{\"color\":\"#000000\",\"width\":2},\"mode\":\"lines\",\"name\":\"True\",\"showlegend\":false,\"x\":[98,98],\"y\":[1,5],\"type\":\"scatter\",\"xaxis\":\"x4\",\"yaxis\":\"y4\"},{\"legendgroup\":\"True\",\"line\":{\"color\":\"#000000\",\"width\":2},\"mode\":\"lines\",\"name\":\"True\",\"showlegend\":false,\"x\":[98,98],\"y\":[5,6],\"type\":\"scatter\",\"xaxis\":\"x4\",\"yaxis\":\"y4\"},{\"legendgroup\":\"True\",\"line\":{\"color\":\"#000000\",\"width\":2},\"mode\":\"lines\",\"name\":\"True\",\"showlegend\":false,\"x\":[98,98],\"y\":[6,9],\"type\":\"scatter\",\"xaxis\":\"x4\",\"yaxis\":\"y4\"},{\"legendgroup\":\"True\",\"line\":{\"color\":\"#000000\",\"width\":2},\"mode\":\"lines\",\"name\":\"True\",\"showlegend\":false,\"x\":[55,55],\"y\":[0,1],\"type\":\"scatter\",\"xaxis\":\"x4\",\"yaxis\":\"y4\"},{\"legendgroup\":\"True\",\"line\":{\"color\":\"#000000\",\"width\":2},\"mode\":\"lines\",\"name\":\"True\",\"showlegend\":false,\"x\":[55,55],\"y\":[1,5],\"type\":\"scatter\",\"xaxis\":\"x4\",\"yaxis\":\"y4\"},{\"legendgroup\":\"True\",\"line\":{\"color\":\"#000000\",\"width\":2},\"mode\":\"lines\",\"name\":\"True\",\"showlegend\":false,\"x\":[55,55],\"y\":[5,6],\"type\":\"scatter\",\"xaxis\":\"x4\",\"yaxis\":\"y4\"},{\"legendgroup\":\"True\",\"line\":{\"color\":\"#000000\",\"width\":2},\"mode\":\"lines\",\"name\":\"True\",\"showlegend\":false,\"x\":[55,55],\"y\":[6,8],\"type\":\"scatter\",\"xaxis\":\"x4\",\"yaxis\":\"y4\"},{\"legendgroup\":\"True\",\"line\":{\"color\":\"#000000\",\"width\":2},\"mode\":\"lines\",\"name\":\"True\",\"showlegend\":false,\"x\":[97,97],\"y\":[0,1],\"type\":\"scatter\",\"xaxis\":\"x4\",\"yaxis\":\"y4\"},{\"legendgroup\":\"True\",\"line\":{\"color\":\"#000000\",\"width\":2},\"mode\":\"lines\",\"name\":\"True\",\"showlegend\":false,\"x\":[97,97],\"y\":[1,5],\"type\":\"scatter\",\"xaxis\":\"x4\",\"yaxis\":\"y4\"},{\"legendgroup\":\"True\",\"line\":{\"color\":\"#000000\",\"width\":2},\"mode\":\"lines\",\"name\":\"True\",\"showlegend\":false,\"x\":[97,97],\"y\":[5,6],\"type\":\"scatter\",\"xaxis\":\"x4\",\"yaxis\":\"y4\"},{\"legendgroup\":\"True\",\"line\":{\"color\":\"#000000\",\"width\":2},\"mode\":\"lines\",\"name\":\"True\",\"showlegend\":false,\"x\":[97,97],\"y\":[6,7],\"type\":\"scatter\",\"xaxis\":\"x4\",\"yaxis\":\"y4\"},{\"legendgroup\":\"True\",\"line\":{\"color\":\"#000000\",\"width\":2},\"mode\":\"lines\",\"name\":\"True\",\"showlegend\":false,\"x\":[96,96],\"y\":[0,1],\"type\":\"scatter\",\"xaxis\":\"x4\",\"yaxis\":\"y4\"},{\"legendgroup\":\"True\",\"line\":{\"color\":\"#000000\",\"width\":2},\"mode\":\"lines\",\"name\":\"True\",\"showlegend\":false,\"x\":[96,96],\"y\":[1,5],\"type\":\"scatter\",\"xaxis\":\"x4\",\"yaxis\":\"y4\"},{\"legendgroup\":\"True\",\"line\":{\"color\":\"#000000\",\"width\":2},\"mode\":\"lines\",\"name\":\"True\",\"showlegend\":false,\"x\":[96,96],\"y\":[5,6],\"type\":\"scatter\",\"xaxis\":\"x4\",\"yaxis\":\"y4\"},{\"legendgroup\":\"True\",\"line\":{\"color\":\"#000000\",\"width\":2},\"mode\":\"lines\",\"name\":\"True\",\"showlegend\":false,\"x\":[96,96],\"y\":[6,7],\"type\":\"scatter\",\"xaxis\":\"x4\",\"yaxis\":\"y4\"},{\"legendgroup\":\"True\",\"line\":{\"color\":\"#000000\",\"width\":2},\"mode\":\"lines\",\"name\":\"True\",\"showlegend\":false,\"x\":[96,96],\"y\":[7,9],\"type\":\"scatter\",\"xaxis\":\"x4\",\"yaxis\":\"y4\"},{\"legendgroup\":\"True\",\"line\":{\"color\":\"#000000\",\"width\":2},\"mode\":\"lines\",\"name\":\"True\",\"showlegend\":false,\"x\":[64,64],\"y\":[0,1],\"type\":\"scatter\",\"xaxis\":\"x4\",\"yaxis\":\"y4\"},{\"legendgroup\":\"True\",\"line\":{\"color\":\"#000000\",\"width\":2},\"mode\":\"lines\",\"name\":\"True\",\"showlegend\":false,\"x\":[64,64],\"y\":[1,4],\"type\":\"scatter\",\"xaxis\":\"x4\",\"yaxis\":\"y4\"},{\"legendgroup\":\"True\",\"line\":{\"color\":\"#000000\",\"width\":2},\"mode\":\"lines\",\"name\":\"True\",\"showlegend\":false,\"x\":[64,64],\"y\":[4,5],\"type\":\"scatter\",\"xaxis\":\"x4\",\"yaxis\":\"y4\"},{\"legendgroup\":\"True\",\"line\":{\"color\":\"#000000\",\"width\":2},\"mode\":\"lines\",\"name\":\"True\",\"showlegend\":false,\"x\":[64,64],\"y\":[5,6],\"type\":\"scatter\",\"xaxis\":\"x4\",\"yaxis\":\"y4\"},{\"legendgroup\":\"True\",\"line\":{\"color\":\"#000000\",\"width\":2},\"mode\":\"lines\",\"name\":\"True\",\"showlegend\":false,\"x\":[64,64],\"y\":[6,8],\"type\":\"scatter\",\"xaxis\":\"x4\",\"yaxis\":\"y4\"},{\"legendgroup\":\"True\",\"line\":{\"color\":\"#000000\",\"width\":2},\"mode\":\"lines\",\"name\":\"True\",\"showlegend\":false,\"x\":[95,95],\"y\":[0,1],\"type\":\"scatter\",\"xaxis\":\"x4\",\"yaxis\":\"y4\"},{\"legendgroup\":\"True\",\"line\":{\"color\":\"#000000\",\"width\":2},\"mode\":\"lines\",\"name\":\"True\",\"showlegend\":false,\"x\":[95,95],\"y\":[1,3],\"type\":\"scatter\",\"xaxis\":\"x4\",\"yaxis\":\"y4\"},{\"legendgroup\":\"True\",\"line\":{\"color\":\"#000000\",\"width\":2},\"mode\":\"lines\",\"name\":\"True\",\"showlegend\":false,\"x\":[95,95],\"y\":[3,6],\"type\":\"scatter\",\"xaxis\":\"x4\",\"yaxis\":\"y4\"},{\"legendgroup\":\"True\",\"line\":{\"color\":\"#000000\",\"width\":2},\"mode\":\"lines\",\"name\":\"True\",\"showlegend\":false,\"x\":[63,63],\"y\":[0,1],\"type\":\"scatter\",\"xaxis\":\"x4\",\"yaxis\":\"y4\"},{\"legendgroup\":\"True\",\"line\":{\"color\":\"#000000\",\"width\":2},\"mode\":\"lines\",\"name\":\"True\",\"showlegend\":false,\"x\":[63,63],\"y\":[1,3],\"type\":\"scatter\",\"xaxis\":\"x4\",\"yaxis\":\"y4\"},{\"legendgroup\":\"True\",\"line\":{\"color\":\"#000000\",\"width\":2},\"mode\":\"lines\",\"name\":\"True\",\"showlegend\":false,\"x\":[63,63],\"y\":[3,5],\"type\":\"scatter\",\"xaxis\":\"x4\",\"yaxis\":\"y4\"},{\"legendgroup\":\"True\",\"line\":{\"color\":\"#000000\",\"width\":2},\"mode\":\"lines\",\"name\":\"True\",\"showlegend\":false,\"x\":[63,63],\"y\":[5,6],\"type\":\"scatter\",\"xaxis\":\"x4\",\"yaxis\":\"y4\"},{\"legendgroup\":\"True\",\"line\":{\"color\":\"#000000\",\"width\":2},\"mode\":\"lines\",\"name\":\"True\",\"showlegend\":false,\"x\":[94,94],\"y\":[0,1],\"type\":\"scatter\",\"xaxis\":\"x4\",\"yaxis\":\"y4\"},{\"legendgroup\":\"True\",\"line\":{\"color\":\"#000000\",\"width\":2},\"mode\":\"lines\",\"name\":\"True\",\"showlegend\":false,\"x\":[94,94],\"y\":[1,3],\"type\":\"scatter\",\"xaxis\":\"x4\",\"yaxis\":\"y4\"},{\"legendgroup\":\"True\",\"line\":{\"color\":\"#000000\",\"width\":2},\"mode\":\"lines\",\"name\":\"True\",\"showlegend\":false,\"x\":[94,94],\"y\":[3,5],\"type\":\"scatter\",\"xaxis\":\"x4\",\"yaxis\":\"y4\"},{\"legendgroup\":\"True\",\"line\":{\"color\":\"#000000\",\"width\":2},\"mode\":\"lines\",\"name\":\"True\",\"showlegend\":false,\"x\":[94,94],\"y\":[5,6],\"type\":\"scatter\",\"xaxis\":\"x4\",\"yaxis\":\"y4\"},{\"legendgroup\":\"True\",\"line\":{\"color\":\"#000000\",\"width\":2},\"mode\":\"lines\",\"name\":\"True\",\"showlegend\":false,\"x\":[94,94],\"y\":[6,8],\"type\":\"scatter\",\"xaxis\":\"x4\",\"yaxis\":\"y4\"},{\"legendgroup\":\"True\",\"line\":{\"color\":\"#000000\",\"width\":2},\"mode\":\"lines\",\"name\":\"True\",\"showlegend\":false,\"x\":[93,93],\"y\":[0,1],\"type\":\"scatter\",\"xaxis\":\"x4\",\"yaxis\":\"y4\"},{\"legendgroup\":\"True\",\"line\":{\"color\":\"#000000\",\"width\":2},\"mode\":\"lines\",\"name\":\"True\",\"showlegend\":false,\"x\":[93,93],\"y\":[1,3],\"type\":\"scatter\",\"xaxis\":\"x4\",\"yaxis\":\"y4\"},{\"legendgroup\":\"True\",\"line\":{\"color\":\"#000000\",\"width\":2},\"mode\":\"lines\",\"name\":\"True\",\"showlegend\":false,\"x\":[93,93],\"y\":[3,5],\"type\":\"scatter\",\"xaxis\":\"x4\",\"yaxis\":\"y4\"},{\"legendgroup\":\"True\",\"line\":{\"color\":\"#000000\",\"width\":2},\"mode\":\"lines\",\"name\":\"True\",\"showlegend\":false,\"x\":[93,93],\"y\":[5,6],\"type\":\"scatter\",\"xaxis\":\"x4\",\"yaxis\":\"y4\"},{\"legendgroup\":\"True\",\"line\":{\"color\":\"#000000\",\"width\":2},\"mode\":\"lines\",\"name\":\"True\",\"showlegend\":false,\"x\":[93,93],\"y\":[6,7],\"type\":\"scatter\",\"xaxis\":\"x4\",\"yaxis\":\"y4\"},{\"legendgroup\":\"True\",\"line\":{\"color\":\"#000000\",\"width\":2},\"mode\":\"lines\",\"name\":\"True\",\"showlegend\":false,\"x\":[92,92],\"y\":[0,1],\"type\":\"scatter\",\"xaxis\":\"x4\",\"yaxis\":\"y4\"},{\"legendgroup\":\"True\",\"line\":{\"color\":\"#000000\",\"width\":2},\"mode\":\"lines\",\"name\":\"True\",\"showlegend\":false,\"x\":[92,92],\"y\":[1,3],\"type\":\"scatter\",\"xaxis\":\"x4\",\"yaxis\":\"y4\"},{\"legendgroup\":\"True\",\"line\":{\"color\":\"#000000\",\"width\":2},\"mode\":\"lines\",\"name\":\"True\",\"showlegend\":false,\"x\":[92,92],\"y\":[3,4],\"type\":\"scatter\",\"xaxis\":\"x4\",\"yaxis\":\"y4\"},{\"legendgroup\":\"True\",\"line\":{\"color\":\"#000000\",\"width\":2},\"mode\":\"lines\",\"name\":\"True\",\"showlegend\":false,\"x\":[92,92],\"y\":[4,6],\"type\":\"scatter\",\"xaxis\":\"x4\",\"yaxis\":\"y4\"},{\"legendgroup\":\"True\",\"line\":{\"color\":\"#000000\",\"width\":2},\"mode\":\"lines\",\"name\":\"True\",\"showlegend\":false,\"x\":[91,91],\"y\":[0,1],\"type\":\"scatter\",\"xaxis\":\"x4\",\"yaxis\":\"y4\"},{\"legendgroup\":\"True\",\"line\":{\"color\":\"#000000\",\"width\":2},\"mode\":\"lines\",\"name\":\"True\",\"showlegend\":false,\"x\":[91,91],\"y\":[1,3],\"type\":\"scatter\",\"xaxis\":\"x4\",\"yaxis\":\"y4\"},{\"legendgroup\":\"True\",\"line\":{\"color\":\"#000000\",\"width\":2},\"mode\":\"lines\",\"name\":\"True\",\"showlegend\":false,\"x\":[91,91],\"y\":[3,4],\"type\":\"scatter\",\"xaxis\":\"x4\",\"yaxis\":\"y4\"},{\"legendgroup\":\"True\",\"line\":{\"color\":\"#000000\",\"width\":2},\"mode\":\"lines\",\"name\":\"True\",\"showlegend\":false,\"x\":[91,91],\"y\":[4,5],\"type\":\"scatter\",\"xaxis\":\"x4\",\"yaxis\":\"y4\"},{\"legendgroup\":\"True\",\"line\":{\"color\":\"#000000\",\"width\":2},\"mode\":\"lines\",\"name\":\"True\",\"showlegend\":false,\"x\":[91,91],\"y\":[5,6],\"type\":\"scatter\",\"xaxis\":\"x4\",\"yaxis\":\"y4\"},{\"legendgroup\":\"True\",\"line\":{\"color\":\"#000000\",\"width\":2},\"mode\":\"lines\",\"name\":\"True\",\"showlegend\":false,\"x\":[90,90],\"y\":[0,1],\"type\":\"scatter\",\"xaxis\":\"x4\",\"yaxis\":\"y4\"},{\"legendgroup\":\"True\",\"line\":{\"color\":\"#000000\",\"width\":2},\"mode\":\"lines\",\"name\":\"True\",\"showlegend\":false,\"x\":[90,90],\"y\":[1,2],\"type\":\"scatter\",\"xaxis\":\"x4\",\"yaxis\":\"y4\"},{\"legendgroup\":\"True\",\"line\":{\"color\":\"#000000\",\"width\":2},\"mode\":\"lines\",\"name\":\"True\",\"showlegend\":false,\"x\":[90,90],\"y\":[2,5],\"type\":\"scatter\",\"xaxis\":\"x4\",\"yaxis\":\"y4\"},{\"legendgroup\":\"True\",\"line\":{\"color\":\"#000000\",\"width\":2},\"mode\":\"lines\",\"name\":\"True\",\"showlegend\":false,\"x\":[90,90],\"y\":[5,6],\"type\":\"scatter\",\"xaxis\":\"x4\",\"yaxis\":\"y4\"}],                        {\"template\":{\"data\":{\"histogram2dcontour\":[{\"type\":\"histogram2dcontour\",\"colorbar\":{\"outlinewidth\":0,\"ticks\":\"\"},\"colorscale\":[[0.0,\"#0d0887\"],[0.1111111111111111,\"#46039f\"],[0.2222222222222222,\"#7201a8\"],[0.3333333333333333,\"#9c179e\"],[0.4444444444444444,\"#bd3786\"],[0.5555555555555556,\"#d8576b\"],[0.6666666666666666,\"#ed7953\"],[0.7777777777777778,\"#fb9f3a\"],[0.8888888888888888,\"#fdca26\"],[1.0,\"#f0f921\"]]}],\"choropleth\":[{\"type\":\"choropleth\",\"colorbar\":{\"outlinewidth\":0,\"ticks\":\"\"}}],\"histogram2d\":[{\"type\":\"histogram2d\",\"colorbar\":{\"outlinewidth\":0,\"ticks\":\"\"},\"colorscale\":[[0.0,\"#0d0887\"],[0.1111111111111111,\"#46039f\"],[0.2222222222222222,\"#7201a8\"],[0.3333333333333333,\"#9c179e\"],[0.4444444444444444,\"#bd3786\"],[0.5555555555555556,\"#d8576b\"],[0.6666666666666666,\"#ed7953\"],[0.7777777777777778,\"#fb9f3a\"],[0.8888888888888888,\"#fdca26\"],[1.0,\"#f0f921\"]]}],\"heatmap\":[{\"type\":\"heatmap\",\"colorbar\":{\"outlinewidth\":0,\"ticks\":\"\"},\"colorscale\":[[0.0,\"#0d0887\"],[0.1111111111111111,\"#46039f\"],[0.2222222222222222,\"#7201a8\"],[0.3333333333333333,\"#9c179e\"],[0.4444444444444444,\"#bd3786\"],[0.5555555555555556,\"#d8576b\"],[0.6666666666666666,\"#ed7953\"],[0.7777777777777778,\"#fb9f3a\"],[0.8888888888888888,\"#fdca26\"],[1.0,\"#f0f921\"]]}],\"heatmapgl\":[{\"type\":\"heatmapgl\",\"colorbar\":{\"outlinewidth\":0,\"ticks\":\"\"},\"colorscale\":[[0.0,\"#0d0887\"],[0.1111111111111111,\"#46039f\"],[0.2222222222222222,\"#7201a8\"],[0.3333333333333333,\"#9c179e\"],[0.4444444444444444,\"#bd3786\"],[0.5555555555555556,\"#d8576b\"],[0.6666666666666666,\"#ed7953\"],[0.7777777777777778,\"#fb9f3a\"],[0.8888888888888888,\"#fdca26\"],[1.0,\"#f0f921\"]]}],\"contourcarpet\":[{\"type\":\"contourcarpet\",\"colorbar\":{\"outlinewidth\":0,\"ticks\":\"\"}}],\"contour\":[{\"type\":\"contour\",\"colorbar\":{\"outlinewidth\":0,\"ticks\":\"\"},\"colorscale\":[[0.0,\"#0d0887\"],[0.1111111111111111,\"#46039f\"],[0.2222222222222222,\"#7201a8\"],[0.3333333333333333,\"#9c179e\"],[0.4444444444444444,\"#bd3786\"],[0.5555555555555556,\"#d8576b\"],[0.6666666666666666,\"#ed7953\"],[0.7777777777777778,\"#fb9f3a\"],[0.8888888888888888,\"#fdca26\"],[1.0,\"#f0f921\"]]}],\"surface\":[{\"type\":\"surface\",\"colorbar\":{\"outlinewidth\":0,\"ticks\":\"\"},\"colorscale\":[[0.0,\"#0d0887\"],[0.1111111111111111,\"#46039f\"],[0.2222222222222222,\"#7201a8\"],[0.3333333333333333,\"#9c179e\"],[0.4444444444444444,\"#bd3786\"],[0.5555555555555556,\"#d8576b\"],[0.6666666666666666,\"#ed7953\"],[0.7777777777777778,\"#fb9f3a\"],[0.8888888888888888,\"#fdca26\"],[1.0,\"#f0f921\"]]}],\"mesh3d\":[{\"type\":\"mesh3d\",\"colorbar\":{\"outlinewidth\":0,\"ticks\":\"\"}}],\"scatter\":[{\"fillpattern\":{\"fillmode\":\"overlay\",\"size\":10,\"solidity\":0.2},\"type\":\"scatter\"}],\"parcoords\":[{\"type\":\"parcoords\",\"line\":{\"colorbar\":{\"outlinewidth\":0,\"ticks\":\"\"}}}],\"scatterpolargl\":[{\"type\":\"scatterpolargl\",\"marker\":{\"colorbar\":{\"outlinewidth\":0,\"ticks\":\"\"}}}],\"bar\":[{\"error_x\":{\"color\":\"#2a3f5f\"},\"error_y\":{\"color\":\"#2a3f5f\"},\"marker\":{\"line\":{\"color\":\"#E5ECF6\",\"width\":0.5},\"pattern\":{\"fillmode\":\"overlay\",\"size\":10,\"solidity\":0.2}},\"type\":\"bar\"}],\"scattergeo\":[{\"type\":\"scattergeo\",\"marker\":{\"colorbar\":{\"outlinewidth\":0,\"ticks\":\"\"}}}],\"scatterpolar\":[{\"type\":\"scatterpolar\",\"marker\":{\"colorbar\":{\"outlinewidth\":0,\"ticks\":\"\"}}}],\"histogram\":[{\"marker\":{\"pattern\":{\"fillmode\":\"overlay\",\"size\":10,\"solidity\":0.2}},\"type\":\"histogram\"}],\"scattergl\":[{\"type\":\"scattergl\",\"marker\":{\"colorbar\":{\"outlinewidth\":0,\"ticks\":\"\"}}}],\"scatter3d\":[{\"type\":\"scatter3d\",\"line\":{\"colorbar\":{\"outlinewidth\":0,\"ticks\":\"\"}},\"marker\":{\"colorbar\":{\"outlinewidth\":0,\"ticks\":\"\"}}}],\"scattermapbox\":[{\"type\":\"scattermapbox\",\"marker\":{\"colorbar\":{\"outlinewidth\":0,\"ticks\":\"\"}}}],\"scatterternary\":[{\"type\":\"scatterternary\",\"marker\":{\"colorbar\":{\"outlinewidth\":0,\"ticks\":\"\"}}}],\"scattercarpet\":[{\"type\":\"scattercarpet\",\"marker\":{\"colorbar\":{\"outlinewidth\":0,\"ticks\":\"\"}}}],\"carpet\":[{\"aaxis\":{\"endlinecolor\":\"#2a3f5f\",\"gridcolor\":\"white\",\"linecolor\":\"white\",\"minorgridcolor\":\"white\",\"startlinecolor\":\"#2a3f5f\"},\"baxis\":{\"endlinecolor\":\"#2a3f5f\",\"gridcolor\":\"white\",\"linecolor\":\"white\",\"minorgridcolor\":\"white\",\"startlinecolor\":\"#2a3f5f\"},\"type\":\"carpet\"}],\"table\":[{\"cells\":{\"fill\":{\"color\":\"#EBF0F8\"},\"line\":{\"color\":\"white\"}},\"header\":{\"fill\":{\"color\":\"#C8D4E3\"},\"line\":{\"color\":\"white\"}},\"type\":\"table\"}],\"barpolar\":[{\"marker\":{\"line\":{\"color\":\"#E5ECF6\",\"width\":0.5},\"pattern\":{\"fillmode\":\"overlay\",\"size\":10,\"solidity\":0.2}},\"type\":\"barpolar\"}],\"pie\":[{\"automargin\":true,\"type\":\"pie\"}]},\"layout\":{\"autotypenumbers\":\"strict\",\"colorway\":[\"#636efa\",\"#EF553B\",\"#00cc96\",\"#ab63fa\",\"#FFA15A\",\"#19d3f3\",\"#FF6692\",\"#B6E880\",\"#FF97FF\",\"#FECB52\"],\"font\":{\"color\":\"#2a3f5f\"},\"hovermode\":\"closest\",\"hoverlabel\":{\"align\":\"left\"},\"paper_bgcolor\":\"white\",\"plot_bgcolor\":\"#E5ECF6\",\"polar\":{\"bgcolor\":\"#E5ECF6\",\"angularaxis\":{\"gridcolor\":\"white\",\"linecolor\":\"white\",\"ticks\":\"\"},\"radialaxis\":{\"gridcolor\":\"white\",\"linecolor\":\"white\",\"ticks\":\"\"}},\"ternary\":{\"bgcolor\":\"#E5ECF6\",\"aaxis\":{\"gridcolor\":\"white\",\"linecolor\":\"white\",\"ticks\":\"\"},\"baxis\":{\"gridcolor\":\"white\",\"linecolor\":\"white\",\"ticks\":\"\"},\"caxis\":{\"gridcolor\":\"white\",\"linecolor\":\"white\",\"ticks\":\"\"}},\"coloraxis\":{\"colorbar\":{\"outlinewidth\":0,\"ticks\":\"\"}},\"colorscale\":{\"sequential\":[[0.0,\"#0d0887\"],[0.1111111111111111,\"#46039f\"],[0.2222222222222222,\"#7201a8\"],[0.3333333333333333,\"#9c179e\"],[0.4444444444444444,\"#bd3786\"],[0.5555555555555556,\"#d8576b\"],[0.6666666666666666,\"#ed7953\"],[0.7777777777777778,\"#fb9f3a\"],[0.8888888888888888,\"#fdca26\"],[1.0,\"#f0f921\"]],\"sequentialminus\":[[0.0,\"#0d0887\"],[0.1111111111111111,\"#46039f\"],[0.2222222222222222,\"#7201a8\"],[0.3333333333333333,\"#9c179e\"],[0.4444444444444444,\"#bd3786\"],[0.5555555555555556,\"#d8576b\"],[0.6666666666666666,\"#ed7953\"],[0.7777777777777778,\"#fb9f3a\"],[0.8888888888888888,\"#fdca26\"],[1.0,\"#f0f921\"]],\"diverging\":[[0,\"#8e0152\"],[0.1,\"#c51b7d\"],[0.2,\"#de77ae\"],[0.3,\"#f1b6da\"],[0.4,\"#fde0ef\"],[0.5,\"#f7f7f7\"],[0.6,\"#e6f5d0\"],[0.7,\"#b8e186\"],[0.8,\"#7fbc41\"],[0.9,\"#4d9221\"],[1,\"#276419\"]]},\"xaxis\":{\"gridcolor\":\"white\",\"linecolor\":\"white\",\"ticks\":\"\",\"title\":{\"standoff\":15},\"zerolinecolor\":\"white\",\"automargin\":true,\"zerolinewidth\":2},\"yaxis\":{\"gridcolor\":\"white\",\"linecolor\":\"white\",\"ticks\":\"\",\"title\":{\"standoff\":15},\"zerolinecolor\":\"white\",\"automargin\":true,\"zerolinewidth\":2},\"scene\":{\"xaxis\":{\"backgroundcolor\":\"#E5ECF6\",\"gridcolor\":\"white\",\"linecolor\":\"white\",\"showbackground\":true,\"ticks\":\"\",\"zerolinecolor\":\"white\",\"gridwidth\":2},\"yaxis\":{\"backgroundcolor\":\"#E5ECF6\",\"gridcolor\":\"white\",\"linecolor\":\"white\",\"showbackground\":true,\"ticks\":\"\",\"zerolinecolor\":\"white\",\"gridwidth\":2},\"zaxis\":{\"backgroundcolor\":\"#E5ECF6\",\"gridcolor\":\"white\",\"linecolor\":\"white\",\"showbackground\":true,\"ticks\":\"\",\"zerolinecolor\":\"white\",\"gridwidth\":2}},\"shapedefaults\":{\"line\":{\"color\":\"#2a3f5f\"}},\"annotationdefaults\":{\"arrowcolor\":\"#2a3f5f\",\"arrowhead\":0,\"arrowwidth\":1},\"geo\":{\"bgcolor\":\"white\",\"landcolor\":\"#E5ECF6\",\"subunitcolor\":\"white\",\"showland\":true,\"showlakes\":true,\"lakecolor\":\"white\"},\"title\":{\"x\":0.05},\"mapbox\":{\"style\":\"light\"}}},\"xaxis\":{\"anchor\":\"y\",\"domain\":[0.0,0.34],\"matches\":\"x3\",\"showticklabels\":false,\"zeroline\":false,\"automargin\":true},\"yaxis\":{\"anchor\":\"x\",\"domain\":[0.43,1.0],\"zeroline\":false,\"automargin\":true},\"xaxis2\":{\"anchor\":\"y2\",\"domain\":[0.49,1.0],\"matches\":\"x4\",\"showticklabels\":false,\"side\":\"bottom\",\"showline\":true,\"linecolor\":\"#000000\",\"ticks\":\"outside\",\"tickcolor\":\"#000000\",\"dtick\":1,\"range\":[-0.5,131.5],\"zeroline\":false,\"automargin\":true},\"yaxis2\":{\"anchor\":\"x2\",\"domain\":[0.43,1.0],\"title\":{\"text\":\"Intersection Size\",\"standoff\":5,\"font\":{\"color\":\"#000000\"}},\"range\":[0.0,23284.3],\"side\":\"left\",\"showgrid\":true,\"showline\":true,\"showticklabels\":true,\"linecolor\":\"#000000\",\"gridcolor\":\"#E0E0E0\",\"ticks\":\"outside\",\"tickcolor\":\"#000000\",\"zeroline\":false,\"automargin\":true},\"xaxis3\":{\"anchor\":\"y3\",\"domain\":[0.0,0.34],\"title\":{\"text\":\"Set Size\",\"standoff\":5,\"font\":{\"color\":\"#000000\"}},\"side\":\"top\",\"autorange\":\"reversed\",\"showgrid\":true,\"showline\":true,\"showticklabels\":true,\"gridcolor\":\"#E0E0E0\",\"linecolor\":\"#000000\",\"ticks\":\"outside\",\"tickcolor\":\"#000000\",\"tickangle\":-90,\"zeroline\":false,\"automargin\":true},\"yaxis3\":{\"anchor\":\"x3\",\"domain\":[0.0,0.38],\"side\":\"right\",\"showline\":true,\"showticklabels\":false,\"linecolor\":\"#000000\",\"ticks\":\"outside\",\"tickcolor\":\"#000000\",\"zeroline\":false,\"automargin\":true},\"xaxis4\":{\"anchor\":\"y4\",\"domain\":[0.49,1.0],\"title\":{\"standoff\":5},\"range\":[-0.5,131.5],\"side\":\"bottom\",\"showline\":true,\"showgrid\":false,\"showticklabels\":false,\"dtick\":1,\"zeroline\":false,\"automargin\":true},\"yaxis4\":{\"anchor\":\"x4\",\"domain\":[0.0,0.38],\"side\":\"left\",\"showline\":true,\"showgrid\":false,\"showticklabels\":true,\"linecolor\":\"#000000\",\"ticks\":\"outside\",\"tickvals\":[0,1,2,3,4,5,6,7,8,9],\"ticktext\":[\"Comercializaci\\u00f3n\",\"Conservaci\\u00f3n del suelo\",\"Conservaci\\u00f3n de agua\",\"Otra\",\"Arreglos de siembra\",\"Agricultura de conservaci\\u00f3n\",\"Tecnologias de poscosecha\",\"Variedades mejoradas\",\"Manejo integrado de plagas\",\"Fertilizaci\\u00f3n\"],\"tickcolor\":\"#000000\",\"mirror\":false,\"zeroline\":false,\"automargin\":true},\"shapes\":[{\"fillcolor\":\"#EBEBEB\",\"layer\":\"below\",\"line\":{\"width\":0},\"type\":\"rect\",\"x0\":0,\"x1\":1,\"xref\":\"x4 domain\",\"y0\":-0.5,\"y1\":0.5,\"yref\":\"y4\"},{\"fillcolor\":\"#EBEBEB\",\"layer\":\"below\",\"line\":{\"width\":0},\"type\":\"rect\",\"x0\":0,\"x1\":1,\"xref\":\"x4 domain\",\"y0\":1.5,\"y1\":2.5,\"yref\":\"y4\"},{\"fillcolor\":\"#EBEBEB\",\"layer\":\"below\",\"line\":{\"width\":0},\"type\":\"rect\",\"x0\":0,\"x1\":1,\"xref\":\"x4 domain\",\"y0\":3.5,\"y1\":4.5,\"yref\":\"y4\"},{\"fillcolor\":\"#EBEBEB\",\"layer\":\"below\",\"line\":{\"width\":0},\"type\":\"rect\",\"x0\":0,\"x1\":1,\"xref\":\"x4 domain\",\"y0\":5.5,\"y1\":6.5,\"yref\":\"y4\"},{\"fillcolor\":\"#EBEBEB\",\"layer\":\"below\",\"line\":{\"width\":0},\"type\":\"rect\",\"x0\":0,\"x1\":1,\"xref\":\"x4 domain\",\"y0\":7.5,\"y1\":8.5,\"yref\":\"y4\"}],\"uniformtext\":{\"minsize\":12,\"mode\":\"show\"},\"margin\":{\"l\":40,\"r\":40,\"t\":40,\"b\":40},\"legend\":{\"orientation\":\"v\",\"yanchor\":\"top\",\"y\":1.0,\"xanchor\":\"left\",\"x\":0},\"font\":{\"color\":\"black\"},\"barmode\":\"group\",\"bargap\":0.2,\"bargroupgap\":0.0,\"showlegend\":true,\"height\":650,\"width\":830,\"paper_bgcolor\":\"white\",\"plot_bgcolor\":\"rgba(0, 0, 0, 0)\",\"hovermode\":\"closest\"},                        {\"responsive\": true}                    ).then(function(){\n",
       "                            \n",
       "var gd = document.getElementById('175429b0-0a17-4dd1-9a8f-395fbe00e08c');\n",
       "var x = new MutationObserver(function (mutations, observer) {{\n",
       "        var display = window.getComputedStyle(gd).display;\n",
       "        if (!display || display === 'none') {{\n",
       "            console.log([gd, 'removed!']);\n",
       "            Plotly.purge(gd);\n",
       "            observer.disconnect();\n",
       "        }}\n",
       "}});\n",
       "\n",
       "// Listen for the removal of the full notebook cells\n",
       "var notebookContainer = gd.closest('#notebook-container');\n",
       "if (notebookContainer) {{\n",
       "    x.observe(notebookContainer, {childList: true});\n",
       "}}\n",
       "\n",
       "// Listen for the clearing of the current output cell\n",
       "var outputEl = gd.closest('.output');\n",
       "if (outputEl) {{\n",
       "    x.observe(outputEl, {childList: true});\n",
       "}}\n",
       "\n",
       "                        })                };                });            </script>        </div>"
      ]
     },
     "metadata": {},
     "output_type": "display_data"
    }
   ],
   "source": [
    "fig.show()"
   ]
  },
  {
   "cell_type": "code",
   "execution_count": null,
   "metadata": {},
   "outputs": [],
   "source": []
  },
  {
   "cell_type": "code",
   "execution_count": null,
   "metadata": {},
   "outputs": [],
   "source": []
  }
 ],
 "metadata": {
  "kernelspec": {
   "display_name": "venv",
   "language": "python",
   "name": "python3"
  },
  "language_info": {
   "codemirror_mode": {
    "name": "ipython",
    "version": 3
   },
   "file_extension": ".py",
   "mimetype": "text/x-python",
   "name": "python",
   "nbconvert_exporter": "python",
   "pygments_lexer": "ipython3",
   "version": "3.10.12"
  }
 },
 "nbformat": 4,
 "nbformat_minor": 2
}
