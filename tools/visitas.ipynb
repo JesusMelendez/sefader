{
 "cells": [
  {
   "cell_type": "code",
   "execution_count": 69,
   "metadata": {},
   "outputs": [],
   "source": [
    "import pandas as pd"
   ]
  },
  {
   "cell_type": "code",
   "execution_count": 70,
   "metadata": {},
   "outputs": [],
   "source": [
    "oct_path = '../data/Visitas_OctubreSEFADER.csv' \n",
    "sept_path = '../data/Visitas_SeptiembreSEFADER.csv'"
   ]
  },
  {
   "cell_type": "code",
   "execution_count": 35,
   "metadata": {},
   "outputs": [],
   "source": [
    "relacion_tec = pd.read_csv('../test/relacion_tecnicos_programa_eagrology.csv',encoding='1252')"
   ]
  },
  {
   "cell_type": "code",
   "execution_count": 36,
   "metadata": {},
   "outputs": [
    {
     "data": {
      "text/plain": [
       "Index(['Bitacora.registrada.por', 'NOMBRE DEL USUARIO', 'id', 'user_name',\n",
       "       'first_name', 'last_name', 'full_name_tec', 'Nombre del técnico',\n",
       "       'Programa', 'Región de atención'],\n",
       "      dtype='object')"
      ]
     },
     "execution_count": 36,
     "metadata": {},
     "output_type": "execute_result"
    }
   ],
   "source": [
    "relacion_tec.columns"
   ]
  },
  {
   "cell_type": "code",
   "execution_count": null,
   "metadata": {},
   "outputs": [],
   "source": [
    "relacion_tec"
   ]
  },
  {
   "cell_type": "code",
   "execution_count": 37,
   "metadata": {},
   "outputs": [],
   "source": [
    "relacion_tec = relacion_tec[['id','Programa', 'Región de atención']]"
   ]
  },
  {
   "cell_type": "code",
   "execution_count": 71,
   "metadata": {},
   "outputs": [],
   "source": [
    "vis_sep = pd.read_csv(sept_path)"
   ]
  },
  {
   "cell_type": "code",
   "execution_count": 39,
   "metadata": {},
   "outputs": [
    {
     "data": {
      "text/plain": [
       "(121, 55)"
      ]
     },
     "execution_count": 39,
     "metadata": {},
     "output_type": "execute_result"
    }
   ],
   "source": [
    "vis_sep.shape"
   ]
  },
  {
   "cell_type": "code",
   "execution_count": 40,
   "metadata": {},
   "outputs": [
    {
     "data": {
      "text/html": [
       "<div>\n",
       "<style scoped>\n",
       "    .dataframe tbody tr th:only-of-type {\n",
       "        vertical-align: middle;\n",
       "    }\n",
       "\n",
       "    .dataframe tbody tr th {\n",
       "        vertical-align: top;\n",
       "    }\n",
       "\n",
       "    .dataframe thead th {\n",
       "        text-align: right;\n",
       "    }\n",
       "</style>\n",
       "<table border=\"1\" class=\"dataframe\">\n",
       "  <thead>\n",
       "    <tr style=\"text-align: right;\">\n",
       "      <th></th>\n",
       "      <th>id</th>\n",
       "      <th>Programa</th>\n",
       "      <th>Región de atención</th>\n",
       "    </tr>\n",
       "  </thead>\n",
       "  <tbody>\n",
       "    <tr>\n",
       "      <th>0</th>\n",
       "      <td>users-2023-0724-1048-KAgLB-hfT0v</td>\n",
       "      <td>Abasto Seguro de Maíz</td>\n",
       "      <td>Costa</td>\n",
       "    </tr>\n",
       "    <tr>\n",
       "      <th>1</th>\n",
       "      <td>users-2023-0601-1113-PJSxf-jigpv</td>\n",
       "      <td>Autosuficiencia Alimentaria</td>\n",
       "      <td>Mixteca</td>\n",
       "    </tr>\n",
       "    <tr>\n",
       "      <th>2</th>\n",
       "      <td>users-2023-0601-1111-TkEGA-QH4Vz</td>\n",
       "      <td>Autosuficiencia Alimentaria</td>\n",
       "      <td>Mixteca</td>\n",
       "    </tr>\n",
       "    <tr>\n",
       "      <th>3</th>\n",
       "      <td>users-2023-0601-1051-VJBXq-fUTkR</td>\n",
       "      <td>Autosuficiencia Alimentaria</td>\n",
       "      <td>Sierra Norte</td>\n",
       "    </tr>\n",
       "    <tr>\n",
       "      <th>4</th>\n",
       "      <td>users-2023-0601-1050-D0g7L-caov3</td>\n",
       "      <td>NaN</td>\n",
       "      <td>NaN</td>\n",
       "    </tr>\n",
       "    <tr>\n",
       "      <th>...</th>\n",
       "      <td>...</td>\n",
       "      <td>...</td>\n",
       "      <td>...</td>\n",
       "    </tr>\n",
       "    <tr>\n",
       "      <th>234</th>\n",
       "      <td>users-2024-0821-0902-IMS6R-ctc3d</td>\n",
       "      <td>Autosuficiencia Alimentaria</td>\n",
       "      <td>Sierra Norte</td>\n",
       "    </tr>\n",
       "    <tr>\n",
       "      <th>235</th>\n",
       "      <td>users-2023-0606-0934-WegYr-NpaCr</td>\n",
       "      <td>NaN</td>\n",
       "      <td>NaN</td>\n",
       "    </tr>\n",
       "    <tr>\n",
       "      <th>236</th>\n",
       "      <td>users-2024-0820-0938-DuiFW-1tRsN</td>\n",
       "      <td>NaN</td>\n",
       "      <td>NaN</td>\n",
       "    </tr>\n",
       "    <tr>\n",
       "      <th>237</th>\n",
       "      <td>users-2023-0606-1015-0Mg62-ZhXkg</td>\n",
       "      <td>NaN</td>\n",
       "      <td>NaN</td>\n",
       "    </tr>\n",
       "    <tr>\n",
       "      <th>238</th>\n",
       "      <td>users-2024-0927-0204-2l48s-DhdsF</td>\n",
       "      <td>NaN</td>\n",
       "      <td>NaN</td>\n",
       "    </tr>\n",
       "  </tbody>\n",
       "</table>\n",
       "<p>239 rows × 3 columns</p>\n",
       "</div>"
      ],
      "text/plain": [
       "                                   id                     Programa  \\\n",
       "0    users-2023-0724-1048-KAgLB-hfT0v        Abasto Seguro de Maíz   \n",
       "1    users-2023-0601-1113-PJSxf-jigpv  Autosuficiencia Alimentaria   \n",
       "2    users-2023-0601-1111-TkEGA-QH4Vz  Autosuficiencia Alimentaria   \n",
       "3    users-2023-0601-1051-VJBXq-fUTkR  Autosuficiencia Alimentaria   \n",
       "4    users-2023-0601-1050-D0g7L-caov3                          NaN   \n",
       "..                                ...                          ...   \n",
       "234  users-2024-0821-0902-IMS6R-ctc3d  Autosuficiencia Alimentaria   \n",
       "235  users-2023-0606-0934-WegYr-NpaCr                          NaN   \n",
       "236  users-2024-0820-0938-DuiFW-1tRsN                          NaN   \n",
       "237  users-2023-0606-1015-0Mg62-ZhXkg                          NaN   \n",
       "238  users-2024-0927-0204-2l48s-DhdsF                          NaN   \n",
       "\n",
       "    Región de atención  \n",
       "0                Costa  \n",
       "1              Mixteca  \n",
       "2              Mixteca  \n",
       "3         Sierra Norte  \n",
       "4                  NaN  \n",
       "..                 ...  \n",
       "234       Sierra Norte  \n",
       "235                NaN  \n",
       "236                NaN  \n",
       "237                NaN  \n",
       "238                NaN  \n",
       "\n",
       "[239 rows x 3 columns]"
      ]
     },
     "execution_count": 40,
     "metadata": {},
     "output_type": "execute_result"
    }
   ],
   "source": [
    "relacion_tec"
   ]
  },
  {
   "cell_type": "code",
   "execution_count": 41,
   "metadata": {},
   "outputs": [],
   "source": [
    "vis_sep = vis_sep.merge(relacion_tec,left_on='Creado_Id.usuario',right_on='id',how='left')"
   ]
  },
  {
   "cell_type": "code",
   "execution_count": 42,
   "metadata": {},
   "outputs": [
    {
     "data": {
      "text/plain": [
       "(121, 58)"
      ]
     },
     "execution_count": 42,
     "metadata": {},
     "output_type": "execute_result"
    }
   ],
   "source": [
    "vis_sep.shape"
   ]
  },
  {
   "cell_type": "code",
   "execution_count": 51,
   "metadata": {},
   "outputs": [
    {
     "data": {
      "text/plain": [
       "id                     0\n",
       "Programa              58\n",
       "Región de atención    58\n",
       "dtype: int64"
      ]
     },
     "execution_count": 51,
     "metadata": {},
     "output_type": "execute_result"
    }
   ],
   "source": [
    "vis_sep[['id','Programa', 'Región de atención']].isnull().sum()"
   ]
  },
  {
   "cell_type": "code",
   "execution_count": null,
   "metadata": {},
   "outputs": [],
   "source": [
    "vis_sep"
   ]
  },
  {
   "cell_type": "code",
   "execution_count": 46,
   "metadata": {},
   "outputs": [
    {
     "data": {
      "text/html": [
       "<div>\n",
       "<style scoped>\n",
       "    .dataframe tbody tr th:only-of-type {\n",
       "        vertical-align: middle;\n",
       "    }\n",
       "\n",
       "    .dataframe tbody tr th {\n",
       "        vertical-align: top;\n",
       "    }\n",
       "\n",
       "    .dataframe thead th {\n",
       "        text-align: right;\n",
       "    }\n",
       "</style>\n",
       "<table border=\"1\" class=\"dataframe\">\n",
       "  <thead>\n",
       "    <tr style=\"text-align: right;\">\n",
       "      <th></th>\n",
       "      <th>id</th>\n",
       "      <th>Programa</th>\n",
       "      <th>Región de atención</th>\n",
       "    </tr>\n",
       "  </thead>\n",
       "  <tbody>\n",
       "    <tr>\n",
       "      <th>0</th>\n",
       "      <td>users-2023-0601-1113-PJSxf-jigpv</td>\n",
       "      <td>Autosuficiencia Alimentaria</td>\n",
       "      <td>Mixteca</td>\n",
       "    </tr>\n",
       "    <tr>\n",
       "      <th>1</th>\n",
       "      <td>users-2023-0601-1113-PJSxf-jigpv</td>\n",
       "      <td>Autosuficiencia Alimentaria</td>\n",
       "      <td>Mixteca</td>\n",
       "    </tr>\n",
       "    <tr>\n",
       "      <th>2</th>\n",
       "      <td>users-2023-0601-1000-YiAYQ-GYaX9</td>\n",
       "      <td>NaN</td>\n",
       "      <td>NaN</td>\n",
       "    </tr>\n",
       "    <tr>\n",
       "      <th>3</th>\n",
       "      <td>users-2023-0601-1050-iUmjH-Y28xX</td>\n",
       "      <td>Autosuficiencia Alimentaria</td>\n",
       "      <td>Sierra Norte</td>\n",
       "    </tr>\n",
       "    <tr>\n",
       "      <th>4</th>\n",
       "      <td>users-2023-0601-1050-iUmjH-Y28xX</td>\n",
       "      <td>Autosuficiencia Alimentaria</td>\n",
       "      <td>Sierra Norte</td>\n",
       "    </tr>\n",
       "    <tr>\n",
       "      <th>...</th>\n",
       "      <td>...</td>\n",
       "      <td>...</td>\n",
       "      <td>...</td>\n",
       "    </tr>\n",
       "    <tr>\n",
       "      <th>116</th>\n",
       "      <td>users-2023-0601-1030-ikwL5-tELBX</td>\n",
       "      <td>Autosuficiencia Alimentaria</td>\n",
       "      <td>Sierra Sur</td>\n",
       "    </tr>\n",
       "    <tr>\n",
       "      <th>117</th>\n",
       "      <td>users-2023-0601-1030-ikwL5-tELBX</td>\n",
       "      <td>Autosuficiencia Alimentaria</td>\n",
       "      <td>Sierra Sur</td>\n",
       "    </tr>\n",
       "    <tr>\n",
       "      <th>118</th>\n",
       "      <td>users-2023-0601-1030-ikwL5-tELBX</td>\n",
       "      <td>Autosuficiencia Alimentaria</td>\n",
       "      <td>Sierra Sur</td>\n",
       "    </tr>\n",
       "    <tr>\n",
       "      <th>119</th>\n",
       "      <td>users-2023-0601-1030-ikwL5-tELBX</td>\n",
       "      <td>Autosuficiencia Alimentaria</td>\n",
       "      <td>Sierra Sur</td>\n",
       "    </tr>\n",
       "    <tr>\n",
       "      <th>120</th>\n",
       "      <td>users-2023-0601-1030-ikwL5-tELBX</td>\n",
       "      <td>Autosuficiencia Alimentaria</td>\n",
       "      <td>Sierra Sur</td>\n",
       "    </tr>\n",
       "  </tbody>\n",
       "</table>\n",
       "<p>121 rows × 3 columns</p>\n",
       "</div>"
      ],
      "text/plain": [
       "                                   id                     Programa  \\\n",
       "0    users-2023-0601-1113-PJSxf-jigpv  Autosuficiencia Alimentaria   \n",
       "1    users-2023-0601-1113-PJSxf-jigpv  Autosuficiencia Alimentaria   \n",
       "2    users-2023-0601-1000-YiAYQ-GYaX9                          NaN   \n",
       "3    users-2023-0601-1050-iUmjH-Y28xX  Autosuficiencia Alimentaria   \n",
       "4    users-2023-0601-1050-iUmjH-Y28xX  Autosuficiencia Alimentaria   \n",
       "..                                ...                          ...   \n",
       "116  users-2023-0601-1030-ikwL5-tELBX  Autosuficiencia Alimentaria   \n",
       "117  users-2023-0601-1030-ikwL5-tELBX  Autosuficiencia Alimentaria   \n",
       "118  users-2023-0601-1030-ikwL5-tELBX  Autosuficiencia Alimentaria   \n",
       "119  users-2023-0601-1030-ikwL5-tELBX  Autosuficiencia Alimentaria   \n",
       "120  users-2023-0601-1030-ikwL5-tELBX  Autosuficiencia Alimentaria   \n",
       "\n",
       "    Región de atención  \n",
       "0              Mixteca  \n",
       "1              Mixteca  \n",
       "2                  NaN  \n",
       "3         Sierra Norte  \n",
       "4         Sierra Norte  \n",
       "..                 ...  \n",
       "116         Sierra Sur  \n",
       "117         Sierra Sur  \n",
       "118         Sierra Sur  \n",
       "119         Sierra Sur  \n",
       "120         Sierra Sur  \n",
       "\n",
       "[121 rows x 3 columns]"
      ]
     },
     "execution_count": 46,
     "metadata": {},
     "output_type": "execute_result"
    }
   ],
   "source": [
    "vis_sep[['id','Programa', 'Región de atención']]"
   ]
  },
  {
   "cell_type": "code",
   "execution_count": 60,
   "metadata": {},
   "outputs": [],
   "source": [
    "vis_sep['Región de atención'].fillna('Sin identificar',inplace=True)"
   ]
  },
  {
   "cell_type": "code",
   "execution_count": 62,
   "metadata": {},
   "outputs": [
    {
     "data": {
      "text/plain": [
       "array(['Mixteca', 'Sin identificar', 'Sierra Norte', 'Costa', 'Cañada',\n",
       "       'Papaloapan', 'Sierra Sur'], dtype=object)"
      ]
     },
     "execution_count": 62,
     "metadata": {},
     "output_type": "execute_result"
    }
   ],
   "source": [
    "vis_sep['Región de atención'].unique()"
   ]
  },
  {
   "cell_type": "code",
   "execution_count": 61,
   "metadata": {},
   "outputs": [
    {
     "name": "stderr",
     "output_type": "stream",
     "text": [
      "/tmp/ipykernel_379/2546297557.py:1: FutureWarning: A value is trying to be set on a copy of a DataFrame or Series through chained assignment using an inplace method.\n",
      "The behavior will change in pandas 3.0. This inplace method will never work because the intermediate object on which we are setting values always behaves as a copy.\n",
      "\n",
      "For example, when doing 'df[col].method(value, inplace=True)', try using 'df.method({col: value}, inplace=True)' or df[col] = df[col].method(value) instead, to perform the operation inplace on the original object.\n",
      "\n",
      "\n",
      "  vis_sep['Programa'].fillna('Sin identificar',inplace=True)\n"
     ]
    }
   ],
   "source": [
    "vis_sep['Programa'].fillna('Sin identificar',inplace=True)"
   ]
  },
  {
   "cell_type": "code",
   "execution_count": 63,
   "metadata": {},
   "outputs": [
    {
     "data": {
      "text/plain": [
       "array(['Autosuficiencia Alimentaria', 'Sin identificar',\n",
       "       'Abasto Seguro de Maíz'], dtype=object)"
      ]
     },
     "execution_count": 63,
     "metadata": {},
     "output_type": "execute_result"
    }
   ],
   "source": [
    "vis_sep['Programa'].unique()"
   ]
  },
  {
   "cell_type": "code",
   "execution_count": 48,
   "metadata": {},
   "outputs": [
    {
     "data": {
      "text/plain": [
       "15"
      ]
     },
     "execution_count": 48,
     "metadata": {},
     "output_type": "execute_result"
    }
   ],
   "source": [
    "vis_sep['Creado.por'].nunique()"
   ]
  },
  {
   "cell_type": "code",
   "execution_count": 49,
   "metadata": {},
   "outputs": [
    {
     "data": {
      "text/plain": [
       "Creado.por\n",
       "HeberJimenez_PSUR        24\n",
       "ErikMatus_PSUR           23\n",
       "AnayolibetReyes_PSUR     19\n",
       "RoseliaMartinez_PSUR     11\n",
       "MartinMariscal_PSUR       8\n",
       "JaimePereda_PSUR          8\n",
       "AidaLopez_PSUR            6\n",
       "OsielMelo_PSUR            5\n",
       "MelinaLopez_PSUR          4\n",
       "IrvingSantos_PSUR         4\n",
       "FreddyGalindo_PSUR        3\n",
       "JesusMendez_PSUR          2\n",
       "FroilaSantos_PSUR         2\n",
       "OscarVillalobos_PSUR      1\n",
       "CristinaSantiago_PSUR     1\n",
       "Name: count, dtype: int64"
      ]
     },
     "execution_count": 49,
     "metadata": {},
     "output_type": "execute_result"
    }
   ],
   "source": [
    "vis_sep['Creado.por'].value_counts()"
   ]
  },
  {
   "cell_type": "code",
   "execution_count": 76,
   "metadata": {},
   "outputs": [
    {
     "data": {
      "text/html": [
       "<div>\n",
       "<style scoped>\n",
       "    .dataframe tbody tr th:only-of-type {\n",
       "        vertical-align: middle;\n",
       "    }\n",
       "\n",
       "    .dataframe tbody tr th {\n",
       "        vertical-align: top;\n",
       "    }\n",
       "\n",
       "    .dataframe thead th {\n",
       "        text-align: right;\n",
       "    }\n",
       "</style>\n",
       "<table border=\"1\" class=\"dataframe\">\n",
       "  <thead>\n",
       "    <tr style=\"text-align: right;\">\n",
       "      <th></th>\n",
       "      <th>Id_Parcela</th>\n",
       "      <th>count</th>\n",
       "    </tr>\n",
       "  </thead>\n",
       "  <tbody>\n",
       "    <tr>\n",
       "      <th>0</th>\n",
       "      <td>RParc-2023-1229-0857-WZmgf-dqIRy</td>\n",
       "      <td>14</td>\n",
       "    </tr>\n",
       "    <tr>\n",
       "      <th>1</th>\n",
       "      <td>RParc-2023-1227-0620-dq6jL-1woQF</td>\n",
       "      <td>10</td>\n",
       "    </tr>\n",
       "    <tr>\n",
       "      <th>2</th>\n",
       "      <td>RParc-2023-0629-1208-MRJH8-ymPRK</td>\n",
       "      <td>8</td>\n",
       "    </tr>\n",
       "    <tr>\n",
       "      <th>3</th>\n",
       "      <td>RParc-2023-0814-0831-cafqx-CGrun</td>\n",
       "      <td>7</td>\n",
       "    </tr>\n",
       "    <tr>\n",
       "      <th>4</th>\n",
       "      <td>RParc-2023-0810-0252-6Hrps-9qJkg</td>\n",
       "      <td>6</td>\n",
       "    </tr>\n",
       "    <tr>\n",
       "      <th>5</th>\n",
       "      <td>RParc-2023-0912-1206-TAcjG-rOq4x</td>\n",
       "      <td>6</td>\n",
       "    </tr>\n",
       "    <tr>\n",
       "      <th>6</th>\n",
       "      <td>RParc-2023-0827-1148-e7Fl3-aP73A</td>\n",
       "      <td>5</td>\n",
       "    </tr>\n",
       "    <tr>\n",
       "      <th>7</th>\n",
       "      <td>RParc-2023-1028-0305-Haqbq-iD0ed</td>\n",
       "      <td>5</td>\n",
       "    </tr>\n",
       "    <tr>\n",
       "      <th>8</th>\n",
       "      <td>RParc-2023-0827-1146-g8mRB-5f90F</td>\n",
       "      <td>5</td>\n",
       "    </tr>\n",
       "    <tr>\n",
       "      <th>9</th>\n",
       "      <td>RParc-2023-0927-0359-0Zq0M-yUwhG</td>\n",
       "      <td>4</td>\n",
       "    </tr>\n",
       "    <tr>\n",
       "      <th>10</th>\n",
       "      <td>RParc-2023-0824-1256-7WwtG-YTDa3</td>\n",
       "      <td>4</td>\n",
       "    </tr>\n",
       "    <tr>\n",
       "      <th>11</th>\n",
       "      <td>RParc-2023-0827-1149-13L6h-dL5O0</td>\n",
       "      <td>4</td>\n",
       "    </tr>\n",
       "    <tr>\n",
       "      <th>12</th>\n",
       "      <td>RParc-2023-1107-1035-hF6tI-9Wo17</td>\n",
       "      <td>4</td>\n",
       "    </tr>\n",
       "    <tr>\n",
       "      <th>13</th>\n",
       "      <td>RParc-2023-1106-1248-3mbZT-mtvHH</td>\n",
       "      <td>4</td>\n",
       "    </tr>\n",
       "    <tr>\n",
       "      <th>14</th>\n",
       "      <td>RParc-2023-1227-0233-FyCOd-bQCpU</td>\n",
       "      <td>3</td>\n",
       "    </tr>\n",
       "    <tr>\n",
       "      <th>15</th>\n",
       "      <td>RParc-2023-0630-0958-6j28Y-1gXVK</td>\n",
       "      <td>3</td>\n",
       "    </tr>\n",
       "    <tr>\n",
       "      <th>16</th>\n",
       "      <td>RParc-2024-0125-1039-HDBo6-p8WQB</td>\n",
       "      <td>3</td>\n",
       "    </tr>\n",
       "    <tr>\n",
       "      <th>17</th>\n",
       "      <td>RParc-2023-1227-0954-egikJ-le9N2</td>\n",
       "      <td>3</td>\n",
       "    </tr>\n",
       "    <tr>\n",
       "      <th>18</th>\n",
       "      <td>RParc-2023-0824-0130-vQslN-XdeU6</td>\n",
       "      <td>3</td>\n",
       "    </tr>\n",
       "    <tr>\n",
       "      <th>19</th>\n",
       "      <td>RParc-2024-0106-0908-L8VP6-BrHVO</td>\n",
       "      <td>2</td>\n",
       "    </tr>\n",
       "    <tr>\n",
       "      <th>20</th>\n",
       "      <td>RParc-2023-1227-0953-Zcfzo-QhIwO</td>\n",
       "      <td>2</td>\n",
       "    </tr>\n",
       "    <tr>\n",
       "      <th>21</th>\n",
       "      <td>RParc-2024-0110-0725-QJefA-cWcEc</td>\n",
       "      <td>2</td>\n",
       "    </tr>\n",
       "    <tr>\n",
       "      <th>22</th>\n",
       "      <td>RParc-2023-1106-1244-ZP7dT-jiEFg</td>\n",
       "      <td>2</td>\n",
       "    </tr>\n",
       "    <tr>\n",
       "      <th>23</th>\n",
       "      <td>RParc-2023-1106-1250-K252R-XWpoe</td>\n",
       "      <td>2</td>\n",
       "    </tr>\n",
       "    <tr>\n",
       "      <th>24</th>\n",
       "      <td>RParc-2023-0824-0134-7D4Vb-O69Tv</td>\n",
       "      <td>2</td>\n",
       "    </tr>\n",
       "    <tr>\n",
       "      <th>25</th>\n",
       "      <td>RParc-2024-0106-0950-kgeWO-HFsXj</td>\n",
       "      <td>2</td>\n",
       "    </tr>\n",
       "    <tr>\n",
       "      <th>26</th>\n",
       "      <td>RParc-2023-0831-0923-anHHq-vmA0D</td>\n",
       "      <td>1</td>\n",
       "    </tr>\n",
       "    <tr>\n",
       "      <th>27</th>\n",
       "      <td>RParc-2023-0619-1106-UHQyO-nFmpT</td>\n",
       "      <td>1</td>\n",
       "    </tr>\n",
       "    <tr>\n",
       "      <th>28</th>\n",
       "      <td>RParc-2023-0722-0501-hMHg0-K9vlJ</td>\n",
       "      <td>1</td>\n",
       "    </tr>\n",
       "    <tr>\n",
       "      <th>29</th>\n",
       "      <td>RParc-2024-0103-1109-wPjuj-tDDcG</td>\n",
       "      <td>1</td>\n",
       "    </tr>\n",
       "    <tr>\n",
       "      <th>30</th>\n",
       "      <td>RParc-2023-1219-0936-quEqW-GVgVX</td>\n",
       "      <td>1</td>\n",
       "    </tr>\n",
       "    <tr>\n",
       "      <th>31</th>\n",
       "      <td>RParc-2023-1228-0406-fsNPL-GO352</td>\n",
       "      <td>1</td>\n",
       "    </tr>\n",
       "  </tbody>\n",
       "</table>\n",
       "</div>"
      ],
      "text/plain": [
       "                          Id_Parcela  count\n",
       "0   RParc-2023-1229-0857-WZmgf-dqIRy     14\n",
       "1   RParc-2023-1227-0620-dq6jL-1woQF     10\n",
       "2   RParc-2023-0629-1208-MRJH8-ymPRK      8\n",
       "3   RParc-2023-0814-0831-cafqx-CGrun      7\n",
       "4   RParc-2023-0810-0252-6Hrps-9qJkg      6\n",
       "5   RParc-2023-0912-1206-TAcjG-rOq4x      6\n",
       "6   RParc-2023-0827-1148-e7Fl3-aP73A      5\n",
       "7   RParc-2023-1028-0305-Haqbq-iD0ed      5\n",
       "8   RParc-2023-0827-1146-g8mRB-5f90F      5\n",
       "9   RParc-2023-0927-0359-0Zq0M-yUwhG      4\n",
       "10  RParc-2023-0824-1256-7WwtG-YTDa3      4\n",
       "11  RParc-2023-0827-1149-13L6h-dL5O0      4\n",
       "12  RParc-2023-1107-1035-hF6tI-9Wo17      4\n",
       "13  RParc-2023-1106-1248-3mbZT-mtvHH      4\n",
       "14  RParc-2023-1227-0233-FyCOd-bQCpU      3\n",
       "15  RParc-2023-0630-0958-6j28Y-1gXVK      3\n",
       "16  RParc-2024-0125-1039-HDBo6-p8WQB      3\n",
       "17  RParc-2023-1227-0954-egikJ-le9N2      3\n",
       "18  RParc-2023-0824-0130-vQslN-XdeU6      3\n",
       "19  RParc-2024-0106-0908-L8VP6-BrHVO      2\n",
       "20  RParc-2023-1227-0953-Zcfzo-QhIwO      2\n",
       "21  RParc-2024-0110-0725-QJefA-cWcEc      2\n",
       "22  RParc-2023-1106-1244-ZP7dT-jiEFg      2\n",
       "23  RParc-2023-1106-1250-K252R-XWpoe      2\n",
       "24  RParc-2023-0824-0134-7D4Vb-O69Tv      2\n",
       "25  RParc-2024-0106-0950-kgeWO-HFsXj      2\n",
       "26  RParc-2023-0831-0923-anHHq-vmA0D      1\n",
       "27  RParc-2023-0619-1106-UHQyO-nFmpT      1\n",
       "28  RParc-2023-0722-0501-hMHg0-K9vlJ      1\n",
       "29  RParc-2024-0103-1109-wPjuj-tDDcG      1\n",
       "30  RParc-2023-1219-0936-quEqW-GVgVX      1\n",
       "31  RParc-2023-1228-0406-fsNPL-GO352      1"
      ]
     },
     "execution_count": 76,
     "metadata": {},
     "output_type": "execute_result"
    }
   ],
   "source": [
    "vis_sep['Id_Parcela'].value_counts().reset_index()"
   ]
  },
  {
   "cell_type": "code",
   "execution_count": 64,
   "metadata": {},
   "outputs": [],
   "source": [
    "# vis_sep.to_csv('../data/visitas_sep_clean.csv')"
   ]
  },
  {
   "cell_type": "code",
   "execution_count": 50,
   "metadata": {},
   "outputs": [],
   "source": [
    "# vis_oct = pd.read_csv(oct_path)"
   ]
  },
  {
   "cell_type": "code",
   "execution_count": 52,
   "metadata": {},
   "outputs": [],
   "source": [
    "vis_oct = vis_oct.merge(relacion_tec,left_on='Creado_Id.usuario',right_on='id',how='left')"
   ]
  },
  {
   "cell_type": "code",
   "execution_count": 55,
   "metadata": {},
   "outputs": [],
   "source": [
    "vis_oct['Programa'].fillna('Sin identificar',inplace=True)"
   ]
  },
  {
   "cell_type": "code",
   "execution_count": 56,
   "metadata": {},
   "outputs": [
    {
     "data": {
      "text/plain": [
       "array(['Autosuficiencia Alimentaria', 'Sin identificar',\n",
       "       'Abasto Seguro de Maíz'], dtype=object)"
      ]
     },
     "execution_count": 56,
     "metadata": {},
     "output_type": "execute_result"
    }
   ],
   "source": [
    "vis_oct['Programa'].unique()"
   ]
  },
  {
   "cell_type": "code",
   "execution_count": 57,
   "metadata": {},
   "outputs": [
    {
     "name": "stderr",
     "output_type": "stream",
     "text": [
      "/tmp/ipykernel_379/661354656.py:1: FutureWarning: A value is trying to be set on a copy of a DataFrame or Series through chained assignment using an inplace method.\n",
      "The behavior will change in pandas 3.0. This inplace method will never work because the intermediate object on which we are setting values always behaves as a copy.\n",
      "\n",
      "For example, when doing 'df[col].method(value, inplace=True)', try using 'df.method({col: value}, inplace=True)' or df[col] = df[col].method(value) instead, to perform the operation inplace on the original object.\n",
      "\n",
      "\n",
      "  vis_oct['Región de atención'].fillna('Sin identificar',inplace=True)\n"
     ]
    }
   ],
   "source": [
    "vis_oct['Región de atención'].fillna('Sin identificar',inplace=True)"
   ]
  },
  {
   "cell_type": "code",
   "execution_count": 58,
   "metadata": {},
   "outputs": [
    {
     "data": {
      "text/plain": [
       "array(['Mixteca', 'Sin identificar', 'Sierra Norte', 'Costa', 'Cañada',\n",
       "       'Papaloapan', 'Sierra Sur'], dtype=object)"
      ]
     },
     "execution_count": 58,
     "metadata": {},
     "output_type": "execute_result"
    }
   ],
   "source": [
    "vis_oct['Región de atención'].unique()"
   ]
  },
  {
   "cell_type": "code",
   "execution_count": 53,
   "metadata": {},
   "outputs": [
    {
     "data": {
      "text/plain": [
       "id                     0\n",
       "Programa              58\n",
       "Región de atención    58\n",
       "dtype: int64"
      ]
     },
     "execution_count": 53,
     "metadata": {},
     "output_type": "execute_result"
    }
   ],
   "source": [
    "\n",
    "vis_oct[['id','Programa', 'Región de atención']].isnull().sum()\n",
    "\"\"\"\n",
    "id                     0\n",
    "Programa              58\n",
    "Región de atención    58\n",
    "dtype: int64\n",
    "\"\"\""
   ]
  },
  {
   "cell_type": "code",
   "execution_count": 65,
   "metadata": {},
   "outputs": [],
   "source": [
    "# vis_oct.to_csv('../data/visitas_oct_clean.csv')"
   ]
  },
  {
   "cell_type": "code",
   "execution_count": null,
   "metadata": {},
   "outputs": [],
   "source": [
    "vis_oct.groupby('Id_Parcela')['Id_Visitas'].value_counts().reset_index().sort_values(by='count',ascending=True)"
   ]
  },
  {
   "cell_type": "code",
   "execution_count": null,
   "metadata": {},
   "outputs": [],
   "source": [
    "vis_oct['Id_Parcela'].value_counts()"
   ]
  },
  {
   "cell_type": "code",
   "execution_count": 66,
   "metadata": {},
   "outputs": [
    {
     "data": {
      "text/plain": [
       "Index(['Id_Visitas', 'ID.Bitacora', 'Tipo.de.bitacora', 'Proyecto',\n",
       "       'Id_Productor', 'Productor', 'Id_Parcela', 'Parcela',\n",
       "       'Tipo.de.Superficie', 'Cultivo.1', 'Etapa.Cultivo.1', 'Cultivo.2',\n",
       "       'Etapa.cultivo.2', 'Cultivo.3', 'Etapa.cultivo.3', 'Fecha.de.visita',\n",
       "       'Fotografia.general.de.la.parcela', 'Pie.de.fotografia.general',\n",
       "       'Seleccione.los.problemas.que.actualmente.presenta.el.cultivo.parcela',\n",
       "       'Estado.general.de.la.parcela', 'Actividad.realizada',\n",
       "       'Recomendaciones', 'Observaciones',\n",
       "       'Número.de.tecnologias.que.visualizo.implementadas.en.la.parcela.',\n",
       "       'Innovación.especifica.1', 'Innovación.general.equivalente.1',\n",
       "       'Innovación.especifica.2', 'Innovación.general.equivalente.2',\n",
       "       'Innovación.especifica.3', 'Innovación.general.equivalente.3',\n",
       "       'Innovación.especifica.4', 'Innovación.general.equivalente.4',\n",
       "       'Innovación.especifica.5', 'Innovación.general.equivalente.5',\n",
       "       'Innovación.especifica.6', 'Innovación.general.equivalente.6',\n",
       "       'Innovación.especifica.7', 'Innovación.general.equivalente.7',\n",
       "       'Innovación.especifica.8', 'Innovación.general.equivalente.8',\n",
       "       'Innovación.especifica.9', 'Innovación.general.equivalente.9',\n",
       "       'Innovación.especifica.10', 'Innovación.general.equivalente.10',\n",
       "       'Especifique.tecnología', 'Tecnologías.para.papa', 'Creado_Id.usuario',\n",
       "       'Creado.por', 'Modificado_Id.usuario', 'Modificado.por.Usuario',\n",
       "       'deleted_Visitas', 'Fecha_modificación', 'Fecha_creación',\n",
       "       'ID.de.Cultivos', 'Tipo.de.superficie', 'id', 'Programa',\n",
       "       'Región de atención'],\n",
       "      dtype='object')"
      ]
     },
     "execution_count": 66,
     "metadata": {},
     "output_type": "execute_result"
    }
   ],
   "source": [
    "vis_oct.columns"
   ]
  },
  {
   "cell_type": "code",
   "execution_count": 67,
   "metadata": {},
   "outputs": [],
   "source": [
    "cols=['Id_Visitas',  'Tipo.de.bitacora', 'Proyecto',\n",
    "       'Id_Productor', 'Productor', 'Id_Parcela', 'Parcela',\n",
    "       'Tipo.de.Superficie', 'Cultivo.1', 'Etapa.Cultivo.1', 'Cultivo.2',\n",
    "       'Etapa.cultivo.2', 'Cultivo.3', 'Etapa.cultivo.3', 'Fecha.de.visita',\n",
    "       'Fotografia.general.de.la.parcela', 'Pie.de.fotografia.general',\n",
    "       'Seleccione.los.problemas.que.actualmente.presenta.el.cultivo.parcela',\n",
    "       'Estado.general.de.la.parcela', 'Actividad.realizada',\n",
    "       'Recomendaciones', 'Observaciones',\n",
    "       'Número.de.tecnologias.que.visualizo.implementadas.en.la.parcela.',\n",
    "       'Innovación.especifica.1', 'Innovación.general.equivalente.1',\n",
    "       'Innovación.especifica.2', 'Innovación.general.equivalente.2',\n",
    "       'Innovación.especifica.3', 'Innovación.general.equivalente.3',\n",
    "       'Innovación.especifica.4', 'Innovación.general.equivalente.4',\n",
    "       'Innovación.especifica.5', 'Innovación.general.equivalente.5',\n",
    "       'Innovación.especifica.6', 'Innovación.general.equivalente.6',\n",
    "       'Innovación.especifica.7', 'Innovación.general.equivalente.7',\n",
    "       'Innovación.especifica.8', 'Innovación.general.equivalente.8',\n",
    "       'Innovación.especifica.9', 'Innovación.general.equivalente.9',\n",
    "       'Innovación.especifica.10', 'Innovación.general.equivalente.10',\n",
    "       'Especifique.tecnología', 'Tecnologías.para.papa', 'Creado_Id.usuario',\n",
    "       'Creado.por', 'Modificado_Id.usuario', 'Modificado.por.Usuario',\n",
    "       'deleted_Visitas', 'Fecha_modificación', 'Fecha_creación',\n",
    "       'ID.de.Cultivos', 'Tipo.de.superficie']"
   ]
  },
  {
   "cell_type": "code",
   "execution_count": null,
   "metadata": {},
   "outputs": [],
   "source": [
    "revisar si no hay nulos"
   ]
  },
  {
   "cell_type": "code",
   "execution_count": 68,
   "metadata": {},
   "outputs": [
    {
     "data": {
      "text/plain": [
       "['Proyecto',\n",
       " 'Id_Productor',\n",
       " 'Productor',\n",
       " 'Id_Parcela',\n",
       " 'Parcela',\n",
       " 'Tipo.de.Superficie',\n",
       " 'Cultivo.1',\n",
       " 'Etapa.Cultivo.1',\n",
       " 'Cultivo.2',\n",
       " 'Etapa.cultivo.2',\n",
       " 'Cultivo.3',\n",
       " 'Etapa.cultivo.3',\n",
       " 'Fecha.de.visita',\n",
       " 'Fotografia.general.de.la.parcela',\n",
       " 'Pie.de.fotografia.general',\n",
       " 'Seleccione.los.problemas.que.actualmente.presenta.el.cultivo.parcela',\n",
       " 'Estado.general.de.la.parcela',\n",
       " 'Actividad.realizada',\n",
       " 'Recomendaciones',\n",
       " 'Observaciones',\n",
       " 'Número.de.tecnologias.que.visualizo.implementadas.en.la.parcela.',\n",
       " 'Innovación.especifica.1',\n",
       " 'Innovación.general.equivalente.1',\n",
       " 'Innovación.especifica.2',\n",
       " 'Innovación.general.equivalente.2',\n",
       " 'Innovación.especifica.3',\n",
       " 'Innovación.general.equivalente.3',\n",
       " 'Innovación.especifica.4',\n",
       " 'Innovación.general.equivalente.4',\n",
       " 'Innovación.especifica.5',\n",
       " 'Innovación.general.equivalente.5',\n",
       " 'Innovación.especifica.6',\n",
       " 'Innovación.general.equivalente.6',\n",
       " 'Innovación.especifica.7',\n",
       " 'Innovación.general.equivalente.7',\n",
       " 'Innovación.especifica.8',\n",
       " 'Innovación.general.equivalente.8',\n",
       " 'Innovación.especifica.9',\n",
       " 'Innovación.general.equivalente.9',\n",
       " 'Innovación.especifica.10',\n",
       " 'Innovación.general.equivalente.10',\n",
       " 'Especifique.tecnología',\n",
       " 'Tecnologías.para.papa',\n",
       " 'Creado_Id.usuario',\n",
       " 'Creado.por',\n",
       " 'Modificado_Id.usuario',\n",
       " 'Modificado.por.Usuario',\n",
       " 'deleted_Visitas',\n",
       " 'Fecha_modificación',\n",
       " 'Fecha_creación',\n",
       " 'ID.de.Cultivos',\n",
       " 'Tipo.de.superficie']"
      ]
     },
     "execution_count": 68,
     "metadata": {},
     "output_type": "execute_result"
    }
   ],
   "source": [
    "cols[2:]"
   ]
  },
  {
   "cell_type": "code",
   "execution_count": null,
   "metadata": {},
   "outputs": [],
   "source": []
  }
 ],
 "metadata": {
  "kernelspec": {
   "display_name": "venv",
   "language": "python",
   "name": "python3"
  },
  "language_info": {
   "codemirror_mode": {
    "name": "ipython",
    "version": 3
   },
   "file_extension": ".py",
   "mimetype": "text/x-python",
   "name": "python",
   "nbconvert_exporter": "python",
   "pygments_lexer": "ipython3",
   "version": "3.10.12"
  }
 },
 "nbformat": 4,
 "nbformat_minor": 2
}
