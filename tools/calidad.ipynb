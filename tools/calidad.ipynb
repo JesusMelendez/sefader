{
 "cells": [
  {
   "cell_type": "code",
   "execution_count": 2,
   "metadata": {},
   "outputs": [],
   "source": [
    "import pandas as pd"
   ]
  },
  {
   "cell_type": "code",
   "execution_count": 2,
   "metadata": {},
   "outputs": [],
   "source": [
    "path_data = '../data/errors_oct_30_.csv'"
   ]
  },
  {
   "cell_type": "code",
   "execution_count": 3,
   "metadata": {},
   "outputs": [],
   "source": [
    "corte_error_oct = pd.read_csv(path_data)"
   ]
  },
  {
   "cell_type": "code",
   "execution_count": 5,
   "metadata": {},
   "outputs": [
    {
     "name": "stdout",
     "output_type": "stream",
     "text": [
      "<class 'pandas.core.frame.DataFrame'>\n",
      "RangeIndex: 672 entries, 0 to 671\n",
      "Data columns (total 40 columns):\n",
      " #   Column                          Non-Null Count  Dtype  \n",
      "---  ------                          --------------  -----  \n",
      " 0   ID.de.bitacora                  672 non-null    object \n",
      " 1   Tipo.de.superficie              672 non-null    object \n",
      " 2   ID.del.productor                92 non-null     object \n",
      " 3   Nombre.Productor                672 non-null    object \n",
      " 4   CURP                            92 non-null     object \n",
      " 5   ID.parcela                      0 non-null      float64\n",
      " 6   ID.del.sitio                    0 non-null      float64\n",
      " 7   Nombre.de.la.Parcela            672 non-null    object \n",
      " 8   Estado.areas                    672 non-null    object \n",
      " 9   Municipio.areas                 672 non-null    object \n",
      " 10  Coordenadas.areas               672 non-null    object \n",
      " 11  Tipo.de.bitacora                672 non-null    object \n",
      " 12  Anio.Bitacora                   672 non-null    object \n",
      " 13  Ciclo                           672 non-null    object \n",
      " 14  Regimen.hidrico                 672 non-null    object \n",
      " 15  Superficie.sembrada             672 non-null    float64\n",
      " 16  Superficie.Total.de.la.parcela  672 non-null    float64\n",
      " 17  Cultivo.1                       672 non-null    object \n",
      " 18  Cultivo.2                       209 non-null    object \n",
      " 19  Cultivo.3                       206 non-null    object \n",
      " 20  Proyecto                        672 non-null    object \n",
      " 21  Bitacora.registrada.por         672 non-null    object \n",
      " 22  Id_Cultivos                     672 non-null    object \n",
      " 23  Agricultura de conservacion     672 non-null    int64  \n",
      " 24  Arreglos de siembra             672 non-null    int64  \n",
      " 25  Comercializacion                672 non-null    int64  \n",
      " 26  Conservacion de agua            672 non-null    int64  \n",
      " 27  Conservacion del suelo          672 non-null    int64  \n",
      " 28  Fertilizacion                   672 non-null    int64  \n",
      " 29  Manejo integrado de plagas      672 non-null    int64  \n",
      " 30  Tecnologias de poscosecha       672 non-null    int64  \n",
      " 31  Variedades mejoradas            672 non-null    int64  \n",
      " 32  Otra                            672 non-null    int64  \n",
      " 33  SumTecs                         672 non-null    int64  \n",
      " 34  primary_k                       672 non-null    object \n",
      " 35  Programa                        672 non-null    object \n",
      " 36  NOMBRE DEL USUARIO              577 non-null    object \n",
      " 37  info_geo                        0 non-null      float64\n",
      " 38  n_vertices                      0 non-null      float64\n",
      " 39  type_geometry                   0 non-null      float64\n",
      "dtypes: float64(7), int64(11), object(22)\n",
      "memory usage: 210.1+ KB\n"
     ]
    }
   ],
   "source": [
    "corte_error_oct.info()"
   ]
  },
  {
   "cell_type": "code",
   "execution_count": 7,
   "metadata": {},
   "outputs": [],
   "source": [
    "surface = pd.read_csv('../data/bitacoras_sup_cost.csv',encoding='1252')"
   ]
  },
  {
   "cell_type": "code",
   "execution_count": 8,
   "metadata": {},
   "outputs": [
    {
     "data": {
      "text/plain": [
       "Index(['NomUsuario', 'Hub operativo', 'Superficie Total de la parcela (ha)',\n",
       "       'ID_Bitacora', 'Tipo de bitacora', 'Año-ciclo-bitacora',\n",
       "       'Regimen hidrico', 'Id_Cultivos', 'Tipo de superficie',\n",
       "       'Superficie sembrada (ha)', 'Num_cultivos_registrados',\n",
       "       'Num_productos_registrados', 'Num_rendimientos_registrados',\n",
       "       'Costo acumulado'],\n",
       "      dtype='object')"
      ]
     },
     "execution_count": 8,
     "metadata": {},
     "output_type": "execute_result"
    }
   ],
   "source": [
    "surface.columns"
   ]
  },
  {
   "cell_type": "code",
   "execution_count": 11,
   "metadata": {},
   "outputs": [],
   "source": [
    "score = pd.read_csv('../data/score_bitacoras.csv')"
   ]
  },
  {
   "cell_type": "code",
   "execution_count": 12,
   "metadata": {},
   "outputs": [
    {
     "data": {
      "text/plain": [
       "Index(['NomUsuario', 'Hub operativo', 'Superficie Total de la parcela (ha)',\n",
       "       'ID_Bitacora', 'Tipo de bitacora', 'Proyecto', 'Anio-ciclo-bitacora',\n",
       "       'Regimen hidrico', 'Id_Cultivos', 'Tipo de superficie',\n",
       "       'Porcentaje de avance (por tipo de superficie)'],\n",
       "      dtype='object')"
      ]
     },
     "execution_count": 12,
     "metadata": {},
     "output_type": "execute_result"
    }
   ],
   "source": [
    "score.columns"
   ]
  }
 ],
 "metadata": {
  "kernelspec": {
   "display_name": "venv",
   "language": "python",
   "name": "python3"
  },
  "language_info": {
   "codemirror_mode": {
    "name": "ipython",
    "version": 3
   },
   "file_extension": ".py",
   "mimetype": "text/x-python",
   "name": "python",
   "nbconvert_exporter": "python",
   "pygments_lexer": "ipython3",
   "version": "3.10.12"
  }
 },
 "nbformat": 4,
 "nbformat_minor": 2
}
