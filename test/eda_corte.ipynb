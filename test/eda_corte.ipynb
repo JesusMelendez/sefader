{
 "cells": [
  {
   "cell_type": "code",
   "execution_count": 1,
   "metadata": {},
   "outputs": [],
   "source": [
    "import pandas as pd"
   ]
  },
  {
   "cell_type": "code",
   "execution_count": 2,
   "metadata": {},
   "outputs": [
    {
     "name": "stderr",
     "output_type": "stream",
     "text": [
      "/tmp/ipykernel_15787/639686621.py:1: DtypeWarning: Columns (5,6) have mixed types. Specify dtype option on import or set low_memory=False.\n",
      "  df=pd.read_csv('../data/corte_clean_sept.csv')\n"
     ]
    }
   ],
   "source": [
    "df=pd.read_csv('../data/corte_clean_sept.csv')"
   ]
  },
  {
   "cell_type": "code",
   "execution_count": 3,
   "metadata": {},
   "outputs": [
    {
     "name": "stdout",
     "output_type": "stream",
     "text": [
      "<class 'pandas.core.frame.DataFrame'>\n",
      "RangeIndex: 41456 entries, 0 to 41455\n",
      "Data columns (total 87 columns):\n",
      " #   Column                                                                                             Non-Null Count  Dtype  \n",
      "---  ------                                                                                             --------------  -----  \n",
      " 0   Unnamed: 0                                                                                         41456 non-null  int64  \n",
      " 1   ID.de.bitacora                                                                                     41456 non-null  object \n",
      " 2   Tipo.de.superficie                                                                                 41456 non-null  object \n",
      " 3   ID.del.productor                                                                                   4001 non-null   object \n",
      " 4   CURP                                                                                               4001 non-null   object \n",
      " 5   ID.parcela                                                                                         1930 non-null   object \n",
      " 6   ID.del.sitio                                                                                       3407 non-null   object \n",
      " 7   Nombre.de.la.Parcela                                                                               41456 non-null  object \n",
      " 8   Estado.areas                                                                                       41456 non-null  object \n",
      " 9   Municipio.areas                                                                                    41454 non-null  object \n",
      " 10  Tipo.de.bitacora                                                                                   41456 non-null  object \n",
      " 11  Anio.Bitacora                                                                                      41456 non-null  object \n",
      " 12  Ciclo                                                                                              41456 non-null  object \n",
      " 13  Regimen.hidrico                                                                                    41456 non-null  object \n",
      " 14  Superficie.sembrada                                                                                41456 non-null  float64\n",
      " 15  Superficie.Total.de.la.parcela                                                                     41456 non-null  float64\n",
      " 16  Cultivo.1                                                                                          41456 non-null  object \n",
      " 17  Cultivo.2                                                                                          14993 non-null  object \n",
      " 18  Cultivo.3                                                                                          11776 non-null  object \n",
      " 19  Proyecto                                                                                           41456 non-null  object \n",
      " 20  NOMBRE DEL USUARIO                                                                                 36006 non-null  object \n",
      " 21  Id_Cultivos                                                                                        41456 non-null  object \n",
      " 22  1_AC_Cultivos_de_cobertura                                                                         41456 non-null  int64  \n",
      " 23  2_AC_Fertilizadora_reformadora_aplicada_para_poder_hacer_AC                                        41456 non-null  int64  \n",
      " 24  3_AC_Implementos_para_acondicionamiento_de_parcela_anio_cero                                       41456 non-null  int64  \n",
      " 25  4_AC_Implementos_para_adaptar_maquinaria_convencional_para_uso_en_AC                               41456 non-null  int64  \n",
      " 26  5_AC_Inclusion_de_nuevos_cultivos_en_sistema_de_produccion_de_maiz_y_grano_pequenio                41456 non-null  int64  \n",
      " 27  6_AC_Labranza_en_lineas_de_Siembra                                                                 41456 non-null  int64  \n",
      " 28  7_AC_Manejo_de_rastrojo_uso_de_desmenuzadora_manual_o_mecanica                                     41456 non-null  int64  \n",
      " 29  8_AC_Maquinaria_en_AC_para_operaciones_en_practicas_de_labranza_cero_o_reducido                    41456 non-null  int64  \n",
      " 30  9_AC_Rotacion_Diversificacion_de_cultivos_con_cultivo_no_tradicional                               41456 non-null  int64  \n",
      " 31  10_AC_Roturacion_vertical_con_subsuelo_y_arado_de_cinceles_para_preparar_anio_cero                 41456 non-null  int64  \n",
      " 32  11_AC_Uso_de_camas_permanentes                                                                     41456 non-null  int64  \n",
      " 33  12_Arreglos_Densidades_de_siembra_optimos                                                          41456 non-null  int64  \n",
      " 34  13_Arreglos_Siembras_en_hileras_para_grano_pequenio                                                41456 non-null  int64  \n",
      " 35  14_Comerc_Incorporacion_de_nuevos_cultivos_de_alto_valor_con_orientacion_al_mercado                41456 non-null  int64  \n",
      " 36  15_Comerc_Uso_de_agricultura_por_contrato                                                          41456 non-null  int64  \n",
      " 37  16_Cons_Agua_Correccion_de_la_compactacion                                                         41456 non-null  int64  \n",
      " 38  17_Cons_Agua_Curvas_de_nivel_o_desnivel                                                            41456 non-null  int64  \n",
      " 39  18_Cons_Agua_Nivelacion_de_la_parcela                                                              41456 non-null  int64  \n",
      " 40  19_Cons_Agua_Nivelacion_de_suelos                                                                  41456 non-null  int64  \n",
      " 41  20_Cons_Agua_Obras_de_conservacion_de_suelo_y_agua                                                 41456 non-null  int64  \n",
      " 42  21_Cons_Agua_Riego_por_aspersion                                                                   41456 non-null  int64  \n",
      " 43  22_Cons_Agua_Riego_por_goteo                                                                       41456 non-null  int64  \n",
      " 44  23_Cons_Suelo_Curvas_a_nivel                                                                       41456 non-null  int64  \n",
      " 45  24_Cons_Suelo_Sistema_Milpa_Intercalado_con_Arboles_Frutales_MIAF                                  41456 non-null  int64  \n",
      " 46  25_Fert_Abonos_organicos_como_fuente_de_nutrientes_compostas                                       41456 non-null  int64  \n",
      " 47  26_Fert_Aplicacion_de_fertilizantes_foliares_de_acuerdo_con_la_etapa_fenologica_del_cultivo        41456 non-null  int64  \n",
      " 48  27_Fert_Aplicacion_del_fertilizante_en_momentos_adecuados                                          41456 non-null  int64  \n",
      " 49  28_Fert_Biofertilizantes_como_fuente_de_nutrientes                                                 41456 non-null  int64  \n",
      " 50  29_Fert_Enmiendas_de_suelo_cal_dolomita_y_yeso_agricola                                            41456 non-null  int64  \n",
      " 51  30_Fert_Fertilizantes_inorganicos_como_nutrientes_en_manera_y_cantidad_correcta                    41456 non-null  int64  \n",
      " 52  31_Fert_Forma_de_aplicacion_de_fertilizante_para_mejorar_efectividad                               41456 non-null  int64  \n",
      " 53  32_Fert_Herramientas_de_diagnostico_analisis_de_suelos                                             41456 non-null  int64  \n",
      " 54  33_Fert_Incorporacion_de_rastrojo_de_la_cosecha_anterior                                           41456 non-null  int64  \n",
      " 55  34_MIP_Caldos_minerales_agua_de_vidrio_caldo_sulfocalcico_caldo_ceniza_etc                         41456 non-null  int64  \n",
      " 56  35_MIP_Control_biologico_hongos_entomopatogenos_liberacion_de_insectos                             41456 non-null  int64  \n",
      " 57  36_MIP_Extractos_vegetales_tabaco_higuerilla_nim_etc                                               41456 non-null  int64  \n",
      " 58  37_MIP_Feromonas_para_el_control_de_plagas                                                         41456 non-null  int64  \n",
      " 59  38_MIP_Insectos_beneficos                                                                          41456 non-null  int64  \n",
      " 60  39_MIP_Maquinaria_multi_uso_y_multi_cultivo_en_un_sistema_diferente_a_AC                           41456 non-null  int64  \n",
      " 61  40_MIP_Monitoreo_de_plagas_en_campo                                                                41456 non-null  int64  \n",
      " 62  41_MIP_Tratamiento_de_semilla_micorrizas_harina_de_roca_etc                                        41456 non-null  int64  \n",
      " 63  42_MIP_Tratamientos_de_semillas_fungicidas                                                         41456 non-null  int64  \n",
      " 64  43_MIP_Uso_de_la_biodiversidad_funcional_enemigos_naturales                                        41456 non-null  int64  \n",
      " 65  44_Otra_Reduccion_en_el_uso_de_pesticidas_altamente_peligrosos_insecticidas_herbicidas_fungicidas  41456 non-null  int64  \n",
      " 66  44.1_Otra_Usos_alternativos_del_rastrojo_sustrato_para_produccion_de_hongos                        41456 non-null  int64  \n",
      " 67  45_Posc_Alamacenamiento_hermetico                                                                  41456 non-null  int64  \n",
      " 68  46_Posc_Desgranadora_eficiente                                                                     41456 non-null  int64  \n",
      " 69  47_Posc_Polvos_inertes_cal_micronizada                                                             41456 non-null  int64  \n",
      " 70  48_Posc_Secado_del_grano                                                                           41456 non-null  int64  \n",
      " 71  49_Posc_Uso_de_feromonas_sexuales                                                                  41456 non-null  int64  \n",
      " 72  50_Var_Criollos_mejorados                                                                          41456 non-null  int64  \n",
      " 73  51_Var_Variedades_hibridas_donde_antes_no_se_usaban_o_que_son_de_Semilleras_MasAgro                41456 non-null  int64  \n",
      " 74  52_Var_Variedades_mejoradas_de_trigo                                                               41456 non-null  int64  \n",
      " 75  53_Var_Variedades_mejoradas_incluye_polinizacion_abierta_OPV_maiz                                  41456 non-null  int64  \n",
      " 76  SumTecs                                                                                            41456 non-null  int64  \n",
      " 77  primary_k                                                                                          41456 non-null  object \n",
      " 78  Programa                                                                                           41456 non-null  object \n",
      " 79  type_geometry                                                                                      41456 non-null  object \n",
      " 80  index_right                                                                                        41456 non-null  int64  \n",
      " 81  CVE_ENT                                                                                            41456 non-null  int64  \n",
      " 82  CVE_MUN                                                                                            41456 non-null  int64  \n",
      " 83  NOM_MUN                                                                                            41456 non-null  object \n",
      " 84  NOM_ENT                                                                                            41456 non-null  object \n",
      " 85  CLAVE                                                                                              41456 non-null  int64  \n",
      " 86  Region                                                                                             41456 non-null  object \n",
      "dtypes: float64(2), int64(60), object(25)\n",
      "memory usage: 27.5+ MB\n"
     ]
    }
   ],
   "source": [
    "df.info()"
   ]
  },
  {
   "cell_type": "code",
   "execution_count": 4,
   "metadata": {},
   "outputs": [
    {
     "data": {
      "text/plain": [
       "array(['POLYGON ((-95.51424973 16.4406485, -95.51435165 16.44067422, -95.51416926 16.44113214, -95.51419072 16.44124018, -95.5143141 16.4413225, -95.5144643 16.44130707, -95.51460378 16.44123504, -95.5144804 16.44155403, -95.5143141 16.44169809, -95.51417462 16.4417444, -95.51405124 16.44174954, -95.51396541 16.44171867, -95.5139064 16.44167237, -95.51386885 16.44161063, -95.51374011 16.4416878, -95.51377229 16.44201194, -95.51360063 16.44251616, -95.51324121 16.44245956, -95.5132734 16.44200165, -95.51322512 16.44187817, -95.51321439 16.44175983, -95.51325731 16.44161063, -95.51333777 16.44145628, -95.51348261 16.44132765, -95.51367037 16.4411733, -95.51385812 16.44106011, -95.51401369 16.44096749, -95.51417999 16.44063821, -95.51424973 16.4406485))',\n",
       "       'POLYGON ((-95.52305923 16.44835046, -95.52331136 16.44731633, -95.52385317 16.44749126, -95.52348302 16.44842763, -95.52020536 16.44806234, -95.51984594 16.44856654, -95.52004979 16.44862314, -95.52026973 16.44864886, -95.52050577 16.44863857, -95.52139626 16.44840705, -95.52143381 16.44820126, -95.5218576 16.4482527, -95.52305923 16.44835046))',\n",
       "       'POLYGON ((-96.54603488 16.50521793, -96.54631249 16.49860087, -96.54627762 16.4986703, -96.54629103 16.49871917, -96.54635272 16.49873974, -96.546401 16.49876546, -96.54642514 16.49871402, -96.54644928 16.49864973, -96.54645733 16.49861115, -96.54645733 16.49858286, -96.54644391 16.498552, -96.54637418 16.49854172, -96.54633126 16.49855972, -96.54631517 16.49860344, -96.54603488 16.50521793))',\n",
       "       ..., 'POINT (-98.168163 17.284949)',\n",
       "       'POINT (-97.966205 17.282966)', 'POINT (-97.971658 17.279516)'],\n",
       "      dtype=object)"
      ]
     },
     "execution_count": 4,
     "metadata": {},
     "output_type": "execute_result"
    }
   ],
   "source": [
    "df['type_geometry'].unique()"
   ]
  },
  {
   "cell_type": "code",
   "execution_count": 7,
   "metadata": {},
   "outputs": [
    {
     "data": {
      "text/plain": [
       "0"
      ]
     },
     "execution_count": 7,
     "metadata": {},
     "output_type": "execute_result"
    }
   ],
   "source": [
    "df['Tipo.de.bitacora'].isnull().sum()"
   ]
  },
  {
   "cell_type": "code",
   "execution_count": 9,
   "metadata": {},
   "outputs": [
    {
     "data": {
      "text/plain": [
       "(41456, 87)"
      ]
     },
     "execution_count": 9,
     "metadata": {},
     "output_type": "execute_result"
    }
   ],
   "source": [
    "df.shape"
   ]
  },
  {
   "cell_type": "code",
   "execution_count": 8,
   "metadata": {},
   "outputs": [
    {
     "data": {
      "text/plain": [
       "39526"
      ]
     },
     "execution_count": 8,
     "metadata": {},
     "output_type": "execute_result"
    }
   ],
   "source": [
    "df['ID.parcela'].isnull().sum()"
   ]
  },
  {
   "cell_type": "code",
   "execution_count": 11,
   "metadata": {},
   "outputs": [
    {
     "data": {
      "text/plain": [
       "0"
      ]
     },
     "execution_count": 11,
     "metadata": {},
     "output_type": "execute_result"
    }
   ],
   "source": [
    "df['primary_k'].isnull().sum()\n"
   ]
  }
 ],
 "metadata": {
  "kernelspec": {
   "display_name": "venv",
   "language": "python",
   "name": "python3"
  },
  "language_info": {
   "codemirror_mode": {
    "name": "ipython",
    "version": 3
   },
   "file_extension": ".py",
   "mimetype": "text/x-python",
   "name": "python",
   "nbconvert_exporter": "python",
   "pygments_lexer": "ipython3",
   "version": "3.10.12"
  }
 },
 "nbformat": 4,
 "nbformat_minor": 2
}
