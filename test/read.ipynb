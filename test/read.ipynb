{
 "cells": [
  {
   "cell_type": "code",
   "execution_count": 1,
   "metadata": {},
   "outputs": [],
   "source": [
    "import pandas as pd\n",
    "import geopandas as gpd\n",
    "from shapely import Point, Polygon"
   ]
  },
  {
   "cell_type": "code",
   "execution_count": 2,
   "metadata": {},
   "outputs": [],
   "source": [
    "path_file = '../data/vista_resumen_bitacoras.parquet'"
   ]
  },
  {
   "cell_type": "code",
   "execution_count": 3,
   "metadata": {},
   "outputs": [],
   "source": [
    "df = pd.read_parquet(path_file)"
   ]
  },
  {
   "cell_type": "code",
   "execution_count": 4,
   "metadata": {},
   "outputs": [
    {
     "name": "stdout",
     "output_type": "stream",
     "text": [
      "<class 'pandas.core.frame.DataFrame'>\n",
      "RangeIndex: 1590 entries, 0 to 1589\n",
      "Data columns (total 79 columns):\n",
      " #   Column                                                   Non-Null Count  Dtype         \n",
      "---  ------                                                   --------------  -----         \n",
      " 0   Hub operativo                                            1572 non-null   object        \n",
      " 1   Proyecto                                                 1584 non-null   object        \n",
      " 2   parcela esta doblemente financiada en este ciclo:        1584 non-null   object        \n",
      " 3   Proyecto 2                                               407 non-null    object        \n",
      " 4   ID de bitacora                                           1590 non-null   object        \n",
      " 5   deleted_BitacoraAgronomica                               1590 non-null   int64         \n",
      " 6   deleted link parcela-bitacora                            1590 non-null   int64         \n",
      " 7   deleted link productores-parcelas                        1590 non-null   int64         \n",
      " 8   Fecha_creación                                           1590 non-null   datetime64[ns]\n",
      " 9   Fecha_modificación                                       448 non-null    datetime64[ns]\n",
      " 10  Estatus de captura bitacora                              1584 non-null   object        \n",
      " 11  ID parcela                                               1590 non-null   object        \n",
      " 12  deleted_RegistroDeParcelas                               1590 non-null   int64         \n",
      " 13  Anio Bitacora                                            1566 non-null   object        \n",
      " 14  Ciclo                                                    1566 non-null   object        \n",
      " 15  Regimen hidrico                                          1584 non-null   object        \n",
      " 16  Tipo de superficie                                       1362 non-null   object        \n",
      " 17  Cultivo 1                                                1362 non-null   object        \n",
      " 18  Otro Cultivo 1                                           138 non-null    object        \n",
      " 19  Cultivo 2                                                193 non-null    object        \n",
      " 20  Otro Cultivo 2                                           138 non-null    object        \n",
      " 21  Cultivo 3                                                143 non-null    object        \n",
      " 22  Otro Cultivo 3                                           136 non-null    object        \n",
      " 23  Nombre de la Parcela                                     1584 non-null   object        \n",
      " 24  Superficie Total de la parcela                           1590 non-null   float64       \n",
      " 25  Superficie sembrada                                      1095 non-null   float64       \n",
      " 26  Tipo de bitacora                                         1584 non-null   object        \n",
      " 27  ID del sitio                                             1588 non-null   object        \n",
      " 28  deleted_Sitios                                           1588 non-null   float64       \n",
      " 29  Nombre del sitio relacionado                             1588 non-null   object        \n",
      " 30  Estado areas                                             1571 non-null   object        \n",
      " 31  Municipio areas                                          1571 non-null   object        \n",
      " 32  ID del productor                                         1590 non-null   object        \n",
      " 33  deleted_RegistroDeProductores                            1590 non-null   int64         \n",
      " 34  Nombre productor                                         1590 non-null   object        \n",
      " 35  Apellido paterno productor                               1590 non-null   object        \n",
      " 36  Apellido materno productor                               1590 non-null   object        \n",
      " 37  Genero del productor                                     1590 non-null   object        \n",
      " 38  ID creado por                                            1590 non-null   object        \n",
      " 39  Bitacora registrada por                                  1590 non-null   object        \n",
      " 40  Modificado_Id usuario                                    448 non-null    object        \n",
      " 41  CURP                                                     1575 non-null   object        \n",
      " 42  Coordenadas areas                                        1588 non-null   object        \n",
      " 43  Registro prod_registro parcelas                          1590 non-null   int64         \n",
      " 44  Pais                                                     1588 non-null   object        \n",
      " 45  Modificado por Usuario                                   448 non-null    object        \n",
      " 46  Productor                                                1584 non-null   object        \n",
      " 47  ¿La parcela esta vinculada a alguna plataforma?          1584 non-null   object        \n",
      " 48  Plataforma con la que se encuentra vinculada la parcela  434 non-null    object        \n",
      " 49  colaborador                                              1584 non-null   object        \n",
      " 50  Id_Colaborador                                           441 non-null    object        \n",
      " 51  Nombre del Colaborador                                   0 non-null      object        \n",
      " 52  Número de innovaciones que se pretenden implementar      1584 non-null   object        \n",
      " 53  Innovación especifica 1                                  1584 non-null   object        \n",
      " 54  Innovación general equivalente 1                         1584 non-null   object        \n",
      " 55  Innovación especifica 2                                  1345 non-null   object        \n",
      " 56  Innovación general equivalente 2                         1345 non-null   object        \n",
      " 57  Innovación especifica 3                                  1088 non-null   object        \n",
      " 58  Innovación general equivalente 3                         1088 non-null   object        \n",
      " 59  Innovación especifica 4                                  906 non-null    object        \n",
      " 60  Innovación general equivalente 4                         906 non-null    object        \n",
      " 61  Innovación especifica 5                                  698 non-null    object        \n",
      " 62  Innovación general equivalente 5                         698 non-null    object        \n",
      " 63  Innovación especifica 6                                  581 non-null    object        \n",
      " 64  Innovación general equivalente 6                         581 non-null    object        \n",
      " 65  Innovación especifica 7                                  551 non-null    object        \n",
      " 66  Innovación general equivalente 7                         551 non-null    object        \n",
      " 67  Innovación especifica 8                                  502 non-null    object        \n",
      " 68  Innovación general equivalente 8                         502 non-null    object        \n",
      " 69  Innovación especifica 9                                  431 non-null    object        \n",
      " 70  Innovación general equivalente 9                         431 non-null    object        \n",
      " 71  Innovación especifica 10                                 411 non-null    object        \n",
      " 72  Innovación general equivalente 10                        411 non-null    object        \n",
      " 73  Id_Cultivos                                              1363 non-null   object        \n",
      " 74  deleted_cultivos                                         1363 non-null   float64       \n",
      " 75  deleted_cultivos vs bitacoras                            1363 non-null   float64       \n",
      " 76  Id_Siembra                                               1097 non-null   object        \n",
      " 77  deleted_siembra                                          1097 non-null   float64       \n",
      " 78  Actividad a realizar                                     1095 non-null   object        \n",
      "dtypes: datetime64[ns](2), float64(6), int64(6), object(65)\n",
      "memory usage: 981.5+ KB\n"
     ]
    }
   ],
   "source": [
    "df.info()"
   ]
  },
  {
   "cell_type": "code",
   "execution_count": 5,
   "metadata": {},
   "outputs": [],
   "source": [
    "corte_uno=df[df['Proyecto']=='SEFADER']"
   ]
  },
  {
   "cell_type": "code",
   "execution_count": 6,
   "metadata": {},
   "outputs": [],
   "source": [
    "del df"
   ]
  },
  {
   "cell_type": "code",
   "execution_count": 7,
   "metadata": {},
   "outputs": [
    {
     "name": "stdout",
     "output_type": "stream",
     "text": [
      "<class 'pandas.core.frame.DataFrame'>\n",
      "Index: 453 entries, 22 to 1538\n",
      "Data columns (total 79 columns):\n",
      " #   Column                                                   Non-Null Count  Dtype         \n",
      "---  ------                                                   --------------  -----         \n",
      " 0   Hub operativo                                            453 non-null    object        \n",
      " 1   Proyecto                                                 453 non-null    object        \n",
      " 2   parcela esta doblemente financiada en este ciclo:        453 non-null    object        \n",
      " 3   Proyecto 2                                               105 non-null    object        \n",
      " 4   ID de bitacora                                           453 non-null    object        \n",
      " 5   deleted_BitacoraAgronomica                               453 non-null    int64         \n",
      " 6   deleted link parcela-bitacora                            453 non-null    int64         \n",
      " 7   deleted link productores-parcelas                        453 non-null    int64         \n",
      " 8   Fecha_creación                                           453 non-null    datetime64[ns]\n",
      " 9   Fecha_modificación                                       123 non-null    datetime64[ns]\n",
      " 10  Estatus de captura bitacora                              453 non-null    object        \n",
      " 11  ID parcela                                               453 non-null    object        \n",
      " 12  deleted_RegistroDeParcelas                               453 non-null    int64         \n",
      " 13  Anio Bitacora                                            453 non-null    object        \n",
      " 14  Ciclo                                                    453 non-null    object        \n",
      " 15  Regimen hidrico                                          453 non-null    object        \n",
      " 16  Tipo de superficie                                       408 non-null    object        \n",
      " 17  Cultivo 1                                                408 non-null    object        \n",
      " 18  Otro Cultivo 1                                           81 non-null     object        \n",
      " 19  Cultivo 2                                                131 non-null    object        \n",
      " 20  Otro Cultivo 2                                           82 non-null     object        \n",
      " 21  Cultivo 3                                                88 non-null     object        \n",
      " 22  Otro Cultivo 3                                           81 non-null     object        \n",
      " 23  Nombre de la Parcela                                     453 non-null    object        \n",
      " 24  Superficie Total de la parcela                           453 non-null    float64       \n",
      " 25  Superficie sembrada                                      329 non-null    float64       \n",
      " 26  Tipo de bitacora                                         453 non-null    object        \n",
      " 27  ID del sitio                                             453 non-null    object        \n",
      " 28  deleted_Sitios                                           453 non-null    float64       \n",
      " 29  Nombre del sitio relacionado                             453 non-null    object        \n",
      " 30  Estado areas                                             453 non-null    object        \n",
      " 31  Municipio areas                                          453 non-null    object        \n",
      " 32  ID del productor                                         453 non-null    object        \n",
      " 33  deleted_RegistroDeProductores                            453 non-null    int64         \n",
      " 34  Nombre productor                                         453 non-null    object        \n",
      " 35  Apellido paterno productor                               453 non-null    object        \n",
      " 36  Apellido materno productor                               453 non-null    object        \n",
      " 37  Genero del productor                                     453 non-null    object        \n",
      " 38  ID creado por                                            453 non-null    object        \n",
      " 39  Bitacora registrada por                                  453 non-null    object        \n",
      " 40  Modificado_Id usuario                                    123 non-null    object        \n",
      " 41  CURP                                                     453 non-null    object        \n",
      " 42  Coordenadas areas                                        453 non-null    object        \n",
      " 43  Registro prod_registro parcelas                          453 non-null    int64         \n",
      " 44  Pais                                                     453 non-null    object        \n",
      " 45  Modificado por Usuario                                   123 non-null    object        \n",
      " 46  Productor                                                453 non-null    object        \n",
      " 47  ¿La parcela esta vinculada a alguna plataforma?          453 non-null    object        \n",
      " 48  Plataforma con la que se encuentra vinculada la parcela  118 non-null    object        \n",
      " 49  colaborador                                              453 non-null    object        \n",
      " 50  Id_Colaborador                                           104 non-null    object        \n",
      " 51  Nombre del Colaborador                                   0 non-null      object        \n",
      " 52  Número de innovaciones que se pretenden implementar      453 non-null    object        \n",
      " 53  Innovación especifica 1                                  453 non-null    object        \n",
      " 54  Innovación general equivalente 1                         453 non-null    object        \n",
      " 55  Innovación especifica 2                                  385 non-null    object        \n",
      " 56  Innovación general equivalente 2                         385 non-null    object        \n",
      " 57  Innovación especifica 3                                  322 non-null    object        \n",
      " 58  Innovación general equivalente 3                         322 non-null    object        \n",
      " 59  Innovación especifica 4                                  241 non-null    object        \n",
      " 60  Innovación general equivalente 4                         241 non-null    object        \n",
      " 61  Innovación especifica 5                                  144 non-null    object        \n",
      " 62  Innovación general equivalente 5                         144 non-null    object        \n",
      " 63  Innovación especifica 6                                  130 non-null    object        \n",
      " 64  Innovación general equivalente 6                         130 non-null    object        \n",
      " 65  Innovación especifica 7                                  125 non-null    object        \n",
      " 66  Innovación general equivalente 7                         125 non-null    object        \n",
      " 67  Innovación especifica 8                                  108 non-null    object        \n",
      " 68  Innovación general equivalente 8                         108 non-null    object        \n",
      " 69  Innovación especifica 9                                  104 non-null    object        \n",
      " 70  Innovación general equivalente 9                         104 non-null    object        \n",
      " 71  Innovación especifica 10                                 102 non-null    object        \n",
      " 72  Innovación general equivalente 10                        102 non-null    object        \n",
      " 73  Id_Cultivos                                              409 non-null    object        \n",
      " 74  deleted_cultivos                                         409 non-null    float64       \n",
      " 75  deleted_cultivos vs bitacoras                            409 non-null    float64       \n",
      " 76  Id_Siembra                                               331 non-null    object        \n",
      " 77  deleted_siembra                                          331 non-null    float64       \n",
      " 78  Actividad a realizar                                     329 non-null    object        \n",
      "dtypes: datetime64[ns](2), float64(6), int64(6), object(65)\n",
      "memory usage: 283.1+ KB\n"
     ]
    }
   ],
   "source": [
    "corte_uno.info()"
   ]
  },
  {
   "cell_type": "code",
   "execution_count": 8,
   "metadata": {},
   "outputs": [],
   "source": [
    "names_kpis= ['surface','n_farmers,','n_plots']"
   ]
  },
  {
   "cell_type": "code",
   "execution_count": 9,
   "metadata": {},
   "outputs": [],
   "source": [
    "kpis_results = []"
   ]
  },
  {
   "cell_type": "code",
   "execution_count": 10,
   "metadata": {},
   "outputs": [],
   "source": [
    "kpis_results.append(corte_uno['Superficie sembrada'].sum())"
   ]
  },
  {
   "cell_type": "code",
   "execution_count": 11,
   "metadata": {},
   "outputs": [
    {
     "data": {
      "text/plain": [
       "np.float64(30813.319999999996)"
      ]
     },
     "execution_count": 11,
     "metadata": {},
     "output_type": "execute_result"
    }
   ],
   "source": [
    "corte_uno['Superficie sembrada'].sum()"
   ]
  },
  {
   "cell_type": "code",
   "execution_count": 12,
   "metadata": {},
   "outputs": [],
   "source": [
    "corte_uno['farmer'] = corte_uno['Nombre productor']+' '+corte_uno['Apellido paterno productor']+' '+corte_uno['Apellido materno productor']"
   ]
  },
  {
   "cell_type": "code",
   "execution_count": 13,
   "metadata": {},
   "outputs": [
    {
     "data": {
      "text/plain": [
       "22           Alberta Feliciano Mendoza\n",
       "23            DONACIANO ZARATE AHUMADA\n",
       "25            Leonardo Hernández Mejía\n",
       "26              GERARDO SAMPEDRO DURAN\n",
       "27      MANUEL DE JESUS SIBAJA JARQUIN\n",
       "                     ...              \n",
       "1530      Eric Gustavo Baltazar Loaeza\n",
       "1531      Eric Gustavo Baltazar Loaeza\n",
       "1535           NOE ERIC BAÑOS MARTINEZ\n",
       "1536           NOE ERIC BAÑOS MARTINEZ\n",
       "1538              JULIA NUÑEZ ESCUDERO\n",
       "Name: farmer, Length: 453, dtype: object"
      ]
     },
     "execution_count": 13,
     "metadata": {},
     "output_type": "execute_result"
    }
   ],
   "source": [
    "corte_uno['farmer']"
   ]
  },
  {
   "cell_type": "code",
   "execution_count": 28,
   "metadata": {},
   "outputs": [],
   "source": [
    "import re\n",
    "from unidecode import unidecode"
   ]
  },
  {
   "cell_type": "code",
   "execution_count": 27,
   "metadata": {},
   "outputs": [],
   "source": [
    "def clean_text(text, validation_list=None):\n",
    "    \n",
    "    if validation_list is not None:\n",
    "        text = re.sub(' +',' ', unidecode(str(text))).upper()\n",
    "        return text if text in validation_list else \"NA\"\n",
    "    else:\n",
    "        return re.sub(' +',' ', unidecode(str(text))).upper()"
   ]
  },
  {
   "cell_type": "code",
   "execution_count": null,
   "metadata": {},
   "outputs": [],
   "source": [
    "def split_join(text):\n",
    "    lista_text=text.split(\"\")"
   ]
  },
  {
   "cell_type": "code",
   "execution_count": 42,
   "metadata": {},
   "outputs": [],
   "source": [
    "name=\"jesus  melendez test \""
   ]
  },
  {
   "cell_type": "code",
   "execution_count": 38,
   "metadata": {},
   "outputs": [],
   "source": [
    "lista_prueba=name.split(\" \")"
   ]
  },
  {
   "cell_type": "code",
   "execution_count": 39,
   "metadata": {},
   "outputs": [
    {
     "data": {
      "text/plain": [
       "['jesus', '', 'melendez', 'test', '']"
      ]
     },
     "execution_count": 39,
     "metadata": {},
     "output_type": "execute_result"
    }
   ],
   "source": [
    "lista_prueba"
   ]
  },
  {
   "cell_type": "code",
   "execution_count": 44,
   "metadata": {},
   "outputs": [
    {
     "data": {
      "text/plain": [
       "'jesus  melendez test '"
      ]
     },
     "execution_count": 44,
     "metadata": {},
     "output_type": "execute_result"
    }
   ],
   "source": [
    "''.join(name)"
   ]
  },
  {
   "cell_type": "code",
   "execution_count": 30,
   "metadata": {},
   "outputs": [],
   "source": [
    "corte_uno['farmer'] =corte_uno['farmer'].apply(lambda text:clean_text(text))"
   ]
  },
  {
   "cell_type": "code",
   "execution_count": 31,
   "metadata": {},
   "outputs": [
    {
     "data": {
      "text/plain": [
       "22           ALBERTA FELICIANO MENDOZA\n",
       "23            DONACIANO ZARATE AHUMADA\n",
       "25            LEONARDO HERNANDEZ MEJIA\n",
       "26              GERARDO SAMPEDRO DURAN\n",
       "27      MANUEL DE JESUS SIBAJA JARQUIN\n",
       "                     ...              \n",
       "1530      ERIC GUSTAVO BALTAZAR LOAEZA\n",
       "1531      ERIC GUSTAVO BALTAZAR LOAEZA\n",
       "1535           NOE ERIC BANOS MARTINEZ\n",
       "1536           NOE ERIC BANOS MARTINEZ\n",
       "1538              JULIA NUNEZ ESCUDERO\n",
       "Name: farmer, Length: 453, dtype: object"
      ]
     },
     "execution_count": 31,
     "metadata": {},
     "output_type": "execute_result"
    }
   ],
   "source": [
    "corte_uno['farmer']"
   ]
  },
  {
   "cell_type": "code",
   "execution_count": null,
   "metadata": {},
   "outputs": [],
   "source": []
  }
 ],
 "metadata": {
  "kernelspec": {
   "display_name": "venv",
   "language": "python",
   "name": "python3"
  },
  "language_info": {
   "codemirror_mode": {
    "name": "ipython",
    "version": 3
   },
   "file_extension": ".py",
   "mimetype": "text/x-python",
   "name": "python",
   "nbconvert_exporter": "python",
   "pygments_lexer": "ipython3",
   "version": "3.10.12"
  }
 },
 "nbformat": 4,
 "nbformat_minor": 2
}
