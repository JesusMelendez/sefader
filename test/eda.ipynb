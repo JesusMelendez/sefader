{
 "cells": [
  {
   "cell_type": "code",
   "execution_count": 1,
   "metadata": {},
   "outputs": [],
   "source": [
    "import pandas as pd\n",
    "import matplotlib.pyplot as plt\n",
    "import seaborn as sns"
   ]
  },
  {
   "cell_type": "code",
   "execution_count": 14,
   "metadata": {},
   "outputs": [],
   "source": [
    "df  = pd.read_csv('../data/bitacoras_corte_julio.csv')"
   ]
  },
  {
   "cell_type": "code",
   "execution_count": 15,
   "metadata": {},
   "outputs": [
    {
     "name": "stdout",
     "output_type": "stream",
     "text": [
      "<class 'pandas.core.frame.DataFrame'>\n",
      "RangeIndex: 3362 entries, 0 to 3361\n",
      "Data columns (total 72 columns):\n",
      " #   Column                                                                                             Non-Null Count  Dtype  \n",
      "---  ------                                                                                             --------------  -----  \n",
      " 0   ID.de.bitacora                                                                                     3362 non-null   object \n",
      " 1   Tipo.de.superficie                                                                                 3362 non-null   object \n",
      " 2   ID.del.productor                                                                                   1495 non-null   object \n",
      " 3   Nombre.Productor                                                                                   3362 non-null   object \n",
      " 4   CURP                                                                                               1495 non-null   object \n",
      " 5   ID.parcela                                                                                         1461 non-null   object \n",
      " 6   ID.del.sitio                                                                                       1486 non-null   object \n",
      " 7   Nombre.de.la.Parcela                                                                               3362 non-null   object \n",
      " 8   Estado.areas                                                                                       3362 non-null   object \n",
      " 9   Municipio.areas                                                                                    3360 non-null   object \n",
      " 10  Coordenadas.areas                                                                                  3362 non-null   object \n",
      " 11  Tipo.de.bitacora                                                                                   3362 non-null   object \n",
      " 12  Anio.Bitacora                                                                                      3360 non-null   object \n",
      " 13  Ciclo                                                                                              3362 non-null   object \n",
      " 14  Regimen.hidrico                                                                                    3362 non-null   object \n",
      " 15  Superficie.sembrada                                                                                3362 non-null   float64\n",
      " 16  Superficie.Total.de.la.parcela                                                                     3362 non-null   float64\n",
      " 17  Cultivo.1                                                                                          3362 non-null   object \n",
      " 18  Cultivo.2                                                                                          671 non-null    object \n",
      " 19  Cultivo.3                                                                                          490 non-null    object \n",
      " 20  Proyecto                                                                                           3362 non-null   object \n",
      " 21  Bitacora.registrada.por                                                                            3362 non-null   object \n",
      " 22  Id_Cultivos                                                                                        3362 non-null   object \n",
      " 23  1_AC_Cultivos_de_cobertura                                                                         3362 non-null   int64  \n",
      " 24  2_AC_Fertilizadora_reformadora_aplicada_para_poder_hacer_AC                                        3362 non-null   int64  \n",
      " 25  3_AC_Implementos_para_acondicionamiento_de_parcela_anio_cero                                       3362 non-null   int64  \n",
      " 26  5_AC_Inclusion_de_nuevos_cultivos_en_sistema_de_produccion_de_maiz_y_grano_pequenio                3362 non-null   int64  \n",
      " 27  6_AC_Labranza_en_lineas_de_Siembra                                                                 3362 non-null   int64  \n",
      " 28  7_AC_Manejo_de_rastrojo_uso_de_desmenuzadora_manual_o_mecanica                                     3362 non-null   int64  \n",
      " 29  8_AC_Maquinaria_en_AC_para_operaciones_en_practicas_de_labranza_cero_o_reducido                    3362 non-null   int64  \n",
      " 30  9_AC_Rotacion_Diversificacion_de_cultivos_con_cultivo_no_tradicional                               3362 non-null   int64  \n",
      " 31  10_AC_Roturacion_vertical_con_subsuelo_y_arado_de_cinceles_para_preparar_anio_cero                 3362 non-null   int64  \n",
      " 32  12_Arreglos_Densidades_de_siembra_optimos                                                          3362 non-null   int64  \n",
      " 33  13_Arreglos_Siembras_en_hileras_para_grano_pequenio                                                3362 non-null   int64  \n",
      " 34  14_Comerc_Incorporacion_de_nuevos_cultivos_de_alto_valor_con_orientacion_al_mercado                3362 non-null   int64  \n",
      " 35  16_Cons_Agua_Correccion_de_la_compactacion                                                         3362 non-null   int64  \n",
      " 36  17_Cons_Agua_Curvas_de_nivel_o_desnivel                                                            3362 non-null   int64  \n",
      " 37  18_Cons_Agua_Nivelacion_de_la_parcela                                                              3362 non-null   int64  \n",
      " 38  19_Cons_Agua_Nivelacion_de_suelos                                                                  3362 non-null   int64  \n",
      " 39  20_Cons_Agua_Obras_de_conservacion_de_suelo_y_agua                                                 3362 non-null   int64  \n",
      " 40  21_Cons_Agua_Riego_por_aspersion                                                                   3362 non-null   int64  \n",
      " 41  22_Cons_Agua_Riego_por_goteo                                                                       3362 non-null   int64  \n",
      " 42  23_Cons_Suelo_Curvas_a_nivel                                                                       3362 non-null   int64  \n",
      " 43  24_Cons_Suelo_Sistema_Milpa_Intercalado_con_Arboles_Frutales_MIAF                                  3362 non-null   int64  \n",
      " 44  25_Fert_Abonos_organicos_como_fuente_de_nutrientes_compostas                                       3362 non-null   int64  \n",
      " 45  26_Fert_Aplicacion_de_fertilizantes_foliares_de_acuerdo_con_la_etapa_fenologica_del_cultivo        3362 non-null   int64  \n",
      " 46  27_Fert_Aplicacion_del_fertilizante_en_momentos_adecuados                                          3362 non-null   int64  \n",
      " 47  28_Fert_Biofertilizantes_como_fuente_de_nutrientes                                                 3362 non-null   int64  \n",
      " 48  29_Fert_Enmiendas_de_suelo_cal_dolomita_y_yeso_agricola                                            3362 non-null   int64  \n",
      " 49  30_Fert_Fertilizantes_inorganicos_como_nutrientes_en_manera_y_cantidad_correcta                    3362 non-null   int64  \n",
      " 50  31_Fert_Forma_de_aplicacion_de_fertilizante_para_mejorar_efectividad                               3362 non-null   int64  \n",
      " 51  32_Fert_Herramientas_de_diagnostico_analisis_de_suelos                                             3362 non-null   int64  \n",
      " 52  33_Fert_Incorporacion_de_rastrojo_de_la_cosecha_anterior                                           3362 non-null   int64  \n",
      " 53  34_MIP_Caldos_minerales_agua_de_vidrio_caldo_sulfocalcico_caldo_ceniza_etc                         3362 non-null   int64  \n",
      " 54  35_MIP_Control_biologico_hongos_entomopatogenos_liberacion_de_insectos                             3362 non-null   int64  \n",
      " 55  36_MIP_Extractos_vegetales_tabaco_higuerilla_nim_etc                                               3362 non-null   int64  \n",
      " 56  37_MIP_Feromonas_para_el_control_de_plagas                                                         3362 non-null   int64  \n",
      " 57  38_MIP_Insectos_beneficos                                                                          3362 non-null   int64  \n",
      " 58  40_MIP_Monitoreo_de_plagas_en_campo                                                                3362 non-null   int64  \n",
      " 59  41_MIP_Tratamiento_de_semilla_micorrizas_harina_de_roca_etc                                        3362 non-null   int64  \n",
      " 60  42_MIP_Tratamientos_de_semillas_fungicidas                                                         3362 non-null   int64  \n",
      " 61  43_MIP_Uso_de_la_biodiversidad_funcional_enemigos_naturales                                        3362 non-null   int64  \n",
      " 62  44_Otra_Reduccion_en_el_uso_de_pesticidas_altamente_peligrosos_insecticidas_herbicidas_fungicidas  3362 non-null   int64  \n",
      " 63  45_Posc_Alamacenamiento_hermetico                                                                  3362 non-null   int64  \n",
      " 64  46_Posc_Desgranadora_eficiente                                                                     3362 non-null   int64  \n",
      " 65  47_Posc_Polvos_inertes_cal_micronizada                                                             3362 non-null   int64  \n",
      " 66  48_Posc_Secado_del_grano                                                                           3362 non-null   int64  \n",
      " 67  49_Posc_Uso_de_feromonas_sexuales                                                                  3362 non-null   int64  \n",
      " 68  50_Var_Criollos_mejorados                                                                          3362 non-null   int64  \n",
      " 69  51_Var_Variedades_hibridas_donde_antes_no_se_usaban_o_que_son_de_Semilleras_MasAgro                3362 non-null   int64  \n",
      " 70  53_Var_Variedades_mejoradas_incluye_polinizacion_abierta_OPV_maiz                                  3362 non-null   int64  \n",
      " 71  SumTecs                                                                                            3362 non-null   int64  \n",
      "dtypes: float64(2), int64(49), object(21)\n",
      "memory usage: 1.8+ MB\n"
     ]
    }
   ],
   "source": [
    "df.info()"
   ]
  },
  {
   "cell_type": "code",
   "execution_count": 16,
   "metadata": {},
   "outputs": [],
   "source": [
    "df=df.iloc[:,0:22]"
   ]
  },
  {
   "cell_type": "code",
   "execution_count": 17,
   "metadata": {},
   "outputs": [
    {
     "name": "stdout",
     "output_type": "stream",
     "text": [
      "<class 'pandas.core.frame.DataFrame'>\n",
      "RangeIndex: 3362 entries, 0 to 3361\n",
      "Data columns (total 22 columns):\n",
      " #   Column                          Non-Null Count  Dtype  \n",
      "---  ------                          --------------  -----  \n",
      " 0   ID.de.bitacora                  3362 non-null   object \n",
      " 1   Tipo.de.superficie              3362 non-null   object \n",
      " 2   ID.del.productor                1495 non-null   object \n",
      " 3   Nombre.Productor                3362 non-null   object \n",
      " 4   CURP                            1495 non-null   object \n",
      " 5   ID.parcela                      1461 non-null   object \n",
      " 6   ID.del.sitio                    1486 non-null   object \n",
      " 7   Nombre.de.la.Parcela            3362 non-null   object \n",
      " 8   Estado.areas                    3362 non-null   object \n",
      " 9   Municipio.areas                 3360 non-null   object \n",
      " 10  Coordenadas.areas               3362 non-null   object \n",
      " 11  Tipo.de.bitacora                3362 non-null   object \n",
      " 12  Anio.Bitacora                   3360 non-null   object \n",
      " 13  Ciclo                           3362 non-null   object \n",
      " 14  Regimen.hidrico                 3362 non-null   object \n",
      " 15  Superficie.sembrada             3362 non-null   float64\n",
      " 16  Superficie.Total.de.la.parcela  3362 non-null   float64\n",
      " 17  Cultivo.1                       3362 non-null   object \n",
      " 18  Cultivo.2                       671 non-null    object \n",
      " 19  Cultivo.3                       490 non-null    object \n",
      " 20  Proyecto                        3362 non-null   object \n",
      " 21  Bitacora.registrada.por         3362 non-null   object \n",
      "dtypes: float64(2), object(20)\n",
      "memory usage: 578.0+ KB\n"
     ]
    }
   ],
   "source": [
    "df.info()"
   ]
  },
  {
   "cell_type": "code",
   "execution_count": 29,
   "metadata": {},
   "outputs": [
    {
     "data": {
      "text/plain": [
       "<Axes: xlabel='Superficie.sembrada'>"
      ]
     },
     "execution_count": 29,
     "metadata": {},
     "output_type": "execute_result"
    },
    {
     "data": {
      "image/png": "[encoded data removed]",
      "text/plain": [
       "<Figure size 640x480 with 1 Axes>"
      ]
     },
     "metadata": {},
     "output_type": "display_data"
    }
   ],
   "source": [
    "sns.boxplot(data=df, x='Superficie.sembrada')"
   ]
  },
  {
   "cell_type": "code",
   "execution_count": 30,
   "metadata": {},
   "outputs": [
    {
     "data": {
      "text/plain": [
       "count    3362.000000\n",
       "mean       17.952835\n",
       "std       255.130918\n",
       "min         0.020000\n",
       "25%         1.000000\n",
       "50%         1.000000\n",
       "75%         1.000000\n",
       "max      6000.000000\n",
       "Name: Superficie.sembrada, dtype: float64"
      ]
     },
     "execution_count": 30,
     "metadata": {},
     "output_type": "execute_result"
    }
   ],
   "source": [
    "df['Superficie.sembrada'].describe()"
   ]
  },
  {
   "cell_type": "code",
   "execution_count": 24,
   "metadata": {},
   "outputs": [
    {
     "data": {
      "image/png": "[encoded data removed]",
      "text/plain": [
       "<Figure size 640x480 with 1 Axes>"
      ]
     },
     "metadata": {},
     "output_type": "display_data"
    }
   ],
   "source": [
    "df['Superficie.sembrada'].plot();"
   ]
  },
  {
   "cell_type": "code",
   "execution_count": 33,
   "metadata": {},
   "outputs": [
    {
     "data": {
      "text/plain": [
       "np.float64(60357.43)"
      ]
     },
     "execution_count": 33,
     "metadata": {},
     "output_type": "execute_result"
    }
   ],
   "source": [
    "df['Superficie.sembrada'].sum()"
   ]
  },
  {
   "cell_type": "code",
   "execution_count": 34,
   "metadata": {},
   "outputs": [
    {
     "data": {
      "text/plain": [
       "60357"
      ]
     },
     "execution_count": 34,
     "metadata": {},
     "output_type": "execute_result"
    }
   ],
   "source": [
    "int(df['Superficie.sembrada'].sum())"
   ]
  },
  {
   "cell_type": "code",
   "execution_count": 36,
   "metadata": {},
   "outputs": [
    {
     "data": {
      "text/plain": [
       "0"
      ]
     },
     "execution_count": 36,
     "metadata": {},
     "output_type": "execute_result"
    }
   ],
   "source": [
    "int(df['Nombre.Productor'].isnull().sum())"
   ]
  },
  {
   "cell_type": "code",
   "execution_count": 37,
   "metadata": {},
   "outputs": [
    {
     "data": {
      "text/plain": [
       "['ID.de.bitacora',\n",
       " 'Tipo.de.superficie',\n",
       " 'ID.del.productor',\n",
       " 'Nombre.Productor',\n",
       " 'CURP',\n",
       " 'ID.parcela',\n",
       " 'ID.del.sitio',\n",
       " 'Nombre.de.la.Parcela',\n",
       " 'Estado.areas',\n",
       " 'Municipio.areas',\n",
       " 'Coordenadas.areas',\n",
       " 'Tipo.de.bitacora',\n",
       " 'Anio.Bitacora',\n",
       " 'Ciclo',\n",
       " 'Regimen.hidrico',\n",
       " 'Superficie.sembrada',\n",
       " 'Superficie.Total.de.la.parcela',\n",
       " 'Cultivo.1',\n",
       " 'Cultivo.2',\n",
       " 'Cultivo.3',\n",
       " 'Proyecto',\n",
       " 'Bitacora.registrada.por']"
      ]
     },
     "execution_count": 37,
     "metadata": {},
     "output_type": "execute_result"
    }
   ],
   "source": [
    "list(df.columns)"
   ]
  },
  {
   "cell_type": "code",
   "execution_count": null,
   "metadata": {},
   "outputs": [],
   "source": [
    "'Anio.Bitacora',\n",
    "'Ciclo',\n",
    "'Regimen.hidrico',\n",
    "'Cultivo.1',\n",
    "'Cultivo.2',\n",
    "'Cultivo.3',\n",
    "'Superficie.sembrada',\n"
   ]
  }
 ],
 "metadata": {
  "kernelspec": {
   "display_name": "venv",
   "language": "python",
   "name": "python3"
  },
  "language_info": {
   "codemirror_mode": {
    "name": "ipython",
    "version": 3
   },
   "file_extension": ".py",
   "mimetype": "text/x-python",
   "name": "python",
   "nbconvert_exporter": "python",
   "pygments_lexer": "ipython3",
   "version": "3.10.12"
  }
 },
 "nbformat": 4,
 "nbformat_minor": 2
}
