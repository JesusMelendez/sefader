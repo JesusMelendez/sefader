{
 "cells": [
  {
   "cell_type": "code",
   "execution_count": 1,
   "metadata": {},
   "outputs": [],
   "source": [
    "import pandas as pd"
   ]
  },
  {
   "cell_type": "code",
   "execution_count": 3,
   "metadata": {},
   "outputs": [],
   "source": [
    "#para obtener nombre de usuario\n",
    "corte_sept = pd.read_csv('../data/TECNICOS_NOMBRE.csv')"
   ]
  },
  {
   "cell_type": "code",
   "execution_count": 4,
   "metadata": {},
   "outputs": [],
   "source": [
    "#para obtener el nombre del programa al que pertenece c/u de los tecnicos\n",
    "relacion_tecnicos  = pd.read_csv('../data/tecnicos_programa.csv')"
   ]
  },
  {
   "cell_type": "code",
   "execution_count": 5,
   "metadata": {},
   "outputs": [],
   "source": [
    "#depuramos vacios\n",
    "relacion_tecnicos.dropna(subset='Nombre del técnico',inplace=True)"
   ]
  },
  {
   "cell_type": "code",
   "execution_count": 6,
   "metadata": {},
   "outputs": [
    {
     "data": {
      "text/plain": [
       "(205, 5)"
      ]
     },
     "execution_count": 6,
     "metadata": {},
     "output_type": "execute_result"
    }
   ],
   "source": [
    "relacion_tecnicos.shape"
   ]
  },
  {
   "cell_type": "code",
   "execution_count": 7,
   "metadata": {},
   "outputs": [
    {
     "data": {
      "text/plain": [
       "200"
      ]
     },
     "execution_count": 7,
     "metadata": {},
     "output_type": "execute_result"
    }
   ],
   "source": [
    "relacion_tecnicos['Nombre del técnico'].nunique()"
   ]
  },
  {
   "cell_type": "code",
   "execution_count": 8,
   "metadata": {},
   "outputs": [
    {
     "data": {
      "text/plain": [
       "(205, 5)"
      ]
     },
     "execution_count": 8,
     "metadata": {},
     "output_type": "execute_result"
    }
   ],
   "source": [
    "relacion_tecnicos.shape"
   ]
  },
  {
   "cell_type": "code",
   "execution_count": 9,
   "metadata": {},
   "outputs": [],
   "source": [
    "relacion_tecnicos.drop_duplicates(subset='Nombre del técnico',inplace=True)"
   ]
  },
  {
   "cell_type": "code",
   "execution_count": 10,
   "metadata": {},
   "outputs": [
    {
     "data": {
      "text/plain": [
       "(200, 5)"
      ]
     },
     "execution_count": 10,
     "metadata": {},
     "output_type": "execute_result"
    }
   ],
   "source": [
    "relacion_tecnicos.shape"
   ]
  },
  {
   "cell_type": "code",
   "execution_count": 11,
   "metadata": {},
   "outputs": [
    {
     "data": {
      "text/html": [
       "<div>\n",
       "<style scoped>\n",
       "    .dataframe tbody tr th:only-of-type {\n",
       "        vertical-align: middle;\n",
       "    }\n",
       "\n",
       "    .dataframe tbody tr th {\n",
       "        vertical-align: top;\n",
       "    }\n",
       "\n",
       "    .dataframe thead th {\n",
       "        text-align: right;\n",
       "    }\n",
       "</style>\n",
       "<table border=\"1\" class=\"dataframe\">\n",
       "  <thead>\n",
       "    <tr style=\"text-align: right;\">\n",
       "      <th></th>\n",
       "      <th>Nombre del formador</th>\n",
       "      <th>Región de atención</th>\n",
       "      <th>Programa</th>\n",
       "      <th>Nombre del técnico</th>\n",
       "      <th>Municipio</th>\n",
       "    </tr>\n",
       "  </thead>\n",
       "  <tbody>\n",
       "    <tr>\n",
       "      <th>0</th>\n",
       "      <td>Filadelfo Ortíz López</td>\n",
       "      <td>Mixteca</td>\n",
       "      <td>Abasto Seguro de Maíz</td>\n",
       "      <td>Iveth Lopez Ramirez</td>\n",
       "      <td>Sinaxtla, San Juan Sayultepec,</td>\n",
       "    </tr>\n",
       "    <tr>\n",
       "      <th>1</th>\n",
       "      <td>Filadelfo Ortíz López</td>\n",
       "      <td>Mixteca</td>\n",
       "      <td>Abasto Seguro de Maíz</td>\n",
       "      <td>Griselda Cruz Guzman</td>\n",
       "      <td>teotongo, Santa Maria Chachoapan, Yucuita</td>\n",
       "    </tr>\n",
       "  </tbody>\n",
       "</table>\n",
       "</div>"
      ],
      "text/plain": [
       "     Nombre del formador Región de atención               Programa  \\\n",
       "0  Filadelfo Ortíz López            Mixteca  Abasto Seguro de Maíz   \n",
       "1  Filadelfo Ortíz López            Mixteca  Abasto Seguro de Maíz   \n",
       "\n",
       "     Nombre del técnico                                  Municipio  \n",
       "0   Iveth Lopez Ramirez            Sinaxtla, San Juan Sayultepec,   \n",
       "1  Griselda Cruz Guzman  teotongo, Santa Maria Chachoapan, Yucuita  "
      ]
     },
     "execution_count": 11,
     "metadata": {},
     "output_type": "execute_result"
    }
   ],
   "source": [
    "relacion_tecnicos.head(2)"
   ]
  },
  {
   "cell_type": "code",
   "execution_count": 12,
   "metadata": {},
   "outputs": [
    {
     "name": "stderr",
     "output_type": "stream",
     "text": [
      "/tmp/ipykernel_15423/2172902827.py:2: FutureWarning: A value is trying to be set on a copy of a DataFrame or Series through chained assignment using an inplace method.\n",
      "The behavior will change in pandas 3.0. This inplace method will never work because the intermediate object on which we are setting values always behaves as a copy.\n",
      "\n",
      "For example, when doing 'df[col].method(value, inplace=True)', try using 'df.method({col: value}, inplace=True)' or df[col] = df[col].method(value) instead, to perform the operation inplace on the original object.\n",
      "\n",
      "\n",
      "  relacion_tecnicos['Región de atención'].replace({'Sierra de Flores Magon ':'Cañada',\n"
     ]
    }
   ],
   "source": [
    "#corregimos nombre de regiones. Deben ser solo 8\n",
    "relacion_tecnicos['Región de atención'].replace({'Sierra de Flores Magon ':'Cañada',\n",
    "                                                 'sierra de Flores Magon ':'Cañada',\n",
    "                                                 'Sierra Sur_Sola de Vega':'Sierra Sur',\n",
    "                                                 'Costa ':'Costa'\n",
    "                                                 },\n",
    "                                        inplace=True)"
   ]
  },
  {
   "cell_type": "code",
   "execution_count": null,
   "metadata": {},
   "outputs": [],
   "source": [
    "# corte_sept.info()"
   ]
  },
  {
   "cell_type": "code",
   "execution_count": 13,
   "metadata": {},
   "outputs": [],
   "source": [
    "#subset del corte\n",
    "tecnicos_accounts =  corte_sept[['Bitacora.registrada.por','NOMBRE DEL USUARIO']]"
   ]
  },
  {
   "cell_type": "code",
   "execution_count": 14,
   "metadata": {},
   "outputs": [
    {
     "data": {
      "text/plain": [
       "(241, 2)"
      ]
     },
     "execution_count": 14,
     "metadata": {},
     "output_type": "execute_result"
    }
   ],
   "source": [
    "tecnicos_accounts.shape"
   ]
  },
  {
   "cell_type": "code",
   "execution_count": 15,
   "metadata": {},
   "outputs": [],
   "source": [
    "# tecnicos_accounts.info()\n",
    "#  1   NOMBRE DEL USUARIO       37255 non-null  object"
   ]
  },
  {
   "cell_type": "code",
   "execution_count": 16,
   "metadata": {},
   "outputs": [
    {
     "name": "stderr",
     "output_type": "stream",
     "text": [
      "/tmp/ipykernel_15423/1111414464.py:2: SettingWithCopyWarning: \n",
      "A value is trying to be set on a copy of a slice from a DataFrame\n",
      "\n",
      "See the caveats in the documentation: https://pandas.pydata.org/pandas-docs/stable/user_guide/indexing.html#returning-a-view-versus-a-copy\n",
      "  tecnicos_accounts.drop_duplicates(inplace=True)\n"
     ]
    }
   ],
   "source": [
    "#solo cuentas unicas\n",
    "tecnicos_accounts.drop_duplicates(inplace=True)"
   ]
  },
  {
   "cell_type": "code",
   "execution_count": 17,
   "metadata": {},
   "outputs": [
    {
     "data": {
      "text/plain": [
       "11"
      ]
     },
     "execution_count": 17,
     "metadata": {},
     "output_type": "execute_result"
    }
   ],
   "source": [
    "tecnicos_accounts['NOMBRE DEL USUARIO'].isna().sum()\n",
    "#45"
   ]
  },
  {
   "cell_type": "code",
   "execution_count": 18,
   "metadata": {},
   "outputs": [
    {
     "data": {
      "text/html": [
       "<div>\n",
       "<style scoped>\n",
       "    .dataframe tbody tr th:only-of-type {\n",
       "        vertical-align: middle;\n",
       "    }\n",
       "\n",
       "    .dataframe tbody tr th {\n",
       "        vertical-align: top;\n",
       "    }\n",
       "\n",
       "    .dataframe thead th {\n",
       "        text-align: right;\n",
       "    }\n",
       "</style>\n",
       "<table border=\"1\" class=\"dataframe\">\n",
       "  <thead>\n",
       "    <tr style=\"text-align: right;\">\n",
       "      <th></th>\n",
       "      <th>Bitacora.registrada.por</th>\n",
       "      <th>NOMBRE DEL USUARIO</th>\n",
       "    </tr>\n",
       "  </thead>\n",
       "  <tbody>\n",
       "    <tr>\n",
       "      <th>0</th>\n",
       "      <td>AbrahamTejeda_PSUR</td>\n",
       "      <td>Abraham Tejeda Galmich</td>\n",
       "    </tr>\n",
       "    <tr>\n",
       "      <th>1</th>\n",
       "      <td>AidaLopez_PSUR</td>\n",
       "      <td>Aida López Cruz</td>\n",
       "    </tr>\n",
       "  </tbody>\n",
       "</table>\n",
       "</div>"
      ],
      "text/plain": [
       "  Bitacora.registrada.por       NOMBRE DEL USUARIO\n",
       "0      AbrahamTejeda_PSUR  Abraham Tejeda Galmich \n",
       "1          AidaLopez_PSUR          Aida López Cruz"
      ]
     },
     "execution_count": 18,
     "metadata": {},
     "output_type": "execute_result"
    }
   ],
   "source": [
    "tecnicos_accounts.head(2)"
   ]
  },
  {
   "cell_type": "code",
   "execution_count": 19,
   "metadata": {},
   "outputs": [
    {
     "name": "stdout",
     "output_type": "stream",
     "text": [
      "<class 'pandas.core.frame.DataFrame'>\n",
      "RangeIndex: 241 entries, 0 to 240\n",
      "Data columns (total 2 columns):\n",
      " #   Column                   Non-Null Count  Dtype \n",
      "---  ------                   --------------  ----- \n",
      " 0   Bitacora.registrada.por  241 non-null    object\n",
      " 1   NOMBRE DEL USUARIO       230 non-null    object\n",
      "dtypes: object(2)\n",
      "memory usage: 3.9+ KB\n"
     ]
    },
    {
     "data": {
      "text/plain": [
       "'\\nData columns (total 2 columns):\\n #   Column                   Non-Null Count  Dtype \\n---  ------                   --------------  ----- \\n 0   Bitacora.registrada.por  241 non-null    object\\n 1   NOMBRE DEL USUARIO       196 non-null    object\\ndtypes: object(2)\\nmemory usage: 5.6+ KB\\n '"
      ]
     },
     "execution_count": 19,
     "metadata": {},
     "output_type": "execute_result"
    }
   ],
   "source": [
    "tecnicos_accounts.info()\n",
    "\"\"\"\n",
    "Data columns (total 2 columns):\n",
    " #   Column                   Non-Null Count  Dtype \n",
    "---  ------                   --------------  ----- \n",
    " 0   Bitacora.registrada.por  241 non-null    object\n",
    " 1   NOMBRE DEL USUARIO       196 non-null    object\n",
    "dtypes: object(2)\n",
    "memory usage: 5.6+ KB\n",
    " \"\"\""
   ]
  },
  {
   "cell_type": "code",
   "execution_count": 20,
   "metadata": {},
   "outputs": [
    {
     "data": {
      "text/plain": [
       "Bitacora.registrada.por        IvethLopez_PSUR\n",
       "NOMBRE DEL USUARIO         Iveth Lopez Ramirez\n",
       "Name: 92, dtype: object"
      ]
     },
     "execution_count": 20,
     "metadata": {},
     "output_type": "execute_result"
    }
   ],
   "source": [
    "tecnicos_accounts.iloc[92]\n",
    "# ErikaOrduÃ±a_PSUR"
   ]
  },
  {
   "cell_type": "code",
   "execution_count": 21,
   "metadata": {},
   "outputs": [
    {
     "data": {
      "text/html": [
       "<div>\n",
       "<style scoped>\n",
       "    .dataframe tbody tr th:only-of-type {\n",
       "        vertical-align: middle;\n",
       "    }\n",
       "\n",
       "    .dataframe tbody tr th {\n",
       "        vertical-align: top;\n",
       "    }\n",
       "\n",
       "    .dataframe thead th {\n",
       "        text-align: right;\n",
       "    }\n",
       "</style>\n",
       "<table border=\"1\" class=\"dataframe\">\n",
       "  <thead>\n",
       "    <tr style=\"text-align: right;\">\n",
       "      <th></th>\n",
       "      <th>Bitacora.registrada.por</th>\n",
       "      <th>NOMBRE DEL USUARIO</th>\n",
       "    </tr>\n",
       "  </thead>\n",
       "  <tbody>\n",
       "    <tr>\n",
       "      <th>0</th>\n",
       "      <td>AbrahamTejeda_PSUR</td>\n",
       "      <td>Abraham Tejeda Galmich</td>\n",
       "    </tr>\n",
       "    <tr>\n",
       "      <th>1</th>\n",
       "      <td>AidaLopez_PSUR</td>\n",
       "      <td>Aida López Cruz</td>\n",
       "    </tr>\n",
       "  </tbody>\n",
       "</table>\n",
       "</div>"
      ],
      "text/plain": [
       "  Bitacora.registrada.por       NOMBRE DEL USUARIO\n",
       "0      AbrahamTejeda_PSUR  Abraham Tejeda Galmich \n",
       "1          AidaLopez_PSUR          Aida López Cruz"
      ]
     },
     "execution_count": 21,
     "metadata": {},
     "output_type": "execute_result"
    }
   ],
   "source": [
    "tecnicos_accounts.head(2)"
   ]
  },
  {
   "cell_type": "code",
   "execution_count": 48,
   "metadata": {},
   "outputs": [],
   "source": [
    "tabla_usuarios = pd.read_csv('../data/usuarios_3.csv')"
   ]
  },
  {
   "cell_type": "code",
   "execution_count": 49,
   "metadata": {},
   "outputs": [],
   "source": [
    "tabla_usuarios=tabla_usuarios[['id','user_name','first_name','last_name']]"
   ]
  },
  {
   "cell_type": "code",
   "execution_count": 54,
   "metadata": {},
   "outputs": [
    {
     "data": {
      "text/html": [
       "<div>\n",
       "<style scoped>\n",
       "    .dataframe tbody tr th:only-of-type {\n",
       "        vertical-align: middle;\n",
       "    }\n",
       "\n",
       "    .dataframe tbody tr th {\n",
       "        vertical-align: top;\n",
       "    }\n",
       "\n",
       "    .dataframe thead th {\n",
       "        text-align: right;\n",
       "    }\n",
       "</style>\n",
       "<table border=\"1\" class=\"dataframe\">\n",
       "  <thead>\n",
       "    <tr style=\"text-align: right;\">\n",
       "      <th></th>\n",
       "      <th>id</th>\n",
       "      <th>user_name</th>\n",
       "      <th>first_name</th>\n",
       "      <th>last_name</th>\n",
       "    </tr>\n",
       "  </thead>\n",
       "  <tbody>\n",
       "    <tr>\n",
       "      <th>283</th>\n",
       "      <td>3b737a8c-2e9b-bd3d-e8c7-624ce524e2a7</td>\n",
       "      <td>AdrianPerez_PAC</td>\n",
       "      <td>Adrian</td>\n",
       "      <td>Perez Villarreal</td>\n",
       "    </tr>\n",
       "    <tr>\n",
       "      <th>1745</th>\n",
       "      <td>users-2022-0406-0743-RewRZ-h2AwA</td>\n",
       "      <td>AdrianPerez_PAC</td>\n",
       "      <td>Adrian</td>\n",
       "      <td>Perez Villarreal</td>\n",
       "    </tr>\n",
       "    <tr>\n",
       "      <th>342</th>\n",
       "      <td>41b0e517-4e24-942c-e049-624ce5646174</td>\n",
       "      <td>AngelCota_PAC</td>\n",
       "      <td>Angel Guadalupe</td>\n",
       "      <td>Cota Corral</td>\n",
       "    </tr>\n",
       "    <tr>\n",
       "      <th>1747</th>\n",
       "      <td>users-2022-0406-0744-Qe9Db-EZ1YI</td>\n",
       "      <td>AngelCota_PAC</td>\n",
       "      <td>Angel Guadalupe</td>\n",
       "      <td>Cota Corral</td>\n",
       "    </tr>\n",
       "    <tr>\n",
       "      <th>199</th>\n",
       "      <td>2eaed1a6-8195-7bc2-b4e6-624cdffa2efc</td>\n",
       "      <td>AnicetodelaPuente_PAC</td>\n",
       "      <td>Aniceto</td>\n",
       "      <td>de la Puente Llanos</td>\n",
       "    </tr>\n",
       "    <tr>\n",
       "      <th>...</th>\n",
       "      <td>...</td>\n",
       "      <td>...</td>\n",
       "      <td>...</td>\n",
       "      <td>...</td>\n",
       "    </tr>\n",
       "    <tr>\n",
       "      <th>1175</th>\n",
       "      <td>ac9a1d6d-1d1c-bb28-47a7-5c4f647f3f8e</td>\n",
       "      <td>andrea</td>\n",
       "      <td>Andrea</td>\n",
       "      <td>Gardeazabal</td>\n",
       "    </tr>\n",
       "    <tr>\n",
       "      <th>685</th>\n",
       "      <td>6bf1af1b-d5c6-55e1-33de-5c4f63226930</td>\n",
       "      <td>tecnicobimbo2</td>\n",
       "      <td>tecnicobimbo2</td>\n",
       "      <td>BIMBO</td>\n",
       "    </tr>\n",
       "    <tr>\n",
       "      <th>1065</th>\n",
       "      <td>9b9395fa-cfeb-827e-9602-5c51c248d6fd</td>\n",
       "      <td>tecnicobimbo2</td>\n",
       "      <td>Emilio Fonseca</td>\n",
       "      <td>tecnicobimbo2</td>\n",
       "    </tr>\n",
       "    <tr>\n",
       "      <th>1248</th>\n",
       "      <td>b71537ac-4695-52db-f2ec-6164c44f1678</td>\n",
       "      <td>NaN</td>\n",
       "      <td>NaN</td>\n",
       "      <td>NaN</td>\n",
       "    </tr>\n",
       "    <tr>\n",
       "      <th>1499</th>\n",
       "      <td>dadf687d-9347-2565-3ed5-5e73d58ab344</td>\n",
       "      <td>NaN</td>\n",
       "      <td>NaN</td>\n",
       "      <td>NaN</td>\n",
       "    </tr>\n",
       "  </tbody>\n",
       "</table>\n",
       "<p>116 rows × 4 columns</p>\n",
       "</div>"
      ],
      "text/plain": [
       "                                        id              user_name  \\\n",
       "283   3b737a8c-2e9b-bd3d-e8c7-624ce524e2a7        AdrianPerez_PAC   \n",
       "1745      users-2022-0406-0743-RewRZ-h2AwA        AdrianPerez_PAC   \n",
       "342   41b0e517-4e24-942c-e049-624ce5646174          AngelCota_PAC   \n",
       "1747      users-2022-0406-0744-Qe9Db-EZ1YI          AngelCota_PAC   \n",
       "199   2eaed1a6-8195-7bc2-b4e6-624cdffa2efc  AnicetodelaPuente_PAC   \n",
       "...                                    ...                    ...   \n",
       "1175  ac9a1d6d-1d1c-bb28-47a7-5c4f647f3f8e                 andrea   \n",
       "685   6bf1af1b-d5c6-55e1-33de-5c4f63226930          tecnicobimbo2   \n",
       "1065  9b9395fa-cfeb-827e-9602-5c51c248d6fd          tecnicobimbo2   \n",
       "1248  b71537ac-4695-52db-f2ec-6164c44f1678                    NaN   \n",
       "1499  dadf687d-9347-2565-3ed5-5e73d58ab344                    NaN   \n",
       "\n",
       "           first_name            last_name  \n",
       "283            Adrian     Perez Villarreal  \n",
       "1745           Adrian     Perez Villarreal  \n",
       "342   Angel Guadalupe          Cota Corral  \n",
       "1747  Angel Guadalupe          Cota Corral  \n",
       "199           Aniceto  de la Puente Llanos  \n",
       "...               ...                  ...  \n",
       "1175           Andrea          Gardeazabal  \n",
       "685     tecnicobimbo2                BIMBO  \n",
       "1065   Emilio Fonseca        tecnicobimbo2  \n",
       "1248              NaN                  NaN  \n",
       "1499              NaN                  NaN  \n",
       "\n",
       "[116 rows x 4 columns]"
      ]
     },
     "execution_count": 54,
     "metadata": {},
     "output_type": "execute_result"
    }
   ],
   "source": [
    "tabla_usuarios[tabla_usuarios['user_name'].duplicated(keep=False)].sort_values(by='user_name')"
   ]
  },
  {
   "cell_type": "code",
   "execution_count": null,
   "metadata": {},
   "outputs": [],
   "source": [
    "# tabla_usuarios.info()"
   ]
  },
  {
   "cell_type": "code",
   "execution_count": 24,
   "metadata": {},
   "outputs": [
    {
     "data": {
      "text/html": [
       "<div>\n",
       "<style scoped>\n",
       "    .dataframe tbody tr th:only-of-type {\n",
       "        vertical-align: middle;\n",
       "    }\n",
       "\n",
       "    .dataframe tbody tr th {\n",
       "        vertical-align: top;\n",
       "    }\n",
       "\n",
       "    .dataframe thead th {\n",
       "        text-align: right;\n",
       "    }\n",
       "</style>\n",
       "<table border=\"1\" class=\"dataframe\">\n",
       "  <thead>\n",
       "    <tr style=\"text-align: right;\">\n",
       "      <th></th>\n",
       "      <th>id</th>\n",
       "      <th>user_name</th>\n",
       "      <th>first_name</th>\n",
       "      <th>last_name</th>\n",
       "    </tr>\n",
       "  </thead>\n",
       "  <tbody>\n",
       "    <tr>\n",
       "      <th>0</th>\n",
       "      <td>1</td>\n",
       "      <td>admin</td>\n",
       "      <td>NaN</td>\n",
       "      <td>Administrator</td>\n",
       "    </tr>\n",
       "    <tr>\n",
       "      <th>1</th>\n",
       "      <td>100b8d8d-1205-0735-765f-5e61830f8862</td>\n",
       "      <td>JesusAlarcon_Prodeter_Pcto</td>\n",
       "      <td>Jesus</td>\n",
       "      <td>Alarcón Alarcón</td>\n",
       "    </tr>\n",
       "  </tbody>\n",
       "</table>\n",
       "</div>"
      ],
      "text/plain": [
       "                                     id                   user_name  \\\n",
       "0                                     1                       admin   \n",
       "1  100b8d8d-1205-0735-765f-5e61830f8862  JesusAlarcon_Prodeter_Pcto   \n",
       "\n",
       "  first_name        last_name  \n",
       "0        NaN    Administrator  \n",
       "1     Jesus   Alarcón Alarcón  "
      ]
     },
     "execution_count": 24,
     "metadata": {},
     "output_type": "execute_result"
    }
   ],
   "source": [
    "tabla_usuarios.head(2)"
   ]
  },
  {
   "cell_type": "code",
   "execution_count": 25,
   "metadata": {},
   "outputs": [
    {
     "data": {
      "text/plain": [
       "(2353, 4)"
      ]
     },
     "execution_count": 25,
     "metadata": {},
     "output_type": "execute_result"
    }
   ],
   "source": [
    "tabla_usuarios.shape"
   ]
  },
  {
   "cell_type": "code",
   "execution_count": 26,
   "metadata": {},
   "outputs": [
    {
     "data": {
      "text/plain": [
       "2285"
      ]
     },
     "execution_count": 26,
     "metadata": {},
     "output_type": "execute_result"
    }
   ],
   "source": [
    "tabla_usuarios.user_name.nunique()"
   ]
  },
  {
   "cell_type": "code",
   "execution_count": 27,
   "metadata": {},
   "outputs": [],
   "source": [
    "# tabla_usuarios.drop_duplicates(subset='user_name',inplace=True)"
   ]
  },
  {
   "cell_type": "code",
   "execution_count": 28,
   "metadata": {},
   "outputs": [
    {
     "data": {
      "text/plain": [
       "(2286, 4)"
      ]
     },
     "execution_count": 28,
     "metadata": {},
     "output_type": "execute_result"
    }
   ],
   "source": [
    "tabla_usuarios.shape"
   ]
  },
  {
   "cell_type": "code",
   "execution_count": 29,
   "metadata": {},
   "outputs": [],
   "source": [
    "tecnicos_accounts = tecnicos_accounts.merge(tabla_usuarios,how='left',left_on='Bitacora.registrada.por',right_on='user_name')"
   ]
  },
  {
   "cell_type": "code",
   "execution_count": 30,
   "metadata": {},
   "outputs": [
    {
     "data": {
      "text/plain": [
       "(241, 6)"
      ]
     },
     "execution_count": 30,
     "metadata": {},
     "output_type": "execute_result"
    }
   ],
   "source": [
    "tecnicos_accounts.shape\n",
    "#241"
   ]
  },
  {
   "cell_type": "code",
   "execution_count": 31,
   "metadata": {},
   "outputs": [],
   "source": [
    "tecnicos_accounts['full_name_tec'] = tecnicos_accounts['first_name'] +' '+ tecnicos_accounts['last_name']"
   ]
  },
  {
   "cell_type": "code",
   "execution_count": 32,
   "metadata": {},
   "outputs": [],
   "source": [
    "tecnicos_accounts['NOMBRE DEL USUARIO']=tecnicos_accounts['NOMBRE DEL USUARIO'].where(tecnicos_accounts['NOMBRE DEL USUARIO'].notna(),tecnicos_accounts['full_name_tec'] )"
   ]
  },
  {
   "cell_type": "code",
   "execution_count": 33,
   "metadata": {},
   "outputs": [
    {
     "data": {
      "text/plain": [
       "241"
      ]
     },
     "execution_count": 33,
     "metadata": {},
     "output_type": "execute_result"
    }
   ],
   "source": [
    "tecnicos_accounts['id'].nunique()"
   ]
  },
  {
   "cell_type": "code",
   "execution_count": 34,
   "metadata": {},
   "outputs": [
    {
     "data": {
      "text/plain": [
       "239"
      ]
     },
     "execution_count": 34,
     "metadata": {},
     "output_type": "execute_result"
    }
   ],
   "source": [
    "tecnicos_accounts['NOMBRE DEL USUARIO'].nunique()"
   ]
  },
  {
   "cell_type": "code",
   "execution_count": 35,
   "metadata": {},
   "outputs": [],
   "source": [
    "tecnicos_accounts.drop_duplicates(subset='NOMBRE DEL USUARIO',inplace=True)"
   ]
  },
  {
   "cell_type": "code",
   "execution_count": 36,
   "metadata": {},
   "outputs": [
    {
     "data": {
      "text/plain": [
       "(239, 7)"
      ]
     },
     "execution_count": 36,
     "metadata": {},
     "output_type": "execute_result"
    }
   ],
   "source": [
    "tecnicos_accounts.shape\n",
    "# 238"
   ]
  },
  {
   "cell_type": "code",
   "execution_count": null,
   "metadata": {},
   "outputs": [],
   "source": [
    "# tecnicos_accounts[tecnicos_accounts['NOMBRE DEL USUARIO'].duplicated(keep=False)]"
   ]
  },
  {
   "cell_type": "code",
   "execution_count": 37,
   "metadata": {},
   "outputs": [
    {
     "name": "stdout",
     "output_type": "stream",
     "text": [
      "<class 'pandas.core.frame.DataFrame'>\n",
      "Index: 200 entries, 0 to 205\n",
      "Data columns (total 5 columns):\n",
      " #   Column               Non-Null Count  Dtype \n",
      "---  ------               --------------  ----- \n",
      " 0   Nombre del formador  200 non-null    object\n",
      " 1   Región de atención   200 non-null    object\n",
      " 2   Programa             200 non-null    object\n",
      " 3   Nombre del técnico   200 non-null    object\n",
      " 4   Municipio            199 non-null    object\n",
      "dtypes: object(5)\n",
      "memory usage: 9.4+ KB\n"
     ]
    }
   ],
   "source": [
    "relacion_tecnicos.info()"
   ]
  },
  {
   "cell_type": "code",
   "execution_count": 38,
   "metadata": {},
   "outputs": [],
   "source": [
    "#relacionamos los nombres de usuarios con el nombre de tecnico y el programa\n",
    "programa = tecnicos_accounts.merge(relacion_tecnicos[['Nombre del técnico','Programa','Región de atención']],left_on='NOMBRE DEL USUARIO',right_on='Nombre del técnico',how='left')"
   ]
  },
  {
   "cell_type": "code",
   "execution_count": 39,
   "metadata": {},
   "outputs": [
    {
     "name": "stdout",
     "output_type": "stream",
     "text": [
      "<class 'pandas.core.frame.DataFrame'>\n",
      "RangeIndex: 239 entries, 0 to 238\n",
      "Data columns (total 10 columns):\n",
      " #   Column                   Non-Null Count  Dtype \n",
      "---  ------                   --------------  ----- \n",
      " 0   Bitacora.registrada.por  239 non-null    object\n",
      " 1   NOMBRE DEL USUARIO       239 non-null    object\n",
      " 2   id                       239 non-null    object\n",
      " 3   user_name                239 non-null    object\n",
      " 4   first_name               239 non-null    object\n",
      " 5   last_name                239 non-null    object\n",
      " 6   full_name_tec            239 non-null    object\n",
      " 7   Nombre del técnico       175 non-null    object\n",
      " 8   Programa                 175 non-null    object\n",
      " 9   Región de atención       175 non-null    object\n",
      "dtypes: object(10)\n",
      "memory usage: 18.8+ KB\n"
     ]
    }
   ],
   "source": [
    "programa.info()"
   ]
  },
  {
   "cell_type": "code",
   "execution_count": 40,
   "metadata": {},
   "outputs": [],
   "source": [
    "programa.to_csv('relacion_tecnicos_programa_eagrology.csv',index=False,encoding='1252')"
   ]
  },
  {
   "cell_type": "markdown",
   "metadata": {},
   "source": [
    "### Eventos"
   ]
  },
  {
   "cell_type": "code",
   "execution_count": null,
   "metadata": {},
   "outputs": [],
   "source": [
    "eventos= pd.read_csv('../data/Eventos_SEFADER_08Octubre2024.csv')"
   ]
  },
  {
   "cell_type": "code",
   "execution_count": null,
   "metadata": {},
   "outputs": [],
   "source": [
    "eventos.info()"
   ]
  },
  {
   "cell_type": "code",
   "execution_count": null,
   "metadata": {},
   "outputs": [],
   "source": [
    "eve=eventos.merge(programa[['Bitacora.registrada.por','Programa','Región de atención']],left_on='Creado por Usuario',right_on='Bitacora.registrada.por',how='left')"
   ]
  },
  {
   "cell_type": "code",
   "execution_count": null,
   "metadata": {},
   "outputs": [],
   "source": [
    "eve.info()"
   ]
  },
  {
   "cell_type": "code",
   "execution_count": null,
   "metadata": {},
   "outputs": [],
   "source": [
    "import numpy as np"
   ]
  },
  {
   "cell_type": "code",
   "execution_count": null,
   "metadata": {},
   "outputs": [],
   "source": [
    "eve['Tipo de evento de capacitación'][0]"
   ]
  },
  {
   "cell_type": "code",
   "execution_count": null,
   "metadata": {},
   "outputs": [],
   "source": [
    "eve.replace('(null)',np.nan,inplace=True)"
   ]
  },
  {
   "cell_type": "code",
   "execution_count": null,
   "metadata": {},
   "outputs": [],
   "source": [
    "eve"
   ]
  },
  {
   "cell_type": "code",
   "execution_count": null,
   "metadata": {},
   "outputs": [],
   "source": [
    "eve.isnull().sum()"
   ]
  },
  {
   "cell_type": "code",
   "execution_count": null,
   "metadata": {},
   "outputs": [],
   "source": [
    "eve['Evento dirigido a'].unique()"
   ]
  },
  {
   "cell_type": "code",
   "execution_count": null,
   "metadata": {},
   "outputs": [],
   "source": [
    "eve['Total de personas capacitadas'].sum()"
   ]
  },
  {
   "cell_type": "code",
   "execution_count": null,
   "metadata": {},
   "outputs": [],
   "source": [
    "eve['tipo_cap_com'] = eve['Tipo de evento de capacitación'].combine_first(eve['Tipo de evento de comunicacion/difusion'])"
   ]
  },
  {
   "cell_type": "code",
   "execution_count": null,
   "metadata": {},
   "outputs": [],
   "source": [
    "eve['tipo_cap_com'].isnull().sum()"
   ]
  },
  {
   "cell_type": "code",
   "execution_count": null,
   "metadata": {},
   "outputs": [],
   "source": [
    "eve['tipo_cap_com'].hist()"
   ]
  },
  {
   "cell_type": "code",
   "execution_count": null,
   "metadata": {},
   "outputs": [],
   "source": []
  },
  {
   "cell_type": "code",
   "execution_count": null,
   "metadata": {},
   "outputs": [],
   "source": [
    "eve.Id_ReporteDeEvento.nunique() "
   ]
  },
  {
   "cell_type": "code",
   "execution_count": null,
   "metadata": {},
   "outputs": [],
   "source": [
    "eve['Programa'].isnull().sum()"
   ]
  },
  {
   "cell_type": "code",
   "execution_count": null,
   "metadata": {},
   "outputs": [],
   "source": [
    "eve['Región de atención'].fillna('Sin Identificar',inplace=True)"
   ]
  },
  {
   "cell_type": "code",
   "execution_count": null,
   "metadata": {},
   "outputs": [],
   "source": []
  },
  {
   "cell_type": "code",
   "execution_count": null,
   "metadata": {},
   "outputs": [],
   "source": [
    "eve['Programa'].fillna('Sin Identificar',inplace=True)"
   ]
  },
  {
   "cell_type": "code",
   "execution_count": null,
   "metadata": {},
   "outputs": [],
   "source": [
    "eve['Programa'].hist()"
   ]
  },
  {
   "cell_type": "code",
   "execution_count": null,
   "metadata": {},
   "outputs": [],
   "source": [
    "eve['Categoria del evento'].hist()"
   ]
  },
  {
   "cell_type": "code",
   "execution_count": null,
   "metadata": {},
   "outputs": [],
   "source": [
    "eve['Categoria del evento'].hist()"
   ]
  },
  {
   "cell_type": "code",
   "execution_count": null,
   "metadata": {},
   "outputs": [],
   "source": [
    "eve['Categoria del evento'].unique()"
   ]
  },
  {
   "cell_type": "code",
   "execution_count": null,
   "metadata": {},
   "outputs": [],
   "source": [
    "# para la siguiente actualizacion\n",
    "eve['Temas tratados / Tecnologias promovidas'].unique()"
   ]
  },
  {
   "cell_type": "code",
   "execution_count": null,
   "metadata": {},
   "outputs": [],
   "source": [
    "import re"
   ]
  },
  {
   "cell_type": "code",
   "execution_count": null,
   "metadata": {},
   "outputs": [],
   "source": [
    "def replace_chracter(x):\n",
    "    text = re.sub('_',' ',x).title()\n",
    "    return text"
   ]
  },
  {
   "cell_type": "code",
   "execution_count": null,
   "metadata": {},
   "outputs": [],
   "source": [
    "eve['tipo_cap_com'] = eve['tipo_cap_com'].apply(replace_chracter)"
   ]
  },
  {
   "cell_type": "code",
   "execution_count": null,
   "metadata": {},
   "outputs": [],
   "source": [
    "eve['Categoria del evento'] = eve['Categoria del evento'].apply(replace_chracter)"
   ]
  },
  {
   "cell_type": "code",
   "execution_count": null,
   "metadata": {},
   "outputs": [],
   "source": [
    "eve.to_csv('../data/eventos_corte_sept.csv')"
   ]
  }
 ],
 "metadata": {
  "kernelspec": {
   "display_name": "venv",
   "language": "python",
   "name": "python3"
  },
  "language_info": {
   "codemirror_mode": {
    "name": "ipython",
    "version": 3
   },
   "file_extension": ".py",
   "mimetype": "text/x-python",
   "name": "python",
   "nbconvert_exporter": "python",
   "pygments_lexer": "ipython3",
   "version": "3.10.12"
  }
 },
 "nbformat": 4,
 "nbformat_minor": 2
}
